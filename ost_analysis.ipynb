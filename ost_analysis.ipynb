{
 "cells": [
  {
   "cell_type": "code",
   "execution_count": 2,
   "metadata": {
    "scrolled": false
   },
   "outputs": [
    {
     "data": {
      "text/html": [
       "        <script type=\"text/javascript\">\n",
       "        window.PlotlyConfig = {MathJaxConfig: 'local'};\n",
       "        if (window.MathJax) {MathJax.Hub.Config({SVG: {font: \"STIX-Web\"}});}\n",
       "        if (typeof require !== 'undefined') {\n",
       "        require.undef(\"plotly\");\n",
       "        requirejs.config({\n",
       "            paths: {\n",
       "                'plotly': ['https://cdn.plot.ly/plotly-2.4.2.min']\n",
       "            }\n",
       "        });\n",
       "        require(['plotly'], function(Plotly) {\n",
       "            window._Plotly = Plotly;\n",
       "        });\n",
       "        }\n",
       "        </script>\n",
       "        "
      ]
     },
     "metadata": {},
     "output_type": "display_data"
    },
    {
     "data": {
      "text/plain": [
       "NREL                           22\n",
       "ropensci                       20\n",
       "oemof                           7\n",
       "USEPA                           6\n",
       "PyPSA                           6\n",
       "                               ..\n",
       "MetOffice                       1\n",
       "umr-amap                        1\n",
       "com-pas                         1\n",
       "santiago-sanitation-systems     1\n",
       "APA-Technology-Division         1\n",
       "Name: organization_user_name, Length: 467, dtype: int64"
      ]
     },
     "execution_count": 1,
     "metadata": {},
     "output_type": "execute_result"
    }
   ],
   "source": [
    "# Calculate the score \n",
    "from IPython.core.interactiveshell import InteractiveShell\n",
    "InteractiveShell.ast_node_interactivity = \"all\"\n",
    "import plotly.offline as pyo\n",
    "# Set notebook mode to work in offline\n",
    "pyo.init_notebook_mode()\n",
    "\n",
    "import pandas as pd\n",
    "df = pd.read_csv('./csv/projects.csv')\n",
    "df['project_name'].count()\n",
    "df['git_url'].count()\n",
    "df['project_age_in_days'].median()\n",
    "df['total_number_of_commits'].median()\n",
    "df['stargazers_count'].median()\n",
    "df['stars_last_year'].median()\n",
    "df['community_development_distribution_score'].median()\n",
    "df['closed_issues'].median()\n",
    "df['issues_closed_last_year'].median()\n",
    "df['reviews_per_pr'].median()\n",
    "df['contributors'].median()\n",
    "df['total_commits_last_year'].median()\n",
    "\n",
    "github_projects = df['platform'] == 'github'\n",
    "github_projects.value_counts()\n",
    "df['platform'].value_counts()\n",
    "df['project_active'].value_counts()\n",
    "df['dominating_language'].value_counts()\n",
    "df['organization_name'].value_counts()\n",
    "df = df[(df['project_active'] == True)]\n",
    "df['organization_user_name'].value_counts()"
   ]
  },
  {
   "cell_type": "code",
   "execution_count": 3,
   "metadata": {
    "scrolled": false
   },
   "outputs": [
    {
     "data": {
      "text/html": [
       "<div>\n",
       "<style scoped>\n",
       "    .dataframe tbody tr th:only-of-type {\n",
       "        vertical-align: middle;\n",
       "    }\n",
       "\n",
       "    .dataframe tbody tr th {\n",
       "        vertical-align: top;\n",
       "    }\n",
       "\n",
       "    .dataframe thead th {\n",
       "        text-align: right;\n",
       "    }\n",
       "</style>\n",
       "<table border=\"1\" class=\"dataframe\">\n",
       "  <thead>\n",
       "    <tr style=\"text-align: right;\">\n",
       "      <th></th>\n",
       "      <th>project_name</th>\n",
       "      <th>oneliner</th>\n",
       "      <th>git_namespace</th>\n",
       "      <th>git_url</th>\n",
       "      <th>platform</th>\n",
       "      <th>topics</th>\n",
       "      <th>rubric</th>\n",
       "      <th>last_commit_date</th>\n",
       "      <th>stargazers_count</th>\n",
       "      <th>number_of_dependents</th>\n",
       "      <th>...</th>\n",
       "      <th>organization_country</th>\n",
       "      <th>organization_form</th>\n",
       "      <th>organization_avatar</th>\n",
       "      <th>organization_public_repos</th>\n",
       "      <th>organization_created</th>\n",
       "      <th>organization_last_update</th>\n",
       "      <th>activity</th>\n",
       "      <th>community</th>\n",
       "      <th>size</th>\n",
       "      <th>total_score</th>\n",
       "    </tr>\n",
       "  </thead>\n",
       "  <tbody>\n",
       "    <tr>\n",
       "      <th>0</th>\n",
       "      <td>pvlib-python</td>\n",
       "      <td>A set of documented functions for simulating t...</td>\n",
       "      <td>pvlib</td>\n",
       "      <td>https://github.com/pvlib/pvlib-python.git</td>\n",
       "      <td>github</td>\n",
       "      <td>solar-energy,python,renewable-energy,renewable...</td>\n",
       "      <td>Photovoltaics and Solar Energy</td>\n",
       "      <td>2022/08/12, 18:04:35</td>\n",
       "      <td>714.0</td>\n",
       "      <td>257.0</td>\n",
       "      <td>...</td>\n",
       "      <td>NaN</td>\n",
       "      <td>NaN</td>\n",
       "      <td>https://avatars.githubusercontent.com/u/110372...</td>\n",
       "      <td>NaN</td>\n",
       "      <td>NaN</td>\n",
       "      <td>NaN</td>\n",
       "      <td>2.096996</td>\n",
       "      <td>2.511890</td>\n",
       "      <td>3.520651</td>\n",
       "      <td>0.795517</td>\n",
       "    </tr>\n",
       "    <tr>\n",
       "      <th>1</th>\n",
       "      <td>pvfactors</td>\n",
       "      <td>Open source view-factor model for diffuse shad...</td>\n",
       "      <td>SunPower</td>\n",
       "      <td>https://github.com/SunPower/pvfactors.git</td>\n",
       "      <td>github</td>\n",
       "      <td>solar-energy,renewable-energy,python,bifacial</td>\n",
       "      <td>Photovoltaics and Solar Energy</td>\n",
       "      <td>2022/02/22, 21:53:32</td>\n",
       "      <td>60.0</td>\n",
       "      <td>8.0</td>\n",
       "      <td>...</td>\n",
       "      <td>NaN</td>\n",
       "      <td>NaN</td>\n",
       "      <td>https://avatars.githubusercontent.com/u/134197...</td>\n",
       "      <td>NaN</td>\n",
       "      <td>NaN</td>\n",
       "      <td>NaN</td>\n",
       "      <td>1.967459</td>\n",
       "      <td>1.522528</td>\n",
       "      <td>1.501252</td>\n",
       "      <td>0.501725</td>\n",
       "    </tr>\n",
       "    <tr>\n",
       "      <th>3</th>\n",
       "      <td>PVMismatch</td>\n",
       "      <td>An explicit Python PV system IV &amp; PV curve tra...</td>\n",
       "      <td>SunPower</td>\n",
       "      <td>https://github.com/SunPower/PVMismatch.git</td>\n",
       "      <td>github</td>\n",
       "      <td>numpy,scipy,python,solar,photovoltaic</td>\n",
       "      <td>Photovoltaics and Solar Energy</td>\n",
       "      <td>2022/04/14, 19:15:36</td>\n",
       "      <td>51.0</td>\n",
       "      <td>0.0</td>\n",
       "      <td>...</td>\n",
       "      <td>NaN</td>\n",
       "      <td>NaN</td>\n",
       "      <td>https://avatars.githubusercontent.com/u/134197...</td>\n",
       "      <td>NaN</td>\n",
       "      <td>NaN</td>\n",
       "      <td>NaN</td>\n",
       "      <td>1.095119</td>\n",
       "      <td>1.735294</td>\n",
       "      <td>1.712766</td>\n",
       "      <td>0.452740</td>\n",
       "    </tr>\n",
       "    <tr>\n",
       "      <th>4</th>\n",
       "      <td>rdtools</td>\n",
       "      <td>An open source library to support reproducible...</td>\n",
       "      <td>NREL</td>\n",
       "      <td>https://github.com/NREL/rdtools.git</td>\n",
       "      <td>github</td>\n",
       "      <td>NaN</td>\n",
       "      <td>Photovoltaics and Solar Energy</td>\n",
       "      <td>2022/07/01, 21:13:13</td>\n",
       "      <td>109.0</td>\n",
       "      <td>5.0</td>\n",
       "      <td>...</td>\n",
       "      <td>NaN</td>\n",
       "      <td>NaN</td>\n",
       "      <td>https://avatars.githubusercontent.com/u/190680...</td>\n",
       "      <td>NaN</td>\n",
       "      <td>NaN</td>\n",
       "      <td>NaN</td>\n",
       "      <td>2.108886</td>\n",
       "      <td>2.063204</td>\n",
       "      <td>2.523154</td>\n",
       "      <td>0.662800</td>\n",
       "    </tr>\n",
       "    <tr>\n",
       "      <th>7</th>\n",
       "      <td>feedinlib</td>\n",
       "      <td>Contains implementations of photovoltaic model...</td>\n",
       "      <td>oemof</td>\n",
       "      <td>https://github.com/oemof/feedinlib.git</td>\n",
       "      <td>github</td>\n",
       "      <td>NaN</td>\n",
       "      <td>Photovoltaics and Solar Energy</td>\n",
       "      <td>2022/08/03, 17:03:08</td>\n",
       "      <td>70.0</td>\n",
       "      <td>10.0</td>\n",
       "      <td>...</td>\n",
       "      <td>NaN</td>\n",
       "      <td>NaN</td>\n",
       "      <td>https://avatars.githubusercontent.com/u/850337...</td>\n",
       "      <td>NaN</td>\n",
       "      <td>NaN</td>\n",
       "      <td>NaN</td>\n",
       "      <td>1.439925</td>\n",
       "      <td>2.194618</td>\n",
       "      <td>1.570713</td>\n",
       "      <td>0.528561</td>\n",
       "    </tr>\n",
       "    <tr>\n",
       "      <th>8</th>\n",
       "      <td>photovoltaic</td>\n",
       "      <td>A Python library used in photovoltaics.</td>\n",
       "      <td>pvedu</td>\n",
       "      <td>https://github.com/pvedu/photovoltaic.git</td>\n",
       "      <td>github</td>\n",
       "      <td>NaN</td>\n",
       "      <td>Photovoltaics and Solar Energy</td>\n",
       "      <td>2022/04/25, 22:48:39</td>\n",
       "      <td>41.0</td>\n",
       "      <td>1.0</td>\n",
       "      <td>...</td>\n",
       "      <td>NaN</td>\n",
       "      <td>NaN</td>\n",
       "      <td>NaN</td>\n",
       "      <td>NaN</td>\n",
       "      <td>NaN</td>\n",
       "      <td>NaN</td>\n",
       "      <td>1.016896</td>\n",
       "      <td>0.833542</td>\n",
       "      <td>0.344180</td>\n",
       "      <td>0.228523</td>\n",
       "    </tr>\n",
       "    <tr>\n",
       "      <th>11</th>\n",
       "      <td>SolarPILOT</td>\n",
       "      <td>Solar power tower layout and optimization tool.</td>\n",
       "      <td>NREL</td>\n",
       "      <td>https://github.com/NREL/SolarPILOT.git</td>\n",
       "      <td>github</td>\n",
       "      <td>NaN</td>\n",
       "      <td>Photovoltaics and Solar Energy</td>\n",
       "      <td>2022/08/08, 21:06:33</td>\n",
       "      <td>26.0</td>\n",
       "      <td>0.0</td>\n",
       "      <td>...</td>\n",
       "      <td>NaN</td>\n",
       "      <td>NaN</td>\n",
       "      <td>https://avatars.githubusercontent.com/u/190680...</td>\n",
       "      <td>NaN</td>\n",
       "      <td>NaN</td>\n",
       "      <td>NaN</td>\n",
       "      <td>0.944305</td>\n",
       "      <td>0.469962</td>\n",
       "      <td>1.152691</td>\n",
       "      <td>0.247463</td>\n",
       "    </tr>\n",
       "    <tr>\n",
       "      <th>12</th>\n",
       "      <td>solar-data-tools</td>\n",
       "      <td>Data analysis tools for working with historica...</td>\n",
       "      <td>slacgismo</td>\n",
       "      <td>https://github.com/slacgismo/solar-data-tools.git</td>\n",
       "      <td>github</td>\n",
       "      <td>NaN</td>\n",
       "      <td>Photovoltaics and Solar Energy</td>\n",
       "      <td>2022/08/04, 20:46:41</td>\n",
       "      <td>27.0</td>\n",
       "      <td>6.0</td>\n",
       "      <td>...</td>\n",
       "      <td>NaN</td>\n",
       "      <td>NaN</td>\n",
       "      <td>https://avatars.githubusercontent.com/u/198955...</td>\n",
       "      <td>NaN</td>\n",
       "      <td>NaN</td>\n",
       "      <td>NaN</td>\n",
       "      <td>2.556320</td>\n",
       "      <td>1.668961</td>\n",
       "      <td>1.958698</td>\n",
       "      <td>0.617662</td>\n",
       "    </tr>\n",
       "    <tr>\n",
       "      <th>13</th>\n",
       "      <td>SolarPV-DER-simulation-utility</td>\n",
       "      <td>Allows user to run dynamics simulations for so...</td>\n",
       "      <td>tdcosim</td>\n",
       "      <td>https://github.com/tdcosim/SolarPV-DER-simulat...</td>\n",
       "      <td>github</td>\n",
       "      <td>NaN</td>\n",
       "      <td>Photovoltaics and Solar Energy</td>\n",
       "      <td>2022/04/28, 17:07:57</td>\n",
       "      <td>24.0</td>\n",
       "      <td>1.0</td>\n",
       "      <td>...</td>\n",
       "      <td>NaN</td>\n",
       "      <td>NaN</td>\n",
       "      <td>https://avatars.githubusercontent.com/u/520033...</td>\n",
       "      <td>NaN</td>\n",
       "      <td>NaN</td>\n",
       "      <td>NaN</td>\n",
       "      <td>1.409887</td>\n",
       "      <td>0.372340</td>\n",
       "      <td>0.809762</td>\n",
       "      <td>0.256194</td>\n",
       "    </tr>\n",
       "    <tr>\n",
       "      <th>14</th>\n",
       "      <td>bifacial_radiance</td>\n",
       "      <td>Toolkit for working with RADIANCE for the ray-...</td>\n",
       "      <td>NREL</td>\n",
       "      <td>https://github.com/NREL/bifacial_radiance.git</td>\n",
       "      <td>github</td>\n",
       "      <td>radiance,bifacial,photovoltaics,renewable-ener...</td>\n",
       "      <td>Photovoltaics and Solar Energy</td>\n",
       "      <td>2022/04/22, 22:20:00</td>\n",
       "      <td>58.0</td>\n",
       "      <td>0.0</td>\n",
       "      <td>...</td>\n",
       "      <td>NaN</td>\n",
       "      <td>NaN</td>\n",
       "      <td>https://avatars.githubusercontent.com/u/190680...</td>\n",
       "      <td>NaN</td>\n",
       "      <td>NaN</td>\n",
       "      <td>NaN</td>\n",
       "      <td>2.724030</td>\n",
       "      <td>1.305382</td>\n",
       "      <td>2.677722</td>\n",
       "      <td>0.654103</td>\n",
       "    </tr>\n",
       "    <tr>\n",
       "      <th>17</th>\n",
       "      <td>solcore5</td>\n",
       "      <td>A multi-scale, Python-based library for the mo...</td>\n",
       "      <td>qpv-research-group</td>\n",
       "      <td>https://github.com/qpv-research-group/solcore5...</td>\n",
       "      <td>github</td>\n",
       "      <td>photovoltaic,semiconductor,solar-cells,python,...</td>\n",
       "      <td>Photovoltaics and Solar Energy</td>\n",
       "      <td>2022/06/01, 01:44:00</td>\n",
       "      <td>83.0</td>\n",
       "      <td>3.0</td>\n",
       "      <td>...</td>\n",
       "      <td>NaN</td>\n",
       "      <td>NaN</td>\n",
       "      <td>https://avatars.githubusercontent.com/u/485529...</td>\n",
       "      <td>NaN</td>\n",
       "      <td>NaN</td>\n",
       "      <td>NaN</td>\n",
       "      <td>2.546934</td>\n",
       "      <td>2.438048</td>\n",
       "      <td>2.590738</td>\n",
       "      <td>0.756284</td>\n",
       "    </tr>\n",
       "    <tr>\n",
       "      <th>18</th>\n",
       "      <td>solax</td>\n",
       "      <td>Read energy usage data from the real-time API ...</td>\n",
       "      <td>squishykid</td>\n",
       "      <td>https://github.com/squishykid/solax.git</td>\n",
       "      <td>github</td>\n",
       "      <td>solax,solar,photovoltaic,home-automation,iot,r...</td>\n",
       "      <td>Photovoltaics and Solar Energy</td>\n",
       "      <td>2022/07/31, 11:09:25</td>\n",
       "      <td>40.0</td>\n",
       "      <td>184.0</td>\n",
       "      <td>...</td>\n",
       "      <td>NaN</td>\n",
       "      <td>NaN</td>\n",
       "      <td>NaN</td>\n",
       "      <td>NaN</td>\n",
       "      <td>NaN</td>\n",
       "      <td>NaN</td>\n",
       "      <td>1.941176</td>\n",
       "      <td>1.567584</td>\n",
       "      <td>1.263454</td>\n",
       "      <td>0.484219</td>\n",
       "    </tr>\n",
       "    <tr>\n",
       "      <th>19</th>\n",
       "      <td>bifacialvf</td>\n",
       "      <td>Bifacial PV View Factor model for system perfo...</td>\n",
       "      <td>NREL</td>\n",
       "      <td>https://github.com/NREL/bifacialvf.git</td>\n",
       "      <td>github</td>\n",
       "      <td>NaN</td>\n",
       "      <td>Photovoltaics and Solar Energy</td>\n",
       "      <td>2022/03/18, 19:09:32</td>\n",
       "      <td>17.0</td>\n",
       "      <td>0.0</td>\n",
       "      <td>...</td>\n",
       "      <td>NaN</td>\n",
       "      <td>NaN</td>\n",
       "      <td>https://avatars.githubusercontent.com/u/190680...</td>\n",
       "      <td>NaN</td>\n",
       "      <td>NaN</td>\n",
       "      <td>NaN</td>\n",
       "      <td>2.167084</td>\n",
       "      <td>1.244055</td>\n",
       "      <td>1.088235</td>\n",
       "      <td>0.456546</td>\n",
       "    </tr>\n",
       "    <tr>\n",
       "      <th>21</th>\n",
       "      <td>SolarTherm</td>\n",
       "      <td>Solar thermal power/fuel station performance s...</td>\n",
       "      <td>SolarTherm</td>\n",
       "      <td>https://github.com/SolarTherm/SolarTherm.git</td>\n",
       "      <td>github</td>\n",
       "      <td>engineering,energy,solar,thermodynamics,optimi...</td>\n",
       "      <td>Photovoltaics and Solar Energy</td>\n",
       "      <td>2022/02/06, 11:14:27</td>\n",
       "      <td>26.0</td>\n",
       "      <td>0.0</td>\n",
       "      <td>...</td>\n",
       "      <td>NaN</td>\n",
       "      <td>NaN</td>\n",
       "      <td>https://avatars.githubusercontent.com/u/157012...</td>\n",
       "      <td>NaN</td>\n",
       "      <td>NaN</td>\n",
       "      <td>NaN</td>\n",
       "      <td>1.906758</td>\n",
       "      <td>1.978723</td>\n",
       "      <td>1.682103</td>\n",
       "      <td>0.562014</td>\n",
       "    </tr>\n",
       "    <tr>\n",
       "      <th>22</th>\n",
       "      <td>LibreSolar</td>\n",
       "      <td>Firmware for LibreSolar BMS boards based on bq...</td>\n",
       "      <td>LibreSolar</td>\n",
       "      <td>https://github.com/LibreSolar/bms-firmware.git</td>\n",
       "      <td>github</td>\n",
       "      <td>NaN</td>\n",
       "      <td>Photovoltaics and Solar Energy</td>\n",
       "      <td>2022/06/27, 14:58:43</td>\n",
       "      <td>55.0</td>\n",
       "      <td>0.0</td>\n",
       "      <td>...</td>\n",
       "      <td>NaN</td>\n",
       "      <td>NaN</td>\n",
       "      <td>https://avatars.githubusercontent.com/u/176741...</td>\n",
       "      <td>NaN</td>\n",
       "      <td>NaN</td>\n",
       "      <td>NaN</td>\n",
       "      <td>1.844806</td>\n",
       "      <td>1.168335</td>\n",
       "      <td>0.747184</td>\n",
       "      <td>0.386020</td>\n",
       "    </tr>\n",
       "    <tr>\n",
       "      <th>23</th>\n",
       "      <td>Charge Controller Firmware</td>\n",
       "      <td>Firmware for LibreSolar MPPT/PWM charge contro...</td>\n",
       "      <td>LibreSolar</td>\n",
       "      <td>https://github.com/LibreSolar/charge-controlle...</td>\n",
       "      <td>github</td>\n",
       "      <td>NaN</td>\n",
       "      <td>Photovoltaics and Solar Energy</td>\n",
       "      <td>2022/03/21, 14:10:45</td>\n",
       "      <td>103.0</td>\n",
       "      <td>0.0</td>\n",
       "      <td>...</td>\n",
       "      <td>NaN</td>\n",
       "      <td>NaN</td>\n",
       "      <td>https://avatars.githubusercontent.com/u/176741...</td>\n",
       "      <td>NaN</td>\n",
       "      <td>NaN</td>\n",
       "      <td>NaN</td>\n",
       "      <td>1.730288</td>\n",
       "      <td>1.655820</td>\n",
       "      <td>2.026283</td>\n",
       "      <td>0.535969</td>\n",
       "    </tr>\n",
       "    <tr>\n",
       "      <th>24</th>\n",
       "      <td>pvoutput</td>\n",
       "      <td>Python code for downloading PV data from PVOut...</td>\n",
       "      <td>openclimatefix</td>\n",
       "      <td>https://github.com/openclimatefix/pvoutput.git</td>\n",
       "      <td>github</td>\n",
       "      <td>pvoutput,python,python-library,solar,nowcasting</td>\n",
       "      <td>Photovoltaics and Solar Energy</td>\n",
       "      <td>2022/05/04, 19:42:41</td>\n",
       "      <td>24.0</td>\n",
       "      <td>1.0</td>\n",
       "      <td>...</td>\n",
       "      <td>NaN</td>\n",
       "      <td>NaN</td>\n",
       "      <td>https://avatars.githubusercontent.com/u/483575...</td>\n",
       "      <td>NaN</td>\n",
       "      <td>NaN</td>\n",
       "      <td>NaN</td>\n",
       "      <td>2.849186</td>\n",
       "      <td>1.946183</td>\n",
       "      <td>1.729036</td>\n",
       "      <td>0.660212</td>\n",
       "    </tr>\n",
       "    <tr>\n",
       "      <th>25</th>\n",
       "      <td>predict_pv_yield</td>\n",
       "      <td>Use machine learning to map satellite imagery ...</td>\n",
       "      <td>openclimatefix</td>\n",
       "      <td>https://github.com/openclimatefix/predict_pv_y...</td>\n",
       "      <td>github</td>\n",
       "      <td>nowcasting</td>\n",
       "      <td>Photovoltaics and Solar Energy</td>\n",
       "      <td>2022/04/07, 10:59:27</td>\n",
       "      <td>42.0</td>\n",
       "      <td>0.0</td>\n",
       "      <td>...</td>\n",
       "      <td>NaN</td>\n",
       "      <td>NaN</td>\n",
       "      <td>https://avatars.githubusercontent.com/u/483575...</td>\n",
       "      <td>NaN</td>\n",
       "      <td>NaN</td>\n",
       "      <td>NaN</td>\n",
       "      <td>2.000626</td>\n",
       "      <td>1.091364</td>\n",
       "      <td>1.095745</td>\n",
       "      <td>0.422637</td>\n",
       "    </tr>\n",
       "    <tr>\n",
       "      <th>28</th>\n",
       "      <td>solariot</td>\n",
       "      <td>Leverage your IoT enabled Solar PV Inverter to...</td>\n",
       "      <td>meltaxa</td>\n",
       "      <td>https://github.com/meltaxa/solariot.git</td>\n",
       "      <td>github</td>\n",
       "      <td>freeboard,iot,solar-energy,sungrow-inverter,da...</td>\n",
       "      <td>Photovoltaics and Solar Energy</td>\n",
       "      <td>2022/02/10, 20:06:56</td>\n",
       "      <td>129.0</td>\n",
       "      <td>0.0</td>\n",
       "      <td>...</td>\n",
       "      <td>NaN</td>\n",
       "      <td>NaN</td>\n",
       "      <td>NaN</td>\n",
       "      <td>NaN</td>\n",
       "      <td>NaN</td>\n",
       "      <td>NaN</td>\n",
       "      <td>1.789737</td>\n",
       "      <td>1.964330</td>\n",
       "      <td>1.329787</td>\n",
       "      <td>0.518803</td>\n",
       "    </tr>\n",
       "    <tr>\n",
       "      <th>29</th>\n",
       "      <td>pvanalytics</td>\n",
       "      <td>Quality control, filtering, feature labeling, ...</td>\n",
       "      <td>pvlib</td>\n",
       "      <td>https://github.com/pvlib/pvanalytics.git</td>\n",
       "      <td>github</td>\n",
       "      <td>NaN</td>\n",
       "      <td>Photovoltaics and Solar Energy</td>\n",
       "      <td>2022/08/02, 15:54:50</td>\n",
       "      <td>50.0</td>\n",
       "      <td>1.0</td>\n",
       "      <td>...</td>\n",
       "      <td>NaN</td>\n",
       "      <td>NaN</td>\n",
       "      <td>https://avatars.githubusercontent.com/u/110372...</td>\n",
       "      <td>NaN</td>\n",
       "      <td>NaN</td>\n",
       "      <td>NaN</td>\n",
       "      <td>2.438048</td>\n",
       "      <td>1.723404</td>\n",
       "      <td>1.719650</td>\n",
       "      <td>0.591550</td>\n",
       "    </tr>\n",
       "    <tr>\n",
       "      <th>30</th>\n",
       "      <td>IonMonger</td>\n",
       "      <td>A free and fast perovskite solar cell simulato...</td>\n",
       "      <td>PerovskiteSCModelling</td>\n",
       "      <td>https://github.com/PerovskiteSCModelling/IonMo...</td>\n",
       "      <td>github</td>\n",
       "      <td>perovskite-solar-cells,halide-ion-migration</td>\n",
       "      <td>Photovoltaics and Solar Energy</td>\n",
       "      <td>2022/08/09, 10:49:44</td>\n",
       "      <td>21.0</td>\n",
       "      <td>0.0</td>\n",
       "      <td>...</td>\n",
       "      <td>NaN</td>\n",
       "      <td>NaN</td>\n",
       "      <td>https://avatars.githubusercontent.com/u/458728...</td>\n",
       "      <td>NaN</td>\n",
       "      <td>NaN</td>\n",
       "      <td>NaN</td>\n",
       "      <td>1.936796</td>\n",
       "      <td>0.903004</td>\n",
       "      <td>0.636421</td>\n",
       "      <td>0.356381</td>\n",
       "    </tr>\n",
       "    <tr>\n",
       "      <th>31</th>\n",
       "      <td>rayflare</td>\n",
       "      <td>Provide a flexible, user-friendly Python envir...</td>\n",
       "      <td>qpv-research-group</td>\n",
       "      <td>https://github.com/qpv-research-group/rayflare...</td>\n",
       "      <td>github</td>\n",
       "      <td>physics,optics,raytracing,ray-tracing,rigorous...</td>\n",
       "      <td>Photovoltaics and Solar Energy</td>\n",
       "      <td>2022/04/19, 01:18:56</td>\n",
       "      <td>12.0</td>\n",
       "      <td>0.0</td>\n",
       "      <td>...</td>\n",
       "      <td>NaN</td>\n",
       "      <td>NaN</td>\n",
       "      <td>https://avatars.githubusercontent.com/u/485529...</td>\n",
       "      <td>NaN</td>\n",
       "      <td>NaN</td>\n",
       "      <td>NaN</td>\n",
       "      <td>2.242804</td>\n",
       "      <td>0.245307</td>\n",
       "      <td>0.996871</td>\n",
       "      <td>0.344050</td>\n",
       "    </tr>\n",
       "    <tr>\n",
       "      <th>33</th>\n",
       "      <td>StatisticalClearSky</td>\n",
       "      <td>Statistical estimation of a clear sky signal f...</td>\n",
       "      <td>slacgismo</td>\n",
       "      <td>https://github.com/slacgismo/StatisticalClearS...</td>\n",
       "      <td>github</td>\n",
       "      <td>NaN</td>\n",
       "      <td>Photovoltaics and Solar Energy</td>\n",
       "      <td>2022/06/23, 21:50:25</td>\n",
       "      <td>22.0</td>\n",
       "      <td>2.0</td>\n",
       "      <td>...</td>\n",
       "      <td>NaN</td>\n",
       "      <td>NaN</td>\n",
       "      <td>https://avatars.githubusercontent.com/u/198955...</td>\n",
       "      <td>NaN</td>\n",
       "      <td>NaN</td>\n",
       "      <td>NaN</td>\n",
       "      <td>2.279099</td>\n",
       "      <td>1.375469</td>\n",
       "      <td>1.484355</td>\n",
       "      <td>0.516105</td>\n",
       "    </tr>\n",
       "    <tr>\n",
       "      <th>35</th>\n",
       "      <td>nasapower</td>\n",
       "      <td>Aims to make it quick and easy to automate dow...</td>\n",
       "      <td>ropensci</td>\n",
       "      <td>https://github.com/ropensci/nasapower.git</td>\n",
       "      <td>github</td>\n",
       "      <td>agroclimatology,weather,r,nasa-power,nasa,agro...</td>\n",
       "      <td>Photovoltaics and Solar Energy</td>\n",
       "      <td>2022/08/14, 07:54:39</td>\n",
       "      <td>82.0</td>\n",
       "      <td>0.0</td>\n",
       "      <td>...</td>\n",
       "      <td>NaN</td>\n",
       "      <td>NaN</td>\n",
       "      <td>https://avatars.githubusercontent.com/u/120026...</td>\n",
       "      <td>NaN</td>\n",
       "      <td>NaN</td>\n",
       "      <td>NaN</td>\n",
       "      <td>2.876721</td>\n",
       "      <td>0.481852</td>\n",
       "      <td>1.504380</td>\n",
       "      <td>0.479022</td>\n",
       "    </tr>\n",
       "    <tr>\n",
       "      <th>37</th>\n",
       "      <td>SolTrace</td>\n",
       "      <td>A software tool developed at NREL to model con...</td>\n",
       "      <td>NREL</td>\n",
       "      <td>https://github.com/NREL/SolTrace.git</td>\n",
       "      <td>github</td>\n",
       "      <td>NaN</td>\n",
       "      <td>Photovoltaics and Solar Energy</td>\n",
       "      <td>2022/07/14, 17:20:40</td>\n",
       "      <td>26.0</td>\n",
       "      <td>0.0</td>\n",
       "      <td>...</td>\n",
       "      <td>NaN</td>\n",
       "      <td>NaN</td>\n",
       "      <td>https://avatars.githubusercontent.com/u/190680...</td>\n",
       "      <td>NaN</td>\n",
       "      <td>NaN</td>\n",
       "      <td>NaN</td>\n",
       "      <td>1.370463</td>\n",
       "      <td>0.925532</td>\n",
       "      <td>0.714643</td>\n",
       "      <td>0.306595</td>\n",
       "    </tr>\n",
       "    <tr>\n",
       "      <th>38</th>\n",
       "      <td>CarrierCapture.jl</td>\n",
       "      <td>A set of codes to compute carrier capture and ...</td>\n",
       "      <td>WMD-group</td>\n",
       "      <td>https://github.com/WMD-group/CarrierCapture.jl...</td>\n",
       "      <td>github</td>\n",
       "      <td>defects,semiconductors,electronic-structure,ma...</td>\n",
       "      <td>Photovoltaics and Solar Energy</td>\n",
       "      <td>2022/05/30, 07:42:55</td>\n",
       "      <td>33.0</td>\n",
       "      <td>0.0</td>\n",
       "      <td>...</td>\n",
       "      <td>NaN</td>\n",
       "      <td>NaN</td>\n",
       "      <td>https://avatars.githubusercontent.com/u/171696...</td>\n",
       "      <td>NaN</td>\n",
       "      <td>NaN</td>\n",
       "      <td>NaN</td>\n",
       "      <td>2.073217</td>\n",
       "      <td>1.782228</td>\n",
       "      <td>1.126408</td>\n",
       "      <td>0.510726</td>\n",
       "    </tr>\n",
       "    <tr>\n",
       "      <th>42</th>\n",
       "      <td>Tonatiuh</td>\n",
       "      <td>A Monte Carlo ray tracer for the optical simul...</td>\n",
       "      <td>iat-cener</td>\n",
       "      <td>https://github.com/iat-cener/tonatiuh.git</td>\n",
       "      <td>github</td>\n",
       "      <td>solar-concentrating-systems,simulation,solar,e...</td>\n",
       "      <td>Photovoltaics and Solar Energy</td>\n",
       "      <td>2022/02/23, 09:35:27</td>\n",
       "      <td>45.0</td>\n",
       "      <td>0.0</td>\n",
       "      <td>...</td>\n",
       "      <td>NaN</td>\n",
       "      <td>NaN</td>\n",
       "      <td>https://avatars.githubusercontent.com/u/123318...</td>\n",
       "      <td>NaN</td>\n",
       "      <td>NaN</td>\n",
       "      <td>NaN</td>\n",
       "      <td>1.297872</td>\n",
       "      <td>0.704631</td>\n",
       "      <td>1.365457</td>\n",
       "      <td>0.328469</td>\n",
       "    </tr>\n",
       "    <tr>\n",
       "      <th>44</th>\n",
       "      <td>PV Free</td>\n",
       "      <td>A public API for PV modeling parameters.</td>\n",
       "      <td>BreakingBytes</td>\n",
       "      <td>https://github.com/BreakingBytes/pvfree.git</td>\n",
       "      <td>github</td>\n",
       "      <td>NaN</td>\n",
       "      <td>Photovoltaics and Solar Energy</td>\n",
       "      <td>2021/12/14, 00:49:44</td>\n",
       "      <td>15.0</td>\n",
       "      <td>0.0</td>\n",
       "      <td>...</td>\n",
       "      <td>NaN</td>\n",
       "      <td>NaN</td>\n",
       "      <td>https://avatars.githubusercontent.com/u/143757...</td>\n",
       "      <td>NaN</td>\n",
       "      <td>NaN</td>\n",
       "      <td>NaN</td>\n",
       "      <td>1.182103</td>\n",
       "      <td>0.482478</td>\n",
       "      <td>0.910513</td>\n",
       "      <td>0.253365</td>\n",
       "    </tr>\n",
       "    <tr>\n",
       "      <th>45</th>\n",
       "      <td>Pysolar</td>\n",
       "      <td>A collection of Python libraries for simulatin...</td>\n",
       "      <td>pingswept</td>\n",
       "      <td>https://github.com/pingswept/pysolar.git</td>\n",
       "      <td>github</td>\n",
       "      <td>NaN</td>\n",
       "      <td>Photovoltaics and Solar Energy</td>\n",
       "      <td>2022/05/03, 18:34:54</td>\n",
       "      <td>304.0</td>\n",
       "      <td>0.0</td>\n",
       "      <td>...</td>\n",
       "      <td>NaN</td>\n",
       "      <td>NaN</td>\n",
       "      <td>NaN</td>\n",
       "      <td>NaN</td>\n",
       "      <td>NaN</td>\n",
       "      <td>NaN</td>\n",
       "      <td>1.528160</td>\n",
       "      <td>1.685857</td>\n",
       "      <td>2.275344</td>\n",
       "      <td>0.539152</td>\n",
       "    </tr>\n",
       "    <tr>\n",
       "      <th>46</th>\n",
       "      <td>PV_ICE</td>\n",
       "      <td>An open-source tool to quantify Solar Photovol...</td>\n",
       "      <td>NREL</td>\n",
       "      <td>https://github.com/NREL/PV_ICE.git</td>\n",
       "      <td>github</td>\n",
       "      <td>circular-economy,circularity-metrics,reliabili...</td>\n",
       "      <td>Photovoltaics and Solar Energy</td>\n",
       "      <td>2022/07/05, 19:40:25</td>\n",
       "      <td>17.0</td>\n",
       "      <td>0.0</td>\n",
       "      <td>...</td>\n",
       "      <td>NaN</td>\n",
       "      <td>NaN</td>\n",
       "      <td>https://avatars.githubusercontent.com/u/190680...</td>\n",
       "      <td>NaN</td>\n",
       "      <td>NaN</td>\n",
       "      <td>NaN</td>\n",
       "      <td>1.821026</td>\n",
       "      <td>1.152065</td>\n",
       "      <td>1.190864</td>\n",
       "      <td>0.418766</td>\n",
       "    </tr>\n",
       "    <tr>\n",
       "      <th>47</th>\n",
       "      <td>Solar electricity Nowcasting</td>\n",
       "      <td>Build the world's best near-term forecasting s...</td>\n",
       "      <td>openclimatefix</td>\n",
       "      <td>https://github.com/openclimatefix/nowcasting.git</td>\n",
       "      <td>github</td>\n",
       "      <td>nowcasting</td>\n",
       "      <td>Photovoltaics and Solar Energy</td>\n",
       "      <td>2022/07/20, 08:47:55</td>\n",
       "      <td>46.0</td>\n",
       "      <td>0.0</td>\n",
       "      <td>...</td>\n",
       "      <td>NaN</td>\n",
       "      <td>NaN</td>\n",
       "      <td>https://avatars.githubusercontent.com/u/483575...</td>\n",
       "      <td>NaN</td>\n",
       "      <td>NaN</td>\n",
       "      <td>NaN</td>\n",
       "      <td>2.108260</td>\n",
       "      <td>1.951189</td>\n",
       "      <td>1.855444</td>\n",
       "      <td>0.594326</td>\n",
       "    </tr>\n",
       "    <tr>\n",
       "      <th>48</th>\n",
       "      <td>Solar Forecast Arbiter</td>\n",
       "      <td>Core data gathering, validation, processing, a...</td>\n",
       "      <td>SolarArbiter</td>\n",
       "      <td>https://github.com/SolarArbiter/solarforecasta...</td>\n",
       "      <td>github</td>\n",
       "      <td>NaN</td>\n",
       "      <td>Photovoltaics and Solar Energy</td>\n",
       "      <td>2022/02/11, 19:07:13</td>\n",
       "      <td>19.0</td>\n",
       "      <td>3.0</td>\n",
       "      <td>...</td>\n",
       "      <td>NaN</td>\n",
       "      <td>NaN</td>\n",
       "      <td>https://avatars.githubusercontent.com/u/436863...</td>\n",
       "      <td>NaN</td>\n",
       "      <td>NaN</td>\n",
       "      <td>NaN</td>\n",
       "      <td>2.553191</td>\n",
       "      <td>1.996871</td>\n",
       "      <td>2.477472</td>\n",
       "      <td>0.697676</td>\n",
       "    </tr>\n",
       "    <tr>\n",
       "      <th>49</th>\n",
       "      <td>pv-system-profiler</td>\n",
       "      <td>Estimating PV array location and orientation f...</td>\n",
       "      <td>slacgismo</td>\n",
       "      <td>https://github.com/slacgismo/pv-system-profile...</td>\n",
       "      <td>github</td>\n",
       "      <td>NaN</td>\n",
       "      <td>Photovoltaics and Solar Energy</td>\n",
       "      <td>2021/10/13, 19:41:56</td>\n",
       "      <td>6.0</td>\n",
       "      <td>1.0</td>\n",
       "      <td>...</td>\n",
       "      <td>NaN</td>\n",
       "      <td>NaN</td>\n",
       "      <td>https://avatars.githubusercontent.com/u/198955...</td>\n",
       "      <td>NaN</td>\n",
       "      <td>NaN</td>\n",
       "      <td>NaN</td>\n",
       "      <td>2.510013</td>\n",
       "      <td>0.999374</td>\n",
       "      <td>1.314768</td>\n",
       "      <td>0.483489</td>\n",
       "    </tr>\n",
       "    <tr>\n",
       "      <th>50</th>\n",
       "      <td>A Global Inventory of Commerical-, Industrial-...</td>\n",
       "      <td>Used to produce a global inventory of utility-...</td>\n",
       "      <td>Lkruitwagen</td>\n",
       "      <td>https://github.com/Lkruitwagen/solar-pv-global...</td>\n",
       "      <td>github</td>\n",
       "      <td>NaN</td>\n",
       "      <td>Photovoltaics and Solar Energy</td>\n",
       "      <td>2021/11/25, 08:55:36</td>\n",
       "      <td>98.0</td>\n",
       "      <td>0.0</td>\n",
       "      <td>...</td>\n",
       "      <td>NaN</td>\n",
       "      <td>NaN</td>\n",
       "      <td>NaN</td>\n",
       "      <td>NaN</td>\n",
       "      <td>NaN</td>\n",
       "      <td>NaN</td>\n",
       "      <td>1.186483</td>\n",
       "      <td>0.409887</td>\n",
       "      <td>0.439299</td>\n",
       "      <td>0.206273</td>\n",
       "    </tr>\n",
       "    <tr>\n",
       "      <th>51</th>\n",
       "      <td>dGen</td>\n",
       "      <td>Forecast PV adoption based on user specified c...</td>\n",
       "      <td>NREL</td>\n",
       "      <td>https://github.com/NREL/dgen.git</td>\n",
       "      <td>github</td>\n",
       "      <td>NaN</td>\n",
       "      <td>Photovoltaics and Solar Energy</td>\n",
       "      <td>2021/09/10, 22:03:57</td>\n",
       "      <td>34.0</td>\n",
       "      <td>0.0</td>\n",
       "      <td>...</td>\n",
       "      <td>NaN</td>\n",
       "      <td>NaN</td>\n",
       "      <td>https://avatars.githubusercontent.com/u/190680...</td>\n",
       "      <td>NaN</td>\n",
       "      <td>NaN</td>\n",
       "      <td>NaN</td>\n",
       "      <td>1.272841</td>\n",
       "      <td>1.071339</td>\n",
       "      <td>0.595745</td>\n",
       "      <td>0.302977</td>\n",
       "    </tr>\n",
       "    <tr>\n",
       "      <th>52</th>\n",
       "      <td>IEA-15-240-RWT</td>\n",
       "      <td>A 15 MW reference wind turbine repository deve...</td>\n",
       "      <td>IEAWindTask37</td>\n",
       "      <td>https://github.com/IEAWindTask37/IEA-15-240-RW...</td>\n",
       "      <td>github</td>\n",
       "      <td>NaN</td>\n",
       "      <td>Wind Energy</td>\n",
       "      <td>2022/04/05, 11:35:39</td>\n",
       "      <td>131.0</td>\n",
       "      <td>0.0</td>\n",
       "      <td>...</td>\n",
       "      <td>NaN</td>\n",
       "      <td>NaN</td>\n",
       "      <td>https://avatars.githubusercontent.com/u/365464...</td>\n",
       "      <td>NaN</td>\n",
       "      <td>NaN</td>\n",
       "      <td>NaN</td>\n",
       "      <td>2.535670</td>\n",
       "      <td>1.949312</td>\n",
       "      <td>1.973717</td>\n",
       "      <td>0.648415</td>\n",
       "    </tr>\n",
       "    <tr>\n",
       "      <th>54</th>\n",
       "      <td>windpowerlib</td>\n",
       "      <td>A library to model the output of wind turbines...</td>\n",
       "      <td>wind-python</td>\n",
       "      <td>https://github.com/wind-python/windpowerlib.git</td>\n",
       "      <td>github</td>\n",
       "      <td>wind,energy,power,model,modelling</td>\n",
       "      <td>Wind Energy</td>\n",
       "      <td>2022/07/12, 18:02:47</td>\n",
       "      <td>224.0</td>\n",
       "      <td>13.0</td>\n",
       "      <td>...</td>\n",
       "      <td>NaN</td>\n",
       "      <td>NaN</td>\n",
       "      <td>https://avatars.githubusercontent.com/u/212630...</td>\n",
       "      <td>NaN</td>\n",
       "      <td>NaN</td>\n",
       "      <td>NaN</td>\n",
       "      <td>1.081977</td>\n",
       "      <td>1.993116</td>\n",
       "      <td>2.182103</td>\n",
       "      <td>0.519673</td>\n",
       "    </tr>\n",
       "    <tr>\n",
       "      <th>55</th>\n",
       "      <td>turbinesFoam</td>\n",
       "      <td>A library for simulating wind and marine hydro...</td>\n",
       "      <td>turbinesFoam</td>\n",
       "      <td>https://github.com/turbinesFoam/turbinesFoam.git</td>\n",
       "      <td>github</td>\n",
       "      <td>openfoam,turbines,airfoils,blade-element,actua...</td>\n",
       "      <td>Wind Energy</td>\n",
       "      <td>2022/05/16, 14:48:37</td>\n",
       "      <td>60.0</td>\n",
       "      <td>0.0</td>\n",
       "      <td>...</td>\n",
       "      <td>NaN</td>\n",
       "      <td>NaN</td>\n",
       "      <td>https://avatars.githubusercontent.com/u/104041...</td>\n",
       "      <td>NaN</td>\n",
       "      <td>NaN</td>\n",
       "      <td>NaN</td>\n",
       "      <td>1.297872</td>\n",
       "      <td>1.247184</td>\n",
       "      <td>2.091990</td>\n",
       "      <td>0.450388</td>\n",
       "    </tr>\n",
       "    <tr>\n",
       "      <th>56</th>\n",
       "      <td>nalu-wind</td>\n",
       "      <td>Solver for wind farm simulations targeting exa...</td>\n",
       "      <td>Exawind</td>\n",
       "      <td>https://github.com/Exawind/nalu-wind.git</td>\n",
       "      <td>github</td>\n",
       "      <td>low-mach,wind-energy,les,cfd,ecp,exascale-comp...</td>\n",
       "      <td>Wind Energy</td>\n",
       "      <td>2022/08/12, 20:14:26</td>\n",
       "      <td>79.0</td>\n",
       "      <td>0.0</td>\n",
       "      <td>...</td>\n",
       "      <td>NaN</td>\n",
       "      <td>NaN</td>\n",
       "      <td>https://avatars.githubusercontent.com/u/223285...</td>\n",
       "      <td>NaN</td>\n",
       "      <td>NaN</td>\n",
       "      <td>NaN</td>\n",
       "      <td>1.867334</td>\n",
       "      <td>2.841051</td>\n",
       "      <td>3.530663</td>\n",
       "      <td>0.809638</td>\n",
       "    </tr>\n",
       "    <tr>\n",
       "      <th>57</th>\n",
       "      <td>openfast</td>\n",
       "      <td>A multi-physics, multi-fidelity tool for simul...</td>\n",
       "      <td>OpenFAST</td>\n",
       "      <td>https://github.com/OpenFAST/openfast.git</td>\n",
       "      <td>github</td>\n",
       "      <td>wind-turbine,wind-energy,wind-farm,aeroelastic...</td>\n",
       "      <td>Wind Energy</td>\n",
       "      <td>2022/07/29, 15:30:51</td>\n",
       "      <td>392.0</td>\n",
       "      <td>0.0</td>\n",
       "      <td>...</td>\n",
       "      <td>NaN</td>\n",
       "      <td>NaN</td>\n",
       "      <td>https://avatars.githubusercontent.com/u/158386...</td>\n",
       "      <td>NaN</td>\n",
       "      <td>NaN</td>\n",
       "      <td>NaN</td>\n",
       "      <td>2.760325</td>\n",
       "      <td>2.450563</td>\n",
       "      <td>3.631414</td>\n",
       "      <td>0.866789</td>\n",
       "    </tr>\n",
       "    <tr>\n",
       "      <th>58</th>\n",
       "      <td>amr-wind</td>\n",
       "      <td>A massively parallel, block-structured adaptiv...</td>\n",
       "      <td>Exawind</td>\n",
       "      <td>https://github.com/Exawind/amr-wind.git</td>\n",
       "      <td>github</td>\n",
       "      <td>ecp,exascale-computing,amrex,amr,wind,wind-tur...</td>\n",
       "      <td>Wind Energy</td>\n",
       "      <td>2022/08/12, 16:42:24</td>\n",
       "      <td>43.0</td>\n",
       "      <td>0.0</td>\n",
       "      <td>...</td>\n",
       "      <td>NaN</td>\n",
       "      <td>NaN</td>\n",
       "      <td>https://avatars.githubusercontent.com/u/223285...</td>\n",
       "      <td>NaN</td>\n",
       "      <td>NaN</td>\n",
       "      <td>NaN</td>\n",
       "      <td>1.729036</td>\n",
       "      <td>2.607009</td>\n",
       "      <td>3.352941</td>\n",
       "      <td>0.754004</td>\n",
       "    </tr>\n",
       "    <tr>\n",
       "      <th>60</th>\n",
       "      <td>OpenOA</td>\n",
       "      <td>This library provides a framework for working ...</td>\n",
       "      <td>NREL</td>\n",
       "      <td>https://github.com/NREL/OpenOA.git</td>\n",
       "      <td>github</td>\n",
       "      <td>NaN</td>\n",
       "      <td>Wind Energy</td>\n",
       "      <td>2022/04/14, 18:16:35</td>\n",
       "      <td>124.0</td>\n",
       "      <td>2.0</td>\n",
       "      <td>...</td>\n",
       "      <td>NaN</td>\n",
       "      <td>NaN</td>\n",
       "      <td>https://avatars.githubusercontent.com/u/190680...</td>\n",
       "      <td>NaN</td>\n",
       "      <td>NaN</td>\n",
       "      <td>NaN</td>\n",
       "      <td>1.997497</td>\n",
       "      <td>2.341051</td>\n",
       "      <td>2.325407</td>\n",
       "      <td>0.666070</td>\n",
       "    </tr>\n",
       "    <tr>\n",
       "      <th>61</th>\n",
       "      <td>ROSCO</td>\n",
       "      <td>NREL's Reference OpenSource Controller for win...</td>\n",
       "      <td>NREL</td>\n",
       "      <td>https://github.com/NREL/ROSCO.git</td>\n",
       "      <td>github</td>\n",
       "      <td>NaN</td>\n",
       "      <td>Wind Energy</td>\n",
       "      <td>2022/08/09, 16:29:17</td>\n",
       "      <td>44.0</td>\n",
       "      <td>0.0</td>\n",
       "      <td>...</td>\n",
       "      <td>NaN</td>\n",
       "      <td>NaN</td>\n",
       "      <td>https://avatars.githubusercontent.com/u/190680...</td>\n",
       "      <td>NaN</td>\n",
       "      <td>NaN</td>\n",
       "      <td>NaN</td>\n",
       "      <td>2.172716</td>\n",
       "      <td>0.941176</td>\n",
       "      <td>1.929912</td>\n",
       "      <td>0.493237</td>\n",
       "    </tr>\n",
       "    <tr>\n",
       "      <th>62</th>\n",
       "      <td>floris</td>\n",
       "      <td>A controls-oriented engineering wake modeling ...</td>\n",
       "      <td>NREL</td>\n",
       "      <td>https://github.com/NREL/floris.git</td>\n",
       "      <td>github</td>\n",
       "      <td>NaN</td>\n",
       "      <td>Wind Energy</td>\n",
       "      <td>2022/06/22, 20:48:30</td>\n",
       "      <td>101.0</td>\n",
       "      <td>0.0</td>\n",
       "      <td>...</td>\n",
       "      <td>NaN</td>\n",
       "      <td>NaN</td>\n",
       "      <td>https://avatars.githubusercontent.com/u/190680...</td>\n",
       "      <td>NaN</td>\n",
       "      <td>NaN</td>\n",
       "      <td>NaN</td>\n",
       "      <td>2.618899</td>\n",
       "      <td>1.969962</td>\n",
       "      <td>3.056320</td>\n",
       "      <td>0.749811</td>\n",
       "    </tr>\n",
       "    <tr>\n",
       "      <th>65</th>\n",
       "      <td>WISDEM</td>\n",
       "      <td>Wind Plant Integrated System Design and Engine...</td>\n",
       "      <td>WISDEM</td>\n",
       "      <td>https://github.com/WISDEM/WISDEM.git</td>\n",
       "      <td>github</td>\n",
       "      <td>openmdao,systems-engineering,wisdem,wind</td>\n",
       "      <td>Wind Energy</td>\n",
       "      <td>2022/06/24, 13:45:57</td>\n",
       "      <td>88.0</td>\n",
       "      <td>0.0</td>\n",
       "      <td>...</td>\n",
       "      <td>NaN</td>\n",
       "      <td>NaN</td>\n",
       "      <td>https://avatars.githubusercontent.com/u/544427...</td>\n",
       "      <td>NaN</td>\n",
       "      <td>NaN</td>\n",
       "      <td>NaN</td>\n",
       "      <td>2.790363</td>\n",
       "      <td>2.063204</td>\n",
       "      <td>3.161452</td>\n",
       "      <td>0.786937</td>\n",
       "    </tr>\n",
       "    <tr>\n",
       "      <th>66</th>\n",
       "      <td>WOMBAT</td>\n",
       "      <td>Windfarm Operations &amp; Maintenance cost-Benefit...</td>\n",
       "      <td>WISDEM</td>\n",
       "      <td>https://github.com/WISDEM/WOMBAT.git</td>\n",
       "      <td>github</td>\n",
       "      <td>simulation,wind-energy,python3,simpy,operation...</td>\n",
       "      <td>Wind Energy</td>\n",
       "      <td>2022/07/23, 03:09:38</td>\n",
       "      <td>8.0</td>\n",
       "      <td>1.0</td>\n",
       "      <td>...</td>\n",
       "      <td>NaN</td>\n",
       "      <td>NaN</td>\n",
       "      <td>https://avatars.githubusercontent.com/u/544427...</td>\n",
       "      <td>NaN</td>\n",
       "      <td>NaN</td>\n",
       "      <td>NaN</td>\n",
       "      <td>2.344806</td>\n",
       "      <td>0.396120</td>\n",
       "      <td>0.869837</td>\n",
       "      <td>0.361066</td>\n",
       "    </tr>\n",
       "    <tr>\n",
       "      <th>67</th>\n",
       "      <td>LandBOSSE</td>\n",
       "      <td>The Land-based Balance-of-System Systems Engin...</td>\n",
       "      <td>WISDEM</td>\n",
       "      <td>https://github.com/WISDEM/LandBOSSE.git</td>\n",
       "      <td>github</td>\n",
       "      <td>NaN</td>\n",
       "      <td>Wind Energy</td>\n",
       "      <td>2022/02/07, 20:47:00</td>\n",
       "      <td>13.0</td>\n",
       "      <td>0.0</td>\n",
       "      <td>...</td>\n",
       "      <td>NaN</td>\n",
       "      <td>NaN</td>\n",
       "      <td>https://avatars.githubusercontent.com/u/544427...</td>\n",
       "      <td>NaN</td>\n",
       "      <td>NaN</td>\n",
       "      <td>NaN</td>\n",
       "      <td>1.707134</td>\n",
       "      <td>1.541302</td>\n",
       "      <td>2.020025</td>\n",
       "      <td>0.520113</td>\n",
       "    </tr>\n",
       "    <tr>\n",
       "      <th>68</th>\n",
       "      <td>OpenMDAO</td>\n",
       "      <td>Optimization of Aerodynamic systems.</td>\n",
       "      <td>OpenMDAO</td>\n",
       "      <td>https://github.com/OpenMDAO/OpenMDAO.git</td>\n",
       "      <td>github</td>\n",
       "      <td>nasa,open-source,framework,openmdao,optimization</td>\n",
       "      <td>Wind Energy</td>\n",
       "      <td>2022/08/11, 17:45:33</td>\n",
       "      <td>347.0</td>\n",
       "      <td>131.0</td>\n",
       "      <td>...</td>\n",
       "      <td>NaN</td>\n",
       "      <td>NaN</td>\n",
       "      <td>https://avatars.githubusercontent.com/u/861615...</td>\n",
       "      <td>NaN</td>\n",
       "      <td>NaN</td>\n",
       "      <td>NaN</td>\n",
       "      <td>2.177096</td>\n",
       "      <td>2.714643</td>\n",
       "      <td>3.887985</td>\n",
       "      <td>0.857407</td>\n",
       "    </tr>\n",
       "    <tr>\n",
       "      <th>75</th>\n",
       "      <td>GreenGuard</td>\n",
       "      <td>A collection of end-to-end solutions for machi...</td>\n",
       "      <td>signals-dev</td>\n",
       "      <td>https://github.com/sintel-dev/Draco.git</td>\n",
       "      <td>github</td>\n",
       "      <td>NaN</td>\n",
       "      <td>Wind Energy</td>\n",
       "      <td>2022/04/12, 07:28:34</td>\n",
       "      <td>34.0</td>\n",
       "      <td>0.0</td>\n",
       "      <td>...</td>\n",
       "      <td>NaN</td>\n",
       "      <td>NaN</td>\n",
       "      <td>https://avatars.githubusercontent.com/u/133367...</td>\n",
       "      <td>NaN</td>\n",
       "      <td>NaN</td>\n",
       "      <td>NaN</td>\n",
       "      <td>2.122653</td>\n",
       "      <td>1.994994</td>\n",
       "      <td>1.393617</td>\n",
       "      <td>0.562197</td>\n",
       "    </tr>\n",
       "    <tr>\n",
       "      <th>77</th>\n",
       "      <td>ORBIT</td>\n",
       "      <td>Offshore Renewable Balance-of-system Installat...</td>\n",
       "      <td>WISDEM</td>\n",
       "      <td>https://github.com/WISDEM/ORBIT.git</td>\n",
       "      <td>github</td>\n",
       "      <td>NaN</td>\n",
       "      <td>Wind Energy</td>\n",
       "      <td>2022/04/04, 20:06:57</td>\n",
       "      <td>10.0</td>\n",
       "      <td>0.0</td>\n",
       "      <td>...</td>\n",
       "      <td>NaN</td>\n",
       "      <td>NaN</td>\n",
       "      <td>https://avatars.githubusercontent.com/u/544427...</td>\n",
       "      <td>NaN</td>\n",
       "      <td>NaN</td>\n",
       "      <td>NaN</td>\n",
       "      <td>0.990613</td>\n",
       "      <td>0.939925</td>\n",
       "      <td>1.600751</td>\n",
       "      <td>0.342744</td>\n",
       "    </tr>\n",
       "  </tbody>\n",
       "</table>\n",
       "<p>50 rows × 55 columns</p>\n",
       "</div>"
      ],
      "text/plain": [
       "                                         project_name  \\\n",
       "0                                        pvlib-python   \n",
       "1                                           pvfactors   \n",
       "3                                          PVMismatch   \n",
       "4                                             rdtools   \n",
       "7                                           feedinlib   \n",
       "8                                        photovoltaic   \n",
       "11                                         SolarPILOT   \n",
       "12                                   solar-data-tools   \n",
       "13                     SolarPV-DER-simulation-utility   \n",
       "14                                  bifacial_radiance   \n",
       "17                                           solcore5   \n",
       "18                                              solax   \n",
       "19                                         bifacialvf   \n",
       "21                                         SolarTherm   \n",
       "22                                         LibreSolar   \n",
       "23                         Charge Controller Firmware   \n",
       "24                                           pvoutput   \n",
       "25                                   predict_pv_yield   \n",
       "28                                           solariot   \n",
       "29                                        pvanalytics   \n",
       "30                                          IonMonger   \n",
       "31                                           rayflare   \n",
       "33                                StatisticalClearSky   \n",
       "35                                          nasapower   \n",
       "37                                           SolTrace   \n",
       "38                                  CarrierCapture.jl   \n",
       "42                                           Tonatiuh   \n",
       "44                                            PV Free   \n",
       "45                                            Pysolar   \n",
       "46                                             PV_ICE   \n",
       "47                       Solar electricity Nowcasting   \n",
       "48                             Solar Forecast Arbiter   \n",
       "49                                 pv-system-profiler   \n",
       "50  A Global Inventory of Commerical-, Industrial-...   \n",
       "51                                               dGen   \n",
       "52                                     IEA-15-240-RWT   \n",
       "54                                       windpowerlib   \n",
       "55                                       turbinesFoam   \n",
       "56                                          nalu-wind   \n",
       "57                                           openfast   \n",
       "58                                           amr-wind   \n",
       "60                                             OpenOA   \n",
       "61                                              ROSCO   \n",
       "62                                             floris   \n",
       "65                                             WISDEM   \n",
       "66                                             WOMBAT   \n",
       "67                                          LandBOSSE   \n",
       "68                                           OpenMDAO   \n",
       "75                                         GreenGuard   \n",
       "77                                              ORBIT   \n",
       "\n",
       "                                             oneliner          git_namespace  \\\n",
       "0   A set of documented functions for simulating t...                  pvlib   \n",
       "1   Open source view-factor model for diffuse shad...               SunPower   \n",
       "3   An explicit Python PV system IV & PV curve tra...               SunPower   \n",
       "4   An open source library to support reproducible...                   NREL   \n",
       "7   Contains implementations of photovoltaic model...                  oemof   \n",
       "8             A Python library used in photovoltaics.                  pvedu   \n",
       "11    Solar power tower layout and optimization tool.                   NREL   \n",
       "12  Data analysis tools for working with historica...              slacgismo   \n",
       "13  Allows user to run dynamics simulations for so...                tdcosim   \n",
       "14  Toolkit for working with RADIANCE for the ray-...                   NREL   \n",
       "17  A multi-scale, Python-based library for the mo...     qpv-research-group   \n",
       "18  Read energy usage data from the real-time API ...             squishykid   \n",
       "19  Bifacial PV View Factor model for system perfo...                   NREL   \n",
       "21  Solar thermal power/fuel station performance s...             SolarTherm   \n",
       "22  Firmware for LibreSolar BMS boards based on bq...             LibreSolar   \n",
       "23  Firmware for LibreSolar MPPT/PWM charge contro...             LibreSolar   \n",
       "24  Python code for downloading PV data from PVOut...         openclimatefix   \n",
       "25  Use machine learning to map satellite imagery ...         openclimatefix   \n",
       "28  Leverage your IoT enabled Solar PV Inverter to...                meltaxa   \n",
       "29  Quality control, filtering, feature labeling, ...                  pvlib   \n",
       "30  A free and fast perovskite solar cell simulato...  PerovskiteSCModelling   \n",
       "31  Provide a flexible, user-friendly Python envir...     qpv-research-group   \n",
       "33  Statistical estimation of a clear sky signal f...              slacgismo   \n",
       "35  Aims to make it quick and easy to automate dow...               ropensci   \n",
       "37  A software tool developed at NREL to model con...                   NREL   \n",
       "38  A set of codes to compute carrier capture and ...              WMD-group   \n",
       "42  A Monte Carlo ray tracer for the optical simul...              iat-cener   \n",
       "44           A public API for PV modeling parameters.          BreakingBytes   \n",
       "45  A collection of Python libraries for simulatin...              pingswept   \n",
       "46  An open-source tool to quantify Solar Photovol...                   NREL   \n",
       "47  Build the world's best near-term forecasting s...         openclimatefix   \n",
       "48  Core data gathering, validation, processing, a...           SolarArbiter   \n",
       "49  Estimating PV array location and orientation f...              slacgismo   \n",
       "50  Used to produce a global inventory of utility-...            Lkruitwagen   \n",
       "51  Forecast PV adoption based on user specified c...                   NREL   \n",
       "52  A 15 MW reference wind turbine repository deve...          IEAWindTask37   \n",
       "54  A library to model the output of wind turbines...            wind-python   \n",
       "55  A library for simulating wind and marine hydro...           turbinesFoam   \n",
       "56  Solver for wind farm simulations targeting exa...                Exawind   \n",
       "57  A multi-physics, multi-fidelity tool for simul...               OpenFAST   \n",
       "58  A massively parallel, block-structured adaptiv...                Exawind   \n",
       "60  This library provides a framework for working ...                   NREL   \n",
       "61  NREL's Reference OpenSource Controller for win...                   NREL   \n",
       "62  A controls-oriented engineering wake modeling ...                   NREL   \n",
       "65  Wind Plant Integrated System Design and Engine...                 WISDEM   \n",
       "66  Windfarm Operations & Maintenance cost-Benefit...                 WISDEM   \n",
       "67  The Land-based Balance-of-System Systems Engin...                 WISDEM   \n",
       "68               Optimization of Aerodynamic systems.               OpenMDAO   \n",
       "75  A collection of end-to-end solutions for machi...            signals-dev   \n",
       "77  Offshore Renewable Balance-of-system Installat...                 WISDEM   \n",
       "\n",
       "                                              git_url platform  \\\n",
       "0           https://github.com/pvlib/pvlib-python.git   github   \n",
       "1           https://github.com/SunPower/pvfactors.git   github   \n",
       "3          https://github.com/SunPower/PVMismatch.git   github   \n",
       "4                 https://github.com/NREL/rdtools.git   github   \n",
       "7              https://github.com/oemof/feedinlib.git   github   \n",
       "8           https://github.com/pvedu/photovoltaic.git   github   \n",
       "11             https://github.com/NREL/SolarPILOT.git   github   \n",
       "12  https://github.com/slacgismo/solar-data-tools.git   github   \n",
       "13  https://github.com/tdcosim/SolarPV-DER-simulat...   github   \n",
       "14      https://github.com/NREL/bifacial_radiance.git   github   \n",
       "17  https://github.com/qpv-research-group/solcore5...   github   \n",
       "18            https://github.com/squishykid/solax.git   github   \n",
       "19             https://github.com/NREL/bifacialvf.git   github   \n",
       "21       https://github.com/SolarTherm/SolarTherm.git   github   \n",
       "22     https://github.com/LibreSolar/bms-firmware.git   github   \n",
       "23  https://github.com/LibreSolar/charge-controlle...   github   \n",
       "24     https://github.com/openclimatefix/pvoutput.git   github   \n",
       "25  https://github.com/openclimatefix/predict_pv_y...   github   \n",
       "28            https://github.com/meltaxa/solariot.git   github   \n",
       "29           https://github.com/pvlib/pvanalytics.git   github   \n",
       "30  https://github.com/PerovskiteSCModelling/IonMo...   github   \n",
       "31  https://github.com/qpv-research-group/rayflare...   github   \n",
       "33  https://github.com/slacgismo/StatisticalClearS...   github   \n",
       "35          https://github.com/ropensci/nasapower.git   github   \n",
       "37               https://github.com/NREL/SolTrace.git   github   \n",
       "38  https://github.com/WMD-group/CarrierCapture.jl...   github   \n",
       "42          https://github.com/iat-cener/tonatiuh.git   github   \n",
       "44        https://github.com/BreakingBytes/pvfree.git   github   \n",
       "45           https://github.com/pingswept/pysolar.git   github   \n",
       "46                 https://github.com/NREL/PV_ICE.git   github   \n",
       "47   https://github.com/openclimatefix/nowcasting.git   github   \n",
       "48  https://github.com/SolarArbiter/solarforecasta...   github   \n",
       "49  https://github.com/slacgismo/pv-system-profile...   github   \n",
       "50  https://github.com/Lkruitwagen/solar-pv-global...   github   \n",
       "51                   https://github.com/NREL/dgen.git   github   \n",
       "52  https://github.com/IEAWindTask37/IEA-15-240-RW...   github   \n",
       "54    https://github.com/wind-python/windpowerlib.git   github   \n",
       "55   https://github.com/turbinesFoam/turbinesFoam.git   github   \n",
       "56           https://github.com/Exawind/nalu-wind.git   github   \n",
       "57           https://github.com/OpenFAST/openfast.git   github   \n",
       "58            https://github.com/Exawind/amr-wind.git   github   \n",
       "60                 https://github.com/NREL/OpenOA.git   github   \n",
       "61                  https://github.com/NREL/ROSCO.git   github   \n",
       "62                 https://github.com/NREL/floris.git   github   \n",
       "65               https://github.com/WISDEM/WISDEM.git   github   \n",
       "66               https://github.com/WISDEM/WOMBAT.git   github   \n",
       "67            https://github.com/WISDEM/LandBOSSE.git   github   \n",
       "68           https://github.com/OpenMDAO/OpenMDAO.git   github   \n",
       "75            https://github.com/sintel-dev/Draco.git   github   \n",
       "77                https://github.com/WISDEM/ORBIT.git   github   \n",
       "\n",
       "                                               topics  \\\n",
       "0   solar-energy,python,renewable-energy,renewable...   \n",
       "1       solar-energy,renewable-energy,python,bifacial   \n",
       "3               numpy,scipy,python,solar,photovoltaic   \n",
       "4                                                 NaN   \n",
       "7                                                 NaN   \n",
       "8                                                 NaN   \n",
       "11                                                NaN   \n",
       "12                                                NaN   \n",
       "13                                                NaN   \n",
       "14  radiance,bifacial,photovoltaics,renewable-ener...   \n",
       "17  photovoltaic,semiconductor,solar-cells,python,...   \n",
       "18  solax,solar,photovoltaic,home-automation,iot,r...   \n",
       "19                                                NaN   \n",
       "21  engineering,energy,solar,thermodynamics,optimi...   \n",
       "22                                                NaN   \n",
       "23                                                NaN   \n",
       "24    pvoutput,python,python-library,solar,nowcasting   \n",
       "25                                         nowcasting   \n",
       "28  freeboard,iot,solar-energy,sungrow-inverter,da...   \n",
       "29                                                NaN   \n",
       "30        perovskite-solar-cells,halide-ion-migration   \n",
       "31  physics,optics,raytracing,ray-tracing,rigorous...   \n",
       "33                                                NaN   \n",
       "35  agroclimatology,weather,r,nasa-power,nasa,agro...   \n",
       "37                                                NaN   \n",
       "38  defects,semiconductors,electronic-structure,ma...   \n",
       "42  solar-concentrating-systems,simulation,solar,e...   \n",
       "44                                                NaN   \n",
       "45                                                NaN   \n",
       "46  circular-economy,circularity-metrics,reliabili...   \n",
       "47                                         nowcasting   \n",
       "48                                                NaN   \n",
       "49                                                NaN   \n",
       "50                                                NaN   \n",
       "51                                                NaN   \n",
       "52                                                NaN   \n",
       "54                  wind,energy,power,model,modelling   \n",
       "55  openfoam,turbines,airfoils,blade-element,actua...   \n",
       "56  low-mach,wind-energy,les,cfd,ecp,exascale-comp...   \n",
       "57  wind-turbine,wind-energy,wind-farm,aeroelastic...   \n",
       "58  ecp,exascale-computing,amrex,amr,wind,wind-tur...   \n",
       "60                                                NaN   \n",
       "61                                                NaN   \n",
       "62                                                NaN   \n",
       "65           openmdao,systems-engineering,wisdem,wind   \n",
       "66  simulation,wind-energy,python3,simpy,operation...   \n",
       "67                                                NaN   \n",
       "68   nasa,open-source,framework,openmdao,optimization   \n",
       "75                                                NaN   \n",
       "77                                                NaN   \n",
       "\n",
       "                            rubric      last_commit_date  stargazers_count  \\\n",
       "0   Photovoltaics and Solar Energy  2022/08/12, 18:04:35             714.0   \n",
       "1   Photovoltaics and Solar Energy  2022/02/22, 21:53:32              60.0   \n",
       "3   Photovoltaics and Solar Energy  2022/04/14, 19:15:36              51.0   \n",
       "4   Photovoltaics and Solar Energy  2022/07/01, 21:13:13             109.0   \n",
       "7   Photovoltaics and Solar Energy  2022/08/03, 17:03:08              70.0   \n",
       "8   Photovoltaics and Solar Energy  2022/04/25, 22:48:39              41.0   \n",
       "11  Photovoltaics and Solar Energy  2022/08/08, 21:06:33              26.0   \n",
       "12  Photovoltaics and Solar Energy  2022/08/04, 20:46:41              27.0   \n",
       "13  Photovoltaics and Solar Energy  2022/04/28, 17:07:57              24.0   \n",
       "14  Photovoltaics and Solar Energy  2022/04/22, 22:20:00              58.0   \n",
       "17  Photovoltaics and Solar Energy  2022/06/01, 01:44:00              83.0   \n",
       "18  Photovoltaics and Solar Energy  2022/07/31, 11:09:25              40.0   \n",
       "19  Photovoltaics and Solar Energy  2022/03/18, 19:09:32              17.0   \n",
       "21  Photovoltaics and Solar Energy  2022/02/06, 11:14:27              26.0   \n",
       "22  Photovoltaics and Solar Energy  2022/06/27, 14:58:43              55.0   \n",
       "23  Photovoltaics and Solar Energy  2022/03/21, 14:10:45             103.0   \n",
       "24  Photovoltaics and Solar Energy  2022/05/04, 19:42:41              24.0   \n",
       "25  Photovoltaics and Solar Energy  2022/04/07, 10:59:27              42.0   \n",
       "28  Photovoltaics and Solar Energy  2022/02/10, 20:06:56             129.0   \n",
       "29  Photovoltaics and Solar Energy  2022/08/02, 15:54:50              50.0   \n",
       "30  Photovoltaics and Solar Energy  2022/08/09, 10:49:44              21.0   \n",
       "31  Photovoltaics and Solar Energy  2022/04/19, 01:18:56              12.0   \n",
       "33  Photovoltaics and Solar Energy  2022/06/23, 21:50:25              22.0   \n",
       "35  Photovoltaics and Solar Energy  2022/08/14, 07:54:39              82.0   \n",
       "37  Photovoltaics and Solar Energy  2022/07/14, 17:20:40              26.0   \n",
       "38  Photovoltaics and Solar Energy  2022/05/30, 07:42:55              33.0   \n",
       "42  Photovoltaics and Solar Energy  2022/02/23, 09:35:27              45.0   \n",
       "44  Photovoltaics and Solar Energy  2021/12/14, 00:49:44              15.0   \n",
       "45  Photovoltaics and Solar Energy  2022/05/03, 18:34:54             304.0   \n",
       "46  Photovoltaics and Solar Energy  2022/07/05, 19:40:25              17.0   \n",
       "47  Photovoltaics and Solar Energy  2022/07/20, 08:47:55              46.0   \n",
       "48  Photovoltaics and Solar Energy  2022/02/11, 19:07:13              19.0   \n",
       "49  Photovoltaics and Solar Energy  2021/10/13, 19:41:56               6.0   \n",
       "50  Photovoltaics and Solar Energy  2021/11/25, 08:55:36              98.0   \n",
       "51  Photovoltaics and Solar Energy  2021/09/10, 22:03:57              34.0   \n",
       "52                     Wind Energy  2022/04/05, 11:35:39             131.0   \n",
       "54                     Wind Energy  2022/07/12, 18:02:47             224.0   \n",
       "55                     Wind Energy  2022/05/16, 14:48:37              60.0   \n",
       "56                     Wind Energy  2022/08/12, 20:14:26              79.0   \n",
       "57                     Wind Energy  2022/07/29, 15:30:51             392.0   \n",
       "58                     Wind Energy  2022/08/12, 16:42:24              43.0   \n",
       "60                     Wind Energy  2022/04/14, 18:16:35             124.0   \n",
       "61                     Wind Energy  2022/08/09, 16:29:17              44.0   \n",
       "62                     Wind Energy  2022/06/22, 20:48:30             101.0   \n",
       "65                     Wind Energy  2022/06/24, 13:45:57              88.0   \n",
       "66                     Wind Energy  2022/07/23, 03:09:38               8.0   \n",
       "67                     Wind Energy  2022/02/07, 20:47:00              13.0   \n",
       "68                     Wind Energy  2022/08/11, 17:45:33             347.0   \n",
       "75                     Wind Energy  2022/04/12, 07:28:34              34.0   \n",
       "77                     Wind Energy  2022/04/04, 20:06:57              10.0   \n",
       "\n",
       "    number_of_dependents  ...  organization_country organization_form  \\\n",
       "0                  257.0  ...                   NaN               NaN   \n",
       "1                    8.0  ...                   NaN               NaN   \n",
       "3                    0.0  ...                   NaN               NaN   \n",
       "4                    5.0  ...                   NaN               NaN   \n",
       "7                   10.0  ...                   NaN               NaN   \n",
       "8                    1.0  ...                   NaN               NaN   \n",
       "11                   0.0  ...                   NaN               NaN   \n",
       "12                   6.0  ...                   NaN               NaN   \n",
       "13                   1.0  ...                   NaN               NaN   \n",
       "14                   0.0  ...                   NaN               NaN   \n",
       "17                   3.0  ...                   NaN               NaN   \n",
       "18                 184.0  ...                   NaN               NaN   \n",
       "19                   0.0  ...                   NaN               NaN   \n",
       "21                   0.0  ...                   NaN               NaN   \n",
       "22                   0.0  ...                   NaN               NaN   \n",
       "23                   0.0  ...                   NaN               NaN   \n",
       "24                   1.0  ...                   NaN               NaN   \n",
       "25                   0.0  ...                   NaN               NaN   \n",
       "28                   0.0  ...                   NaN               NaN   \n",
       "29                   1.0  ...                   NaN               NaN   \n",
       "30                   0.0  ...                   NaN               NaN   \n",
       "31                   0.0  ...                   NaN               NaN   \n",
       "33                   2.0  ...                   NaN               NaN   \n",
       "35                   0.0  ...                   NaN               NaN   \n",
       "37                   0.0  ...                   NaN               NaN   \n",
       "38                   0.0  ...                   NaN               NaN   \n",
       "42                   0.0  ...                   NaN               NaN   \n",
       "44                   0.0  ...                   NaN               NaN   \n",
       "45                   0.0  ...                   NaN               NaN   \n",
       "46                   0.0  ...                   NaN               NaN   \n",
       "47                   0.0  ...                   NaN               NaN   \n",
       "48                   3.0  ...                   NaN               NaN   \n",
       "49                   1.0  ...                   NaN               NaN   \n",
       "50                   0.0  ...                   NaN               NaN   \n",
       "51                   0.0  ...                   NaN               NaN   \n",
       "52                   0.0  ...                   NaN               NaN   \n",
       "54                  13.0  ...                   NaN               NaN   \n",
       "55                   0.0  ...                   NaN               NaN   \n",
       "56                   0.0  ...                   NaN               NaN   \n",
       "57                   0.0  ...                   NaN               NaN   \n",
       "58                   0.0  ...                   NaN               NaN   \n",
       "60                   2.0  ...                   NaN               NaN   \n",
       "61                   0.0  ...                   NaN               NaN   \n",
       "62                   0.0  ...                   NaN               NaN   \n",
       "65                   0.0  ...                   NaN               NaN   \n",
       "66                   1.0  ...                   NaN               NaN   \n",
       "67                   0.0  ...                   NaN               NaN   \n",
       "68                 131.0  ...                   NaN               NaN   \n",
       "75                   0.0  ...                   NaN               NaN   \n",
       "77                   0.0  ...                   NaN               NaN   \n",
       "\n",
       "                                  organization_avatar  \\\n",
       "0   https://avatars.githubusercontent.com/u/110372...   \n",
       "1   https://avatars.githubusercontent.com/u/134197...   \n",
       "3   https://avatars.githubusercontent.com/u/134197...   \n",
       "4   https://avatars.githubusercontent.com/u/190680...   \n",
       "7   https://avatars.githubusercontent.com/u/850337...   \n",
       "8                                                 NaN   \n",
       "11  https://avatars.githubusercontent.com/u/190680...   \n",
       "12  https://avatars.githubusercontent.com/u/198955...   \n",
       "13  https://avatars.githubusercontent.com/u/520033...   \n",
       "14  https://avatars.githubusercontent.com/u/190680...   \n",
       "17  https://avatars.githubusercontent.com/u/485529...   \n",
       "18                                                NaN   \n",
       "19  https://avatars.githubusercontent.com/u/190680...   \n",
       "21  https://avatars.githubusercontent.com/u/157012...   \n",
       "22  https://avatars.githubusercontent.com/u/176741...   \n",
       "23  https://avatars.githubusercontent.com/u/176741...   \n",
       "24  https://avatars.githubusercontent.com/u/483575...   \n",
       "25  https://avatars.githubusercontent.com/u/483575...   \n",
       "28                                                NaN   \n",
       "29  https://avatars.githubusercontent.com/u/110372...   \n",
       "30  https://avatars.githubusercontent.com/u/458728...   \n",
       "31  https://avatars.githubusercontent.com/u/485529...   \n",
       "33  https://avatars.githubusercontent.com/u/198955...   \n",
       "35  https://avatars.githubusercontent.com/u/120026...   \n",
       "37  https://avatars.githubusercontent.com/u/190680...   \n",
       "38  https://avatars.githubusercontent.com/u/171696...   \n",
       "42  https://avatars.githubusercontent.com/u/123318...   \n",
       "44  https://avatars.githubusercontent.com/u/143757...   \n",
       "45                                                NaN   \n",
       "46  https://avatars.githubusercontent.com/u/190680...   \n",
       "47  https://avatars.githubusercontent.com/u/483575...   \n",
       "48  https://avatars.githubusercontent.com/u/436863...   \n",
       "49  https://avatars.githubusercontent.com/u/198955...   \n",
       "50                                                NaN   \n",
       "51  https://avatars.githubusercontent.com/u/190680...   \n",
       "52  https://avatars.githubusercontent.com/u/365464...   \n",
       "54  https://avatars.githubusercontent.com/u/212630...   \n",
       "55  https://avatars.githubusercontent.com/u/104041...   \n",
       "56  https://avatars.githubusercontent.com/u/223285...   \n",
       "57  https://avatars.githubusercontent.com/u/158386...   \n",
       "58  https://avatars.githubusercontent.com/u/223285...   \n",
       "60  https://avatars.githubusercontent.com/u/190680...   \n",
       "61  https://avatars.githubusercontent.com/u/190680...   \n",
       "62  https://avatars.githubusercontent.com/u/190680...   \n",
       "65  https://avatars.githubusercontent.com/u/544427...   \n",
       "66  https://avatars.githubusercontent.com/u/544427...   \n",
       "67  https://avatars.githubusercontent.com/u/544427...   \n",
       "68  https://avatars.githubusercontent.com/u/861615...   \n",
       "75  https://avatars.githubusercontent.com/u/133367...   \n",
       "77  https://avatars.githubusercontent.com/u/544427...   \n",
       "\n",
       "   organization_public_repos organization_created organization_last_update  \\\n",
       "0                        NaN                  NaN                      NaN   \n",
       "1                        NaN                  NaN                      NaN   \n",
       "3                        NaN                  NaN                      NaN   \n",
       "4                        NaN                  NaN                      NaN   \n",
       "7                        NaN                  NaN                      NaN   \n",
       "8                        NaN                  NaN                      NaN   \n",
       "11                       NaN                  NaN                      NaN   \n",
       "12                       NaN                  NaN                      NaN   \n",
       "13                       NaN                  NaN                      NaN   \n",
       "14                       NaN                  NaN                      NaN   \n",
       "17                       NaN                  NaN                      NaN   \n",
       "18                       NaN                  NaN                      NaN   \n",
       "19                       NaN                  NaN                      NaN   \n",
       "21                       NaN                  NaN                      NaN   \n",
       "22                       NaN                  NaN                      NaN   \n",
       "23                       NaN                  NaN                      NaN   \n",
       "24                       NaN                  NaN                      NaN   \n",
       "25                       NaN                  NaN                      NaN   \n",
       "28                       NaN                  NaN                      NaN   \n",
       "29                       NaN                  NaN                      NaN   \n",
       "30                       NaN                  NaN                      NaN   \n",
       "31                       NaN                  NaN                      NaN   \n",
       "33                       NaN                  NaN                      NaN   \n",
       "35                       NaN                  NaN                      NaN   \n",
       "37                       NaN                  NaN                      NaN   \n",
       "38                       NaN                  NaN                      NaN   \n",
       "42                       NaN                  NaN                      NaN   \n",
       "44                       NaN                  NaN                      NaN   \n",
       "45                       NaN                  NaN                      NaN   \n",
       "46                       NaN                  NaN                      NaN   \n",
       "47                       NaN                  NaN                      NaN   \n",
       "48                       NaN                  NaN                      NaN   \n",
       "49                       NaN                  NaN                      NaN   \n",
       "50                       NaN                  NaN                      NaN   \n",
       "51                       NaN                  NaN                      NaN   \n",
       "52                       NaN                  NaN                      NaN   \n",
       "54                       NaN                  NaN                      NaN   \n",
       "55                       NaN                  NaN                      NaN   \n",
       "56                       NaN                  NaN                      NaN   \n",
       "57                       NaN                  NaN                      NaN   \n",
       "58                       NaN                  NaN                      NaN   \n",
       "60                       NaN                  NaN                      NaN   \n",
       "61                       NaN                  NaN                      NaN   \n",
       "62                       NaN                  NaN                      NaN   \n",
       "65                       NaN                  NaN                      NaN   \n",
       "66                       NaN                  NaN                      NaN   \n",
       "67                       NaN                  NaN                      NaN   \n",
       "68                       NaN                  NaN                      NaN   \n",
       "75                       NaN                  NaN                      NaN   \n",
       "77                       NaN                  NaN                      NaN   \n",
       "\n",
       "    activity community      size  total_score  \n",
       "0   2.096996  2.511890  3.520651     0.795517  \n",
       "1   1.967459  1.522528  1.501252     0.501725  \n",
       "3   1.095119  1.735294  1.712766     0.452740  \n",
       "4   2.108886  2.063204  2.523154     0.662800  \n",
       "7   1.439925  2.194618  1.570713     0.528561  \n",
       "8   1.016896  0.833542  0.344180     0.228523  \n",
       "11  0.944305  0.469962  1.152691     0.247463  \n",
       "12  2.556320  1.668961  1.958698     0.617662  \n",
       "13  1.409887  0.372340  0.809762     0.256194  \n",
       "14  2.724030  1.305382  2.677722     0.654103  \n",
       "17  2.546934  2.438048  2.590738     0.756284  \n",
       "18  1.941176  1.567584  1.263454     0.484219  \n",
       "19  2.167084  1.244055  1.088235     0.456546  \n",
       "21  1.906758  1.978723  1.682103     0.562014  \n",
       "22  1.844806  1.168335  0.747184     0.386020  \n",
       "23  1.730288  1.655820  2.026283     0.535969  \n",
       "24  2.849186  1.946183  1.729036     0.660212  \n",
       "25  2.000626  1.091364  1.095745     0.422637  \n",
       "28  1.789737  1.964330  1.329787     0.518803  \n",
       "29  2.438048  1.723404  1.719650     0.591550  \n",
       "30  1.936796  0.903004  0.636421     0.356381  \n",
       "31  2.242804  0.245307  0.996871     0.344050  \n",
       "33  2.279099  1.375469  1.484355     0.516105  \n",
       "35  2.876721  0.481852  1.504380     0.479022  \n",
       "37  1.370463  0.925532  0.714643     0.306595  \n",
       "38  2.073217  1.782228  1.126408     0.510726  \n",
       "42  1.297872  0.704631  1.365457     0.328469  \n",
       "44  1.182103  0.482478  0.910513     0.253365  \n",
       "45  1.528160  1.685857  2.275344     0.539152  \n",
       "46  1.821026  1.152065  1.190864     0.418766  \n",
       "47  2.108260  1.951189  1.855444     0.594326  \n",
       "48  2.553191  1.996871  2.477472     0.697676  \n",
       "49  2.510013  0.999374  1.314768     0.483489  \n",
       "50  1.186483  0.409887  0.439299     0.206273  \n",
       "51  1.272841  1.071339  0.595745     0.302977  \n",
       "52  2.535670  1.949312  1.973717     0.648415  \n",
       "54  1.081977  1.993116  2.182103     0.519673  \n",
       "55  1.297872  1.247184  2.091990     0.450388  \n",
       "56  1.867334  2.841051  3.530663     0.809638  \n",
       "57  2.760325  2.450563  3.631414     0.866789  \n",
       "58  1.729036  2.607009  3.352941     0.754004  \n",
       "60  1.997497  2.341051  2.325407     0.666070  \n",
       "61  2.172716  0.941176  1.929912     0.493237  \n",
       "62  2.618899  1.969962  3.056320     0.749811  \n",
       "65  2.790363  2.063204  3.161452     0.786937  \n",
       "66  2.344806  0.396120  0.869837     0.361066  \n",
       "67  1.707134  1.541302  2.020025     0.520113  \n",
       "68  2.177096  2.714643  3.887985     0.857407  \n",
       "75  2.122653  1.994994  1.393617     0.562197  \n",
       "77  0.990613  0.939925  1.600751     0.342744  \n",
       "\n",
       "[50 rows x 55 columns]"
      ]
     },
     "execution_count": 2,
     "metadata": {},
     "output_type": "execute_result"
    }
   ],
   "source": [
    "df['activity'] = df['total_commits_last_year'].rank(pct=True) + df['issues_closed_last_year'].rank(pct=True) + df['days_until_last_issue_closed'].rank(pct=True) + df['last_released_date'].rank(pct=True,na_option=\"top\") \n",
    "df['community'] = df['contributors'].rank(pct=True) + df['community_development_distribution_score'].rank(pct=True) + df['reviews_per_pr'].rank(pct=True)\n",
    "df['size'] = df['total_number_of_commits'].rank(pct=True) + df['contributors'].rank(pct=True) + df['closed_issues'].rank(pct=True) + df['closed_pullrequests'].rank(pct=True) \n",
    "df['total_score'] = (df['activity']/df['activity'].max() + df['community']/df['community'].max() + df['size']/df['size'].max() ) / 3\n",
    "\n",
    "df.head(50)\n",
    "\n",
    "df.to_csv('./csv/project_analysis.csv')"
   ]
  },
  {
   "cell_type": "code",
   "execution_count": 4,
   "metadata": {},
   "outputs": [
    {
     "data": {
      "text/plain": [
       "project_name                                                                       ml_drought\n",
       "oneliner                                    A Machine Learning Pipeline to Predict Vegetat...\n",
       "git_namespace                                                                           esowc\n",
       "git_url                                               https://github.com/esowc/ml_drought.git\n",
       "platform                                                                               github\n",
       "topics                                                       machine-learning,copernicus,2019\n",
       "rubric                                                                          Soil and Land\n",
       "last_commit_date                                                         2021/11/29, 14:26:49\n",
       "stargazers_count                                                                         78.0\n",
       "number_of_dependents                                                                      0.0\n",
       "stars_last_year                                                                           8.0\n",
       "project_active                                                                           True\n",
       "dominating_language                                                          Jupyter Notebook\n",
       "organization                                             ECMWF Summer of Weather Code (ESoWC)\n",
       "organization_user_name                                                                  esowc\n",
       "languages                                            Jupyter Notebook,Python,Shell,Dockerfile\n",
       "homepage                                        https://ml-clim.github.io/drought-prediction/\n",
       "first_commit_date                                                        2019/05/23, 15:14:56\n",
       "project_created                                                          2019/05/01, 16:05:56\n",
       "project_age_in_days                                                                    1201.0\n",
       "license                                                                                   MIT\n",
       "total_commits_last_year                                                                   5.0\n",
       "total_number_of_commits                                                                 267.0\n",
       "last_issue_closed                                                        2022/02/16, 10:18:37\n",
       "open_issues                                                                              42.0\n",
       "closed_pullrequests                                                                     114.0\n",
       "closed_issues                                                                           130.0\n",
       "issues_closed_last_year                                                                   1.0\n",
       "days_until_last_issue_closed                                                            180.0\n",
       "open_pullrequests                                                                        17.0\n",
       "reviews_per_pr                                                                            2.7\n",
       "community_development_distribution_score                                             0.459677\n",
       "last_released_date                                                                        NaN\n",
       "last_release_tag_name                                                                     NaN\n",
       "good_first_issue                                                                          0.0\n",
       "contributors                                                                              3.0\n",
       "accepts_donations                                                                       False\n",
       "donation_platforms                                                                        NaN\n",
       "code_of_conduct                                                                         False\n",
       "contribution_guide                                                                      False\n",
       "dependents_repos                                                                          NaN\n",
       "organization_name                                                                         NaN\n",
       "organization_github_url                                              https://github.com/esowc\n",
       "organization_website                                                  https://esowc.ecmwf.int\n",
       "organization_location                                                                  Online\n",
       "organization_country                                                                      NaN\n",
       "organization_form                                                                         NaN\n",
       "organization_avatar                         https://avatars.githubusercontent.com/u/448979...\n",
       "organization_public_repos                                                                 NaN\n",
       "organization_created                                                                      NaN\n",
       "organization_last_update                                                                  NaN\n",
       "activity                                                                             1.133292\n",
       "community                                                                            1.757822\n",
       "size                                                                                  1.56383\n",
       "total_score                                                                          0.446812\n",
       "Name: 1054, dtype: object"
      ]
     },
     "execution_count": 3,
     "metadata": {},
     "output_type": "execute_result"
    }
   ],
   "source": [
    "InteractiveShell.ast_node_interactivity = \"last\"\n",
    "df.iloc[681]"
   ]
  },
  {
   "cell_type": "code",
   "execution_count": 5,
   "metadata": {},
   "outputs": [
    {
     "data": {
      "application/vnd.plotly.v1+json": {
       "config": {
        "plotlyServerURL": "https://plot.ly"
       },
       "data": [
        {
         "alignmentgroup": "True",
         "bingroup": "x",
         "hovertemplate": "license=%{x}<br>count=%{y}<extra></extra>",
         "legendgroup": "",
         "marker": {
          "color": "#636efa",
          "pattern": {
           "shape": ""
          }
         },
         "name": "",
         "offsetgroup": "",
         "orientation": "v",
         "showlegend": false,
         "type": "histogram",
         "x": [
          "BSD-3-Clause",
          "BSD-3-Clause",
          "BSD-3-Clause",
          "MIT",
          "MIT",
          "GPL-3.0",
          "CUSTOM",
          "BSD-2-Clause",
          "CUSTOM",
          "BSD-3-Clause",
          "CUSTOM",
          "MIT",
          "CUSTOM",
          "LGPL-3.0",
          "Apache-2.0",
          "Apache-2.0",
          "Apache-2.0",
          "MIT",
          "MIT",
          "MIT",
          "AGPL-3.0",
          "CUSTOM",
          "BSD-2-Clause",
          "CUSTOM",
          "CUSTOM",
          "MIT",
          "GPL-3.0",
          "BSD-2-Clause",
          "GPL-3.0",
          "CUSTOM",
          "MIT",
          "MIT",
          "BSD-2-Clause",
          "MIT",
          "BSD-3-Clause",
          "Apache-2.0",
          "MIT",
          "CUSTOM",
          "CUSTOM",
          "Apache-2.0",
          "CUSTOM",
          "BSD-3-Clause",
          "Apache-2.0",
          "Apache-2.0",
          "Apache-2.0",
          "Apache-2.0",
          "CUSTOM",
          "CUSTOM",
          "MIT",
          "Apache-2.0",
          "MIT",
          "MIT",
          "CUSTOM",
          "BSD-3-Clause",
          "CUSTOM",
          "Apache-2.0",
          "Apache-2.0",
          "MIT",
          "BSD-3-Clause",
          "MIT",
          "GPL-3.0",
          "CC-BY-4.0",
          "BSD-3-Clause",
          "BSD-3-Clause",
          "MPL-2.0",
          "Apache-2.0",
          "GPL-3.0",
          "GPL-3.0",
          "BSD-3-Clause",
          "BSD-3-Clause",
          "CUSTOM",
          "MIT",
          "LGPL-3.0",
          "CUSTOM",
          "CUSTOM",
          "MIT",
          "BSD-3-Clause",
          "MIT",
          "MIT",
          "Apache-2.0",
          "CUSTOM",
          "CUSTOM",
          "BSD-3-Clause",
          "GPL-3.0",
          "GPL-3.0",
          "MIT",
          "MIT",
          "CC-BY-4.0",
          "CUSTOM",
          "GPL-3.0",
          "CUSTOM",
          "MIT",
          "BSD-3-Clause",
          "GPL-3.0",
          "MIT",
          "BSD-3-Clause",
          "GPL-3.0",
          "EUPL-1.2",
          "Apache-2.0",
          "MIT",
          "CUSTOM",
          "CC-BY-4.0",
          "BSD-3-Clause",
          "BSD-3-Clause",
          "BSD-3-Clause",
          "CC0-1.0",
          "BSD-3-Clause",
          "GPL-3.0",
          "CUSTOM",
          "BSD-3-Clause",
          "MIT",
          "MIT",
          "Apache-2.0",
          "CUSTOM",
          "GPL-2.0",
          "BSD-3-Clause",
          "MIT",
          "MIT",
          "MIT",
          "LGPL-3.0",
          "MIT",
          "MIT",
          "MIT",
          "MIT",
          "BSD-3-Clause",
          "MPL-2.0",
          "GPL-3.0",
          "GPL-2.0",
          "AGPL-3.0",
          "MIT",
          "MIT",
          "GPL-3.0",
          "MPL-2.0",
          "MPL-2.0",
          "CUSTOM",
          "AGPL-3.0",
          "GPL-2.0",
          "EUPL-1.2",
          "BSD-3-Clause",
          "MIT",
          "CUSTOM",
          "MIT",
          "MIT",
          "MIT",
          "Apache-2.0",
          "Apache-2.0",
          "CUSTOM",
          "MIT",
          "Apache-2.0",
          "GPL-3.0",
          "GPL-2.0",
          "GPL-2.0",
          "GPL-3.0",
          "GPL-3.0",
          "MPL-2.0",
          "MPL-2.0",
          "GPL-3.0",
          "LGPL-3.0",
          "AGPL-3.0",
          "MPL-2.0",
          "MIT",
          "MIT",
          "AGPL-3.0",
          "Apache-2.0",
          "CUSTOM",
          "CUSTOM",
          "CUSTOM",
          "MIT",
          "MIT",
          "Apache-2.0",
          "CUSTOM",
          "CUSTOM",
          "MPL-2.0",
          "AGPL-3.0",
          "GPL-3.0",
          "GPL-3.0",
          "GPL-3.0",
          "BSD-3-Clause",
          "LGPL-3.0",
          "MIT",
          "GPL-3.0",
          "LGPL-3.0",
          "GPL-3.0",
          "MIT",
          "MIT",
          "BSD-3-Clause",
          "MIT",
          "MIT",
          "MIT",
          "MIT",
          "AGPL-3.0",
          "GPL-3.0",
          "CUSTOM",
          "CUSTOM",
          "CUSTOM",
          "MIT",
          "GPL-3.0",
          "GPL-3.0",
          "MIT",
          "MIT",
          "MIT",
          "MIT",
          "BSD-2-Clause",
          "MIT",
          "CUSTOM",
          "CUSTOM",
          "CUSTOM",
          "BSD-3-Clause",
          "CUSTOM",
          "CUSTOM",
          "CUSTOM",
          "CUSTOM",
          "MIT",
          "MIT",
          "MIT",
          "MIT",
          "CUSTOM",
          "CUSTOM",
          "BSD-3-Clause",
          "BSD-3-Clause",
          "BSD-3-Clause",
          "BSD-3-Clause",
          "MIT",
          "MIT",
          "CUSTOM",
          "CUSTOM",
          "CUSTOM",
          "CUSTOM",
          "CUSTOM",
          "Apache-2.0",
          "GPL-3.0",
          "BSD-3-Clause",
          "MIT",
          "MIT",
          "Apache-2.0",
          "MIT",
          "BSD-3-Clause",
          "CUSTOM",
          "GPL-3.0",
          "MIT",
          "GPL-3.0",
          "MIT",
          "CUSTOM",
          "CUSTOM",
          "BSD-2-Clause",
          "GPL-3.0",
          "GPL-3.0",
          "AGPL-3.0",
          "CUSTOM",
          "MIT",
          "MIT",
          "MIT",
          "GPL-3.0",
          "MIT",
          "GPL-3.0",
          "CUSTOM",
          "Apache-2.0",
          "MIT",
          "GPL-3.0",
          "CUSTOM",
          "GPL-3.0",
          "GPL-3.0",
          "GPL-3.0",
          "CUSTOM",
          "MIT",
          "CUSTOM",
          "CUSTOM",
          "MIT",
          "LGPL-3.0",
          "AGPL-3.0",
          "EUPL-1.2",
          "EUPL-1.2",
          "GPL-3.0",
          "GPL-3.0",
          "Apache-2.0",
          "MIT",
          "Apache-2.0",
          "CUSTOM",
          "AGPL-3.0",
          "MIT",
          "Apache-2.0",
          "MIT",
          "GPL-3.0",
          "GPL-3.0",
          "CUSTOM",
          "CUSTOM",
          "CUSTOM",
          "MIT",
          "Apache-2.0",
          "BSD-3-Clause",
          "BSD-3-Clause",
          "Apache-2.0",
          "CUSTOM",
          "MIT",
          "Apache-2.0",
          "MIT",
          "Apache-2.0",
          "MIT",
          "MIT",
          "MIT",
          "GPL-3.0",
          "Apache-2.0",
          "Apache-2.0",
          "MIT",
          "Apache-2.0",
          "MIT",
          "MIT",
          "GPL-3.0",
          "MIT",
          "MIT",
          "Apache-2.0",
          "MPL-2.0",
          "CUSTOM",
          "LGPL-3.0",
          "LGPL-3.0",
          "LGPL-3.0",
          "BSD-3-Clause",
          "MIT",
          "CUSTOM",
          "LGPL-2.1",
          "CC-BY-4.0",
          "Apache-2.0",
          "MIT",
          "CUSTOM",
          "CUSTOM",
          "CUSTOM",
          "GPL-3.0",
          "GPL-3.0",
          "GPL-3.0",
          "GPL-3.0",
          "GPL-3.0",
          "BSD-3-Clause",
          "MIT",
          "GPL-3.0",
          "GPL-3.0",
          "BSD-3-Clause",
          "BSD-3-Clause",
          "MPL-2.0",
          "BSD-2-Clause",
          "MIT",
          "CUSTOM",
          "BSD-3-Clause",
          "CC0-1.0",
          "CC0-1.0",
          "MIT",
          "GPL-3.0",
          "GPL-3.0",
          "CUSTOM",
          "CUSTOM",
          "MIT",
          "MIT",
          "MIT",
          "CUSTOM",
          "GPL-3.0",
          "GPL-3.0",
          "BSD-3-Clause",
          "MIT",
          "CC-BY-4.0",
          "GPL-3.0",
          "MIT",
          "CUSTOM",
          "CUSTOM",
          "GPL-3.0",
          "GPL-3.0",
          "MIT",
          "Apache-2.0",
          "CC0-1.0",
          "MIT",
          "BSD-3-Clause",
          "BSD-3-Clause",
          "CUSTOM",
          "MIT",
          "CUSTOM",
          "GPL-3.0",
          "Apache-2.0",
          "GPL-3.0",
          "CUSTOM",
          "CUSTOM",
          "CUSTOM",
          "MIT",
          "MIT",
          "CC0-1.0",
          "CUSTOM",
          "CUSTOM",
          "CUSTOM",
          "MIT",
          "GPL-3.0",
          "GPL-3.0",
          "MIT",
          "AGPL-3.0",
          "AGPL-3.0",
          "CUSTOM",
          "MIT",
          "Apache-2.0",
          "CUSTOM",
          "GPL-3.0",
          "GPL-3.0",
          "MIT",
          "MIT",
          "MIT",
          "MIT",
          "Apache-2.0",
          "MIT",
          "GPL-3.0",
          "GPL-3.0",
          "MIT",
          "GPL-2.0",
          "CUSTOM",
          "GPL-3.0",
          "AGPL-3.0",
          "AGPL-3.0",
          "MIT",
          "MIT",
          "GPL-2.0",
          "CUSTOM",
          "GPL-3.0",
          "GPL-3.0",
          "CUSTOM",
          "BSD-3-Clause",
          "BSD-3-Clause",
          "GPL-3.0",
          "GPL-3.0",
          "LGPL-3.0",
          "Apache-2.0",
          "Apache-2.0",
          "CUSTOM",
          "MIT",
          "MIT",
          "MIT",
          "BSD-3-Clause",
          "GPL-3.0",
          "LGPL-3.0",
          "GPL-3.0",
          "CUSTOM",
          "MIT",
          "LGPL-3.0",
          "MIT",
          "MIT",
          "CUSTOM",
          "GPL-2.0",
          "MIT",
          "LGPL-3.0",
          "MIT",
          "GPL-3.0",
          "GPL-3.0",
          "CUSTOM",
          "MIT",
          "CUSTOM",
          "BSD-2-Clause",
          "CUSTOM",
          "CUSTOM",
          "MIT",
          "GPL-3.0",
          "GPL-3.0",
          "MIT",
          "GPL-2.0",
          "CUSTOM",
          "CUSTOM",
          "GPL-3.0",
          "BSD-3-Clause",
          "GPL-3.0",
          "MIT",
          "MIT",
          "CUSTOM",
          "GPL-3.0",
          "Apache-2.0",
          "Apache-2.0",
          "MIT",
          "CUSTOM",
          "MIT",
          "CUSTOM",
          "GPL-3.0",
          "MIT",
          "MIT",
          "Apache-2.0",
          "CUSTOM",
          "CUSTOM",
          "Apache-2.0",
          "GPL-3.0",
          "MIT",
          "CC0-1.0",
          "MIT",
          "GPL-3.0",
          "MIT",
          "CUSTOM",
          "MIT",
          "BSD-2-Clause",
          "GPL-3.0",
          "MIT",
          "CUSTOM",
          "GPL-3.0",
          "Apache-2.0",
          "Apache-2.0",
          "MIT",
          "GPL-3.0",
          "CUSTOM",
          "Apache-2.0",
          "GPL-3.0",
          "CUSTOM",
          "CUSTOM",
          "Apache-2.0",
          "CUSTOM",
          "Apache-2.0",
          "CUSTOM",
          "CUSTOM",
          "CUSTOM",
          "CUSTOM",
          "BSD-3-Clause",
          "CUSTOM",
          "CUSTOM",
          "CUSTOM",
          "Apache-2.0",
          "CUSTOM",
          "CUSTOM",
          "CUSTOM",
          "Apache-2.0",
          "CUSTOM",
          "GPL-2.0",
          "GPL-3.0",
          "AGPL-3.0",
          "CUSTOM",
          "MIT",
          "Apache-2.0",
          "GPL-3.0",
          "MIT",
          "CUSTOM",
          "GPL-3.0",
          "CUSTOM",
          "MIT",
          "MIT",
          "MIT",
          "CUSTOM",
          "GPL-3.0",
          "Apache-2.0",
          "MIT",
          "MIT",
          "MIT",
          "MIT",
          "Apache-2.0",
          "MIT",
          "CUSTOM",
          "GPL-3.0",
          "Apache-2.0",
          "GPL-2.0",
          "LGPL-3.0",
          "BSD-3-Clause",
          "CUSTOM",
          "LGPL-3.0",
          "GPL-3.0",
          "GPL-3.0",
          "CUSTOM",
          "CUSTOM",
          "CUSTOM",
          "CUSTOM",
          "GPL-3.0",
          "CUSTOM",
          "AGPL-3.0",
          "GPL-3.0",
          "GPL-3.0",
          "CUSTOM",
          "CUSTOM",
          "BSD-3-Clause",
          "MIT",
          "MIT",
          "MIT",
          "Apache-2.0",
          "LGPL-3.0",
          "MIT",
          "MIT",
          "Apache-2.0",
          "GPL-3.0",
          "GPL-3.0",
          "LGPL-3.0",
          "CUSTOM",
          "GPL-3.0",
          "CUSTOM",
          "MIT",
          "BSD-3-Clause",
          "BSD-3-Clause",
          "Apache-2.0",
          "MIT",
          "BSD-3-Clause",
          "CUSTOM",
          "Apache-2.0",
          "GPL-3.0",
          "CUSTOM",
          "CUSTOM",
          "CUSTOM",
          "MIT",
          "Apache-2.0",
          "CUSTOM",
          "GPL-3.0",
          "BSD-3-Clause",
          "CUSTOM",
          "Apache-2.0",
          "CUSTOM",
          "CUSTOM",
          "Apache-2.0",
          "CUSTOM",
          "Apache-2.0",
          "BSD-3-Clause",
          "BSD-3-Clause",
          "CUSTOM",
          "MIT",
          "MIT",
          "MIT",
          "CUSTOM",
          "MIT",
          "Apache-2.0",
          "CUSTOM",
          "MIT",
          "MIT",
          "GPL-3.0",
          "Apache-2.0",
          "AGPL-3.0",
          "AGPL-3.0",
          "GPL-3.0",
          "MIT",
          "MIT",
          "GPL-3.0",
          "GPL-3.0",
          "MIT",
          "MIT",
          "GPL-3.0",
          "MIT",
          "MIT",
          "MIT",
          "BSD-2-Clause",
          "GPL-3.0",
          "GPL-3.0",
          "GPL-3.0",
          "CUSTOM",
          "CUSTOM",
          "CUSTOM",
          "CUSTOM",
          "CUSTOM",
          "CC0-1.0",
          "MIT",
          "GPL-3.0",
          "GPL-3.0",
          "CUSTOM",
          "GPL-3.0",
          "MIT",
          "GPL-3.0",
          "CUSTOM",
          "Apache-2.0",
          "Apache-2.0",
          "CUSTOM",
          "CUSTOM",
          "GPL-3.0",
          "MIT",
          "CUSTOM",
          "BSD-3-Clause",
          "BSD-3-Clause",
          "Apache-2.0",
          "Apache-2.0",
          "Unlicense",
          "GPL-3.0",
          "GPL-3.0",
          "Apache-2.0",
          "CUSTOM",
          "AGPL-3.0",
          "CUSTOM",
          "GPL-3.0",
          "Apache-2.0",
          "BSD-3-Clause",
          "CUSTOM",
          "Apache-2.0",
          "BSD-3-Clause",
          "GPL-3.0",
          "CUSTOM",
          "Apache-2.0",
          "Apache-2.0",
          "CC-BY-4.0",
          "CC-BY-4.0",
          "CC-BY-4.0",
          "CC-BY-4.0",
          "GPL-3.0",
          "CUSTOM",
          "MIT",
          "CUSTOM",
          "MIT",
          "MIT",
          "CUSTOM",
          "GPL-2.0",
          "MIT",
          "GPL-3.0",
          "GPL-3.0",
          "CUSTOM",
          "GPL-3.0",
          "GPL-3.0",
          "Apache-2.0",
          "MPL-2.0",
          "MIT",
          "MIT",
          "MIT",
          "GPL-2.0",
          "MIT",
          "AGPL-3.0",
          "BSD-3-Clause",
          "CUSTOM",
          "GPL-3.0",
          "CUSTOM",
          "CUSTOM",
          "MIT",
          "CUSTOM",
          "CUSTOM",
          "GPL-2.0",
          "GPL-2.0",
          "GPL-3.0",
          "MIT",
          "AGPL-3.0",
          "MIT",
          "AGPL-3.0",
          "AGPL-3.0",
          "AGPL-3.0",
          "GPL-3.0",
          "GPL-3.0",
          "CC-BY-SA-4.0",
          "MIT",
          "MIT",
          "CC-BY-4.0",
          "MIT",
          "GPL-3.0",
          "Apache-2.0",
          "CUSTOM",
          "MIT",
          "EUPL-1.2",
          "MIT",
          "GPL-3.0",
          "BSD-3-Clause",
          "Apache-2.0",
          "MIT",
          "MIT",
          "CUSTOM",
          "CUSTOM",
          "CUSTOM",
          "CUSTOM",
          "CUSTOM",
          "MIT",
          "MIT",
          "AGPL-3.0",
          "BSD-3-Clause",
          "Apache-2.0",
          "CUSTOM",
          "MIT",
          "Apache-2.0",
          "CUSTOM",
          "CC0-1.0",
          "CUSTOM",
          "CUSTOM",
          "CUSTOM",
          "CC0-1.0",
          "CC0-1.0",
          "Unlicense",
          "CUSTOM",
          "GPL-2.0",
          "CUSTOM",
          "MIT",
          "MIT",
          "CUSTOM",
          "CC-BY-SA-4.0",
          "CC-BY-SA-4.0",
          "CUSTOM",
          "GPL-3.0",
          "Apache-2.0",
          "BSD-3-Clause",
          "Apache-2.0",
          "CUSTOM",
          "MIT",
          "MIT",
          "GPL-3.0",
          "CUSTOM",
          "CUSTOM",
          "MIT",
          "MIT",
          "Apache-2.0",
          "MIT",
          "CUSTOM",
          "GPL-3.0",
          "Apache-2.0",
          "CUSTOM",
          "ISC",
          "GPL-3.0",
          "CUSTOM",
          "CUSTOM",
          "MIT",
          "CC0-1.0",
          "CC0-1.0",
          "CUSTOM",
          "CC0-1.0",
          "CC0-1.0",
          "CC0-1.0",
          "CC0-1.0",
          "CC0-1.0",
          "CC0-1.0",
          "MIT",
          "CC0-1.0",
          "CC0-1.0"
         ],
         "xaxis": "x",
         "yaxis": "y"
        }
       ],
       "layout": {
        "barmode": "relative",
        "legend": {
         "tracegroupgap": 0
        },
        "margin": {
         "t": 60
        },
        "template": {
         "data": {
          "bar": [
           {
            "error_x": {
             "color": "#2a3f5f"
            },
            "error_y": {
             "color": "#2a3f5f"
            },
            "marker": {
             "line": {
              "color": "#E5ECF6",
              "width": 0.5
             },
             "pattern": {
              "fillmode": "overlay",
              "size": 10,
              "solidity": 0.2
             }
            },
            "type": "bar"
           }
          ],
          "barpolar": [
           {
            "marker": {
             "line": {
              "color": "#E5ECF6",
              "width": 0.5
             },
             "pattern": {
              "fillmode": "overlay",
              "size": 10,
              "solidity": 0.2
             }
            },
            "type": "barpolar"
           }
          ],
          "carpet": [
           {
            "aaxis": {
             "endlinecolor": "#2a3f5f",
             "gridcolor": "white",
             "linecolor": "white",
             "minorgridcolor": "white",
             "startlinecolor": "#2a3f5f"
            },
            "baxis": {
             "endlinecolor": "#2a3f5f",
             "gridcolor": "white",
             "linecolor": "white",
             "minorgridcolor": "white",
             "startlinecolor": "#2a3f5f"
            },
            "type": "carpet"
           }
          ],
          "choropleth": [
           {
            "colorbar": {
             "outlinewidth": 0,
             "ticks": ""
            },
            "type": "choropleth"
           }
          ],
          "contour": [
           {
            "colorbar": {
             "outlinewidth": 0,
             "ticks": ""
            },
            "colorscale": [
             [
              0,
              "#0d0887"
             ],
             [
              0.1111111111111111,
              "#46039f"
             ],
             [
              0.2222222222222222,
              "#7201a8"
             ],
             [
              0.3333333333333333,
              "#9c179e"
             ],
             [
              0.4444444444444444,
              "#bd3786"
             ],
             [
              0.5555555555555556,
              "#d8576b"
             ],
             [
              0.6666666666666666,
              "#ed7953"
             ],
             [
              0.7777777777777778,
              "#fb9f3a"
             ],
             [
              0.8888888888888888,
              "#fdca26"
             ],
             [
              1,
              "#f0f921"
             ]
            ],
            "type": "contour"
           }
          ],
          "contourcarpet": [
           {
            "colorbar": {
             "outlinewidth": 0,
             "ticks": ""
            },
            "type": "contourcarpet"
           }
          ],
          "heatmap": [
           {
            "colorbar": {
             "outlinewidth": 0,
             "ticks": ""
            },
            "colorscale": [
             [
              0,
              "#0d0887"
             ],
             [
              0.1111111111111111,
              "#46039f"
             ],
             [
              0.2222222222222222,
              "#7201a8"
             ],
             [
              0.3333333333333333,
              "#9c179e"
             ],
             [
              0.4444444444444444,
              "#bd3786"
             ],
             [
              0.5555555555555556,
              "#d8576b"
             ],
             [
              0.6666666666666666,
              "#ed7953"
             ],
             [
              0.7777777777777778,
              "#fb9f3a"
             ],
             [
              0.8888888888888888,
              "#fdca26"
             ],
             [
              1,
              "#f0f921"
             ]
            ],
            "type": "heatmap"
           }
          ],
          "heatmapgl": [
           {
            "colorbar": {
             "outlinewidth": 0,
             "ticks": ""
            },
            "colorscale": [
             [
              0,
              "#0d0887"
             ],
             [
              0.1111111111111111,
              "#46039f"
             ],
             [
              0.2222222222222222,
              "#7201a8"
             ],
             [
              0.3333333333333333,
              "#9c179e"
             ],
             [
              0.4444444444444444,
              "#bd3786"
             ],
             [
              0.5555555555555556,
              "#d8576b"
             ],
             [
              0.6666666666666666,
              "#ed7953"
             ],
             [
              0.7777777777777778,
              "#fb9f3a"
             ],
             [
              0.8888888888888888,
              "#fdca26"
             ],
             [
              1,
              "#f0f921"
             ]
            ],
            "type": "heatmapgl"
           }
          ],
          "histogram": [
           {
            "marker": {
             "pattern": {
              "fillmode": "overlay",
              "size": 10,
              "solidity": 0.2
             }
            },
            "type": "histogram"
           }
          ],
          "histogram2d": [
           {
            "colorbar": {
             "outlinewidth": 0,
             "ticks": ""
            },
            "colorscale": [
             [
              0,
              "#0d0887"
             ],
             [
              0.1111111111111111,
              "#46039f"
             ],
             [
              0.2222222222222222,
              "#7201a8"
             ],
             [
              0.3333333333333333,
              "#9c179e"
             ],
             [
              0.4444444444444444,
              "#bd3786"
             ],
             [
              0.5555555555555556,
              "#d8576b"
             ],
             [
              0.6666666666666666,
              "#ed7953"
             ],
             [
              0.7777777777777778,
              "#fb9f3a"
             ],
             [
              0.8888888888888888,
              "#fdca26"
             ],
             [
              1,
              "#f0f921"
             ]
            ],
            "type": "histogram2d"
           }
          ],
          "histogram2dcontour": [
           {
            "colorbar": {
             "outlinewidth": 0,
             "ticks": ""
            },
            "colorscale": [
             [
              0,
              "#0d0887"
             ],
             [
              0.1111111111111111,
              "#46039f"
             ],
             [
              0.2222222222222222,
              "#7201a8"
             ],
             [
              0.3333333333333333,
              "#9c179e"
             ],
             [
              0.4444444444444444,
              "#bd3786"
             ],
             [
              0.5555555555555556,
              "#d8576b"
             ],
             [
              0.6666666666666666,
              "#ed7953"
             ],
             [
              0.7777777777777778,
              "#fb9f3a"
             ],
             [
              0.8888888888888888,
              "#fdca26"
             ],
             [
              1,
              "#f0f921"
             ]
            ],
            "type": "histogram2dcontour"
           }
          ],
          "mesh3d": [
           {
            "colorbar": {
             "outlinewidth": 0,
             "ticks": ""
            },
            "type": "mesh3d"
           }
          ],
          "parcoords": [
           {
            "line": {
             "colorbar": {
              "outlinewidth": 0,
              "ticks": ""
             }
            },
            "type": "parcoords"
           }
          ],
          "pie": [
           {
            "automargin": true,
            "type": "pie"
           }
          ],
          "scatter": [
           {
            "marker": {
             "colorbar": {
              "outlinewidth": 0,
              "ticks": ""
             }
            },
            "type": "scatter"
           }
          ],
          "scatter3d": [
           {
            "line": {
             "colorbar": {
              "outlinewidth": 0,
              "ticks": ""
             }
            },
            "marker": {
             "colorbar": {
              "outlinewidth": 0,
              "ticks": ""
             }
            },
            "type": "scatter3d"
           }
          ],
          "scattercarpet": [
           {
            "marker": {
             "colorbar": {
              "outlinewidth": 0,
              "ticks": ""
             }
            },
            "type": "scattercarpet"
           }
          ],
          "scattergeo": [
           {
            "marker": {
             "colorbar": {
              "outlinewidth": 0,
              "ticks": ""
             }
            },
            "type": "scattergeo"
           }
          ],
          "scattergl": [
           {
            "marker": {
             "colorbar": {
              "outlinewidth": 0,
              "ticks": ""
             }
            },
            "type": "scattergl"
           }
          ],
          "scattermapbox": [
           {
            "marker": {
             "colorbar": {
              "outlinewidth": 0,
              "ticks": ""
             }
            },
            "type": "scattermapbox"
           }
          ],
          "scatterpolar": [
           {
            "marker": {
             "colorbar": {
              "outlinewidth": 0,
              "ticks": ""
             }
            },
            "type": "scatterpolar"
           }
          ],
          "scatterpolargl": [
           {
            "marker": {
             "colorbar": {
              "outlinewidth": 0,
              "ticks": ""
             }
            },
            "type": "scatterpolargl"
           }
          ],
          "scatterternary": [
           {
            "marker": {
             "colorbar": {
              "outlinewidth": 0,
              "ticks": ""
             }
            },
            "type": "scatterternary"
           }
          ],
          "surface": [
           {
            "colorbar": {
             "outlinewidth": 0,
             "ticks": ""
            },
            "colorscale": [
             [
              0,
              "#0d0887"
             ],
             [
              0.1111111111111111,
              "#46039f"
             ],
             [
              0.2222222222222222,
              "#7201a8"
             ],
             [
              0.3333333333333333,
              "#9c179e"
             ],
             [
              0.4444444444444444,
              "#bd3786"
             ],
             [
              0.5555555555555556,
              "#d8576b"
             ],
             [
              0.6666666666666666,
              "#ed7953"
             ],
             [
              0.7777777777777778,
              "#fb9f3a"
             ],
             [
              0.8888888888888888,
              "#fdca26"
             ],
             [
              1,
              "#f0f921"
             ]
            ],
            "type": "surface"
           }
          ],
          "table": [
           {
            "cells": {
             "fill": {
              "color": "#EBF0F8"
             },
             "line": {
              "color": "white"
             }
            },
            "header": {
             "fill": {
              "color": "#C8D4E3"
             },
             "line": {
              "color": "white"
             }
            },
            "type": "table"
           }
          ]
         },
         "layout": {
          "annotationdefaults": {
           "arrowcolor": "#2a3f5f",
           "arrowhead": 0,
           "arrowwidth": 1
          },
          "autotypenumbers": "strict",
          "coloraxis": {
           "colorbar": {
            "outlinewidth": 0,
            "ticks": ""
           }
          },
          "colorscale": {
           "diverging": [
            [
             0,
             "#8e0152"
            ],
            [
             0.1,
             "#c51b7d"
            ],
            [
             0.2,
             "#de77ae"
            ],
            [
             0.3,
             "#f1b6da"
            ],
            [
             0.4,
             "#fde0ef"
            ],
            [
             0.5,
             "#f7f7f7"
            ],
            [
             0.6,
             "#e6f5d0"
            ],
            [
             0.7,
             "#b8e186"
            ],
            [
             0.8,
             "#7fbc41"
            ],
            [
             0.9,
             "#4d9221"
            ],
            [
             1,
             "#276419"
            ]
           ],
           "sequential": [
            [
             0,
             "#0d0887"
            ],
            [
             0.1111111111111111,
             "#46039f"
            ],
            [
             0.2222222222222222,
             "#7201a8"
            ],
            [
             0.3333333333333333,
             "#9c179e"
            ],
            [
             0.4444444444444444,
             "#bd3786"
            ],
            [
             0.5555555555555556,
             "#d8576b"
            ],
            [
             0.6666666666666666,
             "#ed7953"
            ],
            [
             0.7777777777777778,
             "#fb9f3a"
            ],
            [
             0.8888888888888888,
             "#fdca26"
            ],
            [
             1,
             "#f0f921"
            ]
           ],
           "sequentialminus": [
            [
             0,
             "#0d0887"
            ],
            [
             0.1111111111111111,
             "#46039f"
            ],
            [
             0.2222222222222222,
             "#7201a8"
            ],
            [
             0.3333333333333333,
             "#9c179e"
            ],
            [
             0.4444444444444444,
             "#bd3786"
            ],
            [
             0.5555555555555556,
             "#d8576b"
            ],
            [
             0.6666666666666666,
             "#ed7953"
            ],
            [
             0.7777777777777778,
             "#fb9f3a"
            ],
            [
             0.8888888888888888,
             "#fdca26"
            ],
            [
             1,
             "#f0f921"
            ]
           ]
          },
          "colorway": [
           "#636efa",
           "#EF553B",
           "#00cc96",
           "#ab63fa",
           "#FFA15A",
           "#19d3f3",
           "#FF6692",
           "#B6E880",
           "#FF97FF",
           "#FECB52"
          ],
          "font": {
           "color": "#2a3f5f"
          },
          "geo": {
           "bgcolor": "white",
           "lakecolor": "white",
           "landcolor": "#E5ECF6",
           "showlakes": true,
           "showland": true,
           "subunitcolor": "white"
          },
          "hoverlabel": {
           "align": "left"
          },
          "hovermode": "closest",
          "mapbox": {
           "style": "light"
          },
          "paper_bgcolor": "white",
          "plot_bgcolor": "#E5ECF6",
          "polar": {
           "angularaxis": {
            "gridcolor": "white",
            "linecolor": "white",
            "ticks": ""
           },
           "bgcolor": "#E5ECF6",
           "radialaxis": {
            "gridcolor": "white",
            "linecolor": "white",
            "ticks": ""
           }
          },
          "scene": {
           "xaxis": {
            "backgroundcolor": "#E5ECF6",
            "gridcolor": "white",
            "gridwidth": 2,
            "linecolor": "white",
            "showbackground": true,
            "ticks": "",
            "zerolinecolor": "white"
           },
           "yaxis": {
            "backgroundcolor": "#E5ECF6",
            "gridcolor": "white",
            "gridwidth": 2,
            "linecolor": "white",
            "showbackground": true,
            "ticks": "",
            "zerolinecolor": "white"
           },
           "zaxis": {
            "backgroundcolor": "#E5ECF6",
            "gridcolor": "white",
            "gridwidth": 2,
            "linecolor": "white",
            "showbackground": true,
            "ticks": "",
            "zerolinecolor": "white"
           }
          },
          "shapedefaults": {
           "line": {
            "color": "#2a3f5f"
           }
          },
          "ternary": {
           "aaxis": {
            "gridcolor": "white",
            "linecolor": "white",
            "ticks": ""
           },
           "baxis": {
            "gridcolor": "white",
            "linecolor": "white",
            "ticks": ""
           },
           "bgcolor": "#E5ECF6",
           "caxis": {
            "gridcolor": "white",
            "linecolor": "white",
            "ticks": ""
           }
          },
          "title": {
           "x": 0.05
          },
          "xaxis": {
           "automargin": true,
           "gridcolor": "white",
           "linecolor": "white",
           "ticks": "",
           "title": {
            "standoff": 15
           },
           "zerolinecolor": "white",
           "zerolinewidth": 2
          },
          "yaxis": {
           "automargin": true,
           "gridcolor": "white",
           "linecolor": "white",
           "ticks": "",
           "title": {
            "standoff": 15
           },
           "zerolinecolor": "white",
           "zerolinewidth": 2
          }
         }
        },
        "xaxis": {
         "anchor": "y",
         "domain": [
          0,
          1
         ],
         "title": {
          "text": "license"
         }
        },
        "yaxis": {
         "anchor": "x",
         "domain": [
          0,
          1
         ],
         "title": {
          "text": "count"
         }
        }
       }
      },
      "text/html": [
       "<div>                            <div id=\"b3f8e4b6-f191-4280-93c8-6ee38da7a9ba\" class=\"plotly-graph-div\" style=\"height:525px; width:100%;\"></div>            <script type=\"text/javascript\">                require([\"plotly\"], function(Plotly) {                    window.PLOTLYENV=window.PLOTLYENV || {};                                    if (document.getElementById(\"b3f8e4b6-f191-4280-93c8-6ee38da7a9ba\")) {                    Plotly.newPlot(                        \"b3f8e4b6-f191-4280-93c8-6ee38da7a9ba\",                        [{\"alignmentgroup\":\"True\",\"bingroup\":\"x\",\"hovertemplate\":\"license=%{x}<br>count=%{y}<extra></extra>\",\"legendgroup\":\"\",\"marker\":{\"color\":\"#636efa\",\"pattern\":{\"shape\":\"\"}},\"name\":\"\",\"offsetgroup\":\"\",\"orientation\":\"v\",\"showlegend\":false,\"type\":\"histogram\",\"x\":[\"BSD-3-Clause\",\"BSD-3-Clause\",\"BSD-3-Clause\",\"MIT\",\"MIT\",\"GPL-3.0\",\"CUSTOM\",\"BSD-2-Clause\",\"CUSTOM\",\"BSD-3-Clause\",\"CUSTOM\",\"MIT\",\"CUSTOM\",\"LGPL-3.0\",\"Apache-2.0\",\"Apache-2.0\",\"Apache-2.0\",\"MIT\",\"MIT\",\"MIT\",\"AGPL-3.0\",\"CUSTOM\",\"BSD-2-Clause\",\"CUSTOM\",\"CUSTOM\",\"MIT\",\"GPL-3.0\",\"BSD-2-Clause\",\"GPL-3.0\",\"CUSTOM\",\"MIT\",\"MIT\",\"BSD-2-Clause\",\"MIT\",\"BSD-3-Clause\",\"Apache-2.0\",\"MIT\",\"CUSTOM\",\"CUSTOM\",\"Apache-2.0\",\"CUSTOM\",\"BSD-3-Clause\",\"Apache-2.0\",\"Apache-2.0\",\"Apache-2.0\",\"Apache-2.0\",\"CUSTOM\",\"CUSTOM\",\"MIT\",\"Apache-2.0\",\"MIT\",\"MIT\",\"CUSTOM\",\"BSD-3-Clause\",\"CUSTOM\",\"Apache-2.0\",\"Apache-2.0\",\"MIT\",\"BSD-3-Clause\",\"MIT\",\"GPL-3.0\",\"CC-BY-4.0\",\"BSD-3-Clause\",\"BSD-3-Clause\",\"MPL-2.0\",\"Apache-2.0\",\"GPL-3.0\",\"GPL-3.0\",\"BSD-3-Clause\",\"BSD-3-Clause\",\"CUSTOM\",\"MIT\",\"LGPL-3.0\",\"CUSTOM\",\"CUSTOM\",\"MIT\",\"BSD-3-Clause\",\"MIT\",\"MIT\",\"Apache-2.0\",\"CUSTOM\",\"CUSTOM\",\"BSD-3-Clause\",\"GPL-3.0\",\"GPL-3.0\",\"MIT\",\"MIT\",\"CC-BY-4.0\",\"CUSTOM\",\"GPL-3.0\",\"CUSTOM\",\"MIT\",\"BSD-3-Clause\",\"GPL-3.0\",\"MIT\",\"BSD-3-Clause\",\"GPL-3.0\",\"EUPL-1.2\",\"Apache-2.0\",\"MIT\",\"CUSTOM\",\"CC-BY-4.0\",\"BSD-3-Clause\",\"BSD-3-Clause\",\"BSD-3-Clause\",\"CC0-1.0\",\"BSD-3-Clause\",\"GPL-3.0\",\"CUSTOM\",\"BSD-3-Clause\",\"MIT\",\"MIT\",\"Apache-2.0\",\"CUSTOM\",\"GPL-2.0\",\"BSD-3-Clause\",\"MIT\",\"MIT\",\"MIT\",\"LGPL-3.0\",\"MIT\",\"MIT\",\"MIT\",\"MIT\",\"BSD-3-Clause\",\"MPL-2.0\",\"GPL-3.0\",\"GPL-2.0\",\"AGPL-3.0\",\"MIT\",\"MIT\",\"GPL-3.0\",\"MPL-2.0\",\"MPL-2.0\",\"CUSTOM\",\"AGPL-3.0\",\"GPL-2.0\",\"EUPL-1.2\",\"BSD-3-Clause\",\"MIT\",\"CUSTOM\",\"MIT\",\"MIT\",\"MIT\",\"Apache-2.0\",\"Apache-2.0\",\"CUSTOM\",\"MIT\",\"Apache-2.0\",\"GPL-3.0\",\"GPL-2.0\",\"GPL-2.0\",\"GPL-3.0\",\"GPL-3.0\",\"MPL-2.0\",\"MPL-2.0\",\"GPL-3.0\",\"LGPL-3.0\",\"AGPL-3.0\",\"MPL-2.0\",\"MIT\",\"MIT\",\"AGPL-3.0\",\"Apache-2.0\",\"CUSTOM\",\"CUSTOM\",\"CUSTOM\",\"MIT\",\"MIT\",\"Apache-2.0\",\"CUSTOM\",\"CUSTOM\",\"MPL-2.0\",\"AGPL-3.0\",\"GPL-3.0\",\"GPL-3.0\",\"GPL-3.0\",\"BSD-3-Clause\",\"LGPL-3.0\",\"MIT\",\"GPL-3.0\",\"LGPL-3.0\",\"GPL-3.0\",\"MIT\",\"MIT\",\"BSD-3-Clause\",\"MIT\",\"MIT\",\"MIT\",\"MIT\",\"AGPL-3.0\",\"GPL-3.0\",\"CUSTOM\",\"CUSTOM\",\"CUSTOM\",\"MIT\",\"GPL-3.0\",\"GPL-3.0\",\"MIT\",\"MIT\",\"MIT\",\"MIT\",\"BSD-2-Clause\",\"MIT\",\"CUSTOM\",\"CUSTOM\",\"CUSTOM\",\"BSD-3-Clause\",\"CUSTOM\",\"CUSTOM\",\"CUSTOM\",\"CUSTOM\",\"MIT\",\"MIT\",\"MIT\",\"MIT\",\"CUSTOM\",\"CUSTOM\",\"BSD-3-Clause\",\"BSD-3-Clause\",\"BSD-3-Clause\",\"BSD-3-Clause\",\"MIT\",\"MIT\",\"CUSTOM\",\"CUSTOM\",\"CUSTOM\",\"CUSTOM\",\"CUSTOM\",\"Apache-2.0\",\"GPL-3.0\",\"BSD-3-Clause\",\"MIT\",\"MIT\",\"Apache-2.0\",\"MIT\",\"BSD-3-Clause\",\"CUSTOM\",\"GPL-3.0\",\"MIT\",\"GPL-3.0\",\"MIT\",\"CUSTOM\",\"CUSTOM\",\"BSD-2-Clause\",\"GPL-3.0\",\"GPL-3.0\",\"AGPL-3.0\",\"CUSTOM\",\"MIT\",\"MIT\",\"MIT\",\"GPL-3.0\",\"MIT\",\"GPL-3.0\",\"CUSTOM\",\"Apache-2.0\",\"MIT\",\"GPL-3.0\",\"CUSTOM\",\"GPL-3.0\",\"GPL-3.0\",\"GPL-3.0\",\"CUSTOM\",\"MIT\",\"CUSTOM\",\"CUSTOM\",\"MIT\",\"LGPL-3.0\",\"AGPL-3.0\",\"EUPL-1.2\",\"EUPL-1.2\",\"GPL-3.0\",\"GPL-3.0\",\"Apache-2.0\",\"MIT\",\"Apache-2.0\",\"CUSTOM\",\"AGPL-3.0\",\"MIT\",\"Apache-2.0\",\"MIT\",\"GPL-3.0\",\"GPL-3.0\",\"CUSTOM\",\"CUSTOM\",\"CUSTOM\",\"MIT\",\"Apache-2.0\",\"BSD-3-Clause\",\"BSD-3-Clause\",\"Apache-2.0\",\"CUSTOM\",\"MIT\",\"Apache-2.0\",\"MIT\",\"Apache-2.0\",\"MIT\",\"MIT\",\"MIT\",\"GPL-3.0\",\"Apache-2.0\",\"Apache-2.0\",\"MIT\",\"Apache-2.0\",\"MIT\",\"MIT\",\"GPL-3.0\",\"MIT\",\"MIT\",\"Apache-2.0\",\"MPL-2.0\",\"CUSTOM\",\"LGPL-3.0\",\"LGPL-3.0\",\"LGPL-3.0\",\"BSD-3-Clause\",\"MIT\",\"CUSTOM\",\"LGPL-2.1\",\"CC-BY-4.0\",\"Apache-2.0\",\"MIT\",\"CUSTOM\",\"CUSTOM\",\"CUSTOM\",\"GPL-3.0\",\"GPL-3.0\",\"GPL-3.0\",\"GPL-3.0\",\"GPL-3.0\",\"BSD-3-Clause\",\"MIT\",\"GPL-3.0\",\"GPL-3.0\",\"BSD-3-Clause\",\"BSD-3-Clause\",\"MPL-2.0\",\"BSD-2-Clause\",\"MIT\",\"CUSTOM\",\"BSD-3-Clause\",\"CC0-1.0\",\"CC0-1.0\",\"MIT\",\"GPL-3.0\",\"GPL-3.0\",\"CUSTOM\",\"CUSTOM\",\"MIT\",\"MIT\",\"MIT\",\"CUSTOM\",\"GPL-3.0\",\"GPL-3.0\",\"BSD-3-Clause\",\"MIT\",\"CC-BY-4.0\",\"GPL-3.0\",\"MIT\",\"CUSTOM\",\"CUSTOM\",\"GPL-3.0\",\"GPL-3.0\",\"MIT\",\"Apache-2.0\",\"CC0-1.0\",\"MIT\",\"BSD-3-Clause\",\"BSD-3-Clause\",\"CUSTOM\",\"MIT\",\"CUSTOM\",\"GPL-3.0\",\"Apache-2.0\",\"GPL-3.0\",\"CUSTOM\",\"CUSTOM\",\"CUSTOM\",\"MIT\",\"MIT\",\"CC0-1.0\",\"CUSTOM\",\"CUSTOM\",\"CUSTOM\",\"MIT\",\"GPL-3.0\",\"GPL-3.0\",\"MIT\",\"AGPL-3.0\",\"AGPL-3.0\",\"CUSTOM\",\"MIT\",\"Apache-2.0\",\"CUSTOM\",\"GPL-3.0\",\"GPL-3.0\",\"MIT\",\"MIT\",\"MIT\",\"MIT\",\"Apache-2.0\",\"MIT\",\"GPL-3.0\",\"GPL-3.0\",\"MIT\",\"GPL-2.0\",\"CUSTOM\",\"GPL-3.0\",\"AGPL-3.0\",\"AGPL-3.0\",\"MIT\",\"MIT\",\"GPL-2.0\",\"CUSTOM\",\"GPL-3.0\",\"GPL-3.0\",\"CUSTOM\",\"BSD-3-Clause\",\"BSD-3-Clause\",\"GPL-3.0\",\"GPL-3.0\",\"LGPL-3.0\",\"Apache-2.0\",\"Apache-2.0\",\"CUSTOM\",\"MIT\",\"MIT\",\"MIT\",\"BSD-3-Clause\",\"GPL-3.0\",\"LGPL-3.0\",\"GPL-3.0\",\"CUSTOM\",\"MIT\",\"LGPL-3.0\",\"MIT\",\"MIT\",\"CUSTOM\",\"GPL-2.0\",\"MIT\",\"LGPL-3.0\",\"MIT\",\"GPL-3.0\",\"GPL-3.0\",\"CUSTOM\",\"MIT\",\"CUSTOM\",\"BSD-2-Clause\",\"CUSTOM\",\"CUSTOM\",\"MIT\",\"GPL-3.0\",\"GPL-3.0\",\"MIT\",\"GPL-2.0\",\"CUSTOM\",\"CUSTOM\",\"GPL-3.0\",\"BSD-3-Clause\",\"GPL-3.0\",\"MIT\",\"MIT\",\"CUSTOM\",\"GPL-3.0\",\"Apache-2.0\",\"Apache-2.0\",\"MIT\",\"CUSTOM\",\"MIT\",\"CUSTOM\",\"GPL-3.0\",\"MIT\",\"MIT\",\"Apache-2.0\",\"CUSTOM\",\"CUSTOM\",\"Apache-2.0\",\"GPL-3.0\",\"MIT\",\"CC0-1.0\",\"MIT\",\"GPL-3.0\",\"MIT\",\"CUSTOM\",\"MIT\",\"BSD-2-Clause\",\"GPL-3.0\",\"MIT\",\"CUSTOM\",\"GPL-3.0\",\"Apache-2.0\",\"Apache-2.0\",\"MIT\",\"GPL-3.0\",\"CUSTOM\",\"Apache-2.0\",\"GPL-3.0\",\"CUSTOM\",\"CUSTOM\",\"Apache-2.0\",\"CUSTOM\",\"Apache-2.0\",\"CUSTOM\",\"CUSTOM\",\"CUSTOM\",\"CUSTOM\",\"BSD-3-Clause\",\"CUSTOM\",\"CUSTOM\",\"CUSTOM\",\"Apache-2.0\",\"CUSTOM\",\"CUSTOM\",\"CUSTOM\",\"Apache-2.0\",\"CUSTOM\",\"GPL-2.0\",\"GPL-3.0\",\"AGPL-3.0\",\"CUSTOM\",\"MIT\",\"Apache-2.0\",\"GPL-3.0\",\"MIT\",\"CUSTOM\",\"GPL-3.0\",\"CUSTOM\",\"MIT\",\"MIT\",\"MIT\",\"CUSTOM\",\"GPL-3.0\",\"Apache-2.0\",\"MIT\",\"MIT\",\"MIT\",\"MIT\",\"Apache-2.0\",\"MIT\",\"CUSTOM\",\"GPL-3.0\",\"Apache-2.0\",\"GPL-2.0\",\"LGPL-3.0\",\"BSD-3-Clause\",\"CUSTOM\",\"LGPL-3.0\",\"GPL-3.0\",\"GPL-3.0\",\"CUSTOM\",\"CUSTOM\",\"CUSTOM\",\"CUSTOM\",\"GPL-3.0\",\"CUSTOM\",\"AGPL-3.0\",\"GPL-3.0\",\"GPL-3.0\",\"CUSTOM\",\"CUSTOM\",\"BSD-3-Clause\",\"MIT\",\"MIT\",\"MIT\",\"Apache-2.0\",\"LGPL-3.0\",\"MIT\",\"MIT\",\"Apache-2.0\",\"GPL-3.0\",\"GPL-3.0\",\"LGPL-3.0\",\"CUSTOM\",\"GPL-3.0\",\"CUSTOM\",\"MIT\",\"BSD-3-Clause\",\"BSD-3-Clause\",\"Apache-2.0\",\"MIT\",\"BSD-3-Clause\",\"CUSTOM\",\"Apache-2.0\",\"GPL-3.0\",\"CUSTOM\",\"CUSTOM\",\"CUSTOM\",\"MIT\",\"Apache-2.0\",\"CUSTOM\",\"GPL-3.0\",\"BSD-3-Clause\",\"CUSTOM\",\"Apache-2.0\",\"CUSTOM\",\"CUSTOM\",\"Apache-2.0\",\"CUSTOM\",\"Apache-2.0\",\"BSD-3-Clause\",\"BSD-3-Clause\",\"CUSTOM\",\"MIT\",\"MIT\",\"MIT\",\"CUSTOM\",\"MIT\",\"Apache-2.0\",\"CUSTOM\",\"MIT\",\"MIT\",\"GPL-3.0\",\"Apache-2.0\",\"AGPL-3.0\",\"AGPL-3.0\",\"GPL-3.0\",\"MIT\",\"MIT\",\"GPL-3.0\",\"GPL-3.0\",\"MIT\",\"MIT\",\"GPL-3.0\",\"MIT\",\"MIT\",\"MIT\",\"BSD-2-Clause\",\"GPL-3.0\",\"GPL-3.0\",\"GPL-3.0\",\"CUSTOM\",\"CUSTOM\",\"CUSTOM\",\"CUSTOM\",\"CUSTOM\",\"CC0-1.0\",\"MIT\",\"GPL-3.0\",\"GPL-3.0\",\"CUSTOM\",\"GPL-3.0\",\"MIT\",\"GPL-3.0\",\"CUSTOM\",\"Apache-2.0\",\"Apache-2.0\",\"CUSTOM\",\"CUSTOM\",\"GPL-3.0\",\"MIT\",\"CUSTOM\",\"BSD-3-Clause\",\"BSD-3-Clause\",\"Apache-2.0\",\"Apache-2.0\",\"Unlicense\",\"GPL-3.0\",\"GPL-3.0\",\"Apache-2.0\",\"CUSTOM\",\"AGPL-3.0\",\"CUSTOM\",\"GPL-3.0\",\"Apache-2.0\",\"BSD-3-Clause\",\"CUSTOM\",\"Apache-2.0\",\"BSD-3-Clause\",\"GPL-3.0\",\"CUSTOM\",\"Apache-2.0\",\"Apache-2.0\",\"CC-BY-4.0\",\"CC-BY-4.0\",\"CC-BY-4.0\",\"CC-BY-4.0\",\"GPL-3.0\",\"CUSTOM\",\"MIT\",\"CUSTOM\",\"MIT\",\"MIT\",\"CUSTOM\",\"GPL-2.0\",\"MIT\",\"GPL-3.0\",\"GPL-3.0\",\"CUSTOM\",\"GPL-3.0\",\"GPL-3.0\",\"Apache-2.0\",\"MPL-2.0\",\"MIT\",\"MIT\",\"MIT\",\"GPL-2.0\",\"MIT\",\"AGPL-3.0\",\"BSD-3-Clause\",\"CUSTOM\",\"GPL-3.0\",\"CUSTOM\",\"CUSTOM\",\"MIT\",\"CUSTOM\",\"CUSTOM\",\"GPL-2.0\",\"GPL-2.0\",\"GPL-3.0\",\"MIT\",\"AGPL-3.0\",\"MIT\",\"AGPL-3.0\",\"AGPL-3.0\",\"AGPL-3.0\",\"GPL-3.0\",\"GPL-3.0\",\"CC-BY-SA-4.0\",\"MIT\",\"MIT\",\"CC-BY-4.0\",\"MIT\",\"GPL-3.0\",\"Apache-2.0\",\"CUSTOM\",\"MIT\",\"EUPL-1.2\",\"MIT\",\"GPL-3.0\",\"BSD-3-Clause\",\"Apache-2.0\",\"MIT\",\"MIT\",\"CUSTOM\",\"CUSTOM\",\"CUSTOM\",\"CUSTOM\",\"CUSTOM\",\"MIT\",\"MIT\",\"AGPL-3.0\",\"BSD-3-Clause\",\"Apache-2.0\",\"CUSTOM\",\"MIT\",\"Apache-2.0\",\"CUSTOM\",\"CC0-1.0\",\"CUSTOM\",\"CUSTOM\",\"CUSTOM\",\"CC0-1.0\",\"CC0-1.0\",\"Unlicense\",\"CUSTOM\",\"GPL-2.0\",\"CUSTOM\",\"MIT\",\"MIT\",\"CUSTOM\",\"CC-BY-SA-4.0\",\"CC-BY-SA-4.0\",\"CUSTOM\",\"GPL-3.0\",\"Apache-2.0\",\"BSD-3-Clause\",\"Apache-2.0\",\"CUSTOM\",\"MIT\",\"MIT\",\"GPL-3.0\",\"CUSTOM\",\"CUSTOM\",\"MIT\",\"MIT\",\"Apache-2.0\",\"MIT\",\"CUSTOM\",\"GPL-3.0\",\"Apache-2.0\",\"CUSTOM\",\"ISC\",\"GPL-3.0\",\"CUSTOM\",\"CUSTOM\",\"MIT\",\"CC0-1.0\",\"CC0-1.0\",\"CUSTOM\",\"CC0-1.0\",\"CC0-1.0\",\"CC0-1.0\",\"CC0-1.0\",\"CC0-1.0\",\"CC0-1.0\",\"MIT\",\"CC0-1.0\",\"CC0-1.0\"],\"xaxis\":\"x\",\"yaxis\":\"y\"}],                        {\"barmode\":\"relative\",\"legend\":{\"tracegroupgap\":0},\"margin\":{\"t\":60},\"template\":{\"data\":{\"bar\":[{\"error_x\":{\"color\":\"#2a3f5f\"},\"error_y\":{\"color\":\"#2a3f5f\"},\"marker\":{\"line\":{\"color\":\"#E5ECF6\",\"width\":0.5},\"pattern\":{\"fillmode\":\"overlay\",\"size\":10,\"solidity\":0.2}},\"type\":\"bar\"}],\"barpolar\":[{\"marker\":{\"line\":{\"color\":\"#E5ECF6\",\"width\":0.5},\"pattern\":{\"fillmode\":\"overlay\",\"size\":10,\"solidity\":0.2}},\"type\":\"barpolar\"}],\"carpet\":[{\"aaxis\":{\"endlinecolor\":\"#2a3f5f\",\"gridcolor\":\"white\",\"linecolor\":\"white\",\"minorgridcolor\":\"white\",\"startlinecolor\":\"#2a3f5f\"},\"baxis\":{\"endlinecolor\":\"#2a3f5f\",\"gridcolor\":\"white\",\"linecolor\":\"white\",\"minorgridcolor\":\"white\",\"startlinecolor\":\"#2a3f5f\"},\"type\":\"carpet\"}],\"choropleth\":[{\"colorbar\":{\"outlinewidth\":0,\"ticks\":\"\"},\"type\":\"choropleth\"}],\"contour\":[{\"colorbar\":{\"outlinewidth\":0,\"ticks\":\"\"},\"colorscale\":[[0.0,\"#0d0887\"],[0.1111111111111111,\"#46039f\"],[0.2222222222222222,\"#7201a8\"],[0.3333333333333333,\"#9c179e\"],[0.4444444444444444,\"#bd3786\"],[0.5555555555555556,\"#d8576b\"],[0.6666666666666666,\"#ed7953\"],[0.7777777777777778,\"#fb9f3a\"],[0.8888888888888888,\"#fdca26\"],[1.0,\"#f0f921\"]],\"type\":\"contour\"}],\"contourcarpet\":[{\"colorbar\":{\"outlinewidth\":0,\"ticks\":\"\"},\"type\":\"contourcarpet\"}],\"heatmap\":[{\"colorbar\":{\"outlinewidth\":0,\"ticks\":\"\"},\"colorscale\":[[0.0,\"#0d0887\"],[0.1111111111111111,\"#46039f\"],[0.2222222222222222,\"#7201a8\"],[0.3333333333333333,\"#9c179e\"],[0.4444444444444444,\"#bd3786\"],[0.5555555555555556,\"#d8576b\"],[0.6666666666666666,\"#ed7953\"],[0.7777777777777778,\"#fb9f3a\"],[0.8888888888888888,\"#fdca26\"],[1.0,\"#f0f921\"]],\"type\":\"heatmap\"}],\"heatmapgl\":[{\"colorbar\":{\"outlinewidth\":0,\"ticks\":\"\"},\"colorscale\":[[0.0,\"#0d0887\"],[0.1111111111111111,\"#46039f\"],[0.2222222222222222,\"#7201a8\"],[0.3333333333333333,\"#9c179e\"],[0.4444444444444444,\"#bd3786\"],[0.5555555555555556,\"#d8576b\"],[0.6666666666666666,\"#ed7953\"],[0.7777777777777778,\"#fb9f3a\"],[0.8888888888888888,\"#fdca26\"],[1.0,\"#f0f921\"]],\"type\":\"heatmapgl\"}],\"histogram\":[{\"marker\":{\"pattern\":{\"fillmode\":\"overlay\",\"size\":10,\"solidity\":0.2}},\"type\":\"histogram\"}],\"histogram2d\":[{\"colorbar\":{\"outlinewidth\":0,\"ticks\":\"\"},\"colorscale\":[[0.0,\"#0d0887\"],[0.1111111111111111,\"#46039f\"],[0.2222222222222222,\"#7201a8\"],[0.3333333333333333,\"#9c179e\"],[0.4444444444444444,\"#bd3786\"],[0.5555555555555556,\"#d8576b\"],[0.6666666666666666,\"#ed7953\"],[0.7777777777777778,\"#fb9f3a\"],[0.8888888888888888,\"#fdca26\"],[1.0,\"#f0f921\"]],\"type\":\"histogram2d\"}],\"histogram2dcontour\":[{\"colorbar\":{\"outlinewidth\":0,\"ticks\":\"\"},\"colorscale\":[[0.0,\"#0d0887\"],[0.1111111111111111,\"#46039f\"],[0.2222222222222222,\"#7201a8\"],[0.3333333333333333,\"#9c179e\"],[0.4444444444444444,\"#bd3786\"],[0.5555555555555556,\"#d8576b\"],[0.6666666666666666,\"#ed7953\"],[0.7777777777777778,\"#fb9f3a\"],[0.8888888888888888,\"#fdca26\"],[1.0,\"#f0f921\"]],\"type\":\"histogram2dcontour\"}],\"mesh3d\":[{\"colorbar\":{\"outlinewidth\":0,\"ticks\":\"\"},\"type\":\"mesh3d\"}],\"parcoords\":[{\"line\":{\"colorbar\":{\"outlinewidth\":0,\"ticks\":\"\"}},\"type\":\"parcoords\"}],\"pie\":[{\"automargin\":true,\"type\":\"pie\"}],\"scatter\":[{\"marker\":{\"colorbar\":{\"outlinewidth\":0,\"ticks\":\"\"}},\"type\":\"scatter\"}],\"scatter3d\":[{\"line\":{\"colorbar\":{\"outlinewidth\":0,\"ticks\":\"\"}},\"marker\":{\"colorbar\":{\"outlinewidth\":0,\"ticks\":\"\"}},\"type\":\"scatter3d\"}],\"scattercarpet\":[{\"marker\":{\"colorbar\":{\"outlinewidth\":0,\"ticks\":\"\"}},\"type\":\"scattercarpet\"}],\"scattergeo\":[{\"marker\":{\"colorbar\":{\"outlinewidth\":0,\"ticks\":\"\"}},\"type\":\"scattergeo\"}],\"scattergl\":[{\"marker\":{\"colorbar\":{\"outlinewidth\":0,\"ticks\":\"\"}},\"type\":\"scattergl\"}],\"scattermapbox\":[{\"marker\":{\"colorbar\":{\"outlinewidth\":0,\"ticks\":\"\"}},\"type\":\"scattermapbox\"}],\"scatterpolar\":[{\"marker\":{\"colorbar\":{\"outlinewidth\":0,\"ticks\":\"\"}},\"type\":\"scatterpolar\"}],\"scatterpolargl\":[{\"marker\":{\"colorbar\":{\"outlinewidth\":0,\"ticks\":\"\"}},\"type\":\"scatterpolargl\"}],\"scatterternary\":[{\"marker\":{\"colorbar\":{\"outlinewidth\":0,\"ticks\":\"\"}},\"type\":\"scatterternary\"}],\"surface\":[{\"colorbar\":{\"outlinewidth\":0,\"ticks\":\"\"},\"colorscale\":[[0.0,\"#0d0887\"],[0.1111111111111111,\"#46039f\"],[0.2222222222222222,\"#7201a8\"],[0.3333333333333333,\"#9c179e\"],[0.4444444444444444,\"#bd3786\"],[0.5555555555555556,\"#d8576b\"],[0.6666666666666666,\"#ed7953\"],[0.7777777777777778,\"#fb9f3a\"],[0.8888888888888888,\"#fdca26\"],[1.0,\"#f0f921\"]],\"type\":\"surface\"}],\"table\":[{\"cells\":{\"fill\":{\"color\":\"#EBF0F8\"},\"line\":{\"color\":\"white\"}},\"header\":{\"fill\":{\"color\":\"#C8D4E3\"},\"line\":{\"color\":\"white\"}},\"type\":\"table\"}]},\"layout\":{\"annotationdefaults\":{\"arrowcolor\":\"#2a3f5f\",\"arrowhead\":0,\"arrowwidth\":1},\"autotypenumbers\":\"strict\",\"coloraxis\":{\"colorbar\":{\"outlinewidth\":0,\"ticks\":\"\"}},\"colorscale\":{\"diverging\":[[0,\"#8e0152\"],[0.1,\"#c51b7d\"],[0.2,\"#de77ae\"],[0.3,\"#f1b6da\"],[0.4,\"#fde0ef\"],[0.5,\"#f7f7f7\"],[0.6,\"#e6f5d0\"],[0.7,\"#b8e186\"],[0.8,\"#7fbc41\"],[0.9,\"#4d9221\"],[1,\"#276419\"]],\"sequential\":[[0.0,\"#0d0887\"],[0.1111111111111111,\"#46039f\"],[0.2222222222222222,\"#7201a8\"],[0.3333333333333333,\"#9c179e\"],[0.4444444444444444,\"#bd3786\"],[0.5555555555555556,\"#d8576b\"],[0.6666666666666666,\"#ed7953\"],[0.7777777777777778,\"#fb9f3a\"],[0.8888888888888888,\"#fdca26\"],[1.0,\"#f0f921\"]],\"sequentialminus\":[[0.0,\"#0d0887\"],[0.1111111111111111,\"#46039f\"],[0.2222222222222222,\"#7201a8\"],[0.3333333333333333,\"#9c179e\"],[0.4444444444444444,\"#bd3786\"],[0.5555555555555556,\"#d8576b\"],[0.6666666666666666,\"#ed7953\"],[0.7777777777777778,\"#fb9f3a\"],[0.8888888888888888,\"#fdca26\"],[1.0,\"#f0f921\"]]},\"colorway\":[\"#636efa\",\"#EF553B\",\"#00cc96\",\"#ab63fa\",\"#FFA15A\",\"#19d3f3\",\"#FF6692\",\"#B6E880\",\"#FF97FF\",\"#FECB52\"],\"font\":{\"color\":\"#2a3f5f\"},\"geo\":{\"bgcolor\":\"white\",\"lakecolor\":\"white\",\"landcolor\":\"#E5ECF6\",\"showlakes\":true,\"showland\":true,\"subunitcolor\":\"white\"},\"hoverlabel\":{\"align\":\"left\"},\"hovermode\":\"closest\",\"mapbox\":{\"style\":\"light\"},\"paper_bgcolor\":\"white\",\"plot_bgcolor\":\"#E5ECF6\",\"polar\":{\"angularaxis\":{\"gridcolor\":\"white\",\"linecolor\":\"white\",\"ticks\":\"\"},\"bgcolor\":\"#E5ECF6\",\"radialaxis\":{\"gridcolor\":\"white\",\"linecolor\":\"white\",\"ticks\":\"\"}},\"scene\":{\"xaxis\":{\"backgroundcolor\":\"#E5ECF6\",\"gridcolor\":\"white\",\"gridwidth\":2,\"linecolor\":\"white\",\"showbackground\":true,\"ticks\":\"\",\"zerolinecolor\":\"white\"},\"yaxis\":{\"backgroundcolor\":\"#E5ECF6\",\"gridcolor\":\"white\",\"gridwidth\":2,\"linecolor\":\"white\",\"showbackground\":true,\"ticks\":\"\",\"zerolinecolor\":\"white\"},\"zaxis\":{\"backgroundcolor\":\"#E5ECF6\",\"gridcolor\":\"white\",\"gridwidth\":2,\"linecolor\":\"white\",\"showbackground\":true,\"ticks\":\"\",\"zerolinecolor\":\"white\"}},\"shapedefaults\":{\"line\":{\"color\":\"#2a3f5f\"}},\"ternary\":{\"aaxis\":{\"gridcolor\":\"white\",\"linecolor\":\"white\",\"ticks\":\"\"},\"baxis\":{\"gridcolor\":\"white\",\"linecolor\":\"white\",\"ticks\":\"\"},\"bgcolor\":\"#E5ECF6\",\"caxis\":{\"gridcolor\":\"white\",\"linecolor\":\"white\",\"ticks\":\"\"}},\"title\":{\"x\":0.05},\"xaxis\":{\"automargin\":true,\"gridcolor\":\"white\",\"linecolor\":\"white\",\"ticks\":\"\",\"title\":{\"standoff\":15},\"zerolinecolor\":\"white\",\"zerolinewidth\":2},\"yaxis\":{\"automargin\":true,\"gridcolor\":\"white\",\"linecolor\":\"white\",\"ticks\":\"\",\"title\":{\"standoff\":15},\"zerolinecolor\":\"white\",\"zerolinewidth\":2}}},\"xaxis\":{\"anchor\":\"y\",\"domain\":[0.0,1.0],\"title\":{\"text\":\"license\"}},\"yaxis\":{\"anchor\":\"x\",\"domain\":[0.0,1.0],\"title\":{\"text\":\"count\"}}},                        {\"responsive\": true}                    ).then(function(){\n",
       "                            \n",
       "var gd = document.getElementById('b3f8e4b6-f191-4280-93c8-6ee38da7a9ba');\n",
       "var x = new MutationObserver(function (mutations, observer) {{\n",
       "        var display = window.getComputedStyle(gd).display;\n",
       "        if (!display || display === 'none') {{\n",
       "            console.log([gd, 'removed!']);\n",
       "            Plotly.purge(gd);\n",
       "            observer.disconnect();\n",
       "        }}\n",
       "}});\n",
       "\n",
       "// Listen for the removal of the full notebook cells\n",
       "var notebookContainer = gd.closest('#notebook-container');\n",
       "if (notebookContainer) {{\n",
       "    x.observe(notebookContainer, {childList: true});\n",
       "}}\n",
       "\n",
       "// Listen for the clearing of the current output cell\n",
       "var outputEl = gd.closest('.output');\n",
       "if (outputEl) {{\n",
       "    x.observe(outputEl, {childList: true});\n",
       "}}\n",
       "\n",
       "                        })                };                });            </script>        </div>"
      ]
     },
     "metadata": {},
     "output_type": "display_data"
    }
   ],
   "source": [
    "df = pd.read_csv('./csv/project_analysis.csv')\n",
    "pd.options.plotting.backend = \"plotly\"\n",
    "\n",
    "foo = df['last_released_date'].rank(pct=True)\n",
    "\n",
    "import plotly.express as px\n",
    "fig = px.histogram(df, x=\"license\")\n",
    "fig.show()\n"
   ]
  },
  {
   "cell_type": "code",
   "execution_count": 6,
   "metadata": {},
   "outputs": [
    {
     "data": {
      "application/vnd.plotly.v1+json": {
       "config": {
        "plotlyServerURL": "https://plot.ly"
       },
       "data": [
        {
         "alignmentgroup": "True",
         "bingroup": "x",
         "hovertemplate": "project_age_in_days=%{x}<br>count=%{y}<extra></extra>",
         "legendgroup": "",
         "marker": {
          "color": "#636efa",
          "pattern": {
           "shape": ""
          }
         },
         "name": "",
         "nbinsx": 50,
         "offsetgroup": "",
         "orientation": "v",
         "showlegend": false,
         "type": "histogram",
         "x": [
          2735,
          1553,
          3490,
          2094,
          2943,
          1810,
          1969,
          1274,
          1243,
          1705,
          1749,
          1223,
          1705,
          2581,
          2083,
          2203,
          1125,
          683,
          1794,
          908,
          1088,
          1159,
          1672,
          1746,
          1872,
          1574,
          2655,
          2724,
          5278,
          878,
          607,
          1299,
          1209,
          993,
          851,
          1041,
          2179,
          2973,
          1564,
          2174,
          1014,
          2061,
          1010,
          1231,
          2901,
          482,
          2868,
          2180,
          1417,
          979,
          1476,
          1587,
          2616,
          2137,
          1206,
          723,
          653,
          1342,
          615,
          1396,
          432,
          1227,
          971,
          726,
          1084,
          2994,
          1250,
          1793,
          1826,
          498,
          1704,
          2235,
          1231,
          1314,
          3549,
          1531,
          1383,
          320,
          2432,
          912,
          1480,
          1196,
          815,
          324,
          581,
          1702,
          1449,
          953,
          923,
          1195,
          2176,
          482,
          3503,
          751,
          1123,
          1336,
          2948,
          1766,
          3252,
          1399,
          1504,
          844,
          1745,
          1706,
          1865,
          1530,
          852,
          2456,
          1503,
          1900,
          2455,
          2407,
          884,
          1290,
          2773,
          934,
          1215,
          2098,
          2098,
          1418,
          2319,
          1658,
          1307,
          1068,
          1102,
          928,
          532,
          452,
          2459,
          2407,
          2307,
          1255,
          1780,
          1048,
          2067,
          2341,
          1112,
          1271,
          1102,
          1959,
          1175,
          1141,
          1472,
          1917,
          1714,
          2193,
          2106,
          940,
          1528,
          1125,
          3618,
          2209,
          1030,
          876,
          551,
          2929,
          830,
          388,
          2128,
          1417,
          2189,
          2739,
          3590,
          618,
          1189,
          1294,
          1767,
          4121,
          4121,
          1391,
          2204,
          1844,
          1039,
          1957,
          1398,
          2039,
          1404,
          1094,
          2405,
          1096,
          2104,
          879,
          2067,
          1124,
          1371,
          268,
          1793,
          2020,
          2276,
          1859,
          1089,
          2190,
          2639,
          2652,
          2110,
          757,
          705,
          1033,
          1595,
          605,
          1169,
          2861,
          2887,
          787,
          3202,
          3187,
          2855,
          2445,
          1843,
          1381,
          2957,
          2488,
          3099,
          1707,
          2406,
          3451,
          1999,
          2068,
          2470,
          3249,
          2207,
          1218,
          1159,
          916,
          2901,
          2316,
          2380,
          1936,
          2174,
          3176,
          4406,
          1171,
          313,
          495,
          423,
          579,
          3330,
          2753,
          3665,
          1193,
          1593,
          2215,
          2084,
          1892,
          3640,
          3722,
          1991,
          3343,
          1564,
          1508,
          3362,
          982,
          3265,
          1851,
          3264,
          4084,
          2890,
          3835,
          3366,
          1363,
          3685,
          2699,
          2071,
          1299,
          1028,
          2106,
          1836,
          1691,
          4412,
          1354,
          812,
          1270,
          1414,
          1294,
          2539,
          1279,
          1213,
          2445,
          3307,
          874,
          970,
          1532,
          3406,
          237,
          3494,
          1003,
          2660,
          1812,
          667,
          1252,
          749,
          903,
          832,
          524,
          635,
          999,
          515,
          569,
          524,
          539,
          521,
          194,
          410,
          878,
          649,
          1097,
          1020,
          993,
          824,
          1257,
          575,
          405,
          327,
          452,
          592,
          1594,
          1189,
          865,
          1889,
          1565,
          1206,
          893,
          1052,
          1772,
          1767,
          1802,
          816,
          738,
          1591,
          2228,
          1480,
          1202,
          435,
          632,
          748,
          895,
          1164,
          3272,
          867,
          2005,
          684,
          1370,
          1005,
          1651,
          1163,
          1040,
          725,
          796,
          527,
          703,
          378,
          633,
          780,
          1951,
          1441,
          1675,
          2596,
          2412,
          2281,
          2354,
          4105,
          4006,
          3973,
          2370,
          1621,
          1557,
          1370,
          804,
          2685,
          3663,
          1406,
          3075,
          2440,
          2082,
          1071,
          1870,
          3265,
          2196,
          1468,
          1788,
          1679,
          800,
          2443,
          3923,
          3254,
          1236,
          1705,
          3408,
          1123,
          2415,
          2759,
          1566,
          1123,
          683,
          846,
          1075,
          922,
          761,
          597,
          737,
          932,
          934,
          1104,
          418,
          935,
          4728,
          2224,
          3549,
          886,
          1796,
          2055,
          1039,
          754,
          1574,
          4024,
          186,
          2017,
          2113,
          2501,
          1908,
          3936,
          1908,
          1439,
          1784,
          1112,
          3107,
          1152,
          1915,
          1663,
          1151,
          1040,
          1041,
          1756,
          908,
          1537,
          922,
          1401,
          1102,
          2085,
          3163,
          1589,
          3660,
          1956,
          4531,
          1865,
          1573,
          1656,
          1887,
          2349,
          1893,
          3324,
          2511,
          1633,
          2474,
          1195,
          2438,
          4315,
          1640,
          2188,
          2874,
          3404,
          747,
          2905,
          1258,
          1226,
          1979,
          989,
          711,
          529,
          885,
          2273,
          463,
          606,
          838,
          880,
          1446,
          3413,
          1819,
          927,
          2313,
          934,
          3476,
          2379,
          886,
          2016,
          3292,
          1951,
          961,
          2483,
          3174,
          1066,
          1308,
          619,
          825,
          1857,
          2872,
          1658,
          961,
          1517,
          1509,
          1066,
          1480,
          2026,
          3041,
          972,
          1811,
          1224,
          1872,
          1173,
          1733,
          1189,
          1180,
          2432,
          1888,
          1336,
          1630,
          275,
          3701,
          2924,
          2028,
          1338,
          2867,
          1876,
          1717,
          811,
          2071,
          2142,
          923,
          1523,
          3352,
          3083,
          2520,
          1308,
          717,
          836,
          2215,
          1793,
          3215,
          1151,
          2543,
          2244,
          2701,
          773,
          3576,
          3658,
          1508,
          1460,
          648,
          961,
          2719,
          423,
          926,
          985,
          1257,
          3029,
          1378,
          417,
          2259,
          1866,
          1124,
          2125,
          4189,
          1345,
          2629,
          1067,
          499,
          1267,
          739,
          664,
          265,
          2475,
          1223,
          1266,
          2701,
          1011,
          572,
          746,
          369,
          363,
          3133,
          941,
          871,
          1226,
          1479,
          1742,
          3065,
          3021,
          1252,
          2335,
          773,
          3295,
          769,
          3376,
          2174,
          1522,
          2125,
          749,
          1491,
          973,
          1322,
          2686,
          1964,
          2728,
          3135,
          1362,
          2848,
          222,
          1537,
          1712,
          2389,
          2168,
          1950,
          1605,
          1732,
          3862,
          2768,
          579,
          2484,
          2575,
          2302,
          2191,
          673,
          2358,
          3915,
          1356,
          953,
          3154,
          527,
          1256,
          199,
          3075,
          3499,
          3499,
          1910,
          871,
          907,
          1601,
          2194,
          1894,
          2082,
          1684,
          1949,
          1588,
          2462,
          2223,
          1749,
          1993,
          1719,
          3899,
          2845,
          2888,
          3016,
          3481,
          3271,
          2799,
          2701,
          1277,
          1743,
          2802,
          1664,
          852,
          1769,
          2800,
          2602,
          1450,
          684,
          1417,
          831,
          1498,
          361,
          1298,
          1445,
          3251,
          2200,
          2335,
          2335,
          2335,
          2404,
          2286,
          1405,
          3290,
          1201,
          1542,
          3493,
          1927,
          1308,
          2129,
          1628,
          2687,
          1371,
          1836,
          1637,
          1251,
          1811,
          901,
          459,
          1845,
          3020,
          271,
          1005,
          1538,
          1146,
          2685,
          1599,
          3214,
          3734,
          3419,
          3057,
          3615,
          2695,
          2215,
          3589,
          1057,
          3206,
          3659,
          622,
          3013,
          1201,
          423,
          359,
          664,
          360,
          886,
          557,
          586,
          822,
          478,
          1391,
          472,
          1526,
          1673,
          295,
          1353,
          352,
          2228,
          1704,
          928,
          982,
          1055,
          812,
          3798,
          370,
          1888,
          438,
          3135,
          1847,
          1076,
          919,
          2696,
          2004,
          1180,
          1551,
          819,
          487,
          1285,
          1983,
          3695,
          670,
          327,
          1916,
          412,
          1770,
          992,
          3038,
          690,
          1124,
          2637,
          1774,
          723,
          355,
          543,
          1011,
          640,
          2558,
          1916,
          622,
          725,
          650,
          2512,
          2959,
          257,
          2446,
          2795,
          1735,
          392,
          630,
          494,
          2559,
          1195,
          1573,
          1567,
          447,
          1110,
          1064,
          1762,
          1381,
          829,
          719,
          1500
         ],
         "xaxis": "x",
         "yaxis": "y"
        }
       ],
       "layout": {
        "barmode": "relative",
        "legend": {
         "tracegroupgap": 0
        },
        "margin": {
         "t": 60
        },
        "paper_bgcolor": "lightgray",
        "template": {
         "data": {
          "bar": [
           {
            "error_x": {
             "color": "#2a3f5f"
            },
            "error_y": {
             "color": "#2a3f5f"
            },
            "marker": {
             "line": {
              "color": "#E5ECF6",
              "width": 0.5
             },
             "pattern": {
              "fillmode": "overlay",
              "size": 10,
              "solidity": 0.2
             }
            },
            "type": "bar"
           }
          ],
          "barpolar": [
           {
            "marker": {
             "line": {
              "color": "#E5ECF6",
              "width": 0.5
             },
             "pattern": {
              "fillmode": "overlay",
              "size": 10,
              "solidity": 0.2
             }
            },
            "type": "barpolar"
           }
          ],
          "carpet": [
           {
            "aaxis": {
             "endlinecolor": "#2a3f5f",
             "gridcolor": "white",
             "linecolor": "white",
             "minorgridcolor": "white",
             "startlinecolor": "#2a3f5f"
            },
            "baxis": {
             "endlinecolor": "#2a3f5f",
             "gridcolor": "white",
             "linecolor": "white",
             "minorgridcolor": "white",
             "startlinecolor": "#2a3f5f"
            },
            "type": "carpet"
           }
          ],
          "choropleth": [
           {
            "colorbar": {
             "outlinewidth": 0,
             "ticks": ""
            },
            "type": "choropleth"
           }
          ],
          "contour": [
           {
            "colorbar": {
             "outlinewidth": 0,
             "ticks": ""
            },
            "colorscale": [
             [
              0,
              "#0d0887"
             ],
             [
              0.1111111111111111,
              "#46039f"
             ],
             [
              0.2222222222222222,
              "#7201a8"
             ],
             [
              0.3333333333333333,
              "#9c179e"
             ],
             [
              0.4444444444444444,
              "#bd3786"
             ],
             [
              0.5555555555555556,
              "#d8576b"
             ],
             [
              0.6666666666666666,
              "#ed7953"
             ],
             [
              0.7777777777777778,
              "#fb9f3a"
             ],
             [
              0.8888888888888888,
              "#fdca26"
             ],
             [
              1,
              "#f0f921"
             ]
            ],
            "type": "contour"
           }
          ],
          "contourcarpet": [
           {
            "colorbar": {
             "outlinewidth": 0,
             "ticks": ""
            },
            "type": "contourcarpet"
           }
          ],
          "heatmap": [
           {
            "colorbar": {
             "outlinewidth": 0,
             "ticks": ""
            },
            "colorscale": [
             [
              0,
              "#0d0887"
             ],
             [
              0.1111111111111111,
              "#46039f"
             ],
             [
              0.2222222222222222,
              "#7201a8"
             ],
             [
              0.3333333333333333,
              "#9c179e"
             ],
             [
              0.4444444444444444,
              "#bd3786"
             ],
             [
              0.5555555555555556,
              "#d8576b"
             ],
             [
              0.6666666666666666,
              "#ed7953"
             ],
             [
              0.7777777777777778,
              "#fb9f3a"
             ],
             [
              0.8888888888888888,
              "#fdca26"
             ],
             [
              1,
              "#f0f921"
             ]
            ],
            "type": "heatmap"
           }
          ],
          "heatmapgl": [
           {
            "colorbar": {
             "outlinewidth": 0,
             "ticks": ""
            },
            "colorscale": [
             [
              0,
              "#0d0887"
             ],
             [
              0.1111111111111111,
              "#46039f"
             ],
             [
              0.2222222222222222,
              "#7201a8"
             ],
             [
              0.3333333333333333,
              "#9c179e"
             ],
             [
              0.4444444444444444,
              "#bd3786"
             ],
             [
              0.5555555555555556,
              "#d8576b"
             ],
             [
              0.6666666666666666,
              "#ed7953"
             ],
             [
              0.7777777777777778,
              "#fb9f3a"
             ],
             [
              0.8888888888888888,
              "#fdca26"
             ],
             [
              1,
              "#f0f921"
             ]
            ],
            "type": "heatmapgl"
           }
          ],
          "histogram": [
           {
            "marker": {
             "pattern": {
              "fillmode": "overlay",
              "size": 10,
              "solidity": 0.2
             }
            },
            "type": "histogram"
           }
          ],
          "histogram2d": [
           {
            "colorbar": {
             "outlinewidth": 0,
             "ticks": ""
            },
            "colorscale": [
             [
              0,
              "#0d0887"
             ],
             [
              0.1111111111111111,
              "#46039f"
             ],
             [
              0.2222222222222222,
              "#7201a8"
             ],
             [
              0.3333333333333333,
              "#9c179e"
             ],
             [
              0.4444444444444444,
              "#bd3786"
             ],
             [
              0.5555555555555556,
              "#d8576b"
             ],
             [
              0.6666666666666666,
              "#ed7953"
             ],
             [
              0.7777777777777778,
              "#fb9f3a"
             ],
             [
              0.8888888888888888,
              "#fdca26"
             ],
             [
              1,
              "#f0f921"
             ]
            ],
            "type": "histogram2d"
           }
          ],
          "histogram2dcontour": [
           {
            "colorbar": {
             "outlinewidth": 0,
             "ticks": ""
            },
            "colorscale": [
             [
              0,
              "#0d0887"
             ],
             [
              0.1111111111111111,
              "#46039f"
             ],
             [
              0.2222222222222222,
              "#7201a8"
             ],
             [
              0.3333333333333333,
              "#9c179e"
             ],
             [
              0.4444444444444444,
              "#bd3786"
             ],
             [
              0.5555555555555556,
              "#d8576b"
             ],
             [
              0.6666666666666666,
              "#ed7953"
             ],
             [
              0.7777777777777778,
              "#fb9f3a"
             ],
             [
              0.8888888888888888,
              "#fdca26"
             ],
             [
              1,
              "#f0f921"
             ]
            ],
            "type": "histogram2dcontour"
           }
          ],
          "mesh3d": [
           {
            "colorbar": {
             "outlinewidth": 0,
             "ticks": ""
            },
            "type": "mesh3d"
           }
          ],
          "parcoords": [
           {
            "line": {
             "colorbar": {
              "outlinewidth": 0,
              "ticks": ""
             }
            },
            "type": "parcoords"
           }
          ],
          "pie": [
           {
            "automargin": true,
            "type": "pie"
           }
          ],
          "scatter": [
           {
            "marker": {
             "colorbar": {
              "outlinewidth": 0,
              "ticks": ""
             }
            },
            "type": "scatter"
           }
          ],
          "scatter3d": [
           {
            "line": {
             "colorbar": {
              "outlinewidth": 0,
              "ticks": ""
             }
            },
            "marker": {
             "colorbar": {
              "outlinewidth": 0,
              "ticks": ""
             }
            },
            "type": "scatter3d"
           }
          ],
          "scattercarpet": [
           {
            "marker": {
             "colorbar": {
              "outlinewidth": 0,
              "ticks": ""
             }
            },
            "type": "scattercarpet"
           }
          ],
          "scattergeo": [
           {
            "marker": {
             "colorbar": {
              "outlinewidth": 0,
              "ticks": ""
             }
            },
            "type": "scattergeo"
           }
          ],
          "scattergl": [
           {
            "marker": {
             "colorbar": {
              "outlinewidth": 0,
              "ticks": ""
             }
            },
            "type": "scattergl"
           }
          ],
          "scattermapbox": [
           {
            "marker": {
             "colorbar": {
              "outlinewidth": 0,
              "ticks": ""
             }
            },
            "type": "scattermapbox"
           }
          ],
          "scatterpolar": [
           {
            "marker": {
             "colorbar": {
              "outlinewidth": 0,
              "ticks": ""
             }
            },
            "type": "scatterpolar"
           }
          ],
          "scatterpolargl": [
           {
            "marker": {
             "colorbar": {
              "outlinewidth": 0,
              "ticks": ""
             }
            },
            "type": "scatterpolargl"
           }
          ],
          "scatterternary": [
           {
            "marker": {
             "colorbar": {
              "outlinewidth": 0,
              "ticks": ""
             }
            },
            "type": "scatterternary"
           }
          ],
          "surface": [
           {
            "colorbar": {
             "outlinewidth": 0,
             "ticks": ""
            },
            "colorscale": [
             [
              0,
              "#0d0887"
             ],
             [
              0.1111111111111111,
              "#46039f"
             ],
             [
              0.2222222222222222,
              "#7201a8"
             ],
             [
              0.3333333333333333,
              "#9c179e"
             ],
             [
              0.4444444444444444,
              "#bd3786"
             ],
             [
              0.5555555555555556,
              "#d8576b"
             ],
             [
              0.6666666666666666,
              "#ed7953"
             ],
             [
              0.7777777777777778,
              "#fb9f3a"
             ],
             [
              0.8888888888888888,
              "#fdca26"
             ],
             [
              1,
              "#f0f921"
             ]
            ],
            "type": "surface"
           }
          ],
          "table": [
           {
            "cells": {
             "fill": {
              "color": "#EBF0F8"
             },
             "line": {
              "color": "white"
             }
            },
            "header": {
             "fill": {
              "color": "#C8D4E3"
             },
             "line": {
              "color": "white"
             }
            },
            "type": "table"
           }
          ]
         },
         "layout": {
          "annotationdefaults": {
           "arrowcolor": "#2a3f5f",
           "arrowhead": 0,
           "arrowwidth": 1
          },
          "autotypenumbers": "strict",
          "coloraxis": {
           "colorbar": {
            "outlinewidth": 0,
            "ticks": ""
           }
          },
          "colorscale": {
           "diverging": [
            [
             0,
             "#8e0152"
            ],
            [
             0.1,
             "#c51b7d"
            ],
            [
             0.2,
             "#de77ae"
            ],
            [
             0.3,
             "#f1b6da"
            ],
            [
             0.4,
             "#fde0ef"
            ],
            [
             0.5,
             "#f7f7f7"
            ],
            [
             0.6,
             "#e6f5d0"
            ],
            [
             0.7,
             "#b8e186"
            ],
            [
             0.8,
             "#7fbc41"
            ],
            [
             0.9,
             "#4d9221"
            ],
            [
             1,
             "#276419"
            ]
           ],
           "sequential": [
            [
             0,
             "#0d0887"
            ],
            [
             0.1111111111111111,
             "#46039f"
            ],
            [
             0.2222222222222222,
             "#7201a8"
            ],
            [
             0.3333333333333333,
             "#9c179e"
            ],
            [
             0.4444444444444444,
             "#bd3786"
            ],
            [
             0.5555555555555556,
             "#d8576b"
            ],
            [
             0.6666666666666666,
             "#ed7953"
            ],
            [
             0.7777777777777778,
             "#fb9f3a"
            ],
            [
             0.8888888888888888,
             "#fdca26"
            ],
            [
             1,
             "#f0f921"
            ]
           ],
           "sequentialminus": [
            [
             0,
             "#0d0887"
            ],
            [
             0.1111111111111111,
             "#46039f"
            ],
            [
             0.2222222222222222,
             "#7201a8"
            ],
            [
             0.3333333333333333,
             "#9c179e"
            ],
            [
             0.4444444444444444,
             "#bd3786"
            ],
            [
             0.5555555555555556,
             "#d8576b"
            ],
            [
             0.6666666666666666,
             "#ed7953"
            ],
            [
             0.7777777777777778,
             "#fb9f3a"
            ],
            [
             0.8888888888888888,
             "#fdca26"
            ],
            [
             1,
             "#f0f921"
            ]
           ]
          },
          "colorway": [
           "#636efa",
           "#EF553B",
           "#00cc96",
           "#ab63fa",
           "#FFA15A",
           "#19d3f3",
           "#FF6692",
           "#B6E880",
           "#FF97FF",
           "#FECB52"
          ],
          "font": {
           "color": "#2a3f5f"
          },
          "geo": {
           "bgcolor": "white",
           "lakecolor": "white",
           "landcolor": "#E5ECF6",
           "showlakes": true,
           "showland": true,
           "subunitcolor": "white"
          },
          "hoverlabel": {
           "align": "left"
          },
          "hovermode": "closest",
          "mapbox": {
           "style": "light"
          },
          "paper_bgcolor": "white",
          "plot_bgcolor": "#E5ECF6",
          "polar": {
           "angularaxis": {
            "gridcolor": "white",
            "linecolor": "white",
            "ticks": ""
           },
           "bgcolor": "#E5ECF6",
           "radialaxis": {
            "gridcolor": "white",
            "linecolor": "white",
            "ticks": ""
           }
          },
          "scene": {
           "xaxis": {
            "backgroundcolor": "#E5ECF6",
            "gridcolor": "white",
            "gridwidth": 2,
            "linecolor": "white",
            "showbackground": true,
            "ticks": "",
            "zerolinecolor": "white"
           },
           "yaxis": {
            "backgroundcolor": "#E5ECF6",
            "gridcolor": "white",
            "gridwidth": 2,
            "linecolor": "white",
            "showbackground": true,
            "ticks": "",
            "zerolinecolor": "white"
           },
           "zaxis": {
            "backgroundcolor": "#E5ECF6",
            "gridcolor": "white",
            "gridwidth": 2,
            "linecolor": "white",
            "showbackground": true,
            "ticks": "",
            "zerolinecolor": "white"
           }
          },
          "shapedefaults": {
           "line": {
            "color": "#2a3f5f"
           }
          },
          "ternary": {
           "aaxis": {
            "gridcolor": "white",
            "linecolor": "white",
            "ticks": ""
           },
           "baxis": {
            "gridcolor": "white",
            "linecolor": "white",
            "ticks": ""
           },
           "bgcolor": "#E5ECF6",
           "caxis": {
            "gridcolor": "white",
            "linecolor": "white",
            "ticks": ""
           }
          },
          "title": {
           "x": 0.05
          },
          "xaxis": {
           "automargin": true,
           "gridcolor": "white",
           "linecolor": "white",
           "ticks": "",
           "title": {
            "standoff": 15
           },
           "zerolinecolor": "white",
           "zerolinewidth": 2
          },
          "yaxis": {
           "automargin": true,
           "gridcolor": "white",
           "linecolor": "white",
           "ticks": "",
           "title": {
            "standoff": 15
           },
           "zerolinecolor": "white",
           "zerolinewidth": 2
          }
         }
        },
        "xaxis": {
         "anchor": "y",
         "domain": [
          0,
          1
         ],
         "title": {
          "text": "project_age_in_days"
         }
        },
        "yaxis": {
         "anchor": "x",
         "domain": [
          0,
          1
         ],
         "title": {
          "text": "count"
         }
        }
       }
      },
      "text/html": [
       "<div>                            <div id=\"e5a80a90-772a-4b0f-ba48-6992cd1f7d12\" class=\"plotly-graph-div\" style=\"height:525px; width:100%;\"></div>            <script type=\"text/javascript\">                require([\"plotly\"], function(Plotly) {                    window.PLOTLYENV=window.PLOTLYENV || {};                                    if (document.getElementById(\"e5a80a90-772a-4b0f-ba48-6992cd1f7d12\")) {                    Plotly.newPlot(                        \"e5a80a90-772a-4b0f-ba48-6992cd1f7d12\",                        [{\"alignmentgroup\":\"True\",\"bingroup\":\"x\",\"hovertemplate\":\"project_age_in_days=%{x}<br>count=%{y}<extra></extra>\",\"legendgroup\":\"\",\"marker\":{\"color\":\"#636efa\",\"pattern\":{\"shape\":\"\"}},\"name\":\"\",\"nbinsx\":50,\"offsetgroup\":\"\",\"orientation\":\"v\",\"showlegend\":false,\"type\":\"histogram\",\"x\":[2735.0,1553.0,3490.0,2094.0,2943.0,1810.0,1969.0,1274.0,1243.0,1705.0,1749.0,1223.0,1705.0,2581.0,2083.0,2203.0,1125.0,683.0,1794.0,908.0,1088.0,1159.0,1672.0,1746.0,1872.0,1574.0,2655.0,2724.0,5278.0,878.0,607.0,1299.0,1209.0,993.0,851.0,1041.0,2179.0,2973.0,1564.0,2174.0,1014.0,2061.0,1010.0,1231.0,2901.0,482.0,2868.0,2180.0,1417.0,979.0,1476.0,1587.0,2616.0,2137.0,1206.0,723.0,653.0,1342.0,615.0,1396.0,432.0,1227.0,971.0,726.0,1084.0,2994.0,1250.0,1793.0,1826.0,498.0,1704.0,2235.0,1231.0,1314.0,3549.0,1531.0,1383.0,320.0,2432.0,912.0,1480.0,1196.0,815.0,324.0,581.0,1702.0,1449.0,953.0,923.0,1195.0,2176.0,482.0,3503.0,751.0,1123.0,1336.0,2948.0,1766.0,3252.0,1399.0,1504.0,844.0,1745.0,1706.0,1865.0,1530.0,852.0,2456.0,1503.0,1900.0,2455.0,2407.0,884.0,1290.0,2773.0,934.0,1215.0,2098.0,2098.0,1418.0,2319.0,1658.0,1307.0,1068.0,1102.0,928.0,532.0,452.0,2459.0,2407.0,2307.0,1255.0,1780.0,1048.0,2067.0,2341.0,1112.0,1271.0,1102.0,1959.0,1175.0,1141.0,1472.0,1917.0,1714.0,2193.0,2106.0,940.0,1528.0,1125.0,3618.0,2209.0,1030.0,876.0,551.0,2929.0,830.0,388.0,2128.0,1417.0,2189.0,2739.0,3590.0,618.0,1189.0,1294.0,1767.0,4121.0,4121.0,1391.0,2204.0,1844.0,1039.0,1957.0,1398.0,2039.0,1404.0,1094.0,2405.0,1096.0,2104.0,879.0,2067.0,1124.0,1371.0,268.0,1793.0,2020.0,2276.0,1859.0,1089.0,2190.0,2639.0,2652.0,2110.0,757.0,705.0,1033.0,1595.0,605.0,1169.0,2861.0,2887.0,787.0,3202.0,3187.0,2855.0,2445.0,1843.0,1381.0,2957.0,2488.0,3099.0,1707.0,2406.0,3451.0,1999.0,2068.0,2470.0,3249.0,2207.0,1218.0,1159.0,916.0,2901.0,2316.0,2380.0,1936.0,2174.0,3176.0,4406.0,1171.0,313.0,495.0,423.0,579.0,3330.0,2753.0,3665.0,1193.0,1593.0,2215.0,2084.0,1892.0,3640.0,3722.0,1991.0,3343.0,1564.0,1508.0,3362.0,982.0,3265.0,1851.0,3264.0,4084.0,2890.0,3835.0,3366.0,1363.0,3685.0,2699.0,2071.0,1299.0,1028.0,2106.0,1836.0,1691.0,4412.0,1354.0,812.0,1270.0,1414.0,1294.0,2539.0,1279.0,1213.0,2445.0,3307.0,874.0,970.0,1532.0,3406.0,237.0,3494.0,1003.0,2660.0,1812.0,667.0,1252.0,749.0,903.0,832.0,524.0,635.0,999.0,515.0,569.0,524.0,539.0,521.0,194.0,410.0,878.0,649.0,1097.0,1020.0,993.0,824.0,1257.0,575.0,405.0,327.0,452.0,592.0,1594.0,1189.0,865.0,1889.0,1565.0,1206.0,893.0,1052.0,1772.0,1767.0,1802.0,816.0,738.0,1591.0,2228.0,1480.0,1202.0,435.0,632.0,748.0,895.0,1164.0,3272.0,867.0,2005.0,684.0,1370.0,1005.0,1651.0,1163.0,1040.0,725.0,796.0,527.0,703.0,378.0,633.0,780.0,1951.0,1441.0,1675.0,2596.0,2412.0,2281.0,2354.0,4105.0,4006.0,3973.0,2370.0,1621.0,1557.0,1370.0,804.0,2685.0,3663.0,1406.0,3075.0,2440.0,2082.0,1071.0,1870.0,3265.0,2196.0,1468.0,1788.0,1679.0,800.0,2443.0,3923.0,3254.0,1236.0,1705.0,3408.0,1123.0,2415.0,2759.0,1566.0,1123.0,683.0,846.0,1075.0,922.0,761.0,597.0,737.0,932.0,934.0,1104.0,418.0,935.0,4728.0,2224.0,3549.0,886.0,1796.0,2055.0,1039.0,754.0,1574.0,4024.0,186.0,2017.0,2113.0,2501.0,1908.0,3936.0,1908.0,1439.0,1784.0,1112.0,3107.0,1152.0,1915.0,1663.0,1151.0,1040.0,1041.0,1756.0,908.0,1537.0,922.0,1401.0,1102.0,2085.0,3163.0,1589.0,3660.0,1956.0,4531.0,1865.0,1573.0,1656.0,1887.0,2349.0,1893.0,3324.0,2511.0,1633.0,2474.0,1195.0,2438.0,4315.0,1640.0,2188.0,2874.0,3404.0,747.0,2905.0,1258.0,1226.0,1979.0,989.0,711.0,529.0,885.0,2273.0,463.0,606.0,838.0,880.0,1446.0,3413.0,1819.0,927.0,2313.0,934.0,3476.0,2379.0,886.0,2016.0,3292.0,1951.0,961.0,2483.0,3174.0,1066.0,1308.0,619.0,825.0,1857.0,2872.0,1658.0,961.0,1517.0,1509.0,1066.0,1480.0,2026.0,3041.0,972.0,1811.0,1224.0,1872.0,1173.0,1733.0,1189.0,1180.0,2432.0,1888.0,1336.0,1630.0,275.0,3701.0,2924.0,2028.0,1338.0,2867.0,1876.0,1717.0,811.0,2071.0,2142.0,923.0,1523.0,3352.0,3083.0,2520.0,1308.0,717.0,836.0,2215.0,1793.0,3215.0,1151.0,2543.0,2244.0,2701.0,773.0,3576.0,3658.0,1508.0,1460.0,648.0,961.0,2719.0,423.0,926.0,985.0,1257.0,3029.0,1378.0,417.0,2259.0,1866.0,1124.0,2125.0,4189.0,1345.0,2629.0,1067.0,499.0,1267.0,739.0,664.0,265.0,2475.0,1223.0,1266.0,2701.0,1011.0,572.0,746.0,369.0,363.0,3133.0,941.0,871.0,1226.0,1479.0,1742.0,3065.0,3021.0,1252.0,2335.0,773.0,3295.0,769.0,3376.0,2174.0,1522.0,2125.0,749.0,1491.0,973.0,1322.0,2686.0,1964.0,2728.0,3135.0,1362.0,2848.0,222.0,1537.0,1712.0,2389.0,2168.0,1950.0,1605.0,1732.0,3862.0,2768.0,579.0,2484.0,2575.0,2302.0,2191.0,673.0,2358.0,3915.0,1356.0,953.0,3154.0,527.0,1256.0,199.0,3075.0,3499.0,3499.0,1910.0,871.0,907.0,1601.0,2194.0,1894.0,2082.0,1684.0,1949.0,1588.0,2462.0,2223.0,1749.0,1993.0,1719.0,3899.0,2845.0,2888.0,3016.0,3481.0,3271.0,2799.0,2701.0,1277.0,1743.0,2802.0,1664.0,852.0,1769.0,2800.0,2602.0,1450.0,684.0,1417.0,831.0,1498.0,361.0,1298.0,1445.0,3251.0,2200.0,2335.0,2335.0,2335.0,2404.0,2286.0,1405.0,3290.0,1201.0,1542.0,3493.0,1927.0,1308.0,2129.0,1628.0,2687.0,1371.0,1836.0,1637.0,1251.0,1811.0,901.0,459.0,1845.0,3020.0,271.0,1005.0,1538.0,1146.0,2685.0,1599.0,3214.0,3734.0,3419.0,3057.0,3615.0,2695.0,2215.0,3589.0,1057.0,3206.0,3659.0,622.0,3013.0,1201.0,423.0,359.0,664.0,360.0,886.0,557.0,586.0,822.0,478.0,1391.0,472.0,1526.0,1673.0,295.0,1353.0,352.0,2228.0,1704.0,928.0,982.0,1055.0,812.0,3798.0,370.0,1888.0,438.0,3135.0,1847.0,1076.0,919.0,2696.0,2004.0,1180.0,1551.0,819.0,487.0,1285.0,1983.0,3695.0,670.0,327.0,1916.0,412.0,1770.0,992.0,3038.0,690.0,1124.0,2637.0,1774.0,723.0,355.0,543.0,1011.0,640.0,2558.0,1916.0,622.0,725.0,650.0,2512.0,2959.0,257.0,2446.0,2795.0,1735.0,392.0,630.0,494.0,2559.0,1195.0,1573.0,1567.0,447.0,1110.0,1064.0,1762.0,1381.0,829.0,719.0,1500.0],\"xaxis\":\"x\",\"yaxis\":\"y\"}],                        {\"barmode\":\"relative\",\"legend\":{\"tracegroupgap\":0},\"margin\":{\"t\":60},\"paper_bgcolor\":\"lightgray\",\"template\":{\"data\":{\"bar\":[{\"error_x\":{\"color\":\"#2a3f5f\"},\"error_y\":{\"color\":\"#2a3f5f\"},\"marker\":{\"line\":{\"color\":\"#E5ECF6\",\"width\":0.5},\"pattern\":{\"fillmode\":\"overlay\",\"size\":10,\"solidity\":0.2}},\"type\":\"bar\"}],\"barpolar\":[{\"marker\":{\"line\":{\"color\":\"#E5ECF6\",\"width\":0.5},\"pattern\":{\"fillmode\":\"overlay\",\"size\":10,\"solidity\":0.2}},\"type\":\"barpolar\"}],\"carpet\":[{\"aaxis\":{\"endlinecolor\":\"#2a3f5f\",\"gridcolor\":\"white\",\"linecolor\":\"white\",\"minorgridcolor\":\"white\",\"startlinecolor\":\"#2a3f5f\"},\"baxis\":{\"endlinecolor\":\"#2a3f5f\",\"gridcolor\":\"white\",\"linecolor\":\"white\",\"minorgridcolor\":\"white\",\"startlinecolor\":\"#2a3f5f\"},\"type\":\"carpet\"}],\"choropleth\":[{\"colorbar\":{\"outlinewidth\":0,\"ticks\":\"\"},\"type\":\"choropleth\"}],\"contour\":[{\"colorbar\":{\"outlinewidth\":0,\"ticks\":\"\"},\"colorscale\":[[0.0,\"#0d0887\"],[0.1111111111111111,\"#46039f\"],[0.2222222222222222,\"#7201a8\"],[0.3333333333333333,\"#9c179e\"],[0.4444444444444444,\"#bd3786\"],[0.5555555555555556,\"#d8576b\"],[0.6666666666666666,\"#ed7953\"],[0.7777777777777778,\"#fb9f3a\"],[0.8888888888888888,\"#fdca26\"],[1.0,\"#f0f921\"]],\"type\":\"contour\"}],\"contourcarpet\":[{\"colorbar\":{\"outlinewidth\":0,\"ticks\":\"\"},\"type\":\"contourcarpet\"}],\"heatmap\":[{\"colorbar\":{\"outlinewidth\":0,\"ticks\":\"\"},\"colorscale\":[[0.0,\"#0d0887\"],[0.1111111111111111,\"#46039f\"],[0.2222222222222222,\"#7201a8\"],[0.3333333333333333,\"#9c179e\"],[0.4444444444444444,\"#bd3786\"],[0.5555555555555556,\"#d8576b\"],[0.6666666666666666,\"#ed7953\"],[0.7777777777777778,\"#fb9f3a\"],[0.8888888888888888,\"#fdca26\"],[1.0,\"#f0f921\"]],\"type\":\"heatmap\"}],\"heatmapgl\":[{\"colorbar\":{\"outlinewidth\":0,\"ticks\":\"\"},\"colorscale\":[[0.0,\"#0d0887\"],[0.1111111111111111,\"#46039f\"],[0.2222222222222222,\"#7201a8\"],[0.3333333333333333,\"#9c179e\"],[0.4444444444444444,\"#bd3786\"],[0.5555555555555556,\"#d8576b\"],[0.6666666666666666,\"#ed7953\"],[0.7777777777777778,\"#fb9f3a\"],[0.8888888888888888,\"#fdca26\"],[1.0,\"#f0f921\"]],\"type\":\"heatmapgl\"}],\"histogram\":[{\"marker\":{\"pattern\":{\"fillmode\":\"overlay\",\"size\":10,\"solidity\":0.2}},\"type\":\"histogram\"}],\"histogram2d\":[{\"colorbar\":{\"outlinewidth\":0,\"ticks\":\"\"},\"colorscale\":[[0.0,\"#0d0887\"],[0.1111111111111111,\"#46039f\"],[0.2222222222222222,\"#7201a8\"],[0.3333333333333333,\"#9c179e\"],[0.4444444444444444,\"#bd3786\"],[0.5555555555555556,\"#d8576b\"],[0.6666666666666666,\"#ed7953\"],[0.7777777777777778,\"#fb9f3a\"],[0.8888888888888888,\"#fdca26\"],[1.0,\"#f0f921\"]],\"type\":\"histogram2d\"}],\"histogram2dcontour\":[{\"colorbar\":{\"outlinewidth\":0,\"ticks\":\"\"},\"colorscale\":[[0.0,\"#0d0887\"],[0.1111111111111111,\"#46039f\"],[0.2222222222222222,\"#7201a8\"],[0.3333333333333333,\"#9c179e\"],[0.4444444444444444,\"#bd3786\"],[0.5555555555555556,\"#d8576b\"],[0.6666666666666666,\"#ed7953\"],[0.7777777777777778,\"#fb9f3a\"],[0.8888888888888888,\"#fdca26\"],[1.0,\"#f0f921\"]],\"type\":\"histogram2dcontour\"}],\"mesh3d\":[{\"colorbar\":{\"outlinewidth\":0,\"ticks\":\"\"},\"type\":\"mesh3d\"}],\"parcoords\":[{\"line\":{\"colorbar\":{\"outlinewidth\":0,\"ticks\":\"\"}},\"type\":\"parcoords\"}],\"pie\":[{\"automargin\":true,\"type\":\"pie\"}],\"scatter\":[{\"marker\":{\"colorbar\":{\"outlinewidth\":0,\"ticks\":\"\"}},\"type\":\"scatter\"}],\"scatter3d\":[{\"line\":{\"colorbar\":{\"outlinewidth\":0,\"ticks\":\"\"}},\"marker\":{\"colorbar\":{\"outlinewidth\":0,\"ticks\":\"\"}},\"type\":\"scatter3d\"}],\"scattercarpet\":[{\"marker\":{\"colorbar\":{\"outlinewidth\":0,\"ticks\":\"\"}},\"type\":\"scattercarpet\"}],\"scattergeo\":[{\"marker\":{\"colorbar\":{\"outlinewidth\":0,\"ticks\":\"\"}},\"type\":\"scattergeo\"}],\"scattergl\":[{\"marker\":{\"colorbar\":{\"outlinewidth\":0,\"ticks\":\"\"}},\"type\":\"scattergl\"}],\"scattermapbox\":[{\"marker\":{\"colorbar\":{\"outlinewidth\":0,\"ticks\":\"\"}},\"type\":\"scattermapbox\"}],\"scatterpolar\":[{\"marker\":{\"colorbar\":{\"outlinewidth\":0,\"ticks\":\"\"}},\"type\":\"scatterpolar\"}],\"scatterpolargl\":[{\"marker\":{\"colorbar\":{\"outlinewidth\":0,\"ticks\":\"\"}},\"type\":\"scatterpolargl\"}],\"scatterternary\":[{\"marker\":{\"colorbar\":{\"outlinewidth\":0,\"ticks\":\"\"}},\"type\":\"scatterternary\"}],\"surface\":[{\"colorbar\":{\"outlinewidth\":0,\"ticks\":\"\"},\"colorscale\":[[0.0,\"#0d0887\"],[0.1111111111111111,\"#46039f\"],[0.2222222222222222,\"#7201a8\"],[0.3333333333333333,\"#9c179e\"],[0.4444444444444444,\"#bd3786\"],[0.5555555555555556,\"#d8576b\"],[0.6666666666666666,\"#ed7953\"],[0.7777777777777778,\"#fb9f3a\"],[0.8888888888888888,\"#fdca26\"],[1.0,\"#f0f921\"]],\"type\":\"surface\"}],\"table\":[{\"cells\":{\"fill\":{\"color\":\"#EBF0F8\"},\"line\":{\"color\":\"white\"}},\"header\":{\"fill\":{\"color\":\"#C8D4E3\"},\"line\":{\"color\":\"white\"}},\"type\":\"table\"}]},\"layout\":{\"annotationdefaults\":{\"arrowcolor\":\"#2a3f5f\",\"arrowhead\":0,\"arrowwidth\":1},\"autotypenumbers\":\"strict\",\"coloraxis\":{\"colorbar\":{\"outlinewidth\":0,\"ticks\":\"\"}},\"colorscale\":{\"diverging\":[[0,\"#8e0152\"],[0.1,\"#c51b7d\"],[0.2,\"#de77ae\"],[0.3,\"#f1b6da\"],[0.4,\"#fde0ef\"],[0.5,\"#f7f7f7\"],[0.6,\"#e6f5d0\"],[0.7,\"#b8e186\"],[0.8,\"#7fbc41\"],[0.9,\"#4d9221\"],[1,\"#276419\"]],\"sequential\":[[0.0,\"#0d0887\"],[0.1111111111111111,\"#46039f\"],[0.2222222222222222,\"#7201a8\"],[0.3333333333333333,\"#9c179e\"],[0.4444444444444444,\"#bd3786\"],[0.5555555555555556,\"#d8576b\"],[0.6666666666666666,\"#ed7953\"],[0.7777777777777778,\"#fb9f3a\"],[0.8888888888888888,\"#fdca26\"],[1.0,\"#f0f921\"]],\"sequentialminus\":[[0.0,\"#0d0887\"],[0.1111111111111111,\"#46039f\"],[0.2222222222222222,\"#7201a8\"],[0.3333333333333333,\"#9c179e\"],[0.4444444444444444,\"#bd3786\"],[0.5555555555555556,\"#d8576b\"],[0.6666666666666666,\"#ed7953\"],[0.7777777777777778,\"#fb9f3a\"],[0.8888888888888888,\"#fdca26\"],[1.0,\"#f0f921\"]]},\"colorway\":[\"#636efa\",\"#EF553B\",\"#00cc96\",\"#ab63fa\",\"#FFA15A\",\"#19d3f3\",\"#FF6692\",\"#B6E880\",\"#FF97FF\",\"#FECB52\"],\"font\":{\"color\":\"#2a3f5f\"},\"geo\":{\"bgcolor\":\"white\",\"lakecolor\":\"white\",\"landcolor\":\"#E5ECF6\",\"showlakes\":true,\"showland\":true,\"subunitcolor\":\"white\"},\"hoverlabel\":{\"align\":\"left\"},\"hovermode\":\"closest\",\"mapbox\":{\"style\":\"light\"},\"paper_bgcolor\":\"white\",\"plot_bgcolor\":\"#E5ECF6\",\"polar\":{\"angularaxis\":{\"gridcolor\":\"white\",\"linecolor\":\"white\",\"ticks\":\"\"},\"bgcolor\":\"#E5ECF6\",\"radialaxis\":{\"gridcolor\":\"white\",\"linecolor\":\"white\",\"ticks\":\"\"}},\"scene\":{\"xaxis\":{\"backgroundcolor\":\"#E5ECF6\",\"gridcolor\":\"white\",\"gridwidth\":2,\"linecolor\":\"white\",\"showbackground\":true,\"ticks\":\"\",\"zerolinecolor\":\"white\"},\"yaxis\":{\"backgroundcolor\":\"#E5ECF6\",\"gridcolor\":\"white\",\"gridwidth\":2,\"linecolor\":\"white\",\"showbackground\":true,\"ticks\":\"\",\"zerolinecolor\":\"white\"},\"zaxis\":{\"backgroundcolor\":\"#E5ECF6\",\"gridcolor\":\"white\",\"gridwidth\":2,\"linecolor\":\"white\",\"showbackground\":true,\"ticks\":\"\",\"zerolinecolor\":\"white\"}},\"shapedefaults\":{\"line\":{\"color\":\"#2a3f5f\"}},\"ternary\":{\"aaxis\":{\"gridcolor\":\"white\",\"linecolor\":\"white\",\"ticks\":\"\"},\"baxis\":{\"gridcolor\":\"white\",\"linecolor\":\"white\",\"ticks\":\"\"},\"bgcolor\":\"#E5ECF6\",\"caxis\":{\"gridcolor\":\"white\",\"linecolor\":\"white\",\"ticks\":\"\"}},\"title\":{\"x\":0.05},\"xaxis\":{\"automargin\":true,\"gridcolor\":\"white\",\"linecolor\":\"white\",\"ticks\":\"\",\"title\":{\"standoff\":15},\"zerolinecolor\":\"white\",\"zerolinewidth\":2},\"yaxis\":{\"automargin\":true,\"gridcolor\":\"white\",\"linecolor\":\"white\",\"ticks\":\"\",\"title\":{\"standoff\":15},\"zerolinecolor\":\"white\",\"zerolinewidth\":2}}},\"xaxis\":{\"anchor\":\"y\",\"domain\":[0.0,1.0],\"title\":{\"text\":\"project_age_in_days\"}},\"yaxis\":{\"anchor\":\"x\",\"domain\":[0.0,1.0],\"title\":{\"text\":\"count\"}}},                        {\"responsive\": true}                    ).then(function(){\n",
       "                            \n",
       "var gd = document.getElementById('e5a80a90-772a-4b0f-ba48-6992cd1f7d12');\n",
       "var x = new MutationObserver(function (mutations, observer) {{\n",
       "        var display = window.getComputedStyle(gd).display;\n",
       "        if (!display || display === 'none') {{\n",
       "            console.log([gd, 'removed!']);\n",
       "            Plotly.purge(gd);\n",
       "            observer.disconnect();\n",
       "        }}\n",
       "}});\n",
       "\n",
       "// Listen for the removal of the full notebook cells\n",
       "var notebookContainer = gd.closest('#notebook-container');\n",
       "if (notebookContainer) {{\n",
       "    x.observe(notebookContainer, {childList: true});\n",
       "}}\n",
       "\n",
       "// Listen for the clearing of the current output cell\n",
       "var outputEl = gd.closest('.output');\n",
       "if (outputEl) {{\n",
       "    x.observe(outputEl, {childList: true});\n",
       "}}\n",
       "\n",
       "                        })                };                });            </script>        </div>"
      ]
     },
     "metadata": {},
     "output_type": "display_data"
    }
   ],
   "source": [
    "fig = px.histogram(df, x=\"project_age_in_days\",nbins=50)\n",
    "fig.update_layout(\n",
    "    paper_bgcolor=\"lightgray\",\n",
    ")\n",
    "fig.show()"
   ]
  },
  {
   "cell_type": "code",
   "execution_count": 7,
   "metadata": {},
   "outputs": [
    {
     "data": {
      "application/vnd.plotly.v1+json": {
       "config": {
        "plotlyServerURL": "https://plot.ly"
       },
       "data": [
        {
         "alignmentgroup": "True",
         "bingroup": "x",
         "hovertemplate": "rubric=%{x}<br>count=%{y}<extra></extra>",
         "legendgroup": "",
         "marker": {
          "color": "#636efa",
          "pattern": {
           "shape": ""
          }
         },
         "name": "",
         "offsetgroup": "",
         "orientation": "v",
         "showlegend": false,
         "type": "histogram",
         "x": [
          "Photovoltaics and Solar Energy",
          "Photovoltaics and Solar Energy",
          "Photovoltaics and Solar Energy",
          "Photovoltaics and Solar Energy",
          "Photovoltaics and Solar Energy",
          "Photovoltaics and Solar Energy",
          "Photovoltaics and Solar Energy",
          "Photovoltaics and Solar Energy",
          "Photovoltaics and Solar Energy",
          "Photovoltaics and Solar Energy",
          "Photovoltaics and Solar Energy",
          "Photovoltaics and Solar Energy",
          "Photovoltaics and Solar Energy",
          "Photovoltaics and Solar Energy",
          "Photovoltaics and Solar Energy",
          "Photovoltaics and Solar Energy",
          "Photovoltaics and Solar Energy",
          "Photovoltaics and Solar Energy",
          "Photovoltaics and Solar Energy",
          "Photovoltaics and Solar Energy",
          "Photovoltaics and Solar Energy",
          "Photovoltaics and Solar Energy",
          "Photovoltaics and Solar Energy",
          "Photovoltaics and Solar Energy",
          "Photovoltaics and Solar Energy",
          "Photovoltaics and Solar Energy",
          "Photovoltaics and Solar Energy",
          "Photovoltaics and Solar Energy",
          "Photovoltaics and Solar Energy",
          "Photovoltaics and Solar Energy",
          "Photovoltaics and Solar Energy",
          "Photovoltaics and Solar Energy",
          "Photovoltaics and Solar Energy",
          "Photovoltaics and Solar Energy",
          "Photovoltaics and Solar Energy",
          "Wind Energy",
          "Wind Energy",
          "Wind Energy",
          "Wind Energy",
          "Wind Energy",
          "Wind Energy",
          "Wind Energy",
          "Wind Energy",
          "Wind Energy",
          "Wind Energy",
          "Wind Energy",
          "Wind Energy",
          "Wind Energy",
          "Wind Energy",
          "Wind Energy",
          "Wind Energy",
          "Wind Energy",
          "Wind Energy",
          "Wind Energy",
          "Wind Energy",
          "Wind Energy",
          "Wind Energy",
          "Wind Energy",
          "Wind Energy",
          "Wind Energy",
          "Hydro Energy",
          "Hydro Energy",
          "Hydro Energy",
          "Hydro Energy",
          "Hydro Energy",
          "Hydro Energy",
          "Hydro Energy",
          "Hydro Energy",
          "Geothermal Energy",
          "Geothermal Energy",
          "Geothermal Energy",
          "Geothermal Energy",
          "Geothermal Energy",
          "Bioenergy",
          "Bioenergy",
          "Battery",
          "Battery",
          "Battery",
          "Battery",
          "Battery",
          "Battery",
          "Battery",
          "Battery",
          "Battery",
          "Battery",
          "Hydrogen",
          "Hydrogen",
          "Hydrogen",
          "Hydrogen",
          "Hydrogen",
          "Hydrogen",
          "Hydrogen",
          "Energy Modeling and Optimization",
          "Energy Modeling and Optimization",
          "Energy Modeling and Optimization",
          "Energy Modeling and Optimization",
          "Energy Modeling and Optimization",
          "Energy Modeling and Optimization",
          "Energy Modeling and Optimization",
          "Energy Modeling and Optimization",
          "Energy Modeling and Optimization",
          "Energy Modeling and Optimization",
          "Energy Modeling and Optimization",
          "Energy Modeling and Optimization",
          "Energy Modeling and Optimization",
          "Energy Modeling and Optimization",
          "Energy Modeling and Optimization",
          "Energy Modeling and Optimization",
          "Energy Modeling and Optimization",
          "Energy Modeling and Optimization",
          "Energy Modeling and Optimization",
          "Energy Modeling and Optimization",
          "Energy Modeling and Optimization",
          "Energy Modeling and Optimization",
          "Energy Modeling and Optimization",
          "Energy Modeling and Optimization",
          "Energy Modeling and Optimization",
          "Energy Modeling and Optimization",
          "Energy Modeling and Optimization",
          "Energy Modeling and Optimization",
          "Energy Modeling and Optimization",
          "Energy Modeling and Optimization",
          "Energy Modeling and Optimization",
          "Energy Modeling and Optimization",
          "Energy Modeling and Optimization",
          "Energy Modeling and Optimization",
          "Energy Modeling and Optimization",
          "Energy Modeling and Optimization",
          "Energy Modeling and Optimization",
          "Energy Modeling and Optimization",
          "Energy Modeling and Optimization",
          "Energy Modeling and Optimization",
          "Energy Modeling and Optimization",
          "Energy Modeling and Optimization",
          "Energy Modeling and Optimization",
          "Energy Modeling and Optimization",
          "Energy Modeling and Optimization",
          "Energy Modeling and Optimization",
          "Energy Modeling and Optimization",
          "Energy Modeling and Optimization",
          "Energy Modeling and Optimization",
          "Energy Modeling and Optimization",
          "Energy Modeling and Optimization",
          "Energy Modeling and Optimization",
          "Energy Modeling and Optimization",
          "Energy Modeling and Optimization",
          "Energy Modeling and Optimization",
          "Energy Modeling and Optimization",
          "Energy Modeling and Optimization",
          "Energy Modeling and Optimization",
          "Energy Modeling and Optimization",
          "Energy Modeling and Optimization",
          "Energy Modeling and Optimization",
          "Energy Modeling and Optimization",
          "Energy Modeling and Optimization",
          "Energy Modeling and Optimization",
          "Energy Modeling and Optimization",
          "Energy Modeling and Optimization",
          "Energy Monitoring and Control",
          "Energy Monitoring and Control",
          "Energy Monitoring and Control",
          "Energy Monitoring and Control",
          "Energy Monitoring and Control",
          "Energy Monitoring and Control",
          "Energy Distribution and Grids",
          "Energy Distribution and Grids",
          "Energy Distribution and Grids",
          "Energy Distribution and Grids",
          "Energy Distribution and Grids",
          "Energy Distribution and Grids",
          "Energy Distribution and Grids",
          "Energy Distribution and Grids",
          "Energy Distribution and Grids",
          "Energy Distribution and Grids",
          "Energy Distribution and Grids",
          "Energy Distribution and Grids",
          "Energy Distribution and Grids",
          "Energy Distribution and Grids",
          "Energy Distribution and Grids",
          "Energy Distribution and Grids",
          "Energy Distribution and Grids",
          "Energy Distribution and Grids",
          "Energy Distribution and Grids",
          "Energy Distribution and Grids",
          "Energy Distribution and Grids",
          "Energy Distribution and Grids",
          "Datasets on Energy Systems",
          "Datasets on Energy Systems",
          "Datasets on Energy Systems",
          "Datasets on Energy Systems",
          "Datasets on Energy Systems",
          "Datasets on Energy Systems",
          "Datasets on Energy Systems",
          "Datasets on Energy Systems",
          "Datasets on Energy Systems",
          "Datasets on Energy Systems",
          "Datasets on Energy Systems",
          "Datasets on Energy Systems",
          "Datasets on Energy Systems",
          "Datasets on Energy Systems",
          "Datasets on Energy Systems",
          "Buildings and Heating",
          "Buildings and Heating",
          "Buildings and Heating",
          "Buildings and Heating",
          "Buildings and Heating",
          "Buildings and Heating",
          "Buildings and Heating",
          "Buildings and Heating",
          "Buildings and Heating",
          "Buildings and Heating",
          "Buildings and Heating",
          "Buildings and Heating",
          "Buildings and Heating",
          "Buildings and Heating",
          "Buildings and Heating",
          "Buildings and Heating",
          "Buildings and Heating",
          "Buildings and Heating",
          "Buildings and Heating",
          "Buildings and Heating",
          "Buildings and Heating",
          "Buildings and Heating",
          "Buildings and Heating",
          "Buildings and Heating",
          "Buildings and Heating",
          "Buildings and Heating",
          "Buildings and Heating",
          "Buildings and Heating",
          "Buildings and Heating",
          "Buildings and Heating",
          "Buildings and Heating",
          "Buildings and Heating",
          "Buildings and Heating",
          "Buildings and Heating",
          "Buildings and Heating",
          "Buildings and Heating",
          "Mobility and Transportation",
          "Mobility and Transportation",
          "Mobility and Transportation",
          "Mobility and Transportation",
          "Mobility and Transportation",
          "Mobility and Transportation",
          "Mobility and Transportation",
          "Mobility and Transportation",
          "Mobility and Transportation",
          "Mobility and Transportation",
          "Mobility and Transportation",
          "Mobility and Transportation",
          "Mobility and Transportation",
          "Mobility and Transportation",
          "Mobility and Transportation",
          "Mobility and Transportation",
          "Mobility and Transportation",
          "Mobility and Transportation",
          "Mobility and Transportation",
          "Mobility and Transportation",
          "Mobility and Transportation",
          "Mobility and Transportation",
          "Mobility and Transportation",
          "Mobility and Transportation",
          "Mobility and Transportation",
          "Mobility and Transportation",
          "Mobility and Transportation",
          "Mobility and Transportation",
          "Mobility and Transportation",
          "Mobility and Transportation",
          "Mobility and Transportation",
          "Mobility and Transportation",
          "Mobility and Transportation",
          "Mobility and Transportation",
          "Mobility and Transportation",
          "Mobility and Transportation",
          "Mobility and Transportation",
          "Mobility and Transportation",
          "Mobility and Transportation",
          "Mobility and Transportation",
          "Mobility and Transportation",
          "Mobility and Transportation",
          "Mobility and Transportation",
          "Mobility and Transportation",
          "Mobility and Transportation",
          "Mobility and Transportation",
          "Mobility and Transportation",
          "Mobility and Transportation",
          "Mobility and Transportation",
          "Production and Industry",
          "Computation and Communication",
          "Computation and Communication",
          "Computation and Communication",
          "Computation and Communication",
          "Computation and Communication",
          "Computation and Communication",
          "Computation and Communication",
          "Computation and Communication",
          "Computation and Communication",
          "Computation and Communication",
          "Computation and Communication",
          "Computation and Communication",
          "Computation and Communication",
          "Computation and Communication",
          "Computation and Communication",
          "Computation and Communication",
          "Computation and Communication",
          "Computation and Communication",
          "Carbon Intensity and Accounting",
          "Carbon Intensity and Accounting",
          "Carbon Intensity and Accounting",
          "Carbon Intensity and Accounting",
          "Carbon Intensity and Accounting",
          "Carbon Intensity and Accounting",
          "Carbon Intensity and Accounting",
          "Carbon Intensity and Accounting",
          "Carbon Intensity and Accounting",
          "Carbon Intensity and Accounting",
          "Carbon Intensity and Accounting",
          "Carbon Intensity and Accounting",
          "Carbon Capture and Removel",
          "Carbon Capture and Removel",
          "Carbon Capture and Removel",
          "Carbon Capture and Removel",
          "Emission Observation and Modeling",
          "Emission Observation and Modeling",
          "Emission Observation and Modeling",
          "Emission Observation and Modeling",
          "Emission Observation and Modeling",
          "Emission Observation and Modeling",
          "Emission Observation and Modeling",
          "Emission Observation and Modeling",
          "Emission Observation and Modeling",
          "Emission Observation and Modeling",
          "Emission Observation and Modeling",
          "Emission Observation and Modeling",
          "Emission Observation and Modeling",
          "Emission Observation and Modeling",
          "Life Cycle Assessment",
          "Life Cycle Assessment",
          "Life Cycle Assessment",
          "Life Cycle Assessment",
          "Life Cycle Assessment",
          "Life Cycle Assessment",
          "Life Cycle Assessment",
          "Life Cycle Assessment",
          "Life Cycle Assessment",
          "Circular Economy and Waste",
          "Circular Economy and Waste",
          "Circular Economy and Waste",
          "Circular Economy and Waste",
          "Circular Economy and Waste",
          "Circular Economy and Waste",
          "Circular Economy and Waste",
          "Circular Economy and Waste",
          "Circular Economy and Waste",
          "Biosphere",
          "Biosphere",
          "Biosphere",
          "Biosphere",
          "Biosphere",
          "Biosphere",
          "Biosphere",
          "Biosphere",
          "Biosphere",
          "Biosphere",
          "Biosphere",
          "Biosphere",
          "Biosphere",
          "Biosphere",
          "Biosphere",
          "Biosphere",
          "Biosphere",
          "Biosphere",
          "Biosphere",
          "Biosphere",
          "Biosphere",
          "Biosphere",
          "Biosphere",
          "Biosphere",
          "Biosphere",
          "Biosphere",
          "Biosphere",
          "Biosphere",
          "Biosphere",
          "Biosphere",
          "Biosphere",
          "Biosphere",
          "Biosphere",
          "Biosphere",
          "Biosphere",
          "Biosphere",
          "Biosphere",
          "Biosphere",
          "Biosphere",
          "Biosphere",
          "Biosphere",
          "Biosphere",
          "Biosphere",
          "Biosphere",
          "Biosphere",
          "Biosphere",
          "Biosphere",
          "Biosphere",
          "Biosphere",
          "Biosphere",
          "Biosphere",
          "Biosphere",
          "Biosphere",
          "Biosphere",
          "Biosphere",
          "Biosphere",
          "Biosphere",
          "Biosphere",
          "Biosphere",
          "Biosphere",
          "Biosphere",
          "Biosphere",
          "Biosphere",
          "Biosphere",
          "Cryosphere",
          "Cryosphere",
          "Cryosphere",
          "Cryosphere",
          "Cryosphere",
          "Cryosphere",
          "Cryosphere",
          "Cryosphere",
          "Cryosphere",
          "Cryosphere",
          "Cryosphere",
          "Cryosphere",
          "Cryosphere",
          "Cryosphere",
          "Cryosphere",
          "Cryosphere",
          "Cryosphere",
          "Hydrosphere",
          "Hydrosphere",
          "Hydrosphere",
          "Hydrosphere",
          "Hydrosphere",
          "Hydrosphere",
          "Hydrosphere",
          "Hydrosphere",
          "Hydrosphere",
          "Hydrosphere",
          "Hydrosphere",
          "Hydrosphere",
          "Hydrosphere",
          "Hydrosphere",
          "Hydrosphere",
          "Hydrosphere",
          "Hydrosphere",
          "Hydrosphere",
          "Hydrosphere",
          "Hydrosphere",
          "Hydrosphere",
          "Hydrosphere",
          "Hydrosphere",
          "Hydrosphere",
          "Hydrosphere",
          "Hydrosphere",
          "Hydrosphere",
          "Hydrosphere",
          "Hydrosphere",
          "Hydrosphere",
          "Hydrosphere",
          "Hydrosphere",
          "Hydrosphere",
          "Hydrosphere",
          "Hydrosphere",
          "Hydrosphere",
          "Hydrosphere",
          "Hydrosphere",
          "Hydrosphere",
          "Hydrosphere",
          "Hydrosphere",
          "Hydrosphere",
          "Hydrosphere",
          "Hydrosphere",
          "Hydrosphere",
          "Hydrosphere",
          "Hydrosphere",
          "Hydrosphere",
          "Hydrosphere",
          "Hydrosphere",
          "Hydrosphere",
          "Atmosphere",
          "Atmosphere",
          "Atmosphere",
          "Atmosphere",
          "Atmosphere",
          "Atmosphere",
          "Atmosphere",
          "Atmosphere",
          "Atmosphere",
          "Atmosphere",
          "Atmosphere",
          "Atmosphere",
          "Atmosphere",
          "Atmosphere",
          "Atmosphere",
          "Atmosphere",
          "Atmosphere",
          "Earth and Climate Modeling",
          "Earth and Climate Modeling",
          "Earth and Climate Modeling",
          "Earth and Climate Modeling",
          "Earth and Climate Modeling",
          "Earth and Climate Modeling",
          "Earth and Climate Modeling",
          "Earth and Climate Modeling",
          "Earth and Climate Modeling",
          "Earth and Climate Modeling",
          "Earth and Climate Modeling",
          "Earth and Climate Modeling",
          "Earth and Climate Modeling",
          "Earth and Climate Modeling",
          "Earth and Climate Modeling",
          "Earth and Climate Modeling",
          "Earth and Climate Modeling",
          "Earth and Climate Modeling",
          "Earth and Climate Modeling",
          "Earth and Climate Modeling",
          "Earth and Climate Modeling",
          "Earth and Climate Modeling",
          "Earth and Climate Modeling",
          "Earth and Climate Modeling",
          "Earth and Climate Modeling",
          "Earth and Climate Modeling",
          "Earth and Climate Modeling",
          "Earth and Climate Modeling",
          "Earth and Climate Modeling",
          "Earth and Climate Modeling",
          "Earth and Climate Modeling",
          "Earth and Climate Modeling",
          "Earth and Climate Modeling",
          "Earth and Climate Modeling",
          "Earth and Climate Modeling",
          "Earth and Climate Modeling",
          "Earth and Climate Modeling",
          "Earth and Climate Modeling",
          "Earth and Climate Modeling",
          "Earth and Climate Modeling",
          "Radiative Transfer",
          "Radiative Transfer",
          "Radiative Transfer",
          "Radiative Transfer",
          "Radiative Transfer",
          "Radiative Transfer",
          "Radiative Transfer",
          "Radiative Transfer",
          "Earth Observation and Climate Monitoring",
          "Earth Observation and Climate Monitoring",
          "Earth Observation and Climate Monitoring",
          "Earth Observation and Climate Monitoring",
          "Earth Observation and Climate Monitoring",
          "Earth Observation and Climate Monitoring",
          "Meteorological Observation",
          "Meteorological Observation",
          "Meteorological Observation",
          "Meteorological Observation",
          "Meteorological Observation",
          "Meteorological Observation",
          "Meteorological Observation",
          "Climate Data Processing and Access",
          "Climate Data Processing and Access",
          "Climate Data Processing and Access",
          "Climate Data Processing and Access",
          "Climate Data Processing and Access",
          "Climate Data Processing and Access",
          "Climate Data Processing and Access",
          "Climate Data Processing and Access",
          "Climate Data Processing and Access",
          "Climate Data Processing and Access",
          "Climate Data Processing and Access",
          "Climate Data Processing and Access",
          "Climate Data Processing and Access",
          "Climate Data Processing and Access",
          "Climate Data Processing and Access",
          "Climate Data Processing and Access",
          "Climate Data Processing and Access",
          "Climate Data Processing and Access",
          "Climate Data Processing and Access",
          "Climate Data Processing and Access",
          "Climate Data Processing and Access",
          "Climate Data Processing and Access",
          "Climate Data Processing and Access",
          "Climate Data Processing and Access",
          "Climate Data Processing and Access",
          "Climate Data Processing and Access",
          "Climate Data Processing and Access",
          "Climate Data Processing and Access",
          "Climate Data Processing and Access",
          "Climate Data Processing and Access",
          "Climate Data Processing and Access",
          "Climate Data Processing and Access",
          "Climate Data Processing and Access",
          "Climate Data Processing and Access",
          "Climate Data Processing and Access",
          "Climate Data Processing and Access",
          "Climate Data Processing and Access",
          "Climate Data Processing and Access",
          "Climate Data Processing and Access",
          "Climate Data Processing and Access",
          "Climate Data Processing and Access",
          "Climate Data Processing and Access",
          "Climate Data Processing and Access",
          "Climate Data Processing and Access",
          "Integrated Assessment",
          "Integrated Assessment",
          "Integrated Assessment",
          "Air Quality",
          "Air Quality",
          "Air Quality",
          "Air Quality",
          "Air Quality",
          "Air Quality",
          "Air Quality",
          "Air Quality",
          "Air Quality",
          "Air Quality",
          "Air Quality",
          "Air Quality",
          "Air Quality",
          "Air Quality",
          "Air Quality",
          "Air Quality",
          "Air Quality",
          "Air Quality",
          "Air Quality",
          "Air Quality",
          "Water Supply",
          "Water Supply",
          "Water Supply",
          "Water Supply",
          "Water Supply",
          "Water Supply",
          "Water Supply",
          "Water Supply",
          "Water Supply",
          "Water Supply",
          "Water Supply",
          "Water Supply",
          "Water Supply",
          "Water Supply",
          "Water Supply",
          "Water Supply",
          "Water Supply",
          "Water Supply",
          "Water Supply",
          "Water Supply",
          "Water Supply",
          "Water Supply",
          "Water Supply",
          "Water Supply",
          "Water Supply",
          "Water Supply",
          "Water Supply",
          "Water Supply",
          "Water Supply",
          "Water Supply",
          "Water Supply",
          "Water Supply",
          "Water Supply",
          "Water Supply",
          "Water Supply",
          "Water Supply",
          "Water Supply",
          "Water Supply",
          "Water Supply",
          "Water Supply",
          "Water Supply",
          "Water Supply",
          "Water Supply",
          "Soil and Land",
          "Soil and Land",
          "Soil and Land",
          "Soil and Land",
          "Soil and Land",
          "Soil and Land",
          "Soil and Land",
          "Soil and Land",
          "Soil and Land",
          "Soil and Land",
          "Soil and Land",
          "Soil and Land",
          "Soil and Land",
          "Soil and Land",
          "Soil and Land",
          "Soil and Land",
          "Soil and Land",
          "Soil and Land",
          "Soil and Land",
          "Soil and Land",
          "Soil and Land",
          "Soil and Land",
          "Soil and Land",
          "Soil and Land",
          "Soil and Land",
          "Soil and Land",
          "Agriculture and Nutrition",
          "Agriculture and Nutrition",
          "Agriculture and Nutrition",
          "Agriculture and Nutrition",
          "Agriculture and Nutrition",
          "Agriculture and Nutrition",
          "Agriculture and Nutrition",
          "Agriculture and Nutrition",
          "Agriculture and Nutrition",
          "Agriculture and Nutrition",
          "Agriculture and Nutrition",
          "Agriculture and Nutrition",
          "Agriculture and Nutrition",
          "Agriculture and Nutrition",
          "Agriculture and Nutrition",
          "Agriculture and Nutrition",
          "Agriculture and Nutrition",
          "Agriculture and Nutrition",
          "Agriculture and Nutrition",
          "Agriculture and Nutrition",
          "Agriculture and Nutrition",
          "Agriculture and Nutrition",
          "Agriculture and Nutrition",
          "Natural Hazard and Poverty",
          "Natural Hazard and Poverty",
          "Natural Hazard and Poverty",
          "Natural Hazard and Poverty",
          "Natural Hazard and Poverty",
          "Natural Hazard and Poverty",
          "Natural Hazard and Poverty",
          "Natural Hazard and Poverty",
          "Natural Hazard and Poverty",
          "Natural Hazard and Poverty",
          "Sustainable Development Goals",
          "Sustainable Development Goals",
          "Sustainable Development Goals",
          "Sustainable Development Goals",
          "Sustainable Investment",
          "Sustainable Investment",
          "Sustainable Investment",
          "Sustainable Investment",
          "Sustainable Investment",
          "Sustainable Investment",
          "Sustainable Investment",
          "Sustainable Investment",
          "Sustainable Investment",
          "Knowledge Platforms",
          "Knowledge Platforms",
          "Knowledge Platforms",
          "Knowledge Platforms",
          "Knowledge Platforms",
          "Knowledge Platforms",
          "Knowledge Platforms",
          "Knowledge Platforms",
          "Knowledge Platforms",
          "Knowledge Platforms",
          "Knowledge Platforms",
          "Data Catalogs and Interfaces",
          "Data Catalogs and Interfaces",
          "Data Catalogs and Interfaces",
          "Data Catalogs and Interfaces",
          "Data Catalogs and Interfaces",
          "Data Catalogs and Interfaces",
          "Data Catalogs and Interfaces",
          "Data Catalogs and Interfaces",
          "Data Catalogs and Interfaces",
          "Data Catalogs and Interfaces",
          "Data Catalogs and Interfaces",
          "Data Catalogs and Interfaces",
          "Data Catalogs and Interfaces",
          "Data Catalogs and Interfaces",
          "Data Catalogs and Interfaces",
          "Data Catalogs and Interfaces",
          "Data Catalogs and Interfaces",
          "Data Catalogs and Interfaces",
          "Data Catalogs and Interfaces",
          "Data Catalogs and Interfaces",
          "Data Catalogs and Interfaces",
          "Data Catalogs and Interfaces",
          "Data Catalogs and Interfaces",
          "Data Catalogs and Interfaces",
          "Data Catalogs and Interfaces",
          "Data Catalogs and Interfaces",
          "Data Catalogs and Interfaces",
          "Data Catalogs and Interfaces",
          "Curated Lists",
          "Curated Lists",
          "Curated Lists",
          "Curated Lists",
          "Curated Lists",
          "Curated Lists",
          "Curated Lists",
          "Curated Lists",
          "Curated Lists",
          "Curated Lists",
          "Curated Lists",
          "Curated Lists",
          "Curated Lists",
          "Curated Lists",
          "Curated Lists"
         ],
         "xaxis": "x",
         "yaxis": "y"
        }
       ],
       "layout": {
        "barmode": "relative",
        "legend": {
         "tracegroupgap": 0
        },
        "margin": {
         "t": 60
        },
        "paper_bgcolor": "lightgray",
        "template": {
         "data": {
          "bar": [
           {
            "error_x": {
             "color": "#2a3f5f"
            },
            "error_y": {
             "color": "#2a3f5f"
            },
            "marker": {
             "line": {
              "color": "#E5ECF6",
              "width": 0.5
             },
             "pattern": {
              "fillmode": "overlay",
              "size": 10,
              "solidity": 0.2
             }
            },
            "type": "bar"
           }
          ],
          "barpolar": [
           {
            "marker": {
             "line": {
              "color": "#E5ECF6",
              "width": 0.5
             },
             "pattern": {
              "fillmode": "overlay",
              "size": 10,
              "solidity": 0.2
             }
            },
            "type": "barpolar"
           }
          ],
          "carpet": [
           {
            "aaxis": {
             "endlinecolor": "#2a3f5f",
             "gridcolor": "white",
             "linecolor": "white",
             "minorgridcolor": "white",
             "startlinecolor": "#2a3f5f"
            },
            "baxis": {
             "endlinecolor": "#2a3f5f",
             "gridcolor": "white",
             "linecolor": "white",
             "minorgridcolor": "white",
             "startlinecolor": "#2a3f5f"
            },
            "type": "carpet"
           }
          ],
          "choropleth": [
           {
            "colorbar": {
             "outlinewidth": 0,
             "ticks": ""
            },
            "type": "choropleth"
           }
          ],
          "contour": [
           {
            "colorbar": {
             "outlinewidth": 0,
             "ticks": ""
            },
            "colorscale": [
             [
              0,
              "#0d0887"
             ],
             [
              0.1111111111111111,
              "#46039f"
             ],
             [
              0.2222222222222222,
              "#7201a8"
             ],
             [
              0.3333333333333333,
              "#9c179e"
             ],
             [
              0.4444444444444444,
              "#bd3786"
             ],
             [
              0.5555555555555556,
              "#d8576b"
             ],
             [
              0.6666666666666666,
              "#ed7953"
             ],
             [
              0.7777777777777778,
              "#fb9f3a"
             ],
             [
              0.8888888888888888,
              "#fdca26"
             ],
             [
              1,
              "#f0f921"
             ]
            ],
            "type": "contour"
           }
          ],
          "contourcarpet": [
           {
            "colorbar": {
             "outlinewidth": 0,
             "ticks": ""
            },
            "type": "contourcarpet"
           }
          ],
          "heatmap": [
           {
            "colorbar": {
             "outlinewidth": 0,
             "ticks": ""
            },
            "colorscale": [
             [
              0,
              "#0d0887"
             ],
             [
              0.1111111111111111,
              "#46039f"
             ],
             [
              0.2222222222222222,
              "#7201a8"
             ],
             [
              0.3333333333333333,
              "#9c179e"
             ],
             [
              0.4444444444444444,
              "#bd3786"
             ],
             [
              0.5555555555555556,
              "#d8576b"
             ],
             [
              0.6666666666666666,
              "#ed7953"
             ],
             [
              0.7777777777777778,
              "#fb9f3a"
             ],
             [
              0.8888888888888888,
              "#fdca26"
             ],
             [
              1,
              "#f0f921"
             ]
            ],
            "type": "heatmap"
           }
          ],
          "heatmapgl": [
           {
            "colorbar": {
             "outlinewidth": 0,
             "ticks": ""
            },
            "colorscale": [
             [
              0,
              "#0d0887"
             ],
             [
              0.1111111111111111,
              "#46039f"
             ],
             [
              0.2222222222222222,
              "#7201a8"
             ],
             [
              0.3333333333333333,
              "#9c179e"
             ],
             [
              0.4444444444444444,
              "#bd3786"
             ],
             [
              0.5555555555555556,
              "#d8576b"
             ],
             [
              0.6666666666666666,
              "#ed7953"
             ],
             [
              0.7777777777777778,
              "#fb9f3a"
             ],
             [
              0.8888888888888888,
              "#fdca26"
             ],
             [
              1,
              "#f0f921"
             ]
            ],
            "type": "heatmapgl"
           }
          ],
          "histogram": [
           {
            "marker": {
             "pattern": {
              "fillmode": "overlay",
              "size": 10,
              "solidity": 0.2
             }
            },
            "type": "histogram"
           }
          ],
          "histogram2d": [
           {
            "colorbar": {
             "outlinewidth": 0,
             "ticks": ""
            },
            "colorscale": [
             [
              0,
              "#0d0887"
             ],
             [
              0.1111111111111111,
              "#46039f"
             ],
             [
              0.2222222222222222,
              "#7201a8"
             ],
             [
              0.3333333333333333,
              "#9c179e"
             ],
             [
              0.4444444444444444,
              "#bd3786"
             ],
             [
              0.5555555555555556,
              "#d8576b"
             ],
             [
              0.6666666666666666,
              "#ed7953"
             ],
             [
              0.7777777777777778,
              "#fb9f3a"
             ],
             [
              0.8888888888888888,
              "#fdca26"
             ],
             [
              1,
              "#f0f921"
             ]
            ],
            "type": "histogram2d"
           }
          ],
          "histogram2dcontour": [
           {
            "colorbar": {
             "outlinewidth": 0,
             "ticks": ""
            },
            "colorscale": [
             [
              0,
              "#0d0887"
             ],
             [
              0.1111111111111111,
              "#46039f"
             ],
             [
              0.2222222222222222,
              "#7201a8"
             ],
             [
              0.3333333333333333,
              "#9c179e"
             ],
             [
              0.4444444444444444,
              "#bd3786"
             ],
             [
              0.5555555555555556,
              "#d8576b"
             ],
             [
              0.6666666666666666,
              "#ed7953"
             ],
             [
              0.7777777777777778,
              "#fb9f3a"
             ],
             [
              0.8888888888888888,
              "#fdca26"
             ],
             [
              1,
              "#f0f921"
             ]
            ],
            "type": "histogram2dcontour"
           }
          ],
          "mesh3d": [
           {
            "colorbar": {
             "outlinewidth": 0,
             "ticks": ""
            },
            "type": "mesh3d"
           }
          ],
          "parcoords": [
           {
            "line": {
             "colorbar": {
              "outlinewidth": 0,
              "ticks": ""
             }
            },
            "type": "parcoords"
           }
          ],
          "pie": [
           {
            "automargin": true,
            "type": "pie"
           }
          ],
          "scatter": [
           {
            "marker": {
             "colorbar": {
              "outlinewidth": 0,
              "ticks": ""
             }
            },
            "type": "scatter"
           }
          ],
          "scatter3d": [
           {
            "line": {
             "colorbar": {
              "outlinewidth": 0,
              "ticks": ""
             }
            },
            "marker": {
             "colorbar": {
              "outlinewidth": 0,
              "ticks": ""
             }
            },
            "type": "scatter3d"
           }
          ],
          "scattercarpet": [
           {
            "marker": {
             "colorbar": {
              "outlinewidth": 0,
              "ticks": ""
             }
            },
            "type": "scattercarpet"
           }
          ],
          "scattergeo": [
           {
            "marker": {
             "colorbar": {
              "outlinewidth": 0,
              "ticks": ""
             }
            },
            "type": "scattergeo"
           }
          ],
          "scattergl": [
           {
            "marker": {
             "colorbar": {
              "outlinewidth": 0,
              "ticks": ""
             }
            },
            "type": "scattergl"
           }
          ],
          "scattermapbox": [
           {
            "marker": {
             "colorbar": {
              "outlinewidth": 0,
              "ticks": ""
             }
            },
            "type": "scattermapbox"
           }
          ],
          "scatterpolar": [
           {
            "marker": {
             "colorbar": {
              "outlinewidth": 0,
              "ticks": ""
             }
            },
            "type": "scatterpolar"
           }
          ],
          "scatterpolargl": [
           {
            "marker": {
             "colorbar": {
              "outlinewidth": 0,
              "ticks": ""
             }
            },
            "type": "scatterpolargl"
           }
          ],
          "scatterternary": [
           {
            "marker": {
             "colorbar": {
              "outlinewidth": 0,
              "ticks": ""
             }
            },
            "type": "scatterternary"
           }
          ],
          "surface": [
           {
            "colorbar": {
             "outlinewidth": 0,
             "ticks": ""
            },
            "colorscale": [
             [
              0,
              "#0d0887"
             ],
             [
              0.1111111111111111,
              "#46039f"
             ],
             [
              0.2222222222222222,
              "#7201a8"
             ],
             [
              0.3333333333333333,
              "#9c179e"
             ],
             [
              0.4444444444444444,
              "#bd3786"
             ],
             [
              0.5555555555555556,
              "#d8576b"
             ],
             [
              0.6666666666666666,
              "#ed7953"
             ],
             [
              0.7777777777777778,
              "#fb9f3a"
             ],
             [
              0.8888888888888888,
              "#fdca26"
             ],
             [
              1,
              "#f0f921"
             ]
            ],
            "type": "surface"
           }
          ],
          "table": [
           {
            "cells": {
             "fill": {
              "color": "#EBF0F8"
             },
             "line": {
              "color": "white"
             }
            },
            "header": {
             "fill": {
              "color": "#C8D4E3"
             },
             "line": {
              "color": "white"
             }
            },
            "type": "table"
           }
          ]
         },
         "layout": {
          "annotationdefaults": {
           "arrowcolor": "#2a3f5f",
           "arrowhead": 0,
           "arrowwidth": 1
          },
          "autotypenumbers": "strict",
          "coloraxis": {
           "colorbar": {
            "outlinewidth": 0,
            "ticks": ""
           }
          },
          "colorscale": {
           "diverging": [
            [
             0,
             "#8e0152"
            ],
            [
             0.1,
             "#c51b7d"
            ],
            [
             0.2,
             "#de77ae"
            ],
            [
             0.3,
             "#f1b6da"
            ],
            [
             0.4,
             "#fde0ef"
            ],
            [
             0.5,
             "#f7f7f7"
            ],
            [
             0.6,
             "#e6f5d0"
            ],
            [
             0.7,
             "#b8e186"
            ],
            [
             0.8,
             "#7fbc41"
            ],
            [
             0.9,
             "#4d9221"
            ],
            [
             1,
             "#276419"
            ]
           ],
           "sequential": [
            [
             0,
             "#0d0887"
            ],
            [
             0.1111111111111111,
             "#46039f"
            ],
            [
             0.2222222222222222,
             "#7201a8"
            ],
            [
             0.3333333333333333,
             "#9c179e"
            ],
            [
             0.4444444444444444,
             "#bd3786"
            ],
            [
             0.5555555555555556,
             "#d8576b"
            ],
            [
             0.6666666666666666,
             "#ed7953"
            ],
            [
             0.7777777777777778,
             "#fb9f3a"
            ],
            [
             0.8888888888888888,
             "#fdca26"
            ],
            [
             1,
             "#f0f921"
            ]
           ],
           "sequentialminus": [
            [
             0,
             "#0d0887"
            ],
            [
             0.1111111111111111,
             "#46039f"
            ],
            [
             0.2222222222222222,
             "#7201a8"
            ],
            [
             0.3333333333333333,
             "#9c179e"
            ],
            [
             0.4444444444444444,
             "#bd3786"
            ],
            [
             0.5555555555555556,
             "#d8576b"
            ],
            [
             0.6666666666666666,
             "#ed7953"
            ],
            [
             0.7777777777777778,
             "#fb9f3a"
            ],
            [
             0.8888888888888888,
             "#fdca26"
            ],
            [
             1,
             "#f0f921"
            ]
           ]
          },
          "colorway": [
           "#636efa",
           "#EF553B",
           "#00cc96",
           "#ab63fa",
           "#FFA15A",
           "#19d3f3",
           "#FF6692",
           "#B6E880",
           "#FF97FF",
           "#FECB52"
          ],
          "font": {
           "color": "#2a3f5f"
          },
          "geo": {
           "bgcolor": "white",
           "lakecolor": "white",
           "landcolor": "#E5ECF6",
           "showlakes": true,
           "showland": true,
           "subunitcolor": "white"
          },
          "hoverlabel": {
           "align": "left"
          },
          "hovermode": "closest",
          "mapbox": {
           "style": "light"
          },
          "paper_bgcolor": "white",
          "plot_bgcolor": "#E5ECF6",
          "polar": {
           "angularaxis": {
            "gridcolor": "white",
            "linecolor": "white",
            "ticks": ""
           },
           "bgcolor": "#E5ECF6",
           "radialaxis": {
            "gridcolor": "white",
            "linecolor": "white",
            "ticks": ""
           }
          },
          "scene": {
           "xaxis": {
            "backgroundcolor": "#E5ECF6",
            "gridcolor": "white",
            "gridwidth": 2,
            "linecolor": "white",
            "showbackground": true,
            "ticks": "",
            "zerolinecolor": "white"
           },
           "yaxis": {
            "backgroundcolor": "#E5ECF6",
            "gridcolor": "white",
            "gridwidth": 2,
            "linecolor": "white",
            "showbackground": true,
            "ticks": "",
            "zerolinecolor": "white"
           },
           "zaxis": {
            "backgroundcolor": "#E5ECF6",
            "gridcolor": "white",
            "gridwidth": 2,
            "linecolor": "white",
            "showbackground": true,
            "ticks": "",
            "zerolinecolor": "white"
           }
          },
          "shapedefaults": {
           "line": {
            "color": "#2a3f5f"
           }
          },
          "ternary": {
           "aaxis": {
            "gridcolor": "white",
            "linecolor": "white",
            "ticks": ""
           },
           "baxis": {
            "gridcolor": "white",
            "linecolor": "white",
            "ticks": ""
           },
           "bgcolor": "#E5ECF6",
           "caxis": {
            "gridcolor": "white",
            "linecolor": "white",
            "ticks": ""
           }
          },
          "title": {
           "x": 0.05
          },
          "xaxis": {
           "automargin": true,
           "gridcolor": "white",
           "linecolor": "white",
           "ticks": "",
           "title": {
            "standoff": 15
           },
           "zerolinecolor": "white",
           "zerolinewidth": 2
          },
          "yaxis": {
           "automargin": true,
           "gridcolor": "white",
           "linecolor": "white",
           "ticks": "",
           "title": {
            "standoff": 15
           },
           "zerolinecolor": "white",
           "zerolinewidth": 2
          }
         }
        },
        "xaxis": {
         "anchor": "y",
         "categoryorder": "total descending",
         "domain": [
          0,
          1
         ],
         "title": {
          "text": "rubric"
         }
        },
        "yaxis": {
         "anchor": "x",
         "domain": [
          0,
          1
         ],
         "title": {
          "text": "count"
         }
        }
       }
      },
      "text/html": [
       "<div>                            <div id=\"f8e2b6bd-b247-42fd-b94c-27143e4bfca7\" class=\"plotly-graph-div\" style=\"height:525px; width:100%;\"></div>            <script type=\"text/javascript\">                require([\"plotly\"], function(Plotly) {                    window.PLOTLYENV=window.PLOTLYENV || {};                                    if (document.getElementById(\"f8e2b6bd-b247-42fd-b94c-27143e4bfca7\")) {                    Plotly.newPlot(                        \"f8e2b6bd-b247-42fd-b94c-27143e4bfca7\",                        [{\"alignmentgroup\":\"True\",\"bingroup\":\"x\",\"hovertemplate\":\"rubric=%{x}<br>count=%{y}<extra></extra>\",\"legendgroup\":\"\",\"marker\":{\"color\":\"#636efa\",\"pattern\":{\"shape\":\"\"}},\"name\":\"\",\"offsetgroup\":\"\",\"orientation\":\"v\",\"showlegend\":false,\"type\":\"histogram\",\"x\":[\"Photovoltaics and Solar Energy\",\"Photovoltaics and Solar Energy\",\"Photovoltaics and Solar Energy\",\"Photovoltaics and Solar Energy\",\"Photovoltaics and Solar Energy\",\"Photovoltaics and Solar Energy\",\"Photovoltaics and Solar Energy\",\"Photovoltaics and Solar Energy\",\"Photovoltaics and Solar Energy\",\"Photovoltaics and Solar Energy\",\"Photovoltaics and Solar Energy\",\"Photovoltaics and Solar Energy\",\"Photovoltaics and Solar Energy\",\"Photovoltaics and Solar Energy\",\"Photovoltaics and Solar Energy\",\"Photovoltaics and Solar Energy\",\"Photovoltaics and Solar Energy\",\"Photovoltaics and Solar Energy\",\"Photovoltaics and Solar Energy\",\"Photovoltaics and Solar Energy\",\"Photovoltaics and Solar Energy\",\"Photovoltaics and Solar Energy\",\"Photovoltaics and Solar Energy\",\"Photovoltaics and Solar Energy\",\"Photovoltaics and Solar Energy\",\"Photovoltaics and Solar Energy\",\"Photovoltaics and Solar Energy\",\"Photovoltaics and Solar Energy\",\"Photovoltaics and Solar Energy\",\"Photovoltaics and Solar Energy\",\"Photovoltaics and Solar Energy\",\"Photovoltaics and Solar Energy\",\"Photovoltaics and Solar Energy\",\"Photovoltaics and Solar Energy\",\"Photovoltaics and Solar Energy\",\"Wind Energy\",\"Wind Energy\",\"Wind Energy\",\"Wind Energy\",\"Wind Energy\",\"Wind Energy\",\"Wind Energy\",\"Wind Energy\",\"Wind Energy\",\"Wind Energy\",\"Wind Energy\",\"Wind Energy\",\"Wind Energy\",\"Wind Energy\",\"Wind Energy\",\"Wind Energy\",\"Wind Energy\",\"Wind Energy\",\"Wind Energy\",\"Wind Energy\",\"Wind Energy\",\"Wind Energy\",\"Wind Energy\",\"Wind Energy\",\"Wind Energy\",\"Hydro Energy\",\"Hydro Energy\",\"Hydro Energy\",\"Hydro Energy\",\"Hydro Energy\",\"Hydro Energy\",\"Hydro Energy\",\"Hydro Energy\",\"Geothermal Energy\",\"Geothermal Energy\",\"Geothermal Energy\",\"Geothermal Energy\",\"Geothermal Energy\",\"Bioenergy\",\"Bioenergy\",\"Battery\",\"Battery\",\"Battery\",\"Battery\",\"Battery\",\"Battery\",\"Battery\",\"Battery\",\"Battery\",\"Battery\",\"Hydrogen\",\"Hydrogen\",\"Hydrogen\",\"Hydrogen\",\"Hydrogen\",\"Hydrogen\",\"Hydrogen\",\"Energy Modeling and Optimization\",\"Energy Modeling and Optimization\",\"Energy Modeling and Optimization\",\"Energy Modeling and Optimization\",\"Energy Modeling and Optimization\",\"Energy Modeling and Optimization\",\"Energy Modeling and Optimization\",\"Energy Modeling and Optimization\",\"Energy Modeling and Optimization\",\"Energy Modeling and Optimization\",\"Energy Modeling and Optimization\",\"Energy Modeling and Optimization\",\"Energy Modeling and Optimization\",\"Energy Modeling and Optimization\",\"Energy Modeling and Optimization\",\"Energy Modeling and Optimization\",\"Energy Modeling and Optimization\",\"Energy Modeling and Optimization\",\"Energy Modeling and Optimization\",\"Energy Modeling and Optimization\",\"Energy Modeling and Optimization\",\"Energy Modeling and Optimization\",\"Energy Modeling and Optimization\",\"Energy Modeling and Optimization\",\"Energy Modeling and Optimization\",\"Energy Modeling and Optimization\",\"Energy Modeling and Optimization\",\"Energy Modeling and Optimization\",\"Energy Modeling and Optimization\",\"Energy Modeling and Optimization\",\"Energy Modeling and Optimization\",\"Energy Modeling and Optimization\",\"Energy Modeling and Optimization\",\"Energy Modeling and Optimization\",\"Energy Modeling and Optimization\",\"Energy Modeling and Optimization\",\"Energy Modeling and Optimization\",\"Energy Modeling and Optimization\",\"Energy Modeling and Optimization\",\"Energy Modeling and Optimization\",\"Energy Modeling and Optimization\",\"Energy Modeling and Optimization\",\"Energy Modeling and Optimization\",\"Energy Modeling and Optimization\",\"Energy Modeling and Optimization\",\"Energy Modeling and Optimization\",\"Energy Modeling and Optimization\",\"Energy Modeling and Optimization\",\"Energy Modeling and Optimization\",\"Energy Modeling and Optimization\",\"Energy Modeling and Optimization\",\"Energy Modeling and Optimization\",\"Energy Modeling and Optimization\",\"Energy Modeling and Optimization\",\"Energy Modeling and Optimization\",\"Energy Modeling and Optimization\",\"Energy Modeling and Optimization\",\"Energy Modeling and Optimization\",\"Energy Modeling and Optimization\",\"Energy Modeling and Optimization\",\"Energy Modeling and Optimization\",\"Energy Modeling and Optimization\",\"Energy Modeling and Optimization\",\"Energy Modeling and Optimization\",\"Energy Modeling and Optimization\",\"Energy Modeling and Optimization\",\"Energy Monitoring and Control\",\"Energy Monitoring and Control\",\"Energy Monitoring and Control\",\"Energy Monitoring and Control\",\"Energy Monitoring and Control\",\"Energy Monitoring and Control\",\"Energy Distribution and Grids\",\"Energy Distribution and Grids\",\"Energy Distribution and Grids\",\"Energy Distribution and Grids\",\"Energy Distribution and Grids\",\"Energy Distribution and Grids\",\"Energy Distribution and Grids\",\"Energy Distribution and Grids\",\"Energy Distribution and Grids\",\"Energy Distribution and Grids\",\"Energy Distribution and Grids\",\"Energy Distribution and Grids\",\"Energy Distribution and Grids\",\"Energy Distribution and Grids\",\"Energy Distribution and Grids\",\"Energy Distribution and Grids\",\"Energy Distribution and Grids\",\"Energy Distribution and Grids\",\"Energy Distribution and Grids\",\"Energy Distribution and Grids\",\"Energy Distribution and Grids\",\"Energy Distribution and Grids\",\"Datasets on Energy Systems\",\"Datasets on Energy Systems\",\"Datasets on Energy Systems\",\"Datasets on Energy Systems\",\"Datasets on Energy Systems\",\"Datasets on Energy Systems\",\"Datasets on Energy Systems\",\"Datasets on Energy Systems\",\"Datasets on Energy Systems\",\"Datasets on Energy Systems\",\"Datasets on Energy Systems\",\"Datasets on Energy Systems\",\"Datasets on Energy Systems\",\"Datasets on Energy Systems\",\"Datasets on Energy Systems\",\"Buildings and Heating\",\"Buildings and Heating\",\"Buildings and Heating\",\"Buildings and Heating\",\"Buildings and Heating\",\"Buildings and Heating\",\"Buildings and Heating\",\"Buildings and Heating\",\"Buildings and Heating\",\"Buildings and Heating\",\"Buildings and Heating\",\"Buildings and Heating\",\"Buildings and Heating\",\"Buildings and Heating\",\"Buildings and Heating\",\"Buildings and Heating\",\"Buildings and Heating\",\"Buildings and Heating\",\"Buildings and Heating\",\"Buildings and Heating\",\"Buildings and Heating\",\"Buildings and Heating\",\"Buildings and Heating\",\"Buildings and Heating\",\"Buildings and Heating\",\"Buildings and Heating\",\"Buildings and Heating\",\"Buildings and Heating\",\"Buildings and Heating\",\"Buildings and Heating\",\"Buildings and Heating\",\"Buildings and Heating\",\"Buildings and Heating\",\"Buildings and Heating\",\"Buildings and Heating\",\"Buildings and Heating\",\"Mobility and Transportation\",\"Mobility and Transportation\",\"Mobility and Transportation\",\"Mobility and Transportation\",\"Mobility and Transportation\",\"Mobility and Transportation\",\"Mobility and Transportation\",\"Mobility and Transportation\",\"Mobility and Transportation\",\"Mobility and Transportation\",\"Mobility and Transportation\",\"Mobility and Transportation\",\"Mobility and Transportation\",\"Mobility and Transportation\",\"Mobility and Transportation\",\"Mobility and Transportation\",\"Mobility and Transportation\",\"Mobility and Transportation\",\"Mobility and Transportation\",\"Mobility and Transportation\",\"Mobility and Transportation\",\"Mobility and Transportation\",\"Mobility and Transportation\",\"Mobility and Transportation\",\"Mobility and Transportation\",\"Mobility and Transportation\",\"Mobility and Transportation\",\"Mobility and Transportation\",\"Mobility and Transportation\",\"Mobility and Transportation\",\"Mobility and Transportation\",\"Mobility and Transportation\",\"Mobility and Transportation\",\"Mobility and Transportation\",\"Mobility and Transportation\",\"Mobility and Transportation\",\"Mobility and Transportation\",\"Mobility and Transportation\",\"Mobility and Transportation\",\"Mobility and Transportation\",\"Mobility and Transportation\",\"Mobility and Transportation\",\"Mobility and Transportation\",\"Mobility and Transportation\",\"Mobility and Transportation\",\"Mobility and Transportation\",\"Mobility and Transportation\",\"Mobility and Transportation\",\"Mobility and Transportation\",\"Production and Industry\",\"Computation and Communication\",\"Computation and Communication\",\"Computation and Communication\",\"Computation and Communication\",\"Computation and Communication\",\"Computation and Communication\",\"Computation and Communication\",\"Computation and Communication\",\"Computation and Communication\",\"Computation and Communication\",\"Computation and Communication\",\"Computation and Communication\",\"Computation and Communication\",\"Computation and Communication\",\"Computation and Communication\",\"Computation and Communication\",\"Computation and Communication\",\"Computation and Communication\",\"Carbon Intensity and Accounting\",\"Carbon Intensity and Accounting\",\"Carbon Intensity and Accounting\",\"Carbon Intensity and Accounting\",\"Carbon Intensity and Accounting\",\"Carbon Intensity and Accounting\",\"Carbon Intensity and Accounting\",\"Carbon Intensity and Accounting\",\"Carbon Intensity and Accounting\",\"Carbon Intensity and Accounting\",\"Carbon Intensity and Accounting\",\"Carbon Intensity and Accounting\",\"Carbon Capture and Removel\",\"Carbon Capture and Removel\",\"Carbon Capture and Removel\",\"Carbon Capture and Removel\",\"Emission Observation and Modeling\",\"Emission Observation and Modeling\",\"Emission Observation and Modeling\",\"Emission Observation and Modeling\",\"Emission Observation and Modeling\",\"Emission Observation and Modeling\",\"Emission Observation and Modeling\",\"Emission Observation and Modeling\",\"Emission Observation and Modeling\",\"Emission Observation and Modeling\",\"Emission Observation and Modeling\",\"Emission Observation and Modeling\",\"Emission Observation and Modeling\",\"Emission Observation and Modeling\",\"Life Cycle Assessment\",\"Life Cycle Assessment\",\"Life Cycle Assessment\",\"Life Cycle Assessment\",\"Life Cycle Assessment\",\"Life Cycle Assessment\",\"Life Cycle Assessment\",\"Life Cycle Assessment\",\"Life Cycle Assessment\",\"Circular Economy and Waste\",\"Circular Economy and Waste\",\"Circular Economy and Waste\",\"Circular Economy and Waste\",\"Circular Economy and Waste\",\"Circular Economy and Waste\",\"Circular Economy and Waste\",\"Circular Economy and Waste\",\"Circular Economy and Waste\",\"Biosphere\",\"Biosphere\",\"Biosphere\",\"Biosphere\",\"Biosphere\",\"Biosphere\",\"Biosphere\",\"Biosphere\",\"Biosphere\",\"Biosphere\",\"Biosphere\",\"Biosphere\",\"Biosphere\",\"Biosphere\",\"Biosphere\",\"Biosphere\",\"Biosphere\",\"Biosphere\",\"Biosphere\",\"Biosphere\",\"Biosphere\",\"Biosphere\",\"Biosphere\",\"Biosphere\",\"Biosphere\",\"Biosphere\",\"Biosphere\",\"Biosphere\",\"Biosphere\",\"Biosphere\",\"Biosphere\",\"Biosphere\",\"Biosphere\",\"Biosphere\",\"Biosphere\",\"Biosphere\",\"Biosphere\",\"Biosphere\",\"Biosphere\",\"Biosphere\",\"Biosphere\",\"Biosphere\",\"Biosphere\",\"Biosphere\",\"Biosphere\",\"Biosphere\",\"Biosphere\",\"Biosphere\",\"Biosphere\",\"Biosphere\",\"Biosphere\",\"Biosphere\",\"Biosphere\",\"Biosphere\",\"Biosphere\",\"Biosphere\",\"Biosphere\",\"Biosphere\",\"Biosphere\",\"Biosphere\",\"Biosphere\",\"Biosphere\",\"Biosphere\",\"Biosphere\",\"Cryosphere\",\"Cryosphere\",\"Cryosphere\",\"Cryosphere\",\"Cryosphere\",\"Cryosphere\",\"Cryosphere\",\"Cryosphere\",\"Cryosphere\",\"Cryosphere\",\"Cryosphere\",\"Cryosphere\",\"Cryosphere\",\"Cryosphere\",\"Cryosphere\",\"Cryosphere\",\"Cryosphere\",\"Hydrosphere\",\"Hydrosphere\",\"Hydrosphere\",\"Hydrosphere\",\"Hydrosphere\",\"Hydrosphere\",\"Hydrosphere\",\"Hydrosphere\",\"Hydrosphere\",\"Hydrosphere\",\"Hydrosphere\",\"Hydrosphere\",\"Hydrosphere\",\"Hydrosphere\",\"Hydrosphere\",\"Hydrosphere\",\"Hydrosphere\",\"Hydrosphere\",\"Hydrosphere\",\"Hydrosphere\",\"Hydrosphere\",\"Hydrosphere\",\"Hydrosphere\",\"Hydrosphere\",\"Hydrosphere\",\"Hydrosphere\",\"Hydrosphere\",\"Hydrosphere\",\"Hydrosphere\",\"Hydrosphere\",\"Hydrosphere\",\"Hydrosphere\",\"Hydrosphere\",\"Hydrosphere\",\"Hydrosphere\",\"Hydrosphere\",\"Hydrosphere\",\"Hydrosphere\",\"Hydrosphere\",\"Hydrosphere\",\"Hydrosphere\",\"Hydrosphere\",\"Hydrosphere\",\"Hydrosphere\",\"Hydrosphere\",\"Hydrosphere\",\"Hydrosphere\",\"Hydrosphere\",\"Hydrosphere\",\"Hydrosphere\",\"Hydrosphere\",\"Atmosphere\",\"Atmosphere\",\"Atmosphere\",\"Atmosphere\",\"Atmosphere\",\"Atmosphere\",\"Atmosphere\",\"Atmosphere\",\"Atmosphere\",\"Atmosphere\",\"Atmosphere\",\"Atmosphere\",\"Atmosphere\",\"Atmosphere\",\"Atmosphere\",\"Atmosphere\",\"Atmosphere\",\"Earth and Climate Modeling\",\"Earth and Climate Modeling\",\"Earth and Climate Modeling\",\"Earth and Climate Modeling\",\"Earth and Climate Modeling\",\"Earth and Climate Modeling\",\"Earth and Climate Modeling\",\"Earth and Climate Modeling\",\"Earth and Climate Modeling\",\"Earth and Climate Modeling\",\"Earth and Climate Modeling\",\"Earth and Climate Modeling\",\"Earth and Climate Modeling\",\"Earth and Climate Modeling\",\"Earth and Climate Modeling\",\"Earth and Climate Modeling\",\"Earth and Climate Modeling\",\"Earth and Climate Modeling\",\"Earth and Climate Modeling\",\"Earth and Climate Modeling\",\"Earth and Climate Modeling\",\"Earth and Climate Modeling\",\"Earth and Climate Modeling\",\"Earth and Climate Modeling\",\"Earth and Climate Modeling\",\"Earth and Climate Modeling\",\"Earth and Climate Modeling\",\"Earth and Climate Modeling\",\"Earth and Climate Modeling\",\"Earth and Climate Modeling\",\"Earth and Climate Modeling\",\"Earth and Climate Modeling\",\"Earth and Climate Modeling\",\"Earth and Climate Modeling\",\"Earth and Climate Modeling\",\"Earth and Climate Modeling\",\"Earth and Climate Modeling\",\"Earth and Climate Modeling\",\"Earth and Climate Modeling\",\"Earth and Climate Modeling\",\"Radiative Transfer\",\"Radiative Transfer\",\"Radiative Transfer\",\"Radiative Transfer\",\"Radiative Transfer\",\"Radiative Transfer\",\"Radiative Transfer\",\"Radiative Transfer\",\"Earth Observation and Climate Monitoring\",\"Earth Observation and Climate Monitoring\",\"Earth Observation and Climate Monitoring\",\"Earth Observation and Climate Monitoring\",\"Earth Observation and Climate Monitoring\",\"Earth Observation and Climate Monitoring\",\"Meteorological Observation\",\"Meteorological Observation\",\"Meteorological Observation\",\"Meteorological Observation\",\"Meteorological Observation\",\"Meteorological Observation\",\"Meteorological Observation\",\"Climate Data Processing and Access\",\"Climate Data Processing and Access\",\"Climate Data Processing and Access\",\"Climate Data Processing and Access\",\"Climate Data Processing and Access\",\"Climate Data Processing and Access\",\"Climate Data Processing and Access\",\"Climate Data Processing and Access\",\"Climate Data Processing and Access\",\"Climate Data Processing and Access\",\"Climate Data Processing and Access\",\"Climate Data Processing and Access\",\"Climate Data Processing and Access\",\"Climate Data Processing and Access\",\"Climate Data Processing and Access\",\"Climate Data Processing and Access\",\"Climate Data Processing and Access\",\"Climate Data Processing and Access\",\"Climate Data Processing and Access\",\"Climate Data Processing and Access\",\"Climate Data Processing and Access\",\"Climate Data Processing and Access\",\"Climate Data Processing and Access\",\"Climate Data Processing and Access\",\"Climate Data Processing and Access\",\"Climate Data Processing and Access\",\"Climate Data Processing and Access\",\"Climate Data Processing and Access\",\"Climate Data Processing and Access\",\"Climate Data Processing and Access\",\"Climate Data Processing and Access\",\"Climate Data Processing and Access\",\"Climate Data Processing and Access\",\"Climate Data Processing and Access\",\"Climate Data Processing and Access\",\"Climate Data Processing and Access\",\"Climate Data Processing and Access\",\"Climate Data Processing and Access\",\"Climate Data Processing and Access\",\"Climate Data Processing and Access\",\"Climate Data Processing and Access\",\"Climate Data Processing and Access\",\"Climate Data Processing and Access\",\"Climate Data Processing and Access\",\"Integrated Assessment\",\"Integrated Assessment\",\"Integrated Assessment\",\"Air Quality\",\"Air Quality\",\"Air Quality\",\"Air Quality\",\"Air Quality\",\"Air Quality\",\"Air Quality\",\"Air Quality\",\"Air Quality\",\"Air Quality\",\"Air Quality\",\"Air Quality\",\"Air Quality\",\"Air Quality\",\"Air Quality\",\"Air Quality\",\"Air Quality\",\"Air Quality\",\"Air Quality\",\"Air Quality\",\"Water Supply\",\"Water Supply\",\"Water Supply\",\"Water Supply\",\"Water Supply\",\"Water Supply\",\"Water Supply\",\"Water Supply\",\"Water Supply\",\"Water Supply\",\"Water Supply\",\"Water Supply\",\"Water Supply\",\"Water Supply\",\"Water Supply\",\"Water Supply\",\"Water Supply\",\"Water Supply\",\"Water Supply\",\"Water Supply\",\"Water Supply\",\"Water Supply\",\"Water Supply\",\"Water Supply\",\"Water Supply\",\"Water Supply\",\"Water Supply\",\"Water Supply\",\"Water Supply\",\"Water Supply\",\"Water Supply\",\"Water Supply\",\"Water Supply\",\"Water Supply\",\"Water Supply\",\"Water Supply\",\"Water Supply\",\"Water Supply\",\"Water Supply\",\"Water Supply\",\"Water Supply\",\"Water Supply\",\"Water Supply\",\"Soil and Land\",\"Soil and Land\",\"Soil and Land\",\"Soil and Land\",\"Soil and Land\",\"Soil and Land\",\"Soil and Land\",\"Soil and Land\",\"Soil and Land\",\"Soil and Land\",\"Soil and Land\",\"Soil and Land\",\"Soil and Land\",\"Soil and Land\",\"Soil and Land\",\"Soil and Land\",\"Soil and Land\",\"Soil and Land\",\"Soil and Land\",\"Soil and Land\",\"Soil and Land\",\"Soil and Land\",\"Soil and Land\",\"Soil and Land\",\"Soil and Land\",\"Soil and Land\",\"Agriculture and Nutrition\",\"Agriculture and Nutrition\",\"Agriculture and Nutrition\",\"Agriculture and Nutrition\",\"Agriculture and Nutrition\",\"Agriculture and Nutrition\",\"Agriculture and Nutrition\",\"Agriculture and Nutrition\",\"Agriculture and Nutrition\",\"Agriculture and Nutrition\",\"Agriculture and Nutrition\",\"Agriculture and Nutrition\",\"Agriculture and Nutrition\",\"Agriculture and Nutrition\",\"Agriculture and Nutrition\",\"Agriculture and Nutrition\",\"Agriculture and Nutrition\",\"Agriculture and Nutrition\",\"Agriculture and Nutrition\",\"Agriculture and Nutrition\",\"Agriculture and Nutrition\",\"Agriculture and Nutrition\",\"Agriculture and Nutrition\",\"Natural Hazard and Poverty\",\"Natural Hazard and Poverty\",\"Natural Hazard and Poverty\",\"Natural Hazard and Poverty\",\"Natural Hazard and Poverty\",\"Natural Hazard and Poverty\",\"Natural Hazard and Poverty\",\"Natural Hazard and Poverty\",\"Natural Hazard and Poverty\",\"Natural Hazard and Poverty\",\"Sustainable Development Goals\",\"Sustainable Development Goals\",\"Sustainable Development Goals\",\"Sustainable Development Goals\",\"Sustainable Investment\",\"Sustainable Investment\",\"Sustainable Investment\",\"Sustainable Investment\",\"Sustainable Investment\",\"Sustainable Investment\",\"Sustainable Investment\",\"Sustainable Investment\",\"Sustainable Investment\",\"Knowledge Platforms\",\"Knowledge Platforms\",\"Knowledge Platforms\",\"Knowledge Platforms\",\"Knowledge Platforms\",\"Knowledge Platforms\",\"Knowledge Platforms\",\"Knowledge Platforms\",\"Knowledge Platforms\",\"Knowledge Platforms\",\"Knowledge Platforms\",\"Data Catalogs and Interfaces\",\"Data Catalogs and Interfaces\",\"Data Catalogs and Interfaces\",\"Data Catalogs and Interfaces\",\"Data Catalogs and Interfaces\",\"Data Catalogs and Interfaces\",\"Data Catalogs and Interfaces\",\"Data Catalogs and Interfaces\",\"Data Catalogs and Interfaces\",\"Data Catalogs and Interfaces\",\"Data Catalogs and Interfaces\",\"Data Catalogs and Interfaces\",\"Data Catalogs and Interfaces\",\"Data Catalogs and Interfaces\",\"Data Catalogs and Interfaces\",\"Data Catalogs and Interfaces\",\"Data Catalogs and Interfaces\",\"Data Catalogs and Interfaces\",\"Data Catalogs and Interfaces\",\"Data Catalogs and Interfaces\",\"Data Catalogs and Interfaces\",\"Data Catalogs and Interfaces\",\"Data Catalogs and Interfaces\",\"Data Catalogs and Interfaces\",\"Data Catalogs and Interfaces\",\"Data Catalogs and Interfaces\",\"Data Catalogs and Interfaces\",\"Data Catalogs and Interfaces\",\"Curated Lists\",\"Curated Lists\",\"Curated Lists\",\"Curated Lists\",\"Curated Lists\",\"Curated Lists\",\"Curated Lists\",\"Curated Lists\",\"Curated Lists\",\"Curated Lists\",\"Curated Lists\",\"Curated Lists\",\"Curated Lists\",\"Curated Lists\",\"Curated Lists\"],\"xaxis\":\"x\",\"yaxis\":\"y\"}],                        {\"barmode\":\"relative\",\"legend\":{\"tracegroupgap\":0},\"margin\":{\"t\":60},\"paper_bgcolor\":\"lightgray\",\"template\":{\"data\":{\"bar\":[{\"error_x\":{\"color\":\"#2a3f5f\"},\"error_y\":{\"color\":\"#2a3f5f\"},\"marker\":{\"line\":{\"color\":\"#E5ECF6\",\"width\":0.5},\"pattern\":{\"fillmode\":\"overlay\",\"size\":10,\"solidity\":0.2}},\"type\":\"bar\"}],\"barpolar\":[{\"marker\":{\"line\":{\"color\":\"#E5ECF6\",\"width\":0.5},\"pattern\":{\"fillmode\":\"overlay\",\"size\":10,\"solidity\":0.2}},\"type\":\"barpolar\"}],\"carpet\":[{\"aaxis\":{\"endlinecolor\":\"#2a3f5f\",\"gridcolor\":\"white\",\"linecolor\":\"white\",\"minorgridcolor\":\"white\",\"startlinecolor\":\"#2a3f5f\"},\"baxis\":{\"endlinecolor\":\"#2a3f5f\",\"gridcolor\":\"white\",\"linecolor\":\"white\",\"minorgridcolor\":\"white\",\"startlinecolor\":\"#2a3f5f\"},\"type\":\"carpet\"}],\"choropleth\":[{\"colorbar\":{\"outlinewidth\":0,\"ticks\":\"\"},\"type\":\"choropleth\"}],\"contour\":[{\"colorbar\":{\"outlinewidth\":0,\"ticks\":\"\"},\"colorscale\":[[0.0,\"#0d0887\"],[0.1111111111111111,\"#46039f\"],[0.2222222222222222,\"#7201a8\"],[0.3333333333333333,\"#9c179e\"],[0.4444444444444444,\"#bd3786\"],[0.5555555555555556,\"#d8576b\"],[0.6666666666666666,\"#ed7953\"],[0.7777777777777778,\"#fb9f3a\"],[0.8888888888888888,\"#fdca26\"],[1.0,\"#f0f921\"]],\"type\":\"contour\"}],\"contourcarpet\":[{\"colorbar\":{\"outlinewidth\":0,\"ticks\":\"\"},\"type\":\"contourcarpet\"}],\"heatmap\":[{\"colorbar\":{\"outlinewidth\":0,\"ticks\":\"\"},\"colorscale\":[[0.0,\"#0d0887\"],[0.1111111111111111,\"#46039f\"],[0.2222222222222222,\"#7201a8\"],[0.3333333333333333,\"#9c179e\"],[0.4444444444444444,\"#bd3786\"],[0.5555555555555556,\"#d8576b\"],[0.6666666666666666,\"#ed7953\"],[0.7777777777777778,\"#fb9f3a\"],[0.8888888888888888,\"#fdca26\"],[1.0,\"#f0f921\"]],\"type\":\"heatmap\"}],\"heatmapgl\":[{\"colorbar\":{\"outlinewidth\":0,\"ticks\":\"\"},\"colorscale\":[[0.0,\"#0d0887\"],[0.1111111111111111,\"#46039f\"],[0.2222222222222222,\"#7201a8\"],[0.3333333333333333,\"#9c179e\"],[0.4444444444444444,\"#bd3786\"],[0.5555555555555556,\"#d8576b\"],[0.6666666666666666,\"#ed7953\"],[0.7777777777777778,\"#fb9f3a\"],[0.8888888888888888,\"#fdca26\"],[1.0,\"#f0f921\"]],\"type\":\"heatmapgl\"}],\"histogram\":[{\"marker\":{\"pattern\":{\"fillmode\":\"overlay\",\"size\":10,\"solidity\":0.2}},\"type\":\"histogram\"}],\"histogram2d\":[{\"colorbar\":{\"outlinewidth\":0,\"ticks\":\"\"},\"colorscale\":[[0.0,\"#0d0887\"],[0.1111111111111111,\"#46039f\"],[0.2222222222222222,\"#7201a8\"],[0.3333333333333333,\"#9c179e\"],[0.4444444444444444,\"#bd3786\"],[0.5555555555555556,\"#d8576b\"],[0.6666666666666666,\"#ed7953\"],[0.7777777777777778,\"#fb9f3a\"],[0.8888888888888888,\"#fdca26\"],[1.0,\"#f0f921\"]],\"type\":\"histogram2d\"}],\"histogram2dcontour\":[{\"colorbar\":{\"outlinewidth\":0,\"ticks\":\"\"},\"colorscale\":[[0.0,\"#0d0887\"],[0.1111111111111111,\"#46039f\"],[0.2222222222222222,\"#7201a8\"],[0.3333333333333333,\"#9c179e\"],[0.4444444444444444,\"#bd3786\"],[0.5555555555555556,\"#d8576b\"],[0.6666666666666666,\"#ed7953\"],[0.7777777777777778,\"#fb9f3a\"],[0.8888888888888888,\"#fdca26\"],[1.0,\"#f0f921\"]],\"type\":\"histogram2dcontour\"}],\"mesh3d\":[{\"colorbar\":{\"outlinewidth\":0,\"ticks\":\"\"},\"type\":\"mesh3d\"}],\"parcoords\":[{\"line\":{\"colorbar\":{\"outlinewidth\":0,\"ticks\":\"\"}},\"type\":\"parcoords\"}],\"pie\":[{\"automargin\":true,\"type\":\"pie\"}],\"scatter\":[{\"marker\":{\"colorbar\":{\"outlinewidth\":0,\"ticks\":\"\"}},\"type\":\"scatter\"}],\"scatter3d\":[{\"line\":{\"colorbar\":{\"outlinewidth\":0,\"ticks\":\"\"}},\"marker\":{\"colorbar\":{\"outlinewidth\":0,\"ticks\":\"\"}},\"type\":\"scatter3d\"}],\"scattercarpet\":[{\"marker\":{\"colorbar\":{\"outlinewidth\":0,\"ticks\":\"\"}},\"type\":\"scattercarpet\"}],\"scattergeo\":[{\"marker\":{\"colorbar\":{\"outlinewidth\":0,\"ticks\":\"\"}},\"type\":\"scattergeo\"}],\"scattergl\":[{\"marker\":{\"colorbar\":{\"outlinewidth\":0,\"ticks\":\"\"}},\"type\":\"scattergl\"}],\"scattermapbox\":[{\"marker\":{\"colorbar\":{\"outlinewidth\":0,\"ticks\":\"\"}},\"type\":\"scattermapbox\"}],\"scatterpolar\":[{\"marker\":{\"colorbar\":{\"outlinewidth\":0,\"ticks\":\"\"}},\"type\":\"scatterpolar\"}],\"scatterpolargl\":[{\"marker\":{\"colorbar\":{\"outlinewidth\":0,\"ticks\":\"\"}},\"type\":\"scatterpolargl\"}],\"scatterternary\":[{\"marker\":{\"colorbar\":{\"outlinewidth\":0,\"ticks\":\"\"}},\"type\":\"scatterternary\"}],\"surface\":[{\"colorbar\":{\"outlinewidth\":0,\"ticks\":\"\"},\"colorscale\":[[0.0,\"#0d0887\"],[0.1111111111111111,\"#46039f\"],[0.2222222222222222,\"#7201a8\"],[0.3333333333333333,\"#9c179e\"],[0.4444444444444444,\"#bd3786\"],[0.5555555555555556,\"#d8576b\"],[0.6666666666666666,\"#ed7953\"],[0.7777777777777778,\"#fb9f3a\"],[0.8888888888888888,\"#fdca26\"],[1.0,\"#f0f921\"]],\"type\":\"surface\"}],\"table\":[{\"cells\":{\"fill\":{\"color\":\"#EBF0F8\"},\"line\":{\"color\":\"white\"}},\"header\":{\"fill\":{\"color\":\"#C8D4E3\"},\"line\":{\"color\":\"white\"}},\"type\":\"table\"}]},\"layout\":{\"annotationdefaults\":{\"arrowcolor\":\"#2a3f5f\",\"arrowhead\":0,\"arrowwidth\":1},\"autotypenumbers\":\"strict\",\"coloraxis\":{\"colorbar\":{\"outlinewidth\":0,\"ticks\":\"\"}},\"colorscale\":{\"diverging\":[[0,\"#8e0152\"],[0.1,\"#c51b7d\"],[0.2,\"#de77ae\"],[0.3,\"#f1b6da\"],[0.4,\"#fde0ef\"],[0.5,\"#f7f7f7\"],[0.6,\"#e6f5d0\"],[0.7,\"#b8e186\"],[0.8,\"#7fbc41\"],[0.9,\"#4d9221\"],[1,\"#276419\"]],\"sequential\":[[0.0,\"#0d0887\"],[0.1111111111111111,\"#46039f\"],[0.2222222222222222,\"#7201a8\"],[0.3333333333333333,\"#9c179e\"],[0.4444444444444444,\"#bd3786\"],[0.5555555555555556,\"#d8576b\"],[0.6666666666666666,\"#ed7953\"],[0.7777777777777778,\"#fb9f3a\"],[0.8888888888888888,\"#fdca26\"],[1.0,\"#f0f921\"]],\"sequentialminus\":[[0.0,\"#0d0887\"],[0.1111111111111111,\"#46039f\"],[0.2222222222222222,\"#7201a8\"],[0.3333333333333333,\"#9c179e\"],[0.4444444444444444,\"#bd3786\"],[0.5555555555555556,\"#d8576b\"],[0.6666666666666666,\"#ed7953\"],[0.7777777777777778,\"#fb9f3a\"],[0.8888888888888888,\"#fdca26\"],[1.0,\"#f0f921\"]]},\"colorway\":[\"#636efa\",\"#EF553B\",\"#00cc96\",\"#ab63fa\",\"#FFA15A\",\"#19d3f3\",\"#FF6692\",\"#B6E880\",\"#FF97FF\",\"#FECB52\"],\"font\":{\"color\":\"#2a3f5f\"},\"geo\":{\"bgcolor\":\"white\",\"lakecolor\":\"white\",\"landcolor\":\"#E5ECF6\",\"showlakes\":true,\"showland\":true,\"subunitcolor\":\"white\"},\"hoverlabel\":{\"align\":\"left\"},\"hovermode\":\"closest\",\"mapbox\":{\"style\":\"light\"},\"paper_bgcolor\":\"white\",\"plot_bgcolor\":\"#E5ECF6\",\"polar\":{\"angularaxis\":{\"gridcolor\":\"white\",\"linecolor\":\"white\",\"ticks\":\"\"},\"bgcolor\":\"#E5ECF6\",\"radialaxis\":{\"gridcolor\":\"white\",\"linecolor\":\"white\",\"ticks\":\"\"}},\"scene\":{\"xaxis\":{\"backgroundcolor\":\"#E5ECF6\",\"gridcolor\":\"white\",\"gridwidth\":2,\"linecolor\":\"white\",\"showbackground\":true,\"ticks\":\"\",\"zerolinecolor\":\"white\"},\"yaxis\":{\"backgroundcolor\":\"#E5ECF6\",\"gridcolor\":\"white\",\"gridwidth\":2,\"linecolor\":\"white\",\"showbackground\":true,\"ticks\":\"\",\"zerolinecolor\":\"white\"},\"zaxis\":{\"backgroundcolor\":\"#E5ECF6\",\"gridcolor\":\"white\",\"gridwidth\":2,\"linecolor\":\"white\",\"showbackground\":true,\"ticks\":\"\",\"zerolinecolor\":\"white\"}},\"shapedefaults\":{\"line\":{\"color\":\"#2a3f5f\"}},\"ternary\":{\"aaxis\":{\"gridcolor\":\"white\",\"linecolor\":\"white\",\"ticks\":\"\"},\"baxis\":{\"gridcolor\":\"white\",\"linecolor\":\"white\",\"ticks\":\"\"},\"bgcolor\":\"#E5ECF6\",\"caxis\":{\"gridcolor\":\"white\",\"linecolor\":\"white\",\"ticks\":\"\"}},\"title\":{\"x\":0.05},\"xaxis\":{\"automargin\":true,\"gridcolor\":\"white\",\"linecolor\":\"white\",\"ticks\":\"\",\"title\":{\"standoff\":15},\"zerolinecolor\":\"white\",\"zerolinewidth\":2},\"yaxis\":{\"automargin\":true,\"gridcolor\":\"white\",\"linecolor\":\"white\",\"ticks\":\"\",\"title\":{\"standoff\":15},\"zerolinecolor\":\"white\",\"zerolinewidth\":2}}},\"xaxis\":{\"anchor\":\"y\",\"categoryorder\":\"total descending\",\"domain\":[0.0,1.0],\"title\":{\"text\":\"rubric\"}},\"yaxis\":{\"anchor\":\"x\",\"domain\":[0.0,1.0],\"title\":{\"text\":\"count\"}}},                        {\"responsive\": true}                    ).then(function(){\n",
       "                            \n",
       "var gd = document.getElementById('f8e2b6bd-b247-42fd-b94c-27143e4bfca7');\n",
       "var x = new MutationObserver(function (mutations, observer) {{\n",
       "        var display = window.getComputedStyle(gd).display;\n",
       "        if (!display || display === 'none') {{\n",
       "            console.log([gd, 'removed!']);\n",
       "            Plotly.purge(gd);\n",
       "            observer.disconnect();\n",
       "        }}\n",
       "}});\n",
       "\n",
       "// Listen for the removal of the full notebook cells\n",
       "var notebookContainer = gd.closest('#notebook-container');\n",
       "if (notebookContainer) {{\n",
       "    x.observe(notebookContainer, {childList: true});\n",
       "}}\n",
       "\n",
       "// Listen for the clearing of the current output cell\n",
       "var outputEl = gd.closest('.output');\n",
       "if (outputEl) {{\n",
       "    x.observe(outputEl, {childList: true});\n",
       "}}\n",
       "\n",
       "                        })                };                });            </script>        </div>"
      ]
     },
     "metadata": {},
     "output_type": "display_data"
    }
   ],
   "source": [
    "fig = px.histogram(df, x=\"rubric\").update_xaxes(categoryorder=\"total descending\")\n",
    "fig.update_layout(\n",
    "    paper_bgcolor=\"lightgray\",\n",
    ")\n",
    "fig.show()"
   ]
  },
  {
   "cell_type": "code",
   "execution_count": 8,
   "metadata": {},
   "outputs": [
    {
     "data": {
      "application/vnd.plotly.v1+json": {
       "config": {
        "plotlyServerURL": "https://plot.ly"
       },
       "data": [
        {
         "alignmentgroup": "True",
         "bingroup": "x",
         "hovertemplate": "dominating_language=%{x}<br>count=%{y}<extra></extra>",
         "legendgroup": "",
         "marker": {
          "color": "#636efa",
          "pattern": {
           "shape": ""
          }
         },
         "name": "",
         "offsetgroup": "",
         "orientation": "v",
         "showlegend": false,
         "type": "histogram",
         "x": [
          "Python",
          "Python",
          "Jupyter Notebook",
          "Python",
          "Python",
          "HTML",
          "C++",
          "Jupyter Notebook",
          "Python",
          "Python",
          "Python",
          "Python",
          "Python",
          "Modelica",
          "C",
          "C++",
          "Python",
          "Jupyter Notebook",
          "Python",
          "Python",
          "MATLAB",
          "Python",
          "Jupyter Notebook",
          "R",
          "C++",
          "Jupyter Notebook",
          "C++",
          "Python",
          "Jupyter Notebook",
          "Python",
          "TypeScript",
          "Python",
          "Jupyter Notebook",
          "Jupyter Notebook",
          "Python",
          "Roff",
          "Python",
          "C++",
          "C",
          "Fortran",
          "C++",
          "Python",
          "Python",
          "Python",
          "Python",
          "Python",
          "Python",
          "Python",
          "Jupyter Notebook",
          "Python",
          "Python",
          "Python",
          "Python",
          "Python",
          "Python",
          "Fortran",
          "Roff",
          "Python",
          "Python",
          "Python",
          "Python",
          null,
          "Python",
          "Julia",
          "Modelica",
          "MATLAB",
          "C++",
          "Python",
          "Python",
          "Python",
          "Fortran",
          "Python",
          "Fortran",
          "Python",
          "Ruby",
          "Python",
          "Python",
          "Python",
          "Python",
          "Python",
          "Python",
          "C++",
          "Python",
          "MATLAB",
          "Python",
          "Python",
          "Python",
          "Jupyter Notebook",
          "Python",
          "C#",
          "Julia",
          "Modelica",
          "PowerBuilder",
          "Python",
          "Python",
          "Python",
          "Python",
          "Jupyter Notebook",
          "Python",
          "Python",
          "Python",
          "CSS",
          "Julia",
          "Julia",
          "Jupyter Notebook",
          "Python",
          "Python",
          "Python",
          "C",
          "C++",
          "Python",
          "Python",
          "Python",
          "Python",
          "Python",
          "Java",
          "Python",
          "R",
          "R",
          "Python",
          "Python",
          "Python",
          "Python",
          "Julia",
          "Python",
          "C++",
          "Python",
          "Julia",
          "JavaScript",
          "Python",
          "Python",
          "Python",
          "Java",
          "Java",
          "MATLAB",
          "R",
          "Python",
          "Python",
          "Python",
          "Python",
          "Python",
          "Python",
          "Python",
          "Python",
          "Jupyter Notebook",
          "Python",
          "Python",
          "Julia",
          "Shell",
          "Python",
          "Python",
          "C++",
          "Python",
          "Jupyter Notebook",
          "Python",
          "R",
          "TeX",
          "Python",
          "Java",
          "Java",
          "Ruby",
          "C++",
          "PHP",
          "Python",
          "Python",
          "Python",
          "Python",
          "Ruby",
          "Ruby",
          "Java",
          "Julia",
          "Julia",
          "Python",
          "Python",
          "Python",
          "HTML",
          "Julia",
          "Julia",
          "Python",
          "TypeScript",
          "Python",
          "Jupyter Notebook",
          "C++",
          "Python",
          "Python",
          "Scala",
          "Vue",
          "Python",
          "Python",
          "Python",
          "Jupyter Notebook",
          "Python",
          null,
          "Python",
          "Python",
          "Python",
          "Python",
          "Jupyter Notebook",
          "Python",
          "Jupyter Notebook",
          "Jupyter Notebook",
          "Python",
          "Python",
          "C#",
          "Python",
          "C++",
          "Python",
          "C++",
          "Ruby",
          "Ruby",
          "Modelica",
          "Python",
          "Modelica",
          "Python",
          "Python",
          "Modelica",
          "Python",
          "HTML",
          "Modelica",
          "Modelica",
          "Modelica",
          "Fortran",
          "Python",
          "Python",
          "JavaScript",
          "Ruby",
          "Python",
          "R",
          "Python",
          "Python",
          "PHP",
          "Go",
          "Python",
          "Python",
          "Python",
          "Python",
          "C++",
          "R",
          "Scala",
          "Python",
          "Scala",
          "TypeScript",
          "PHP",
          "Vue",
          "Ruby",
          "C++",
          "C",
          "C++",
          "Python",
          "Python",
          "C#",
          "Go",
          "Java",
          "Java",
          "Kotlin",
          "Java",
          "Python",
          "JavaScript",
          "Java",
          "Jupyter Notebook",
          "Java",
          "Java",
          "R",
          "CartoCSS",
          "Python",
          "Scala",
          null,
          "Vue",
          "Python",
          "TypeScript",
          "Python",
          "TeX",
          "Python",
          "R",
          "Python",
          "Python",
          null,
          null,
          "Ruby",
          "Kotlin",
          "Java",
          "C#",
          "Java",
          null,
          "JavaScript",
          "Python",
          "Modelica",
          "C",
          "Rust",
          "Python",
          "JavaScript",
          "JavaScript",
          "Vue",
          "Jupyter Notebook",
          "TypeScript",
          "Python",
          null,
          "Python",
          "Jupyter Notebook",
          "Go",
          "Groovy",
          "Go",
          null,
          "SCSS",
          "Go",
          "HTML",
          "Python",
          "TypeScript",
          "Python",
          "JavaScript",
          "TypeScript",
          "TypeScript",
          null,
          "Python",
          "Python",
          "Python",
          "Jupyter Notebook",
          "JavaScript",
          "Python",
          "C++",
          "Jupyter Notebook",
          "Jupyter Notebook",
          "Python",
          "R",
          "R",
          "R",
          "Python",
          "Python",
          "R",
          "R",
          "MATLAB",
          "Python",
          "G-code",
          "Jupyter Notebook",
          "Python",
          "Jupyter Notebook",
          "Python",
          "Java",
          "Jupyter Notebook",
          "Ruby",
          "Python",
          "Python",
          "R",
          "Python",
          "Jupyter Notebook",
          "Python",
          "PHP",
          "JavaScript",
          "Python",
          "Python",
          "Python",
          "Python",
          "Julia",
          "Python",
          "R",
          "Python",
          "JavaScript",
          "HTML",
          "C++",
          "TypeScript",
          "R",
          "R",
          "Java",
          "R",
          "JavaScript",
          "Python",
          "Python",
          "Python",
          "Python",
          "R",
          "R",
          "Python",
          "Fortran",
          "Python",
          "Python",
          "R",
          "R",
          "Python",
          "HTML",
          "Python",
          "HTML",
          "R",
          "R",
          "R",
          "Python",
          "Julia",
          "R",
          "C++",
          "Python",
          "R",
          "HTML",
          "JavaScript",
          "Python",
          "Python",
          "TypeScript",
          "R",
          "Jupyter Notebook",
          "Python",
          "Swift",
          "Jupyter Notebook",
          "R",
          "Python",
          "TypeScript",
          "Python",
          null,
          "JavaScript",
          "Java",
          "R",
          "C++",
          "Kotlin",
          "R",
          "Python",
          "Python",
          "R",
          "R",
          "R",
          "R",
          "Python",
          "Python",
          "Fortran",
          "C++",
          "Fortran",
          "Jupyter Notebook",
          "Jupyter Notebook",
          "TypeScript",
          "Fortran",
          "TeX",
          "Python",
          "Jupyter Notebook",
          "Python",
          "Python",
          "Jupyter Notebook",
          "Python",
          "Python",
          "Python",
          "Fortran",
          "Julia",
          "Julia",
          "R",
          "Python",
          "Jupyter Notebook",
          "Python",
          "Python",
          "R",
          "Python",
          "R",
          "Fortran",
          "C++",
          "Python",
          "Fortran",
          "R",
          "Jupyter Notebook",
          "C",
          "Fortran",
          "Julia",
          "Fortran",
          "Python",
          "Fortran",
          "Python",
          "Python",
          "C",
          "Python",
          "R",
          "Python",
          "Python",
          "Python",
          "Jupyter Notebook",
          "R",
          "Makefile",
          "Julia",
          "C",
          "Svelte",
          "Jupyter Notebook",
          "TypeScript",
          "Python",
          "Python",
          "C",
          "R",
          "Python",
          "Jupyter Notebook",
          "Python",
          "C",
          "Python",
          "Python",
          "JavaScript",
          "Fortran",
          "Jupyter Notebook",
          "C",
          "Fortran",
          "R",
          "Python",
          "C++",
          "Python",
          "Jupyter Notebook",
          "Fortran",
          "Jupyter Notebook",
          "Python",
          "C#",
          "Fortran",
          "Fortran",
          "Julia",
          "Python",
          "NCL",
          "Fortran",
          "Shell",
          "Jupyter Notebook",
          "Fortran",
          "Python",
          "Python",
          "Python",
          "Julia",
          "Julia",
          "C++",
          "Python",
          "Julia",
          "C++",
          "Fortran",
          "Fortran",
          "C++",
          "Python",
          "Python",
          "Jupyter Notebook",
          "Jupyter Notebook",
          "Jupyter Notebook",
          "Julia",
          "Julia",
          "Python",
          "Fortran",
          "Python",
          "Fortran",
          "Jupyter Notebook",
          "Python",
          "Python",
          "Fortran",
          "Julia",
          "Python",
          "Python",
          "R",
          "Python",
          "Python",
          "Python",
          "Fortran",
          "Julia",
          "C++",
          "Python",
          "Fortran",
          "Fortran",
          "Python",
          "C",
          "Fortran",
          "Python",
          "Python",
          "R",
          "TypeScript",
          "Python",
          "R",
          "C",
          "R",
          "R",
          "R",
          "R",
          "Python",
          "Python",
          null,
          "Python",
          "Python",
          "Groovy",
          "Python",
          "Jupyter Notebook",
          "Python",
          "R",
          "Jupyter Notebook",
          "Java",
          "R",
          "R",
          "Python",
          "Jupyter Notebook",
          "Jupyter Notebook",
          "MATLAB",
          "Python",
          "Python",
          "Jupyter Notebook",
          "Jupyter Notebook",
          "Python",
          "R",
          "R",
          "R",
          "R",
          "Python",
          "Python",
          "Fortran",
          "R",
          "C",
          "C",
          "Python",
          "R",
          "R",
          "Python",
          "R",
          "Python",
          "Python",
          "R",
          "C",
          "Python",
          "R",
          "R",
          "MATLAB",
          "Julia",
          "Python",
          "R",
          "Fortran",
          "R",
          "TypeScript",
          "TypeScript",
          "Ruby",
          "R",
          "Python",
          "JavaScript",
          "Fortran",
          "Go",
          null,
          "Python",
          "R",
          "Ruby",
          "Jupyter Notebook",
          "Svelte",
          "HTML",
          "R",
          "R",
          "Python",
          "C",
          "R",
          "R",
          "Julia",
          "Python",
          "C++",
          "R",
          "Python",
          "C",
          "R",
          "Fortran",
          "Python",
          "Rust",
          "C++",
          "Python",
          "R",
          "Python",
          "R",
          "QML",
          "Python",
          "C",
          "Python",
          "Fortran",
          "C",
          "R",
          "JavaScript",
          "Python",
          "Python",
          "Python",
          "R",
          "R",
          "R",
          "Python",
          "C++",
          "Python",
          "Python",
          "Python",
          null,
          "Python",
          "R",
          "Python",
          "Jupyter Notebook",
          "R",
          "R",
          "R",
          "R",
          "R",
          "Python",
          "R",
          "Python",
          "Python",
          "Jupyter Notebook",
          "HTML",
          "C++",
          "Python",
          "Python",
          "Python",
          "R",
          "MATLAB",
          "Python",
          "R",
          "JavaScript",
          null,
          "Python",
          "JavaScript",
          "JavaScript",
          "R",
          "Python",
          "HTML",
          "Fortran",
          "GAMS",
          "R",
          "C#",
          "Ruby",
          "Ruby",
          "R",
          "R",
          "R",
          "R",
          "HTML",
          "Vue",
          "Ruby",
          "Fortran",
          "Perl",
          "Ruby",
          "R",
          "R",
          "R",
          "Jupyter Notebook",
          "PHP",
          "Jupyter Notebook",
          null,
          "TypeScript",
          "Jupyter Notebook",
          "Fortran",
          "Python",
          "Jupyter Notebook",
          "Python",
          "Python",
          "Python",
          "Python",
          "Vue",
          "JavaScript",
          "Python",
          "HTML",
          "TypeScript",
          "Python",
          "GAMS",
          "R",
          "Python",
          "Jupyter Notebook",
          "JavaScript",
          "C++",
          null,
          "Ruby",
          "JavaScript",
          "Shell",
          "Python",
          "Makefile",
          "C++",
          null,
          "Go",
          null,
          "Jupyter Notebook",
          "JavaScript",
          "Turtle",
          "Java",
          "Python",
          "Python",
          "JavaScript",
          "R",
          "JavaScript",
          "HTML",
          "R",
          "R",
          "Jupyter Notebook",
          "Python",
          "Python",
          "Python",
          "Python",
          "Jupyter Notebook",
          "HTML",
          "R",
          "JavaScript",
          "Python",
          "TypeScript",
          "JavaScript",
          "Jupyter Notebook",
          "R",
          "R",
          "Python",
          "Julia",
          "Python",
          "R",
          null,
          "Python",
          "Python",
          null,
          null,
          null,
          "JavaScript",
          null,
          null,
          "JavaScript",
          null,
          null,
          null,
          null,
          null
         ],
         "xaxis": "x",
         "yaxis": "y"
        }
       ],
       "layout": {
        "barmode": "relative",
        "legend": {
         "tracegroupgap": 0
        },
        "margin": {
         "t": 60
        },
        "paper_bgcolor": "lightgray",
        "template": {
         "data": {
          "bar": [
           {
            "error_x": {
             "color": "#2a3f5f"
            },
            "error_y": {
             "color": "#2a3f5f"
            },
            "marker": {
             "line": {
              "color": "#E5ECF6",
              "width": 0.5
             },
             "pattern": {
              "fillmode": "overlay",
              "size": 10,
              "solidity": 0.2
             }
            },
            "type": "bar"
           }
          ],
          "barpolar": [
           {
            "marker": {
             "line": {
              "color": "#E5ECF6",
              "width": 0.5
             },
             "pattern": {
              "fillmode": "overlay",
              "size": 10,
              "solidity": 0.2
             }
            },
            "type": "barpolar"
           }
          ],
          "carpet": [
           {
            "aaxis": {
             "endlinecolor": "#2a3f5f",
             "gridcolor": "white",
             "linecolor": "white",
             "minorgridcolor": "white",
             "startlinecolor": "#2a3f5f"
            },
            "baxis": {
             "endlinecolor": "#2a3f5f",
             "gridcolor": "white",
             "linecolor": "white",
             "minorgridcolor": "white",
             "startlinecolor": "#2a3f5f"
            },
            "type": "carpet"
           }
          ],
          "choropleth": [
           {
            "colorbar": {
             "outlinewidth": 0,
             "ticks": ""
            },
            "type": "choropleth"
           }
          ],
          "contour": [
           {
            "colorbar": {
             "outlinewidth": 0,
             "ticks": ""
            },
            "colorscale": [
             [
              0,
              "#0d0887"
             ],
             [
              0.1111111111111111,
              "#46039f"
             ],
             [
              0.2222222222222222,
              "#7201a8"
             ],
             [
              0.3333333333333333,
              "#9c179e"
             ],
             [
              0.4444444444444444,
              "#bd3786"
             ],
             [
              0.5555555555555556,
              "#d8576b"
             ],
             [
              0.6666666666666666,
              "#ed7953"
             ],
             [
              0.7777777777777778,
              "#fb9f3a"
             ],
             [
              0.8888888888888888,
              "#fdca26"
             ],
             [
              1,
              "#f0f921"
             ]
            ],
            "type": "contour"
           }
          ],
          "contourcarpet": [
           {
            "colorbar": {
             "outlinewidth": 0,
             "ticks": ""
            },
            "type": "contourcarpet"
           }
          ],
          "heatmap": [
           {
            "colorbar": {
             "outlinewidth": 0,
             "ticks": ""
            },
            "colorscale": [
             [
              0,
              "#0d0887"
             ],
             [
              0.1111111111111111,
              "#46039f"
             ],
             [
              0.2222222222222222,
              "#7201a8"
             ],
             [
              0.3333333333333333,
              "#9c179e"
             ],
             [
              0.4444444444444444,
              "#bd3786"
             ],
             [
              0.5555555555555556,
              "#d8576b"
             ],
             [
              0.6666666666666666,
              "#ed7953"
             ],
             [
              0.7777777777777778,
              "#fb9f3a"
             ],
             [
              0.8888888888888888,
              "#fdca26"
             ],
             [
              1,
              "#f0f921"
             ]
            ],
            "type": "heatmap"
           }
          ],
          "heatmapgl": [
           {
            "colorbar": {
             "outlinewidth": 0,
             "ticks": ""
            },
            "colorscale": [
             [
              0,
              "#0d0887"
             ],
             [
              0.1111111111111111,
              "#46039f"
             ],
             [
              0.2222222222222222,
              "#7201a8"
             ],
             [
              0.3333333333333333,
              "#9c179e"
             ],
             [
              0.4444444444444444,
              "#bd3786"
             ],
             [
              0.5555555555555556,
              "#d8576b"
             ],
             [
              0.6666666666666666,
              "#ed7953"
             ],
             [
              0.7777777777777778,
              "#fb9f3a"
             ],
             [
              0.8888888888888888,
              "#fdca26"
             ],
             [
              1,
              "#f0f921"
             ]
            ],
            "type": "heatmapgl"
           }
          ],
          "histogram": [
           {
            "marker": {
             "pattern": {
              "fillmode": "overlay",
              "size": 10,
              "solidity": 0.2
             }
            },
            "type": "histogram"
           }
          ],
          "histogram2d": [
           {
            "colorbar": {
             "outlinewidth": 0,
             "ticks": ""
            },
            "colorscale": [
             [
              0,
              "#0d0887"
             ],
             [
              0.1111111111111111,
              "#46039f"
             ],
             [
              0.2222222222222222,
              "#7201a8"
             ],
             [
              0.3333333333333333,
              "#9c179e"
             ],
             [
              0.4444444444444444,
              "#bd3786"
             ],
             [
              0.5555555555555556,
              "#d8576b"
             ],
             [
              0.6666666666666666,
              "#ed7953"
             ],
             [
              0.7777777777777778,
              "#fb9f3a"
             ],
             [
              0.8888888888888888,
              "#fdca26"
             ],
             [
              1,
              "#f0f921"
             ]
            ],
            "type": "histogram2d"
           }
          ],
          "histogram2dcontour": [
           {
            "colorbar": {
             "outlinewidth": 0,
             "ticks": ""
            },
            "colorscale": [
             [
              0,
              "#0d0887"
             ],
             [
              0.1111111111111111,
              "#46039f"
             ],
             [
              0.2222222222222222,
              "#7201a8"
             ],
             [
              0.3333333333333333,
              "#9c179e"
             ],
             [
              0.4444444444444444,
              "#bd3786"
             ],
             [
              0.5555555555555556,
              "#d8576b"
             ],
             [
              0.6666666666666666,
              "#ed7953"
             ],
             [
              0.7777777777777778,
              "#fb9f3a"
             ],
             [
              0.8888888888888888,
              "#fdca26"
             ],
             [
              1,
              "#f0f921"
             ]
            ],
            "type": "histogram2dcontour"
           }
          ],
          "mesh3d": [
           {
            "colorbar": {
             "outlinewidth": 0,
             "ticks": ""
            },
            "type": "mesh3d"
           }
          ],
          "parcoords": [
           {
            "line": {
             "colorbar": {
              "outlinewidth": 0,
              "ticks": ""
             }
            },
            "type": "parcoords"
           }
          ],
          "pie": [
           {
            "automargin": true,
            "type": "pie"
           }
          ],
          "scatter": [
           {
            "marker": {
             "colorbar": {
              "outlinewidth": 0,
              "ticks": ""
             }
            },
            "type": "scatter"
           }
          ],
          "scatter3d": [
           {
            "line": {
             "colorbar": {
              "outlinewidth": 0,
              "ticks": ""
             }
            },
            "marker": {
             "colorbar": {
              "outlinewidth": 0,
              "ticks": ""
             }
            },
            "type": "scatter3d"
           }
          ],
          "scattercarpet": [
           {
            "marker": {
             "colorbar": {
              "outlinewidth": 0,
              "ticks": ""
             }
            },
            "type": "scattercarpet"
           }
          ],
          "scattergeo": [
           {
            "marker": {
             "colorbar": {
              "outlinewidth": 0,
              "ticks": ""
             }
            },
            "type": "scattergeo"
           }
          ],
          "scattergl": [
           {
            "marker": {
             "colorbar": {
              "outlinewidth": 0,
              "ticks": ""
             }
            },
            "type": "scattergl"
           }
          ],
          "scattermapbox": [
           {
            "marker": {
             "colorbar": {
              "outlinewidth": 0,
              "ticks": ""
             }
            },
            "type": "scattermapbox"
           }
          ],
          "scatterpolar": [
           {
            "marker": {
             "colorbar": {
              "outlinewidth": 0,
              "ticks": ""
             }
            },
            "type": "scatterpolar"
           }
          ],
          "scatterpolargl": [
           {
            "marker": {
             "colorbar": {
              "outlinewidth": 0,
              "ticks": ""
             }
            },
            "type": "scatterpolargl"
           }
          ],
          "scatterternary": [
           {
            "marker": {
             "colorbar": {
              "outlinewidth": 0,
              "ticks": ""
             }
            },
            "type": "scatterternary"
           }
          ],
          "surface": [
           {
            "colorbar": {
             "outlinewidth": 0,
             "ticks": ""
            },
            "colorscale": [
             [
              0,
              "#0d0887"
             ],
             [
              0.1111111111111111,
              "#46039f"
             ],
             [
              0.2222222222222222,
              "#7201a8"
             ],
             [
              0.3333333333333333,
              "#9c179e"
             ],
             [
              0.4444444444444444,
              "#bd3786"
             ],
             [
              0.5555555555555556,
              "#d8576b"
             ],
             [
              0.6666666666666666,
              "#ed7953"
             ],
             [
              0.7777777777777778,
              "#fb9f3a"
             ],
             [
              0.8888888888888888,
              "#fdca26"
             ],
             [
              1,
              "#f0f921"
             ]
            ],
            "type": "surface"
           }
          ],
          "table": [
           {
            "cells": {
             "fill": {
              "color": "#EBF0F8"
             },
             "line": {
              "color": "white"
             }
            },
            "header": {
             "fill": {
              "color": "#C8D4E3"
             },
             "line": {
              "color": "white"
             }
            },
            "type": "table"
           }
          ]
         },
         "layout": {
          "annotationdefaults": {
           "arrowcolor": "#2a3f5f",
           "arrowhead": 0,
           "arrowwidth": 1
          },
          "autotypenumbers": "strict",
          "coloraxis": {
           "colorbar": {
            "outlinewidth": 0,
            "ticks": ""
           }
          },
          "colorscale": {
           "diverging": [
            [
             0,
             "#8e0152"
            ],
            [
             0.1,
             "#c51b7d"
            ],
            [
             0.2,
             "#de77ae"
            ],
            [
             0.3,
             "#f1b6da"
            ],
            [
             0.4,
             "#fde0ef"
            ],
            [
             0.5,
             "#f7f7f7"
            ],
            [
             0.6,
             "#e6f5d0"
            ],
            [
             0.7,
             "#b8e186"
            ],
            [
             0.8,
             "#7fbc41"
            ],
            [
             0.9,
             "#4d9221"
            ],
            [
             1,
             "#276419"
            ]
           ],
           "sequential": [
            [
             0,
             "#0d0887"
            ],
            [
             0.1111111111111111,
             "#46039f"
            ],
            [
             0.2222222222222222,
             "#7201a8"
            ],
            [
             0.3333333333333333,
             "#9c179e"
            ],
            [
             0.4444444444444444,
             "#bd3786"
            ],
            [
             0.5555555555555556,
             "#d8576b"
            ],
            [
             0.6666666666666666,
             "#ed7953"
            ],
            [
             0.7777777777777778,
             "#fb9f3a"
            ],
            [
             0.8888888888888888,
             "#fdca26"
            ],
            [
             1,
             "#f0f921"
            ]
           ],
           "sequentialminus": [
            [
             0,
             "#0d0887"
            ],
            [
             0.1111111111111111,
             "#46039f"
            ],
            [
             0.2222222222222222,
             "#7201a8"
            ],
            [
             0.3333333333333333,
             "#9c179e"
            ],
            [
             0.4444444444444444,
             "#bd3786"
            ],
            [
             0.5555555555555556,
             "#d8576b"
            ],
            [
             0.6666666666666666,
             "#ed7953"
            ],
            [
             0.7777777777777778,
             "#fb9f3a"
            ],
            [
             0.8888888888888888,
             "#fdca26"
            ],
            [
             1,
             "#f0f921"
            ]
           ]
          },
          "colorway": [
           "#636efa",
           "#EF553B",
           "#00cc96",
           "#ab63fa",
           "#FFA15A",
           "#19d3f3",
           "#FF6692",
           "#B6E880",
           "#FF97FF",
           "#FECB52"
          ],
          "font": {
           "color": "#2a3f5f"
          },
          "geo": {
           "bgcolor": "white",
           "lakecolor": "white",
           "landcolor": "#E5ECF6",
           "showlakes": true,
           "showland": true,
           "subunitcolor": "white"
          },
          "hoverlabel": {
           "align": "left"
          },
          "hovermode": "closest",
          "mapbox": {
           "style": "light"
          },
          "paper_bgcolor": "white",
          "plot_bgcolor": "#E5ECF6",
          "polar": {
           "angularaxis": {
            "gridcolor": "white",
            "linecolor": "white",
            "ticks": ""
           },
           "bgcolor": "#E5ECF6",
           "radialaxis": {
            "gridcolor": "white",
            "linecolor": "white",
            "ticks": ""
           }
          },
          "scene": {
           "xaxis": {
            "backgroundcolor": "#E5ECF6",
            "gridcolor": "white",
            "gridwidth": 2,
            "linecolor": "white",
            "showbackground": true,
            "ticks": "",
            "zerolinecolor": "white"
           },
           "yaxis": {
            "backgroundcolor": "#E5ECF6",
            "gridcolor": "white",
            "gridwidth": 2,
            "linecolor": "white",
            "showbackground": true,
            "ticks": "",
            "zerolinecolor": "white"
           },
           "zaxis": {
            "backgroundcolor": "#E5ECF6",
            "gridcolor": "white",
            "gridwidth": 2,
            "linecolor": "white",
            "showbackground": true,
            "ticks": "",
            "zerolinecolor": "white"
           }
          },
          "shapedefaults": {
           "line": {
            "color": "#2a3f5f"
           }
          },
          "ternary": {
           "aaxis": {
            "gridcolor": "white",
            "linecolor": "white",
            "ticks": ""
           },
           "baxis": {
            "gridcolor": "white",
            "linecolor": "white",
            "ticks": ""
           },
           "bgcolor": "#E5ECF6",
           "caxis": {
            "gridcolor": "white",
            "linecolor": "white",
            "ticks": ""
           }
          },
          "title": {
           "x": 0.05
          },
          "xaxis": {
           "automargin": true,
           "gridcolor": "white",
           "linecolor": "white",
           "ticks": "",
           "title": {
            "standoff": 15
           },
           "zerolinecolor": "white",
           "zerolinewidth": 2
          },
          "yaxis": {
           "automargin": true,
           "gridcolor": "white",
           "linecolor": "white",
           "ticks": "",
           "title": {
            "standoff": 15
           },
           "zerolinecolor": "white",
           "zerolinewidth": 2
          }
         }
        },
        "xaxis": {
         "anchor": "y",
         "categoryorder": "total descending",
         "domain": [
          0,
          1
         ],
         "title": {
          "text": "dominating_language"
         }
        },
        "yaxis": {
         "anchor": "x",
         "domain": [
          0,
          1
         ],
         "title": {
          "text": "count"
         }
        }
       }
      },
      "text/html": [
       "<div>                            <div id=\"f4083cd3-9994-464d-a333-e08f3a38526e\" class=\"plotly-graph-div\" style=\"height:525px; width:100%;\"></div>            <script type=\"text/javascript\">                require([\"plotly\"], function(Plotly) {                    window.PLOTLYENV=window.PLOTLYENV || {};                                    if (document.getElementById(\"f4083cd3-9994-464d-a333-e08f3a38526e\")) {                    Plotly.newPlot(                        \"f4083cd3-9994-464d-a333-e08f3a38526e\",                        [{\"alignmentgroup\":\"True\",\"bingroup\":\"x\",\"hovertemplate\":\"dominating_language=%{x}<br>count=%{y}<extra></extra>\",\"legendgroup\":\"\",\"marker\":{\"color\":\"#636efa\",\"pattern\":{\"shape\":\"\"}},\"name\":\"\",\"offsetgroup\":\"\",\"orientation\":\"v\",\"showlegend\":false,\"type\":\"histogram\",\"x\":[\"Python\",\"Python\",\"Jupyter Notebook\",\"Python\",\"Python\",\"HTML\",\"C++\",\"Jupyter Notebook\",\"Python\",\"Python\",\"Python\",\"Python\",\"Python\",\"Modelica\",\"C\",\"C++\",\"Python\",\"Jupyter Notebook\",\"Python\",\"Python\",\"MATLAB\",\"Python\",\"Jupyter Notebook\",\"R\",\"C++\",\"Jupyter Notebook\",\"C++\",\"Python\",\"Jupyter Notebook\",\"Python\",\"TypeScript\",\"Python\",\"Jupyter Notebook\",\"Jupyter Notebook\",\"Python\",\"Roff\",\"Python\",\"C++\",\"C\",\"Fortran\",\"C++\",\"Python\",\"Python\",\"Python\",\"Python\",\"Python\",\"Python\",\"Python\",\"Jupyter Notebook\",\"Python\",\"Python\",\"Python\",\"Python\",\"Python\",\"Python\",\"Fortran\",\"Roff\",\"Python\",\"Python\",\"Python\",\"Python\",null,\"Python\",\"Julia\",\"Modelica\",\"MATLAB\",\"C++\",\"Python\",\"Python\",\"Python\",\"Fortran\",\"Python\",\"Fortran\",\"Python\",\"Ruby\",\"Python\",\"Python\",\"Python\",\"Python\",\"Python\",\"Python\",\"C++\",\"Python\",\"MATLAB\",\"Python\",\"Python\",\"Python\",\"Jupyter Notebook\",\"Python\",\"C#\",\"Julia\",\"Modelica\",\"PowerBuilder\",\"Python\",\"Python\",\"Python\",\"Python\",\"Jupyter Notebook\",\"Python\",\"Python\",\"Python\",\"CSS\",\"Julia\",\"Julia\",\"Jupyter Notebook\",\"Python\",\"Python\",\"Python\",\"C\",\"C++\",\"Python\",\"Python\",\"Python\",\"Python\",\"Python\",\"Java\",\"Python\",\"R\",\"R\",\"Python\",\"Python\",\"Python\",\"Python\",\"Julia\",\"Python\",\"C++\",\"Python\",\"Julia\",\"JavaScript\",\"Python\",\"Python\",\"Python\",\"Java\",\"Java\",\"MATLAB\",\"R\",\"Python\",\"Python\",\"Python\",\"Python\",\"Python\",\"Python\",\"Python\",\"Python\",\"Jupyter Notebook\",\"Python\",\"Python\",\"Julia\",\"Shell\",\"Python\",\"Python\",\"C++\",\"Python\",\"Jupyter Notebook\",\"Python\",\"R\",\"TeX\",\"Python\",\"Java\",\"Java\",\"Ruby\",\"C++\",\"PHP\",\"Python\",\"Python\",\"Python\",\"Python\",\"Ruby\",\"Ruby\",\"Java\",\"Julia\",\"Julia\",\"Python\",\"Python\",\"Python\",\"HTML\",\"Julia\",\"Julia\",\"Python\",\"TypeScript\",\"Python\",\"Jupyter Notebook\",\"C++\",\"Python\",\"Python\",\"Scala\",\"Vue\",\"Python\",\"Python\",\"Python\",\"Jupyter Notebook\",\"Python\",null,\"Python\",\"Python\",\"Python\",\"Python\",\"Jupyter Notebook\",\"Python\",\"Jupyter Notebook\",\"Jupyter Notebook\",\"Python\",\"Python\",\"C#\",\"Python\",\"C++\",\"Python\",\"C++\",\"Ruby\",\"Ruby\",\"Modelica\",\"Python\",\"Modelica\",\"Python\",\"Python\",\"Modelica\",\"Python\",\"HTML\",\"Modelica\",\"Modelica\",\"Modelica\",\"Fortran\",\"Python\",\"Python\",\"JavaScript\",\"Ruby\",\"Python\",\"R\",\"Python\",\"Python\",\"PHP\",\"Go\",\"Python\",\"Python\",\"Python\",\"Python\",\"C++\",\"R\",\"Scala\",\"Python\",\"Scala\",\"TypeScript\",\"PHP\",\"Vue\",\"Ruby\",\"C++\",\"C\",\"C++\",\"Python\",\"Python\",\"C#\",\"Go\",\"Java\",\"Java\",\"Kotlin\",\"Java\",\"Python\",\"JavaScript\",\"Java\",\"Jupyter Notebook\",\"Java\",\"Java\",\"R\",\"CartoCSS\",\"Python\",\"Scala\",null,\"Vue\",\"Python\",\"TypeScript\",\"Python\",\"TeX\",\"Python\",\"R\",\"Python\",\"Python\",null,null,\"Ruby\",\"Kotlin\",\"Java\",\"C#\",\"Java\",null,\"JavaScript\",\"Python\",\"Modelica\",\"C\",\"Rust\",\"Python\",\"JavaScript\",\"JavaScript\",\"Vue\",\"Jupyter Notebook\",\"TypeScript\",\"Python\",null,\"Python\",\"Jupyter Notebook\",\"Go\",\"Groovy\",\"Go\",null,\"SCSS\",\"Go\",\"HTML\",\"Python\",\"TypeScript\",\"Python\",\"JavaScript\",\"TypeScript\",\"TypeScript\",null,\"Python\",\"Python\",\"Python\",\"Jupyter Notebook\",\"JavaScript\",\"Python\",\"C++\",\"Jupyter Notebook\",\"Jupyter Notebook\",\"Python\",\"R\",\"R\",\"R\",\"Python\",\"Python\",\"R\",\"R\",\"MATLAB\",\"Python\",\"G-code\",\"Jupyter Notebook\",\"Python\",\"Jupyter Notebook\",\"Python\",\"Java\",\"Jupyter Notebook\",\"Ruby\",\"Python\",\"Python\",\"R\",\"Python\",\"Jupyter Notebook\",\"Python\",\"PHP\",\"JavaScript\",\"Python\",\"Python\",\"Python\",\"Python\",\"Julia\",\"Python\",\"R\",\"Python\",\"JavaScript\",\"HTML\",\"C++\",\"TypeScript\",\"R\",\"R\",\"Java\",\"R\",\"JavaScript\",\"Python\",\"Python\",\"Python\",\"Python\",\"R\",\"R\",\"Python\",\"Fortran\",\"Python\",\"Python\",\"R\",\"R\",\"Python\",\"HTML\",\"Python\",\"HTML\",\"R\",\"R\",\"R\",\"Python\",\"Julia\",\"R\",\"C++\",\"Python\",\"R\",\"HTML\",\"JavaScript\",\"Python\",\"Python\",\"TypeScript\",\"R\",\"Jupyter Notebook\",\"Python\",\"Swift\",\"Jupyter Notebook\",\"R\",\"Python\",\"TypeScript\",\"Python\",null,\"JavaScript\",\"Java\",\"R\",\"C++\",\"Kotlin\",\"R\",\"Python\",\"Python\",\"R\",\"R\",\"R\",\"R\",\"Python\",\"Python\",\"Fortran\",\"C++\",\"Fortran\",\"Jupyter Notebook\",\"Jupyter Notebook\",\"TypeScript\",\"Fortran\",\"TeX\",\"Python\",\"Jupyter Notebook\",\"Python\",\"Python\",\"Jupyter Notebook\",\"Python\",\"Python\",\"Python\",\"Fortran\",\"Julia\",\"Julia\",\"R\",\"Python\",\"Jupyter Notebook\",\"Python\",\"Python\",\"R\",\"Python\",\"R\",\"Fortran\",\"C++\",\"Python\",\"Fortran\",\"R\",\"Jupyter Notebook\",\"C\",\"Fortran\",\"Julia\",\"Fortran\",\"Python\",\"Fortran\",\"Python\",\"Python\",\"C\",\"Python\",\"R\",\"Python\",\"Python\",\"Python\",\"Jupyter Notebook\",\"R\",\"Makefile\",\"Julia\",\"C\",\"Svelte\",\"Jupyter Notebook\",\"TypeScript\",\"Python\",\"Python\",\"C\",\"R\",\"Python\",\"Jupyter Notebook\",\"Python\",\"C\",\"Python\",\"Python\",\"JavaScript\",\"Fortran\",\"Jupyter Notebook\",\"C\",\"Fortran\",\"R\",\"Python\",\"C++\",\"Python\",\"Jupyter Notebook\",\"Fortran\",\"Jupyter Notebook\",\"Python\",\"C#\",\"Fortran\",\"Fortran\",\"Julia\",\"Python\",\"NCL\",\"Fortran\",\"Shell\",\"Jupyter Notebook\",\"Fortran\",\"Python\",\"Python\",\"Python\",\"Julia\",\"Julia\",\"C++\",\"Python\",\"Julia\",\"C++\",\"Fortran\",\"Fortran\",\"C++\",\"Python\",\"Python\",\"Jupyter Notebook\",\"Jupyter Notebook\",\"Jupyter Notebook\",\"Julia\",\"Julia\",\"Python\",\"Fortran\",\"Python\",\"Fortran\",\"Jupyter Notebook\",\"Python\",\"Python\",\"Fortran\",\"Julia\",\"Python\",\"Python\",\"R\",\"Python\",\"Python\",\"Python\",\"Fortran\",\"Julia\",\"C++\",\"Python\",\"Fortran\",\"Fortran\",\"Python\",\"C\",\"Fortran\",\"Python\",\"Python\",\"R\",\"TypeScript\",\"Python\",\"R\",\"C\",\"R\",\"R\",\"R\",\"R\",\"Python\",\"Python\",null,\"Python\",\"Python\",\"Groovy\",\"Python\",\"Jupyter Notebook\",\"Python\",\"R\",\"Jupyter Notebook\",\"Java\",\"R\",\"R\",\"Python\",\"Jupyter Notebook\",\"Jupyter Notebook\",\"MATLAB\",\"Python\",\"Python\",\"Jupyter Notebook\",\"Jupyter Notebook\",\"Python\",\"R\",\"R\",\"R\",\"R\",\"Python\",\"Python\",\"Fortran\",\"R\",\"C\",\"C\",\"Python\",\"R\",\"R\",\"Python\",\"R\",\"Python\",\"Python\",\"R\",\"C\",\"Python\",\"R\",\"R\",\"MATLAB\",\"Julia\",\"Python\",\"R\",\"Fortran\",\"R\",\"TypeScript\",\"TypeScript\",\"Ruby\",\"R\",\"Python\",\"JavaScript\",\"Fortran\",\"Go\",null,\"Python\",\"R\",\"Ruby\",\"Jupyter Notebook\",\"Svelte\",\"HTML\",\"R\",\"R\",\"Python\",\"C\",\"R\",\"R\",\"Julia\",\"Python\",\"C++\",\"R\",\"Python\",\"C\",\"R\",\"Fortran\",\"Python\",\"Rust\",\"C++\",\"Python\",\"R\",\"Python\",\"R\",\"QML\",\"Python\",\"C\",\"Python\",\"Fortran\",\"C\",\"R\",\"JavaScript\",\"Python\",\"Python\",\"Python\",\"R\",\"R\",\"R\",\"Python\",\"C++\",\"Python\",\"Python\",\"Python\",null,\"Python\",\"R\",\"Python\",\"Jupyter Notebook\",\"R\",\"R\",\"R\",\"R\",\"R\",\"Python\",\"R\",\"Python\",\"Python\",\"Jupyter Notebook\",\"HTML\",\"C++\",\"Python\",\"Python\",\"Python\",\"R\",\"MATLAB\",\"Python\",\"R\",\"JavaScript\",null,\"Python\",\"JavaScript\",\"JavaScript\",\"R\",\"Python\",\"HTML\",\"Fortran\",\"GAMS\",\"R\",\"C#\",\"Ruby\",\"Ruby\",\"R\",\"R\",\"R\",\"R\",\"HTML\",\"Vue\",\"Ruby\",\"Fortran\",\"Perl\",\"Ruby\",\"R\",\"R\",\"R\",\"Jupyter Notebook\",\"PHP\",\"Jupyter Notebook\",null,\"TypeScript\",\"Jupyter Notebook\",\"Fortran\",\"Python\",\"Jupyter Notebook\",\"Python\",\"Python\",\"Python\",\"Python\",\"Vue\",\"JavaScript\",\"Python\",\"HTML\",\"TypeScript\",\"Python\",\"GAMS\",\"R\",\"Python\",\"Jupyter Notebook\",\"JavaScript\",\"C++\",null,\"Ruby\",\"JavaScript\",\"Shell\",\"Python\",\"Makefile\",\"C++\",null,\"Go\",null,\"Jupyter Notebook\",\"JavaScript\",\"Turtle\",\"Java\",\"Python\",\"Python\",\"JavaScript\",\"R\",\"JavaScript\",\"HTML\",\"R\",\"R\",\"Jupyter Notebook\",\"Python\",\"Python\",\"Python\",\"Python\",\"Jupyter Notebook\",\"HTML\",\"R\",\"JavaScript\",\"Python\",\"TypeScript\",\"JavaScript\",\"Jupyter Notebook\",\"R\",\"R\",\"Python\",\"Julia\",\"Python\",\"R\",null,\"Python\",\"Python\",null,null,null,\"JavaScript\",null,null,\"JavaScript\",null,null,null,null,null],\"xaxis\":\"x\",\"yaxis\":\"y\"}],                        {\"barmode\":\"relative\",\"legend\":{\"tracegroupgap\":0},\"margin\":{\"t\":60},\"paper_bgcolor\":\"lightgray\",\"template\":{\"data\":{\"bar\":[{\"error_x\":{\"color\":\"#2a3f5f\"},\"error_y\":{\"color\":\"#2a3f5f\"},\"marker\":{\"line\":{\"color\":\"#E5ECF6\",\"width\":0.5},\"pattern\":{\"fillmode\":\"overlay\",\"size\":10,\"solidity\":0.2}},\"type\":\"bar\"}],\"barpolar\":[{\"marker\":{\"line\":{\"color\":\"#E5ECF6\",\"width\":0.5},\"pattern\":{\"fillmode\":\"overlay\",\"size\":10,\"solidity\":0.2}},\"type\":\"barpolar\"}],\"carpet\":[{\"aaxis\":{\"endlinecolor\":\"#2a3f5f\",\"gridcolor\":\"white\",\"linecolor\":\"white\",\"minorgridcolor\":\"white\",\"startlinecolor\":\"#2a3f5f\"},\"baxis\":{\"endlinecolor\":\"#2a3f5f\",\"gridcolor\":\"white\",\"linecolor\":\"white\",\"minorgridcolor\":\"white\",\"startlinecolor\":\"#2a3f5f\"},\"type\":\"carpet\"}],\"choropleth\":[{\"colorbar\":{\"outlinewidth\":0,\"ticks\":\"\"},\"type\":\"choropleth\"}],\"contour\":[{\"colorbar\":{\"outlinewidth\":0,\"ticks\":\"\"},\"colorscale\":[[0.0,\"#0d0887\"],[0.1111111111111111,\"#46039f\"],[0.2222222222222222,\"#7201a8\"],[0.3333333333333333,\"#9c179e\"],[0.4444444444444444,\"#bd3786\"],[0.5555555555555556,\"#d8576b\"],[0.6666666666666666,\"#ed7953\"],[0.7777777777777778,\"#fb9f3a\"],[0.8888888888888888,\"#fdca26\"],[1.0,\"#f0f921\"]],\"type\":\"contour\"}],\"contourcarpet\":[{\"colorbar\":{\"outlinewidth\":0,\"ticks\":\"\"},\"type\":\"contourcarpet\"}],\"heatmap\":[{\"colorbar\":{\"outlinewidth\":0,\"ticks\":\"\"},\"colorscale\":[[0.0,\"#0d0887\"],[0.1111111111111111,\"#46039f\"],[0.2222222222222222,\"#7201a8\"],[0.3333333333333333,\"#9c179e\"],[0.4444444444444444,\"#bd3786\"],[0.5555555555555556,\"#d8576b\"],[0.6666666666666666,\"#ed7953\"],[0.7777777777777778,\"#fb9f3a\"],[0.8888888888888888,\"#fdca26\"],[1.0,\"#f0f921\"]],\"type\":\"heatmap\"}],\"heatmapgl\":[{\"colorbar\":{\"outlinewidth\":0,\"ticks\":\"\"},\"colorscale\":[[0.0,\"#0d0887\"],[0.1111111111111111,\"#46039f\"],[0.2222222222222222,\"#7201a8\"],[0.3333333333333333,\"#9c179e\"],[0.4444444444444444,\"#bd3786\"],[0.5555555555555556,\"#d8576b\"],[0.6666666666666666,\"#ed7953\"],[0.7777777777777778,\"#fb9f3a\"],[0.8888888888888888,\"#fdca26\"],[1.0,\"#f0f921\"]],\"type\":\"heatmapgl\"}],\"histogram\":[{\"marker\":{\"pattern\":{\"fillmode\":\"overlay\",\"size\":10,\"solidity\":0.2}},\"type\":\"histogram\"}],\"histogram2d\":[{\"colorbar\":{\"outlinewidth\":0,\"ticks\":\"\"},\"colorscale\":[[0.0,\"#0d0887\"],[0.1111111111111111,\"#46039f\"],[0.2222222222222222,\"#7201a8\"],[0.3333333333333333,\"#9c179e\"],[0.4444444444444444,\"#bd3786\"],[0.5555555555555556,\"#d8576b\"],[0.6666666666666666,\"#ed7953\"],[0.7777777777777778,\"#fb9f3a\"],[0.8888888888888888,\"#fdca26\"],[1.0,\"#f0f921\"]],\"type\":\"histogram2d\"}],\"histogram2dcontour\":[{\"colorbar\":{\"outlinewidth\":0,\"ticks\":\"\"},\"colorscale\":[[0.0,\"#0d0887\"],[0.1111111111111111,\"#46039f\"],[0.2222222222222222,\"#7201a8\"],[0.3333333333333333,\"#9c179e\"],[0.4444444444444444,\"#bd3786\"],[0.5555555555555556,\"#d8576b\"],[0.6666666666666666,\"#ed7953\"],[0.7777777777777778,\"#fb9f3a\"],[0.8888888888888888,\"#fdca26\"],[1.0,\"#f0f921\"]],\"type\":\"histogram2dcontour\"}],\"mesh3d\":[{\"colorbar\":{\"outlinewidth\":0,\"ticks\":\"\"},\"type\":\"mesh3d\"}],\"parcoords\":[{\"line\":{\"colorbar\":{\"outlinewidth\":0,\"ticks\":\"\"}},\"type\":\"parcoords\"}],\"pie\":[{\"automargin\":true,\"type\":\"pie\"}],\"scatter\":[{\"marker\":{\"colorbar\":{\"outlinewidth\":0,\"ticks\":\"\"}},\"type\":\"scatter\"}],\"scatter3d\":[{\"line\":{\"colorbar\":{\"outlinewidth\":0,\"ticks\":\"\"}},\"marker\":{\"colorbar\":{\"outlinewidth\":0,\"ticks\":\"\"}},\"type\":\"scatter3d\"}],\"scattercarpet\":[{\"marker\":{\"colorbar\":{\"outlinewidth\":0,\"ticks\":\"\"}},\"type\":\"scattercarpet\"}],\"scattergeo\":[{\"marker\":{\"colorbar\":{\"outlinewidth\":0,\"ticks\":\"\"}},\"type\":\"scattergeo\"}],\"scattergl\":[{\"marker\":{\"colorbar\":{\"outlinewidth\":0,\"ticks\":\"\"}},\"type\":\"scattergl\"}],\"scattermapbox\":[{\"marker\":{\"colorbar\":{\"outlinewidth\":0,\"ticks\":\"\"}},\"type\":\"scattermapbox\"}],\"scatterpolar\":[{\"marker\":{\"colorbar\":{\"outlinewidth\":0,\"ticks\":\"\"}},\"type\":\"scatterpolar\"}],\"scatterpolargl\":[{\"marker\":{\"colorbar\":{\"outlinewidth\":0,\"ticks\":\"\"}},\"type\":\"scatterpolargl\"}],\"scatterternary\":[{\"marker\":{\"colorbar\":{\"outlinewidth\":0,\"ticks\":\"\"}},\"type\":\"scatterternary\"}],\"surface\":[{\"colorbar\":{\"outlinewidth\":0,\"ticks\":\"\"},\"colorscale\":[[0.0,\"#0d0887\"],[0.1111111111111111,\"#46039f\"],[0.2222222222222222,\"#7201a8\"],[0.3333333333333333,\"#9c179e\"],[0.4444444444444444,\"#bd3786\"],[0.5555555555555556,\"#d8576b\"],[0.6666666666666666,\"#ed7953\"],[0.7777777777777778,\"#fb9f3a\"],[0.8888888888888888,\"#fdca26\"],[1.0,\"#f0f921\"]],\"type\":\"surface\"}],\"table\":[{\"cells\":{\"fill\":{\"color\":\"#EBF0F8\"},\"line\":{\"color\":\"white\"}},\"header\":{\"fill\":{\"color\":\"#C8D4E3\"},\"line\":{\"color\":\"white\"}},\"type\":\"table\"}]},\"layout\":{\"annotationdefaults\":{\"arrowcolor\":\"#2a3f5f\",\"arrowhead\":0,\"arrowwidth\":1},\"autotypenumbers\":\"strict\",\"coloraxis\":{\"colorbar\":{\"outlinewidth\":0,\"ticks\":\"\"}},\"colorscale\":{\"diverging\":[[0,\"#8e0152\"],[0.1,\"#c51b7d\"],[0.2,\"#de77ae\"],[0.3,\"#f1b6da\"],[0.4,\"#fde0ef\"],[0.5,\"#f7f7f7\"],[0.6,\"#e6f5d0\"],[0.7,\"#b8e186\"],[0.8,\"#7fbc41\"],[0.9,\"#4d9221\"],[1,\"#276419\"]],\"sequential\":[[0.0,\"#0d0887\"],[0.1111111111111111,\"#46039f\"],[0.2222222222222222,\"#7201a8\"],[0.3333333333333333,\"#9c179e\"],[0.4444444444444444,\"#bd3786\"],[0.5555555555555556,\"#d8576b\"],[0.6666666666666666,\"#ed7953\"],[0.7777777777777778,\"#fb9f3a\"],[0.8888888888888888,\"#fdca26\"],[1.0,\"#f0f921\"]],\"sequentialminus\":[[0.0,\"#0d0887\"],[0.1111111111111111,\"#46039f\"],[0.2222222222222222,\"#7201a8\"],[0.3333333333333333,\"#9c179e\"],[0.4444444444444444,\"#bd3786\"],[0.5555555555555556,\"#d8576b\"],[0.6666666666666666,\"#ed7953\"],[0.7777777777777778,\"#fb9f3a\"],[0.8888888888888888,\"#fdca26\"],[1.0,\"#f0f921\"]]},\"colorway\":[\"#636efa\",\"#EF553B\",\"#00cc96\",\"#ab63fa\",\"#FFA15A\",\"#19d3f3\",\"#FF6692\",\"#B6E880\",\"#FF97FF\",\"#FECB52\"],\"font\":{\"color\":\"#2a3f5f\"},\"geo\":{\"bgcolor\":\"white\",\"lakecolor\":\"white\",\"landcolor\":\"#E5ECF6\",\"showlakes\":true,\"showland\":true,\"subunitcolor\":\"white\"},\"hoverlabel\":{\"align\":\"left\"},\"hovermode\":\"closest\",\"mapbox\":{\"style\":\"light\"},\"paper_bgcolor\":\"white\",\"plot_bgcolor\":\"#E5ECF6\",\"polar\":{\"angularaxis\":{\"gridcolor\":\"white\",\"linecolor\":\"white\",\"ticks\":\"\"},\"bgcolor\":\"#E5ECF6\",\"radialaxis\":{\"gridcolor\":\"white\",\"linecolor\":\"white\",\"ticks\":\"\"}},\"scene\":{\"xaxis\":{\"backgroundcolor\":\"#E5ECF6\",\"gridcolor\":\"white\",\"gridwidth\":2,\"linecolor\":\"white\",\"showbackground\":true,\"ticks\":\"\",\"zerolinecolor\":\"white\"},\"yaxis\":{\"backgroundcolor\":\"#E5ECF6\",\"gridcolor\":\"white\",\"gridwidth\":2,\"linecolor\":\"white\",\"showbackground\":true,\"ticks\":\"\",\"zerolinecolor\":\"white\"},\"zaxis\":{\"backgroundcolor\":\"#E5ECF6\",\"gridcolor\":\"white\",\"gridwidth\":2,\"linecolor\":\"white\",\"showbackground\":true,\"ticks\":\"\",\"zerolinecolor\":\"white\"}},\"shapedefaults\":{\"line\":{\"color\":\"#2a3f5f\"}},\"ternary\":{\"aaxis\":{\"gridcolor\":\"white\",\"linecolor\":\"white\",\"ticks\":\"\"},\"baxis\":{\"gridcolor\":\"white\",\"linecolor\":\"white\",\"ticks\":\"\"},\"bgcolor\":\"#E5ECF6\",\"caxis\":{\"gridcolor\":\"white\",\"linecolor\":\"white\",\"ticks\":\"\"}},\"title\":{\"x\":0.05},\"xaxis\":{\"automargin\":true,\"gridcolor\":\"white\",\"linecolor\":\"white\",\"ticks\":\"\",\"title\":{\"standoff\":15},\"zerolinecolor\":\"white\",\"zerolinewidth\":2},\"yaxis\":{\"automargin\":true,\"gridcolor\":\"white\",\"linecolor\":\"white\",\"ticks\":\"\",\"title\":{\"standoff\":15},\"zerolinecolor\":\"white\",\"zerolinewidth\":2}}},\"xaxis\":{\"anchor\":\"y\",\"categoryorder\":\"total descending\",\"domain\":[0.0,1.0],\"title\":{\"text\":\"dominating_language\"}},\"yaxis\":{\"anchor\":\"x\",\"domain\":[0.0,1.0],\"title\":{\"text\":\"count\"}}},                        {\"responsive\": true}                    ).then(function(){\n",
       "                            \n",
       "var gd = document.getElementById('f4083cd3-9994-464d-a333-e08f3a38526e');\n",
       "var x = new MutationObserver(function (mutations, observer) {{\n",
       "        var display = window.getComputedStyle(gd).display;\n",
       "        if (!display || display === 'none') {{\n",
       "            console.log([gd, 'removed!']);\n",
       "            Plotly.purge(gd);\n",
       "            observer.disconnect();\n",
       "        }}\n",
       "}});\n",
       "\n",
       "// Listen for the removal of the full notebook cells\n",
       "var notebookContainer = gd.closest('#notebook-container');\n",
       "if (notebookContainer) {{\n",
       "    x.observe(notebookContainer, {childList: true});\n",
       "}}\n",
       "\n",
       "// Listen for the clearing of the current output cell\n",
       "var outputEl = gd.closest('.output');\n",
       "if (outputEl) {{\n",
       "    x.observe(outputEl, {childList: true});\n",
       "}}\n",
       "\n",
       "                        })                };                });            </script>        </div>"
      ]
     },
     "metadata": {},
     "output_type": "display_data"
    }
   ],
   "source": [
    "fig = px.histogram(df, x=\"dominating_language\").update_xaxes(categoryorder=\"total descending\")\n",
    "fig.update_layout(\n",
    "    paper_bgcolor=\"lightgray\",\n",
    ")\n",
    "fig.show()"
   ]
  },
  {
   "cell_type": "code",
   "execution_count": 9,
   "metadata": {},
   "outputs": [
    {
     "data": {
      "application/vnd.plotly.v1+json": {
       "config": {
        "plotlyServerURL": "https://plot.ly"
       },
       "data": [
        {
         "alignmentgroup": "True",
         "hovertemplate": "variable=git_namespace<br>value=%{x}<br>index=%{y}<extra></extra>",
         "legendgroup": "git_namespace",
         "marker": {
          "color": "#636efa",
          "pattern": {
           "shape": ""
          }
         },
         "name": "git_namespace",
         "offsetgroup": "git_namespace",
         "orientation": "h",
         "showlegend": true,
         "textposition": "auto",
         "type": "bar",
         "x": [
          22,
          20,
          7,
          6,
          5,
          5,
          5,
          5,
          5,
          5,
          5,
          5,
          4,
          4,
          4,
          4,
          4,
          4,
          4,
          4,
          4,
          3,
          3,
          3,
          3,
          3,
          3,
          3,
          3,
          3,
          3,
          3,
          2,
          2,
          2,
          2,
          2,
          2,
          2,
          2,
          2,
          2,
          2,
          2,
          2,
          2,
          2,
          2,
          2,
          2,
          2,
          2,
          2,
          2,
          2,
          2,
          2,
          2,
          2,
          2,
          2,
          2,
          2,
          2,
          2,
          2,
          2,
          2,
          2,
          2,
          2,
          2,
          2,
          2,
          2,
          2,
          2,
          2,
          2,
          2,
          2,
          2,
          2,
          2,
          2,
          2,
          2,
          2,
          2,
          2,
          2,
          2,
          2,
          2,
          2,
          2,
          2,
          2,
          2,
          2,
          2,
          2,
          1,
          1,
          1,
          1,
          1,
          1,
          1,
          1,
          1,
          1,
          1,
          1,
          1,
          1,
          1,
          1,
          1,
          1,
          1,
          1,
          1,
          1,
          1,
          1,
          1,
          1,
          1,
          1,
          1,
          1,
          1,
          1,
          1,
          1,
          1,
          1,
          1,
          1,
          1,
          1,
          1,
          1,
          1,
          1,
          1,
          1,
          1,
          1,
          1,
          1,
          1,
          1,
          1,
          1,
          1,
          1,
          1,
          1,
          1,
          1,
          1,
          1,
          1,
          1,
          1,
          1,
          1,
          1,
          1,
          1,
          1,
          1,
          1,
          1,
          1,
          1,
          1,
          1,
          1,
          1,
          1,
          1,
          1,
          1,
          1,
          1,
          1,
          1,
          1,
          1,
          1,
          1,
          1,
          1,
          1,
          1,
          1,
          1,
          1,
          1,
          1,
          1,
          1,
          1,
          1,
          1,
          1,
          1,
          1,
          1,
          1,
          1,
          1,
          1,
          1,
          1,
          1,
          1,
          1,
          1,
          1,
          1,
          1,
          1,
          1,
          1,
          1,
          1,
          1,
          1,
          1,
          1,
          1,
          1,
          1,
          1,
          1,
          1,
          1,
          1,
          1,
          1,
          1,
          1,
          1,
          1,
          1,
          1,
          1,
          1,
          1,
          1,
          1,
          1,
          1,
          1,
          1,
          1,
          1,
          1,
          1,
          1,
          1,
          1,
          1,
          1,
          1,
          1,
          1,
          1,
          1,
          1,
          1,
          1,
          1,
          1,
          1,
          1,
          1,
          1,
          1,
          1,
          1,
          1,
          1,
          1,
          1,
          1,
          1,
          1,
          1,
          1,
          1,
          1,
          1,
          1,
          1,
          1,
          1,
          1,
          1,
          1,
          1,
          1,
          1,
          1,
          1,
          1,
          1,
          1,
          1,
          1,
          1,
          1,
          1,
          1,
          1,
          1,
          1,
          1,
          1,
          1,
          1,
          1,
          1,
          1,
          1,
          1,
          1,
          1,
          1,
          1,
          1,
          1,
          1,
          1,
          1,
          1,
          1,
          1,
          1,
          1,
          1,
          1,
          1,
          1,
          1,
          1,
          1,
          1,
          1,
          1,
          1,
          1,
          1,
          1,
          1,
          1,
          1,
          1,
          1,
          1,
          1,
          1,
          1,
          1,
          1,
          1,
          1,
          1,
          1,
          1,
          1,
          1,
          1,
          1,
          1,
          1,
          1,
          1,
          1,
          1,
          1,
          1,
          1,
          1,
          1,
          1,
          1,
          1,
          1,
          1,
          1,
          1,
          1,
          1,
          1,
          1,
          1,
          1,
          1,
          1,
          1,
          1,
          1,
          1,
          1,
          1,
          1,
          1,
          1,
          1,
          1,
          1,
          1,
          1,
          1,
          1,
          1,
          1,
          1,
          1,
          1,
          1,
          1,
          1,
          1,
          1,
          1,
          1,
          1,
          1,
          1,
          1,
          1,
          1,
          1,
          1,
          1,
          1,
          1,
          1,
          1,
          1,
          1,
          1,
          1,
          1,
          1,
          1,
          1,
          1,
          1,
          1,
          1,
          1,
          1,
          1,
          1,
          1,
          1,
          1,
          1,
          1,
          1,
          1,
          1,
          1,
          1,
          1,
          1,
          1,
          1,
          1,
          1,
          1,
          1,
          1,
          1,
          1,
          1,
          1,
          1,
          1,
          1,
          1,
          1,
          1,
          1,
          1,
          1,
          1,
          1,
          1,
          1,
          1,
          1,
          1,
          1,
          1,
          1,
          1,
          1,
          1,
          1,
          1,
          1,
          1,
          1,
          1,
          1,
          1,
          1,
          1,
          1,
          1,
          1,
          1,
          1,
          1,
          1,
          1,
          1,
          1,
          1,
          1,
          1,
          1,
          1,
          1,
          1,
          1,
          1,
          1,
          1,
          1,
          1,
          1,
          1,
          1,
          1,
          1,
          1,
          1,
          1,
          1,
          1,
          1,
          1,
          1,
          1,
          1,
          1,
          1,
          1,
          1,
          1,
          1,
          1,
          1,
          1,
          1,
          1,
          1,
          1,
          1,
          1,
          1,
          1,
          1,
          1,
          1,
          1,
          1,
          1,
          1,
          1,
          1,
          1,
          1,
          1,
          1,
          1,
          1,
          1,
          1,
          1,
          1,
          1,
          1,
          1,
          1,
          1,
          1,
          1
         ],
         "xaxis": "x",
         "y": [
          "NREL",
          "ropensci",
          "oemof",
          "USEPA",
          "NCAR",
          "PyPSA",
          "ecmwf",
          "bcgov",
          "USGS-R",
          "WISDEM",
          "slacgismo",
          "CliMA",
          "NREL-SIIP",
          "JGCRI",
          "NOAA-GFDL",
          "SantanderMetGroup",
          "lanl-ansi",
          "ncss-tech",
          "owid",
          "openclimatefix",
          "FZJ-IEK3-VSA",
          "wri",
          "weecology",
          "NOAA-OWP",
          "sentinel-hub",
          "CenterForTheBuiltEnvironment",
          "OpenEnergyPlatform",
          "lbl-srg",
          "ECSIM",
          "carbonplan",
          "microsoft",
          "TUW-GEO",
          "Ifsttar",
          "rl-institut",
          "openaq",
          "metno",
          "nco",
          "nasa",
          "powerapi-ng",
          "DrafProject",
          "OpenWaterAnalytics",
          "google",
          "NewMotion",
          "volkszaehler",
          "ibpsa",
          "kylemcdonald",
          "RWTH-EBC",
          "OSUKED",
          "ConservationInternational",
          "RAMP-project",
          "Breakthrough-Energy",
          "quintel",
          "thegreenwebfoundation",
          "uataq",
          "Green-Software-Foundation",
          "esowc",
          "Mohid-Water-Modelling-System",
          "NorESMhub",
          "Ouranosinc",
          "weiji14",
          "CICE-Consortium",
          "ESIPFed",
          "UW-Hydro",
          "SunPower",
          "OasisLMF",
          "Plant-for-the-Planet-org",
          "slcs-jsc",
          "bluegreen-labs",
          "prioritizr",
          "JuliaOcean",
          "geoschem",
          "mlco2",
          "pyronear",
          "E3SM-Project",
          "pangeo-data",
          "ESCOMP",
          "JuliaClimate",
          "MPAS-Dev",
          "Vizzuality",
          "romainsacchi",
          "atmoschem",
          "SERVIR",
          "openclimatedata",
          "Unidata",
          "opentaps",
          "milankl",
          "powsybl",
          "pvlib",
          "tum-ens",
          "qpv-research-group",
          "energy-modelling-toolkit",
          "rte-antares-rpackage",
          "rOpenGov",
          "TemoaProject",
          "Exawind",
          "ie3-institute",
          "PecanProject",
          "LibreSolar",
          "calliope-project",
          "ADGEfficiency",
          "pybamm-team",
          "e2nIEE",
          "opengeospatial",
          "GIS4WRF",
          "gaelforget",
          "piersyork",
          "fnemina",
          "ladybug-tools",
          "csdms",
          "chrisroadmap",
          "csyhuang",
          "ClimateMARGO",
          "esmf-org",
          "CLIMADA-project",
          "OMS-NetZero",
          "climlab",
          "mom-ocean",
          "digitalearthafrica",
          "monocongo",
          "ESGF",
          "LBL-EESA",
          "Open-EO",
          "mysociety",
          "betolink",
          "resource-watch",
          "JokeNetwork",
          "xgcm",
          "dalesteam",
          "ProjectDrawdown",
          "NCAS-CMS",
          "EnvironmentOntology",
          "cf-convention",
          "earthobservations",
          "EnviroDIY",
          "brry",
          "bczernecki",
          "climate-strike",
          "eliocamp",
          "regen-network",
          "open-meteo",
          "pytroll",
          "ubilabs",
          "stripe",
          "tenstream",
          "usds",
          "DPGAlliance",
          "eradiate",
          "eea",
          "AER-RC",
          "earth-system-radiation",
          "robintw",
          "atmtools",
          "radiantearth",
          "RadiativeTransfer",
          "brazil-data-cube",
          "NOAA-EMC",
          "GClunies",
          "euroargodev",
          "aqualinkorg",
          "nglgzz",
          "sdl60660",
          "parflow",
          "Deltares",
          "cheginit",
          "philsturgeon",
          "FLARE-forecast",
          "cordmaur",
          "COSIMA",
          "softwareunderground",
          "jonschwenk",
          "RHESSys",
          "jpgattuso",
          "passaH2O",
          "DrylandEcology",
          "hydroshare",
          "UU-Hydro",
          "wenhwu",
          "samapriya",
          "ESMG",
          "gotm-model",
          "APA-Technology-Division",
          "OceanParcels",
          "beijbom",
          "eWaterCycle",
          "mvdh7",
          "ESMValGroup",
          "rich-iannone",
          "wpgp",
          "orbisgis",
          "stac-utils",
          "GralDispersionModel",
          "openeemeter",
          "oceanflux-ghg",
          "ExeClim",
          "MatMatt",
          "Open-MSS",
          "CNES",
          "JuliaDataCubes",
          "simonom",
          "kapadia",
          "pastas",
          "16EAGLE",
          "pogopaule",
          "davemlz",
          "CUTR-at-USF",
          "timduly4",
          "danwild",
          "Climdyn",
          "chrisleaman",
          "badlands-model",
          "brycejohnston",
          "IrishMarineInstitute",
          "awesome-cryosphere",
          "xCDAT",
          "pik-primap",
          "meteostat",
          "pySTEPS",
          "geocryology",
          "felixriese",
          "OpenFLUID",
          "International-Soil-Radiocarbon-Database",
          "global-hydrodynamics",
          "hectornieto",
          "cloudtostreet",
          "sbegueria",
          "Open-ET",
          "usbr",
          "brunomioto",
          "ec-jrc",
          "ed-hawkins",
          "Christiaanvandertol",
          "NRCan",
          "USGS-python",
          "neuralhydrology",
          "OSOceanAcoustics",
          "pcraster",
          "Servir-Mekong",
          "modflowpy",
          "CSHS-CWRA",
          "CriticalAssetManagement",
          "jnsebgosselin",
          "open-sdg",
          "UMN-Hydro",
          "r-spatialecology",
          "martibosch",
          "pygsflow",
          "sizespectrum",
          "maja601",
          "hollorol",
          "r4ss",
          "WFP-VAM",
          "Shyentist",
          "Growstuff",
          "openfoodfacts",
          "kazulagi",
          "openfoodfoundation",
          "karrot-dev",
          "spaceml-org",
          "CarrKnight",
          "droglenc",
          "eMapR",
          "ss3sim",
          "kwstat",
          "openfarmcc",
          "APSIMInitiative",
          "AgroCares",
          "magpiemodel",
          "DSSAT",
          "techmatters",
          "landlab",
          "e-sensing",
          "SoilWatch",
          "moja-global",
          "sustainlab-group",
          "WikiWatershed",
          "meteoinfo",
          "CCI-Tools",
          "mathworks",
          "OFBDABV",
          "mikejohnson51",
          "fund-model",
          "boshek",
          "h5netcdf",
          "intake",
          "ideas-lab-nus",
          "cortinah",
          "xarray-contrib",
          "PCMDI",
          "rOpenSpain",
          "os-climate",
          "IAMconsortium",
          "ARCCSS-extremes",
          "roocs",
          "deepsphere",
          "cerfacs-globc",
          "IPCC-WG1",
          "wikirate",
          "openscm",
          "ClimateWatch-Vizzuality",
          "aaronspring",
          "lf-energy",
          "nasaharvest",
          "VeruGHub",
          "Libbum",
          "shootismoke",
          "NOAA-ORR-ERD",
          "natcap",
          "geodynamics",
          "toogad",
          "qgep",
          "GSA",
          "RAJohansen",
          "ARPA-SIMC",
          "jblindsay",
          "mdbartos",
          "MODFLOW-USGS",
          "jsta",
          "AquaticEcoDynamics",
          "MITgcm",
          "Milind220",
          "jsynowiec",
          "skgrange",
          "sensebox",
          "opendata-stuttgart",
          "openoakland",
          "Safecast",
          "shawnwang-tech",
          "remindmodel",
          "spatialmodel",
          "CEMPD",
          "2DegreesInvesting",
          "davidcarslaw",
          "HabitatMap",
          "mroberge",
          "SKrisanski",
          "robwschlegel",
          "tmrowco",
          "opennem",
          "robinhenry",
          "Total-RD",
          "gridsingularity",
          "energywebfoundation",
          "SanPen",
          "JuliaEnergy",
          "GridMod",
          "openego",
          "rte-france",
          "OSGP",
          "grid-parity-exchange",
          "SeitaBV",
          "emoncms",
          "openenergymonitor",
          "Energy-Sparks",
          "opfab",
          "OpenEMS",
          "Matt-Brigida",
          "OpenSTEF",
          "Energy-Innovation",
          "Thales1330",
          "dpinney",
          "EnergyTransition",
          "cuihantao",
          "blue-marble",
          "iiasa",
          "IBM",
          "intelligent-environments-lab",
          "catalyst-cooperative",
          "EnergieID",
          "energyRt",
          "FRESNA",
          "openmobilityfoundation",
          "CanalTP",
          "OpenEVSE",
          "lincomatic",
          "diowa",
          "EVNotify",
          "coopcycle",
          "maasglobal",
          "mobilityhouse",
          "bigladder",
          "ecmwf-projects",
          "RE-Lab-Projects",
          "nilmtk",
          "BrickSchema",
          "hongyuanjia",
          "dsmrreader",
          "TEB-model",
          "UdK-VPT",
          "architecture-building-systems",
          "open-ideas",
          "EcotopeResearch",
          "SEED-platform",
          "VOLTTRON",
          "hpxmlwg",
          "systemcatch",
          "DemandRegioTeam",
          "m4rz910",
          "thomastu",
          "cristianst85",
          "OnSSET",
          "MATPOWER",
          "DFO-Ocean-Navigator",
          "mancellin",
          "WEC-Sim",
          "simulatino",
          "MHKiT-Software",
          "SNL-WaterPower",
          "ebranlard",
          "brightwind-dev",
          "YingyiLiu",
          "ImperialCollegeLondon",
          "python-windrose",
          "audunarn",
          "nmstreethran",
          "signals-dev",
          "OpenMDAO",
          "OpenFAST",
          "turbinesFoam",
          "wind-python",
          "IEAWindTask37",
          "Lkruitwagen",
          "SolarArbiter",
          "pingswept",
          "BreakingBytes",
          "iat-cener",
          "WMD-group",
          "PerovskiteSCModelling",
          "meltaxa",
          "SolarTherm",
          "squishykid",
          "tdcosim",
          "pvedu",
          "BEMRosetta",
          "MassimoCimmino",
          "GenXProject",
          "wouterpeere",
          "pypsa-meets-africa",
          "sogno-platform",
          "leonardgoeke",
          "reegis",
          "Spine-project",
          "IDAES",
          "openENTRANCE",
          "GMLC-TDC",
          "AntaresSimulatorTeam",
          "bje-",
          "UNSW-CEEM",
          "balmorelcommunity",
          "com-pas",
          "PowerGenome",
          "IIT-EnergySystemModels",
          "Virtual-FCS",
          "sandialabs",
          "battery-lcf",
          "BattMoTeam",
          "epri-dev",
          "davidhowey",
          "snl-quest",
          "TRI-AMDD",
          "jepegit",
          "ECSHackWeek",
          "BioSTEAMDevelopmentGroup",
          "waiwera",
          "CalebBell",
          "lanl",
          "mdolab",
          "openchargemap",
          "andig",
          "Bioverse-Labs",
          "pinskylab",
          "alan-turing-institute",
          "traitecoevo",
          "ajwdewit",
          "iobis",
          "allisonhorst",
          "openplantpathology",
          "bullocke",
          "NOAA-EDAB",
          "VIAME",
          "CornellLabofOrnithology",
          "ghislainv",
          "NGEET",
          "danforthcenter",
          "sollano",
          "ltrr-arizona-edu",
          "woodcrafty",
          "WSWUP",
          "Jean-Romain",
          "globalbioticinteractions",
          "tiagodc",
          "forc-db",
          "openforis",
          "MetOffice",
          "umr-amap",
          "santiago-sanitation-systems",
          "wimlds-trojmiasto",
          "marine-debris",
          "TheOceanCleanupAlgorithms",
          "jbferet",
          "protect-earth",
          "RWTH-i5-IDSG",
          "carlos-alberto-silva",
          "dankelley",
          "team-ocean",
          "SciTools",
          "hainegroup",
          "OpenDrift",
          "nsidc",
          "cryotools",
          "krisrs1128",
          "icesat2py",
          "ECCO-GROUP",
          "PennyHow",
          "GEUS-PROMICE",
          "vannizhang",
          "fspaolo",
          "pism",
          "OGGM",
          "smrt-model",
          "mapme-initiative",
          "usa-npn",
          "eco-hydro",
          "BioPAL",
          "earthlab",
          "andrew-plowright",
          "Greenstand",
          "bi0m3trics",
          "WildMeOrg",
          "inaturalist",
          "MAAP-Project",
          "technologiestiftung",
          "NASA-IMPACT",
          "WWF-Deutschland",
          "OpenLitterMap",
          "circularfashion",
          "OpenModelica",
          "transitland",
          "streetmix",
          "EVerest",
          "enviroCar",
          "andmos",
          "SAP",
          "johan12345",
          "bikeindex",
          "NABSA",
          "gsoh",
          "jrester",
          "d-wasserman",
          "ATFutures",
          "goat-community",
          "ITSLeeds",
          "OpenChargingCloud",
          "eskerda",
          "PierrickP",
          "ubahnverleih",
          "LBNL-UCB-STI",
          "upb-lea",
          "cyclosm",
          "systragroup",
          "schildbach",
          "BlinkTagInc",
          "OneBusAway",
          "grote",
          "V2GClarity",
          "greensoftwarelab",
          "hubblo-org",
          "patch-technology",
          "GEOSX",
          "pedropro",
          "QSD-Group",
          "oie-mines-paristech",
          "GreenDelta",
          "brightway-lca",
          "ICOS-Carbon-Portal",
          "Ribbit-Network",
          "CMU-CREATE-Lab",
          "arbrandt",
          "quishqa",
          "emissions-api",
          "dataforgoodfr",
          "hsbay",
          "CCSI-Toolset",
          "Organic-Basics",
          "GranthamImperial",
          "Boavizta",
          "climatiq",
          "kansoapp",
          "carbonalyser",
          "NMF-earth",
          "jawache",
          "sustainable-computing-io",
          "cnumr",
          "kube-green",
          "dos-group",
          "GoogleCloudPlatform",
          "cloud-carbon-footprint",
          "raoulcollenteur"
         ],
         "yaxis": "y"
        }
       ],
       "layout": {
        "barmode": "relative",
        "height": 800,
        "legend": {
         "title": {
          "text": "variable"
         },
         "tracegroupgap": 0
        },
        "margin": {
         "t": 60
        },
        "paper_bgcolor": "lightgray",
        "showlegend": false,
        "template": {
         "data": {
          "bar": [
           {
            "error_x": {
             "color": "#2a3f5f"
            },
            "error_y": {
             "color": "#2a3f5f"
            },
            "marker": {
             "line": {
              "color": "#E5ECF6",
              "width": 0.5
             },
             "pattern": {
              "fillmode": "overlay",
              "size": 10,
              "solidity": 0.2
             }
            },
            "type": "bar"
           }
          ],
          "barpolar": [
           {
            "marker": {
             "line": {
              "color": "#E5ECF6",
              "width": 0.5
             },
             "pattern": {
              "fillmode": "overlay",
              "size": 10,
              "solidity": 0.2
             }
            },
            "type": "barpolar"
           }
          ],
          "carpet": [
           {
            "aaxis": {
             "endlinecolor": "#2a3f5f",
             "gridcolor": "white",
             "linecolor": "white",
             "minorgridcolor": "white",
             "startlinecolor": "#2a3f5f"
            },
            "baxis": {
             "endlinecolor": "#2a3f5f",
             "gridcolor": "white",
             "linecolor": "white",
             "minorgridcolor": "white",
             "startlinecolor": "#2a3f5f"
            },
            "type": "carpet"
           }
          ],
          "choropleth": [
           {
            "colorbar": {
             "outlinewidth": 0,
             "ticks": ""
            },
            "type": "choropleth"
           }
          ],
          "contour": [
           {
            "colorbar": {
             "outlinewidth": 0,
             "ticks": ""
            },
            "colorscale": [
             [
              0,
              "#0d0887"
             ],
             [
              0.1111111111111111,
              "#46039f"
             ],
             [
              0.2222222222222222,
              "#7201a8"
             ],
             [
              0.3333333333333333,
              "#9c179e"
             ],
             [
              0.4444444444444444,
              "#bd3786"
             ],
             [
              0.5555555555555556,
              "#d8576b"
             ],
             [
              0.6666666666666666,
              "#ed7953"
             ],
             [
              0.7777777777777778,
              "#fb9f3a"
             ],
             [
              0.8888888888888888,
              "#fdca26"
             ],
             [
              1,
              "#f0f921"
             ]
            ],
            "type": "contour"
           }
          ],
          "contourcarpet": [
           {
            "colorbar": {
             "outlinewidth": 0,
             "ticks": ""
            },
            "type": "contourcarpet"
           }
          ],
          "heatmap": [
           {
            "colorbar": {
             "outlinewidth": 0,
             "ticks": ""
            },
            "colorscale": [
             [
              0,
              "#0d0887"
             ],
             [
              0.1111111111111111,
              "#46039f"
             ],
             [
              0.2222222222222222,
              "#7201a8"
             ],
             [
              0.3333333333333333,
              "#9c179e"
             ],
             [
              0.4444444444444444,
              "#bd3786"
             ],
             [
              0.5555555555555556,
              "#d8576b"
             ],
             [
              0.6666666666666666,
              "#ed7953"
             ],
             [
              0.7777777777777778,
              "#fb9f3a"
             ],
             [
              0.8888888888888888,
              "#fdca26"
             ],
             [
              1,
              "#f0f921"
             ]
            ],
            "type": "heatmap"
           }
          ],
          "heatmapgl": [
           {
            "colorbar": {
             "outlinewidth": 0,
             "ticks": ""
            },
            "colorscale": [
             [
              0,
              "#0d0887"
             ],
             [
              0.1111111111111111,
              "#46039f"
             ],
             [
              0.2222222222222222,
              "#7201a8"
             ],
             [
              0.3333333333333333,
              "#9c179e"
             ],
             [
              0.4444444444444444,
              "#bd3786"
             ],
             [
              0.5555555555555556,
              "#d8576b"
             ],
             [
              0.6666666666666666,
              "#ed7953"
             ],
             [
              0.7777777777777778,
              "#fb9f3a"
             ],
             [
              0.8888888888888888,
              "#fdca26"
             ],
             [
              1,
              "#f0f921"
             ]
            ],
            "type": "heatmapgl"
           }
          ],
          "histogram": [
           {
            "marker": {
             "pattern": {
              "fillmode": "overlay",
              "size": 10,
              "solidity": 0.2
             }
            },
            "type": "histogram"
           }
          ],
          "histogram2d": [
           {
            "colorbar": {
             "outlinewidth": 0,
             "ticks": ""
            },
            "colorscale": [
             [
              0,
              "#0d0887"
             ],
             [
              0.1111111111111111,
              "#46039f"
             ],
             [
              0.2222222222222222,
              "#7201a8"
             ],
             [
              0.3333333333333333,
              "#9c179e"
             ],
             [
              0.4444444444444444,
              "#bd3786"
             ],
             [
              0.5555555555555556,
              "#d8576b"
             ],
             [
              0.6666666666666666,
              "#ed7953"
             ],
             [
              0.7777777777777778,
              "#fb9f3a"
             ],
             [
              0.8888888888888888,
              "#fdca26"
             ],
             [
              1,
              "#f0f921"
             ]
            ],
            "type": "histogram2d"
           }
          ],
          "histogram2dcontour": [
           {
            "colorbar": {
             "outlinewidth": 0,
             "ticks": ""
            },
            "colorscale": [
             [
              0,
              "#0d0887"
             ],
             [
              0.1111111111111111,
              "#46039f"
             ],
             [
              0.2222222222222222,
              "#7201a8"
             ],
             [
              0.3333333333333333,
              "#9c179e"
             ],
             [
              0.4444444444444444,
              "#bd3786"
             ],
             [
              0.5555555555555556,
              "#d8576b"
             ],
             [
              0.6666666666666666,
              "#ed7953"
             ],
             [
              0.7777777777777778,
              "#fb9f3a"
             ],
             [
              0.8888888888888888,
              "#fdca26"
             ],
             [
              1,
              "#f0f921"
             ]
            ],
            "type": "histogram2dcontour"
           }
          ],
          "mesh3d": [
           {
            "colorbar": {
             "outlinewidth": 0,
             "ticks": ""
            },
            "type": "mesh3d"
           }
          ],
          "parcoords": [
           {
            "line": {
             "colorbar": {
              "outlinewidth": 0,
              "ticks": ""
             }
            },
            "type": "parcoords"
           }
          ],
          "pie": [
           {
            "automargin": true,
            "type": "pie"
           }
          ],
          "scatter": [
           {
            "marker": {
             "colorbar": {
              "outlinewidth": 0,
              "ticks": ""
             }
            },
            "type": "scatter"
           }
          ],
          "scatter3d": [
           {
            "line": {
             "colorbar": {
              "outlinewidth": 0,
              "ticks": ""
             }
            },
            "marker": {
             "colorbar": {
              "outlinewidth": 0,
              "ticks": ""
             }
            },
            "type": "scatter3d"
           }
          ],
          "scattercarpet": [
           {
            "marker": {
             "colorbar": {
              "outlinewidth": 0,
              "ticks": ""
             }
            },
            "type": "scattercarpet"
           }
          ],
          "scattergeo": [
           {
            "marker": {
             "colorbar": {
              "outlinewidth": 0,
              "ticks": ""
             }
            },
            "type": "scattergeo"
           }
          ],
          "scattergl": [
           {
            "marker": {
             "colorbar": {
              "outlinewidth": 0,
              "ticks": ""
             }
            },
            "type": "scattergl"
           }
          ],
          "scattermapbox": [
           {
            "marker": {
             "colorbar": {
              "outlinewidth": 0,
              "ticks": ""
             }
            },
            "type": "scattermapbox"
           }
          ],
          "scatterpolar": [
           {
            "marker": {
             "colorbar": {
              "outlinewidth": 0,
              "ticks": ""
             }
            },
            "type": "scatterpolar"
           }
          ],
          "scatterpolargl": [
           {
            "marker": {
             "colorbar": {
              "outlinewidth": 0,
              "ticks": ""
             }
            },
            "type": "scatterpolargl"
           }
          ],
          "scatterternary": [
           {
            "marker": {
             "colorbar": {
              "outlinewidth": 0,
              "ticks": ""
             }
            },
            "type": "scatterternary"
           }
          ],
          "surface": [
           {
            "colorbar": {
             "outlinewidth": 0,
             "ticks": ""
            },
            "colorscale": [
             [
              0,
              "#0d0887"
             ],
             [
              0.1111111111111111,
              "#46039f"
             ],
             [
              0.2222222222222222,
              "#7201a8"
             ],
             [
              0.3333333333333333,
              "#9c179e"
             ],
             [
              0.4444444444444444,
              "#bd3786"
             ],
             [
              0.5555555555555556,
              "#d8576b"
             ],
             [
              0.6666666666666666,
              "#ed7953"
             ],
             [
              0.7777777777777778,
              "#fb9f3a"
             ],
             [
              0.8888888888888888,
              "#fdca26"
             ],
             [
              1,
              "#f0f921"
             ]
            ],
            "type": "surface"
           }
          ],
          "table": [
           {
            "cells": {
             "fill": {
              "color": "#EBF0F8"
             },
             "line": {
              "color": "white"
             }
            },
            "header": {
             "fill": {
              "color": "#C8D4E3"
             },
             "line": {
              "color": "white"
             }
            },
            "type": "table"
           }
          ]
         },
         "layout": {
          "annotationdefaults": {
           "arrowcolor": "#2a3f5f",
           "arrowhead": 0,
           "arrowwidth": 1
          },
          "autotypenumbers": "strict",
          "coloraxis": {
           "colorbar": {
            "outlinewidth": 0,
            "ticks": ""
           }
          },
          "colorscale": {
           "diverging": [
            [
             0,
             "#8e0152"
            ],
            [
             0.1,
             "#c51b7d"
            ],
            [
             0.2,
             "#de77ae"
            ],
            [
             0.3,
             "#f1b6da"
            ],
            [
             0.4,
             "#fde0ef"
            ],
            [
             0.5,
             "#f7f7f7"
            ],
            [
             0.6,
             "#e6f5d0"
            ],
            [
             0.7,
             "#b8e186"
            ],
            [
             0.8,
             "#7fbc41"
            ],
            [
             0.9,
             "#4d9221"
            ],
            [
             1,
             "#276419"
            ]
           ],
           "sequential": [
            [
             0,
             "#0d0887"
            ],
            [
             0.1111111111111111,
             "#46039f"
            ],
            [
             0.2222222222222222,
             "#7201a8"
            ],
            [
             0.3333333333333333,
             "#9c179e"
            ],
            [
             0.4444444444444444,
             "#bd3786"
            ],
            [
             0.5555555555555556,
             "#d8576b"
            ],
            [
             0.6666666666666666,
             "#ed7953"
            ],
            [
             0.7777777777777778,
             "#fb9f3a"
            ],
            [
             0.8888888888888888,
             "#fdca26"
            ],
            [
             1,
             "#f0f921"
            ]
           ],
           "sequentialminus": [
            [
             0,
             "#0d0887"
            ],
            [
             0.1111111111111111,
             "#46039f"
            ],
            [
             0.2222222222222222,
             "#7201a8"
            ],
            [
             0.3333333333333333,
             "#9c179e"
            ],
            [
             0.4444444444444444,
             "#bd3786"
            ],
            [
             0.5555555555555556,
             "#d8576b"
            ],
            [
             0.6666666666666666,
             "#ed7953"
            ],
            [
             0.7777777777777778,
             "#fb9f3a"
            ],
            [
             0.8888888888888888,
             "#fdca26"
            ],
            [
             1,
             "#f0f921"
            ]
           ]
          },
          "colorway": [
           "#636efa",
           "#EF553B",
           "#00cc96",
           "#ab63fa",
           "#FFA15A",
           "#19d3f3",
           "#FF6692",
           "#B6E880",
           "#FF97FF",
           "#FECB52"
          ],
          "font": {
           "color": "#2a3f5f"
          },
          "geo": {
           "bgcolor": "white",
           "lakecolor": "white",
           "landcolor": "#E5ECF6",
           "showlakes": true,
           "showland": true,
           "subunitcolor": "white"
          },
          "hoverlabel": {
           "align": "left"
          },
          "hovermode": "closest",
          "mapbox": {
           "style": "light"
          },
          "paper_bgcolor": "white",
          "plot_bgcolor": "#E5ECF6",
          "polar": {
           "angularaxis": {
            "gridcolor": "white",
            "linecolor": "white",
            "ticks": ""
           },
           "bgcolor": "#E5ECF6",
           "radialaxis": {
            "gridcolor": "white",
            "linecolor": "white",
            "ticks": ""
           }
          },
          "scene": {
           "xaxis": {
            "backgroundcolor": "#E5ECF6",
            "gridcolor": "white",
            "gridwidth": 2,
            "linecolor": "white",
            "showbackground": true,
            "ticks": "",
            "zerolinecolor": "white"
           },
           "yaxis": {
            "backgroundcolor": "#E5ECF6",
            "gridcolor": "white",
            "gridwidth": 2,
            "linecolor": "white",
            "showbackground": true,
            "ticks": "",
            "zerolinecolor": "white"
           },
           "zaxis": {
            "backgroundcolor": "#E5ECF6",
            "gridcolor": "white",
            "gridwidth": 2,
            "linecolor": "white",
            "showbackground": true,
            "ticks": "",
            "zerolinecolor": "white"
           }
          },
          "shapedefaults": {
           "line": {
            "color": "#2a3f5f"
           }
          },
          "ternary": {
           "aaxis": {
            "gridcolor": "white",
            "linecolor": "white",
            "ticks": ""
           },
           "baxis": {
            "gridcolor": "white",
            "linecolor": "white",
            "ticks": ""
           },
           "bgcolor": "#E5ECF6",
           "caxis": {
            "gridcolor": "white",
            "linecolor": "white",
            "ticks": ""
           }
          },
          "title": {
           "x": 0.05
          },
          "xaxis": {
           "automargin": true,
           "gridcolor": "white",
           "linecolor": "white",
           "ticks": "",
           "title": {
            "standoff": 15
           },
           "zerolinecolor": "white",
           "zerolinewidth": 2
          },
          "yaxis": {
           "automargin": true,
           "gridcolor": "white",
           "linecolor": "white",
           "ticks": "",
           "title": {
            "standoff": 15
           },
           "zerolinecolor": "white",
           "zerolinewidth": 2
          }
         }
        },
        "xaxis": {
         "anchor": "y",
         "domain": [
          0,
          1
         ],
         "title": {
          "text": "value"
         }
        },
        "yaxis": {
         "anchor": "x",
         "domain": [
          0,
          1
         ],
         "range": [
          -0.5,
          40
         ],
         "title": {
          "text": "index"
         }
        }
       }
      },
      "text/html": [
       "<div>                            <div id=\"9f4294a5-629a-4621-986c-24db02685160\" class=\"plotly-graph-div\" style=\"height:800px; width:100%;\"></div>            <script type=\"text/javascript\">                require([\"plotly\"], function(Plotly) {                    window.PLOTLYENV=window.PLOTLYENV || {};                                    if (document.getElementById(\"9f4294a5-629a-4621-986c-24db02685160\")) {                    Plotly.newPlot(                        \"9f4294a5-629a-4621-986c-24db02685160\",                        [{\"alignmentgroup\":\"True\",\"hovertemplate\":\"variable=git_namespace<br>value=%{x}<br>index=%{y}<extra></extra>\",\"legendgroup\":\"git_namespace\",\"marker\":{\"color\":\"#636efa\",\"pattern\":{\"shape\":\"\"}},\"name\":\"git_namespace\",\"offsetgroup\":\"git_namespace\",\"orientation\":\"h\",\"showlegend\":true,\"textposition\":\"auto\",\"type\":\"bar\",\"x\":[22,20,7,6,5,5,5,5,5,5,5,5,4,4,4,4,4,4,4,4,4,3,3,3,3,3,3,3,3,3,3,3,2,2,2,2,2,2,2,2,2,2,2,2,2,2,2,2,2,2,2,2,2,2,2,2,2,2,2,2,2,2,2,2,2,2,2,2,2,2,2,2,2,2,2,2,2,2,2,2,2,2,2,2,2,2,2,2,2,2,2,2,2,2,2,2,2,2,2,2,2,2,1,1,1,1,1,1,1,1,1,1,1,1,1,1,1,1,1,1,1,1,1,1,1,1,1,1,1,1,1,1,1,1,1,1,1,1,1,1,1,1,1,1,1,1,1,1,1,1,1,1,1,1,1,1,1,1,1,1,1,1,1,1,1,1,1,1,1,1,1,1,1,1,1,1,1,1,1,1,1,1,1,1,1,1,1,1,1,1,1,1,1,1,1,1,1,1,1,1,1,1,1,1,1,1,1,1,1,1,1,1,1,1,1,1,1,1,1,1,1,1,1,1,1,1,1,1,1,1,1,1,1,1,1,1,1,1,1,1,1,1,1,1,1,1,1,1,1,1,1,1,1,1,1,1,1,1,1,1,1,1,1,1,1,1,1,1,1,1,1,1,1,1,1,1,1,1,1,1,1,1,1,1,1,1,1,1,1,1,1,1,1,1,1,1,1,1,1,1,1,1,1,1,1,1,1,1,1,1,1,1,1,1,1,1,1,1,1,1,1,1,1,1,1,1,1,1,1,1,1,1,1,1,1,1,1,1,1,1,1,1,1,1,1,1,1,1,1,1,1,1,1,1,1,1,1,1,1,1,1,1,1,1,1,1,1,1,1,1,1,1,1,1,1,1,1,1,1,1,1,1,1,1,1,1,1,1,1,1,1,1,1,1,1,1,1,1,1,1,1,1,1,1,1,1,1,1,1,1,1,1,1,1,1,1,1,1,1,1,1,1,1,1,1,1,1,1,1,1,1,1,1,1,1,1,1,1,1,1,1,1,1,1,1,1,1,1,1,1,1,1,1,1,1,1,1,1,1,1,1,1,1,1,1,1,1,1,1,1,1,1,1,1,1,1,1,1,1,1,1,1,1,1,1,1,1,1,1,1,1,1,1,1,1,1,1,1,1,1,1,1,1,1,1,1,1,1,1,1,1,1,1,1,1,1,1,1,1,1,1,1,1,1,1,1,1,1,1,1,1,1,1,1,1,1,1,1,1,1,1,1,1,1,1,1,1,1,1,1,1,1,1,1,1,1,1,1,1,1,1,1,1,1,1,1,1,1,1,1,1,1,1,1,1,1,1,1,1,1,1,1,1,1,1,1,1,1,1,1,1,1,1,1,1,1,1],\"xaxis\":\"x\",\"y\":[\"NREL\",\"ropensci\",\"oemof\",\"USEPA\",\"NCAR\",\"PyPSA\",\"ecmwf\",\"bcgov\",\"USGS-R\",\"WISDEM\",\"slacgismo\",\"CliMA\",\"NREL-SIIP\",\"JGCRI\",\"NOAA-GFDL\",\"SantanderMetGroup\",\"lanl-ansi\",\"ncss-tech\",\"owid\",\"openclimatefix\",\"FZJ-IEK3-VSA\",\"wri\",\"weecology\",\"NOAA-OWP\",\"sentinel-hub\",\"CenterForTheBuiltEnvironment\",\"OpenEnergyPlatform\",\"lbl-srg\",\"ECSIM\",\"carbonplan\",\"microsoft\",\"TUW-GEO\",\"Ifsttar\",\"rl-institut\",\"openaq\",\"metno\",\"nco\",\"nasa\",\"powerapi-ng\",\"DrafProject\",\"OpenWaterAnalytics\",\"google\",\"NewMotion\",\"volkszaehler\",\"ibpsa\",\"kylemcdonald\",\"RWTH-EBC\",\"OSUKED\",\"ConservationInternational\",\"RAMP-project\",\"Breakthrough-Energy\",\"quintel\",\"thegreenwebfoundation\",\"uataq\",\"Green-Software-Foundation\",\"esowc\",\"Mohid-Water-Modelling-System\",\"NorESMhub\",\"Ouranosinc\",\"weiji14\",\"CICE-Consortium\",\"ESIPFed\",\"UW-Hydro\",\"SunPower\",\"OasisLMF\",\"Plant-for-the-Planet-org\",\"slcs-jsc\",\"bluegreen-labs\",\"prioritizr\",\"JuliaOcean\",\"geoschem\",\"mlco2\",\"pyronear\",\"E3SM-Project\",\"pangeo-data\",\"ESCOMP\",\"JuliaClimate\",\"MPAS-Dev\",\"Vizzuality\",\"romainsacchi\",\"atmoschem\",\"SERVIR\",\"openclimatedata\",\"Unidata\",\"opentaps\",\"milankl\",\"powsybl\",\"pvlib\",\"tum-ens\",\"qpv-research-group\",\"energy-modelling-toolkit\",\"rte-antares-rpackage\",\"rOpenGov\",\"TemoaProject\",\"Exawind\",\"ie3-institute\",\"PecanProject\",\"LibreSolar\",\"calliope-project\",\"ADGEfficiency\",\"pybamm-team\",\"e2nIEE\",\"opengeospatial\",\"GIS4WRF\",\"gaelforget\",\"piersyork\",\"fnemina\",\"ladybug-tools\",\"csdms\",\"chrisroadmap\",\"csyhuang\",\"ClimateMARGO\",\"esmf-org\",\"CLIMADA-project\",\"OMS-NetZero\",\"climlab\",\"mom-ocean\",\"digitalearthafrica\",\"monocongo\",\"ESGF\",\"LBL-EESA\",\"Open-EO\",\"mysociety\",\"betolink\",\"resource-watch\",\"JokeNetwork\",\"xgcm\",\"dalesteam\",\"ProjectDrawdown\",\"NCAS-CMS\",\"EnvironmentOntology\",\"cf-convention\",\"earthobservations\",\"EnviroDIY\",\"brry\",\"bczernecki\",\"climate-strike\",\"eliocamp\",\"regen-network\",\"open-meteo\",\"pytroll\",\"ubilabs\",\"stripe\",\"tenstream\",\"usds\",\"DPGAlliance\",\"eradiate\",\"eea\",\"AER-RC\",\"earth-system-radiation\",\"robintw\",\"atmtools\",\"radiantearth\",\"RadiativeTransfer\",\"brazil-data-cube\",\"NOAA-EMC\",\"GClunies\",\"euroargodev\",\"aqualinkorg\",\"nglgzz\",\"sdl60660\",\"parflow\",\"Deltares\",\"cheginit\",\"philsturgeon\",\"FLARE-forecast\",\"cordmaur\",\"COSIMA\",\"softwareunderground\",\"jonschwenk\",\"RHESSys\",\"jpgattuso\",\"passaH2O\",\"DrylandEcology\",\"hydroshare\",\"UU-Hydro\",\"wenhwu\",\"samapriya\",\"ESMG\",\"gotm-model\",\"APA-Technology-Division\",\"OceanParcels\",\"beijbom\",\"eWaterCycle\",\"mvdh7\",\"ESMValGroup\",\"rich-iannone\",\"wpgp\",\"orbisgis\",\"stac-utils\",\"GralDispersionModel\",\"openeemeter\",\"oceanflux-ghg\",\"ExeClim\",\"MatMatt\",\"Open-MSS\",\"CNES\",\"JuliaDataCubes\",\"simonom\",\"kapadia\",\"pastas\",\"16EAGLE\",\"pogopaule\",\"davemlz\",\"CUTR-at-USF\",\"timduly4\",\"danwild\",\"Climdyn\",\"chrisleaman\",\"badlands-model\",\"brycejohnston\",\"IrishMarineInstitute\",\"awesome-cryosphere\",\"xCDAT\",\"pik-primap\",\"meteostat\",\"pySTEPS\",\"geocryology\",\"felixriese\",\"OpenFLUID\",\"International-Soil-Radiocarbon-Database\",\"global-hydrodynamics\",\"hectornieto\",\"cloudtostreet\",\"sbegueria\",\"Open-ET\",\"usbr\",\"brunomioto\",\"ec-jrc\",\"ed-hawkins\",\"Christiaanvandertol\",\"NRCan\",\"USGS-python\",\"neuralhydrology\",\"OSOceanAcoustics\",\"pcraster\",\"Servir-Mekong\",\"modflowpy\",\"CSHS-CWRA\",\"CriticalAssetManagement\",\"jnsebgosselin\",\"open-sdg\",\"UMN-Hydro\",\"r-spatialecology\",\"martibosch\",\"pygsflow\",\"sizespectrum\",\"maja601\",\"hollorol\",\"r4ss\",\"WFP-VAM\",\"Shyentist\",\"Growstuff\",\"openfoodfacts\",\"kazulagi\",\"openfoodfoundation\",\"karrot-dev\",\"spaceml-org\",\"CarrKnight\",\"droglenc\",\"eMapR\",\"ss3sim\",\"kwstat\",\"openfarmcc\",\"APSIMInitiative\",\"AgroCares\",\"magpiemodel\",\"DSSAT\",\"techmatters\",\"landlab\",\"e-sensing\",\"SoilWatch\",\"moja-global\",\"sustainlab-group\",\"WikiWatershed\",\"meteoinfo\",\"CCI-Tools\",\"mathworks\",\"OFBDABV\",\"mikejohnson51\",\"fund-model\",\"boshek\",\"h5netcdf\",\"intake\",\"ideas-lab-nus\",\"cortinah\",\"xarray-contrib\",\"PCMDI\",\"rOpenSpain\",\"os-climate\",\"IAMconsortium\",\"ARCCSS-extremes\",\"roocs\",\"deepsphere\",\"cerfacs-globc\",\"IPCC-WG1\",\"wikirate\",\"openscm\",\"ClimateWatch-Vizzuality\",\"aaronspring\",\"lf-energy\",\"nasaharvest\",\"VeruGHub\",\"Libbum\",\"shootismoke\",\"NOAA-ORR-ERD\",\"natcap\",\"geodynamics\",\"toogad\",\"qgep\",\"GSA\",\"RAJohansen\",\"ARPA-SIMC\",\"jblindsay\",\"mdbartos\",\"MODFLOW-USGS\",\"jsta\",\"AquaticEcoDynamics\",\"MITgcm\",\"Milind220\",\"jsynowiec\",\"skgrange\",\"sensebox\",\"opendata-stuttgart\",\"openoakland\",\"Safecast\",\"shawnwang-tech\",\"remindmodel\",\"spatialmodel\",\"CEMPD\",\"2DegreesInvesting\",\"davidcarslaw\",\"HabitatMap\",\"mroberge\",\"SKrisanski\",\"robwschlegel\",\"tmrowco\",\"opennem\",\"robinhenry\",\"Total-RD\",\"gridsingularity\",\"energywebfoundation\",\"SanPen\",\"JuliaEnergy\",\"GridMod\",\"openego\",\"rte-france\",\"OSGP\",\"grid-parity-exchange\",\"SeitaBV\",\"emoncms\",\"openenergymonitor\",\"Energy-Sparks\",\"opfab\",\"OpenEMS\",\"Matt-Brigida\",\"OpenSTEF\",\"Energy-Innovation\",\"Thales1330\",\"dpinney\",\"EnergyTransition\",\"cuihantao\",\"blue-marble\",\"iiasa\",\"IBM\",\"intelligent-environments-lab\",\"catalyst-cooperative\",\"EnergieID\",\"energyRt\",\"FRESNA\",\"openmobilityfoundation\",\"CanalTP\",\"OpenEVSE\",\"lincomatic\",\"diowa\",\"EVNotify\",\"coopcycle\",\"maasglobal\",\"mobilityhouse\",\"bigladder\",\"ecmwf-projects\",\"RE-Lab-Projects\",\"nilmtk\",\"BrickSchema\",\"hongyuanjia\",\"dsmrreader\",\"TEB-model\",\"UdK-VPT\",\"architecture-building-systems\",\"open-ideas\",\"EcotopeResearch\",\"SEED-platform\",\"VOLTTRON\",\"hpxmlwg\",\"systemcatch\",\"DemandRegioTeam\",\"m4rz910\",\"thomastu\",\"cristianst85\",\"OnSSET\",\"MATPOWER\",\"DFO-Ocean-Navigator\",\"mancellin\",\"WEC-Sim\",\"simulatino\",\"MHKiT-Software\",\"SNL-WaterPower\",\"ebranlard\",\"brightwind-dev\",\"YingyiLiu\",\"ImperialCollegeLondon\",\"python-windrose\",\"audunarn\",\"nmstreethran\",\"signals-dev\",\"OpenMDAO\",\"OpenFAST\",\"turbinesFoam\",\"wind-python\",\"IEAWindTask37\",\"Lkruitwagen\",\"SolarArbiter\",\"pingswept\",\"BreakingBytes\",\"iat-cener\",\"WMD-group\",\"PerovskiteSCModelling\",\"meltaxa\",\"SolarTherm\",\"squishykid\",\"tdcosim\",\"pvedu\",\"BEMRosetta\",\"MassimoCimmino\",\"GenXProject\",\"wouterpeere\",\"pypsa-meets-africa\",\"sogno-platform\",\"leonardgoeke\",\"reegis\",\"Spine-project\",\"IDAES\",\"openENTRANCE\",\"GMLC-TDC\",\"AntaresSimulatorTeam\",\"bje-\",\"UNSW-CEEM\",\"balmorelcommunity\",\"com-pas\",\"PowerGenome\",\"IIT-EnergySystemModels\",\"Virtual-FCS\",\"sandialabs\",\"battery-lcf\",\"BattMoTeam\",\"epri-dev\",\"davidhowey\",\"snl-quest\",\"TRI-AMDD\",\"jepegit\",\"ECSHackWeek\",\"BioSTEAMDevelopmentGroup\",\"waiwera\",\"CalebBell\",\"lanl\",\"mdolab\",\"openchargemap\",\"andig\",\"Bioverse-Labs\",\"pinskylab\",\"alan-turing-institute\",\"traitecoevo\",\"ajwdewit\",\"iobis\",\"allisonhorst\",\"openplantpathology\",\"bullocke\",\"NOAA-EDAB\",\"VIAME\",\"CornellLabofOrnithology\",\"ghislainv\",\"NGEET\",\"danforthcenter\",\"sollano\",\"ltrr-arizona-edu\",\"woodcrafty\",\"WSWUP\",\"Jean-Romain\",\"globalbioticinteractions\",\"tiagodc\",\"forc-db\",\"openforis\",\"MetOffice\",\"umr-amap\",\"santiago-sanitation-systems\",\"wimlds-trojmiasto\",\"marine-debris\",\"TheOceanCleanupAlgorithms\",\"jbferet\",\"protect-earth\",\"RWTH-i5-IDSG\",\"carlos-alberto-silva\",\"dankelley\",\"team-ocean\",\"SciTools\",\"hainegroup\",\"OpenDrift\",\"nsidc\",\"cryotools\",\"krisrs1128\",\"icesat2py\",\"ECCO-GROUP\",\"PennyHow\",\"GEUS-PROMICE\",\"vannizhang\",\"fspaolo\",\"pism\",\"OGGM\",\"smrt-model\",\"mapme-initiative\",\"usa-npn\",\"eco-hydro\",\"BioPAL\",\"earthlab\",\"andrew-plowright\",\"Greenstand\",\"bi0m3trics\",\"WildMeOrg\",\"inaturalist\",\"MAAP-Project\",\"technologiestiftung\",\"NASA-IMPACT\",\"WWF-Deutschland\",\"OpenLitterMap\",\"circularfashion\",\"OpenModelica\",\"transitland\",\"streetmix\",\"EVerest\",\"enviroCar\",\"andmos\",\"SAP\",\"johan12345\",\"bikeindex\",\"NABSA\",\"gsoh\",\"jrester\",\"d-wasserman\",\"ATFutures\",\"goat-community\",\"ITSLeeds\",\"OpenChargingCloud\",\"eskerda\",\"PierrickP\",\"ubahnverleih\",\"LBNL-UCB-STI\",\"upb-lea\",\"cyclosm\",\"systragroup\",\"schildbach\",\"BlinkTagInc\",\"OneBusAway\",\"grote\",\"V2GClarity\",\"greensoftwarelab\",\"hubblo-org\",\"patch-technology\",\"GEOSX\",\"pedropro\",\"QSD-Group\",\"oie-mines-paristech\",\"GreenDelta\",\"brightway-lca\",\"ICOS-Carbon-Portal\",\"Ribbit-Network\",\"CMU-CREATE-Lab\",\"arbrandt\",\"quishqa\",\"emissions-api\",\"dataforgoodfr\",\"hsbay\",\"CCSI-Toolset\",\"Organic-Basics\",\"GranthamImperial\",\"Boavizta\",\"climatiq\",\"kansoapp\",\"carbonalyser\",\"NMF-earth\",\"jawache\",\"sustainable-computing-io\",\"cnumr\",\"kube-green\",\"dos-group\",\"GoogleCloudPlatform\",\"cloud-carbon-footprint\",\"raoulcollenteur\"],\"yaxis\":\"y\"}],                        {\"barmode\":\"relative\",\"height\":800,\"legend\":{\"title\":{\"text\":\"variable\"},\"tracegroupgap\":0},\"margin\":{\"t\":60},\"paper_bgcolor\":\"lightgray\",\"showlegend\":false,\"template\":{\"data\":{\"bar\":[{\"error_x\":{\"color\":\"#2a3f5f\"},\"error_y\":{\"color\":\"#2a3f5f\"},\"marker\":{\"line\":{\"color\":\"#E5ECF6\",\"width\":0.5},\"pattern\":{\"fillmode\":\"overlay\",\"size\":10,\"solidity\":0.2}},\"type\":\"bar\"}],\"barpolar\":[{\"marker\":{\"line\":{\"color\":\"#E5ECF6\",\"width\":0.5},\"pattern\":{\"fillmode\":\"overlay\",\"size\":10,\"solidity\":0.2}},\"type\":\"barpolar\"}],\"carpet\":[{\"aaxis\":{\"endlinecolor\":\"#2a3f5f\",\"gridcolor\":\"white\",\"linecolor\":\"white\",\"minorgridcolor\":\"white\",\"startlinecolor\":\"#2a3f5f\"},\"baxis\":{\"endlinecolor\":\"#2a3f5f\",\"gridcolor\":\"white\",\"linecolor\":\"white\",\"minorgridcolor\":\"white\",\"startlinecolor\":\"#2a3f5f\"},\"type\":\"carpet\"}],\"choropleth\":[{\"colorbar\":{\"outlinewidth\":0,\"ticks\":\"\"},\"type\":\"choropleth\"}],\"contour\":[{\"colorbar\":{\"outlinewidth\":0,\"ticks\":\"\"},\"colorscale\":[[0.0,\"#0d0887\"],[0.1111111111111111,\"#46039f\"],[0.2222222222222222,\"#7201a8\"],[0.3333333333333333,\"#9c179e\"],[0.4444444444444444,\"#bd3786\"],[0.5555555555555556,\"#d8576b\"],[0.6666666666666666,\"#ed7953\"],[0.7777777777777778,\"#fb9f3a\"],[0.8888888888888888,\"#fdca26\"],[1.0,\"#f0f921\"]],\"type\":\"contour\"}],\"contourcarpet\":[{\"colorbar\":{\"outlinewidth\":0,\"ticks\":\"\"},\"type\":\"contourcarpet\"}],\"heatmap\":[{\"colorbar\":{\"outlinewidth\":0,\"ticks\":\"\"},\"colorscale\":[[0.0,\"#0d0887\"],[0.1111111111111111,\"#46039f\"],[0.2222222222222222,\"#7201a8\"],[0.3333333333333333,\"#9c179e\"],[0.4444444444444444,\"#bd3786\"],[0.5555555555555556,\"#d8576b\"],[0.6666666666666666,\"#ed7953\"],[0.7777777777777778,\"#fb9f3a\"],[0.8888888888888888,\"#fdca26\"],[1.0,\"#f0f921\"]],\"type\":\"heatmap\"}],\"heatmapgl\":[{\"colorbar\":{\"outlinewidth\":0,\"ticks\":\"\"},\"colorscale\":[[0.0,\"#0d0887\"],[0.1111111111111111,\"#46039f\"],[0.2222222222222222,\"#7201a8\"],[0.3333333333333333,\"#9c179e\"],[0.4444444444444444,\"#bd3786\"],[0.5555555555555556,\"#d8576b\"],[0.6666666666666666,\"#ed7953\"],[0.7777777777777778,\"#fb9f3a\"],[0.8888888888888888,\"#fdca26\"],[1.0,\"#f0f921\"]],\"type\":\"heatmapgl\"}],\"histogram\":[{\"marker\":{\"pattern\":{\"fillmode\":\"overlay\",\"size\":10,\"solidity\":0.2}},\"type\":\"histogram\"}],\"histogram2d\":[{\"colorbar\":{\"outlinewidth\":0,\"ticks\":\"\"},\"colorscale\":[[0.0,\"#0d0887\"],[0.1111111111111111,\"#46039f\"],[0.2222222222222222,\"#7201a8\"],[0.3333333333333333,\"#9c179e\"],[0.4444444444444444,\"#bd3786\"],[0.5555555555555556,\"#d8576b\"],[0.6666666666666666,\"#ed7953\"],[0.7777777777777778,\"#fb9f3a\"],[0.8888888888888888,\"#fdca26\"],[1.0,\"#f0f921\"]],\"type\":\"histogram2d\"}],\"histogram2dcontour\":[{\"colorbar\":{\"outlinewidth\":0,\"ticks\":\"\"},\"colorscale\":[[0.0,\"#0d0887\"],[0.1111111111111111,\"#46039f\"],[0.2222222222222222,\"#7201a8\"],[0.3333333333333333,\"#9c179e\"],[0.4444444444444444,\"#bd3786\"],[0.5555555555555556,\"#d8576b\"],[0.6666666666666666,\"#ed7953\"],[0.7777777777777778,\"#fb9f3a\"],[0.8888888888888888,\"#fdca26\"],[1.0,\"#f0f921\"]],\"type\":\"histogram2dcontour\"}],\"mesh3d\":[{\"colorbar\":{\"outlinewidth\":0,\"ticks\":\"\"},\"type\":\"mesh3d\"}],\"parcoords\":[{\"line\":{\"colorbar\":{\"outlinewidth\":0,\"ticks\":\"\"}},\"type\":\"parcoords\"}],\"pie\":[{\"automargin\":true,\"type\":\"pie\"}],\"scatter\":[{\"marker\":{\"colorbar\":{\"outlinewidth\":0,\"ticks\":\"\"}},\"type\":\"scatter\"}],\"scatter3d\":[{\"line\":{\"colorbar\":{\"outlinewidth\":0,\"ticks\":\"\"}},\"marker\":{\"colorbar\":{\"outlinewidth\":0,\"ticks\":\"\"}},\"type\":\"scatter3d\"}],\"scattercarpet\":[{\"marker\":{\"colorbar\":{\"outlinewidth\":0,\"ticks\":\"\"}},\"type\":\"scattercarpet\"}],\"scattergeo\":[{\"marker\":{\"colorbar\":{\"outlinewidth\":0,\"ticks\":\"\"}},\"type\":\"scattergeo\"}],\"scattergl\":[{\"marker\":{\"colorbar\":{\"outlinewidth\":0,\"ticks\":\"\"}},\"type\":\"scattergl\"}],\"scattermapbox\":[{\"marker\":{\"colorbar\":{\"outlinewidth\":0,\"ticks\":\"\"}},\"type\":\"scattermapbox\"}],\"scatterpolar\":[{\"marker\":{\"colorbar\":{\"outlinewidth\":0,\"ticks\":\"\"}},\"type\":\"scatterpolar\"}],\"scatterpolargl\":[{\"marker\":{\"colorbar\":{\"outlinewidth\":0,\"ticks\":\"\"}},\"type\":\"scatterpolargl\"}],\"scatterternary\":[{\"marker\":{\"colorbar\":{\"outlinewidth\":0,\"ticks\":\"\"}},\"type\":\"scatterternary\"}],\"surface\":[{\"colorbar\":{\"outlinewidth\":0,\"ticks\":\"\"},\"colorscale\":[[0.0,\"#0d0887\"],[0.1111111111111111,\"#46039f\"],[0.2222222222222222,\"#7201a8\"],[0.3333333333333333,\"#9c179e\"],[0.4444444444444444,\"#bd3786\"],[0.5555555555555556,\"#d8576b\"],[0.6666666666666666,\"#ed7953\"],[0.7777777777777778,\"#fb9f3a\"],[0.8888888888888888,\"#fdca26\"],[1.0,\"#f0f921\"]],\"type\":\"surface\"}],\"table\":[{\"cells\":{\"fill\":{\"color\":\"#EBF0F8\"},\"line\":{\"color\":\"white\"}},\"header\":{\"fill\":{\"color\":\"#C8D4E3\"},\"line\":{\"color\":\"white\"}},\"type\":\"table\"}]},\"layout\":{\"annotationdefaults\":{\"arrowcolor\":\"#2a3f5f\",\"arrowhead\":0,\"arrowwidth\":1},\"autotypenumbers\":\"strict\",\"coloraxis\":{\"colorbar\":{\"outlinewidth\":0,\"ticks\":\"\"}},\"colorscale\":{\"diverging\":[[0,\"#8e0152\"],[0.1,\"#c51b7d\"],[0.2,\"#de77ae\"],[0.3,\"#f1b6da\"],[0.4,\"#fde0ef\"],[0.5,\"#f7f7f7\"],[0.6,\"#e6f5d0\"],[0.7,\"#b8e186\"],[0.8,\"#7fbc41\"],[0.9,\"#4d9221\"],[1,\"#276419\"]],\"sequential\":[[0.0,\"#0d0887\"],[0.1111111111111111,\"#46039f\"],[0.2222222222222222,\"#7201a8\"],[0.3333333333333333,\"#9c179e\"],[0.4444444444444444,\"#bd3786\"],[0.5555555555555556,\"#d8576b\"],[0.6666666666666666,\"#ed7953\"],[0.7777777777777778,\"#fb9f3a\"],[0.8888888888888888,\"#fdca26\"],[1.0,\"#f0f921\"]],\"sequentialminus\":[[0.0,\"#0d0887\"],[0.1111111111111111,\"#46039f\"],[0.2222222222222222,\"#7201a8\"],[0.3333333333333333,\"#9c179e\"],[0.4444444444444444,\"#bd3786\"],[0.5555555555555556,\"#d8576b\"],[0.6666666666666666,\"#ed7953\"],[0.7777777777777778,\"#fb9f3a\"],[0.8888888888888888,\"#fdca26\"],[1.0,\"#f0f921\"]]},\"colorway\":[\"#636efa\",\"#EF553B\",\"#00cc96\",\"#ab63fa\",\"#FFA15A\",\"#19d3f3\",\"#FF6692\",\"#B6E880\",\"#FF97FF\",\"#FECB52\"],\"font\":{\"color\":\"#2a3f5f\"},\"geo\":{\"bgcolor\":\"white\",\"lakecolor\":\"white\",\"landcolor\":\"#E5ECF6\",\"showlakes\":true,\"showland\":true,\"subunitcolor\":\"white\"},\"hoverlabel\":{\"align\":\"left\"},\"hovermode\":\"closest\",\"mapbox\":{\"style\":\"light\"},\"paper_bgcolor\":\"white\",\"plot_bgcolor\":\"#E5ECF6\",\"polar\":{\"angularaxis\":{\"gridcolor\":\"white\",\"linecolor\":\"white\",\"ticks\":\"\"},\"bgcolor\":\"#E5ECF6\",\"radialaxis\":{\"gridcolor\":\"white\",\"linecolor\":\"white\",\"ticks\":\"\"}},\"scene\":{\"xaxis\":{\"backgroundcolor\":\"#E5ECF6\",\"gridcolor\":\"white\",\"gridwidth\":2,\"linecolor\":\"white\",\"showbackground\":true,\"ticks\":\"\",\"zerolinecolor\":\"white\"},\"yaxis\":{\"backgroundcolor\":\"#E5ECF6\",\"gridcolor\":\"white\",\"gridwidth\":2,\"linecolor\":\"white\",\"showbackground\":true,\"ticks\":\"\",\"zerolinecolor\":\"white\"},\"zaxis\":{\"backgroundcolor\":\"#E5ECF6\",\"gridcolor\":\"white\",\"gridwidth\":2,\"linecolor\":\"white\",\"showbackground\":true,\"ticks\":\"\",\"zerolinecolor\":\"white\"}},\"shapedefaults\":{\"line\":{\"color\":\"#2a3f5f\"}},\"ternary\":{\"aaxis\":{\"gridcolor\":\"white\",\"linecolor\":\"white\",\"ticks\":\"\"},\"baxis\":{\"gridcolor\":\"white\",\"linecolor\":\"white\",\"ticks\":\"\"},\"bgcolor\":\"#E5ECF6\",\"caxis\":{\"gridcolor\":\"white\",\"linecolor\":\"white\",\"ticks\":\"\"}},\"title\":{\"x\":0.05},\"xaxis\":{\"automargin\":true,\"gridcolor\":\"white\",\"linecolor\":\"white\",\"ticks\":\"\",\"title\":{\"standoff\":15},\"zerolinecolor\":\"white\",\"zerolinewidth\":2},\"yaxis\":{\"automargin\":true,\"gridcolor\":\"white\",\"linecolor\":\"white\",\"ticks\":\"\",\"title\":{\"standoff\":15},\"zerolinecolor\":\"white\",\"zerolinewidth\":2}}},\"xaxis\":{\"anchor\":\"y\",\"domain\":[0.0,1.0],\"title\":{\"text\":\"value\"}},\"yaxis\":{\"anchor\":\"x\",\"domain\":[0.0,1.0],\"range\":[-0.5,40],\"title\":{\"text\":\"index\"}}},                        {\"responsive\": true}                    ).then(function(){\n",
       "                            \n",
       "var gd = document.getElementById('9f4294a5-629a-4621-986c-24db02685160');\n",
       "var x = new MutationObserver(function (mutations, observer) {{\n",
       "        var display = window.getComputedStyle(gd).display;\n",
       "        if (!display || display === 'none') {{\n",
       "            console.log([gd, 'removed!']);\n",
       "            Plotly.purge(gd);\n",
       "            observer.disconnect();\n",
       "        }}\n",
       "}});\n",
       "\n",
       "// Listen for the removal of the full notebook cells\n",
       "var notebookContainer = gd.closest('#notebook-container');\n",
       "if (notebookContainer) {{\n",
       "    x.observe(notebookContainer, {childList: true});\n",
       "}}\n",
       "\n",
       "// Listen for the clearing of the current output cell\n",
       "var outputEl = gd.closest('.output');\n",
       "if (outputEl) {{\n",
       "    x.observe(outputEl, {childList: true});\n",
       "}}\n",
       "\n",
       "                        })                };                });            </script>        </div>"
      ]
     },
     "metadata": {},
     "output_type": "display_data"
    }
   ],
   "source": [
    "fig = px.bar(df['git_namespace'].value_counts(ascending=False), range_y=(-0.5,40), orientation='h')\n",
    "\n",
    "fig.update_layout(\n",
    "    paper_bgcolor=\"lightgray\",\n",
    "    height=800,  # Added parameter\n",
    ")\n",
    "\n",
    "fig.update(layout_showlegend=False)"
   ]
  },
  {
   "cell_type": "code",
   "execution_count": 10,
   "metadata": {},
   "outputs": [
    {
     "data": {
      "application/vnd.plotly.v1+json": {
       "config": {
        "plotlyServerURL": "https://plot.ly"
       },
       "data": [
        {
         "alignmentgroup": "True",
         "hovertemplate": "x=%{x}<br>y=%{y}<extra></extra>",
         "legendgroup": "",
         "marker": {
          "color": "#636efa",
          "pattern": {
           "shape": ""
          }
         },
         "name": "",
         "offsetgroup": "",
         "orientation": "h",
         "showlegend": false,
         "textposition": "auto",
         "type": "bar",
         "x": [
          253,
          192,
          185,
          129,
          115,
          111,
          94,
          85,
          83,
          81,
          80,
          79,
          76,
          76,
          72,
          72,
          68,
          68,
          67,
          66,
          66,
          65,
          63,
          63,
          63,
          60,
          60,
          60,
          58,
          56,
          56,
          55,
          55,
          54,
          54,
          53,
          51,
          50,
          49,
          49
         ],
         "xaxis": "x",
         "y": [
          "electricitymap-contrib",
          "SCREAM",
          "openfoodnetwork",
          "Digital Public Goods",
          "openfoodfacts-server",
          "Emoncms",
          "gbfs",
          "EEA geospatial data catalogue",
          "Iris",
          "pybikes",
          "pvlib-python",
          "mobility-data-specification",
          "pangeo",
          "Growstuff",
          "PEcAn",
          "ESMValTool",
          "CoopCycle",
          "OpenModelica",
          "EnergyPlus",
          "Karrot",
          "awesome-transit",
          "Open Smart Grid Platform",
          "VOLTTRON",
          "navitia",
          "MetPy",
          "PowSyBl",
          "ccpp-physics",
          "MOM6",
          "Awesome Open Geoscience",
          "EVCC",
          "MITgcm",
          "AixLib",
          "Cloud Carbon Footprint",
          "Streetmix",
          "Transitland",
          "gwells",
          "OpenFarm",
          "US Sustainable Development Goal indicators",
          "OpenMDAO",
          "flopy"
         ],
         "yaxis": "y"
        }
       ],
       "layout": {
        "barmode": "relative",
        "height": 800,
        "legend": {
         "tracegroupgap": 0
        },
        "margin": {
         "t": 60
        },
        "paper_bgcolor": "lightgray",
        "showlegend": false,
        "template": {
         "data": {
          "bar": [
           {
            "error_x": {
             "color": "#2a3f5f"
            },
            "error_y": {
             "color": "#2a3f5f"
            },
            "marker": {
             "line": {
              "color": "#E5ECF6",
              "width": 0.5
             },
             "pattern": {
              "fillmode": "overlay",
              "size": 10,
              "solidity": 0.2
             }
            },
            "type": "bar"
           }
          ],
          "barpolar": [
           {
            "marker": {
             "line": {
              "color": "#E5ECF6",
              "width": 0.5
             },
             "pattern": {
              "fillmode": "overlay",
              "size": 10,
              "solidity": 0.2
             }
            },
            "type": "barpolar"
           }
          ],
          "carpet": [
           {
            "aaxis": {
             "endlinecolor": "#2a3f5f",
             "gridcolor": "white",
             "linecolor": "white",
             "minorgridcolor": "white",
             "startlinecolor": "#2a3f5f"
            },
            "baxis": {
             "endlinecolor": "#2a3f5f",
             "gridcolor": "white",
             "linecolor": "white",
             "minorgridcolor": "white",
             "startlinecolor": "#2a3f5f"
            },
            "type": "carpet"
           }
          ],
          "choropleth": [
           {
            "colorbar": {
             "outlinewidth": 0,
             "ticks": ""
            },
            "type": "choropleth"
           }
          ],
          "contour": [
           {
            "colorbar": {
             "outlinewidth": 0,
             "ticks": ""
            },
            "colorscale": [
             [
              0,
              "#0d0887"
             ],
             [
              0.1111111111111111,
              "#46039f"
             ],
             [
              0.2222222222222222,
              "#7201a8"
             ],
             [
              0.3333333333333333,
              "#9c179e"
             ],
             [
              0.4444444444444444,
              "#bd3786"
             ],
             [
              0.5555555555555556,
              "#d8576b"
             ],
             [
              0.6666666666666666,
              "#ed7953"
             ],
             [
              0.7777777777777778,
              "#fb9f3a"
             ],
             [
              0.8888888888888888,
              "#fdca26"
             ],
             [
              1,
              "#f0f921"
             ]
            ],
            "type": "contour"
           }
          ],
          "contourcarpet": [
           {
            "colorbar": {
             "outlinewidth": 0,
             "ticks": ""
            },
            "type": "contourcarpet"
           }
          ],
          "heatmap": [
           {
            "colorbar": {
             "outlinewidth": 0,
             "ticks": ""
            },
            "colorscale": [
             [
              0,
              "#0d0887"
             ],
             [
              0.1111111111111111,
              "#46039f"
             ],
             [
              0.2222222222222222,
              "#7201a8"
             ],
             [
              0.3333333333333333,
              "#9c179e"
             ],
             [
              0.4444444444444444,
              "#bd3786"
             ],
             [
              0.5555555555555556,
              "#d8576b"
             ],
             [
              0.6666666666666666,
              "#ed7953"
             ],
             [
              0.7777777777777778,
              "#fb9f3a"
             ],
             [
              0.8888888888888888,
              "#fdca26"
             ],
             [
              1,
              "#f0f921"
             ]
            ],
            "type": "heatmap"
           }
          ],
          "heatmapgl": [
           {
            "colorbar": {
             "outlinewidth": 0,
             "ticks": ""
            },
            "colorscale": [
             [
              0,
              "#0d0887"
             ],
             [
              0.1111111111111111,
              "#46039f"
             ],
             [
              0.2222222222222222,
              "#7201a8"
             ],
             [
              0.3333333333333333,
              "#9c179e"
             ],
             [
              0.4444444444444444,
              "#bd3786"
             ],
             [
              0.5555555555555556,
              "#d8576b"
             ],
             [
              0.6666666666666666,
              "#ed7953"
             ],
             [
              0.7777777777777778,
              "#fb9f3a"
             ],
             [
              0.8888888888888888,
              "#fdca26"
             ],
             [
              1,
              "#f0f921"
             ]
            ],
            "type": "heatmapgl"
           }
          ],
          "histogram": [
           {
            "marker": {
             "pattern": {
              "fillmode": "overlay",
              "size": 10,
              "solidity": 0.2
             }
            },
            "type": "histogram"
           }
          ],
          "histogram2d": [
           {
            "colorbar": {
             "outlinewidth": 0,
             "ticks": ""
            },
            "colorscale": [
             [
              0,
              "#0d0887"
             ],
             [
              0.1111111111111111,
              "#46039f"
             ],
             [
              0.2222222222222222,
              "#7201a8"
             ],
             [
              0.3333333333333333,
              "#9c179e"
             ],
             [
              0.4444444444444444,
              "#bd3786"
             ],
             [
              0.5555555555555556,
              "#d8576b"
             ],
             [
              0.6666666666666666,
              "#ed7953"
             ],
             [
              0.7777777777777778,
              "#fb9f3a"
             ],
             [
              0.8888888888888888,
              "#fdca26"
             ],
             [
              1,
              "#f0f921"
             ]
            ],
            "type": "histogram2d"
           }
          ],
          "histogram2dcontour": [
           {
            "colorbar": {
             "outlinewidth": 0,
             "ticks": ""
            },
            "colorscale": [
             [
              0,
              "#0d0887"
             ],
             [
              0.1111111111111111,
              "#46039f"
             ],
             [
              0.2222222222222222,
              "#7201a8"
             ],
             [
              0.3333333333333333,
              "#9c179e"
             ],
             [
              0.4444444444444444,
              "#bd3786"
             ],
             [
              0.5555555555555556,
              "#d8576b"
             ],
             [
              0.6666666666666666,
              "#ed7953"
             ],
             [
              0.7777777777777778,
              "#fb9f3a"
             ],
             [
              0.8888888888888888,
              "#fdca26"
             ],
             [
              1,
              "#f0f921"
             ]
            ],
            "type": "histogram2dcontour"
           }
          ],
          "mesh3d": [
           {
            "colorbar": {
             "outlinewidth": 0,
             "ticks": ""
            },
            "type": "mesh3d"
           }
          ],
          "parcoords": [
           {
            "line": {
             "colorbar": {
              "outlinewidth": 0,
              "ticks": ""
             }
            },
            "type": "parcoords"
           }
          ],
          "pie": [
           {
            "automargin": true,
            "type": "pie"
           }
          ],
          "scatter": [
           {
            "marker": {
             "colorbar": {
              "outlinewidth": 0,
              "ticks": ""
             }
            },
            "type": "scatter"
           }
          ],
          "scatter3d": [
           {
            "line": {
             "colorbar": {
              "outlinewidth": 0,
              "ticks": ""
             }
            },
            "marker": {
             "colorbar": {
              "outlinewidth": 0,
              "ticks": ""
             }
            },
            "type": "scatter3d"
           }
          ],
          "scattercarpet": [
           {
            "marker": {
             "colorbar": {
              "outlinewidth": 0,
              "ticks": ""
             }
            },
            "type": "scattercarpet"
           }
          ],
          "scattergeo": [
           {
            "marker": {
             "colorbar": {
              "outlinewidth": 0,
              "ticks": ""
             }
            },
            "type": "scattergeo"
           }
          ],
          "scattergl": [
           {
            "marker": {
             "colorbar": {
              "outlinewidth": 0,
              "ticks": ""
             }
            },
            "type": "scattergl"
           }
          ],
          "scattermapbox": [
           {
            "marker": {
             "colorbar": {
              "outlinewidth": 0,
              "ticks": ""
             }
            },
            "type": "scattermapbox"
           }
          ],
          "scatterpolar": [
           {
            "marker": {
             "colorbar": {
              "outlinewidth": 0,
              "ticks": ""
             }
            },
            "type": "scatterpolar"
           }
          ],
          "scatterpolargl": [
           {
            "marker": {
             "colorbar": {
              "outlinewidth": 0,
              "ticks": ""
             }
            },
            "type": "scatterpolargl"
           }
          ],
          "scatterternary": [
           {
            "marker": {
             "colorbar": {
              "outlinewidth": 0,
              "ticks": ""
             }
            },
            "type": "scatterternary"
           }
          ],
          "surface": [
           {
            "colorbar": {
             "outlinewidth": 0,
             "ticks": ""
            },
            "colorscale": [
             [
              0,
              "#0d0887"
             ],
             [
              0.1111111111111111,
              "#46039f"
             ],
             [
              0.2222222222222222,
              "#7201a8"
             ],
             [
              0.3333333333333333,
              "#9c179e"
             ],
             [
              0.4444444444444444,
              "#bd3786"
             ],
             [
              0.5555555555555556,
              "#d8576b"
             ],
             [
              0.6666666666666666,
              "#ed7953"
             ],
             [
              0.7777777777777778,
              "#fb9f3a"
             ],
             [
              0.8888888888888888,
              "#fdca26"
             ],
             [
              1,
              "#f0f921"
             ]
            ],
            "type": "surface"
           }
          ],
          "table": [
           {
            "cells": {
             "fill": {
              "color": "#EBF0F8"
             },
             "line": {
              "color": "white"
             }
            },
            "header": {
             "fill": {
              "color": "#C8D4E3"
             },
             "line": {
              "color": "white"
             }
            },
            "type": "table"
           }
          ]
         },
         "layout": {
          "annotationdefaults": {
           "arrowcolor": "#2a3f5f",
           "arrowhead": 0,
           "arrowwidth": 1
          },
          "autotypenumbers": "strict",
          "coloraxis": {
           "colorbar": {
            "outlinewidth": 0,
            "ticks": ""
           }
          },
          "colorscale": {
           "diverging": [
            [
             0,
             "#8e0152"
            ],
            [
             0.1,
             "#c51b7d"
            ],
            [
             0.2,
             "#de77ae"
            ],
            [
             0.3,
             "#f1b6da"
            ],
            [
             0.4,
             "#fde0ef"
            ],
            [
             0.5,
             "#f7f7f7"
            ],
            [
             0.6,
             "#e6f5d0"
            ],
            [
             0.7,
             "#b8e186"
            ],
            [
             0.8,
             "#7fbc41"
            ],
            [
             0.9,
             "#4d9221"
            ],
            [
             1,
             "#276419"
            ]
           ],
           "sequential": [
            [
             0,
             "#0d0887"
            ],
            [
             0.1111111111111111,
             "#46039f"
            ],
            [
             0.2222222222222222,
             "#7201a8"
            ],
            [
             0.3333333333333333,
             "#9c179e"
            ],
            [
             0.4444444444444444,
             "#bd3786"
            ],
            [
             0.5555555555555556,
             "#d8576b"
            ],
            [
             0.6666666666666666,
             "#ed7953"
            ],
            [
             0.7777777777777778,
             "#fb9f3a"
            ],
            [
             0.8888888888888888,
             "#fdca26"
            ],
            [
             1,
             "#f0f921"
            ]
           ],
           "sequentialminus": [
            [
             0,
             "#0d0887"
            ],
            [
             0.1111111111111111,
             "#46039f"
            ],
            [
             0.2222222222222222,
             "#7201a8"
            ],
            [
             0.3333333333333333,
             "#9c179e"
            ],
            [
             0.4444444444444444,
             "#bd3786"
            ],
            [
             0.5555555555555556,
             "#d8576b"
            ],
            [
             0.6666666666666666,
             "#ed7953"
            ],
            [
             0.7777777777777778,
             "#fb9f3a"
            ],
            [
             0.8888888888888888,
             "#fdca26"
            ],
            [
             1,
             "#f0f921"
            ]
           ]
          },
          "colorway": [
           "#636efa",
           "#EF553B",
           "#00cc96",
           "#ab63fa",
           "#FFA15A",
           "#19d3f3",
           "#FF6692",
           "#B6E880",
           "#FF97FF",
           "#FECB52"
          ],
          "font": {
           "color": "#2a3f5f"
          },
          "geo": {
           "bgcolor": "white",
           "lakecolor": "white",
           "landcolor": "#E5ECF6",
           "showlakes": true,
           "showland": true,
           "subunitcolor": "white"
          },
          "hoverlabel": {
           "align": "left"
          },
          "hovermode": "closest",
          "mapbox": {
           "style": "light"
          },
          "paper_bgcolor": "white",
          "plot_bgcolor": "#E5ECF6",
          "polar": {
           "angularaxis": {
            "gridcolor": "white",
            "linecolor": "white",
            "ticks": ""
           },
           "bgcolor": "#E5ECF6",
           "radialaxis": {
            "gridcolor": "white",
            "linecolor": "white",
            "ticks": ""
           }
          },
          "scene": {
           "xaxis": {
            "backgroundcolor": "#E5ECF6",
            "gridcolor": "white",
            "gridwidth": 2,
            "linecolor": "white",
            "showbackground": true,
            "ticks": "",
            "zerolinecolor": "white"
           },
           "yaxis": {
            "backgroundcolor": "#E5ECF6",
            "gridcolor": "white",
            "gridwidth": 2,
            "linecolor": "white",
            "showbackground": true,
            "ticks": "",
            "zerolinecolor": "white"
           },
           "zaxis": {
            "backgroundcolor": "#E5ECF6",
            "gridcolor": "white",
            "gridwidth": 2,
            "linecolor": "white",
            "showbackground": true,
            "ticks": "",
            "zerolinecolor": "white"
           }
          },
          "shapedefaults": {
           "line": {
            "color": "#2a3f5f"
           }
          },
          "ternary": {
           "aaxis": {
            "gridcolor": "white",
            "linecolor": "white",
            "ticks": ""
           },
           "baxis": {
            "gridcolor": "white",
            "linecolor": "white",
            "ticks": ""
           },
           "bgcolor": "#E5ECF6",
           "caxis": {
            "gridcolor": "white",
            "linecolor": "white",
            "ticks": ""
           }
          },
          "title": {
           "x": 0.05
          },
          "xaxis": {
           "automargin": true,
           "gridcolor": "white",
           "linecolor": "white",
           "ticks": "",
           "title": {
            "standoff": 15
           },
           "zerolinecolor": "white",
           "zerolinewidth": 2
          },
          "yaxis": {
           "automargin": true,
           "gridcolor": "white",
           "linecolor": "white",
           "ticks": "",
           "title": {
            "standoff": 15
           },
           "zerolinecolor": "white",
           "zerolinewidth": 2
          }
         }
        },
        "xaxis": {
         "anchor": "y",
         "domain": [
          0,
          1
         ],
         "title": {
          "text": "x"
         }
        },
        "yaxis": {
         "anchor": "x",
         "domain": [
          0,
          1
         ],
         "title": {
          "text": "y"
         }
        }
       }
      },
      "text/html": [
       "<div>                            <div id=\"88169b0b-fec0-4c46-a09d-413b2d1d9586\" class=\"plotly-graph-div\" style=\"height:800px; width:100%;\"></div>            <script type=\"text/javascript\">                require([\"plotly\"], function(Plotly) {                    window.PLOTLYENV=window.PLOTLYENV || {};                                    if (document.getElementById(\"88169b0b-fec0-4c46-a09d-413b2d1d9586\")) {                    Plotly.newPlot(                        \"88169b0b-fec0-4c46-a09d-413b2d1d9586\",                        [{\"alignmentgroup\":\"True\",\"hovertemplate\":\"x=%{x}<br>y=%{y}<extra></extra>\",\"legendgroup\":\"\",\"marker\":{\"color\":\"#636efa\",\"pattern\":{\"shape\":\"\"}},\"name\":\"\",\"offsetgroup\":\"\",\"orientation\":\"h\",\"showlegend\":false,\"textposition\":\"auto\",\"type\":\"bar\",\"x\":[253.0,192.0,185.0,129.0,115.0,111.0,94.0,85.0,83.0,81.0,80.0,79.0,76.0,76.0,72.0,72.0,68.0,68.0,67.0,66.0,66.0,65.0,63.0,63.0,63.0,60.0,60.0,60.0,58.0,56.0,56.0,55.0,55.0,54.0,54.0,53.0,51.0,50.0,49.0,49.0],\"xaxis\":\"x\",\"y\":[\"electricitymap-contrib\",\"SCREAM\",\"openfoodnetwork\",\"Digital Public Goods\",\"openfoodfacts-server\",\"Emoncms\",\"gbfs\",\"EEA geospatial data catalogue\",\"Iris\",\"pybikes\",\"pvlib-python\",\"mobility-data-specification\",\"pangeo\",\"Growstuff\",\"PEcAn\",\"ESMValTool\",\"CoopCycle\",\"OpenModelica\",\"EnergyPlus\",\"Karrot\",\"awesome-transit\",\"Open Smart Grid Platform\",\"VOLTTRON\",\"navitia\",\"MetPy\",\"PowSyBl\",\"ccpp-physics\",\"MOM6\",\"Awesome Open Geoscience\",\"EVCC\",\"MITgcm\",\"AixLib\",\"Cloud Carbon Footprint\",\"Streetmix\",\"Transitland\",\"gwells\",\"OpenFarm\",\"US Sustainable Development Goal indicators\",\"OpenMDAO\",\"flopy\"],\"yaxis\":\"y\"}],                        {\"barmode\":\"relative\",\"height\":800,\"legend\":{\"tracegroupgap\":0},\"margin\":{\"t\":60},\"paper_bgcolor\":\"lightgray\",\"showlegend\":false,\"template\":{\"data\":{\"bar\":[{\"error_x\":{\"color\":\"#2a3f5f\"},\"error_y\":{\"color\":\"#2a3f5f\"},\"marker\":{\"line\":{\"color\":\"#E5ECF6\",\"width\":0.5},\"pattern\":{\"fillmode\":\"overlay\",\"size\":10,\"solidity\":0.2}},\"type\":\"bar\"}],\"barpolar\":[{\"marker\":{\"line\":{\"color\":\"#E5ECF6\",\"width\":0.5},\"pattern\":{\"fillmode\":\"overlay\",\"size\":10,\"solidity\":0.2}},\"type\":\"barpolar\"}],\"carpet\":[{\"aaxis\":{\"endlinecolor\":\"#2a3f5f\",\"gridcolor\":\"white\",\"linecolor\":\"white\",\"minorgridcolor\":\"white\",\"startlinecolor\":\"#2a3f5f\"},\"baxis\":{\"endlinecolor\":\"#2a3f5f\",\"gridcolor\":\"white\",\"linecolor\":\"white\",\"minorgridcolor\":\"white\",\"startlinecolor\":\"#2a3f5f\"},\"type\":\"carpet\"}],\"choropleth\":[{\"colorbar\":{\"outlinewidth\":0,\"ticks\":\"\"},\"type\":\"choropleth\"}],\"contour\":[{\"colorbar\":{\"outlinewidth\":0,\"ticks\":\"\"},\"colorscale\":[[0.0,\"#0d0887\"],[0.1111111111111111,\"#46039f\"],[0.2222222222222222,\"#7201a8\"],[0.3333333333333333,\"#9c179e\"],[0.4444444444444444,\"#bd3786\"],[0.5555555555555556,\"#d8576b\"],[0.6666666666666666,\"#ed7953\"],[0.7777777777777778,\"#fb9f3a\"],[0.8888888888888888,\"#fdca26\"],[1.0,\"#f0f921\"]],\"type\":\"contour\"}],\"contourcarpet\":[{\"colorbar\":{\"outlinewidth\":0,\"ticks\":\"\"},\"type\":\"contourcarpet\"}],\"heatmap\":[{\"colorbar\":{\"outlinewidth\":0,\"ticks\":\"\"},\"colorscale\":[[0.0,\"#0d0887\"],[0.1111111111111111,\"#46039f\"],[0.2222222222222222,\"#7201a8\"],[0.3333333333333333,\"#9c179e\"],[0.4444444444444444,\"#bd3786\"],[0.5555555555555556,\"#d8576b\"],[0.6666666666666666,\"#ed7953\"],[0.7777777777777778,\"#fb9f3a\"],[0.8888888888888888,\"#fdca26\"],[1.0,\"#f0f921\"]],\"type\":\"heatmap\"}],\"heatmapgl\":[{\"colorbar\":{\"outlinewidth\":0,\"ticks\":\"\"},\"colorscale\":[[0.0,\"#0d0887\"],[0.1111111111111111,\"#46039f\"],[0.2222222222222222,\"#7201a8\"],[0.3333333333333333,\"#9c179e\"],[0.4444444444444444,\"#bd3786\"],[0.5555555555555556,\"#d8576b\"],[0.6666666666666666,\"#ed7953\"],[0.7777777777777778,\"#fb9f3a\"],[0.8888888888888888,\"#fdca26\"],[1.0,\"#f0f921\"]],\"type\":\"heatmapgl\"}],\"histogram\":[{\"marker\":{\"pattern\":{\"fillmode\":\"overlay\",\"size\":10,\"solidity\":0.2}},\"type\":\"histogram\"}],\"histogram2d\":[{\"colorbar\":{\"outlinewidth\":0,\"ticks\":\"\"},\"colorscale\":[[0.0,\"#0d0887\"],[0.1111111111111111,\"#46039f\"],[0.2222222222222222,\"#7201a8\"],[0.3333333333333333,\"#9c179e\"],[0.4444444444444444,\"#bd3786\"],[0.5555555555555556,\"#d8576b\"],[0.6666666666666666,\"#ed7953\"],[0.7777777777777778,\"#fb9f3a\"],[0.8888888888888888,\"#fdca26\"],[1.0,\"#f0f921\"]],\"type\":\"histogram2d\"}],\"histogram2dcontour\":[{\"colorbar\":{\"outlinewidth\":0,\"ticks\":\"\"},\"colorscale\":[[0.0,\"#0d0887\"],[0.1111111111111111,\"#46039f\"],[0.2222222222222222,\"#7201a8\"],[0.3333333333333333,\"#9c179e\"],[0.4444444444444444,\"#bd3786\"],[0.5555555555555556,\"#d8576b\"],[0.6666666666666666,\"#ed7953\"],[0.7777777777777778,\"#fb9f3a\"],[0.8888888888888888,\"#fdca26\"],[1.0,\"#f0f921\"]],\"type\":\"histogram2dcontour\"}],\"mesh3d\":[{\"colorbar\":{\"outlinewidth\":0,\"ticks\":\"\"},\"type\":\"mesh3d\"}],\"parcoords\":[{\"line\":{\"colorbar\":{\"outlinewidth\":0,\"ticks\":\"\"}},\"type\":\"parcoords\"}],\"pie\":[{\"automargin\":true,\"type\":\"pie\"}],\"scatter\":[{\"marker\":{\"colorbar\":{\"outlinewidth\":0,\"ticks\":\"\"}},\"type\":\"scatter\"}],\"scatter3d\":[{\"line\":{\"colorbar\":{\"outlinewidth\":0,\"ticks\":\"\"}},\"marker\":{\"colorbar\":{\"outlinewidth\":0,\"ticks\":\"\"}},\"type\":\"scatter3d\"}],\"scattercarpet\":[{\"marker\":{\"colorbar\":{\"outlinewidth\":0,\"ticks\":\"\"}},\"type\":\"scattercarpet\"}],\"scattergeo\":[{\"marker\":{\"colorbar\":{\"outlinewidth\":0,\"ticks\":\"\"}},\"type\":\"scattergeo\"}],\"scattergl\":[{\"marker\":{\"colorbar\":{\"outlinewidth\":0,\"ticks\":\"\"}},\"type\":\"scattergl\"}],\"scattermapbox\":[{\"marker\":{\"colorbar\":{\"outlinewidth\":0,\"ticks\":\"\"}},\"type\":\"scattermapbox\"}],\"scatterpolar\":[{\"marker\":{\"colorbar\":{\"outlinewidth\":0,\"ticks\":\"\"}},\"type\":\"scatterpolar\"}],\"scatterpolargl\":[{\"marker\":{\"colorbar\":{\"outlinewidth\":0,\"ticks\":\"\"}},\"type\":\"scatterpolargl\"}],\"scatterternary\":[{\"marker\":{\"colorbar\":{\"outlinewidth\":0,\"ticks\":\"\"}},\"type\":\"scatterternary\"}],\"surface\":[{\"colorbar\":{\"outlinewidth\":0,\"ticks\":\"\"},\"colorscale\":[[0.0,\"#0d0887\"],[0.1111111111111111,\"#46039f\"],[0.2222222222222222,\"#7201a8\"],[0.3333333333333333,\"#9c179e\"],[0.4444444444444444,\"#bd3786\"],[0.5555555555555556,\"#d8576b\"],[0.6666666666666666,\"#ed7953\"],[0.7777777777777778,\"#fb9f3a\"],[0.8888888888888888,\"#fdca26\"],[1.0,\"#f0f921\"]],\"type\":\"surface\"}],\"table\":[{\"cells\":{\"fill\":{\"color\":\"#EBF0F8\"},\"line\":{\"color\":\"white\"}},\"header\":{\"fill\":{\"color\":\"#C8D4E3\"},\"line\":{\"color\":\"white\"}},\"type\":\"table\"}]},\"layout\":{\"annotationdefaults\":{\"arrowcolor\":\"#2a3f5f\",\"arrowhead\":0,\"arrowwidth\":1},\"autotypenumbers\":\"strict\",\"coloraxis\":{\"colorbar\":{\"outlinewidth\":0,\"ticks\":\"\"}},\"colorscale\":{\"diverging\":[[0,\"#8e0152\"],[0.1,\"#c51b7d\"],[0.2,\"#de77ae\"],[0.3,\"#f1b6da\"],[0.4,\"#fde0ef\"],[0.5,\"#f7f7f7\"],[0.6,\"#e6f5d0\"],[0.7,\"#b8e186\"],[0.8,\"#7fbc41\"],[0.9,\"#4d9221\"],[1,\"#276419\"]],\"sequential\":[[0.0,\"#0d0887\"],[0.1111111111111111,\"#46039f\"],[0.2222222222222222,\"#7201a8\"],[0.3333333333333333,\"#9c179e\"],[0.4444444444444444,\"#bd3786\"],[0.5555555555555556,\"#d8576b\"],[0.6666666666666666,\"#ed7953\"],[0.7777777777777778,\"#fb9f3a\"],[0.8888888888888888,\"#fdca26\"],[1.0,\"#f0f921\"]],\"sequentialminus\":[[0.0,\"#0d0887\"],[0.1111111111111111,\"#46039f\"],[0.2222222222222222,\"#7201a8\"],[0.3333333333333333,\"#9c179e\"],[0.4444444444444444,\"#bd3786\"],[0.5555555555555556,\"#d8576b\"],[0.6666666666666666,\"#ed7953\"],[0.7777777777777778,\"#fb9f3a\"],[0.8888888888888888,\"#fdca26\"],[1.0,\"#f0f921\"]]},\"colorway\":[\"#636efa\",\"#EF553B\",\"#00cc96\",\"#ab63fa\",\"#FFA15A\",\"#19d3f3\",\"#FF6692\",\"#B6E880\",\"#FF97FF\",\"#FECB52\"],\"font\":{\"color\":\"#2a3f5f\"},\"geo\":{\"bgcolor\":\"white\",\"lakecolor\":\"white\",\"landcolor\":\"#E5ECF6\",\"showlakes\":true,\"showland\":true,\"subunitcolor\":\"white\"},\"hoverlabel\":{\"align\":\"left\"},\"hovermode\":\"closest\",\"mapbox\":{\"style\":\"light\"},\"paper_bgcolor\":\"white\",\"plot_bgcolor\":\"#E5ECF6\",\"polar\":{\"angularaxis\":{\"gridcolor\":\"white\",\"linecolor\":\"white\",\"ticks\":\"\"},\"bgcolor\":\"#E5ECF6\",\"radialaxis\":{\"gridcolor\":\"white\",\"linecolor\":\"white\",\"ticks\":\"\"}},\"scene\":{\"xaxis\":{\"backgroundcolor\":\"#E5ECF6\",\"gridcolor\":\"white\",\"gridwidth\":2,\"linecolor\":\"white\",\"showbackground\":true,\"ticks\":\"\",\"zerolinecolor\":\"white\"},\"yaxis\":{\"backgroundcolor\":\"#E5ECF6\",\"gridcolor\":\"white\",\"gridwidth\":2,\"linecolor\":\"white\",\"showbackground\":true,\"ticks\":\"\",\"zerolinecolor\":\"white\"},\"zaxis\":{\"backgroundcolor\":\"#E5ECF6\",\"gridcolor\":\"white\",\"gridwidth\":2,\"linecolor\":\"white\",\"showbackground\":true,\"ticks\":\"\",\"zerolinecolor\":\"white\"}},\"shapedefaults\":{\"line\":{\"color\":\"#2a3f5f\"}},\"ternary\":{\"aaxis\":{\"gridcolor\":\"white\",\"linecolor\":\"white\",\"ticks\":\"\"},\"baxis\":{\"gridcolor\":\"white\",\"linecolor\":\"white\",\"ticks\":\"\"},\"bgcolor\":\"#E5ECF6\",\"caxis\":{\"gridcolor\":\"white\",\"linecolor\":\"white\",\"ticks\":\"\"}},\"title\":{\"x\":0.05},\"xaxis\":{\"automargin\":true,\"gridcolor\":\"white\",\"linecolor\":\"white\",\"ticks\":\"\",\"title\":{\"standoff\":15},\"zerolinecolor\":\"white\",\"zerolinewidth\":2},\"yaxis\":{\"automargin\":true,\"gridcolor\":\"white\",\"linecolor\":\"white\",\"ticks\":\"\",\"title\":{\"standoff\":15},\"zerolinecolor\":\"white\",\"zerolinewidth\":2}}},\"xaxis\":{\"anchor\":\"y\",\"domain\":[0.0,1.0],\"title\":{\"text\":\"x\"}},\"yaxis\":{\"anchor\":\"x\",\"domain\":[0.0,1.0],\"title\":{\"text\":\"y\"}}},                        {\"responsive\": true}                    ).then(function(){\n",
       "                            \n",
       "var gd = document.getElementById('88169b0b-fec0-4c46-a09d-413b2d1d9586');\n",
       "var x = new MutationObserver(function (mutations, observer) {{\n",
       "        var display = window.getComputedStyle(gd).display;\n",
       "        if (!display || display === 'none') {{\n",
       "            console.log([gd, 'removed!']);\n",
       "            Plotly.purge(gd);\n",
       "            observer.disconnect();\n",
       "        }}\n",
       "}});\n",
       "\n",
       "// Listen for the removal of the full notebook cells\n",
       "var notebookContainer = gd.closest('#notebook-container');\n",
       "if (notebookContainer) {{\n",
       "    x.observe(notebookContainer, {childList: true});\n",
       "}}\n",
       "\n",
       "// Listen for the clearing of the current output cell\n",
       "var outputEl = gd.closest('.output');\n",
       "if (outputEl) {{\n",
       "    x.observe(outputEl, {childList: true});\n",
       "}}\n",
       "\n",
       "                        })                };                });            </script>        </div>"
      ]
     },
     "metadata": {},
     "output_type": "display_data"
    }
   ],
   "source": [
    "contributors = df.nlargest(40, 'contributors')\n",
    "\n",
    "fig = px.bar(x=contributors['contributors'], y=contributors['project_name'], orientation='h')\n",
    "\n",
    "fig.update_layout(\n",
    "    paper_bgcolor=\"lightgray\",\n",
    "    height=800,  # Added parameter\n",
    ")\n",
    "\n",
    "fig.update(layout_showlegend=False)"
   ]
  },
  {
   "cell_type": "code",
   "execution_count": 11,
   "metadata": {},
   "outputs": [
    {
     "data": {
      "application/vnd.plotly.v1+json": {
       "config": {
        "plotlyServerURL": "https://plot.ly"
       },
       "data": [
        {
         "alignmentgroup": "True",
         "hovertemplate": "x=%{x}<br>y=%{y}<extra></extra>",
         "legendgroup": "",
         "marker": {
          "color": "#636efa",
          "pattern": {
           "shape": ""
          }
         },
         "name": "",
         "offsetgroup": "",
         "orientation": "h",
         "showlegend": false,
         "textposition": "auto",
         "type": "bar",
         "x": [
          2426,
          1129,
          1061,
          974,
          905,
          888,
          877,
          866,
          861,
          860,
          852,
          814,
          753,
          741,
          729,
          714,
          699,
          691,
          690,
          676,
          665,
          648,
          638,
          623,
          609,
          608,
          595,
          578,
          531,
          521,
          514,
          506,
          503,
          500,
          497,
          489,
          487,
          472,
          468,
          454
         ],
         "xaxis": "x",
         "y": [
          "electricitymap-contrib",
          "Awesome Earth",
          "Emoncms",
          "Awesome Open Geoscience",
          "MetPy",
          "OpenFarm",
          "awesome-transit",
          "Awesome Remote Sensing Change Detection",
          "WoBike",
          "openfoodnetwork",
          "Awesome Agriculture",
          "Transportr",
          "EnergyPlus",
          "Scaphandre",
          "EVCC",
          "pvlib-python",
          "Oceananigans.jl",
          "palmerpenguins",
          "PyPSA",
          "NILM",
          "Earthdata Search",
          "transitfeed",
          "sentinelhub-py",
          "gbfs",
          "pangeo",
          "WhiteboxTools",
          "mobility-data-specification",
          "Streetmix",
          "Energy-Languages",
          "Custom Scripts Sentinel Hub",
          "OpenModelica",
          "iNaturalist",
          "pysheds",
          "Iris",
          "Cloud Carbon Footprint",
          "CoopCycle",
          "pybikes",
          "PlantCV",
          "CodeCarbon",
          "Open-Meteo"
         ],
         "yaxis": "y"
        }
       ],
       "layout": {
        "barmode": "relative",
        "height": 800,
        "legend": {
         "tracegroupgap": 0
        },
        "margin": {
         "t": 60
        },
        "paper_bgcolor": "lightgray",
        "showlegend": false,
        "template": {
         "data": {
          "bar": [
           {
            "error_x": {
             "color": "#2a3f5f"
            },
            "error_y": {
             "color": "#2a3f5f"
            },
            "marker": {
             "line": {
              "color": "#E5ECF6",
              "width": 0.5
             },
             "pattern": {
              "fillmode": "overlay",
              "size": 10,
              "solidity": 0.2
             }
            },
            "type": "bar"
           }
          ],
          "barpolar": [
           {
            "marker": {
             "line": {
              "color": "#E5ECF6",
              "width": 0.5
             },
             "pattern": {
              "fillmode": "overlay",
              "size": 10,
              "solidity": 0.2
             }
            },
            "type": "barpolar"
           }
          ],
          "carpet": [
           {
            "aaxis": {
             "endlinecolor": "#2a3f5f",
             "gridcolor": "white",
             "linecolor": "white",
             "minorgridcolor": "white",
             "startlinecolor": "#2a3f5f"
            },
            "baxis": {
             "endlinecolor": "#2a3f5f",
             "gridcolor": "white",
             "linecolor": "white",
             "minorgridcolor": "white",
             "startlinecolor": "#2a3f5f"
            },
            "type": "carpet"
           }
          ],
          "choropleth": [
           {
            "colorbar": {
             "outlinewidth": 0,
             "ticks": ""
            },
            "type": "choropleth"
           }
          ],
          "contour": [
           {
            "colorbar": {
             "outlinewidth": 0,
             "ticks": ""
            },
            "colorscale": [
             [
              0,
              "#0d0887"
             ],
             [
              0.1111111111111111,
              "#46039f"
             ],
             [
              0.2222222222222222,
              "#7201a8"
             ],
             [
              0.3333333333333333,
              "#9c179e"
             ],
             [
              0.4444444444444444,
              "#bd3786"
             ],
             [
              0.5555555555555556,
              "#d8576b"
             ],
             [
              0.6666666666666666,
              "#ed7953"
             ],
             [
              0.7777777777777778,
              "#fb9f3a"
             ],
             [
              0.8888888888888888,
              "#fdca26"
             ],
             [
              1,
              "#f0f921"
             ]
            ],
            "type": "contour"
           }
          ],
          "contourcarpet": [
           {
            "colorbar": {
             "outlinewidth": 0,
             "ticks": ""
            },
            "type": "contourcarpet"
           }
          ],
          "heatmap": [
           {
            "colorbar": {
             "outlinewidth": 0,
             "ticks": ""
            },
            "colorscale": [
             [
              0,
              "#0d0887"
             ],
             [
              0.1111111111111111,
              "#46039f"
             ],
             [
              0.2222222222222222,
              "#7201a8"
             ],
             [
              0.3333333333333333,
              "#9c179e"
             ],
             [
              0.4444444444444444,
              "#bd3786"
             ],
             [
              0.5555555555555556,
              "#d8576b"
             ],
             [
              0.6666666666666666,
              "#ed7953"
             ],
             [
              0.7777777777777778,
              "#fb9f3a"
             ],
             [
              0.8888888888888888,
              "#fdca26"
             ],
             [
              1,
              "#f0f921"
             ]
            ],
            "type": "heatmap"
           }
          ],
          "heatmapgl": [
           {
            "colorbar": {
             "outlinewidth": 0,
             "ticks": ""
            },
            "colorscale": [
             [
              0,
              "#0d0887"
             ],
             [
              0.1111111111111111,
              "#46039f"
             ],
             [
              0.2222222222222222,
              "#7201a8"
             ],
             [
              0.3333333333333333,
              "#9c179e"
             ],
             [
              0.4444444444444444,
              "#bd3786"
             ],
             [
              0.5555555555555556,
              "#d8576b"
             ],
             [
              0.6666666666666666,
              "#ed7953"
             ],
             [
              0.7777777777777778,
              "#fb9f3a"
             ],
             [
              0.8888888888888888,
              "#fdca26"
             ],
             [
              1,
              "#f0f921"
             ]
            ],
            "type": "heatmapgl"
           }
          ],
          "histogram": [
           {
            "marker": {
             "pattern": {
              "fillmode": "overlay",
              "size": 10,
              "solidity": 0.2
             }
            },
            "type": "histogram"
           }
          ],
          "histogram2d": [
           {
            "colorbar": {
             "outlinewidth": 0,
             "ticks": ""
            },
            "colorscale": [
             [
              0,
              "#0d0887"
             ],
             [
              0.1111111111111111,
              "#46039f"
             ],
             [
              0.2222222222222222,
              "#7201a8"
             ],
             [
              0.3333333333333333,
              "#9c179e"
             ],
             [
              0.4444444444444444,
              "#bd3786"
             ],
             [
              0.5555555555555556,
              "#d8576b"
             ],
             [
              0.6666666666666666,
              "#ed7953"
             ],
             [
              0.7777777777777778,
              "#fb9f3a"
             ],
             [
              0.8888888888888888,
              "#fdca26"
             ],
             [
              1,
              "#f0f921"
             ]
            ],
            "type": "histogram2d"
           }
          ],
          "histogram2dcontour": [
           {
            "colorbar": {
             "outlinewidth": 0,
             "ticks": ""
            },
            "colorscale": [
             [
              0,
              "#0d0887"
             ],
             [
              0.1111111111111111,
              "#46039f"
             ],
             [
              0.2222222222222222,
              "#7201a8"
             ],
             [
              0.3333333333333333,
              "#9c179e"
             ],
             [
              0.4444444444444444,
              "#bd3786"
             ],
             [
              0.5555555555555556,
              "#d8576b"
             ],
             [
              0.6666666666666666,
              "#ed7953"
             ],
             [
              0.7777777777777778,
              "#fb9f3a"
             ],
             [
              0.8888888888888888,
              "#fdca26"
             ],
             [
              1,
              "#f0f921"
             ]
            ],
            "type": "histogram2dcontour"
           }
          ],
          "mesh3d": [
           {
            "colorbar": {
             "outlinewidth": 0,
             "ticks": ""
            },
            "type": "mesh3d"
           }
          ],
          "parcoords": [
           {
            "line": {
             "colorbar": {
              "outlinewidth": 0,
              "ticks": ""
             }
            },
            "type": "parcoords"
           }
          ],
          "pie": [
           {
            "automargin": true,
            "type": "pie"
           }
          ],
          "scatter": [
           {
            "marker": {
             "colorbar": {
              "outlinewidth": 0,
              "ticks": ""
             }
            },
            "type": "scatter"
           }
          ],
          "scatter3d": [
           {
            "line": {
             "colorbar": {
              "outlinewidth": 0,
              "ticks": ""
             }
            },
            "marker": {
             "colorbar": {
              "outlinewidth": 0,
              "ticks": ""
             }
            },
            "type": "scatter3d"
           }
          ],
          "scattercarpet": [
           {
            "marker": {
             "colorbar": {
              "outlinewidth": 0,
              "ticks": ""
             }
            },
            "type": "scattercarpet"
           }
          ],
          "scattergeo": [
           {
            "marker": {
             "colorbar": {
              "outlinewidth": 0,
              "ticks": ""
             }
            },
            "type": "scattergeo"
           }
          ],
          "scattergl": [
           {
            "marker": {
             "colorbar": {
              "outlinewidth": 0,
              "ticks": ""
             }
            },
            "type": "scattergl"
           }
          ],
          "scattermapbox": [
           {
            "marker": {
             "colorbar": {
              "outlinewidth": 0,
              "ticks": ""
             }
            },
            "type": "scattermapbox"
           }
          ],
          "scatterpolar": [
           {
            "marker": {
             "colorbar": {
              "outlinewidth": 0,
              "ticks": ""
             }
            },
            "type": "scatterpolar"
           }
          ],
          "scatterpolargl": [
           {
            "marker": {
             "colorbar": {
              "outlinewidth": 0,
              "ticks": ""
             }
            },
            "type": "scatterpolargl"
           }
          ],
          "scatterternary": [
           {
            "marker": {
             "colorbar": {
              "outlinewidth": 0,
              "ticks": ""
             }
            },
            "type": "scatterternary"
           }
          ],
          "surface": [
           {
            "colorbar": {
             "outlinewidth": 0,
             "ticks": ""
            },
            "colorscale": [
             [
              0,
              "#0d0887"
             ],
             [
              0.1111111111111111,
              "#46039f"
             ],
             [
              0.2222222222222222,
              "#7201a8"
             ],
             [
              0.3333333333333333,
              "#9c179e"
             ],
             [
              0.4444444444444444,
              "#bd3786"
             ],
             [
              0.5555555555555556,
              "#d8576b"
             ],
             [
              0.6666666666666666,
              "#ed7953"
             ],
             [
              0.7777777777777778,
              "#fb9f3a"
             ],
             [
              0.8888888888888888,
              "#fdca26"
             ],
             [
              1,
              "#f0f921"
             ]
            ],
            "type": "surface"
           }
          ],
          "table": [
           {
            "cells": {
             "fill": {
              "color": "#EBF0F8"
             },
             "line": {
              "color": "white"
             }
            },
            "header": {
             "fill": {
              "color": "#C8D4E3"
             },
             "line": {
              "color": "white"
             }
            },
            "type": "table"
           }
          ]
         },
         "layout": {
          "annotationdefaults": {
           "arrowcolor": "#2a3f5f",
           "arrowhead": 0,
           "arrowwidth": 1
          },
          "autotypenumbers": "strict",
          "coloraxis": {
           "colorbar": {
            "outlinewidth": 0,
            "ticks": ""
           }
          },
          "colorscale": {
           "diverging": [
            [
             0,
             "#8e0152"
            ],
            [
             0.1,
             "#c51b7d"
            ],
            [
             0.2,
             "#de77ae"
            ],
            [
             0.3,
             "#f1b6da"
            ],
            [
             0.4,
             "#fde0ef"
            ],
            [
             0.5,
             "#f7f7f7"
            ],
            [
             0.6,
             "#e6f5d0"
            ],
            [
             0.7,
             "#b8e186"
            ],
            [
             0.8,
             "#7fbc41"
            ],
            [
             0.9,
             "#4d9221"
            ],
            [
             1,
             "#276419"
            ]
           ],
           "sequential": [
            [
             0,
             "#0d0887"
            ],
            [
             0.1111111111111111,
             "#46039f"
            ],
            [
             0.2222222222222222,
             "#7201a8"
            ],
            [
             0.3333333333333333,
             "#9c179e"
            ],
            [
             0.4444444444444444,
             "#bd3786"
            ],
            [
             0.5555555555555556,
             "#d8576b"
            ],
            [
             0.6666666666666666,
             "#ed7953"
            ],
            [
             0.7777777777777778,
             "#fb9f3a"
            ],
            [
             0.8888888888888888,
             "#fdca26"
            ],
            [
             1,
             "#f0f921"
            ]
           ],
           "sequentialminus": [
            [
             0,
             "#0d0887"
            ],
            [
             0.1111111111111111,
             "#46039f"
            ],
            [
             0.2222222222222222,
             "#7201a8"
            ],
            [
             0.3333333333333333,
             "#9c179e"
            ],
            [
             0.4444444444444444,
             "#bd3786"
            ],
            [
             0.5555555555555556,
             "#d8576b"
            ],
            [
             0.6666666666666666,
             "#ed7953"
            ],
            [
             0.7777777777777778,
             "#fb9f3a"
            ],
            [
             0.8888888888888888,
             "#fdca26"
            ],
            [
             1,
             "#f0f921"
            ]
           ]
          },
          "colorway": [
           "#636efa",
           "#EF553B",
           "#00cc96",
           "#ab63fa",
           "#FFA15A",
           "#19d3f3",
           "#FF6692",
           "#B6E880",
           "#FF97FF",
           "#FECB52"
          ],
          "font": {
           "color": "#2a3f5f"
          },
          "geo": {
           "bgcolor": "white",
           "lakecolor": "white",
           "landcolor": "#E5ECF6",
           "showlakes": true,
           "showland": true,
           "subunitcolor": "white"
          },
          "hoverlabel": {
           "align": "left"
          },
          "hovermode": "closest",
          "mapbox": {
           "style": "light"
          },
          "paper_bgcolor": "white",
          "plot_bgcolor": "#E5ECF6",
          "polar": {
           "angularaxis": {
            "gridcolor": "white",
            "linecolor": "white",
            "ticks": ""
           },
           "bgcolor": "#E5ECF6",
           "radialaxis": {
            "gridcolor": "white",
            "linecolor": "white",
            "ticks": ""
           }
          },
          "scene": {
           "xaxis": {
            "backgroundcolor": "#E5ECF6",
            "gridcolor": "white",
            "gridwidth": 2,
            "linecolor": "white",
            "showbackground": true,
            "ticks": "",
            "zerolinecolor": "white"
           },
           "yaxis": {
            "backgroundcolor": "#E5ECF6",
            "gridcolor": "white",
            "gridwidth": 2,
            "linecolor": "white",
            "showbackground": true,
            "ticks": "",
            "zerolinecolor": "white"
           },
           "zaxis": {
            "backgroundcolor": "#E5ECF6",
            "gridcolor": "white",
            "gridwidth": 2,
            "linecolor": "white",
            "showbackground": true,
            "ticks": "",
            "zerolinecolor": "white"
           }
          },
          "shapedefaults": {
           "line": {
            "color": "#2a3f5f"
           }
          },
          "ternary": {
           "aaxis": {
            "gridcolor": "white",
            "linecolor": "white",
            "ticks": ""
           },
           "baxis": {
            "gridcolor": "white",
            "linecolor": "white",
            "ticks": ""
           },
           "bgcolor": "#E5ECF6",
           "caxis": {
            "gridcolor": "white",
            "linecolor": "white",
            "ticks": ""
           }
          },
          "title": {
           "x": 0.05
          },
          "xaxis": {
           "automargin": true,
           "gridcolor": "white",
           "linecolor": "white",
           "ticks": "",
           "title": {
            "standoff": 15
           },
           "zerolinecolor": "white",
           "zerolinewidth": 2
          },
          "yaxis": {
           "automargin": true,
           "gridcolor": "white",
           "linecolor": "white",
           "ticks": "",
           "title": {
            "standoff": 15
           },
           "zerolinecolor": "white",
           "zerolinewidth": 2
          }
         }
        },
        "xaxis": {
         "anchor": "y",
         "domain": [
          0,
          1
         ],
         "title": {
          "text": "x"
         }
        },
        "yaxis": {
         "anchor": "x",
         "domain": [
          0,
          1
         ],
         "title": {
          "text": "y"
         }
        }
       }
      },
      "text/html": [
       "<div>                            <div id=\"9f62f598-8658-46eb-88ae-cd7554d4440a\" class=\"plotly-graph-div\" style=\"height:800px; width:100%;\"></div>            <script type=\"text/javascript\">                require([\"plotly\"], function(Plotly) {                    window.PLOTLYENV=window.PLOTLYENV || {};                                    if (document.getElementById(\"9f62f598-8658-46eb-88ae-cd7554d4440a\")) {                    Plotly.newPlot(                        \"9f62f598-8658-46eb-88ae-cd7554d4440a\",                        [{\"alignmentgroup\":\"True\",\"hovertemplate\":\"x=%{x}<br>y=%{y}<extra></extra>\",\"legendgroup\":\"\",\"marker\":{\"color\":\"#636efa\",\"pattern\":{\"shape\":\"\"}},\"name\":\"\",\"offsetgroup\":\"\",\"orientation\":\"h\",\"showlegend\":false,\"textposition\":\"auto\",\"type\":\"bar\",\"x\":[2426.0,1129.0,1061.0,974.0,905.0,888.0,877.0,866.0,861.0,860.0,852.0,814.0,753.0,741.0,729.0,714.0,699.0,691.0,690.0,676.0,665.0,648.0,638.0,623.0,609.0,608.0,595.0,578.0,531.0,521.0,514.0,506.0,503.0,500.0,497.0,489.0,487.0,472.0,468.0,454.0],\"xaxis\":\"x\",\"y\":[\"electricitymap-contrib\",\"Awesome Earth\",\"Emoncms\",\"Awesome Open Geoscience\",\"MetPy\",\"OpenFarm\",\"awesome-transit\",\"Awesome Remote Sensing Change Detection\",\"WoBike\",\"openfoodnetwork\",\"Awesome Agriculture\",\"Transportr\",\"EnergyPlus\",\"Scaphandre\",\"EVCC\",\"pvlib-python\",\"Oceananigans.jl\",\"palmerpenguins\",\"PyPSA\",\"NILM\",\"Earthdata Search\",\"transitfeed\",\"sentinelhub-py\",\"gbfs\",\"pangeo\",\"WhiteboxTools\",\"mobility-data-specification\",\"Streetmix\",\"Energy-Languages\",\"Custom Scripts Sentinel Hub\",\"OpenModelica\",\"iNaturalist\",\"pysheds\",\"Iris\",\"Cloud Carbon Footprint\",\"CoopCycle\",\"pybikes\",\"PlantCV\",\"CodeCarbon\",\"Open-Meteo\"],\"yaxis\":\"y\"}],                        {\"barmode\":\"relative\",\"height\":800,\"legend\":{\"tracegroupgap\":0},\"margin\":{\"t\":60},\"paper_bgcolor\":\"lightgray\",\"showlegend\":false,\"template\":{\"data\":{\"bar\":[{\"error_x\":{\"color\":\"#2a3f5f\"},\"error_y\":{\"color\":\"#2a3f5f\"},\"marker\":{\"line\":{\"color\":\"#E5ECF6\",\"width\":0.5},\"pattern\":{\"fillmode\":\"overlay\",\"size\":10,\"solidity\":0.2}},\"type\":\"bar\"}],\"barpolar\":[{\"marker\":{\"line\":{\"color\":\"#E5ECF6\",\"width\":0.5},\"pattern\":{\"fillmode\":\"overlay\",\"size\":10,\"solidity\":0.2}},\"type\":\"barpolar\"}],\"carpet\":[{\"aaxis\":{\"endlinecolor\":\"#2a3f5f\",\"gridcolor\":\"white\",\"linecolor\":\"white\",\"minorgridcolor\":\"white\",\"startlinecolor\":\"#2a3f5f\"},\"baxis\":{\"endlinecolor\":\"#2a3f5f\",\"gridcolor\":\"white\",\"linecolor\":\"white\",\"minorgridcolor\":\"white\",\"startlinecolor\":\"#2a3f5f\"},\"type\":\"carpet\"}],\"choropleth\":[{\"colorbar\":{\"outlinewidth\":0,\"ticks\":\"\"},\"type\":\"choropleth\"}],\"contour\":[{\"colorbar\":{\"outlinewidth\":0,\"ticks\":\"\"},\"colorscale\":[[0.0,\"#0d0887\"],[0.1111111111111111,\"#46039f\"],[0.2222222222222222,\"#7201a8\"],[0.3333333333333333,\"#9c179e\"],[0.4444444444444444,\"#bd3786\"],[0.5555555555555556,\"#d8576b\"],[0.6666666666666666,\"#ed7953\"],[0.7777777777777778,\"#fb9f3a\"],[0.8888888888888888,\"#fdca26\"],[1.0,\"#f0f921\"]],\"type\":\"contour\"}],\"contourcarpet\":[{\"colorbar\":{\"outlinewidth\":0,\"ticks\":\"\"},\"type\":\"contourcarpet\"}],\"heatmap\":[{\"colorbar\":{\"outlinewidth\":0,\"ticks\":\"\"},\"colorscale\":[[0.0,\"#0d0887\"],[0.1111111111111111,\"#46039f\"],[0.2222222222222222,\"#7201a8\"],[0.3333333333333333,\"#9c179e\"],[0.4444444444444444,\"#bd3786\"],[0.5555555555555556,\"#d8576b\"],[0.6666666666666666,\"#ed7953\"],[0.7777777777777778,\"#fb9f3a\"],[0.8888888888888888,\"#fdca26\"],[1.0,\"#f0f921\"]],\"type\":\"heatmap\"}],\"heatmapgl\":[{\"colorbar\":{\"outlinewidth\":0,\"ticks\":\"\"},\"colorscale\":[[0.0,\"#0d0887\"],[0.1111111111111111,\"#46039f\"],[0.2222222222222222,\"#7201a8\"],[0.3333333333333333,\"#9c179e\"],[0.4444444444444444,\"#bd3786\"],[0.5555555555555556,\"#d8576b\"],[0.6666666666666666,\"#ed7953\"],[0.7777777777777778,\"#fb9f3a\"],[0.8888888888888888,\"#fdca26\"],[1.0,\"#f0f921\"]],\"type\":\"heatmapgl\"}],\"histogram\":[{\"marker\":{\"pattern\":{\"fillmode\":\"overlay\",\"size\":10,\"solidity\":0.2}},\"type\":\"histogram\"}],\"histogram2d\":[{\"colorbar\":{\"outlinewidth\":0,\"ticks\":\"\"},\"colorscale\":[[0.0,\"#0d0887\"],[0.1111111111111111,\"#46039f\"],[0.2222222222222222,\"#7201a8\"],[0.3333333333333333,\"#9c179e\"],[0.4444444444444444,\"#bd3786\"],[0.5555555555555556,\"#d8576b\"],[0.6666666666666666,\"#ed7953\"],[0.7777777777777778,\"#fb9f3a\"],[0.8888888888888888,\"#fdca26\"],[1.0,\"#f0f921\"]],\"type\":\"histogram2d\"}],\"histogram2dcontour\":[{\"colorbar\":{\"outlinewidth\":0,\"ticks\":\"\"},\"colorscale\":[[0.0,\"#0d0887\"],[0.1111111111111111,\"#46039f\"],[0.2222222222222222,\"#7201a8\"],[0.3333333333333333,\"#9c179e\"],[0.4444444444444444,\"#bd3786\"],[0.5555555555555556,\"#d8576b\"],[0.6666666666666666,\"#ed7953\"],[0.7777777777777778,\"#fb9f3a\"],[0.8888888888888888,\"#fdca26\"],[1.0,\"#f0f921\"]],\"type\":\"histogram2dcontour\"}],\"mesh3d\":[{\"colorbar\":{\"outlinewidth\":0,\"ticks\":\"\"},\"type\":\"mesh3d\"}],\"parcoords\":[{\"line\":{\"colorbar\":{\"outlinewidth\":0,\"ticks\":\"\"}},\"type\":\"parcoords\"}],\"pie\":[{\"automargin\":true,\"type\":\"pie\"}],\"scatter\":[{\"marker\":{\"colorbar\":{\"outlinewidth\":0,\"ticks\":\"\"}},\"type\":\"scatter\"}],\"scatter3d\":[{\"line\":{\"colorbar\":{\"outlinewidth\":0,\"ticks\":\"\"}},\"marker\":{\"colorbar\":{\"outlinewidth\":0,\"ticks\":\"\"}},\"type\":\"scatter3d\"}],\"scattercarpet\":[{\"marker\":{\"colorbar\":{\"outlinewidth\":0,\"ticks\":\"\"}},\"type\":\"scattercarpet\"}],\"scattergeo\":[{\"marker\":{\"colorbar\":{\"outlinewidth\":0,\"ticks\":\"\"}},\"type\":\"scattergeo\"}],\"scattergl\":[{\"marker\":{\"colorbar\":{\"outlinewidth\":0,\"ticks\":\"\"}},\"type\":\"scattergl\"}],\"scattermapbox\":[{\"marker\":{\"colorbar\":{\"outlinewidth\":0,\"ticks\":\"\"}},\"type\":\"scattermapbox\"}],\"scatterpolar\":[{\"marker\":{\"colorbar\":{\"outlinewidth\":0,\"ticks\":\"\"}},\"type\":\"scatterpolar\"}],\"scatterpolargl\":[{\"marker\":{\"colorbar\":{\"outlinewidth\":0,\"ticks\":\"\"}},\"type\":\"scatterpolargl\"}],\"scatterternary\":[{\"marker\":{\"colorbar\":{\"outlinewidth\":0,\"ticks\":\"\"}},\"type\":\"scatterternary\"}],\"surface\":[{\"colorbar\":{\"outlinewidth\":0,\"ticks\":\"\"},\"colorscale\":[[0.0,\"#0d0887\"],[0.1111111111111111,\"#46039f\"],[0.2222222222222222,\"#7201a8\"],[0.3333333333333333,\"#9c179e\"],[0.4444444444444444,\"#bd3786\"],[0.5555555555555556,\"#d8576b\"],[0.6666666666666666,\"#ed7953\"],[0.7777777777777778,\"#fb9f3a\"],[0.8888888888888888,\"#fdca26\"],[1.0,\"#f0f921\"]],\"type\":\"surface\"}],\"table\":[{\"cells\":{\"fill\":{\"color\":\"#EBF0F8\"},\"line\":{\"color\":\"white\"}},\"header\":{\"fill\":{\"color\":\"#C8D4E3\"},\"line\":{\"color\":\"white\"}},\"type\":\"table\"}]},\"layout\":{\"annotationdefaults\":{\"arrowcolor\":\"#2a3f5f\",\"arrowhead\":0,\"arrowwidth\":1},\"autotypenumbers\":\"strict\",\"coloraxis\":{\"colorbar\":{\"outlinewidth\":0,\"ticks\":\"\"}},\"colorscale\":{\"diverging\":[[0,\"#8e0152\"],[0.1,\"#c51b7d\"],[0.2,\"#de77ae\"],[0.3,\"#f1b6da\"],[0.4,\"#fde0ef\"],[0.5,\"#f7f7f7\"],[0.6,\"#e6f5d0\"],[0.7,\"#b8e186\"],[0.8,\"#7fbc41\"],[0.9,\"#4d9221\"],[1,\"#276419\"]],\"sequential\":[[0.0,\"#0d0887\"],[0.1111111111111111,\"#46039f\"],[0.2222222222222222,\"#7201a8\"],[0.3333333333333333,\"#9c179e\"],[0.4444444444444444,\"#bd3786\"],[0.5555555555555556,\"#d8576b\"],[0.6666666666666666,\"#ed7953\"],[0.7777777777777778,\"#fb9f3a\"],[0.8888888888888888,\"#fdca26\"],[1.0,\"#f0f921\"]],\"sequentialminus\":[[0.0,\"#0d0887\"],[0.1111111111111111,\"#46039f\"],[0.2222222222222222,\"#7201a8\"],[0.3333333333333333,\"#9c179e\"],[0.4444444444444444,\"#bd3786\"],[0.5555555555555556,\"#d8576b\"],[0.6666666666666666,\"#ed7953\"],[0.7777777777777778,\"#fb9f3a\"],[0.8888888888888888,\"#fdca26\"],[1.0,\"#f0f921\"]]},\"colorway\":[\"#636efa\",\"#EF553B\",\"#00cc96\",\"#ab63fa\",\"#FFA15A\",\"#19d3f3\",\"#FF6692\",\"#B6E880\",\"#FF97FF\",\"#FECB52\"],\"font\":{\"color\":\"#2a3f5f\"},\"geo\":{\"bgcolor\":\"white\",\"lakecolor\":\"white\",\"landcolor\":\"#E5ECF6\",\"showlakes\":true,\"showland\":true,\"subunitcolor\":\"white\"},\"hoverlabel\":{\"align\":\"left\"},\"hovermode\":\"closest\",\"mapbox\":{\"style\":\"light\"},\"paper_bgcolor\":\"white\",\"plot_bgcolor\":\"#E5ECF6\",\"polar\":{\"angularaxis\":{\"gridcolor\":\"white\",\"linecolor\":\"white\",\"ticks\":\"\"},\"bgcolor\":\"#E5ECF6\",\"radialaxis\":{\"gridcolor\":\"white\",\"linecolor\":\"white\",\"ticks\":\"\"}},\"scene\":{\"xaxis\":{\"backgroundcolor\":\"#E5ECF6\",\"gridcolor\":\"white\",\"gridwidth\":2,\"linecolor\":\"white\",\"showbackground\":true,\"ticks\":\"\",\"zerolinecolor\":\"white\"},\"yaxis\":{\"backgroundcolor\":\"#E5ECF6\",\"gridcolor\":\"white\",\"gridwidth\":2,\"linecolor\":\"white\",\"showbackground\":true,\"ticks\":\"\",\"zerolinecolor\":\"white\"},\"zaxis\":{\"backgroundcolor\":\"#E5ECF6\",\"gridcolor\":\"white\",\"gridwidth\":2,\"linecolor\":\"white\",\"showbackground\":true,\"ticks\":\"\",\"zerolinecolor\":\"white\"}},\"shapedefaults\":{\"line\":{\"color\":\"#2a3f5f\"}},\"ternary\":{\"aaxis\":{\"gridcolor\":\"white\",\"linecolor\":\"white\",\"ticks\":\"\"},\"baxis\":{\"gridcolor\":\"white\",\"linecolor\":\"white\",\"ticks\":\"\"},\"bgcolor\":\"#E5ECF6\",\"caxis\":{\"gridcolor\":\"white\",\"linecolor\":\"white\",\"ticks\":\"\"}},\"title\":{\"x\":0.05},\"xaxis\":{\"automargin\":true,\"gridcolor\":\"white\",\"linecolor\":\"white\",\"ticks\":\"\",\"title\":{\"standoff\":15},\"zerolinecolor\":\"white\",\"zerolinewidth\":2},\"yaxis\":{\"automargin\":true,\"gridcolor\":\"white\",\"linecolor\":\"white\",\"ticks\":\"\",\"title\":{\"standoff\":15},\"zerolinecolor\":\"white\",\"zerolinewidth\":2}}},\"xaxis\":{\"anchor\":\"y\",\"domain\":[0.0,1.0],\"title\":{\"text\":\"x\"}},\"yaxis\":{\"anchor\":\"x\",\"domain\":[0.0,1.0],\"title\":{\"text\":\"y\"}}},                        {\"responsive\": true}                    ).then(function(){\n",
       "                            \n",
       "var gd = document.getElementById('9f62f598-8658-46eb-88ae-cd7554d4440a');\n",
       "var x = new MutationObserver(function (mutations, observer) {{\n",
       "        var display = window.getComputedStyle(gd).display;\n",
       "        if (!display || display === 'none') {{\n",
       "            console.log([gd, 'removed!']);\n",
       "            Plotly.purge(gd);\n",
       "            observer.disconnect();\n",
       "        }}\n",
       "}});\n",
       "\n",
       "// Listen for the removal of the full notebook cells\n",
       "var notebookContainer = gd.closest('#notebook-container');\n",
       "if (notebookContainer) {{\n",
       "    x.observe(notebookContainer, {childList: true});\n",
       "}}\n",
       "\n",
       "// Listen for the clearing of the current output cell\n",
       "var outputEl = gd.closest('.output');\n",
       "if (outputEl) {{\n",
       "    x.observe(outputEl, {childList: true});\n",
       "}}\n",
       "\n",
       "                        })                };                });            </script>        </div>"
      ]
     },
     "metadata": {},
     "output_type": "display_data"
    }
   ],
   "source": [
    "contributors = df.nlargest(40, 'stargazers_count')\n",
    "\n",
    "fig = px.bar(x=contributors['stargazers_count'], y=contributors['project_name'], orientation='h')\n",
    "\n",
    "fig.update_layout(\n",
    "    paper_bgcolor=\"lightgray\",\n",
    "    height=800,  # Added parameter\n",
    ")\n",
    "\n",
    "fig.update(layout_showlegend=False)"
   ]
  },
  {
   "cell_type": "code",
   "execution_count": 12,
   "metadata": {
    "scrolled": true
   },
   "outputs": [
    {
     "data": {
      "application/vnd.plotly.v1+json": {
       "config": {
        "plotlyServerURL": "https://plot.ly"
       },
       "data": [
        {
         "hovertemplate": "<b>%{hovertext}</b><br><br>project_age_in_days=%{x}<br>rubric=%{y}<br>size=%{marker.size}<br>activity=%{marker.color}<extra></extra>",
         "hovertext": [
          "https://github.com/pvlib/pvlib-python.git",
          "https://github.com/SunPower/pvfactors.git",
          "https://github.com/NREL/rdtools.git",
          "https://github.com/pvedu/photovoltaic.git",
          "https://github.com/NREL/SolarPILOT.git",
          "https://github.com/slacgismo/solar-data-tools.git",
          "https://github.com/tdcosim/SolarPV-DER-simulation-tool.git",
          "https://github.com/NREL/bifacial_radiance.git",
          "https://github.com/qpv-research-group/solcore5.git",
          "https://github.com/squishykid/solax.git",
          "https://github.com/NREL/bifacialvf.git",
          "https://github.com/SolarTherm/SolarTherm.git",
          "https://github.com/LibreSolar/bms-firmware.git",
          "https://github.com/LibreSolar/charge-controller-firmware.git",
          "https://github.com/openclimatefix/pvoutput.git",
          "https://github.com/openclimatefix/predict_pv_yield.git",
          "https://github.com/meltaxa/solariot.git",
          "https://github.com/pvlib/pvanalytics.git",
          "https://github.com/PerovskiteSCModelling/IonMonger.git",
          "https://github.com/qpv-research-group/rayflare.git",
          "https://github.com/slacgismo/StatisticalClearSky.git",
          "https://github.com/ropensci/nasapower.git",
          "https://github.com/NREL/SolTrace.git",
          "https://github.com/WMD-group/CarrierCapture.jl.git",
          "https://github.com/iat-cener/tonatiuh.git",
          "https://github.com/BreakingBytes/pvfree.git",
          "https://github.com/NREL/PV_ICE.git",
          "https://github.com/openclimatefix/nowcasting.git",
          "https://github.com/SolarArbiter/solarforecastarbiter-core.git",
          "https://github.com/slacgismo/pv-system-profiler.git",
          "https://github.com/Lkruitwagen/solar-pv-global-inventory.git",
          "https://github.com/NREL/dgen.git",
          "https://github.com/IEAWindTask37/IEA-15-240-RWT.git",
          "https://github.com/wind-python/windpowerlib.git",
          "https://github.com/Exawind/nalu-wind.git",
          "https://github.com/OpenFAST/openfast.git",
          "https://github.com/Exawind/amr-wind.git",
          "https://github.com/NREL/OpenOA.git",
          "https://github.com/NREL/ROSCO.git",
          "https://github.com/NREL/floris.git",
          "https://github.com/WISDEM/WISDEM.git",
          "https://github.com/WISDEM/WOMBAT.git",
          "https://github.com/WISDEM/LandBOSSE.git",
          "https://github.com/OpenMDAO/OpenMDAO.git",
          "https://github.com/sintel-dev/Draco.git",
          "https://github.com/WISDEM/ORBIT.git",
          "https://github.com/nmstreethran/WindTurbineClassification.git",
          "https://github.com/audunarn/ANYstructure.git",
          "https://github.com/python-windrose/windrose.git",
          "https://github.com/ImperialCollegeLondon/sharpy.git",
          "https://github.com/NREL/WindSE.git",
          "https://github.com/WISDEM/WEIS.git",
          "https://github.com/YingyiLiu/HAMS.git",
          "https://github.com/brightwind-dev/brightwind.git",
          "https://github.com/NREL/NRWAL.git",
          "https://github.com/ebranlard/welib.git",
          "https://github.com/SNL-WaterPower/WecOptTool.git",
          "https://github.com/energy-modelling-toolkit/hydro-power-database.git",
          "https://github.com/MHKiT-Software/MHKiT-Python.git",
          "https://github.com/NREL-SIIP/HydroPowerSimulations.jl.git",
          "https://github.com/OpenSimHub/OpenHPL.git",
          "https://github.com/BEMRosetta/BEMRosetta.git",
          "https://github.com/capytaine/capytaine.git",
          "https://github.com/MassimoCimmino/pygfunction.git",
          "https://github.com/wouterpeere/GHEtool.git",
          "https://github.com/lanl/FEHM.git",
          "https://github.com/CalebBell/thermo.git",
          "https://github.com/waiwera/waiwera.git",
          "https://github.com/BioSTEAMDevelopmentGroup/biosteam.git",
          "https://github.com/ECSHackWeek/impedance.py.git",
          "https://github.com/pybamm-team/PyBaMM.git",
          "https://github.com/pybamm-team/liionpack.git",
          "https://github.com/jepegit/cellpy.git",
          "https://github.com/TRI-AMDD/beep.git",
          "https://github.com/snl-quest/snl-quest.git",
          "https://github.com/davidhowey/SLIDE.git",
          "https://github.com/epri-dev/StorageVET.git",
          "https://github.com/BattMoTeam/BattMo.git",
          "https://github.com/battery-lcf/batteryarchive.git",
          "https://github.com/ECSIM/opem.git",
          "https://github.com/ECSIM/gopem.git",
          "https://github.com/ECSIM/pem-dataset1.git",
          "https://github.com/e2nIEE/pandapipes.git",
          "https://github.com/sandialabs/hyram.git",
          "https://github.com/lanl-ansi/GasModels.jl.git",
          "https://github.com/Virtual-FCS/VirtualFCS.git",
          "https://github.com/IIT-EnergySystemModels/openTEPES.git",
          "https://github.com/PowerGenome/PowerGenome.git",
          "https://github.com/NREL/REopt_API.git",
          "https://github.com/energy-modelling-toolkit/Dispa-SET.git",
          "https://github.com/calliope-project/euro-calliope.git",
          "https://github.com/FZJ-IEK3-VSA/FINE.git",
          "https://github.com/com-pas/compas-architecture.git",
          "https://github.com/NREL-SIIP/PowerSimulations.jl.git",
          "https://github.com/NREL-SIIP/PowerSystems.jl.git",
          "https://github.com/balmorelcommunity/Balmorel.git",
          "https://github.com/OpenEnergyPlatform/ontology.git",
          "https://github.com/UNSW-CEEM/nempy.git",
          "https://github.com/bje-/NEMO.git",
          "https://github.com/AntaresSimulatorTeam/Antares_Simulator.git",
          "https://github.com/GMLC-TDC/HELICS.git",
          "https://github.com/oemof/oemof-solph.git",
          "https://github.com/oemof/oemof-thermal.git",
          "https://github.com/openENTRANCE/openentrance.git",
          "https://github.com/IDAES/idaes-pse.git",
          "https://github.com/TemoaProject/temoa.git",
          "https://github.com/ie3-institute/PowerSystemDataModel.git",
          "https://github.com/PyPSA/pypsa-eur-sec.git",
          "https://github.com/rte-antares-rpackage/antaresViz.git",
          "https://github.com/rte-antares-rpackage/antaresRead.git",
          "https://github.com/Spine-project/Spine-Toolbox.git",
          "https://github.com/oemof/demandlib.git",
          "https://github.com/reegis/deflex.git",
          "https://github.com/ADGEfficiency/energy-py-linear.git",
          "https://github.com/leonardgoeke/AnyMOD.jl.git",
          "https://github.com/NREL/reVX.git",
          "https://github.com/sogno-platform/dpsim.git",
          "https://github.com/pypsa-meets-africa/pypsa-africa.git",
          "https://github.com/GenXProject/GenX.git",
          "https://github.com/OpenEnergyPlatform/oeplatform.git",
          "https://github.com/PyPSA/PyPSA.git",
          "https://github.com/oemof/oemof.git",
          "https://github.com/tum-ens/pyGRETA.git",
          "https://github.com/powsybl/powsybl-core.git",
          "https://github.com/powsybl/powsybl-open-loadflow.git",
          "https://github.com/MATPOWER/matpower.git",
          "https://github.com/energyRt/energyRt.git",
          "https://github.com/rl-institut/multi-vector-simulator.git",
          "https://github.com/RAMP-project/RAMP.git",
          "https://github.com/NREL/reV.git",
          "https://github.com/ADGEfficiency/energy-py.git",
          "https://github.com/OnSSET/onsset.git",
          "https://github.com/intelligent-environments-lab/CityLearn.git",
          "https://github.com/IBM/rl-testbed-for-energyplus.git",
          "https://github.com/FZJ-IEK3-VSA/tsam.git",
          "https://github.com/iiasa/message_ix.git",
          "https://github.com/blue-marble/gridpath.git",
          "https://github.com/cuihantao/andes.git",
          "https://github.com/Breakthrough-Energy/REISE.jl.git",
          "https://github.com/EnergyTransition/ESDL.git",
          "https://github.com/slacgismo/TESS.git",
          "https://github.com/Thales1330/PSP.git",
          "https://github.com/Energy-Innovation/eps-us.git",
          "https://github.com/TemoaProject/oeo.git",
          "https://github.com/OpenSTEF/openstef.git",
          "https://github.com/PyPSA/technology-data.git",
          "https://github.com/DrafProject/draf.git",
          "https://github.com/OpenEMS/openems.git",
          "https://github.com/opfab/operatorfabric-core.git",
          "https://github.com/Energy-Sparks/energy-sparks.git",
          "https://github.com/openenergymonitor/emonpi.git",
          "https://github.com/FlexMeasures/flexmeasures.git",
          "https://github.com/e2nIEE/simbench.git",
          "https://github.com/grid-parity-exchange/Egret.git",
          "https://github.com/PyPSA/pypsa-eur.git",
          "https://github.com/OSGP/open-smart-grid-platform.git",
          "https://github.com/lanl-ansi/PowerModels.jl.git",
          "https://github.com/lanl-ansi/PowerModelsAnnex.jl.git",
          "https://github.com/rte-france/Grid2Op.git",
          "https://github.com/openego/eDisGo.git",
          "https://github.com/rl-institut/offgridders.git",
          "https://github.com/GridMod/RTS-GMLC.git",
          "https://github.com/JuliaEnergy/PowerDynamics.jl.git",
          "https://github.com/NREL-SIIP/InfrastructureSystems.jl.git",
          "https://github.com/SanPen/GridCal.git",
          "https://github.com/energywebfoundation/origin.git",
          "https://github.com/gridsingularity/gsy-e.git",
          "https://github.com/Total-RD/pymgrid.git",
          "https://github.com/slacgismo/gridlabd.git",
          "https://github.com/robinhenry/gym-anm.git",
          "https://github.com/Breakthrough-Energy/PowerSimData.git",
          "https://github.com/ie3-institute/simona.git",
          "https://github.com/opennem/opennem-fe.git",
          "https://github.com/catalyst-cooperative/pudl.git",
          "https://github.com/electricitymap/electricitymap-contrib.git",
          "https://github.com/EnergieID/entsoe-py.git",
          "https://github.com/OpenEnergyPlatform/open-MaStR.git",
          "https://github.com/PyPSA/powerplantmatching.git",
          "https://github.com/cristianst85/GeoNuclearData.git",
          "https://github.com/thomastu/pyEIA.git",
          "https://github.com/PyPSA/atlite.git",
          "https://github.com/m4rz910/NYISOToolkit.git",
          "https://github.com/owid/energy-data.git",
          "https://github.com/DemandRegioTeam/disaggregator.git",
          "https://github.com/systemcatch/eiapy.git",
          "https://github.com/OSUKED/Power-Station-Dictionary.git",
          "https://github.com/OSUKED/ElexonDataPortal.git",
          "https://github.com/hpxmlwg/hpxml.git",
          "https://github.com/NREL/hescore-hpxml.git",
          "https://github.com/FZJ-IEK3-VSA/LoadProfileGenerator.git",
          "https://github.com/SEED-platform/seed.git",
          "https://github.com/EcotopeResearch/HPWHsim.git",
          "https://github.com/NREL/OpenStudio-ERI.git",
          "https://github.com/NREL/OpenStudio-HPXML.git",
          "https://github.com/RWTH-EBC/TEASER.git",
          "https://github.com/oemof/tespy.git",
          "https://github.com/architecture-building-systems/CityEnergyAnalyst.git",
          "https://github.com/lbl-srg/MPCPy.git",
          "https://github.com/lbl-srg/obc.git",
          "https://github.com/UdK-VPT/BuildingSystems.git",
          "https://github.com/ibpsa/project1.git",
          "https://github.com/TEB-model/teb.git",
          "https://github.com/oemof/DHNx.git",
          "https://github.com/CenterForTheBuiltEnvironment/pythermalcomfort.git",
          "https://github.com/CenterForTheBuiltEnvironment/comfort_tool.git",
          "https://github.com/NREL/resstock.git",
          "https://github.com/dsmrreader/dsmr-reader.git",
          "https://github.com/hongyuanjia/eplusr.git",
          "https://github.com/BrickSchema/Brick.git",
          "https://github.com/volkszaehler/mbmd.git",
          "https://github.com/FZJ-IEK3-VSA/HiSim.git",
          "https://github.com/RE-Lab-Projects/hplib.git",
          "https://github.com/ecmwf-projects/thermofeel.git",
          "https://github.com/CenterForTheBuiltEnvironment/clima.git",
          "https://github.com/ropensci/stplanr.git",
          "https://github.com/mobilityhouse/ocpp.git",
          "https://github.com/ShellRechargeSolutionsEU/docile-charge-point.git",
          "https://github.com/maasglobal/maas-schemas.git",
          "https://github.com/coopcycle/coopcycle-web.git",
          "https://github.com/EVNotify/EVNotify.git",
          "https://github.com/OpenEVSE/ESP8266_WiFi_v2.x.git",
          "https://github.com/openmobilityfoundation/mobility-data-specification.git",
          "https://github.com/mdolab/openconcept.git",
          "https://github.com/evcc-io/evcc.git",
          "https://github.com/SwitchEV/RISE-V2G.git",
          "https://github.com/google/transitfeed.git",
          "https://github.com/systragroup/quetzal.git",
          "https://github.com/Universite-Gustave-Eiffel/NoiseCapture.git",
          "https://github.com/ropensci/bikedata.git",
          "https://github.com/cyclosm/cyclosm-cartocss-style.git",
          "https://github.com/upb-lea/gym-electric-motor.git",
          "https://github.com/LBNL-UCB-STI/beam.git",
          "https://github.com/ubahnverleih/WoBike.git",
          "https://github.com/PierrickP/multicycles.git",
          "https://github.com/OpenChargingCloud/ChargyDesktopApp.git",
          "https://github.com/RAMP-project/RAMP-mobility.git",
          "https://github.com/ITSLeeds/pct.git",
          "https://github.com/goat-community/goat.git",
          "https://github.com/ATFutures/gtfs-router.git",
          "https://github.com/d-wasserman/Complete_Street_Rule.git",
          "https://github.com/jrester/tesla_powerwall.git",
          "https://github.com/gsoh/VED.git",
          "https://github.com/NABSA/gbfs.git",
          "https://github.com/johan12345/EVMap.git",
          "https://github.com/SAP/emobility-smart-charging.git",
          "https://github.com/andmos/BikeshareClient.git",
          "https://github.com/EVerest/EVerest.git",
          "https://github.com/transitland/transitland-atlas.git",
          "https://github.com/OpenModelica/OpenModelica.git",
          "https://github.com/greensoftwarelab/Energy-Languages.git",
          "https://github.com/hubblo-org/scaphandre.git",
          "https://github.com/powerapi-ng/powerapi.git",
          "https://github.com/patch-technology/patch-node.git",
          "https://github.com/thegreenwebfoundation/co2.js.git",
          "https://github.com/Organic-Basics/ob-low-impact-website.git",
          "https://github.com/kylemcdonald/ethereum-nft-activity.git",
          "https://github.com/cloud-carbon-footprint/cloud-carbon-footprint.git",
          "https://github.com/powerapi-ng/pyJoules.git",
          "https://github.com/GoogleCloudPlatform/region-carbon-info.git",
          "https://github.com/dos-group/leaf.git",
          "https://github.com/kylemcdonald/ethereum-nft-activity.git",
          "https://github.com/kube-green/kube-green.git",
          "https://github.com/cnumr/ecoCode.git",
          "https://github.com/sustainable-computing-io/kepler.git",
          "https://github.com/Green-Software-Foundation/software_carbon_intensity.git",
          "https://github.com/jawache/principles-green.git",
          "https://github.com/thegreenwebfoundation/grid-intensity-go.git",
          "https://github.com/mlco2/impact.git",
          "https://github.com/ConferenceCarbonTracker/CarbonFootprintEGU.git",
          "https://github.com/NMF-earth/nmf-app.git",
          "https://github.com/mlco2/codecarbon.git",
          "https://github.com/carbonalyser/Carbonalyser.git",
          "https://github.com/opentaps/blockchain-carbon-accounting.git",
          "https://github.com/kansoapp/carbonfact-models.git",
          "https://github.com/climatiq/Open-Emission-Factors-DB.git",
          "https://github.com/DrafProject/elmada.git",
          "https://github.com/Boavizta/environmental-footprint-data.git",
          "https://github.com/openclimatedata/unfccc-detailed-data-by-party.git",
          "https://github.com/GranthamImperial/silicone.git",
          "https://github.com/carbonplan/cdr-database.git",
          "https://github.com/CCSI-Toolset/FOQUS.git",
          "https://github.com/GEOSX/GEOSX.git",
          "https://github.com/hsbay/cdrmex.git",
          "https://github.com/dataforgoodfr/batch7_satellite_ges.git",
          "https://github.com/emissions-api/emissions-api.git",
          "https://github.com/atmoschem/eixport.git",
          "https://github.com/atmoschem/EmissV.git",
          "https://github.com/JGCRI/CEDS.git",
          "https://github.com/quishqa/PyChEmiss.git",
          "https://github.com/owid/co2-data.git",
          "https://github.com/uataq/X-STILT.git",
          "https://github.com/uataq/stilt.git",
          "https://github.com/arbrandt/OPGEE.git",
          "https://github.com/CMU-CREATE-Lab/deep-smoke-machine.git",
          "https://github.com/Ribbit-Network/ribbit-network-frog-sensor.git",
          "https://github.com/milankl/FlyingClimate.git",
          "https://github.com/ICOS-Carbon-Portal/pylib.git",
          "https://github.com/brightway-lca/brightway2.git",
          "https://github.com/romainsacchi/carculator.git",
          "https://github.com/oie-mines-paristech/lca_algebraic.git",
          "https://github.com/Vizzuality/trase.git",
          "https://github.com/QSD-Group/QSDsan.git",
          "https://github.com/polca/premise.git",
          "https://github.com/USEPA/useeior.git",
          "https://github.com/USEPA/Federal-LCA-Commons-Elementary-Flow-List.git",
          "https://github.com/pedropro/TACO.git",
          "https://github.com/circularfashion/cf-circularity-id-standard.git",
          "https://github.com/OpenLitterMap/openlittermap-web.git",
          "https://github.com/WWF-Deutschland/marine-plastic-explorer.git",
          "https://github.com/NASA-IMPACT/marine_debris_ML.git",
          "https://github.com/TheOceanCleanupAlgorithms/ADVECT.git",
          "https://github.com/marine-debris/marine-debris.github.io.git",
          "https://github.com/wimlds-trojmiasto/detect-waste.git",
          "https://github.com/santiago-sanitation-systems/Santiago.jl.git",
          "https://github.com/wri/carbon-budget.git",
          "https://github.com/umr-amap/BIOMASS.git",
          "https://github.com/MetOffice/forest.git",
          "https://github.com/openforis/sepal.git",
          "https://github.com/forc-db/ForC.git",
          "https://github.com/tiagodc/TreeLS.git",
          "https://github.com/wri/gfw-mapbuilder.git",
          "https://github.com/r-lidar/lidR.git",
          "https://github.com/weecology/DeepForest.git",
          "https://github.com/WSWUP/pymetric.git",
          "https://github.com/weecology/NeonTreeEvaluation.git",
          "https://github.com/weecology/DeepTreeAttention.git",
          "https://github.com/woodcrafty/PyETo.git",
          "https://github.com/sollano/forestmangr.git",
          "https://github.com/NGEET/fates.git",
          "https://github.com/ghislainv/forestatrisk.git",
          "https://github.com/pyronear/pyro-vision.git",
          "https://github.com/CornellLabofOrnithology/auk.git",
          "https://github.com/VIAME/VIAME.git",
          "https://github.com/NOAA-EDAB/ecodata.git",
          "https://github.com/bullocke/coded.git",
          "https://github.com/openplantpathology/OpenPlantPathology.git",
          "https://github.com/allisonhorst/palmerpenguins.git",
          "https://github.com/iobis/robis.git",
          "https://github.com/JuliaOcean/PlanktonIndividuals.jl.git",
          "https://github.com/prioritizr/wdpar.git",
          "https://github.com/alan-turing-institute/monitoring-ecosystem-resilience.git",
          "https://github.com/bluegreen-labs/phenocamr.git",
          "https://github.com/pinskylab/OceanAdapt.git",
          "https://github.com/Plant-for-the-Planet-org/treecounter-app.git",
          "https://github.com/microsoft/aerial_wildlife_detection.git",
          "https://github.com/pyronear/pyro-risks.git",
          "https://github.com/Plant-for-the-Planet-org/treemapper.git",
          "https://github.com/jbferet/biodivMapR.git",
          "https://github.com/wri/sentinel-tree-cover.git",
          "https://github.com/Bioverse-Labs/deep-learning.git",
          "https://github.com/protect-earth/TreeTracker.git",
          "https://github.com/carbonplan/forest-risks.git",
          "https://github.com/carlos-alberto-silva/rGEDI.git",
          "https://github.com/bcgov/wps.git",
          "https://github.com/technologiestiftung/giessdenkiez-de.git",
          "https://github.com/SKrisanski/FSCT.git",
          "https://github.com/MAAP-Project/maap-documentation.git",
          "https://github.com/WildMeOrg/Wildbook.git",
          "https://github.com/bi0m3trics/spanner.git",
          "https://github.com/Greenstand/treetracker-android.git",
          "https://github.com/andrew-plowright/ForestTools.git",
          "https://github.com/earthlab/firedpy.git",
          "https://github.com/BioPAL/BioPAL.git",
          "https://github.com/eco-hydro/phenofit.git",
          "https://github.com/mapme-initiative/mapme.biodiversity.git",
          "https://github.com/prioritizr/prioritizr.git",
          "https://github.com/smrt-model/smrt.git",
          "https://github.com/OGGM/oggm.git",
          "https://github.com/CICE-Consortium/CICE.git",
          "https://github.com/CICE-Consortium/Icepack.git",
          "https://github.com/weiji14/deepbedmap.git",
          "https://github.com/nasa-jpl/captoolkit.git",
          "https://github.com/vannizhang/sea-ice.git",
          "https://github.com/GEUS-Glaciology-and-Climate/freshwater.git",
          "https://github.com/PennyHow/PyTrx.git",
          "https://github.com/ECCO-GROUP/ECCO-v4-Python-Tutorial.git",
          "https://github.com/icesat2py/icepyx.git",
          "https://github.com/krisrs1128/glacier_mapping.git",
          "https://github.com/weiji14/deepicedrain.git",
          "https://github.com/cryotools/cosipy.git",
          "https://github.com/nsidc/qgreenland.git",
          "https://github.com/Ouranosinc/raven.git",
          "https://github.com/NorESMhub/BLOM.git",
          "https://github.com/CliMA/Oceananigans.jl.git",
          "https://github.com/CliMA/LESbrary.jl.git",
          "https://github.com/ropensci/rrricanes.git",
          "https://github.com/hainegroup/oceanspy.git",
          "https://github.com/team-ocean/veros.git",
          "https://github.com/DFO-Ocean-Navigator/Ocean-Data-Map-Project.git",
          "https://github.com/robwschlegel/heatwaveR.git",
          "https://github.com/MITgcm/MITgcm.git",
          "https://github.com/NCAR/VAPOR.git",
          "https://github.com/beijbom/coralnet.git",
          "https://github.com/NCAR/ccpp-physics.git",
          "https://github.com/OceanParcels/parcels.git",
          "https://github.com/Mohid-Water-Modelling-System/MOHID-Lagrangian.git",
          "https://github.com/Mohid-Water-Modelling-System/Mohid.git",
          "https://github.com/JuliaOcean/AIBECS.jl.git",
          "https://github.com/gotm-model/code.git",
          "https://github.com/NCAR/wrf_hydro_nwm_public.git",
          "https://github.com/UU-Hydro/PCR-GLOBWB_model.git",
          "https://github.com/hydroshare/hydroshare.git",
          "https://github.com/passaH2O/dorado.git",
          "https://github.com/jpgattuso/seacarb-git.git",
          "https://github.com/VeinsOfTheEarth/RivGraph.git",
          "https://github.com/GClunies/noaa_coops.git",
          "https://github.com/COSIMA/cosima-cookbook.git",
          "https://github.com/cordmaur/WaterDetect.git",
          "https://github.com/FLARE-forecast/FLAREr.git",
          "https://github.com/hyriver/hyriver.github.io.git",
          "https://github.com/Deltares/Wflow.jl.git",
          "https://github.com/parflow/parflow.git",
          "https://github.com/sdl60660/river-runner.git",
          "https://github.com/ESIPFed/LakePy.git",
          "https://github.com/aqualinkorg/aqualink-app.git",
          "https://github.com/euroargodev/argopy.git",
          "https://github.com/eWaterCycle/ewatercycle.git",
          "https://github.com/ropensci/tidyhydat.git",
          "https://github.com/mvdh7/PyCO2SYS.git",
          "https://github.com/pastas/pastas.git",
          "https://github.com/USGS-R/river-dl.git",
          "https://github.com/badlands-model/badlands.git",
          "https://github.com/Climdyn/qgs.git",
          "https://github.com/onaci/leaflet-velocity.git",
          "https://github.com/OasisLMF/OasisPiWind.git",
          "https://github.com/slcs-jsc/mptrac.git",
          "https://github.com/NCAR/icar.git",
          "https://github.com/simonom/PyCHAM.git",
          "https://github.com/CNES/MAJA.git",
          "https://github.com/Open-MSS/MSS.git",
          "https://github.com/esowc/Elefridge.jl.git",
          "https://github.com/ExeClim/Isca.git",
          "https://github.com/oceanflux-ghg/FluxEngine.git",
          "https://github.com/openeemeter/eeweather.git",
          "https://github.com/GralDispersionModel/GRAL.git",
          "https://github.com/geoschem/geos-chem.git",
          "https://github.com/E3SM-Project/scream.git",
          "https://github.com/CliMA/RRTMGP.jl.git",
          "https://github.com/geoschem/gcpy.git",
          "https://github.com/ESMValGroup/ESMValTool.git",
          "https://github.com/NOAA-EMC/global-workflow.git",
          "https://github.com/pangeo-data/pangeo.git",
          "https://github.com/ESCOMP/CMEPS.git",
          "https://github.com/E3SM-Project/e3sm_diags.git",
          "https://github.com/NOAA-GFDL/MDTF-diagnostics.git",
          "https://github.com/ESCOMP/CESM.git",
          "https://github.com/JuliaClimate/ClimateBase.jl.git",
          "https://github.com/CliMA/Land.git",
          "https://github.com/LBL-EESA/TECA.git",
          "https://github.com/monocongo/climate_indices.git",
          "https://github.com/CliMA/ClimateMachine.jl.git",
          "https://github.com/ecmwf/atlas.git",
          "https://github.com/NOAA-GFDL/MOM6.git",
          "https://github.com/openclimatedata/pyhector.git",
          "https://github.com/NorESMhub/NorESM.git",
          "https://github.com/climlab/climlab.git",
          "https://github.com/OMS-NetZero/FAIR.git",
          "https://github.com/CLIMADA-project/climada_python.git",
          "https://github.com/ClimateMARGO/ClimateMARGO.jl.git",
          "https://github.com/JuliaClimate/ClimateTools.jl.git",
          "https://github.com/UW-Hydro/MetSim.git",
          "https://github.com/esmf-org/esmf.git",
          "https://github.com/GIS4WRF/gis4wrf.git",
          "https://github.com/ladybug-tools/dragonfly-legacy.git",
          "https://github.com/fnemina/pyOSOAA.git",
          "https://github.com/ecmwf-ifs/ecrad.git",
          "https://github.com/gaelforget/ClimateModels.jl.git",
          "https://github.com/csyhuang/hn2016_falwa.git",
          "https://github.com/pangeo-data/climpred.git",
          "https://github.com/chrisroadmap/climateforcing.git",
          "https://github.com/xgcm/xgcm.git",
          "https://github.com/MPAS-Dev/MPAS-Analysis.git",
          "https://github.com/dalesteam/dales.git",
          "https://github.com/RemoteSensingTools/vSmartMOM.jl.git",
          "https://github.com/earth-system-radiation/rte-rrtmgp.git",
          "https://github.com/AER-RC/LBLRTM.git",
          "https://github.com/eradiate/eradiate.git",
          "https://github.com/slcs-jsc/jurassic.git",
          "https://github.com/tenstream/tenstream.git",
          "https://github.com/SERVIR/ClimateSERV2.git",
          "https://github.com/SERVIR/ClimateSERVpy.git",
          "https://github.com/ropensci/chirps.git",
          "https://github.com/ubilabs/esa-climate-from-space.git",
          "https://github.com/bluegreen-labs/ecmwfr.git",
          "https://github.com/open-meteo/open-meteo.git",
          "https://github.com/ropensci/weathercan.git",
          "https://github.com/eliocamp/metR.git",
          "https://github.com/bczernecki/climate.git",
          "https://github.com/brry/rdwd.git",
          "https://github.com/earthobservations/wetterdienst.git",
          "https://github.com/cf-convention/cf-conventions.git",
          "https://github.com/NCAS-CMS/cf-python.git",
          "https://github.com/xCDAT/xcdat.git",
          "https://github.com/orbisgis/geoclimate.git",
          "https://github.com/meteostat/meteostat-python.git",
          "https://github.com/carbonplan/cmip6-downscaling.git",
          "https://github.com/google/weather-tools.git",
          "https://github.com/SantanderMetGroup/loadeR.git",
          "https://github.com/SantanderMetGroup/climate4R.git",
          "https://github.com/meteoinfo/MeteoInfo.git",
          "https://github.com/ropensci/GSODR.git",
          "https://github.com/VeruGHub/easyclimate.git",
          "https://github.com/pik-primap/climate_categories.git",
          "https://github.com/aaronspring/remote_climate_data.git",
          "https://github.com/openscm/AR6-WG1-Data-Compilation.git",
          "https://github.com/IPCC-WG1/Chapter-9.git",
          "https://github.com/deepsphere/deepsphere-pytorch.git",
          "https://github.com/roocs/clisops.git",
          "https://github.com/SantanderMetGroup/ATLAS.git",
          "https://github.com/Ouranosinc/xclim.git",
          "https://github.com/ARCCSS-extremes/climpact.git",
          "https://github.com/nasa/NASAaccess.git",
          "https://github.com/CCI-Tools/cate.git",
          "https://github.com/ecmwf/climetlab.git",
          "https://github.com/rOpenSpain/climaemet.git",
          "https://github.com/NCAR/ncl.git",
          "https://github.com/xarray-contrib/xskillscore.git",
          "https://github.com/ropensci/getCRUCLdata.git",
          "https://github.com/cortinah/hockeystick.git",
          "https://github.com/ecmwf/cfgrib.git",
          "https://github.com/ideas-lab-nus/epwshiftr.git",
          "https://github.com/intake/intake-esm.git",
          "https://github.com/h5netcdf/h5netcdf.git",
          "https://github.com/boshek/rsoi.git",
          "https://github.com/nco/nco.git",
          "https://github.com/mikejohnson51/climateR.git",
          "https://github.com/metno/esd.git",
          "https://github.com/mathworks/climatedatastore.git",
          "https://github.com/Libbum/DICE.jl.git",
          "https://github.com/IAMconsortium/pyam.git",
          "https://github.com/JGCRI/gcam-core.git",
          "https://github.com/USEPA/CMAQ.git",
          "https://github.com/USEPA/AMET.git",
          "https://github.com/shootismoke/mobile-app.git",
          "https://github.com/jsynowiec/airqmon.git",
          "https://github.com/davidcarslaw/openair.git",
          "https://github.com/openaq/openaq-api-v2.git",
          "https://github.com/openaq/openaq-fetch.git",
          "https://github.com/CEMPD/SMOKE.git",
          "https://github.com/spatialmodel/inmap.git",
          "https://github.com/metno/emep-ctm.git",
          "https://github.com/shuowang-ai/PM2.5-GNN.git",
          "https://github.com/ropensci/rdefra.git",
          "https://github.com/openoakland/woeip.git",
          "https://github.com/opendata-stuttgart/sensor.community.git",
          "https://github.com/JGCRI/rfasst.git",
          "https://github.com/skgrange/saqgetr.git",
          "https://github.com/Ozon3Org/Ozon3.git",
          "https://github.com/lanl-ansi/WaterModels.jl.git",
          "https://github.com/NOAA-OWP/t-route.git",
          "https://github.com/NOAA-OWP/ngen.git",
          "https://github.com/USGS-R/nhdplusTools.git",
          "https://github.com/mroberge/hydrofunctions.git",
          "https://github.com/AquaticEcoDynamics/GLM.git",
          "https://github.com/jsta/nhdR.git",
          "https://github.com/MODFLOW-USGS/modflow6.git",
          "https://github.com/mdbartos/pysheds.git",
          "https://github.com/jblindsay/whitebox-tools.git",
          "https://github.com/ARPA-SIMC/CRITERIA3D.git",
          "https://github.com/USEPA/WNTR.git",
          "https://github.com/bcgov/fasstr.git",
          "https://github.com/bcgov/gwells.git",
          "https://github.com/RAJohansen/waterquality.git",
          "https://github.com/toogad/PooPyLab_Project.git",
          "https://github.com/OpenWaterAnalytics/EPANET.git",
          "https://github.com/bcgov/wqbc.git",
          "https://github.com/WikiWatershed/model-my-watershed.git",
          "https://github.com/pygsflow/pygsflow.git",
          "https://github.com/UMN-Hydro/GSFLOW-GRASS.git",
          "https://github.com/jnsebgosselin/gwhat.git",
          "https://github.com/bcgov/canwqdata.git",
          "https://github.com/USGS-R/HASP.git",
          "https://github.com/CSHS-CWRA/CSHShydRology.git",
          "https://github.com/modflowpy/flopy.git",
          "https://github.com/pcraster/pcraster.git",
          "https://github.com/OSOceanAcoustics/echopype.git",
          "https://github.com/neuralhydrology/neuralhydrology.git",
          "https://github.com/USGS-python/dataretrieval.git",
          "https://github.com/ed-hawkins/rainfall-rescue.git",
          "https://github.com/pySTEPS/pysteps.git",
          "https://github.com/brunomioto/reservatoriosBR.git",
          "https://github.com/usbr/PyForecast.git",
          "https://github.com/Open-ET/openet-ssebop.git",
          "https://github.com/ncss-tech/soilReports.git",
          "https://github.com/ncss-tech/aqp.git",
          "https://github.com/ncss-tech/sharpshootR.git",
          "https://github.com/ncss-tech/soilDB.git",
          "https://github.com/hectornieto/pyTSEB.git",
          "https://github.com/ropensci/smapr.git",
          "https://github.com/TUW-GEO/esa_cci_sm.git",
          "https://github.com/esowc/ml_drought.git",
          "https://github.com/International-Soil-Radiocarbon-Database/ISRaD.git",
          "https://github.com/ConservationInternational/trends.earth.git",
          "https://github.com/felixriese/CNN-SoilTextureClassification.git",
          "https://github.com/geocryology/globsim.git",
          "https://github.com/r-spatialecology/landscapemetrics.git",
          "https://github.com/Christiaanvandertol/SCOPE.git",
          "https://github.com/martibosch/pylandstats.git",
          "https://github.com/ropensci/NLMR.git",
          "https://github.com/eMapR/LT-GEE.git",
          "https://github.com/moja-global/About_moja_global.git",
          "https://github.com/TUW-GEO/ismn.git",
          "https://github.com/Vizzuality/soils-revealed.git",
          "https://github.com/SoilWatch/soil-erosion-watch.git",
          "https://github.com/e-sensing/sits.git",
          "https://github.com/techmatters/terraso-backend.git",
          "https://github.com/DSSAT/dssat-csm-os.git",
          "https://github.com/magpiemodel/magpie.git",
          "https://github.com/AgroCares/Open-Bodem-Index-Calculator.git",
          "https://github.com/APSIMInitiative/ApsimX.git",
          "https://github.com/ConservationInternational/resilienceatlas.git",
          "https://github.com/CarrKnight/POSEIDON.git",
          "https://github.com/karrot-dev/karrot-frontend.git",
          "https://github.com/kazulagi/plantFEM.git",
          "https://github.com/Shyentist/fish-r-man.git",
          "https://github.com/hollorol/AgroMo.git",
          "https://github.com/nasaharvest/cropharvest.git",
          "https://github.com/JokeNetwork/vegancheck.me.git",
          "https://github.com/sentinel-hub/field-delineation.git",
          "https://github.com/maja601/EuroCrops.git",
          "https://github.com/WFP-VAM/prism-frontend.git",
          "https://github.com/spaceml-org/ml4floods.git",
          "https://github.com/global-hydrodynamics/CaMa-Flood_v4.git",
          "https://github.com/NOAA-OWP/inundation-mapping.git",
          "https://github.com/cloudtostreet/MODIS_GlobalFloodDatabase.git",
          "https://github.com/ec-jrc/lisflood-code.git",
          "https://github.com/NRCan/CanFlood.git",
          "https://github.com/Servir-Mekong/hydra-floods.git",
          "https://github.com/OasisLMF/OasisLMF.git",
          "https://github.com/CriticalAssetManagement/CAMS.git",
          "https://github.com/open-sdg/open-sdg.git",
          "https://github.com/sustainlab-group/sustainbench.git",
          "https://github.com/GSA/sdg-indicators-usa.git",
          "https://github.com/owid/sdg-tracker.org.git",
          "https://github.com/natcap/invest.git",
          "https://github.com/remindmodel/remind.git",
          "https://github.com/2DegreesInvesting/r2dii.analysis.git",
          "https://github.com/ScienceBasedTargets/SBTi-finance-tool.git",
          "https://github.com/opentaps/open-climate-investing.git",
          "https://github.com/NREL/ssc.git",
          "https://github.com/os-climate/os_c_data_commons.git",
          "https://github.com/ClimateWatch-Vizzuality/climate-watch.git",
          "https://github.com/lf-energy/lfenergy-landscape.git",
          "https://github.com/ProjectDrawdown/solutions.git",
          "https://github.com/EnvironmentOntology/envo.git",
          "https://github.com/EnviroDIY/ModularSensors.git",
          "https://github.com/climate-strike/license.git",
          "https://github.com/regen-network/regen-ledger.git",
          "https://github.com/stripe/carbon-removal-source-materials.git",
          "https://github.com/usds/justice40-tool.git",
          "https://github.com/DPGAlliance/publicgoods-candidates.git",
          "https://github.com/ESIPFed/sweet.git",
          "https://github.com/radiantearth/radiant-mlhub.git",
          "https://github.com/owid/owid-catalog-py.git",
          "https://github.com/resource-watch/resource-watch.git",
          "https://github.com/piersyork/owidR.git",
          "https://github.com/sentinel-hub/custom-scripts.git",
          "https://github.com/opengeospatial/ogcapi-environmental-data-retrieval.git",
          "https://github.com/rOpenGov/giscoR.git",
          "https://github.com/digitalearthafrica/deafrica-sandbox-notebooks.git",
          "https://github.com/ESGF/esgf-pyclient.git",
          "https://github.com/Open-EO/openeo-python-client.git",
          "https://github.com/mysociety/caps.git",
          "https://github.com/nsidc/earthdata.git",
          "https://github.com/microsoft/AIforEarthDataSets.git",
          "https://github.com/wpgp/wopr.git",
          "https://github.com/brazil-data-cube/rwlts.git",
          "https://github.com/nasa/earthdata-search.git",
          "https://github.com/sentinel-hub/sentinelhub-py.git",
          "https://github.com/microsoft/PlanetaryComputerDataCatalog.git",
          "https://github.com/stac-utils/stac-index.git",
          "https://github.com/openclimatefix/Satip.git",
          "https://github.com/MatMatt/MODIS.git",
          "https://github.com/ecmwf/ecmwf-opendata.git",
          "https://github.com/JuliaDataCubes/EarthDataLab.jl.git",
          "https://github.com/kapadia/usgs.git",
          "https://github.com/16EAGLE/getSpatialData.git",
          "https://github.com/Green-Software-Foundation/awesome-green-software.git",
          "https://github.com/pogopaule/awesome-sustainability-jobs.git",
          "https://github.com/awesome-spectral-indices/awesome-spectral-indices.git",
          "https://github.com/CUTR-at-USF/awesome-transit.git",
          "https://github.com/chrisleaman/awesome-coastal.git",
          "https://github.com/brycejohnston/awesome-agriculture.git",
          "https://github.com/IrishMarineInstitute/awesome-erddap.git",
          "https://github.com/awesome-cryosphere/cryosphere-links.git",
          "https://github.com/nglgzz/awesome-clean-tech.git",
          "https://github.com/philsturgeon/awesome-earth.git",
          "https://github.com/softwareunderground/awesome-open-geoscience.git",
          "https://github.com/wenhwu/awesome-remote-sensing-change-detection.git",
          "https://github.com/samapriya/awesome-gee-community-datasets.git",
          "https://github.com/APA-Technology-Division/urban-and-regional-planning-resources.git",
          "https://github.com/raoulcollenteur/Python-Hydrology-Tools.git"
         ],
         "legendgroup": "",
         "marker": {
          "color": [
           2.096996245306633,
           1.967459324155194,
           2.108886107634543,
           1.0168961201501878,
           0.9443053817271588,
           2.556320400500626,
           1.4098873591989989,
           2.724030037546933,
           2.546933667083855,
           1.9411764705882355,
           2.1670838548185234,
           1.906758448060075,
           1.8448060075093864,
           1.7302878598247808,
           2.84918648310388,
           2.0006257822277846,
           1.7897371714643304,
           2.438047559449312,
           1.936795994993742,
           2.2428035043804755,
           2.27909887359199,
           2.876720901126408,
           1.3704630788485608,
           2.073216520650813,
           1.297872340425532,
           1.1821026282853568,
           1.821026282853567,
           2.1082603254067585,
           2.5531914893617023,
           2.510012515644555,
           1.1864831038798498,
           1.2728410513141428,
           2.5356695869837296,
           1.0819774718398,
           1.867334167709637,
           2.760325406758448,
           1.7290362953692116,
           1.997496871088861,
           2.1727158948685856,
           2.618898623279099,
           2.790362953692115,
           2.344806007509387,
           1.707133917396746,
           2.177096370463079,
           2.122653316645807,
           0.990613266583229,
           1.4449311639549436,
           2.819148936170213,
           1.9580725907384229,
           2.5143929912390486,
           1.8404255319148937,
           2.4030037546933665,
           1.3285356695869837,
           1.0669586983729662,
           2.380475594493116,
           1.3973717146433042,
           2.0043804755944934,
           1.3917396745932415,
           2.1821026282853566,
           1.0675844806007508,
           1.897371714643304,
           1.355444305381727,
           2.1351689612015017,
           2.752816020025032,
           2.3416770963704634,
           1.3241551939924905,
           2.055694618272841,
           1.4843554443053817,
           2.0294117647058822,
           2.2102628285356696,
           3.1364205256570714,
           2.8785982478097623,
           1.938047559449312,
           2.677096370463079,
           1.2659574468085106,
           1.6307884856070087,
           2.2158948685857323,
           2.545056320400501,
           1.053817271589487,
           0.9342928660826032,
           1.1401752190237795,
           0.4599499374217772,
           2.6783479349186483,
           1.0619524405506884,
           2.1689612015018773,
           2.2622027534418025,
           2.478723404255319,
           2.7008760951188986,
           2.9612015018773468,
           1.3610763454317896,
           2.5794743429286604,
           2.421151439299124,
           1.690863579474343,
           2.6101376720901124,
           2.829787234042553,
           2.0131414267834797,
           2.870463078848561,
           2.3892365456821025,
           1.3610763454317898,
           3.0081351689612017,
           2.600125156445557,
           2.5438047559449317,
           1.672090112640801,
           2.020650813516896,
           2.8197747183979978,
           1.7941176470588236,
           2.483103879849812,
           2.3222778473091363,
           1.7991239048811014,
           2.210888610763454,
           2.5344180225281603,
           1.8110137672090112,
           2.316020025031289,
           1.1483103879849812,
           1.7146433041301623,
           2.55819774718398,
           2.1426783479349187,
           2.7158948685857323,
           2.4849812265331668,
           2.641426783479349,
           2.807259073842303,
           1.402377972465582,
           2.160200250312891,
           2.889862327909888,
           2.9249061326658325,
           1.6395494367959949,
           1.3692115143929913,
           2.1382978723404253,
           1.1821026282853566,
           2.488735919899874,
           1.2584480600750938,
           1.6833541927409263,
           2.1082603254067585,
           1.7959949937421775,
           2.423654568210263,
           2.6239048811013768,
           2.332290362953692,
           2.6689612015018778,
           2.051314142678348,
           1.6032540675844806,
           1.3060075093867334,
           1.4874843554443054,
           2.927409261576971,
           1.6076345431789738,
           3.068210262828536,
           2.2246558197747186,
           2.173967459324156,
           2.983729662077597,
           3.117647058823529,
           2.2033792240300376,
           1.8072590738423029,
           2.702753441802253,
           1.7040050062578225,
           1.996245306633292,
           2.797872340425532,
           2.381727158948686,
           1.9167709637046308,
           2.3178973717146434,
           2.7966207759699624,
           2.777221526908636,
           1.1989987484355444,
           1.8479349186483105,
           2.322903629536921,
           2.575719649561952,
           2.3053817271589487,
           3.023153942428035,
           2.7002503128911144,
           2.1408010012515644,
           2.583229036295369,
           1.2359198998748435,
           2.6351689612015017,
           2.102628285356696,
           2.394242803504381,
           2.7653316645807258,
           2.9155193992490616,
           2.307259073842303,
           2.6871088861076347,
           2.3003754693366707,
           1.891739674593241,
           1.7409261576971211,
           2.490613266583229,
           1.1889862327909886,
           1.434292866082603,
           1.1827284105131413,
           1.6727158948685856,
           1.990613266583229,
           2.815394242803505,
           2.542553191489361,
           2.8754693366708386,
           2.0531914893617023,
           3.0581977471839794,
           2.499374217772215,
           2.9787234042553195,
           2.9042553191489366,
           1.737171464330413,
           2.0907384230287858,
           2.595118898623279,
           1.2622027534418023,
           1.8122653316645807,
           1.7265331664580723,
           1.2453066332916145,
           1.6264080100125158,
           1.4593241551939924,
           1.6627033792240302,
           2.016896120150188,
           2.862953692115144,
           2.7759699624530665,
           2.474342928660826,
           2.4874843554443054,
           1.7816020025031292,
           1.9524405506883604,
           2.8060075093867334,
           2.435544430538173,
           2.062578222778473,
           2.2284105131414265,
           2.123279098873592,
           1.12828535669587,
           1.9155193992490611,
           2.812891113892366,
           1.2221526908635794,
           1.2052565707133918,
           2.243429286608261,
           1.7609511889862328,
           2.9612015018773468,
           1.938047559449312,
           1.316020025031289,
           2.0175219023779727,
           1.979349186483104,
           1.5018773466833544,
           1.7747183979974968,
           2.758448060075094,
           2.2866082603254068,
           1.0988735919899877,
           1.802252816020025,
           1.3498122653316649,
           1.6589486858573217,
           2.215269086357948,
           2.60450563204005,
           1.846683354192741,
           1.6883604505632042,
           2.153942428035044,
           1.1633291614518149,
           2.5294117647058822,
           2.632665832290363,
           1.2102628285356696,
           1.253441802252816,
           1.560700876095119,
           1.9549436795994992,
           2.959949937421777,
           1.3861076345431789,
           2.1495619524405507,
           2.392991239048811,
           2.188986232790989,
           2.6570713391739678,
           1.4712140175219024,
           1.67459324155194,
           2.991239048811014,
           1.7196495619524406,
           0.9693366708385482,
           1.8823529411764703,
           1.67459324155194,
           2.6526908635794744,
           2.230913642052565,
           2.3473091364205256,
           1.9956195244055068,
           1.367959949937422,
           2.0319148936170213,
           1.4524405506883604,
           1.2765957446808511,
           2.512515644555694,
           2.6758448060075093,
           1.4055068836045057,
           1.695244055068836,
           1.8316645807259075,
           2.6614518147684607,
           1.7734668335419277,
           2.040675844806008,
           1.3729662077596996,
           2.0269086357947432,
           1.6458072590738424,
           2.5456821026282856,
           2.1689612015018778,
           1.653942428035044,
           1.342928660826033,
           1.874843554443054,
           2.3566958698372966,
           1.9274092615769711,
           1.5688360450563203,
           0.9831038798498124,
           1.934918648310388,
           1.5150187734668334,
           1.4499374217772216,
           2.0619524405506886,
           0.990613266583229,
           2.32540675844806,
           1.695244055068836,
           2.0901126408010016,
           1.2234042553191489,
           2.486232790988736,
           1.3704630788485606,
           2.639549436795995,
           1.646433041301627,
           2.6733416770963707,
           2.980600750938673,
           2.113266583229036,
           1.5600750938673342,
           0.9474342928660826,
           2.212140175219024,
           2.061952440550688,
           1.58072590738423,
           1.5125156445556946,
           1.504380475594493,
           1.9499374217772212,
           2.126408010012516,
           1.2647058823529411,
           1.4255319148936172,
           2.881727158948686,
           2.376720901126408,
           2.2959949937421777,
           1.2065081351689613,
           2.1376720901126407,
           2.335419274092616,
           2.1126408010012514,
           0.7190237797246559,
           1.651439299123905,
           2.852315394242804,
           0.9367959949937422,
           1.8316645807259075,
           2.39549436795995,
           1.862327909887359,
           2.3272841051314144,
           1.0919899874843555,
           1.865456821026283,
           2.3785982478097623,
           1.0919899874843555,
           1.3172715894868587,
           0.8598247809762203,
           2.151439299123905,
           2.4705882352941178,
           1.995619524405507,
           0.9167709637046308,
           1.2941176470588236,
           1.8861076345431789,
           2.0757196495619525,
           1.5569461827284106,
           1.1376720901126407,
           2.31476846057572,
           1.9449311639549436,
           1.6989987484355449,
           1.481852315394243,
           2.364205256570713,
           1.41927409261577,
           1.446182728410513,
           2.0344180225281603,
           2.2734668335419275,
           1.648936170212766,
           1.7196495619524406,
           2.6376720901126407,
           1.900500625782228,
           1.918648310387985,
           1.1695869837296622,
           2.318523153942428,
           2.1896120150187737,
           1.8679599499374215,
           2.3504380475594493,
           2.0062578222778478,
           2.0006257822277846,
           2.594493116395494,
           2.258448060075094,
           1.8260325406758449,
           1.118898623279099,
           0.9198998748435544,
           1.3604505632040051,
           1.5682102628285357,
           2.339799749687109,
           1.3904881101376725,
           2.5919899874843555,
           0.94180225281602,
           1.7897371714643304,
           1.01188986232791,
           2.8579474342928664,
           2.066958698372966,
           2.4918648310387983,
           3.099499374217772,
           2.117647058823529,
           2.278473091364205,
           1.7384230287859823,
           2.5894868585732165,
           2.400500625782228,
           1.7384230287859823,
           2.352941176470588,
           2.6670838548185234,
           1.5638297872340423,
           3.1802252816020027,
           2.7571964956195245,
           0.969962453066333,
           1.7202753441802252,
           2.090738423028786,
           1.3178973717146434,
           1.6739674593241551,
           1.1864831038798498,
           2.988735919899874,
           1.734668335419274,
           1.7352941176470589,
           2.4536921151439297,
           1.3397997496871088,
           1.2953692115143929,
           1.843554443053817,
           2.217772215269086,
           1.6708385481852317,
           2.685857321652065,
           1.821652065081352,
           2.5181476846057573,
           1.8266583229036293,
           1.9868585732165207,
           3.0081351689612017,
           2.427409261576971,
           1.9167709637046308,
           2.2246558197747186,
           2.7571964956195245,
           2.6320400500625785,
           1.5331664580725908,
           1.6783479349186483,
           1.8823529411764703,
           1.4148936170212765,
           2.603879849812265,
           1.9180225281602008,
           1.84918648310388,
           1.3322903629536922,
           2.835419274092616,
           1.5563204005006257,
           2.057571964956195,
           1.5106382978723405,
           1.1483103879849812,
           1.997496871088861,
           2.33729662077597,
           2.503128911138924,
           2.4618272841051314,
           2.4080100125156445,
           2.6858573216520654,
           2.65081351689612,
           1.774718397997497,
           2.139549436795995,
           2.6458072590738424,
           2.442428035043805,
           2.0963704630788484,
           1.8473091364205256,
           1.678973717146433,
           2.503128911138924,
           1.4474342928660828,
           1.9361702127659572,
           2.5469336670838545,
           2.090112640801001,
           1.749061326658323,
           2.0037546933667083,
           2.2847309136420524,
           1.937421777221527,
           2.707759699624531,
           2.1458072590738424,
           2.3178973717146434,
           1.8010012515644556,
           2.595744680851064,
           1.8504380475594493,
           0.8623279098873592,
           1.535043804755945,
           1.4799749687108887,
           2.45369211514393,
           2.0087609511889863,
           2.150187734668336,
           1.7778473091364206,
           2.188986232790989,
           2.800375469336671,
           1.7090112640800998,
           2.2759699624530665,
           1.6846057571964956,
           2.0018773466833544,
           2.191489361702128,
           1.928035043804756,
           1.867334167709637,
           1.8585732165206508,
           1.7403003754693367,
           1.9480600750938677,
           2.9981226533166456,
           1.7446808510638296,
           2.1408010012515644,
           1.739674593241552,
           2.1733416770963707,
           2.122653316645807,
           2.133291614518148,
           2.749061326658323,
           1.6270337922403004,
           2.835419274092616,
           2.4317897371714645,
           2.620775969962453,
           1.997496871088861,
           2.943679599499374,
           2.4080100125156445,
           1.6214017521902375,
           1.772215269086358,
           2.269712140175219,
           2.5193992490613266,
           2.167709637046308,
           2.099499374217772,
           1.792866082603254,
           1.388610763454318,
           1.8754693366708384,
           1.0475594493116396,
           2.34918648310388,
           1.5463078848560703,
           2.9612015018773468,
           1.3541927409261576,
           2.229662077596996,
           2.767834793491865,
           2.560700876095119,
           2.426157697121402,
           1.5957446808510638,
           2.106382978723404,
           0.7678347934918648,
           2.304755944931164,
           1.7959949937421775,
           1.8685857321652064,
           2.0344180225281603,
           2.394868585732165,
           1.8961201501877347,
           2.852315394242804,
           1.3642052565707137,
           1.855444305381727,
           2.260951188986233,
           1.834793491864831,
           2.414267834793492,
           2.596996245306633,
           2.4217772215269084,
           2.0951188986232787,
           1.0894868585732165,
           1.8153942428035044,
           1.321026282853567,
           2.016896120150188,
           2.309136420525657,
           2.1727158948685856,
           1.893617021276596,
           1.727784730913642,
           0.937421777221527,
           1.3060075093867334,
           1.5750938673341677,
           1.6902377972465583,
           2.356070087609512,
           1.113892365456821,
           3.066332916145182,
           2.264705882352941,
           2.809136420525657,
           2.509386733416771,
           2.572590738423029,
           1.978723404255319,
           1.639549436795995,
           2.040050062578223,
           2.284105131414268,
           2.742177722152691,
           1.7947434292866085,
           2.5131414267834797,
           2.392365456821026,
           2.3604505632040054,
           1.1702127659574466,
           1.846057571964956,
           1.7365456821026282,
           1.5193992490613266,
           1.1714643304130163,
           2.5331664580725906,
           2.549436795994993,
           1.3992490613266584,
           2.633291614518148,
           1.2515644555694618,
           1.3829787234042554,
           1.967459324155194,
           2.248435544430538,
           2.102002503128911,
           2.750312891113892,
           2.311639549436796,
           1.292866082603254,
           1.959949937421777,
           2.3454317897371717,
           2.5400500625782225,
           1.5926157697121404,
           2.4943679599499378,
           0.83729662077597,
           2.423654568210263,
           1.9305381727158948,
           2.816020025031289,
           1.575093867334168,
           1.3892365456821028,
           1.6132665832290365,
           1.1332916145181475,
           2.344180225281602,
           2.9399249061326658,
           1.6470588235294117,
           2.192115143929912,
           1.876720901126408,
           1.4755944931163951,
           1.8541927409261576,
           1.2922403003754694,
           1.3229036295369212,
           1.9593241551939928,
           1.814142678347935,
           1.1595744680851063,
           1.0757196495619523,
           2.7947434292866085,
           1.96558197747184,
           1.8241551939924907,
           2.9612015018773468,
           2.761576971214017,
           2.22215269086358,
           1.75531914893617,
           1.7302878598247808,
           1.7090112640801,
           2.4593241551939924,
           2.5894868585732165,
           2.6063829787234045,
           2.3823529411764706,
           3.046933667083855,
           1.158322903629537,
           1.3541927409261576,
           1.9055068836045057,
           1.928035043804756,
           2.292866082603254,
           2.219649561952441,
           1.3291614518147683,
           2.2077596996245306,
           2.1007509386733414,
           2.421777221526909,
           2.539424280350438,
           1.5456821026282854,
           2.8992490613266586,
           0.8254067584480601,
           1.7052565707133918,
           2.0175219023779727,
           2.848560700876096,
           2.8929912390488117,
           2.502503128911139,
           1.5569461827284106,
           2.4874843554443054,
           2.688986232790989,
           1.6414267834793494,
           2.806633291614518,
           1.9949937421777224,
           2.887359198998748,
           2.040675844806008,
           2.6239048811013768,
           1.1670838548185232,
           2.8310387984981227,
           1.753441802252816,
           2.094493116395494,
           2.335419274092616,
           2.4405506883604504,
           2.2277847309136423,
           1.7759699624530665,
           2.1589486858573217,
           1.9493116395494368,
           1.7403003754693367,
           2.578848560700876,
           2.1795994993742176,
           1.9061326658322904,
           1.4780976220275344,
           2.57008760951189,
           2.3272841051314144,
           2.252816020025032,
           1.6971214017521905,
           1.6852315394242805,
           2.021276595744681,
           2.0506883604505632,
           2.6852315394242803,
           2.74342928660826,
           1.5625782227784732,
           3.115769712140175,
           1.5976220275344182,
           2.177722152690864,
           2.3335419274092617,
           1.2415519399249062,
           1.3692115143929913,
           1.3423028785982478,
           1.6239048811013768,
           2.0156445556946183,
           1.7177722152690862,
           0.8617021276595745,
           1.2615769712140177,
           0.879224030037547,
           1.2959949937421775,
           1.1508135168961202,
           1.2647058823529411,
           1.295369211514393,
           1.1345431789737173,
           1.4712140175219024,
           1.6802252816020025,
           0.9968710888610764
          ],
          "coloraxis": "coloraxis",
          "size": [
           3.5206508135168963,
           1.5012515644555695,
           2.523153942428035,
           0.344180225281602,
           1.1526908635794744,
           1.958698372966208,
           0.8097622027534418,
           2.6777221526908632,
           2.590738423028786,
           1.2634543178973718,
           1.0882352941176472,
           1.6821026282853568,
           0.7471839799749687,
           2.0262828535669586,
           1.7290362953692116,
           1.0957446808510638,
           1.3297872340425532,
           1.7196495619524406,
           0.6364205256570714,
           0.9968710888610764,
           1.4843554443053817,
           1.5043804755944932,
           0.7146433041301627,
           1.1264080100125156,
           1.365456821026283,
           0.9105131414267836,
           1.1908635794743427,
           1.8554443053817276,
           2.4774718397997497,
           1.3147684605757195,
           0.4392991239048811,
           0.5957446808510638,
           1.9737171464330412,
           2.1821026282853566,
           3.530663329161452,
           3.631414267834794,
           3.3529411764705883,
           2.32540675844806,
           1.92991239048811,
           3.056320400500626,
           3.1614518147684603,
           0.869837296620776,
           2.0200250312891117,
           3.887984981226533,
           1.393617021276596,
           1.6007509386733416,
           0.1564455569461827,
           1.7459324155193992,
           1.9924906132665836,
           2.730913642052566,
           1.6289111389236546,
           2.976846057571965,
           0.5951188986232792,
           2.4367959949937426,
           1.2334167709637047,
           0.3886107634543179,
           1.2302878598247808,
           0.5087609511889862,
           2.400500625782228,
           0.4317897371714644,
           1.0193992490613266,
           0.5350438047559449,
           2.072590738423029,
           1.8898623279098872,
           0.4655819774718397,
           1.3667083854818525,
           2.249061326658323,
           1.1777221526908637,
           1.9311639549436797,
           2.426157697121402,
           3.7816020025031287,
           2.212140175219024,
           2.5269086357947432,
           3.279724655819775,
           0.6508135168961201,
           0.2140175219023779,
           0.5075093867334167,
           0.9505632040050064,
           0.0669586983729662,
           2.3504380475594493,
           1.9105131414267835,
           0.9449311639549436,
           2.8128911138923653,
           0.2478097622027534,
           2.3742177722152693,
           0.7878598247809763,
           1.7196495619524406,
           2.323529411764706,
           3.0775969962453065,
           1.6958698372966208,
           1.9981226533166456,
           2.1307884856070087,
           1.8986232790988733,
           3.493116395494368,
           3.4549436795994994,
           1.0725907384230289,
           3.518773466833542,
           0.4937421777221527,
           0.7603254067584481,
           3.012515644555694,
           3.677722152690864,
           3.505632040050063,
           2.460575719649562,
           2.2284105131414265,
           3.62953692115144,
           1.6977471839799751,
           3.2440550688360448,
           2.422403003754693,
           2.010012515644556,
           2.1545682102628287,
           2.722778473091364,
           1.3998748435544428,
           1.434292866082603,
           0.6032540675844806,
           0.6670838548185232,
           2.222152690863579,
           2.5037546933667083,
           3.0919899874843555,
           2.4987484355444307,
           3.387984981226533,
           3.1389236545682104,
           1.3153942428035044,
           2.240300375469337,
           3.707133917396746,
           2.8729662077597,
           2.1852315394242803,
           1.5193992490613266,
           3.274718397997497,
           0.9774718397997496,
           2.74468085106383,
           0.655819774718398,
           2.0500625782227786,
           0.7140175219023781,
           1.5118898623279098,
           1.6752190237797246,
           3.036921151439299,
           2.897371714643304,
           2.921151439299124,
           2.0225281602002503,
           0.744055068836045,
           1.9749687108886107,
           1.2058823529411764,
           1.6589486858573217,
           1.2678347934918648,
           3.122027534418023,
           1.3842302878598247,
           0.2015018773466833,
           3.769712140175219,
           3.767834793491865,
           3.448685857321652,
           2.538798498122653,
           2.421151439299124,
           0.3516896120150188,
           2.715269086357948,
           2.936795994993742,
           3.754067584480601,
           3.0838548185231542,
           1.7421777221526908,
           2.8635794743429286,
           2.702127659574468,
           2.0638297872340425,
           1.9086357947434287,
           2.34918648310388,
           2.8435544430538173,
           2.5613266583229035,
           3.818523153942428,
           3.702753441802253,
           1.6576971214017524,
           3.5813516896120148,
           0.3673341677096371,
           3.167709637046308,
           2.285982478097622,
           2.037546933667084,
           3.5056320400500622,
           3.846057571964956,
           2.2565707133917394,
           2.724030037546933,
           1.7265331664580723,
           0.2571964956195244,
           0.4449311639549437,
           2.481226533166458,
           0.7146433041301627,
           0.9687108886107636,
           0.590738423028786,
           0.5018773466833542,
           0.3085106382978723,
           1.3873591989987486,
           2.5826032540675845,
           2.040675844806008,
           0.8097622027534418,
           3.837922403003754,
           2.148936170212766,
           3.337922403003754,
           3.3710888610763456,
           3.193992490613266,
           3.073216520650813,
           3.7628285356695863,
           1.9386733416770965,
           2.111389236545682,
           2.212140175219024,
           2.017521902377972,
           0.8285356695869837,
           1.8548185231539425,
           1.0081351689612017,
           1.6589486858573217,
           3.54755944931164,
           3.227158948685857,
           2.3197747183979978,
           2.820400500625782,
           2.627659574468085,
           1.7171464330413015,
           0.8335419274092616,
           1.071964956195244,
           1.2596996245306635,
           3.150187734668336,
           2.2033792240300376,
           1.071964956195244,
           3.360450563204005,
           3.890488110137672,
           2.112640801001252,
           2.5675844806007517,
           3.363579474342929,
           1.044430538172716,
           3.6520650813516897,
           1.5675844806007508,
           2.3573216520650813,
           1.853566958698373,
           2.5056320400500627,
           1.7090112640801003,
           2.709637046307885,
           2.3760951188986232,
           3.877346683354193,
           2.335419274092616,
           1.9981226533166456,
           1.1370463078848565,
           0.5607008760951189,
           1.8003754693366707,
           3.4956195244055066,
           1.3110137672090112,
           0.8842302878598249,
           1.2816020025031292,
           0.0807259073842302,
           2.9837296620775966,
           1.780976220275344,
           1.1051314142678348,
           1.520650813516896,
           0.8973717146433041,
           3.2396745932415523,
           3.9680851063829783,
           0.8836045056320401,
           2.2934918648310387,
           2.284105131414268,
           1.705256570713392,
           1.7759699624530665,
           0.7853566958698373,
           0.5244055068836045,
           3.4824780976220278,
           0.7083854818523154,
           0.2321652065081351,
           0.2947434292866082,
           0.5244055068836045,
           1.7828535669586982,
           2.1764705882352944,
           1.693366708385482,
           1.9799749687108887,
           1.3579474342928664,
           0.9643304130162704,
           1.2528160200250311,
           0.5306633291614518,
           2.876720901126408,
           2.898623279098873,
           0.809136420525657,
           2.2027534418022525,
           0.1871088861076345,
           2.342302878598248,
           0.1508135168961201,
           1.4386733416770965,
           0.3579474342928661,
           1.8854818523153944,
           2.4217772215269084,
           3.3360450563204003,
           3.7183979974968713,
           0.8692115143929913,
           1.618272841051314,
           2.5488110137672093,
           1.172090112640801,
           0.8316645807259074,
           1.860450563204005,
           0.4167709637046308,
           0.8166458072590739,
           0.3147684605757196,
           1.311639549436796,
           1.630162703379224,
           0.6520650813516896,
           1.7803504380475594,
           0.6752190237797246,
           1.520650813516896,
           0.9142678347934918,
           1.041927409261577,
           0.5413016270337923,
           3.617021276595745,
           1.9874843554443051,
           1.960575719649562,
           2.72215269086358,
           2.3617021276595747,
           0.4367959949937421,
           0.8429286608260326,
           3.0894868585732165,
           1.430538172715895,
           0.5306633291614518,
           1.474342928660826,
           0.1570713391739674,
           1.4048811013767208,
           1.2665832290362953,
           1.6639549436795995,
           1.090738423028786,
           3.1727158948685856,
           2.641426783479349,
           2.641426783479349,
           0.839173967459324,
           3.538798498122653,
           2.777847309136421,
           2.262202753441802,
           0.934918648310388,
           0.7027534418022529,
           1.8335419274092617,
           0.6207759699624531,
           0.2540675844806007,
           3.355444305381727,
           1.6551939924906134,
           1.8028785982478095,
           0.77909887359199,
           2.8598247809762207,
           1.5337922403003754,
           0.2459324155193992,
           2.016270337922403,
           1.444305381727159,
           0.8035043804755945,
           1.479349186483104,
           0.846683354192741,
           2.673967459324156,
           0.8698372966207759,
           1.6145181476846058,
           3.750938673341677,
           1.5156445556946183,
           1.109511889862328,
           3.0500625782227786,
           0.4843554443053817,
           0.8748435544430537,
           0.7778473091364205,
           1.1007509386733416,
           1.660826032540676,
           0.9017521902377972,
           3.0081351689612013,
           2.968085106382979,
           0.4730913642052565,
           1.8961201501877345,
           3.217772215269086,
           0.3260325406758448,
           3.391739674593241,
           0.448685857321652,
           1.387984981226533,
           1.346057571964956,
           0.506883604505632,
           1.2678347934918648,
           2.0312891113892366,
           1.183354192740926,
           3.3692115143929917,
           2.9737171464330414,
           2.72090112640801,
           1.9543178973717148,
           0.8204005006257823,
           0.4774718397997496,
           0.2596996245306633,
           1.0150187734668334,
           1.0807259073842304,
           2.6545682102628287,
           1.9912390488110137,
           2.1364205256570714,
           1.151439299123905,
           2.909887359198999,
           2.759073842302879,
           2.3529411764705883,
           3.804755944931164,
           2.014392991239049,
           2.3153942428035044,
           2.564455569461827,
           2.7947434292866085,
           3.178973717146433,
           0.7859824780976219,
           3.597622027534418,
           3.425531914893617,
           2.5150187734668337,
           3.639549436795995,
           3.653316645807259,
           1.976846057571965,
           2.423654568210263,
           1.228410513141427,
           1.6195244055068834,
           3.316020025031289,
           1.5018773466833542,
           3.885481852315394,
           1.1176470588235294,
           1.5838548185231538,
           1.6602002503128912,
           0.9399249061326658,
           2.3110137672090114,
           0.6658322903629537,
           1.2853566958698373,
           0.4774718397997497,
           2.422403003754693,
           2.900500625782228,
           0.8811013767209012,
           0.4405506883604506,
           2.842302878598248,
           2.5438047559449317,
           2.030037546933668,
           1.9292866082603253,
           1.660826032540676,
           2.8103879849812268,
           2.0369211514392997,
           1.134543178973717,
           0.3498122653316646,
           1.4198998748435545,
           2.1639549436795997,
           1.1389236545682102,
           2.537546933667084,
           0.6239048811013768,
           0.8285356695869838,
           3.5588235294117645,
           1.2428035043804757,
           2.792240300375469,
           1.3166458072590737,
           1.4637046307884858,
           0.653316645807259,
           3.5550688360450566,
           3.891113892365457,
           2.2596996245306635,
           1.948685857321652,
           3.87171464330413,
           3.4893617021276597,
           3.026908635794744,
           3.1614518147684603,
           2.802252816020025,
           2.771589486858573,
           2.5525657071339176,
           1.609511889862328,
           1.3685857321652066,
           2.7503128911138925,
           2.562578222778473,
           3.747183979974969,
           2.749061326658323,
           3.248435544430538,
           1.0863579474342928,
           2.997496871088861,
           2.3854818523153942,
           1.536921151439299,
           3.29224030037547,
           1.2190237797246557,
           2.584480600750939,
           2.3648310387984983,
           2.660200250312891,
           1.4455569461827285,
           1.4111389236545684,
           0.7065081351689613,
           0.8010012515644557,
           1.4086357947434291,
           0.9949937421777222,
           2.722778473091364,
           0.581351689612015,
           2.853566958698373,
           3.2040050062578223,
           2.0294117647058822,
           1.8642052565707132,
           1.884230287859825,
           0.9630788485607008,
           2.4455569461827285,
           0.2872340425531914,
           1.4568210262828536,
           1.516270337922403,
           0.0807259073842302,
           0.7571964956195244,
           2.924280350438048,
           1.4123904881101377,
           0.7697121401752189,
           1.792866082603254,
           1.5638297872340423,
           1.2465581977471838,
           0.9236545682102628,
           2.7102628285356696,
           2.9918648310387983,
           2.7872340425531914,
           1.8685857321652064,
           3.113892365456821,
           1.0362953692115144,
           2.4924906132665834,
           2.2183979974968717,
           1.2040050062578225,
           0.9342928660826032,
           1.2315394242803503,
           1.8329161451814768,
           0.6120150187734668,
           1.316645807259074,
           1.1846057571964956,
           0.2891113892365456,
           0.7909887359198998,
           0.5957446808510638,
           2.373591989987484,
           1.5500625782227786,
           3.5506883604505632,
           1.1357947434292863,
           0.1239048811013767,
           3.314142678347934,
           1.718397997496871,
           0.7797246558197747,
           2.4480600750938675,
           2.5012515644555693,
           0.8979974968710888,
           0.3892365456821026,
           2.704630788485608,
           0.890488110137672,
           2.8998748435544432,
           2.103879849812265,
           0.8435544430538172,
           3.065081351689612,
           0.6770963704630788,
           2.02377972465582,
           0.2797246558197747,
           0.9167709637046308,
           2.9605757196495617,
           2.595744680851064,
           3.071339173967459,
           2.301001251564456,
           3.212765957446808,
           1.1533166458072592,
           1.9718397997496877,
           1.3660826032540676,
           3.153316645807259,
           1.7828535669586985,
           2.050688360450564,
           0.8435544430538172,
           0.1282853566958698,
           0.6214017521902377,
           2.7803504380475594,
           2.611389236545682,
           1.2866082603254068,
           0.123279098873592,
           2.172090112640801,
           2.053817271589487,
           2.653316645807259,
           2.996245306633292,
           2.451814768460576,
           1.8785982478097625,
           0.9411764705882352,
           1.0200250312891117,
           3.1076345431789734,
           1.5951188986232787,
           2.222778473091364,
           1.1251564455569465,
           3.014392991239049,
           1.493742177722153,
           3.8235294117647056,
           0.5037546933667083,
           0.6451814768460575,
           3.1495619524405507,
           2.0826032540675845,
           3.671464330413017,
           0.632665832290363,
           0.6946182728410514,
           2.4680851063829787,
           0.4474342928660826,
           1.3016270337922404,
           1.5913642052565706,
           3.667709637046308,
           1.5400500625782227,
           3.274092615769712,
           1.3523153942428037,
           0.8222778473091363,
           0.4730913642052566,
           2.826032540675844,
           0.3973717146433041,
           1.5525657071339174,
           1.311639549436796,
           1.4687108886107634,
           2.411138923654568,
           1.428035043804756,
           2.474342928660826,
           1.428035043804756,
           1.1270337922403004,
           0.8848560700876095,
           1.5638297872340423,
           2.584480600750939,
           3.1476846057571968,
           0.1332916145181477,
           2.0050062578222776,
           2.617647058823529,
           0.781602002503129,
           0.6063829787234043,
           1.8704630788485608,
           0.6345431789737171,
           2.3222778473091363,
           1.3147684605757195,
           1.4468085106382975,
           0.1852315394242803,
           3.2183979974968717,
           1.6539424280350437,
           2.763454317897372,
           3.3310387984981227,
           2.250938673341677,
           3.923654568210263,
           2.184605757196496,
           1.8166458072590737,
           3.8103879849812254,
           2.411764705882353,
           1.1470588235294117,
           1.8610763454317896,
           1.637672090112641,
           1.8710888610763448,
           0.5262828535669587,
           0.3648310387984981,
           2.5963704630788484,
           2.045682102628285,
           1.5851063829787235,
           2.4593241551939924,
           0.1852315394242803,
           1.9874843554443051,
           1.804755944931164,
           1.467459324155194,
           3.3416770963704634,
           0.5106382978723404,
           3.4743429286608265,
           0.1264080100125156,
           3.638297872340426,
           1.5212765957446808,
           3.274092615769712,
           3.597622027534418,
           2.0876095118898625,
           2.552565707133917,
           1.0300375469336671,
           3.562578222778473,
           1.0801001251564455,
           3.68523153942428,
           3.2340425531914896,
           3.268460575719649,
           3.253441802252816,
           2.8085106382978724,
           0.7171464330413015,
           3.316020025031289,
           0.3085106382978723,
           3.086357947434293,
           3.760951188986233,
           2.1307884856070087,
           1.900500625782228,
           1.2108886107634544,
           3.78035043804756,
           0.2071339173967459,
           2.933667083854818,
           2.922403003754693,
           1.4042553191489362,
           3.016270337922403,
           1.7321652065081352,
           2.7146433041301625,
           2.5413016270337923,
           1.377346683354193,
           1.5,
           1.01188986232791,
           0.8685857321652065,
           3.7653316645807258,
           2.994993742177722,
           2.7972465581977475,
           0.2453066332916144,
           1.9806007509386727,
           1.3178973717146434,
           0.4799749687108885,
           2.468710888610764,
           1.5438047559449313,
           1.7033792240300374,
           1.0894868585732165,
           1.5,
           0.5663329161451814,
           2.667709637046308,
           0.6595744680851064,
           1.0294117647058825,
           1.4205256570713392,
           1.4349186483103882,
           1.6989987484355444,
           2.1802252816020022,
           2.590112640801001,
           0.5613266583229036,
           0.9111389236545684,
           1.725907384230288,
           0.6458072590738423
          ],
          "sizemode": "area",
          "sizeref": 0.009920212765957446,
          "symbol": "circle"
         },
         "mode": "markers",
         "name": "",
         "orientation": "h",
         "showlegend": false,
         "type": "scatter",
         "x": [
          2735,
          1553,
          2094,
          1810,
          1969,
          1274,
          1243,
          1705,
          1749,
          1223,
          1705,
          2581,
          2083,
          2203,
          1125,
          683,
          1794,
          908,
          1088,
          1159,
          1672,
          1746,
          1872,
          1574,
          2655,
          2724,
          878,
          607,
          1299,
          1209,
          993,
          851,
          1041,
          2179,
          1564,
          2174,
          1014,
          2061,
          1010,
          1231,
          2901,
          482,
          2868,
          2180,
          1417,
          979,
          1476,
          1587,
          2616,
          2137,
          1206,
          723,
          653,
          1342,
          615,
          1396,
          432,
          1227,
          971,
          726,
          1084,
          1250,
          1793,
          1826,
          498,
          1704,
          2235,
          1231,
          1314,
          1531,
          1383,
          320,
          2432,
          912,
          1480,
          1196,
          815,
          324,
          581,
          1702,
          1449,
          953,
          923,
          1195,
          2176,
          482,
          751,
          1123,
          1336,
          1766,
          1399,
          1504,
          844,
          1745,
          1706,
          1865,
          1530,
          852,
          2456,
          1503,
          1900,
          2455,
          2407,
          884,
          1290,
          2773,
          934,
          1215,
          2098,
          2098,
          1418,
          2319,
          1658,
          1307,
          1068,
          1102,
          928,
          532,
          452,
          2459,
          2407,
          2307,
          1255,
          1780,
          1048,
          2067,
          2341,
          1112,
          1271,
          1102,
          1959,
          1175,
          1141,
          1472,
          1917,
          1714,
          2193,
          2106,
          940,
          1528,
          1125,
          2209,
          1030,
          876,
          551,
          830,
          388,
          2128,
          1417,
          2189,
          2739,
          618,
          1189,
          1294,
          1767,
          1391,
          2204,
          1844,
          1039,
          1957,
          1398,
          2039,
          1404,
          1094,
          2405,
          1096,
          2104,
          879,
          2067,
          1124,
          1371,
          268,
          1793,
          2020,
          2276,
          1859,
          1089,
          2190,
          2639,
          2652,
          2110,
          757,
          705,
          1033,
          1595,
          605,
          1169,
          2861,
          2887,
          787,
          2855,
          2445,
          1843,
          1381,
          2488,
          1707,
          2406,
          1999,
          2068,
          2470,
          2207,
          1218,
          1159,
          916,
          2901,
          2316,
          2380,
          1936,
          2174,
          1171,
          313,
          495,
          423,
          579,
          2753,
          1193,
          1593,
          2215,
          2084,
          1892,
          1991,
          1564,
          1508,
          982,
          1851,
          2890,
          1363,
          2699,
          2071,
          1299,
          1028,
          2106,
          1836,
          1691,
          1354,
          812,
          1270,
          1414,
          1294,
          2539,
          1279,
          1213,
          2445,
          874,
          970,
          1532,
          237,
          1003,
          2660,
          1812,
          667,
          1252,
          749,
          903,
          832,
          524,
          635,
          999,
          515,
          569,
          524,
          539,
          521,
          194,
          410,
          878,
          649,
          1097,
          1020,
          993,
          824,
          1257,
          575,
          405,
          327,
          452,
          592,
          1594,
          1189,
          865,
          1889,
          1565,
          1206,
          893,
          1052,
          1772,
          1767,
          1802,
          816,
          738,
          1591,
          2228,
          1480,
          1202,
          435,
          632,
          748,
          895,
          1164,
          867,
          2005,
          684,
          1370,
          1005,
          1651,
          1163,
          1040,
          725,
          796,
          527,
          703,
          378,
          633,
          780,
          1951,
          1441,
          1675,
          2596,
          2412,
          2281,
          2354,
          2370,
          1621,
          1557,
          1370,
          804,
          2685,
          1406,
          2440,
          2082,
          1071,
          1870,
          2196,
          1468,
          1788,
          1679,
          800,
          2443,
          1236,
          1705,
          1123,
          2415,
          2759,
          1566,
          1123,
          683,
          846,
          1075,
          922,
          761,
          597,
          737,
          932,
          934,
          1104,
          418,
          935,
          2224,
          886,
          1796,
          2055,
          1039,
          754,
          1574,
          186,
          2017,
          2113,
          2501,
          1908,
          1908,
          1439,
          1784,
          1112,
          1152,
          1915,
          1663,
          1151,
          1040,
          1041,
          1756,
          908,
          1537,
          922,
          1401,
          1102,
          2085,
          1589,
          1956,
          1865,
          1573,
          1656,
          1887,
          2349,
          1893,
          2511,
          1633,
          2474,
          1195,
          2438,
          1640,
          2188,
          2874,
          747,
          2905,
          1258,
          1226,
          1979,
          989,
          711,
          529,
          885,
          2273,
          463,
          606,
          838,
          880,
          1446,
          1819,
          927,
          2313,
          934,
          2379,
          886,
          2016,
          1951,
          961,
          2483,
          1066,
          1308,
          619,
          825,
          1857,
          2872,
          1658,
          961,
          1517,
          1509,
          1066,
          1480,
          2026,
          972,
          1811,
          1224,
          1872,
          1173,
          1733,
          1189,
          1180,
          2432,
          1888,
          1336,
          1630,
          275,
          2028,
          1338,
          2867,
          1876,
          1717,
          811,
          2071,
          2142,
          923,
          1523,
          2520,
          1308,
          717,
          836,
          2215,
          1793,
          1151,
          2543,
          2244,
          2701,
          773,
          1508,
          1460,
          648,
          961,
          2719,
          423,
          926,
          985,
          1257,
          1378,
          417,
          2259,
          1866,
          1124,
          2125,
          1345,
          2629,
          1067,
          499,
          1267,
          739,
          664,
          265,
          2475,
          1223,
          1266,
          2701,
          1011,
          572,
          746,
          369,
          363,
          941,
          871,
          1226,
          1479,
          1742,
          1252,
          2335,
          773,
          769,
          2174,
          1522,
          2125,
          749,
          1491,
          973,
          1322,
          2686,
          1964,
          2728,
          1362,
          2848,
          222,
          1537,
          1712,
          2389,
          2168,
          1950,
          1605,
          1732,
          2768,
          579,
          2484,
          2575,
          2302,
          2191,
          673,
          2358,
          1356,
          953,
          527,
          1256,
          199,
          1910,
          871,
          907,
          1601,
          2194,
          1894,
          2082,
          1684,
          1949,
          1588,
          2462,
          2223,
          1749,
          1993,
          1719,
          2845,
          2888,
          2799,
          2701,
          1277,
          1743,
          2802,
          1664,
          852,
          1769,
          2800,
          2602,
          1450,
          684,
          1417,
          831,
          1498,
          361,
          1298,
          1445,
          2200,
          2335,
          2335,
          2335,
          2404,
          2286,
          1405,
          1201,
          1542,
          1927,
          1308,
          2129,
          1628,
          2687,
          1371,
          1836,
          1637,
          1251,
          1811,
          901,
          459,
          1845,
          271,
          1005,
          1538,
          1146,
          2685,
          1599,
          2695,
          2215,
          1057,
          622,
          1201,
          423,
          359,
          664,
          360,
          886,
          557,
          586,
          822,
          478,
          1391,
          472,
          1526,
          1673,
          295,
          1353,
          352,
          2228,
          1704,
          928,
          982,
          1055,
          812,
          370,
          1888,
          438,
          1847,
          1076,
          919,
          2696,
          2004,
          1180,
          1551,
          819,
          487,
          1285,
          1983,
          670,
          327,
          1916,
          412,
          1770,
          992,
          690,
          1124,
          2637,
          1774,
          723,
          355,
          543,
          1011,
          640,
          2558,
          1916,
          622,
          725,
          650,
          2512,
          257,
          2446,
          2795,
          1735,
          392,
          630,
          494,
          2559,
          1195,
          1573,
          1567,
          447,
          1110,
          1064,
          1762,
          1381,
          829,
          719,
          1500
         ],
         "xaxis": "x",
         "y": [
          "Photovoltaics and Solar Energy",
          "Photovoltaics and Solar Energy",
          "Photovoltaics and Solar Energy",
          "Photovoltaics and Solar Energy",
          "Photovoltaics and Solar Energy",
          "Photovoltaics and Solar Energy",
          "Photovoltaics and Solar Energy",
          "Photovoltaics and Solar Energy",
          "Photovoltaics and Solar Energy",
          "Photovoltaics and Solar Energy",
          "Photovoltaics and Solar Energy",
          "Photovoltaics and Solar Energy",
          "Photovoltaics and Solar Energy",
          "Photovoltaics and Solar Energy",
          "Photovoltaics and Solar Energy",
          "Photovoltaics and Solar Energy",
          "Photovoltaics and Solar Energy",
          "Photovoltaics and Solar Energy",
          "Photovoltaics and Solar Energy",
          "Photovoltaics and Solar Energy",
          "Photovoltaics and Solar Energy",
          "Photovoltaics and Solar Energy",
          "Photovoltaics and Solar Energy",
          "Photovoltaics and Solar Energy",
          "Photovoltaics and Solar Energy",
          "Photovoltaics and Solar Energy",
          "Photovoltaics and Solar Energy",
          "Photovoltaics and Solar Energy",
          "Photovoltaics and Solar Energy",
          "Photovoltaics and Solar Energy",
          "Photovoltaics and Solar Energy",
          "Photovoltaics and Solar Energy",
          "Wind Energy",
          "Wind Energy",
          "Wind Energy",
          "Wind Energy",
          "Wind Energy",
          "Wind Energy",
          "Wind Energy",
          "Wind Energy",
          "Wind Energy",
          "Wind Energy",
          "Wind Energy",
          "Wind Energy",
          "Wind Energy",
          "Wind Energy",
          "Wind Energy",
          "Wind Energy",
          "Wind Energy",
          "Wind Energy",
          "Wind Energy",
          "Wind Energy",
          "Wind Energy",
          "Wind Energy",
          "Wind Energy",
          "Wind Energy",
          "Hydro Energy",
          "Hydro Energy",
          "Hydro Energy",
          "Hydro Energy",
          "Hydro Energy",
          "Hydro Energy",
          "Hydro Energy",
          "Geothermal Energy",
          "Geothermal Energy",
          "Geothermal Energy",
          "Geothermal Energy",
          "Geothermal Energy",
          "Bioenergy",
          "Battery",
          "Battery",
          "Battery",
          "Battery",
          "Battery",
          "Battery",
          "Battery",
          "Battery",
          "Battery",
          "Battery",
          "Hydrogen",
          "Hydrogen",
          "Hydrogen",
          "Hydrogen",
          "Hydrogen",
          "Hydrogen",
          "Hydrogen",
          "Energy Modeling and Optimization",
          "Energy Modeling and Optimization",
          "Energy Modeling and Optimization",
          "Energy Modeling and Optimization",
          "Energy Modeling and Optimization",
          "Energy Modeling and Optimization",
          "Energy Modeling and Optimization",
          "Energy Modeling and Optimization",
          "Energy Modeling and Optimization",
          "Energy Modeling and Optimization",
          "Energy Modeling and Optimization",
          "Energy Modeling and Optimization",
          "Energy Modeling and Optimization",
          "Energy Modeling and Optimization",
          "Energy Modeling and Optimization",
          "Energy Modeling and Optimization",
          "Energy Modeling and Optimization",
          "Energy Modeling and Optimization",
          "Energy Modeling and Optimization",
          "Energy Modeling and Optimization",
          "Energy Modeling and Optimization",
          "Energy Modeling and Optimization",
          "Energy Modeling and Optimization",
          "Energy Modeling and Optimization",
          "Energy Modeling and Optimization",
          "Energy Modeling and Optimization",
          "Energy Modeling and Optimization",
          "Energy Modeling and Optimization",
          "Energy Modeling and Optimization",
          "Energy Modeling and Optimization",
          "Energy Modeling and Optimization",
          "Energy Modeling and Optimization",
          "Energy Modeling and Optimization",
          "Energy Modeling and Optimization",
          "Energy Modeling and Optimization",
          "Energy Modeling and Optimization",
          "Energy Modeling and Optimization",
          "Energy Modeling and Optimization",
          "Energy Modeling and Optimization",
          "Energy Modeling and Optimization",
          "Energy Modeling and Optimization",
          "Energy Modeling and Optimization",
          "Energy Modeling and Optimization",
          "Energy Modeling and Optimization",
          "Energy Modeling and Optimization",
          "Energy Modeling and Optimization",
          "Energy Modeling and Optimization",
          "Energy Modeling and Optimization",
          "Energy Modeling and Optimization",
          "Energy Modeling and Optimization",
          "Energy Modeling and Optimization",
          "Energy Modeling and Optimization",
          "Energy Modeling and Optimization",
          "Energy Modeling and Optimization",
          "Energy Modeling and Optimization",
          "Energy Modeling and Optimization",
          "Energy Modeling and Optimization",
          "Energy Modeling and Optimization",
          "Energy Modeling and Optimization",
          "Energy Modeling and Optimization",
          "Energy Modeling and Optimization",
          "Energy Monitoring and Control",
          "Energy Monitoring and Control",
          "Energy Monitoring and Control",
          "Energy Monitoring and Control",
          "Energy Monitoring and Control",
          "Energy Distribution and Grids",
          "Energy Distribution and Grids",
          "Energy Distribution and Grids",
          "Energy Distribution and Grids",
          "Energy Distribution and Grids",
          "Energy Distribution and Grids",
          "Energy Distribution and Grids",
          "Energy Distribution and Grids",
          "Energy Distribution and Grids",
          "Energy Distribution and Grids",
          "Energy Distribution and Grids",
          "Energy Distribution and Grids",
          "Energy Distribution and Grids",
          "Energy Distribution and Grids",
          "Energy Distribution and Grids",
          "Energy Distribution and Grids",
          "Energy Distribution and Grids",
          "Energy Distribution and Grids",
          "Energy Distribution and Grids",
          "Energy Distribution and Grids",
          "Datasets on Energy Systems",
          "Datasets on Energy Systems",
          "Datasets on Energy Systems",
          "Datasets on Energy Systems",
          "Datasets on Energy Systems",
          "Datasets on Energy Systems",
          "Datasets on Energy Systems",
          "Datasets on Energy Systems",
          "Datasets on Energy Systems",
          "Datasets on Energy Systems",
          "Datasets on Energy Systems",
          "Datasets on Energy Systems",
          "Datasets on Energy Systems",
          "Datasets on Energy Systems",
          "Datasets on Energy Systems",
          "Buildings and Heating",
          "Buildings and Heating",
          "Buildings and Heating",
          "Buildings and Heating",
          "Buildings and Heating",
          "Buildings and Heating",
          "Buildings and Heating",
          "Buildings and Heating",
          "Buildings and Heating",
          "Buildings and Heating",
          "Buildings and Heating",
          "Buildings and Heating",
          "Buildings and Heating",
          "Buildings and Heating",
          "Buildings and Heating",
          "Buildings and Heating",
          "Buildings and Heating",
          "Buildings and Heating",
          "Buildings and Heating",
          "Buildings and Heating",
          "Buildings and Heating",
          "Buildings and Heating",
          "Buildings and Heating",
          "Buildings and Heating",
          "Buildings and Heating",
          "Buildings and Heating",
          "Buildings and Heating",
          "Mobility and Transportation",
          "Mobility and Transportation",
          "Mobility and Transportation",
          "Mobility and Transportation",
          "Mobility and Transportation",
          "Mobility and Transportation",
          "Mobility and Transportation",
          "Mobility and Transportation",
          "Mobility and Transportation",
          "Mobility and Transportation",
          "Mobility and Transportation",
          "Mobility and Transportation",
          "Mobility and Transportation",
          "Mobility and Transportation",
          "Mobility and Transportation",
          "Mobility and Transportation",
          "Mobility and Transportation",
          "Mobility and Transportation",
          "Mobility and Transportation",
          "Mobility and Transportation",
          "Mobility and Transportation",
          "Mobility and Transportation",
          "Mobility and Transportation",
          "Mobility and Transportation",
          "Mobility and Transportation",
          "Mobility and Transportation",
          "Mobility and Transportation",
          "Mobility and Transportation",
          "Mobility and Transportation",
          "Mobility and Transportation",
          "Mobility and Transportation",
          "Mobility and Transportation",
          "Mobility and Transportation",
          "Mobility and Transportation",
          "Production and Industry",
          "Computation and Communication",
          "Computation and Communication",
          "Computation and Communication",
          "Computation and Communication",
          "Computation and Communication",
          "Computation and Communication",
          "Computation and Communication",
          "Computation and Communication",
          "Computation and Communication",
          "Computation and Communication",
          "Computation and Communication",
          "Computation and Communication",
          "Computation and Communication",
          "Computation and Communication",
          "Computation and Communication",
          "Computation and Communication",
          "Computation and Communication",
          "Computation and Communication",
          "Carbon Intensity and Accounting",
          "Carbon Intensity and Accounting",
          "Carbon Intensity and Accounting",
          "Carbon Intensity and Accounting",
          "Carbon Intensity and Accounting",
          "Carbon Intensity and Accounting",
          "Carbon Intensity and Accounting",
          "Carbon Intensity and Accounting",
          "Carbon Intensity and Accounting",
          "Carbon Intensity and Accounting",
          "Carbon Intensity and Accounting",
          "Carbon Intensity and Accounting",
          "Carbon Capture and Removel",
          "Carbon Capture and Removel",
          "Carbon Capture and Removel",
          "Carbon Capture and Removel",
          "Emission Observation and Modeling",
          "Emission Observation and Modeling",
          "Emission Observation and Modeling",
          "Emission Observation and Modeling",
          "Emission Observation and Modeling",
          "Emission Observation and Modeling",
          "Emission Observation and Modeling",
          "Emission Observation and Modeling",
          "Emission Observation and Modeling",
          "Emission Observation and Modeling",
          "Emission Observation and Modeling",
          "Emission Observation and Modeling",
          "Emission Observation and Modeling",
          "Emission Observation and Modeling",
          "Life Cycle Assessment",
          "Life Cycle Assessment",
          "Life Cycle Assessment",
          "Life Cycle Assessment",
          "Life Cycle Assessment",
          "Life Cycle Assessment",
          "Life Cycle Assessment",
          "Life Cycle Assessment",
          "Circular Economy and Waste",
          "Circular Economy and Waste",
          "Circular Economy and Waste",
          "Circular Economy and Waste",
          "Circular Economy and Waste",
          "Circular Economy and Waste",
          "Circular Economy and Waste",
          "Circular Economy and Waste",
          "Circular Economy and Waste",
          "Biosphere",
          "Biosphere",
          "Biosphere",
          "Biosphere",
          "Biosphere",
          "Biosphere",
          "Biosphere",
          "Biosphere",
          "Biosphere",
          "Biosphere",
          "Biosphere",
          "Biosphere",
          "Biosphere",
          "Biosphere",
          "Biosphere",
          "Biosphere",
          "Biosphere",
          "Biosphere",
          "Biosphere",
          "Biosphere",
          "Biosphere",
          "Biosphere",
          "Biosphere",
          "Biosphere",
          "Biosphere",
          "Biosphere",
          "Biosphere",
          "Biosphere",
          "Biosphere",
          "Biosphere",
          "Biosphere",
          "Biosphere",
          "Biosphere",
          "Biosphere",
          "Biosphere",
          "Biosphere",
          "Biosphere",
          "Biosphere",
          "Biosphere",
          "Biosphere",
          "Biosphere",
          "Biosphere",
          "Biosphere",
          "Biosphere",
          "Biosphere",
          "Biosphere",
          "Biosphere",
          "Biosphere",
          "Biosphere",
          "Biosphere",
          "Biosphere",
          "Biosphere",
          "Cryosphere",
          "Cryosphere",
          "Cryosphere",
          "Cryosphere",
          "Cryosphere",
          "Cryosphere",
          "Cryosphere",
          "Cryosphere",
          "Cryosphere",
          "Cryosphere",
          "Cryosphere",
          "Cryosphere",
          "Cryosphere",
          "Cryosphere",
          "Cryosphere",
          "Hydrosphere",
          "Hydrosphere",
          "Hydrosphere",
          "Hydrosphere",
          "Hydrosphere",
          "Hydrosphere",
          "Hydrosphere",
          "Hydrosphere",
          "Hydrosphere",
          "Hydrosphere",
          "Hydrosphere",
          "Hydrosphere",
          "Hydrosphere",
          "Hydrosphere",
          "Hydrosphere",
          "Hydrosphere",
          "Hydrosphere",
          "Hydrosphere",
          "Hydrosphere",
          "Hydrosphere",
          "Hydrosphere",
          "Hydrosphere",
          "Hydrosphere",
          "Hydrosphere",
          "Hydrosphere",
          "Hydrosphere",
          "Hydrosphere",
          "Hydrosphere",
          "Hydrosphere",
          "Hydrosphere",
          "Hydrosphere",
          "Hydrosphere",
          "Hydrosphere",
          "Hydrosphere",
          "Hydrosphere",
          "Hydrosphere",
          "Hydrosphere",
          "Hydrosphere",
          "Hydrosphere",
          "Hydrosphere",
          "Hydrosphere",
          "Hydrosphere",
          "Hydrosphere",
          "Atmosphere",
          "Atmosphere",
          "Atmosphere",
          "Atmosphere",
          "Atmosphere",
          "Atmosphere",
          "Atmosphere",
          "Atmosphere",
          "Atmosphere",
          "Atmosphere",
          "Atmosphere",
          "Atmosphere",
          "Atmosphere",
          "Atmosphere",
          "Atmosphere",
          "Earth and Climate Modeling",
          "Earth and Climate Modeling",
          "Earth and Climate Modeling",
          "Earth and Climate Modeling",
          "Earth and Climate Modeling",
          "Earth and Climate Modeling",
          "Earth and Climate Modeling",
          "Earth and Climate Modeling",
          "Earth and Climate Modeling",
          "Earth and Climate Modeling",
          "Earth and Climate Modeling",
          "Earth and Climate Modeling",
          "Earth and Climate Modeling",
          "Earth and Climate Modeling",
          "Earth and Climate Modeling",
          "Earth and Climate Modeling",
          "Earth and Climate Modeling",
          "Earth and Climate Modeling",
          "Earth and Climate Modeling",
          "Earth and Climate Modeling",
          "Earth and Climate Modeling",
          "Earth and Climate Modeling",
          "Earth and Climate Modeling",
          "Earth and Climate Modeling",
          "Earth and Climate Modeling",
          "Earth and Climate Modeling",
          "Earth and Climate Modeling",
          "Earth and Climate Modeling",
          "Earth and Climate Modeling",
          "Earth and Climate Modeling",
          "Earth and Climate Modeling",
          "Earth and Climate Modeling",
          "Earth and Climate Modeling",
          "Earth and Climate Modeling",
          "Radiative Transfer",
          "Radiative Transfer",
          "Radiative Transfer",
          "Radiative Transfer",
          "Radiative Transfer",
          "Radiative Transfer",
          "Earth Observation and Climate Monitoring",
          "Earth Observation and Climate Monitoring",
          "Earth Observation and Climate Monitoring",
          "Earth Observation and Climate Monitoring",
          "Earth Observation and Climate Monitoring",
          "Meteorological Observation",
          "Meteorological Observation",
          "Meteorological Observation",
          "Meteorological Observation",
          "Meteorological Observation",
          "Meteorological Observation",
          "Climate Data Processing and Access",
          "Climate Data Processing and Access",
          "Climate Data Processing and Access",
          "Climate Data Processing and Access",
          "Climate Data Processing and Access",
          "Climate Data Processing and Access",
          "Climate Data Processing and Access",
          "Climate Data Processing and Access",
          "Climate Data Processing and Access",
          "Climate Data Processing and Access",
          "Climate Data Processing and Access",
          "Climate Data Processing and Access",
          "Climate Data Processing and Access",
          "Climate Data Processing and Access",
          "Climate Data Processing and Access",
          "Climate Data Processing and Access",
          "Climate Data Processing and Access",
          "Climate Data Processing and Access",
          "Climate Data Processing and Access",
          "Climate Data Processing and Access",
          "Climate Data Processing and Access",
          "Climate Data Processing and Access",
          "Climate Data Processing and Access",
          "Climate Data Processing and Access",
          "Climate Data Processing and Access",
          "Climate Data Processing and Access",
          "Climate Data Processing and Access",
          "Climate Data Processing and Access",
          "Climate Data Processing and Access",
          "Climate Data Processing and Access",
          "Climate Data Processing and Access",
          "Climate Data Processing and Access",
          "Climate Data Processing and Access",
          "Climate Data Processing and Access",
          "Climate Data Processing and Access",
          "Climate Data Processing and Access",
          "Climate Data Processing and Access",
          "Climate Data Processing and Access",
          "Integrated Assessment",
          "Integrated Assessment",
          "Integrated Assessment",
          "Air Quality",
          "Air Quality",
          "Air Quality",
          "Air Quality",
          "Air Quality",
          "Air Quality",
          "Air Quality",
          "Air Quality",
          "Air Quality",
          "Air Quality",
          "Air Quality",
          "Air Quality",
          "Air Quality",
          "Air Quality",
          "Air Quality",
          "Air Quality",
          "Air Quality",
          "Water Supply",
          "Water Supply",
          "Water Supply",
          "Water Supply",
          "Water Supply",
          "Water Supply",
          "Water Supply",
          "Water Supply",
          "Water Supply",
          "Water Supply",
          "Water Supply",
          "Water Supply",
          "Water Supply",
          "Water Supply",
          "Water Supply",
          "Water Supply",
          "Water Supply",
          "Water Supply",
          "Water Supply",
          "Water Supply",
          "Water Supply",
          "Water Supply",
          "Water Supply",
          "Water Supply",
          "Water Supply",
          "Water Supply",
          "Water Supply",
          "Water Supply",
          "Water Supply",
          "Water Supply",
          "Water Supply",
          "Water Supply",
          "Water Supply",
          "Water Supply",
          "Water Supply",
          "Soil and Land",
          "Soil and Land",
          "Soil and Land",
          "Soil and Land",
          "Soil and Land",
          "Soil and Land",
          "Soil and Land",
          "Soil and Land",
          "Soil and Land",
          "Soil and Land",
          "Soil and Land",
          "Soil and Land",
          "Soil and Land",
          "Soil and Land",
          "Soil and Land",
          "Soil and Land",
          "Soil and Land",
          "Soil and Land",
          "Soil and Land",
          "Soil and Land",
          "Soil and Land",
          "Soil and Land",
          "Soil and Land",
          "Agriculture and Nutrition",
          "Agriculture and Nutrition",
          "Agriculture and Nutrition",
          "Agriculture and Nutrition",
          "Agriculture and Nutrition",
          "Agriculture and Nutrition",
          "Agriculture and Nutrition",
          "Agriculture and Nutrition",
          "Agriculture and Nutrition",
          "Agriculture and Nutrition",
          "Agriculture and Nutrition",
          "Agriculture and Nutrition",
          "Agriculture and Nutrition",
          "Agriculture and Nutrition",
          "Natural Hazard and Poverty",
          "Natural Hazard and Poverty",
          "Natural Hazard and Poverty",
          "Natural Hazard and Poverty",
          "Natural Hazard and Poverty",
          "Natural Hazard and Poverty",
          "Natural Hazard and Poverty",
          "Natural Hazard and Poverty",
          "Natural Hazard and Poverty",
          "Natural Hazard and Poverty",
          "Sustainable Development Goals",
          "Sustainable Development Goals",
          "Sustainable Development Goals",
          "Sustainable Development Goals",
          "Sustainable Investment",
          "Sustainable Investment",
          "Sustainable Investment",
          "Sustainable Investment",
          "Sustainable Investment",
          "Sustainable Investment",
          "Sustainable Investment",
          "Knowledge Platforms",
          "Knowledge Platforms",
          "Knowledge Platforms",
          "Knowledge Platforms",
          "Knowledge Platforms",
          "Knowledge Platforms",
          "Knowledge Platforms",
          "Knowledge Platforms",
          "Knowledge Platforms",
          "Knowledge Platforms",
          "Knowledge Platforms",
          "Data Catalogs and Interfaces",
          "Data Catalogs and Interfaces",
          "Data Catalogs and Interfaces",
          "Data Catalogs and Interfaces",
          "Data Catalogs and Interfaces",
          "Data Catalogs and Interfaces",
          "Data Catalogs and Interfaces",
          "Data Catalogs and Interfaces",
          "Data Catalogs and Interfaces",
          "Data Catalogs and Interfaces",
          "Data Catalogs and Interfaces",
          "Data Catalogs and Interfaces",
          "Data Catalogs and Interfaces",
          "Data Catalogs and Interfaces",
          "Data Catalogs and Interfaces",
          "Data Catalogs and Interfaces",
          "Data Catalogs and Interfaces",
          "Data Catalogs and Interfaces",
          "Data Catalogs and Interfaces",
          "Data Catalogs and Interfaces",
          "Data Catalogs and Interfaces",
          "Data Catalogs and Interfaces",
          "Data Catalogs and Interfaces",
          "Data Catalogs and Interfaces",
          "Data Catalogs and Interfaces",
          "Curated Lists",
          "Curated Lists",
          "Curated Lists",
          "Curated Lists",
          "Curated Lists",
          "Curated Lists",
          "Curated Lists",
          "Curated Lists",
          "Curated Lists",
          "Curated Lists",
          "Curated Lists",
          "Curated Lists",
          "Curated Lists",
          "Curated Lists",
          "Curated Lists"
         ],
         "yaxis": "y"
        }
       ],
       "layout": {
        "coloraxis": {
         "colorbar": {
          "title": {
           "text": "activity"
          }
         },
         "colorscale": [
          [
           0,
           "red"
          ],
          [
           1,
           "green"
          ]
         ]
        },
        "height": 800,
        "legend": {
         "itemsizing": "constant",
         "tracegroupgap": 0
        },
        "margin": {
         "t": 60
        },
        "paper_bgcolor": "lightgray",
        "template": {
         "data": {
          "bar": [
           {
            "error_x": {
             "color": "#2a3f5f"
            },
            "error_y": {
             "color": "#2a3f5f"
            },
            "marker": {
             "line": {
              "color": "#E5ECF6",
              "width": 0.5
             },
             "pattern": {
              "fillmode": "overlay",
              "size": 10,
              "solidity": 0.2
             }
            },
            "type": "bar"
           }
          ],
          "barpolar": [
           {
            "marker": {
             "line": {
              "color": "#E5ECF6",
              "width": 0.5
             },
             "pattern": {
              "fillmode": "overlay",
              "size": 10,
              "solidity": 0.2
             }
            },
            "type": "barpolar"
           }
          ],
          "carpet": [
           {
            "aaxis": {
             "endlinecolor": "#2a3f5f",
             "gridcolor": "white",
             "linecolor": "white",
             "minorgridcolor": "white",
             "startlinecolor": "#2a3f5f"
            },
            "baxis": {
             "endlinecolor": "#2a3f5f",
             "gridcolor": "white",
             "linecolor": "white",
             "minorgridcolor": "white",
             "startlinecolor": "#2a3f5f"
            },
            "type": "carpet"
           }
          ],
          "choropleth": [
           {
            "colorbar": {
             "outlinewidth": 0,
             "ticks": ""
            },
            "type": "choropleth"
           }
          ],
          "contour": [
           {
            "colorbar": {
             "outlinewidth": 0,
             "ticks": ""
            },
            "colorscale": [
             [
              0,
              "#0d0887"
             ],
             [
              0.1111111111111111,
              "#46039f"
             ],
             [
              0.2222222222222222,
              "#7201a8"
             ],
             [
              0.3333333333333333,
              "#9c179e"
             ],
             [
              0.4444444444444444,
              "#bd3786"
             ],
             [
              0.5555555555555556,
              "#d8576b"
             ],
             [
              0.6666666666666666,
              "#ed7953"
             ],
             [
              0.7777777777777778,
              "#fb9f3a"
             ],
             [
              0.8888888888888888,
              "#fdca26"
             ],
             [
              1,
              "#f0f921"
             ]
            ],
            "type": "contour"
           }
          ],
          "contourcarpet": [
           {
            "colorbar": {
             "outlinewidth": 0,
             "ticks": ""
            },
            "type": "contourcarpet"
           }
          ],
          "heatmap": [
           {
            "colorbar": {
             "outlinewidth": 0,
             "ticks": ""
            },
            "colorscale": [
             [
              0,
              "#0d0887"
             ],
             [
              0.1111111111111111,
              "#46039f"
             ],
             [
              0.2222222222222222,
              "#7201a8"
             ],
             [
              0.3333333333333333,
              "#9c179e"
             ],
             [
              0.4444444444444444,
              "#bd3786"
             ],
             [
              0.5555555555555556,
              "#d8576b"
             ],
             [
              0.6666666666666666,
              "#ed7953"
             ],
             [
              0.7777777777777778,
              "#fb9f3a"
             ],
             [
              0.8888888888888888,
              "#fdca26"
             ],
             [
              1,
              "#f0f921"
             ]
            ],
            "type": "heatmap"
           }
          ],
          "heatmapgl": [
           {
            "colorbar": {
             "outlinewidth": 0,
             "ticks": ""
            },
            "colorscale": [
             [
              0,
              "#0d0887"
             ],
             [
              0.1111111111111111,
              "#46039f"
             ],
             [
              0.2222222222222222,
              "#7201a8"
             ],
             [
              0.3333333333333333,
              "#9c179e"
             ],
             [
              0.4444444444444444,
              "#bd3786"
             ],
             [
              0.5555555555555556,
              "#d8576b"
             ],
             [
              0.6666666666666666,
              "#ed7953"
             ],
             [
              0.7777777777777778,
              "#fb9f3a"
             ],
             [
              0.8888888888888888,
              "#fdca26"
             ],
             [
              1,
              "#f0f921"
             ]
            ],
            "type": "heatmapgl"
           }
          ],
          "histogram": [
           {
            "marker": {
             "pattern": {
              "fillmode": "overlay",
              "size": 10,
              "solidity": 0.2
             }
            },
            "type": "histogram"
           }
          ],
          "histogram2d": [
           {
            "colorbar": {
             "outlinewidth": 0,
             "ticks": ""
            },
            "colorscale": [
             [
              0,
              "#0d0887"
             ],
             [
              0.1111111111111111,
              "#46039f"
             ],
             [
              0.2222222222222222,
              "#7201a8"
             ],
             [
              0.3333333333333333,
              "#9c179e"
             ],
             [
              0.4444444444444444,
              "#bd3786"
             ],
             [
              0.5555555555555556,
              "#d8576b"
             ],
             [
              0.6666666666666666,
              "#ed7953"
             ],
             [
              0.7777777777777778,
              "#fb9f3a"
             ],
             [
              0.8888888888888888,
              "#fdca26"
             ],
             [
              1,
              "#f0f921"
             ]
            ],
            "type": "histogram2d"
           }
          ],
          "histogram2dcontour": [
           {
            "colorbar": {
             "outlinewidth": 0,
             "ticks": ""
            },
            "colorscale": [
             [
              0,
              "#0d0887"
             ],
             [
              0.1111111111111111,
              "#46039f"
             ],
             [
              0.2222222222222222,
              "#7201a8"
             ],
             [
              0.3333333333333333,
              "#9c179e"
             ],
             [
              0.4444444444444444,
              "#bd3786"
             ],
             [
              0.5555555555555556,
              "#d8576b"
             ],
             [
              0.6666666666666666,
              "#ed7953"
             ],
             [
              0.7777777777777778,
              "#fb9f3a"
             ],
             [
              0.8888888888888888,
              "#fdca26"
             ],
             [
              1,
              "#f0f921"
             ]
            ],
            "type": "histogram2dcontour"
           }
          ],
          "mesh3d": [
           {
            "colorbar": {
             "outlinewidth": 0,
             "ticks": ""
            },
            "type": "mesh3d"
           }
          ],
          "parcoords": [
           {
            "line": {
             "colorbar": {
              "outlinewidth": 0,
              "ticks": ""
             }
            },
            "type": "parcoords"
           }
          ],
          "pie": [
           {
            "automargin": true,
            "type": "pie"
           }
          ],
          "scatter": [
           {
            "marker": {
             "colorbar": {
              "outlinewidth": 0,
              "ticks": ""
             }
            },
            "type": "scatter"
           }
          ],
          "scatter3d": [
           {
            "line": {
             "colorbar": {
              "outlinewidth": 0,
              "ticks": ""
             }
            },
            "marker": {
             "colorbar": {
              "outlinewidth": 0,
              "ticks": ""
             }
            },
            "type": "scatter3d"
           }
          ],
          "scattercarpet": [
           {
            "marker": {
             "colorbar": {
              "outlinewidth": 0,
              "ticks": ""
             }
            },
            "type": "scattercarpet"
           }
          ],
          "scattergeo": [
           {
            "marker": {
             "colorbar": {
              "outlinewidth": 0,
              "ticks": ""
             }
            },
            "type": "scattergeo"
           }
          ],
          "scattergl": [
           {
            "marker": {
             "colorbar": {
              "outlinewidth": 0,
              "ticks": ""
             }
            },
            "type": "scattergl"
           }
          ],
          "scattermapbox": [
           {
            "marker": {
             "colorbar": {
              "outlinewidth": 0,
              "ticks": ""
             }
            },
            "type": "scattermapbox"
           }
          ],
          "scatterpolar": [
           {
            "marker": {
             "colorbar": {
              "outlinewidth": 0,
              "ticks": ""
             }
            },
            "type": "scatterpolar"
           }
          ],
          "scatterpolargl": [
           {
            "marker": {
             "colorbar": {
              "outlinewidth": 0,
              "ticks": ""
             }
            },
            "type": "scatterpolargl"
           }
          ],
          "scatterternary": [
           {
            "marker": {
             "colorbar": {
              "outlinewidth": 0,
              "ticks": ""
             }
            },
            "type": "scatterternary"
           }
          ],
          "surface": [
           {
            "colorbar": {
             "outlinewidth": 0,
             "ticks": ""
            },
            "colorscale": [
             [
              0,
              "#0d0887"
             ],
             [
              0.1111111111111111,
              "#46039f"
             ],
             [
              0.2222222222222222,
              "#7201a8"
             ],
             [
              0.3333333333333333,
              "#9c179e"
             ],
             [
              0.4444444444444444,
              "#bd3786"
             ],
             [
              0.5555555555555556,
              "#d8576b"
             ],
             [
              0.6666666666666666,
              "#ed7953"
             ],
             [
              0.7777777777777778,
              "#fb9f3a"
             ],
             [
              0.8888888888888888,
              "#fdca26"
             ],
             [
              1,
              "#f0f921"
             ]
            ],
            "type": "surface"
           }
          ],
          "table": [
           {
            "cells": {
             "fill": {
              "color": "#EBF0F8"
             },
             "line": {
              "color": "white"
             }
            },
            "header": {
             "fill": {
              "color": "#C8D4E3"
             },
             "line": {
              "color": "white"
             }
            },
            "type": "table"
           }
          ]
         },
         "layout": {
          "annotationdefaults": {
           "arrowcolor": "#2a3f5f",
           "arrowhead": 0,
           "arrowwidth": 1
          },
          "autotypenumbers": "strict",
          "coloraxis": {
           "colorbar": {
            "outlinewidth": 0,
            "ticks": ""
           }
          },
          "colorscale": {
           "diverging": [
            [
             0,
             "#8e0152"
            ],
            [
             0.1,
             "#c51b7d"
            ],
            [
             0.2,
             "#de77ae"
            ],
            [
             0.3,
             "#f1b6da"
            ],
            [
             0.4,
             "#fde0ef"
            ],
            [
             0.5,
             "#f7f7f7"
            ],
            [
             0.6,
             "#e6f5d0"
            ],
            [
             0.7,
             "#b8e186"
            ],
            [
             0.8,
             "#7fbc41"
            ],
            [
             0.9,
             "#4d9221"
            ],
            [
             1,
             "#276419"
            ]
           ],
           "sequential": [
            [
             0,
             "#0d0887"
            ],
            [
             0.1111111111111111,
             "#46039f"
            ],
            [
             0.2222222222222222,
             "#7201a8"
            ],
            [
             0.3333333333333333,
             "#9c179e"
            ],
            [
             0.4444444444444444,
             "#bd3786"
            ],
            [
             0.5555555555555556,
             "#d8576b"
            ],
            [
             0.6666666666666666,
             "#ed7953"
            ],
            [
             0.7777777777777778,
             "#fb9f3a"
            ],
            [
             0.8888888888888888,
             "#fdca26"
            ],
            [
             1,
             "#f0f921"
            ]
           ],
           "sequentialminus": [
            [
             0,
             "#0d0887"
            ],
            [
             0.1111111111111111,
             "#46039f"
            ],
            [
             0.2222222222222222,
             "#7201a8"
            ],
            [
             0.3333333333333333,
             "#9c179e"
            ],
            [
             0.4444444444444444,
             "#bd3786"
            ],
            [
             0.5555555555555556,
             "#d8576b"
            ],
            [
             0.6666666666666666,
             "#ed7953"
            ],
            [
             0.7777777777777778,
             "#fb9f3a"
            ],
            [
             0.8888888888888888,
             "#fdca26"
            ],
            [
             1,
             "#f0f921"
            ]
           ]
          },
          "colorway": [
           "#636efa",
           "#EF553B",
           "#00cc96",
           "#ab63fa",
           "#FFA15A",
           "#19d3f3",
           "#FF6692",
           "#B6E880",
           "#FF97FF",
           "#FECB52"
          ],
          "font": {
           "color": "#2a3f5f"
          },
          "geo": {
           "bgcolor": "white",
           "lakecolor": "white",
           "landcolor": "#E5ECF6",
           "showlakes": true,
           "showland": true,
           "subunitcolor": "white"
          },
          "hoverlabel": {
           "align": "left"
          },
          "hovermode": "closest",
          "mapbox": {
           "style": "light"
          },
          "paper_bgcolor": "white",
          "plot_bgcolor": "#E5ECF6",
          "polar": {
           "angularaxis": {
            "gridcolor": "white",
            "linecolor": "white",
            "ticks": ""
           },
           "bgcolor": "#E5ECF6",
           "radialaxis": {
            "gridcolor": "white",
            "linecolor": "white",
            "ticks": ""
           }
          },
          "scene": {
           "xaxis": {
            "backgroundcolor": "#E5ECF6",
            "gridcolor": "white",
            "gridwidth": 2,
            "linecolor": "white",
            "showbackground": true,
            "ticks": "",
            "zerolinecolor": "white"
           },
           "yaxis": {
            "backgroundcolor": "#E5ECF6",
            "gridcolor": "white",
            "gridwidth": 2,
            "linecolor": "white",
            "showbackground": true,
            "ticks": "",
            "zerolinecolor": "white"
           },
           "zaxis": {
            "backgroundcolor": "#E5ECF6",
            "gridcolor": "white",
            "gridwidth": 2,
            "linecolor": "white",
            "showbackground": true,
            "ticks": "",
            "zerolinecolor": "white"
           }
          },
          "shapedefaults": {
           "line": {
            "color": "#2a3f5f"
           }
          },
          "ternary": {
           "aaxis": {
            "gridcolor": "white",
            "linecolor": "white",
            "ticks": ""
           },
           "baxis": {
            "gridcolor": "white",
            "linecolor": "white",
            "ticks": ""
           },
           "bgcolor": "#E5ECF6",
           "caxis": {
            "gridcolor": "white",
            "linecolor": "white",
            "ticks": ""
           }
          },
          "title": {
           "x": 0.05
          },
          "xaxis": {
           "automargin": true,
           "gridcolor": "white",
           "linecolor": "white",
           "ticks": "",
           "title": {
            "standoff": 15
           },
           "zerolinecolor": "white",
           "zerolinewidth": 2
          },
          "yaxis": {
           "automargin": true,
           "gridcolor": "white",
           "linecolor": "white",
           "ticks": "",
           "title": {
            "standoff": 15
           },
           "zerolinecolor": "white",
           "zerolinewidth": 2
          }
         }
        },
        "xaxis": {
         "anchor": "y",
         "domain": [
          0,
          1
         ],
         "title": {
          "text": "project_age_in_days"
         }
        },
        "yaxis": {
         "anchor": "x",
         "domain": [
          0,
          1
         ],
         "title": {
          "text": "rubric"
         }
        }
       }
      },
      "text/html": [
       "<div>                            <div id=\"c6b79c9a-7662-42b1-8886-4df14af8be01\" class=\"plotly-graph-div\" style=\"height:800px; width:100%;\"></div>            <script type=\"text/javascript\">                require([\"plotly\"], function(Plotly) {                    window.PLOTLYENV=window.PLOTLYENV || {};                                    if (document.getElementById(\"c6b79c9a-7662-42b1-8886-4df14af8be01\")) {                    Plotly.newPlot(                        \"c6b79c9a-7662-42b1-8886-4df14af8be01\",                        [{\"hovertemplate\":\"<b>%{hovertext}</b><br><br>project_age_in_days=%{x}<br>rubric=%{y}<br>size=%{marker.size}<br>activity=%{marker.color}<extra></extra>\",\"hovertext\":[\"https://github.com/pvlib/pvlib-python.git\",\"https://github.com/SunPower/pvfactors.git\",\"https://github.com/NREL/rdtools.git\",\"https://github.com/pvedu/photovoltaic.git\",\"https://github.com/NREL/SolarPILOT.git\",\"https://github.com/slacgismo/solar-data-tools.git\",\"https://github.com/tdcosim/SolarPV-DER-simulation-tool.git\",\"https://github.com/NREL/bifacial_radiance.git\",\"https://github.com/qpv-research-group/solcore5.git\",\"https://github.com/squishykid/solax.git\",\"https://github.com/NREL/bifacialvf.git\",\"https://github.com/SolarTherm/SolarTherm.git\",\"https://github.com/LibreSolar/bms-firmware.git\",\"https://github.com/LibreSolar/charge-controller-firmware.git\",\"https://github.com/openclimatefix/pvoutput.git\",\"https://github.com/openclimatefix/predict_pv_yield.git\",\"https://github.com/meltaxa/solariot.git\",\"https://github.com/pvlib/pvanalytics.git\",\"https://github.com/PerovskiteSCModelling/IonMonger.git\",\"https://github.com/qpv-research-group/rayflare.git\",\"https://github.com/slacgismo/StatisticalClearSky.git\",\"https://github.com/ropensci/nasapower.git\",\"https://github.com/NREL/SolTrace.git\",\"https://github.com/WMD-group/CarrierCapture.jl.git\",\"https://github.com/iat-cener/tonatiuh.git\",\"https://github.com/BreakingBytes/pvfree.git\",\"https://github.com/NREL/PV_ICE.git\",\"https://github.com/openclimatefix/nowcasting.git\",\"https://github.com/SolarArbiter/solarforecastarbiter-core.git\",\"https://github.com/slacgismo/pv-system-profiler.git\",\"https://github.com/Lkruitwagen/solar-pv-global-inventory.git\",\"https://github.com/NREL/dgen.git\",\"https://github.com/IEAWindTask37/IEA-15-240-RWT.git\",\"https://github.com/wind-python/windpowerlib.git\",\"https://github.com/Exawind/nalu-wind.git\",\"https://github.com/OpenFAST/openfast.git\",\"https://github.com/Exawind/amr-wind.git\",\"https://github.com/NREL/OpenOA.git\",\"https://github.com/NREL/ROSCO.git\",\"https://github.com/NREL/floris.git\",\"https://github.com/WISDEM/WISDEM.git\",\"https://github.com/WISDEM/WOMBAT.git\",\"https://github.com/WISDEM/LandBOSSE.git\",\"https://github.com/OpenMDAO/OpenMDAO.git\",\"https://github.com/sintel-dev/Draco.git\",\"https://github.com/WISDEM/ORBIT.git\",\"https://github.com/nmstreethran/WindTurbineClassification.git\",\"https://github.com/audunarn/ANYstructure.git\",\"https://github.com/python-windrose/windrose.git\",\"https://github.com/ImperialCollegeLondon/sharpy.git\",\"https://github.com/NREL/WindSE.git\",\"https://github.com/WISDEM/WEIS.git\",\"https://github.com/YingyiLiu/HAMS.git\",\"https://github.com/brightwind-dev/brightwind.git\",\"https://github.com/NREL/NRWAL.git\",\"https://github.com/ebranlard/welib.git\",\"https://github.com/SNL-WaterPower/WecOptTool.git\",\"https://github.com/energy-modelling-toolkit/hydro-power-database.git\",\"https://github.com/MHKiT-Software/MHKiT-Python.git\",\"https://github.com/NREL-SIIP/HydroPowerSimulations.jl.git\",\"https://github.com/OpenSimHub/OpenHPL.git\",\"https://github.com/BEMRosetta/BEMRosetta.git\",\"https://github.com/capytaine/capytaine.git\",\"https://github.com/MassimoCimmino/pygfunction.git\",\"https://github.com/wouterpeere/GHEtool.git\",\"https://github.com/lanl/FEHM.git\",\"https://github.com/CalebBell/thermo.git\",\"https://github.com/waiwera/waiwera.git\",\"https://github.com/BioSTEAMDevelopmentGroup/biosteam.git\",\"https://github.com/ECSHackWeek/impedance.py.git\",\"https://github.com/pybamm-team/PyBaMM.git\",\"https://github.com/pybamm-team/liionpack.git\",\"https://github.com/jepegit/cellpy.git\",\"https://github.com/TRI-AMDD/beep.git\",\"https://github.com/snl-quest/snl-quest.git\",\"https://github.com/davidhowey/SLIDE.git\",\"https://github.com/epri-dev/StorageVET.git\",\"https://github.com/BattMoTeam/BattMo.git\",\"https://github.com/battery-lcf/batteryarchive.git\",\"https://github.com/ECSIM/opem.git\",\"https://github.com/ECSIM/gopem.git\",\"https://github.com/ECSIM/pem-dataset1.git\",\"https://github.com/e2nIEE/pandapipes.git\",\"https://github.com/sandialabs/hyram.git\",\"https://github.com/lanl-ansi/GasModels.jl.git\",\"https://github.com/Virtual-FCS/VirtualFCS.git\",\"https://github.com/IIT-EnergySystemModels/openTEPES.git\",\"https://github.com/PowerGenome/PowerGenome.git\",\"https://github.com/NREL/REopt_API.git\",\"https://github.com/energy-modelling-toolkit/Dispa-SET.git\",\"https://github.com/calliope-project/euro-calliope.git\",\"https://github.com/FZJ-IEK3-VSA/FINE.git\",\"https://github.com/com-pas/compas-architecture.git\",\"https://github.com/NREL-SIIP/PowerSimulations.jl.git\",\"https://github.com/NREL-SIIP/PowerSystems.jl.git\",\"https://github.com/balmorelcommunity/Balmorel.git\",\"https://github.com/OpenEnergyPlatform/ontology.git\",\"https://github.com/UNSW-CEEM/nempy.git\",\"https://github.com/bje-/NEMO.git\",\"https://github.com/AntaresSimulatorTeam/Antares_Simulator.git\",\"https://github.com/GMLC-TDC/HELICS.git\",\"https://github.com/oemof/oemof-solph.git\",\"https://github.com/oemof/oemof-thermal.git\",\"https://github.com/openENTRANCE/openentrance.git\",\"https://github.com/IDAES/idaes-pse.git\",\"https://github.com/TemoaProject/temoa.git\",\"https://github.com/ie3-institute/PowerSystemDataModel.git\",\"https://github.com/PyPSA/pypsa-eur-sec.git\",\"https://github.com/rte-antares-rpackage/antaresViz.git\",\"https://github.com/rte-antares-rpackage/antaresRead.git\",\"https://github.com/Spine-project/Spine-Toolbox.git\",\"https://github.com/oemof/demandlib.git\",\"https://github.com/reegis/deflex.git\",\"https://github.com/ADGEfficiency/energy-py-linear.git\",\"https://github.com/leonardgoeke/AnyMOD.jl.git\",\"https://github.com/NREL/reVX.git\",\"https://github.com/sogno-platform/dpsim.git\",\"https://github.com/pypsa-meets-africa/pypsa-africa.git\",\"https://github.com/GenXProject/GenX.git\",\"https://github.com/OpenEnergyPlatform/oeplatform.git\",\"https://github.com/PyPSA/PyPSA.git\",\"https://github.com/oemof/oemof.git\",\"https://github.com/tum-ens/pyGRETA.git\",\"https://github.com/powsybl/powsybl-core.git\",\"https://github.com/powsybl/powsybl-open-loadflow.git\",\"https://github.com/MATPOWER/matpower.git\",\"https://github.com/energyRt/energyRt.git\",\"https://github.com/rl-institut/multi-vector-simulator.git\",\"https://github.com/RAMP-project/RAMP.git\",\"https://github.com/NREL/reV.git\",\"https://github.com/ADGEfficiency/energy-py.git\",\"https://github.com/OnSSET/onsset.git\",\"https://github.com/intelligent-environments-lab/CityLearn.git\",\"https://github.com/IBM/rl-testbed-for-energyplus.git\",\"https://github.com/FZJ-IEK3-VSA/tsam.git\",\"https://github.com/iiasa/message_ix.git\",\"https://github.com/blue-marble/gridpath.git\",\"https://github.com/cuihantao/andes.git\",\"https://github.com/Breakthrough-Energy/REISE.jl.git\",\"https://github.com/EnergyTransition/ESDL.git\",\"https://github.com/slacgismo/TESS.git\",\"https://github.com/Thales1330/PSP.git\",\"https://github.com/Energy-Innovation/eps-us.git\",\"https://github.com/TemoaProject/oeo.git\",\"https://github.com/OpenSTEF/openstef.git\",\"https://github.com/PyPSA/technology-data.git\",\"https://github.com/DrafProject/draf.git\",\"https://github.com/OpenEMS/openems.git\",\"https://github.com/opfab/operatorfabric-core.git\",\"https://github.com/Energy-Sparks/energy-sparks.git\",\"https://github.com/openenergymonitor/emonpi.git\",\"https://github.com/FlexMeasures/flexmeasures.git\",\"https://github.com/e2nIEE/simbench.git\",\"https://github.com/grid-parity-exchange/Egret.git\",\"https://github.com/PyPSA/pypsa-eur.git\",\"https://github.com/OSGP/open-smart-grid-platform.git\",\"https://github.com/lanl-ansi/PowerModels.jl.git\",\"https://github.com/lanl-ansi/PowerModelsAnnex.jl.git\",\"https://github.com/rte-france/Grid2Op.git\",\"https://github.com/openego/eDisGo.git\",\"https://github.com/rl-institut/offgridders.git\",\"https://github.com/GridMod/RTS-GMLC.git\",\"https://github.com/JuliaEnergy/PowerDynamics.jl.git\",\"https://github.com/NREL-SIIP/InfrastructureSystems.jl.git\",\"https://github.com/SanPen/GridCal.git\",\"https://github.com/energywebfoundation/origin.git\",\"https://github.com/gridsingularity/gsy-e.git\",\"https://github.com/Total-RD/pymgrid.git\",\"https://github.com/slacgismo/gridlabd.git\",\"https://github.com/robinhenry/gym-anm.git\",\"https://github.com/Breakthrough-Energy/PowerSimData.git\",\"https://github.com/ie3-institute/simona.git\",\"https://github.com/opennem/opennem-fe.git\",\"https://github.com/catalyst-cooperative/pudl.git\",\"https://github.com/electricitymap/electricitymap-contrib.git\",\"https://github.com/EnergieID/entsoe-py.git\",\"https://github.com/OpenEnergyPlatform/open-MaStR.git\",\"https://github.com/PyPSA/powerplantmatching.git\",\"https://github.com/cristianst85/GeoNuclearData.git\",\"https://github.com/thomastu/pyEIA.git\",\"https://github.com/PyPSA/atlite.git\",\"https://github.com/m4rz910/NYISOToolkit.git\",\"https://github.com/owid/energy-data.git\",\"https://github.com/DemandRegioTeam/disaggregator.git\",\"https://github.com/systemcatch/eiapy.git\",\"https://github.com/OSUKED/Power-Station-Dictionary.git\",\"https://github.com/OSUKED/ElexonDataPortal.git\",\"https://github.com/hpxmlwg/hpxml.git\",\"https://github.com/NREL/hescore-hpxml.git\",\"https://github.com/FZJ-IEK3-VSA/LoadProfileGenerator.git\",\"https://github.com/SEED-platform/seed.git\",\"https://github.com/EcotopeResearch/HPWHsim.git\",\"https://github.com/NREL/OpenStudio-ERI.git\",\"https://github.com/NREL/OpenStudio-HPXML.git\",\"https://github.com/RWTH-EBC/TEASER.git\",\"https://github.com/oemof/tespy.git\",\"https://github.com/architecture-building-systems/CityEnergyAnalyst.git\",\"https://github.com/lbl-srg/MPCPy.git\",\"https://github.com/lbl-srg/obc.git\",\"https://github.com/UdK-VPT/BuildingSystems.git\",\"https://github.com/ibpsa/project1.git\",\"https://github.com/TEB-model/teb.git\",\"https://github.com/oemof/DHNx.git\",\"https://github.com/CenterForTheBuiltEnvironment/pythermalcomfort.git\",\"https://github.com/CenterForTheBuiltEnvironment/comfort_tool.git\",\"https://github.com/NREL/resstock.git\",\"https://github.com/dsmrreader/dsmr-reader.git\",\"https://github.com/hongyuanjia/eplusr.git\",\"https://github.com/BrickSchema/Brick.git\",\"https://github.com/volkszaehler/mbmd.git\",\"https://github.com/FZJ-IEK3-VSA/HiSim.git\",\"https://github.com/RE-Lab-Projects/hplib.git\",\"https://github.com/ecmwf-projects/thermofeel.git\",\"https://github.com/CenterForTheBuiltEnvironment/clima.git\",\"https://github.com/ropensci/stplanr.git\",\"https://github.com/mobilityhouse/ocpp.git\",\"https://github.com/ShellRechargeSolutionsEU/docile-charge-point.git\",\"https://github.com/maasglobal/maas-schemas.git\",\"https://github.com/coopcycle/coopcycle-web.git\",\"https://github.com/EVNotify/EVNotify.git\",\"https://github.com/OpenEVSE/ESP8266_WiFi_v2.x.git\",\"https://github.com/openmobilityfoundation/mobility-data-specification.git\",\"https://github.com/mdolab/openconcept.git\",\"https://github.com/evcc-io/evcc.git\",\"https://github.com/SwitchEV/RISE-V2G.git\",\"https://github.com/google/transitfeed.git\",\"https://github.com/systragroup/quetzal.git\",\"https://github.com/Universite-Gustave-Eiffel/NoiseCapture.git\",\"https://github.com/ropensci/bikedata.git\",\"https://github.com/cyclosm/cyclosm-cartocss-style.git\",\"https://github.com/upb-lea/gym-electric-motor.git\",\"https://github.com/LBNL-UCB-STI/beam.git\",\"https://github.com/ubahnverleih/WoBike.git\",\"https://github.com/PierrickP/multicycles.git\",\"https://github.com/OpenChargingCloud/ChargyDesktopApp.git\",\"https://github.com/RAMP-project/RAMP-mobility.git\",\"https://github.com/ITSLeeds/pct.git\",\"https://github.com/goat-community/goat.git\",\"https://github.com/ATFutures/gtfs-router.git\",\"https://github.com/d-wasserman/Complete_Street_Rule.git\",\"https://github.com/jrester/tesla_powerwall.git\",\"https://github.com/gsoh/VED.git\",\"https://github.com/NABSA/gbfs.git\",\"https://github.com/johan12345/EVMap.git\",\"https://github.com/SAP/emobility-smart-charging.git\",\"https://github.com/andmos/BikeshareClient.git\",\"https://github.com/EVerest/EVerest.git\",\"https://github.com/transitland/transitland-atlas.git\",\"https://github.com/OpenModelica/OpenModelica.git\",\"https://github.com/greensoftwarelab/Energy-Languages.git\",\"https://github.com/hubblo-org/scaphandre.git\",\"https://github.com/powerapi-ng/powerapi.git\",\"https://github.com/patch-technology/patch-node.git\",\"https://github.com/thegreenwebfoundation/co2.js.git\",\"https://github.com/Organic-Basics/ob-low-impact-website.git\",\"https://github.com/kylemcdonald/ethereum-nft-activity.git\",\"https://github.com/cloud-carbon-footprint/cloud-carbon-footprint.git\",\"https://github.com/powerapi-ng/pyJoules.git\",\"https://github.com/GoogleCloudPlatform/region-carbon-info.git\",\"https://github.com/dos-group/leaf.git\",\"https://github.com/kylemcdonald/ethereum-nft-activity.git\",\"https://github.com/kube-green/kube-green.git\",\"https://github.com/cnumr/ecoCode.git\",\"https://github.com/sustainable-computing-io/kepler.git\",\"https://github.com/Green-Software-Foundation/software_carbon_intensity.git\",\"https://github.com/jawache/principles-green.git\",\"https://github.com/thegreenwebfoundation/grid-intensity-go.git\",\"https://github.com/mlco2/impact.git\",\"https://github.com/ConferenceCarbonTracker/CarbonFootprintEGU.git\",\"https://github.com/NMF-earth/nmf-app.git\",\"https://github.com/mlco2/codecarbon.git\",\"https://github.com/carbonalyser/Carbonalyser.git\",\"https://github.com/opentaps/blockchain-carbon-accounting.git\",\"https://github.com/kansoapp/carbonfact-models.git\",\"https://github.com/climatiq/Open-Emission-Factors-DB.git\",\"https://github.com/DrafProject/elmada.git\",\"https://github.com/Boavizta/environmental-footprint-data.git\",\"https://github.com/openclimatedata/unfccc-detailed-data-by-party.git\",\"https://github.com/GranthamImperial/silicone.git\",\"https://github.com/carbonplan/cdr-database.git\",\"https://github.com/CCSI-Toolset/FOQUS.git\",\"https://github.com/GEOSX/GEOSX.git\",\"https://github.com/hsbay/cdrmex.git\",\"https://github.com/dataforgoodfr/batch7_satellite_ges.git\",\"https://github.com/emissions-api/emissions-api.git\",\"https://github.com/atmoschem/eixport.git\",\"https://github.com/atmoschem/EmissV.git\",\"https://github.com/JGCRI/CEDS.git\",\"https://github.com/quishqa/PyChEmiss.git\",\"https://github.com/owid/co2-data.git\",\"https://github.com/uataq/X-STILT.git\",\"https://github.com/uataq/stilt.git\",\"https://github.com/arbrandt/OPGEE.git\",\"https://github.com/CMU-CREATE-Lab/deep-smoke-machine.git\",\"https://github.com/Ribbit-Network/ribbit-network-frog-sensor.git\",\"https://github.com/milankl/FlyingClimate.git\",\"https://github.com/ICOS-Carbon-Portal/pylib.git\",\"https://github.com/brightway-lca/brightway2.git\",\"https://github.com/romainsacchi/carculator.git\",\"https://github.com/oie-mines-paristech/lca_algebraic.git\",\"https://github.com/Vizzuality/trase.git\",\"https://github.com/QSD-Group/QSDsan.git\",\"https://github.com/polca/premise.git\",\"https://github.com/USEPA/useeior.git\",\"https://github.com/USEPA/Federal-LCA-Commons-Elementary-Flow-List.git\",\"https://github.com/pedropro/TACO.git\",\"https://github.com/circularfashion/cf-circularity-id-standard.git\",\"https://github.com/OpenLitterMap/openlittermap-web.git\",\"https://github.com/WWF-Deutschland/marine-plastic-explorer.git\",\"https://github.com/NASA-IMPACT/marine_debris_ML.git\",\"https://github.com/TheOceanCleanupAlgorithms/ADVECT.git\",\"https://github.com/marine-debris/marine-debris.github.io.git\",\"https://github.com/wimlds-trojmiasto/detect-waste.git\",\"https://github.com/santiago-sanitation-systems/Santiago.jl.git\",\"https://github.com/wri/carbon-budget.git\",\"https://github.com/umr-amap/BIOMASS.git\",\"https://github.com/MetOffice/forest.git\",\"https://github.com/openforis/sepal.git\",\"https://github.com/forc-db/ForC.git\",\"https://github.com/tiagodc/TreeLS.git\",\"https://github.com/wri/gfw-mapbuilder.git\",\"https://github.com/r-lidar/lidR.git\",\"https://github.com/weecology/DeepForest.git\",\"https://github.com/WSWUP/pymetric.git\",\"https://github.com/weecology/NeonTreeEvaluation.git\",\"https://github.com/weecology/DeepTreeAttention.git\",\"https://github.com/woodcrafty/PyETo.git\",\"https://github.com/sollano/forestmangr.git\",\"https://github.com/NGEET/fates.git\",\"https://github.com/ghislainv/forestatrisk.git\",\"https://github.com/pyronear/pyro-vision.git\",\"https://github.com/CornellLabofOrnithology/auk.git\",\"https://github.com/VIAME/VIAME.git\",\"https://github.com/NOAA-EDAB/ecodata.git\",\"https://github.com/bullocke/coded.git\",\"https://github.com/openplantpathology/OpenPlantPathology.git\",\"https://github.com/allisonhorst/palmerpenguins.git\",\"https://github.com/iobis/robis.git\",\"https://github.com/JuliaOcean/PlanktonIndividuals.jl.git\",\"https://github.com/prioritizr/wdpar.git\",\"https://github.com/alan-turing-institute/monitoring-ecosystem-resilience.git\",\"https://github.com/bluegreen-labs/phenocamr.git\",\"https://github.com/pinskylab/OceanAdapt.git\",\"https://github.com/Plant-for-the-Planet-org/treecounter-app.git\",\"https://github.com/microsoft/aerial_wildlife_detection.git\",\"https://github.com/pyronear/pyro-risks.git\",\"https://github.com/Plant-for-the-Planet-org/treemapper.git\",\"https://github.com/jbferet/biodivMapR.git\",\"https://github.com/wri/sentinel-tree-cover.git\",\"https://github.com/Bioverse-Labs/deep-learning.git\",\"https://github.com/protect-earth/TreeTracker.git\",\"https://github.com/carbonplan/forest-risks.git\",\"https://github.com/carlos-alberto-silva/rGEDI.git\",\"https://github.com/bcgov/wps.git\",\"https://github.com/technologiestiftung/giessdenkiez-de.git\",\"https://github.com/SKrisanski/FSCT.git\",\"https://github.com/MAAP-Project/maap-documentation.git\",\"https://github.com/WildMeOrg/Wildbook.git\",\"https://github.com/bi0m3trics/spanner.git\",\"https://github.com/Greenstand/treetracker-android.git\",\"https://github.com/andrew-plowright/ForestTools.git\",\"https://github.com/earthlab/firedpy.git\",\"https://github.com/BioPAL/BioPAL.git\",\"https://github.com/eco-hydro/phenofit.git\",\"https://github.com/mapme-initiative/mapme.biodiversity.git\",\"https://github.com/prioritizr/prioritizr.git\",\"https://github.com/smrt-model/smrt.git\",\"https://github.com/OGGM/oggm.git\",\"https://github.com/CICE-Consortium/CICE.git\",\"https://github.com/CICE-Consortium/Icepack.git\",\"https://github.com/weiji14/deepbedmap.git\",\"https://github.com/nasa-jpl/captoolkit.git\",\"https://github.com/vannizhang/sea-ice.git\",\"https://github.com/GEUS-Glaciology-and-Climate/freshwater.git\",\"https://github.com/PennyHow/PyTrx.git\",\"https://github.com/ECCO-GROUP/ECCO-v4-Python-Tutorial.git\",\"https://github.com/icesat2py/icepyx.git\",\"https://github.com/krisrs1128/glacier_mapping.git\",\"https://github.com/weiji14/deepicedrain.git\",\"https://github.com/cryotools/cosipy.git\",\"https://github.com/nsidc/qgreenland.git\",\"https://github.com/Ouranosinc/raven.git\",\"https://github.com/NorESMhub/BLOM.git\",\"https://github.com/CliMA/Oceananigans.jl.git\",\"https://github.com/CliMA/LESbrary.jl.git\",\"https://github.com/ropensci/rrricanes.git\",\"https://github.com/hainegroup/oceanspy.git\",\"https://github.com/team-ocean/veros.git\",\"https://github.com/DFO-Ocean-Navigator/Ocean-Data-Map-Project.git\",\"https://github.com/robwschlegel/heatwaveR.git\",\"https://github.com/MITgcm/MITgcm.git\",\"https://github.com/NCAR/VAPOR.git\",\"https://github.com/beijbom/coralnet.git\",\"https://github.com/NCAR/ccpp-physics.git\",\"https://github.com/OceanParcels/parcels.git\",\"https://github.com/Mohid-Water-Modelling-System/MOHID-Lagrangian.git\",\"https://github.com/Mohid-Water-Modelling-System/Mohid.git\",\"https://github.com/JuliaOcean/AIBECS.jl.git\",\"https://github.com/gotm-model/code.git\",\"https://github.com/NCAR/wrf_hydro_nwm_public.git\",\"https://github.com/UU-Hydro/PCR-GLOBWB_model.git\",\"https://github.com/hydroshare/hydroshare.git\",\"https://github.com/passaH2O/dorado.git\",\"https://github.com/jpgattuso/seacarb-git.git\",\"https://github.com/VeinsOfTheEarth/RivGraph.git\",\"https://github.com/GClunies/noaa_coops.git\",\"https://github.com/COSIMA/cosima-cookbook.git\",\"https://github.com/cordmaur/WaterDetect.git\",\"https://github.com/FLARE-forecast/FLAREr.git\",\"https://github.com/hyriver/hyriver.github.io.git\",\"https://github.com/Deltares/Wflow.jl.git\",\"https://github.com/parflow/parflow.git\",\"https://github.com/sdl60660/river-runner.git\",\"https://github.com/ESIPFed/LakePy.git\",\"https://github.com/aqualinkorg/aqualink-app.git\",\"https://github.com/euroargodev/argopy.git\",\"https://github.com/eWaterCycle/ewatercycle.git\",\"https://github.com/ropensci/tidyhydat.git\",\"https://github.com/mvdh7/PyCO2SYS.git\",\"https://github.com/pastas/pastas.git\",\"https://github.com/USGS-R/river-dl.git\",\"https://github.com/badlands-model/badlands.git\",\"https://github.com/Climdyn/qgs.git\",\"https://github.com/onaci/leaflet-velocity.git\",\"https://github.com/OasisLMF/OasisPiWind.git\",\"https://github.com/slcs-jsc/mptrac.git\",\"https://github.com/NCAR/icar.git\",\"https://github.com/simonom/PyCHAM.git\",\"https://github.com/CNES/MAJA.git\",\"https://github.com/Open-MSS/MSS.git\",\"https://github.com/esowc/Elefridge.jl.git\",\"https://github.com/ExeClim/Isca.git\",\"https://github.com/oceanflux-ghg/FluxEngine.git\",\"https://github.com/openeemeter/eeweather.git\",\"https://github.com/GralDispersionModel/GRAL.git\",\"https://github.com/geoschem/geos-chem.git\",\"https://github.com/E3SM-Project/scream.git\",\"https://github.com/CliMA/RRTMGP.jl.git\",\"https://github.com/geoschem/gcpy.git\",\"https://github.com/ESMValGroup/ESMValTool.git\",\"https://github.com/NOAA-EMC/global-workflow.git\",\"https://github.com/pangeo-data/pangeo.git\",\"https://github.com/ESCOMP/CMEPS.git\",\"https://github.com/E3SM-Project/e3sm_diags.git\",\"https://github.com/NOAA-GFDL/MDTF-diagnostics.git\",\"https://github.com/ESCOMP/CESM.git\",\"https://github.com/JuliaClimate/ClimateBase.jl.git\",\"https://github.com/CliMA/Land.git\",\"https://github.com/LBL-EESA/TECA.git\",\"https://github.com/monocongo/climate_indices.git\",\"https://github.com/CliMA/ClimateMachine.jl.git\",\"https://github.com/ecmwf/atlas.git\",\"https://github.com/NOAA-GFDL/MOM6.git\",\"https://github.com/openclimatedata/pyhector.git\",\"https://github.com/NorESMhub/NorESM.git\",\"https://github.com/climlab/climlab.git\",\"https://github.com/OMS-NetZero/FAIR.git\",\"https://github.com/CLIMADA-project/climada_python.git\",\"https://github.com/ClimateMARGO/ClimateMARGO.jl.git\",\"https://github.com/JuliaClimate/ClimateTools.jl.git\",\"https://github.com/UW-Hydro/MetSim.git\",\"https://github.com/esmf-org/esmf.git\",\"https://github.com/GIS4WRF/gis4wrf.git\",\"https://github.com/ladybug-tools/dragonfly-legacy.git\",\"https://github.com/fnemina/pyOSOAA.git\",\"https://github.com/ecmwf-ifs/ecrad.git\",\"https://github.com/gaelforget/ClimateModels.jl.git\",\"https://github.com/csyhuang/hn2016_falwa.git\",\"https://github.com/pangeo-data/climpred.git\",\"https://github.com/chrisroadmap/climateforcing.git\",\"https://github.com/xgcm/xgcm.git\",\"https://github.com/MPAS-Dev/MPAS-Analysis.git\",\"https://github.com/dalesteam/dales.git\",\"https://github.com/RemoteSensingTools/vSmartMOM.jl.git\",\"https://github.com/earth-system-radiation/rte-rrtmgp.git\",\"https://github.com/AER-RC/LBLRTM.git\",\"https://github.com/eradiate/eradiate.git\",\"https://github.com/slcs-jsc/jurassic.git\",\"https://github.com/tenstream/tenstream.git\",\"https://github.com/SERVIR/ClimateSERV2.git\",\"https://github.com/SERVIR/ClimateSERVpy.git\",\"https://github.com/ropensci/chirps.git\",\"https://github.com/ubilabs/esa-climate-from-space.git\",\"https://github.com/bluegreen-labs/ecmwfr.git\",\"https://github.com/open-meteo/open-meteo.git\",\"https://github.com/ropensci/weathercan.git\",\"https://github.com/eliocamp/metR.git\",\"https://github.com/bczernecki/climate.git\",\"https://github.com/brry/rdwd.git\",\"https://github.com/earthobservations/wetterdienst.git\",\"https://github.com/cf-convention/cf-conventions.git\",\"https://github.com/NCAS-CMS/cf-python.git\",\"https://github.com/xCDAT/xcdat.git\",\"https://github.com/orbisgis/geoclimate.git\",\"https://github.com/meteostat/meteostat-python.git\",\"https://github.com/carbonplan/cmip6-downscaling.git\",\"https://github.com/google/weather-tools.git\",\"https://github.com/SantanderMetGroup/loadeR.git\",\"https://github.com/SantanderMetGroup/climate4R.git\",\"https://github.com/meteoinfo/MeteoInfo.git\",\"https://github.com/ropensci/GSODR.git\",\"https://github.com/VeruGHub/easyclimate.git\",\"https://github.com/pik-primap/climate_categories.git\",\"https://github.com/aaronspring/remote_climate_data.git\",\"https://github.com/openscm/AR6-WG1-Data-Compilation.git\",\"https://github.com/IPCC-WG1/Chapter-9.git\",\"https://github.com/deepsphere/deepsphere-pytorch.git\",\"https://github.com/roocs/clisops.git\",\"https://github.com/SantanderMetGroup/ATLAS.git\",\"https://github.com/Ouranosinc/xclim.git\",\"https://github.com/ARCCSS-extremes/climpact.git\",\"https://github.com/nasa/NASAaccess.git\",\"https://github.com/CCI-Tools/cate.git\",\"https://github.com/ecmwf/climetlab.git\",\"https://github.com/rOpenSpain/climaemet.git\",\"https://github.com/NCAR/ncl.git\",\"https://github.com/xarray-contrib/xskillscore.git\",\"https://github.com/ropensci/getCRUCLdata.git\",\"https://github.com/cortinah/hockeystick.git\",\"https://github.com/ecmwf/cfgrib.git\",\"https://github.com/ideas-lab-nus/epwshiftr.git\",\"https://github.com/intake/intake-esm.git\",\"https://github.com/h5netcdf/h5netcdf.git\",\"https://github.com/boshek/rsoi.git\",\"https://github.com/nco/nco.git\",\"https://github.com/mikejohnson51/climateR.git\",\"https://github.com/metno/esd.git\",\"https://github.com/mathworks/climatedatastore.git\",\"https://github.com/Libbum/DICE.jl.git\",\"https://github.com/IAMconsortium/pyam.git\",\"https://github.com/JGCRI/gcam-core.git\",\"https://github.com/USEPA/CMAQ.git\",\"https://github.com/USEPA/AMET.git\",\"https://github.com/shootismoke/mobile-app.git\",\"https://github.com/jsynowiec/airqmon.git\",\"https://github.com/davidcarslaw/openair.git\",\"https://github.com/openaq/openaq-api-v2.git\",\"https://github.com/openaq/openaq-fetch.git\",\"https://github.com/CEMPD/SMOKE.git\",\"https://github.com/spatialmodel/inmap.git\",\"https://github.com/metno/emep-ctm.git\",\"https://github.com/shuowang-ai/PM2.5-GNN.git\",\"https://github.com/ropensci/rdefra.git\",\"https://github.com/openoakland/woeip.git\",\"https://github.com/opendata-stuttgart/sensor.community.git\",\"https://github.com/JGCRI/rfasst.git\",\"https://github.com/skgrange/saqgetr.git\",\"https://github.com/Ozon3Org/Ozon3.git\",\"https://github.com/lanl-ansi/WaterModels.jl.git\",\"https://github.com/NOAA-OWP/t-route.git\",\"https://github.com/NOAA-OWP/ngen.git\",\"https://github.com/USGS-R/nhdplusTools.git\",\"https://github.com/mroberge/hydrofunctions.git\",\"https://github.com/AquaticEcoDynamics/GLM.git\",\"https://github.com/jsta/nhdR.git\",\"https://github.com/MODFLOW-USGS/modflow6.git\",\"https://github.com/mdbartos/pysheds.git\",\"https://github.com/jblindsay/whitebox-tools.git\",\"https://github.com/ARPA-SIMC/CRITERIA3D.git\",\"https://github.com/USEPA/WNTR.git\",\"https://github.com/bcgov/fasstr.git\",\"https://github.com/bcgov/gwells.git\",\"https://github.com/RAJohansen/waterquality.git\",\"https://github.com/toogad/PooPyLab_Project.git\",\"https://github.com/OpenWaterAnalytics/EPANET.git\",\"https://github.com/bcgov/wqbc.git\",\"https://github.com/WikiWatershed/model-my-watershed.git\",\"https://github.com/pygsflow/pygsflow.git\",\"https://github.com/UMN-Hydro/GSFLOW-GRASS.git\",\"https://github.com/jnsebgosselin/gwhat.git\",\"https://github.com/bcgov/canwqdata.git\",\"https://github.com/USGS-R/HASP.git\",\"https://github.com/CSHS-CWRA/CSHShydRology.git\",\"https://github.com/modflowpy/flopy.git\",\"https://github.com/pcraster/pcraster.git\",\"https://github.com/OSOceanAcoustics/echopype.git\",\"https://github.com/neuralhydrology/neuralhydrology.git\",\"https://github.com/USGS-python/dataretrieval.git\",\"https://github.com/ed-hawkins/rainfall-rescue.git\",\"https://github.com/pySTEPS/pysteps.git\",\"https://github.com/brunomioto/reservatoriosBR.git\",\"https://github.com/usbr/PyForecast.git\",\"https://github.com/Open-ET/openet-ssebop.git\",\"https://github.com/ncss-tech/soilReports.git\",\"https://github.com/ncss-tech/aqp.git\",\"https://github.com/ncss-tech/sharpshootR.git\",\"https://github.com/ncss-tech/soilDB.git\",\"https://github.com/hectornieto/pyTSEB.git\",\"https://github.com/ropensci/smapr.git\",\"https://github.com/TUW-GEO/esa_cci_sm.git\",\"https://github.com/esowc/ml_drought.git\",\"https://github.com/International-Soil-Radiocarbon-Database/ISRaD.git\",\"https://github.com/ConservationInternational/trends.earth.git\",\"https://github.com/felixriese/CNN-SoilTextureClassification.git\",\"https://github.com/geocryology/globsim.git\",\"https://github.com/r-spatialecology/landscapemetrics.git\",\"https://github.com/Christiaanvandertol/SCOPE.git\",\"https://github.com/martibosch/pylandstats.git\",\"https://github.com/ropensci/NLMR.git\",\"https://github.com/eMapR/LT-GEE.git\",\"https://github.com/moja-global/About_moja_global.git\",\"https://github.com/TUW-GEO/ismn.git\",\"https://github.com/Vizzuality/soils-revealed.git\",\"https://github.com/SoilWatch/soil-erosion-watch.git\",\"https://github.com/e-sensing/sits.git\",\"https://github.com/techmatters/terraso-backend.git\",\"https://github.com/DSSAT/dssat-csm-os.git\",\"https://github.com/magpiemodel/magpie.git\",\"https://github.com/AgroCares/Open-Bodem-Index-Calculator.git\",\"https://github.com/APSIMInitiative/ApsimX.git\",\"https://github.com/ConservationInternational/resilienceatlas.git\",\"https://github.com/CarrKnight/POSEIDON.git\",\"https://github.com/karrot-dev/karrot-frontend.git\",\"https://github.com/kazulagi/plantFEM.git\",\"https://github.com/Shyentist/fish-r-man.git\",\"https://github.com/hollorol/AgroMo.git\",\"https://github.com/nasaharvest/cropharvest.git\",\"https://github.com/JokeNetwork/vegancheck.me.git\",\"https://github.com/sentinel-hub/field-delineation.git\",\"https://github.com/maja601/EuroCrops.git\",\"https://github.com/WFP-VAM/prism-frontend.git\",\"https://github.com/spaceml-org/ml4floods.git\",\"https://github.com/global-hydrodynamics/CaMa-Flood_v4.git\",\"https://github.com/NOAA-OWP/inundation-mapping.git\",\"https://github.com/cloudtostreet/MODIS_GlobalFloodDatabase.git\",\"https://github.com/ec-jrc/lisflood-code.git\",\"https://github.com/NRCan/CanFlood.git\",\"https://github.com/Servir-Mekong/hydra-floods.git\",\"https://github.com/OasisLMF/OasisLMF.git\",\"https://github.com/CriticalAssetManagement/CAMS.git\",\"https://github.com/open-sdg/open-sdg.git\",\"https://github.com/sustainlab-group/sustainbench.git\",\"https://github.com/GSA/sdg-indicators-usa.git\",\"https://github.com/owid/sdg-tracker.org.git\",\"https://github.com/natcap/invest.git\",\"https://github.com/remindmodel/remind.git\",\"https://github.com/2DegreesInvesting/r2dii.analysis.git\",\"https://github.com/ScienceBasedTargets/SBTi-finance-tool.git\",\"https://github.com/opentaps/open-climate-investing.git\",\"https://github.com/NREL/ssc.git\",\"https://github.com/os-climate/os_c_data_commons.git\",\"https://github.com/ClimateWatch-Vizzuality/climate-watch.git\",\"https://github.com/lf-energy/lfenergy-landscape.git\",\"https://github.com/ProjectDrawdown/solutions.git\",\"https://github.com/EnvironmentOntology/envo.git\",\"https://github.com/EnviroDIY/ModularSensors.git\",\"https://github.com/climate-strike/license.git\",\"https://github.com/regen-network/regen-ledger.git\",\"https://github.com/stripe/carbon-removal-source-materials.git\",\"https://github.com/usds/justice40-tool.git\",\"https://github.com/DPGAlliance/publicgoods-candidates.git\",\"https://github.com/ESIPFed/sweet.git\",\"https://github.com/radiantearth/radiant-mlhub.git\",\"https://github.com/owid/owid-catalog-py.git\",\"https://github.com/resource-watch/resource-watch.git\",\"https://github.com/piersyork/owidR.git\",\"https://github.com/sentinel-hub/custom-scripts.git\",\"https://github.com/opengeospatial/ogcapi-environmental-data-retrieval.git\",\"https://github.com/rOpenGov/giscoR.git\",\"https://github.com/digitalearthafrica/deafrica-sandbox-notebooks.git\",\"https://github.com/ESGF/esgf-pyclient.git\",\"https://github.com/Open-EO/openeo-python-client.git\",\"https://github.com/mysociety/caps.git\",\"https://github.com/nsidc/earthdata.git\",\"https://github.com/microsoft/AIforEarthDataSets.git\",\"https://github.com/wpgp/wopr.git\",\"https://github.com/brazil-data-cube/rwlts.git\",\"https://github.com/nasa/earthdata-search.git\",\"https://github.com/sentinel-hub/sentinelhub-py.git\",\"https://github.com/microsoft/PlanetaryComputerDataCatalog.git\",\"https://github.com/stac-utils/stac-index.git\",\"https://github.com/openclimatefix/Satip.git\",\"https://github.com/MatMatt/MODIS.git\",\"https://github.com/ecmwf/ecmwf-opendata.git\",\"https://github.com/JuliaDataCubes/EarthDataLab.jl.git\",\"https://github.com/kapadia/usgs.git\",\"https://github.com/16EAGLE/getSpatialData.git\",\"https://github.com/Green-Software-Foundation/awesome-green-software.git\",\"https://github.com/pogopaule/awesome-sustainability-jobs.git\",\"https://github.com/awesome-spectral-indices/awesome-spectral-indices.git\",\"https://github.com/CUTR-at-USF/awesome-transit.git\",\"https://github.com/chrisleaman/awesome-coastal.git\",\"https://github.com/brycejohnston/awesome-agriculture.git\",\"https://github.com/IrishMarineInstitute/awesome-erddap.git\",\"https://github.com/awesome-cryosphere/cryosphere-links.git\",\"https://github.com/nglgzz/awesome-clean-tech.git\",\"https://github.com/philsturgeon/awesome-earth.git\",\"https://github.com/softwareunderground/awesome-open-geoscience.git\",\"https://github.com/wenhwu/awesome-remote-sensing-change-detection.git\",\"https://github.com/samapriya/awesome-gee-community-datasets.git\",\"https://github.com/APA-Technology-Division/urban-and-regional-planning-resources.git\",\"https://github.com/raoulcollenteur/Python-Hydrology-Tools.git\"],\"legendgroup\":\"\",\"marker\":{\"color\":[2.096996245306633,1.967459324155194,2.108886107634543,1.0168961201501878,0.9443053817271588,2.556320400500626,1.4098873591989989,2.724030037546933,2.546933667083855,1.9411764705882355,2.1670838548185234,1.906758448060075,1.8448060075093864,1.7302878598247808,2.84918648310388,2.0006257822277846,1.7897371714643304,2.438047559449312,1.936795994993742,2.2428035043804755,2.27909887359199,2.876720901126408,1.3704630788485608,2.073216520650813,1.297872340425532,1.1821026282853568,1.821026282853567,2.1082603254067585,2.5531914893617023,2.510012515644555,1.1864831038798498,1.2728410513141428,2.5356695869837296,1.0819774718398,1.867334167709637,2.760325406758448,1.7290362953692116,1.997496871088861,2.1727158948685856,2.618898623279099,2.790362953692115,2.344806007509387,1.707133917396746,2.177096370463079,2.122653316645807,0.990613266583229,1.4449311639549436,2.819148936170213,1.9580725907384229,2.5143929912390486,1.8404255319148937,2.4030037546933665,1.3285356695869837,1.0669586983729662,2.380475594493116,1.3973717146433042,2.0043804755944934,1.3917396745932415,2.1821026282853566,1.0675844806007508,1.897371714643304,1.355444305381727,2.1351689612015017,2.752816020025032,2.3416770963704634,1.3241551939924905,2.055694618272841,1.4843554443053817,2.0294117647058822,2.2102628285356696,3.1364205256570714,2.8785982478097623,1.938047559449312,2.677096370463079,1.2659574468085106,1.6307884856070087,2.2158948685857323,2.545056320400501,1.053817271589487,0.9342928660826032,1.1401752190237795,0.4599499374217772,2.6783479349186483,1.0619524405506884,2.1689612015018773,2.2622027534418025,2.478723404255319,2.7008760951188986,2.9612015018773468,1.3610763454317896,2.5794743429286604,2.421151439299124,1.690863579474343,2.6101376720901124,2.829787234042553,2.0131414267834797,2.870463078848561,2.3892365456821025,1.3610763454317898,3.0081351689612017,2.600125156445557,2.5438047559449317,1.672090112640801,2.020650813516896,2.8197747183979978,1.7941176470588236,2.483103879849812,2.3222778473091363,1.7991239048811014,2.210888610763454,2.5344180225281603,1.8110137672090112,2.316020025031289,1.1483103879849812,1.7146433041301623,2.55819774718398,2.1426783479349187,2.7158948685857323,2.4849812265331668,2.641426783479349,2.807259073842303,1.402377972465582,2.160200250312891,2.889862327909888,2.9249061326658325,1.6395494367959949,1.3692115143929913,2.1382978723404253,1.1821026282853566,2.488735919899874,1.2584480600750938,1.6833541927409263,2.1082603254067585,1.7959949937421775,2.423654568210263,2.6239048811013768,2.332290362953692,2.6689612015018778,2.051314142678348,1.6032540675844806,1.3060075093867334,1.4874843554443054,2.927409261576971,1.6076345431789738,3.068210262828536,2.2246558197747186,2.173967459324156,2.983729662077597,3.117647058823529,2.2033792240300376,1.8072590738423029,2.702753441802253,1.7040050062578225,1.996245306633292,2.797872340425532,2.381727158948686,1.9167709637046308,2.3178973717146434,2.7966207759699624,2.777221526908636,1.1989987484355444,1.8479349186483105,2.322903629536921,2.575719649561952,2.3053817271589487,3.023153942428035,2.7002503128911144,2.1408010012515644,2.583229036295369,1.2359198998748435,2.6351689612015017,2.102628285356696,2.394242803504381,2.7653316645807258,2.9155193992490616,2.307259073842303,2.6871088861076347,2.3003754693366707,1.891739674593241,1.7409261576971211,2.490613266583229,1.1889862327909886,1.434292866082603,1.1827284105131413,1.6727158948685856,1.990613266583229,2.815394242803505,2.542553191489361,2.8754693366708386,2.0531914893617023,3.0581977471839794,2.499374217772215,2.9787234042553195,2.9042553191489366,1.737171464330413,2.0907384230287858,2.595118898623279,1.2622027534418023,1.8122653316645807,1.7265331664580723,1.2453066332916145,1.6264080100125158,1.4593241551939924,1.6627033792240302,2.016896120150188,2.862953692115144,2.7759699624530665,2.474342928660826,2.4874843554443054,1.7816020025031292,1.9524405506883604,2.8060075093867334,2.435544430538173,2.062578222778473,2.2284105131414265,2.123279098873592,1.12828535669587,1.9155193992490611,2.812891113892366,1.2221526908635794,1.2052565707133918,2.243429286608261,1.7609511889862328,2.9612015018773468,1.938047559449312,1.316020025031289,2.0175219023779727,1.979349186483104,1.5018773466833544,1.7747183979974968,2.758448060075094,2.2866082603254068,1.0988735919899877,1.802252816020025,1.3498122653316649,1.6589486858573217,2.215269086357948,2.60450563204005,1.846683354192741,1.6883604505632042,2.153942428035044,1.1633291614518149,2.5294117647058822,2.632665832290363,1.2102628285356696,1.253441802252816,1.560700876095119,1.9549436795994992,2.959949937421777,1.3861076345431789,2.1495619524405507,2.392991239048811,2.188986232790989,2.6570713391739678,1.4712140175219024,1.67459324155194,2.991239048811014,1.7196495619524406,0.9693366708385482,1.8823529411764703,1.67459324155194,2.6526908635794744,2.230913642052565,2.3473091364205256,1.9956195244055068,1.367959949937422,2.0319148936170213,1.4524405506883604,1.2765957446808511,2.512515644555694,2.6758448060075093,1.4055068836045057,1.695244055068836,1.8316645807259075,2.6614518147684607,1.7734668335419277,2.040675844806008,1.3729662077596996,2.0269086357947432,1.6458072590738424,2.5456821026282856,2.1689612015018778,1.653942428035044,1.342928660826033,1.874843554443054,2.3566958698372966,1.9274092615769711,1.5688360450563203,0.9831038798498124,1.934918648310388,1.5150187734668334,1.4499374217772216,2.0619524405506886,0.990613266583229,2.32540675844806,1.695244055068836,2.0901126408010016,1.2234042553191489,2.486232790988736,1.3704630788485606,2.639549436795995,1.646433041301627,2.6733416770963707,2.980600750938673,2.113266583229036,1.5600750938673342,0.9474342928660826,2.212140175219024,2.061952440550688,1.58072590738423,1.5125156445556946,1.504380475594493,1.9499374217772212,2.126408010012516,1.2647058823529411,1.4255319148936172,2.881727158948686,2.376720901126408,2.2959949937421777,1.2065081351689613,2.1376720901126407,2.335419274092616,2.1126408010012514,0.7190237797246559,1.651439299123905,2.852315394242804,0.9367959949937422,1.8316645807259075,2.39549436795995,1.862327909887359,2.3272841051314144,1.0919899874843555,1.865456821026283,2.3785982478097623,1.0919899874843555,1.3172715894868587,0.8598247809762203,2.151439299123905,2.4705882352941178,1.995619524405507,0.9167709637046308,1.2941176470588236,1.8861076345431789,2.0757196495619525,1.5569461827284106,1.1376720901126407,2.31476846057572,1.9449311639549436,1.6989987484355449,1.481852315394243,2.364205256570713,1.41927409261577,1.446182728410513,2.0344180225281603,2.2734668335419275,1.648936170212766,1.7196495619524406,2.6376720901126407,1.900500625782228,1.918648310387985,1.1695869837296622,2.318523153942428,2.1896120150187737,1.8679599499374215,2.3504380475594493,2.0062578222778478,2.0006257822277846,2.594493116395494,2.258448060075094,1.8260325406758449,1.118898623279099,0.9198998748435544,1.3604505632040051,1.5682102628285357,2.339799749687109,1.3904881101376725,2.5919899874843555,0.94180225281602,1.7897371714643304,1.01188986232791,2.8579474342928664,2.066958698372966,2.4918648310387983,3.099499374217772,2.117647058823529,2.278473091364205,1.7384230287859823,2.5894868585732165,2.400500625782228,1.7384230287859823,2.352941176470588,2.6670838548185234,1.5638297872340423,3.1802252816020027,2.7571964956195245,0.969962453066333,1.7202753441802252,2.090738423028786,1.3178973717146434,1.6739674593241551,1.1864831038798498,2.988735919899874,1.734668335419274,1.7352941176470589,2.4536921151439297,1.3397997496871088,1.2953692115143929,1.843554443053817,2.217772215269086,1.6708385481852317,2.685857321652065,1.821652065081352,2.5181476846057573,1.8266583229036293,1.9868585732165207,3.0081351689612017,2.427409261576971,1.9167709637046308,2.2246558197747186,2.7571964956195245,2.6320400500625785,1.5331664580725908,1.6783479349186483,1.8823529411764703,1.4148936170212765,2.603879849812265,1.9180225281602008,1.84918648310388,1.3322903629536922,2.835419274092616,1.5563204005006257,2.057571964956195,1.5106382978723405,1.1483103879849812,1.997496871088861,2.33729662077597,2.503128911138924,2.4618272841051314,2.4080100125156445,2.6858573216520654,2.65081351689612,1.774718397997497,2.139549436795995,2.6458072590738424,2.442428035043805,2.0963704630788484,1.8473091364205256,1.678973717146433,2.503128911138924,1.4474342928660828,1.9361702127659572,2.5469336670838545,2.090112640801001,1.749061326658323,2.0037546933667083,2.2847309136420524,1.937421777221527,2.707759699624531,2.1458072590738424,2.3178973717146434,1.8010012515644556,2.595744680851064,1.8504380475594493,0.8623279098873592,1.535043804755945,1.4799749687108887,2.45369211514393,2.0087609511889863,2.150187734668336,1.7778473091364206,2.188986232790989,2.800375469336671,1.7090112640800998,2.2759699624530665,1.6846057571964956,2.0018773466833544,2.191489361702128,1.928035043804756,1.867334167709637,1.8585732165206508,1.7403003754693367,1.9480600750938677,2.9981226533166456,1.7446808510638296,2.1408010012515644,1.739674593241552,2.1733416770963707,2.122653316645807,2.133291614518148,2.749061326658323,1.6270337922403004,2.835419274092616,2.4317897371714645,2.620775969962453,1.997496871088861,2.943679599499374,2.4080100125156445,1.6214017521902375,1.772215269086358,2.269712140175219,2.5193992490613266,2.167709637046308,2.099499374217772,1.792866082603254,1.388610763454318,1.8754693366708384,1.0475594493116396,2.34918648310388,1.5463078848560703,2.9612015018773468,1.3541927409261576,2.229662077596996,2.767834793491865,2.560700876095119,2.426157697121402,1.5957446808510638,2.106382978723404,0.7678347934918648,2.304755944931164,1.7959949937421775,1.8685857321652064,2.0344180225281603,2.394868585732165,1.8961201501877347,2.852315394242804,1.3642052565707137,1.855444305381727,2.260951188986233,1.834793491864831,2.414267834793492,2.596996245306633,2.4217772215269084,2.0951188986232787,1.0894868585732165,1.8153942428035044,1.321026282853567,2.016896120150188,2.309136420525657,2.1727158948685856,1.893617021276596,1.727784730913642,0.937421777221527,1.3060075093867334,1.5750938673341677,1.6902377972465583,2.356070087609512,1.113892365456821,3.066332916145182,2.264705882352941,2.809136420525657,2.509386733416771,2.572590738423029,1.978723404255319,1.639549436795995,2.040050062578223,2.284105131414268,2.742177722152691,1.7947434292866085,2.5131414267834797,2.392365456821026,2.3604505632040054,1.1702127659574466,1.846057571964956,1.7365456821026282,1.5193992490613266,1.1714643304130163,2.5331664580725906,2.549436795994993,1.3992490613266584,2.633291614518148,1.2515644555694618,1.3829787234042554,1.967459324155194,2.248435544430538,2.102002503128911,2.750312891113892,2.311639549436796,1.292866082603254,1.959949937421777,2.3454317897371717,2.5400500625782225,1.5926157697121404,2.4943679599499378,0.83729662077597,2.423654568210263,1.9305381727158948,2.816020025031289,1.575093867334168,1.3892365456821028,1.6132665832290365,1.1332916145181475,2.344180225281602,2.9399249061326658,1.6470588235294117,2.192115143929912,1.876720901126408,1.4755944931163951,1.8541927409261576,1.2922403003754694,1.3229036295369212,1.9593241551939928,1.814142678347935,1.1595744680851063,1.0757196495619523,2.7947434292866085,1.96558197747184,1.8241551939924907,2.9612015018773468,2.761576971214017,2.22215269086358,1.75531914893617,1.7302878598247808,1.7090112640801,2.4593241551939924,2.5894868585732165,2.6063829787234045,2.3823529411764706,3.046933667083855,1.158322903629537,1.3541927409261576,1.9055068836045057,1.928035043804756,2.292866082603254,2.219649561952441,1.3291614518147683,2.2077596996245306,2.1007509386733414,2.421777221526909,2.539424280350438,1.5456821026282854,2.8992490613266586,0.8254067584480601,1.7052565707133918,2.0175219023779727,2.848560700876096,2.8929912390488117,2.502503128911139,1.5569461827284106,2.4874843554443054,2.688986232790989,1.6414267834793494,2.806633291614518,1.9949937421777224,2.887359198998748,2.040675844806008,2.6239048811013768,1.1670838548185232,2.8310387984981227,1.753441802252816,2.094493116395494,2.335419274092616,2.4405506883604504,2.2277847309136423,1.7759699624530665,2.1589486858573217,1.9493116395494368,1.7403003754693367,2.578848560700876,2.1795994993742176,1.9061326658322904,1.4780976220275344,2.57008760951189,2.3272841051314144,2.252816020025032,1.6971214017521905,1.6852315394242805,2.021276595744681,2.0506883604505632,2.6852315394242803,2.74342928660826,1.5625782227784732,3.115769712140175,1.5976220275344182,2.177722152690864,2.3335419274092617,1.2415519399249062,1.3692115143929913,1.3423028785982478,1.6239048811013768,2.0156445556946183,1.7177722152690862,0.8617021276595745,1.2615769712140177,0.879224030037547,1.2959949937421775,1.1508135168961202,1.2647058823529411,1.295369211514393,1.1345431789737173,1.4712140175219024,1.6802252816020025,0.9968710888610764],\"coloraxis\":\"coloraxis\",\"size\":[3.5206508135168963,1.5012515644555695,2.523153942428035,0.344180225281602,1.1526908635794744,1.958698372966208,0.8097622027534418,2.6777221526908632,2.590738423028786,1.2634543178973718,1.0882352941176472,1.6821026282853568,0.7471839799749687,2.0262828535669586,1.7290362953692116,1.0957446808510638,1.3297872340425532,1.7196495619524406,0.6364205256570714,0.9968710888610764,1.4843554443053817,1.5043804755944932,0.7146433041301627,1.1264080100125156,1.365456821026283,0.9105131414267836,1.1908635794743427,1.8554443053817276,2.4774718397997497,1.3147684605757195,0.4392991239048811,0.5957446808510638,1.9737171464330412,2.1821026282853566,3.530663329161452,3.631414267834794,3.3529411764705883,2.32540675844806,1.92991239048811,3.056320400500626,3.1614518147684603,0.869837296620776,2.0200250312891117,3.887984981226533,1.393617021276596,1.6007509386733416,0.1564455569461827,1.7459324155193992,1.9924906132665836,2.730913642052566,1.6289111389236546,2.976846057571965,0.5951188986232792,2.4367959949937426,1.2334167709637047,0.3886107634543179,1.2302878598247808,0.5087609511889862,2.400500625782228,0.4317897371714644,1.0193992490613266,0.5350438047559449,2.072590738423029,1.8898623279098872,0.4655819774718397,1.3667083854818525,2.249061326658323,1.1777221526908637,1.9311639549436797,2.426157697121402,3.7816020025031287,2.212140175219024,2.5269086357947432,3.279724655819775,0.6508135168961201,0.2140175219023779,0.5075093867334167,0.9505632040050064,0.0669586983729662,2.3504380475594493,1.9105131414267835,0.9449311639549436,2.8128911138923653,0.2478097622027534,2.3742177722152693,0.7878598247809763,1.7196495619524406,2.323529411764706,3.0775969962453065,1.6958698372966208,1.9981226533166456,2.1307884856070087,1.8986232790988733,3.493116395494368,3.4549436795994994,1.0725907384230289,3.518773466833542,0.4937421777221527,0.7603254067584481,3.012515644555694,3.677722152690864,3.505632040050063,2.460575719649562,2.2284105131414265,3.62953692115144,1.6977471839799751,3.2440550688360448,2.422403003754693,2.010012515644556,2.1545682102628287,2.722778473091364,1.3998748435544428,1.434292866082603,0.6032540675844806,0.6670838548185232,2.222152690863579,2.5037546933667083,3.0919899874843555,2.4987484355444307,3.387984981226533,3.1389236545682104,1.3153942428035044,2.240300375469337,3.707133917396746,2.8729662077597,2.1852315394242803,1.5193992490613266,3.274718397997497,0.9774718397997496,2.74468085106383,0.655819774718398,2.0500625782227786,0.7140175219023781,1.5118898623279098,1.6752190237797246,3.036921151439299,2.897371714643304,2.921151439299124,2.0225281602002503,0.744055068836045,1.9749687108886107,1.2058823529411764,1.6589486858573217,1.2678347934918648,3.122027534418023,1.3842302878598247,0.2015018773466833,3.769712140175219,3.767834793491865,3.448685857321652,2.538798498122653,2.421151439299124,0.3516896120150188,2.715269086357948,2.936795994993742,3.754067584480601,3.0838548185231542,1.7421777221526908,2.8635794743429286,2.702127659574468,2.0638297872340425,1.9086357947434287,2.34918648310388,2.8435544430538173,2.5613266583229035,3.818523153942428,3.702753441802253,1.6576971214017524,3.5813516896120148,0.3673341677096371,3.167709637046308,2.285982478097622,2.037546933667084,3.5056320400500622,3.846057571964956,2.2565707133917394,2.724030037546933,1.7265331664580723,0.2571964956195244,0.4449311639549437,2.481226533166458,0.7146433041301627,0.9687108886107636,0.590738423028786,0.5018773466833542,0.3085106382978723,1.3873591989987486,2.5826032540675845,2.040675844806008,0.8097622027534418,3.837922403003754,2.148936170212766,3.337922403003754,3.3710888610763456,3.193992490613266,3.073216520650813,3.7628285356695863,1.9386733416770965,2.111389236545682,2.212140175219024,2.017521902377972,0.8285356695869837,1.8548185231539425,1.0081351689612017,1.6589486858573217,3.54755944931164,3.227158948685857,2.3197747183979978,2.820400500625782,2.627659574468085,1.7171464330413015,0.8335419274092616,1.071964956195244,1.2596996245306635,3.150187734668336,2.2033792240300376,1.071964956195244,3.360450563204005,3.890488110137672,2.112640801001252,2.5675844806007517,3.363579474342929,1.044430538172716,3.6520650813516897,1.5675844806007508,2.3573216520650813,1.853566958698373,2.5056320400500627,1.7090112640801003,2.709637046307885,2.3760951188986232,3.877346683354193,2.335419274092616,1.9981226533166456,1.1370463078848565,0.5607008760951189,1.8003754693366707,3.4956195244055066,1.3110137672090112,0.8842302878598249,1.2816020025031292,0.0807259073842302,2.9837296620775966,1.780976220275344,1.1051314142678348,1.520650813516896,0.8973717146433041,3.2396745932415523,3.9680851063829783,0.8836045056320401,2.2934918648310387,2.284105131414268,1.705256570713392,1.7759699624530665,0.7853566958698373,0.5244055068836045,3.4824780976220278,0.7083854818523154,0.2321652065081351,0.2947434292866082,0.5244055068836045,1.7828535669586982,2.1764705882352944,1.693366708385482,1.9799749687108887,1.3579474342928664,0.9643304130162704,1.2528160200250311,0.5306633291614518,2.876720901126408,2.898623279098873,0.809136420525657,2.2027534418022525,0.1871088861076345,2.342302878598248,0.1508135168961201,1.4386733416770965,0.3579474342928661,1.8854818523153944,2.4217772215269084,3.3360450563204003,3.7183979974968713,0.8692115143929913,1.618272841051314,2.5488110137672093,1.172090112640801,0.8316645807259074,1.860450563204005,0.4167709637046308,0.8166458072590739,0.3147684605757196,1.311639549436796,1.630162703379224,0.6520650813516896,1.7803504380475594,0.6752190237797246,1.520650813516896,0.9142678347934918,1.041927409261577,0.5413016270337923,3.617021276595745,1.9874843554443051,1.960575719649562,2.72215269086358,2.3617021276595747,0.4367959949937421,0.8429286608260326,3.0894868585732165,1.430538172715895,0.5306633291614518,1.474342928660826,0.1570713391739674,1.4048811013767208,1.2665832290362953,1.6639549436795995,1.090738423028786,3.1727158948685856,2.641426783479349,2.641426783479349,0.839173967459324,3.538798498122653,2.777847309136421,2.262202753441802,0.934918648310388,0.7027534418022529,1.8335419274092617,0.6207759699624531,0.2540675844806007,3.355444305381727,1.6551939924906134,1.8028785982478095,0.77909887359199,2.8598247809762207,1.5337922403003754,0.2459324155193992,2.016270337922403,1.444305381727159,0.8035043804755945,1.479349186483104,0.846683354192741,2.673967459324156,0.8698372966207759,1.6145181476846058,3.750938673341677,1.5156445556946183,1.109511889862328,3.0500625782227786,0.4843554443053817,0.8748435544430537,0.7778473091364205,1.1007509386733416,1.660826032540676,0.9017521902377972,3.0081351689612013,2.968085106382979,0.4730913642052565,1.8961201501877345,3.217772215269086,0.3260325406758448,3.391739674593241,0.448685857321652,1.387984981226533,1.346057571964956,0.506883604505632,1.2678347934918648,2.0312891113892366,1.183354192740926,3.3692115143929917,2.9737171464330414,2.72090112640801,1.9543178973717148,0.8204005006257823,0.4774718397997496,0.2596996245306633,1.0150187734668334,1.0807259073842304,2.6545682102628287,1.9912390488110137,2.1364205256570714,1.151439299123905,2.909887359198999,2.759073842302879,2.3529411764705883,3.804755944931164,2.014392991239049,2.3153942428035044,2.564455569461827,2.7947434292866085,3.178973717146433,0.7859824780976219,3.597622027534418,3.425531914893617,2.5150187734668337,3.639549436795995,3.653316645807259,1.976846057571965,2.423654568210263,1.228410513141427,1.6195244055068834,3.316020025031289,1.5018773466833542,3.885481852315394,1.1176470588235294,1.5838548185231538,1.6602002503128912,0.9399249061326658,2.3110137672090114,0.6658322903629537,1.2853566958698373,0.4774718397997497,2.422403003754693,2.900500625782228,0.8811013767209012,0.4405506883604506,2.842302878598248,2.5438047559449317,2.030037546933668,1.9292866082603253,1.660826032540676,2.8103879849812268,2.0369211514392997,1.134543178973717,0.3498122653316646,1.4198998748435545,2.1639549436795997,1.1389236545682102,2.537546933667084,0.6239048811013768,0.8285356695869838,3.5588235294117645,1.2428035043804757,2.792240300375469,1.3166458072590737,1.4637046307884858,0.653316645807259,3.5550688360450566,3.891113892365457,2.2596996245306635,1.948685857321652,3.87171464330413,3.4893617021276597,3.026908635794744,3.1614518147684603,2.802252816020025,2.771589486858573,2.5525657071339176,1.609511889862328,1.3685857321652066,2.7503128911138925,2.562578222778473,3.747183979974969,2.749061326658323,3.248435544430538,1.0863579474342928,2.997496871088861,2.3854818523153942,1.536921151439299,3.29224030037547,1.2190237797246557,2.584480600750939,2.3648310387984983,2.660200250312891,1.4455569461827285,1.4111389236545684,0.7065081351689613,0.8010012515644557,1.4086357947434291,0.9949937421777222,2.722778473091364,0.581351689612015,2.853566958698373,3.2040050062578223,2.0294117647058822,1.8642052565707132,1.884230287859825,0.9630788485607008,2.4455569461827285,0.2872340425531914,1.4568210262828536,1.516270337922403,0.0807259073842302,0.7571964956195244,2.924280350438048,1.4123904881101377,0.7697121401752189,1.792866082603254,1.5638297872340423,1.2465581977471838,0.9236545682102628,2.7102628285356696,2.9918648310387983,2.7872340425531914,1.8685857321652064,3.113892365456821,1.0362953692115144,2.4924906132665834,2.2183979974968717,1.2040050062578225,0.9342928660826032,1.2315394242803503,1.8329161451814768,0.6120150187734668,1.316645807259074,1.1846057571964956,0.2891113892365456,0.7909887359198998,0.5957446808510638,2.373591989987484,1.5500625782227786,3.5506883604505632,1.1357947434292863,0.1239048811013767,3.314142678347934,1.718397997496871,0.7797246558197747,2.4480600750938675,2.5012515644555693,0.8979974968710888,0.3892365456821026,2.704630788485608,0.890488110137672,2.8998748435544432,2.103879849812265,0.8435544430538172,3.065081351689612,0.6770963704630788,2.02377972465582,0.2797246558197747,0.9167709637046308,2.9605757196495617,2.595744680851064,3.071339173967459,2.301001251564456,3.212765957446808,1.1533166458072592,1.9718397997496877,1.3660826032540676,3.153316645807259,1.7828535669586985,2.050688360450564,0.8435544430538172,0.1282853566958698,0.6214017521902377,2.7803504380475594,2.611389236545682,1.2866082603254068,0.123279098873592,2.172090112640801,2.053817271589487,2.653316645807259,2.996245306633292,2.451814768460576,1.8785982478097625,0.9411764705882352,1.0200250312891117,3.1076345431789734,1.5951188986232787,2.222778473091364,1.1251564455569465,3.014392991239049,1.493742177722153,3.8235294117647056,0.5037546933667083,0.6451814768460575,3.1495619524405507,2.0826032540675845,3.671464330413017,0.632665832290363,0.6946182728410514,2.4680851063829787,0.4474342928660826,1.3016270337922404,1.5913642052565706,3.667709637046308,1.5400500625782227,3.274092615769712,1.3523153942428037,0.8222778473091363,0.4730913642052566,2.826032540675844,0.3973717146433041,1.5525657071339174,1.311639549436796,1.4687108886107634,2.411138923654568,1.428035043804756,2.474342928660826,1.428035043804756,1.1270337922403004,0.8848560700876095,1.5638297872340423,2.584480600750939,3.1476846057571968,0.1332916145181477,2.0050062578222776,2.617647058823529,0.781602002503129,0.6063829787234043,1.8704630788485608,0.6345431789737171,2.3222778473091363,1.3147684605757195,1.4468085106382975,0.1852315394242803,3.2183979974968717,1.6539424280350437,2.763454317897372,3.3310387984981227,2.250938673341677,3.923654568210263,2.184605757196496,1.8166458072590737,3.8103879849812254,2.411764705882353,1.1470588235294117,1.8610763454317896,1.637672090112641,1.8710888610763448,0.5262828535669587,0.3648310387984981,2.5963704630788484,2.045682102628285,1.5851063829787235,2.4593241551939924,0.1852315394242803,1.9874843554443051,1.804755944931164,1.467459324155194,3.3416770963704634,0.5106382978723404,3.4743429286608265,0.1264080100125156,3.638297872340426,1.5212765957446808,3.274092615769712,3.597622027534418,2.0876095118898625,2.552565707133917,1.0300375469336671,3.562578222778473,1.0801001251564455,3.68523153942428,3.2340425531914896,3.268460575719649,3.253441802252816,2.8085106382978724,0.7171464330413015,3.316020025031289,0.3085106382978723,3.086357947434293,3.760951188986233,2.1307884856070087,1.900500625782228,1.2108886107634544,3.78035043804756,0.2071339173967459,2.933667083854818,2.922403003754693,1.4042553191489362,3.016270337922403,1.7321652065081352,2.7146433041301625,2.5413016270337923,1.377346683354193,1.5,1.01188986232791,0.8685857321652065,3.7653316645807258,2.994993742177722,2.7972465581977475,0.2453066332916144,1.9806007509386727,1.3178973717146434,0.4799749687108885,2.468710888610764,1.5438047559449313,1.7033792240300374,1.0894868585732165,1.5,0.5663329161451814,2.667709637046308,0.6595744680851064,1.0294117647058825,1.4205256570713392,1.4349186483103882,1.6989987484355444,2.1802252816020022,2.590112640801001,0.5613266583229036,0.9111389236545684,1.725907384230288,0.6458072590738423],\"sizemode\":\"area\",\"sizeref\":0.009920212765957446,\"symbol\":\"circle\"},\"mode\":\"markers\",\"name\":\"\",\"orientation\":\"h\",\"showlegend\":false,\"type\":\"scatter\",\"x\":[2735.0,1553.0,2094.0,1810.0,1969.0,1274.0,1243.0,1705.0,1749.0,1223.0,1705.0,2581.0,2083.0,2203.0,1125.0,683.0,1794.0,908.0,1088.0,1159.0,1672.0,1746.0,1872.0,1574.0,2655.0,2724.0,878.0,607.0,1299.0,1209.0,993.0,851.0,1041.0,2179.0,1564.0,2174.0,1014.0,2061.0,1010.0,1231.0,2901.0,482.0,2868.0,2180.0,1417.0,979.0,1476.0,1587.0,2616.0,2137.0,1206.0,723.0,653.0,1342.0,615.0,1396.0,432.0,1227.0,971.0,726.0,1084.0,1250.0,1793.0,1826.0,498.0,1704.0,2235.0,1231.0,1314.0,1531.0,1383.0,320.0,2432.0,912.0,1480.0,1196.0,815.0,324.0,581.0,1702.0,1449.0,953.0,923.0,1195.0,2176.0,482.0,751.0,1123.0,1336.0,1766.0,1399.0,1504.0,844.0,1745.0,1706.0,1865.0,1530.0,852.0,2456.0,1503.0,1900.0,2455.0,2407.0,884.0,1290.0,2773.0,934.0,1215.0,2098.0,2098.0,1418.0,2319.0,1658.0,1307.0,1068.0,1102.0,928.0,532.0,452.0,2459.0,2407.0,2307.0,1255.0,1780.0,1048.0,2067.0,2341.0,1112.0,1271.0,1102.0,1959.0,1175.0,1141.0,1472.0,1917.0,1714.0,2193.0,2106.0,940.0,1528.0,1125.0,2209.0,1030.0,876.0,551.0,830.0,388.0,2128.0,1417.0,2189.0,2739.0,618.0,1189.0,1294.0,1767.0,1391.0,2204.0,1844.0,1039.0,1957.0,1398.0,2039.0,1404.0,1094.0,2405.0,1096.0,2104.0,879.0,2067.0,1124.0,1371.0,268.0,1793.0,2020.0,2276.0,1859.0,1089.0,2190.0,2639.0,2652.0,2110.0,757.0,705.0,1033.0,1595.0,605.0,1169.0,2861.0,2887.0,787.0,2855.0,2445.0,1843.0,1381.0,2488.0,1707.0,2406.0,1999.0,2068.0,2470.0,2207.0,1218.0,1159.0,916.0,2901.0,2316.0,2380.0,1936.0,2174.0,1171.0,313.0,495.0,423.0,579.0,2753.0,1193.0,1593.0,2215.0,2084.0,1892.0,1991.0,1564.0,1508.0,982.0,1851.0,2890.0,1363.0,2699.0,2071.0,1299.0,1028.0,2106.0,1836.0,1691.0,1354.0,812.0,1270.0,1414.0,1294.0,2539.0,1279.0,1213.0,2445.0,874.0,970.0,1532.0,237.0,1003.0,2660.0,1812.0,667.0,1252.0,749.0,903.0,832.0,524.0,635.0,999.0,515.0,569.0,524.0,539.0,521.0,194.0,410.0,878.0,649.0,1097.0,1020.0,993.0,824.0,1257.0,575.0,405.0,327.0,452.0,592.0,1594.0,1189.0,865.0,1889.0,1565.0,1206.0,893.0,1052.0,1772.0,1767.0,1802.0,816.0,738.0,1591.0,2228.0,1480.0,1202.0,435.0,632.0,748.0,895.0,1164.0,867.0,2005.0,684.0,1370.0,1005.0,1651.0,1163.0,1040.0,725.0,796.0,527.0,703.0,378.0,633.0,780.0,1951.0,1441.0,1675.0,2596.0,2412.0,2281.0,2354.0,2370.0,1621.0,1557.0,1370.0,804.0,2685.0,1406.0,2440.0,2082.0,1071.0,1870.0,2196.0,1468.0,1788.0,1679.0,800.0,2443.0,1236.0,1705.0,1123.0,2415.0,2759.0,1566.0,1123.0,683.0,846.0,1075.0,922.0,761.0,597.0,737.0,932.0,934.0,1104.0,418.0,935.0,2224.0,886.0,1796.0,2055.0,1039.0,754.0,1574.0,186.0,2017.0,2113.0,2501.0,1908.0,1908.0,1439.0,1784.0,1112.0,1152.0,1915.0,1663.0,1151.0,1040.0,1041.0,1756.0,908.0,1537.0,922.0,1401.0,1102.0,2085.0,1589.0,1956.0,1865.0,1573.0,1656.0,1887.0,2349.0,1893.0,2511.0,1633.0,2474.0,1195.0,2438.0,1640.0,2188.0,2874.0,747.0,2905.0,1258.0,1226.0,1979.0,989.0,711.0,529.0,885.0,2273.0,463.0,606.0,838.0,880.0,1446.0,1819.0,927.0,2313.0,934.0,2379.0,886.0,2016.0,1951.0,961.0,2483.0,1066.0,1308.0,619.0,825.0,1857.0,2872.0,1658.0,961.0,1517.0,1509.0,1066.0,1480.0,2026.0,972.0,1811.0,1224.0,1872.0,1173.0,1733.0,1189.0,1180.0,2432.0,1888.0,1336.0,1630.0,275.0,2028.0,1338.0,2867.0,1876.0,1717.0,811.0,2071.0,2142.0,923.0,1523.0,2520.0,1308.0,717.0,836.0,2215.0,1793.0,1151.0,2543.0,2244.0,2701.0,773.0,1508.0,1460.0,648.0,961.0,2719.0,423.0,926.0,985.0,1257.0,1378.0,417.0,2259.0,1866.0,1124.0,2125.0,1345.0,2629.0,1067.0,499.0,1267.0,739.0,664.0,265.0,2475.0,1223.0,1266.0,2701.0,1011.0,572.0,746.0,369.0,363.0,941.0,871.0,1226.0,1479.0,1742.0,1252.0,2335.0,773.0,769.0,2174.0,1522.0,2125.0,749.0,1491.0,973.0,1322.0,2686.0,1964.0,2728.0,1362.0,2848.0,222.0,1537.0,1712.0,2389.0,2168.0,1950.0,1605.0,1732.0,2768.0,579.0,2484.0,2575.0,2302.0,2191.0,673.0,2358.0,1356.0,953.0,527.0,1256.0,199.0,1910.0,871.0,907.0,1601.0,2194.0,1894.0,2082.0,1684.0,1949.0,1588.0,2462.0,2223.0,1749.0,1993.0,1719.0,2845.0,2888.0,2799.0,2701.0,1277.0,1743.0,2802.0,1664.0,852.0,1769.0,2800.0,2602.0,1450.0,684.0,1417.0,831.0,1498.0,361.0,1298.0,1445.0,2200.0,2335.0,2335.0,2335.0,2404.0,2286.0,1405.0,1201.0,1542.0,1927.0,1308.0,2129.0,1628.0,2687.0,1371.0,1836.0,1637.0,1251.0,1811.0,901.0,459.0,1845.0,271.0,1005.0,1538.0,1146.0,2685.0,1599.0,2695.0,2215.0,1057.0,622.0,1201.0,423.0,359.0,664.0,360.0,886.0,557.0,586.0,822.0,478.0,1391.0,472.0,1526.0,1673.0,295.0,1353.0,352.0,2228.0,1704.0,928.0,982.0,1055.0,812.0,370.0,1888.0,438.0,1847.0,1076.0,919.0,2696.0,2004.0,1180.0,1551.0,819.0,487.0,1285.0,1983.0,670.0,327.0,1916.0,412.0,1770.0,992.0,690.0,1124.0,2637.0,1774.0,723.0,355.0,543.0,1011.0,640.0,2558.0,1916.0,622.0,725.0,650.0,2512.0,257.0,2446.0,2795.0,1735.0,392.0,630.0,494.0,2559.0,1195.0,1573.0,1567.0,447.0,1110.0,1064.0,1762.0,1381.0,829.0,719.0,1500.0],\"xaxis\":\"x\",\"y\":[\"Photovoltaics and Solar Energy\",\"Photovoltaics and Solar Energy\",\"Photovoltaics and Solar Energy\",\"Photovoltaics and Solar Energy\",\"Photovoltaics and Solar Energy\",\"Photovoltaics and Solar Energy\",\"Photovoltaics and Solar Energy\",\"Photovoltaics and Solar Energy\",\"Photovoltaics and Solar Energy\",\"Photovoltaics and Solar Energy\",\"Photovoltaics and Solar Energy\",\"Photovoltaics and Solar Energy\",\"Photovoltaics and Solar Energy\",\"Photovoltaics and Solar Energy\",\"Photovoltaics and Solar Energy\",\"Photovoltaics and Solar Energy\",\"Photovoltaics and Solar Energy\",\"Photovoltaics and Solar Energy\",\"Photovoltaics and Solar Energy\",\"Photovoltaics and Solar Energy\",\"Photovoltaics and Solar Energy\",\"Photovoltaics and Solar Energy\",\"Photovoltaics and Solar Energy\",\"Photovoltaics and Solar Energy\",\"Photovoltaics and Solar Energy\",\"Photovoltaics and Solar Energy\",\"Photovoltaics and Solar Energy\",\"Photovoltaics and Solar Energy\",\"Photovoltaics and Solar Energy\",\"Photovoltaics and Solar Energy\",\"Photovoltaics and Solar Energy\",\"Photovoltaics and Solar Energy\",\"Wind Energy\",\"Wind Energy\",\"Wind Energy\",\"Wind Energy\",\"Wind Energy\",\"Wind Energy\",\"Wind Energy\",\"Wind Energy\",\"Wind Energy\",\"Wind Energy\",\"Wind Energy\",\"Wind Energy\",\"Wind Energy\",\"Wind Energy\",\"Wind Energy\",\"Wind Energy\",\"Wind Energy\",\"Wind Energy\",\"Wind Energy\",\"Wind Energy\",\"Wind Energy\",\"Wind Energy\",\"Wind Energy\",\"Wind Energy\",\"Hydro Energy\",\"Hydro Energy\",\"Hydro Energy\",\"Hydro Energy\",\"Hydro Energy\",\"Hydro Energy\",\"Hydro Energy\",\"Geothermal Energy\",\"Geothermal Energy\",\"Geothermal Energy\",\"Geothermal Energy\",\"Geothermal Energy\",\"Bioenergy\",\"Battery\",\"Battery\",\"Battery\",\"Battery\",\"Battery\",\"Battery\",\"Battery\",\"Battery\",\"Battery\",\"Battery\",\"Hydrogen\",\"Hydrogen\",\"Hydrogen\",\"Hydrogen\",\"Hydrogen\",\"Hydrogen\",\"Hydrogen\",\"Energy Modeling and Optimization\",\"Energy Modeling and Optimization\",\"Energy Modeling and Optimization\",\"Energy Modeling and Optimization\",\"Energy Modeling and Optimization\",\"Energy Modeling and Optimization\",\"Energy Modeling and Optimization\",\"Energy Modeling and Optimization\",\"Energy Modeling and Optimization\",\"Energy Modeling and Optimization\",\"Energy Modeling and Optimization\",\"Energy Modeling and Optimization\",\"Energy Modeling and Optimization\",\"Energy Modeling and Optimization\",\"Energy Modeling and Optimization\",\"Energy Modeling and Optimization\",\"Energy Modeling and Optimization\",\"Energy Modeling and Optimization\",\"Energy Modeling and Optimization\",\"Energy Modeling and Optimization\",\"Energy Modeling and Optimization\",\"Energy Modeling and Optimization\",\"Energy Modeling and Optimization\",\"Energy Modeling and Optimization\",\"Energy Modeling and Optimization\",\"Energy Modeling and Optimization\",\"Energy Modeling and Optimization\",\"Energy Modeling and Optimization\",\"Energy Modeling and Optimization\",\"Energy Modeling and Optimization\",\"Energy Modeling and Optimization\",\"Energy Modeling and Optimization\",\"Energy Modeling and Optimization\",\"Energy Modeling and Optimization\",\"Energy Modeling and Optimization\",\"Energy Modeling and Optimization\",\"Energy Modeling and Optimization\",\"Energy Modeling and Optimization\",\"Energy Modeling and Optimization\",\"Energy Modeling and Optimization\",\"Energy Modeling and Optimization\",\"Energy Modeling and Optimization\",\"Energy Modeling and Optimization\",\"Energy Modeling and Optimization\",\"Energy Modeling and Optimization\",\"Energy Modeling and Optimization\",\"Energy Modeling and Optimization\",\"Energy Modeling and Optimization\",\"Energy Modeling and Optimization\",\"Energy Modeling and Optimization\",\"Energy Modeling and Optimization\",\"Energy Modeling and Optimization\",\"Energy Modeling and Optimization\",\"Energy Modeling and Optimization\",\"Energy Modeling and Optimization\",\"Energy Modeling and Optimization\",\"Energy Modeling and Optimization\",\"Energy Modeling and Optimization\",\"Energy Modeling and Optimization\",\"Energy Modeling and Optimization\",\"Energy Modeling and Optimization\",\"Energy Monitoring and Control\",\"Energy Monitoring and Control\",\"Energy Monitoring and Control\",\"Energy Monitoring and Control\",\"Energy Monitoring and Control\",\"Energy Distribution and Grids\",\"Energy Distribution and Grids\",\"Energy Distribution and Grids\",\"Energy Distribution and Grids\",\"Energy Distribution and Grids\",\"Energy Distribution and Grids\",\"Energy Distribution and Grids\",\"Energy Distribution and Grids\",\"Energy Distribution and Grids\",\"Energy Distribution and Grids\",\"Energy Distribution and Grids\",\"Energy Distribution and Grids\",\"Energy Distribution and Grids\",\"Energy Distribution and Grids\",\"Energy Distribution and Grids\",\"Energy Distribution and Grids\",\"Energy Distribution and Grids\",\"Energy Distribution and Grids\",\"Energy Distribution and Grids\",\"Energy Distribution and Grids\",\"Datasets on Energy Systems\",\"Datasets on Energy Systems\",\"Datasets on Energy Systems\",\"Datasets on Energy Systems\",\"Datasets on Energy Systems\",\"Datasets on Energy Systems\",\"Datasets on Energy Systems\",\"Datasets on Energy Systems\",\"Datasets on Energy Systems\",\"Datasets on Energy Systems\",\"Datasets on Energy Systems\",\"Datasets on Energy Systems\",\"Datasets on Energy Systems\",\"Datasets on Energy Systems\",\"Datasets on Energy Systems\",\"Buildings and Heating\",\"Buildings and Heating\",\"Buildings and Heating\",\"Buildings and Heating\",\"Buildings and Heating\",\"Buildings and Heating\",\"Buildings and Heating\",\"Buildings and Heating\",\"Buildings and Heating\",\"Buildings and Heating\",\"Buildings and Heating\",\"Buildings and Heating\",\"Buildings and Heating\",\"Buildings and Heating\",\"Buildings and Heating\",\"Buildings and Heating\",\"Buildings and Heating\",\"Buildings and Heating\",\"Buildings and Heating\",\"Buildings and Heating\",\"Buildings and Heating\",\"Buildings and Heating\",\"Buildings and Heating\",\"Buildings and Heating\",\"Buildings and Heating\",\"Buildings and Heating\",\"Buildings and Heating\",\"Mobility and Transportation\",\"Mobility and Transportation\",\"Mobility and Transportation\",\"Mobility and Transportation\",\"Mobility and Transportation\",\"Mobility and Transportation\",\"Mobility and Transportation\",\"Mobility and Transportation\",\"Mobility and Transportation\",\"Mobility and Transportation\",\"Mobility and Transportation\",\"Mobility and Transportation\",\"Mobility and Transportation\",\"Mobility and Transportation\",\"Mobility and Transportation\",\"Mobility and Transportation\",\"Mobility and Transportation\",\"Mobility and Transportation\",\"Mobility and Transportation\",\"Mobility and Transportation\",\"Mobility and Transportation\",\"Mobility and Transportation\",\"Mobility and Transportation\",\"Mobility and Transportation\",\"Mobility and Transportation\",\"Mobility and Transportation\",\"Mobility and Transportation\",\"Mobility and Transportation\",\"Mobility and Transportation\",\"Mobility and Transportation\",\"Mobility and Transportation\",\"Mobility and Transportation\",\"Mobility and Transportation\",\"Mobility and Transportation\",\"Production and Industry\",\"Computation and Communication\",\"Computation and Communication\",\"Computation and Communication\",\"Computation and Communication\",\"Computation and Communication\",\"Computation and Communication\",\"Computation and Communication\",\"Computation and Communication\",\"Computation and Communication\",\"Computation and Communication\",\"Computation and Communication\",\"Computation and Communication\",\"Computation and Communication\",\"Computation and Communication\",\"Computation and Communication\",\"Computation and Communication\",\"Computation and Communication\",\"Computation and Communication\",\"Carbon Intensity and Accounting\",\"Carbon Intensity and Accounting\",\"Carbon Intensity and Accounting\",\"Carbon Intensity and Accounting\",\"Carbon Intensity and Accounting\",\"Carbon Intensity and Accounting\",\"Carbon Intensity and Accounting\",\"Carbon Intensity and Accounting\",\"Carbon Intensity and Accounting\",\"Carbon Intensity and Accounting\",\"Carbon Intensity and Accounting\",\"Carbon Intensity and Accounting\",\"Carbon Capture and Removel\",\"Carbon Capture and Removel\",\"Carbon Capture and Removel\",\"Carbon Capture and Removel\",\"Emission Observation and Modeling\",\"Emission Observation and Modeling\",\"Emission Observation and Modeling\",\"Emission Observation and Modeling\",\"Emission Observation and Modeling\",\"Emission Observation and Modeling\",\"Emission Observation and Modeling\",\"Emission Observation and Modeling\",\"Emission Observation and Modeling\",\"Emission Observation and Modeling\",\"Emission Observation and Modeling\",\"Emission Observation and Modeling\",\"Emission Observation and Modeling\",\"Emission Observation and Modeling\",\"Life Cycle Assessment\",\"Life Cycle Assessment\",\"Life Cycle Assessment\",\"Life Cycle Assessment\",\"Life Cycle Assessment\",\"Life Cycle Assessment\",\"Life Cycle Assessment\",\"Life Cycle Assessment\",\"Circular Economy and Waste\",\"Circular Economy and Waste\",\"Circular Economy and Waste\",\"Circular Economy and Waste\",\"Circular Economy and Waste\",\"Circular Economy and Waste\",\"Circular Economy and Waste\",\"Circular Economy and Waste\",\"Circular Economy and Waste\",\"Biosphere\",\"Biosphere\",\"Biosphere\",\"Biosphere\",\"Biosphere\",\"Biosphere\",\"Biosphere\",\"Biosphere\",\"Biosphere\",\"Biosphere\",\"Biosphere\",\"Biosphere\",\"Biosphere\",\"Biosphere\",\"Biosphere\",\"Biosphere\",\"Biosphere\",\"Biosphere\",\"Biosphere\",\"Biosphere\",\"Biosphere\",\"Biosphere\",\"Biosphere\",\"Biosphere\",\"Biosphere\",\"Biosphere\",\"Biosphere\",\"Biosphere\",\"Biosphere\",\"Biosphere\",\"Biosphere\",\"Biosphere\",\"Biosphere\",\"Biosphere\",\"Biosphere\",\"Biosphere\",\"Biosphere\",\"Biosphere\",\"Biosphere\",\"Biosphere\",\"Biosphere\",\"Biosphere\",\"Biosphere\",\"Biosphere\",\"Biosphere\",\"Biosphere\",\"Biosphere\",\"Biosphere\",\"Biosphere\",\"Biosphere\",\"Biosphere\",\"Biosphere\",\"Cryosphere\",\"Cryosphere\",\"Cryosphere\",\"Cryosphere\",\"Cryosphere\",\"Cryosphere\",\"Cryosphere\",\"Cryosphere\",\"Cryosphere\",\"Cryosphere\",\"Cryosphere\",\"Cryosphere\",\"Cryosphere\",\"Cryosphere\",\"Cryosphere\",\"Hydrosphere\",\"Hydrosphere\",\"Hydrosphere\",\"Hydrosphere\",\"Hydrosphere\",\"Hydrosphere\",\"Hydrosphere\",\"Hydrosphere\",\"Hydrosphere\",\"Hydrosphere\",\"Hydrosphere\",\"Hydrosphere\",\"Hydrosphere\",\"Hydrosphere\",\"Hydrosphere\",\"Hydrosphere\",\"Hydrosphere\",\"Hydrosphere\",\"Hydrosphere\",\"Hydrosphere\",\"Hydrosphere\",\"Hydrosphere\",\"Hydrosphere\",\"Hydrosphere\",\"Hydrosphere\",\"Hydrosphere\",\"Hydrosphere\",\"Hydrosphere\",\"Hydrosphere\",\"Hydrosphere\",\"Hydrosphere\",\"Hydrosphere\",\"Hydrosphere\",\"Hydrosphere\",\"Hydrosphere\",\"Hydrosphere\",\"Hydrosphere\",\"Hydrosphere\",\"Hydrosphere\",\"Hydrosphere\",\"Hydrosphere\",\"Hydrosphere\",\"Hydrosphere\",\"Atmosphere\",\"Atmosphere\",\"Atmosphere\",\"Atmosphere\",\"Atmosphere\",\"Atmosphere\",\"Atmosphere\",\"Atmosphere\",\"Atmosphere\",\"Atmosphere\",\"Atmosphere\",\"Atmosphere\",\"Atmosphere\",\"Atmosphere\",\"Atmosphere\",\"Earth and Climate Modeling\",\"Earth and Climate Modeling\",\"Earth and Climate Modeling\",\"Earth and Climate Modeling\",\"Earth and Climate Modeling\",\"Earth and Climate Modeling\",\"Earth and Climate Modeling\",\"Earth and Climate Modeling\",\"Earth and Climate Modeling\",\"Earth and Climate Modeling\",\"Earth and Climate Modeling\",\"Earth and Climate Modeling\",\"Earth and Climate Modeling\",\"Earth and Climate Modeling\",\"Earth and Climate Modeling\",\"Earth and Climate Modeling\",\"Earth and Climate Modeling\",\"Earth and Climate Modeling\",\"Earth and Climate Modeling\",\"Earth and Climate Modeling\",\"Earth and Climate Modeling\",\"Earth and Climate Modeling\",\"Earth and Climate Modeling\",\"Earth and Climate Modeling\",\"Earth and Climate Modeling\",\"Earth and Climate Modeling\",\"Earth and Climate Modeling\",\"Earth and Climate Modeling\",\"Earth and Climate Modeling\",\"Earth and Climate Modeling\",\"Earth and Climate Modeling\",\"Earth and Climate Modeling\",\"Earth and Climate Modeling\",\"Earth and Climate Modeling\",\"Radiative Transfer\",\"Radiative Transfer\",\"Radiative Transfer\",\"Radiative Transfer\",\"Radiative Transfer\",\"Radiative Transfer\",\"Earth Observation and Climate Monitoring\",\"Earth Observation and Climate Monitoring\",\"Earth Observation and Climate Monitoring\",\"Earth Observation and Climate Monitoring\",\"Earth Observation and Climate Monitoring\",\"Meteorological Observation\",\"Meteorological Observation\",\"Meteorological Observation\",\"Meteorological Observation\",\"Meteorological Observation\",\"Meteorological Observation\",\"Climate Data Processing and Access\",\"Climate Data Processing and Access\",\"Climate Data Processing and Access\",\"Climate Data Processing and Access\",\"Climate Data Processing and Access\",\"Climate Data Processing and Access\",\"Climate Data Processing and Access\",\"Climate Data Processing and Access\",\"Climate Data Processing and Access\",\"Climate Data Processing and Access\",\"Climate Data Processing and Access\",\"Climate Data Processing and Access\",\"Climate Data Processing and Access\",\"Climate Data Processing and Access\",\"Climate Data Processing and Access\",\"Climate Data Processing and Access\",\"Climate Data Processing and Access\",\"Climate Data Processing and Access\",\"Climate Data Processing and Access\",\"Climate Data Processing and Access\",\"Climate Data Processing and Access\",\"Climate Data Processing and Access\",\"Climate Data Processing and Access\",\"Climate Data Processing and Access\",\"Climate Data Processing and Access\",\"Climate Data Processing and Access\",\"Climate Data Processing and Access\",\"Climate Data Processing and Access\",\"Climate Data Processing and Access\",\"Climate Data Processing and Access\",\"Climate Data Processing and Access\",\"Climate Data Processing and Access\",\"Climate Data Processing and Access\",\"Climate Data Processing and Access\",\"Climate Data Processing and Access\",\"Climate Data Processing and Access\",\"Climate Data Processing and Access\",\"Climate Data Processing and Access\",\"Integrated Assessment\",\"Integrated Assessment\",\"Integrated Assessment\",\"Air Quality\",\"Air Quality\",\"Air Quality\",\"Air Quality\",\"Air Quality\",\"Air Quality\",\"Air Quality\",\"Air Quality\",\"Air Quality\",\"Air Quality\",\"Air Quality\",\"Air Quality\",\"Air Quality\",\"Air Quality\",\"Air Quality\",\"Air Quality\",\"Air Quality\",\"Water Supply\",\"Water Supply\",\"Water Supply\",\"Water Supply\",\"Water Supply\",\"Water Supply\",\"Water Supply\",\"Water Supply\",\"Water Supply\",\"Water Supply\",\"Water Supply\",\"Water Supply\",\"Water Supply\",\"Water Supply\",\"Water Supply\",\"Water Supply\",\"Water Supply\",\"Water Supply\",\"Water Supply\",\"Water Supply\",\"Water Supply\",\"Water Supply\",\"Water Supply\",\"Water Supply\",\"Water Supply\",\"Water Supply\",\"Water Supply\",\"Water Supply\",\"Water Supply\",\"Water Supply\",\"Water Supply\",\"Water Supply\",\"Water Supply\",\"Water Supply\",\"Water Supply\",\"Soil and Land\",\"Soil and Land\",\"Soil and Land\",\"Soil and Land\",\"Soil and Land\",\"Soil and Land\",\"Soil and Land\",\"Soil and Land\",\"Soil and Land\",\"Soil and Land\",\"Soil and Land\",\"Soil and Land\",\"Soil and Land\",\"Soil and Land\",\"Soil and Land\",\"Soil and Land\",\"Soil and Land\",\"Soil and Land\",\"Soil and Land\",\"Soil and Land\",\"Soil and Land\",\"Soil and Land\",\"Soil and Land\",\"Agriculture and Nutrition\",\"Agriculture and Nutrition\",\"Agriculture and Nutrition\",\"Agriculture and Nutrition\",\"Agriculture and Nutrition\",\"Agriculture and Nutrition\",\"Agriculture and Nutrition\",\"Agriculture and Nutrition\",\"Agriculture and Nutrition\",\"Agriculture and Nutrition\",\"Agriculture and Nutrition\",\"Agriculture and Nutrition\",\"Agriculture and Nutrition\",\"Agriculture and Nutrition\",\"Natural Hazard and Poverty\",\"Natural Hazard and Poverty\",\"Natural Hazard and Poverty\",\"Natural Hazard and Poverty\",\"Natural Hazard and Poverty\",\"Natural Hazard and Poverty\",\"Natural Hazard and Poverty\",\"Natural Hazard and Poverty\",\"Natural Hazard and Poverty\",\"Natural Hazard and Poverty\",\"Sustainable Development Goals\",\"Sustainable Development Goals\",\"Sustainable Development Goals\",\"Sustainable Development Goals\",\"Sustainable Investment\",\"Sustainable Investment\",\"Sustainable Investment\",\"Sustainable Investment\",\"Sustainable Investment\",\"Sustainable Investment\",\"Sustainable Investment\",\"Knowledge Platforms\",\"Knowledge Platforms\",\"Knowledge Platforms\",\"Knowledge Platforms\",\"Knowledge Platforms\",\"Knowledge Platforms\",\"Knowledge Platforms\",\"Knowledge Platforms\",\"Knowledge Platforms\",\"Knowledge Platforms\",\"Knowledge Platforms\",\"Data Catalogs and Interfaces\",\"Data Catalogs and Interfaces\",\"Data Catalogs and Interfaces\",\"Data Catalogs and Interfaces\",\"Data Catalogs and Interfaces\",\"Data Catalogs and Interfaces\",\"Data Catalogs and Interfaces\",\"Data Catalogs and Interfaces\",\"Data Catalogs and Interfaces\",\"Data Catalogs and Interfaces\",\"Data Catalogs and Interfaces\",\"Data Catalogs and Interfaces\",\"Data Catalogs and Interfaces\",\"Data Catalogs and Interfaces\",\"Data Catalogs and Interfaces\",\"Data Catalogs and Interfaces\",\"Data Catalogs and Interfaces\",\"Data Catalogs and Interfaces\",\"Data Catalogs and Interfaces\",\"Data Catalogs and Interfaces\",\"Data Catalogs and Interfaces\",\"Data Catalogs and Interfaces\",\"Data Catalogs and Interfaces\",\"Data Catalogs and Interfaces\",\"Data Catalogs and Interfaces\",\"Curated Lists\",\"Curated Lists\",\"Curated Lists\",\"Curated Lists\",\"Curated Lists\",\"Curated Lists\",\"Curated Lists\",\"Curated Lists\",\"Curated Lists\",\"Curated Lists\",\"Curated Lists\",\"Curated Lists\",\"Curated Lists\",\"Curated Lists\",\"Curated Lists\"],\"yaxis\":\"y\"}],                        {\"coloraxis\":{\"colorbar\":{\"title\":{\"text\":\"activity\"}},\"colorscale\":[[0.0,\"red\"],[1.0,\"green\"]]},\"height\":800,\"legend\":{\"itemsizing\":\"constant\",\"tracegroupgap\":0},\"margin\":{\"t\":60},\"paper_bgcolor\":\"lightgray\",\"template\":{\"data\":{\"bar\":[{\"error_x\":{\"color\":\"#2a3f5f\"},\"error_y\":{\"color\":\"#2a3f5f\"},\"marker\":{\"line\":{\"color\":\"#E5ECF6\",\"width\":0.5},\"pattern\":{\"fillmode\":\"overlay\",\"size\":10,\"solidity\":0.2}},\"type\":\"bar\"}],\"barpolar\":[{\"marker\":{\"line\":{\"color\":\"#E5ECF6\",\"width\":0.5},\"pattern\":{\"fillmode\":\"overlay\",\"size\":10,\"solidity\":0.2}},\"type\":\"barpolar\"}],\"carpet\":[{\"aaxis\":{\"endlinecolor\":\"#2a3f5f\",\"gridcolor\":\"white\",\"linecolor\":\"white\",\"minorgridcolor\":\"white\",\"startlinecolor\":\"#2a3f5f\"},\"baxis\":{\"endlinecolor\":\"#2a3f5f\",\"gridcolor\":\"white\",\"linecolor\":\"white\",\"minorgridcolor\":\"white\",\"startlinecolor\":\"#2a3f5f\"},\"type\":\"carpet\"}],\"choropleth\":[{\"colorbar\":{\"outlinewidth\":0,\"ticks\":\"\"},\"type\":\"choropleth\"}],\"contour\":[{\"colorbar\":{\"outlinewidth\":0,\"ticks\":\"\"},\"colorscale\":[[0.0,\"#0d0887\"],[0.1111111111111111,\"#46039f\"],[0.2222222222222222,\"#7201a8\"],[0.3333333333333333,\"#9c179e\"],[0.4444444444444444,\"#bd3786\"],[0.5555555555555556,\"#d8576b\"],[0.6666666666666666,\"#ed7953\"],[0.7777777777777778,\"#fb9f3a\"],[0.8888888888888888,\"#fdca26\"],[1.0,\"#f0f921\"]],\"type\":\"contour\"}],\"contourcarpet\":[{\"colorbar\":{\"outlinewidth\":0,\"ticks\":\"\"},\"type\":\"contourcarpet\"}],\"heatmap\":[{\"colorbar\":{\"outlinewidth\":0,\"ticks\":\"\"},\"colorscale\":[[0.0,\"#0d0887\"],[0.1111111111111111,\"#46039f\"],[0.2222222222222222,\"#7201a8\"],[0.3333333333333333,\"#9c179e\"],[0.4444444444444444,\"#bd3786\"],[0.5555555555555556,\"#d8576b\"],[0.6666666666666666,\"#ed7953\"],[0.7777777777777778,\"#fb9f3a\"],[0.8888888888888888,\"#fdca26\"],[1.0,\"#f0f921\"]],\"type\":\"heatmap\"}],\"heatmapgl\":[{\"colorbar\":{\"outlinewidth\":0,\"ticks\":\"\"},\"colorscale\":[[0.0,\"#0d0887\"],[0.1111111111111111,\"#46039f\"],[0.2222222222222222,\"#7201a8\"],[0.3333333333333333,\"#9c179e\"],[0.4444444444444444,\"#bd3786\"],[0.5555555555555556,\"#d8576b\"],[0.6666666666666666,\"#ed7953\"],[0.7777777777777778,\"#fb9f3a\"],[0.8888888888888888,\"#fdca26\"],[1.0,\"#f0f921\"]],\"type\":\"heatmapgl\"}],\"histogram\":[{\"marker\":{\"pattern\":{\"fillmode\":\"overlay\",\"size\":10,\"solidity\":0.2}},\"type\":\"histogram\"}],\"histogram2d\":[{\"colorbar\":{\"outlinewidth\":0,\"ticks\":\"\"},\"colorscale\":[[0.0,\"#0d0887\"],[0.1111111111111111,\"#46039f\"],[0.2222222222222222,\"#7201a8\"],[0.3333333333333333,\"#9c179e\"],[0.4444444444444444,\"#bd3786\"],[0.5555555555555556,\"#d8576b\"],[0.6666666666666666,\"#ed7953\"],[0.7777777777777778,\"#fb9f3a\"],[0.8888888888888888,\"#fdca26\"],[1.0,\"#f0f921\"]],\"type\":\"histogram2d\"}],\"histogram2dcontour\":[{\"colorbar\":{\"outlinewidth\":0,\"ticks\":\"\"},\"colorscale\":[[0.0,\"#0d0887\"],[0.1111111111111111,\"#46039f\"],[0.2222222222222222,\"#7201a8\"],[0.3333333333333333,\"#9c179e\"],[0.4444444444444444,\"#bd3786\"],[0.5555555555555556,\"#d8576b\"],[0.6666666666666666,\"#ed7953\"],[0.7777777777777778,\"#fb9f3a\"],[0.8888888888888888,\"#fdca26\"],[1.0,\"#f0f921\"]],\"type\":\"histogram2dcontour\"}],\"mesh3d\":[{\"colorbar\":{\"outlinewidth\":0,\"ticks\":\"\"},\"type\":\"mesh3d\"}],\"parcoords\":[{\"line\":{\"colorbar\":{\"outlinewidth\":0,\"ticks\":\"\"}},\"type\":\"parcoords\"}],\"pie\":[{\"automargin\":true,\"type\":\"pie\"}],\"scatter\":[{\"marker\":{\"colorbar\":{\"outlinewidth\":0,\"ticks\":\"\"}},\"type\":\"scatter\"}],\"scatter3d\":[{\"line\":{\"colorbar\":{\"outlinewidth\":0,\"ticks\":\"\"}},\"marker\":{\"colorbar\":{\"outlinewidth\":0,\"ticks\":\"\"}},\"type\":\"scatter3d\"}],\"scattercarpet\":[{\"marker\":{\"colorbar\":{\"outlinewidth\":0,\"ticks\":\"\"}},\"type\":\"scattercarpet\"}],\"scattergeo\":[{\"marker\":{\"colorbar\":{\"outlinewidth\":0,\"ticks\":\"\"}},\"type\":\"scattergeo\"}],\"scattergl\":[{\"marker\":{\"colorbar\":{\"outlinewidth\":0,\"ticks\":\"\"}},\"type\":\"scattergl\"}],\"scattermapbox\":[{\"marker\":{\"colorbar\":{\"outlinewidth\":0,\"ticks\":\"\"}},\"type\":\"scattermapbox\"}],\"scatterpolar\":[{\"marker\":{\"colorbar\":{\"outlinewidth\":0,\"ticks\":\"\"}},\"type\":\"scatterpolar\"}],\"scatterpolargl\":[{\"marker\":{\"colorbar\":{\"outlinewidth\":0,\"ticks\":\"\"}},\"type\":\"scatterpolargl\"}],\"scatterternary\":[{\"marker\":{\"colorbar\":{\"outlinewidth\":0,\"ticks\":\"\"}},\"type\":\"scatterternary\"}],\"surface\":[{\"colorbar\":{\"outlinewidth\":0,\"ticks\":\"\"},\"colorscale\":[[0.0,\"#0d0887\"],[0.1111111111111111,\"#46039f\"],[0.2222222222222222,\"#7201a8\"],[0.3333333333333333,\"#9c179e\"],[0.4444444444444444,\"#bd3786\"],[0.5555555555555556,\"#d8576b\"],[0.6666666666666666,\"#ed7953\"],[0.7777777777777778,\"#fb9f3a\"],[0.8888888888888888,\"#fdca26\"],[1.0,\"#f0f921\"]],\"type\":\"surface\"}],\"table\":[{\"cells\":{\"fill\":{\"color\":\"#EBF0F8\"},\"line\":{\"color\":\"white\"}},\"header\":{\"fill\":{\"color\":\"#C8D4E3\"},\"line\":{\"color\":\"white\"}},\"type\":\"table\"}]},\"layout\":{\"annotationdefaults\":{\"arrowcolor\":\"#2a3f5f\",\"arrowhead\":0,\"arrowwidth\":1},\"autotypenumbers\":\"strict\",\"coloraxis\":{\"colorbar\":{\"outlinewidth\":0,\"ticks\":\"\"}},\"colorscale\":{\"diverging\":[[0,\"#8e0152\"],[0.1,\"#c51b7d\"],[0.2,\"#de77ae\"],[0.3,\"#f1b6da\"],[0.4,\"#fde0ef\"],[0.5,\"#f7f7f7\"],[0.6,\"#e6f5d0\"],[0.7,\"#b8e186\"],[0.8,\"#7fbc41\"],[0.9,\"#4d9221\"],[1,\"#276419\"]],\"sequential\":[[0.0,\"#0d0887\"],[0.1111111111111111,\"#46039f\"],[0.2222222222222222,\"#7201a8\"],[0.3333333333333333,\"#9c179e\"],[0.4444444444444444,\"#bd3786\"],[0.5555555555555556,\"#d8576b\"],[0.6666666666666666,\"#ed7953\"],[0.7777777777777778,\"#fb9f3a\"],[0.8888888888888888,\"#fdca26\"],[1.0,\"#f0f921\"]],\"sequentialminus\":[[0.0,\"#0d0887\"],[0.1111111111111111,\"#46039f\"],[0.2222222222222222,\"#7201a8\"],[0.3333333333333333,\"#9c179e\"],[0.4444444444444444,\"#bd3786\"],[0.5555555555555556,\"#d8576b\"],[0.6666666666666666,\"#ed7953\"],[0.7777777777777778,\"#fb9f3a\"],[0.8888888888888888,\"#fdca26\"],[1.0,\"#f0f921\"]]},\"colorway\":[\"#636efa\",\"#EF553B\",\"#00cc96\",\"#ab63fa\",\"#FFA15A\",\"#19d3f3\",\"#FF6692\",\"#B6E880\",\"#FF97FF\",\"#FECB52\"],\"font\":{\"color\":\"#2a3f5f\"},\"geo\":{\"bgcolor\":\"white\",\"lakecolor\":\"white\",\"landcolor\":\"#E5ECF6\",\"showlakes\":true,\"showland\":true,\"subunitcolor\":\"white\"},\"hoverlabel\":{\"align\":\"left\"},\"hovermode\":\"closest\",\"mapbox\":{\"style\":\"light\"},\"paper_bgcolor\":\"white\",\"plot_bgcolor\":\"#E5ECF6\",\"polar\":{\"angularaxis\":{\"gridcolor\":\"white\",\"linecolor\":\"white\",\"ticks\":\"\"},\"bgcolor\":\"#E5ECF6\",\"radialaxis\":{\"gridcolor\":\"white\",\"linecolor\":\"white\",\"ticks\":\"\"}},\"scene\":{\"xaxis\":{\"backgroundcolor\":\"#E5ECF6\",\"gridcolor\":\"white\",\"gridwidth\":2,\"linecolor\":\"white\",\"showbackground\":true,\"ticks\":\"\",\"zerolinecolor\":\"white\"},\"yaxis\":{\"backgroundcolor\":\"#E5ECF6\",\"gridcolor\":\"white\",\"gridwidth\":2,\"linecolor\":\"white\",\"showbackground\":true,\"ticks\":\"\",\"zerolinecolor\":\"white\"},\"zaxis\":{\"backgroundcolor\":\"#E5ECF6\",\"gridcolor\":\"white\",\"gridwidth\":2,\"linecolor\":\"white\",\"showbackground\":true,\"ticks\":\"\",\"zerolinecolor\":\"white\"}},\"shapedefaults\":{\"line\":{\"color\":\"#2a3f5f\"}},\"ternary\":{\"aaxis\":{\"gridcolor\":\"white\",\"linecolor\":\"white\",\"ticks\":\"\"},\"baxis\":{\"gridcolor\":\"white\",\"linecolor\":\"white\",\"ticks\":\"\"},\"bgcolor\":\"#E5ECF6\",\"caxis\":{\"gridcolor\":\"white\",\"linecolor\":\"white\",\"ticks\":\"\"}},\"title\":{\"x\":0.05},\"xaxis\":{\"automargin\":true,\"gridcolor\":\"white\",\"linecolor\":\"white\",\"ticks\":\"\",\"title\":{\"standoff\":15},\"zerolinecolor\":\"white\",\"zerolinewidth\":2},\"yaxis\":{\"automargin\":true,\"gridcolor\":\"white\",\"linecolor\":\"white\",\"ticks\":\"\",\"title\":{\"standoff\":15},\"zerolinecolor\":\"white\",\"zerolinewidth\":2}}},\"xaxis\":{\"anchor\":\"y\",\"domain\":[0.0,1.0],\"title\":{\"text\":\"project_age_in_days\"}},\"yaxis\":{\"anchor\":\"x\",\"domain\":[0.0,1.0],\"title\":{\"text\":\"rubric\"}}},                        {\"responsive\": true}                    ).then(function(){\n",
       "                            \n",
       "var gd = document.getElementById('c6b79c9a-7662-42b1-8886-4df14af8be01');\n",
       "var x = new MutationObserver(function (mutations, observer) {{\n",
       "        var display = window.getComputedStyle(gd).display;\n",
       "        if (!display || display === 'none') {{\n",
       "            console.log([gd, 'removed!']);\n",
       "            Plotly.purge(gd);\n",
       "            observer.disconnect();\n",
       "        }}\n",
       "}});\n",
       "\n",
       "// Listen for the removal of the full notebook cells\n",
       "var notebookContainer = gd.closest('#notebook-container');\n",
       "if (notebookContainer) {{\n",
       "    x.observe(notebookContainer, {childList: true});\n",
       "}}\n",
       "\n",
       "// Listen for the clearing of the current output cell\n",
       "var outputEl = gd.closest('.output');\n",
       "if (outputEl) {{\n",
       "    x.observe(outputEl, {childList: true});\n",
       "}}\n",
       "\n",
       "                        })                };                });            </script>        </div>"
      ]
     },
     "metadata": {},
     "output_type": "display_data"
    }
   ],
   "source": [
    "import plotly.express as px\n",
    "\n",
    "fig = px.scatter(df.query(\"project_age_in_days<365*8\"), x=\"project_age_in_days\", y=\"rubric\",\n",
    "                 size=\"size\", color=\"activity\",\n",
    "                 hover_name=\"git_url\", size_max=20, color_continuous_scale=[\"red\",\"green\"])\n",
    "\n",
    "fig.update_layout(\n",
    "    paper_bgcolor=\"lightgray\",\n",
    "    height=800,  # Added parameter\n",
    ")\n"
   ]
  },
  {
   "cell_type": "code",
   "execution_count": 13,
   "metadata": {},
   "outputs": [
    {
     "data": {
      "text/html": [
       "<div>\n",
       "<style scoped>\n",
       "    .dataframe tbody tr th:only-of-type {\n",
       "        vertical-align: middle;\n",
       "    }\n",
       "\n",
       "    .dataframe tbody tr th {\n",
       "        vertical-align: top;\n",
       "    }\n",
       "\n",
       "    .dataframe thead th {\n",
       "        text-align: right;\n",
       "    }\n",
       "</style>\n",
       "<table border=\"1\" class=\"dataframe\">\n",
       "  <thead>\n",
       "    <tr style=\"text-align: right;\">\n",
       "      <th></th>\n",
       "      <th>Unnamed: 0</th>\n",
       "      <th>project_name</th>\n",
       "      <th>oneliner</th>\n",
       "      <th>git_namespace</th>\n",
       "      <th>git_url</th>\n",
       "      <th>platform</th>\n",
       "      <th>topics</th>\n",
       "      <th>rubric</th>\n",
       "      <th>last_commit_date</th>\n",
       "      <th>stargazers_count</th>\n",
       "      <th>...</th>\n",
       "      <th>organization_country</th>\n",
       "      <th>organization_form</th>\n",
       "      <th>organization_avatar</th>\n",
       "      <th>organization_public_repos</th>\n",
       "      <th>organization_created</th>\n",
       "      <th>organization_last_update</th>\n",
       "      <th>activity</th>\n",
       "      <th>community</th>\n",
       "      <th>size</th>\n",
       "      <th>total_score</th>\n",
       "    </tr>\n",
       "  </thead>\n",
       "  <tbody>\n",
       "    <tr>\n",
       "      <th>77</th>\n",
       "      <td>115</td>\n",
       "      <td>liionpack</td>\n",
       "      <td>A battery pack simulation tool that uses the P...</td>\n",
       "      <td>pybamm-team</td>\n",
       "      <td>https://github.com/pybamm-team/liionpack.git</td>\n",
       "      <td>github</td>\n",
       "      <td>NaN</td>\n",
       "      <td>Battery</td>\n",
       "      <td>2022/08/04, 09:14:33</td>\n",
       "      <td>28.0</td>\n",
       "      <td>...</td>\n",
       "      <td>NaN</td>\n",
       "      <td>NaN</td>\n",
       "      <td>https://avatars.githubusercontent.com/u/489619...</td>\n",
       "      <td>NaN</td>\n",
       "      <td>NaN</td>\n",
       "      <td>NaN</td>\n",
       "      <td>2.878598</td>\n",
       "      <td>1.827284</td>\n",
       "      <td>2.212140</td>\n",
       "      <td>0.690195</td>\n",
       "    </tr>\n",
       "    <tr>\n",
       "      <th>83</th>\n",
       "      <td>137</td>\n",
       "      <td>BattMo</td>\n",
       "      <td>The Battery Modelling Toolbox (BattMo) is a re...</td>\n",
       "      <td>BattMoTeam</td>\n",
       "      <td>https://github.com/BattMoTeam/BattMo.git</td>\n",
       "      <td>github</td>\n",
       "      <td>NaN</td>\n",
       "      <td>Battery</td>\n",
       "      <td>2022/08/12, 11:03:10</td>\n",
       "      <td>14.0</td>\n",
       "      <td>...</td>\n",
       "      <td>NaN</td>\n",
       "      <td>NaN</td>\n",
       "      <td>https://avatars.githubusercontent.com/u/913345...</td>\n",
       "      <td>NaN</td>\n",
       "      <td>NaN</td>\n",
       "      <td>NaN</td>\n",
       "      <td>2.545056</td>\n",
       "      <td>0.657071</td>\n",
       "      <td>0.950563</td>\n",
       "      <td>0.418076</td>\n",
       "    </tr>\n",
       "    <tr>\n",
       "      <th>185</th>\n",
       "      <td>293</td>\n",
       "      <td>SIMONA</td>\n",
       "      <td>Provides a simulation toolbox to run and imple...</td>\n",
       "      <td>ie3-institute</td>\n",
       "      <td>https://github.com/ie3-institute/simona.git</td>\n",
       "      <td>github</td>\n",
       "      <td>simulation,powersystem,electricity,energy,agen...</td>\n",
       "      <td>Energy Distribution and Grids</td>\n",
       "      <td>2022/08/10, 13:18:10</td>\n",
       "      <td>16.0</td>\n",
       "      <td>...</td>\n",
       "      <td>NaN</td>\n",
       "      <td>NaN</td>\n",
       "      <td>https://avatars.githubusercontent.com/u/582652...</td>\n",
       "      <td>NaN</td>\n",
       "      <td>NaN</td>\n",
       "      <td>NaN</td>\n",
       "      <td>2.102628</td>\n",
       "      <td>2.112015</td>\n",
       "      <td>2.285982</td>\n",
       "      <td>0.647851</td>\n",
       "    </tr>\n",
       "    <tr>\n",
       "      <th>232</th>\n",
       "      <td>374</td>\n",
       "      <td>HiSim</td>\n",
       "      <td>Simulation and analysis of household scenarios...</td>\n",
       "      <td>FZJ-IEK3-VSA</td>\n",
       "      <td>https://github.com/FZJ-IEK3-VSA/HiSim.git</td>\n",
       "      <td>github</td>\n",
       "      <td>NaN</td>\n",
       "      <td>Buildings and Heating</td>\n",
       "      <td>2022/08/12, 16:27:26</td>\n",
       "      <td>13.0</td>\n",
       "      <td>...</td>\n",
       "      <td>NaN</td>\n",
       "      <td>NaN</td>\n",
       "      <td>https://avatars.githubusercontent.com/u/286544...</td>\n",
       "      <td>NaN</td>\n",
       "      <td>NaN</td>\n",
       "      <td>NaN</td>\n",
       "      <td>1.952441</td>\n",
       "      <td>2.221527</td>\n",
       "      <td>1.717146</td>\n",
       "      <td>0.597096</td>\n",
       "    </tr>\n",
       "    <tr>\n",
       "      <th>283</th>\n",
       "      <td>446</td>\n",
       "      <td>EVerest</td>\n",
       "      <td>An open source software stack for EV charging ...</td>\n",
       "      <td>EVerest</td>\n",
       "      <td>https://github.com/EVerest/EVerest.git</td>\n",
       "      <td>github</td>\n",
       "      <td>NaN</td>\n",
       "      <td>Mobility and Transportation</td>\n",
       "      <td>2022/06/27, 22:22:32</td>\n",
       "      <td>44.0</td>\n",
       "      <td>...</td>\n",
       "      <td>NaN</td>\n",
       "      <td>NaN</td>\n",
       "      <td>https://avatars.githubusercontent.com/u/732192...</td>\n",
       "      <td>NaN</td>\n",
       "      <td>NaN</td>\n",
       "      <td>NaN</td>\n",
       "      <td>1.560701</td>\n",
       "      <td>1.818523</td>\n",
       "      <td>0.897372</td>\n",
       "      <td>0.442426</td>\n",
       "    </tr>\n",
       "    <tr>\n",
       "      <th>301</th>\n",
       "      <td>476</td>\n",
       "      <td>Kepler</td>\n",
       "      <td>Uses eBPF to probe energy related system stats...</td>\n",
       "      <td>sustainable-computing-io</td>\n",
       "      <td>https://github.com/sustainable-computing-io/ke...</td>\n",
       "      <td>github</td>\n",
       "      <td>kubernetes,sustainability,ebpf,prometheus-expo...</td>\n",
       "      <td>Computation and Communication</td>\n",
       "      <td>2022/08/10, 13:29:53</td>\n",
       "      <td>92.0</td>\n",
       "      <td>...</td>\n",
       "      <td>NaN</td>\n",
       "      <td>NaN</td>\n",
       "      <td>https://avatars.githubusercontent.com/u/915676...</td>\n",
       "      <td>NaN</td>\n",
       "      <td>NaN</td>\n",
       "      <td>NaN</td>\n",
       "      <td>2.347309</td>\n",
       "      <td>1.764080</td>\n",
       "      <td>1.693367</td>\n",
       "      <td>0.584515</td>\n",
       "    </tr>\n",
       "    <tr>\n",
       "      <th>312</th>\n",
       "      <td>498</td>\n",
       "      <td>Open-Emission-Factors-DB</td>\n",
       "      <td>An open access, contributer-led database of em...</td>\n",
       "      <td>climatiq</td>\n",
       "      <td>https://github.com/climatiq/Open-Emission-Fact...</td>\n",
       "      <td>github</td>\n",
       "      <td>NaN</td>\n",
       "      <td>Carbon Intensity and Accounting</td>\n",
       "      <td>2022/08/10, 18:11:45</td>\n",
       "      <td>49.0</td>\n",
       "      <td>...</td>\n",
       "      <td>NaN</td>\n",
       "      <td>NaN</td>\n",
       "      <td>https://avatars.githubusercontent.com/u/798724...</td>\n",
       "      <td>NaN</td>\n",
       "      <td>NaN</td>\n",
       "      <td>NaN</td>\n",
       "      <td>2.661452</td>\n",
       "      <td>2.394869</td>\n",
       "      <td>2.342303</td>\n",
       "      <td>0.742564</td>\n",
       "    </tr>\n",
       "    <tr>\n",
       "      <th>415</th>\n",
       "      <td>680</td>\n",
       "      <td>mapme.biodiversity</td>\n",
       "      <td>Efficient analysis of spatial biodiversity dat...</td>\n",
       "      <td>mapme-initiative</td>\n",
       "      <td>https://github.com/mapme-initiative/mapme.biod...</td>\n",
       "      <td>github</td>\n",
       "      <td>NaN</td>\n",
       "      <td>Biosphere</td>\n",
       "      <td>2022/08/14, 20:00:05</td>\n",
       "      <td>12.0</td>\n",
       "      <td>...</td>\n",
       "      <td>NaN</td>\n",
       "      <td>NaN</td>\n",
       "      <td>https://avatars.githubusercontent.com/u/760369...</td>\n",
       "      <td>NaN</td>\n",
       "      <td>NaN</td>\n",
       "      <td>NaN</td>\n",
       "      <td>2.350438</td>\n",
       "      <td>1.119524</td>\n",
       "      <td>1.267835</td>\n",
       "      <td>0.476546</td>\n",
       "    </tr>\n",
       "    <tr>\n",
       "      <th>516</th>\n",
       "      <td>816</td>\n",
       "      <td>MOM6</td>\n",
       "      <td>A numerical representation of the ocean fluid ...</td>\n",
       "      <td>NOAA-GFDL</td>\n",
       "      <td>https://github.com/NOAA-GFDL/MOM6.git</td>\n",
       "      <td>github</td>\n",
       "      <td>NaN</td>\n",
       "      <td>Earth and Climate Modeling</td>\n",
       "      <td>2022/08/10, 13:59:26</td>\n",
       "      <td>2.0</td>\n",
       "      <td>...</td>\n",
       "      <td>NaN</td>\n",
       "      <td>NaN</td>\n",
       "      <td>https://avatars.githubusercontent.com/u/112193...</td>\n",
       "      <td>NaN</td>\n",
       "      <td>NaN</td>\n",
       "      <td>NaN</td>\n",
       "      <td>2.090113</td>\n",
       "      <td>2.589487</td>\n",
       "      <td>3.248436</td>\n",
       "      <td>0.780827</td>\n",
       "    </tr>\n",
       "    <tr>\n",
       "      <th>569</th>\n",
       "      <td>888</td>\n",
       "      <td>weather-tools</td>\n",
       "      <td>A series of command-line tools to make common ...</td>\n",
       "      <td>google</td>\n",
       "      <td>https://github.com/google/weather-tools.git</td>\n",
       "      <td>github</td>\n",
       "      <td>python,apache-beam,weather</td>\n",
       "      <td>Climate Data Processing and Access</td>\n",
       "      <td>2022/08/09, 16:22:47</td>\n",
       "      <td>81.0</td>\n",
       "      <td>...</td>\n",
       "      <td>NaN</td>\n",
       "      <td>NaN</td>\n",
       "      <td>https://avatars.githubusercontent.com/u/134200...</td>\n",
       "      <td>NaN</td>\n",
       "      <td>NaN</td>\n",
       "      <td>NaN</td>\n",
       "      <td>2.408010</td>\n",
       "      <td>2.211514</td>\n",
       "      <td>2.218398</td>\n",
       "      <td>0.685178</td>\n",
       "    </tr>\n",
       "    <tr>\n",
       "      <th>578</th>\n",
       "      <td>899</td>\n",
       "      <td>IPCC AR6 Chapter 9 Figures</td>\n",
       "      <td>Code and data for all figures from Chapter 9 o...</td>\n",
       "      <td>IPCC-WG1</td>\n",
       "      <td>https://github.com/IPCC-WG1/Chapter-9.git</td>\n",
       "      <td>github</td>\n",
       "      <td>NaN</td>\n",
       "      <td>Climate Data Processing and Access</td>\n",
       "      <td>2022/02/17, 01:47:34</td>\n",
       "      <td>61.0</td>\n",
       "      <td>...</td>\n",
       "      <td>NaN</td>\n",
       "      <td>NaN</td>\n",
       "      <td>https://avatars.githubusercontent.com/u/508780...</td>\n",
       "      <td>NaN</td>\n",
       "      <td>NaN</td>\n",
       "      <td>NaN</td>\n",
       "      <td>1.875469</td>\n",
       "      <td>1.339800</td>\n",
       "      <td>0.790989</td>\n",
       "      <td>0.412220</td>\n",
       "    </tr>\n",
       "    <tr>\n",
       "      <th>606</th>\n",
       "      <td>936</td>\n",
       "      <td>Climate Data Store Toolbox for MATLAB</td>\n",
       "      <td>This toolbox allows you to easily access data ...</td>\n",
       "      <td>mathworks</td>\n",
       "      <td>https://github.com/mathworks/climatedatastore.git</td>\n",
       "      <td>github</td>\n",
       "      <td>climate-data,matlab,matlab-toolbox,data-scienc...</td>\n",
       "      <td>Climate Data Processing and Access</td>\n",
       "      <td>2022/07/08, 20:17:02</td>\n",
       "      <td>9.0</td>\n",
       "      <td>...</td>\n",
       "      <td>NaN</td>\n",
       "      <td>NaN</td>\n",
       "      <td>https://avatars.githubusercontent.com/u/859007...</td>\n",
       "      <td>NaN</td>\n",
       "      <td>NaN</td>\n",
       "      <td>NaN</td>\n",
       "      <td>2.260951</td>\n",
       "      <td>0.245307</td>\n",
       "      <td>0.279725</td>\n",
       "      <td>0.286043</td>\n",
       "    </tr>\n",
       "    <tr>\n",
       "      <th>629</th>\n",
       "      <td>970</td>\n",
       "      <td>Ozone</td>\n",
       "      <td>An open-source package to easily obtain real-t...</td>\n",
       "      <td>Milind220</td>\n",
       "      <td>https://github.com/Ozon3Org/Ozon3.git</td>\n",
       "      <td>github</td>\n",
       "      <td>api-wrapper,python,air-quality,api,open-source...</td>\n",
       "      <td>Air Quality</td>\n",
       "      <td>2022/07/26, 01:42:58</td>\n",
       "      <td>35.0</td>\n",
       "      <td>...</td>\n",
       "      <td>NaN</td>\n",
       "      <td>NaN</td>\n",
       "      <td>https://avatars.githubusercontent.com/u/107499...</td>\n",
       "      <td>NaN</td>\n",
       "      <td>NaN</td>\n",
       "      <td>NaN</td>\n",
       "      <td>3.066333</td>\n",
       "      <td>2.066333</td>\n",
       "      <td>2.172090</td>\n",
       "      <td>0.733346</td>\n",
       "    </tr>\n",
       "    <tr>\n",
       "      <th>669</th>\n",
       "      <td>1032</td>\n",
       "      <td>reservatoriosBR</td>\n",
       "      <td>R package for Brazilian reservoirs data.</td>\n",
       "      <td>brunomioto</td>\n",
       "      <td>https://github.com/brunomioto/reservatoriosBR.git</td>\n",
       "      <td>github</td>\n",
       "      <td>brazil,water,reservoir</td>\n",
       "      <td>Water Supply</td>\n",
       "      <td>2021/11/04, 21:16:49</td>\n",
       "      <td>23.0</td>\n",
       "      <td>...</td>\n",
       "      <td>NaN</td>\n",
       "      <td>NaN</td>\n",
       "      <td>NaN</td>\n",
       "      <td>NaN</td>\n",
       "      <td>NaN</td>\n",
       "      <td>NaN</td>\n",
       "      <td>2.540050</td>\n",
       "      <td>0.245307</td>\n",
       "      <td>0.397372</td>\n",
       "      <td>0.324876</td>\n",
       "    </tr>\n",
       "    <tr>\n",
       "      <th>698</th>\n",
       "      <td>1088</td>\n",
       "      <td>Terraso</td>\n",
       "      <td>Develop an open source technology platform to ...</td>\n",
       "      <td>techmatters</td>\n",
       "      <td>https://github.com/techmatters/terraso-backend...</td>\n",
       "      <td>github</td>\n",
       "      <td>NaN</td>\n",
       "      <td>Soil and Land</td>\n",
       "      <td>2022/08/04, 00:30:35</td>\n",
       "      <td>8.0</td>\n",
       "      <td>...</td>\n",
       "      <td>NaN</td>\n",
       "      <td>NaN</td>\n",
       "      <td>https://avatars.githubusercontent.com/u/530622...</td>\n",
       "      <td>NaN</td>\n",
       "      <td>NaN</td>\n",
       "      <td>NaN</td>\n",
       "      <td>1.965582</td>\n",
       "      <td>1.481227</td>\n",
       "      <td>1.653942</td>\n",
       "      <td>0.509620</td>\n",
       "    </tr>\n",
       "    <tr>\n",
       "      <th>719</th>\n",
       "      <td>1131</td>\n",
       "      <td>VeganCheck.me</td>\n",
       "      <td>A multilingual progressive web app, which scan...</td>\n",
       "      <td>JokeNetwork</td>\n",
       "      <td>https://github.com/JokeNetwork/vegancheck.me.git</td>\n",
       "      <td>github</td>\n",
       "      <td>scanner,barcode,html5,css,sass,javascript,vega...</td>\n",
       "      <td>Agriculture and Nutrition</td>\n",
       "      <td>2022/07/28, 19:47:56</td>\n",
       "      <td>11.0</td>\n",
       "      <td>...</td>\n",
       "      <td>NaN</td>\n",
       "      <td>NaN</td>\n",
       "      <td>https://avatars.githubusercontent.com/u/882160...</td>\n",
       "      <td>NaN</td>\n",
       "      <td>NaN</td>\n",
       "      <td>NaN</td>\n",
       "      <td>3.046934</td>\n",
       "      <td>1.464956</td>\n",
       "      <td>1.871089</td>\n",
       "      <td>0.638309</td>\n",
       "    </tr>\n",
       "    <tr>\n",
       "      <th>721</th>\n",
       "      <td>1134</td>\n",
       "      <td>EuroCrops</td>\n",
       "      <td>A dataset collection combining all publicly av...</td>\n",
       "      <td>maja601</td>\n",
       "      <td>https://github.com/maja601/EuroCrops.git</td>\n",
       "      <td>github</td>\n",
       "      <td>dataset,opendata,agriculture,machine-learning,...</td>\n",
       "      <td>Agriculture and Nutrition</td>\n",
       "      <td>2022/08/03, 12:41:36</td>\n",
       "      <td>64.0</td>\n",
       "      <td>...</td>\n",
       "      <td>NaN</td>\n",
       "      <td>NaN</td>\n",
       "      <td>NaN</td>\n",
       "      <td>NaN</td>\n",
       "      <td>NaN</td>\n",
       "      <td>NaN</td>\n",
       "      <td>1.354193</td>\n",
       "      <td>0.678348</td>\n",
       "      <td>0.364831</td>\n",
       "      <td>0.247787</td>\n",
       "    </tr>\n",
       "    <tr>\n",
       "      <th>731</th>\n",
       "      <td>1146</td>\n",
       "      <td>CAMS</td>\n",
       "      <td>Critical Asset Management and Disaster Resilie...</td>\n",
       "      <td>CriticalAssetManagement</td>\n",
       "      <td>https://github.com/CriticalAssetManagement/CAM...</td>\n",
       "      <td>github</td>\n",
       "      <td>NaN</td>\n",
       "      <td>Natural Hazard and Poverty</td>\n",
       "      <td>2022/03/03, 16:51:31</td>\n",
       "      <td>14.0</td>\n",
       "      <td>...</td>\n",
       "      <td>NaN</td>\n",
       "      <td>NaN</td>\n",
       "      <td>https://avatars.githubusercontent.com/u/930810...</td>\n",
       "      <td>NaN</td>\n",
       "      <td>NaN</td>\n",
       "      <td>NaN</td>\n",
       "      <td>1.545682</td>\n",
       "      <td>1.355444</td>\n",
       "      <td>0.510638</td>\n",
       "      <td>0.356296</td>\n",
       "    </tr>\n",
       "    <tr>\n",
       "      <th>733</th>\n",
       "      <td>1148</td>\n",
       "      <td>SustainBench</td>\n",
       "      <td>Benchmarks for Monitoring the Sustainable Deve...</td>\n",
       "      <td>sustainlab-group</td>\n",
       "      <td>https://github.com/sustainlab-group/sustainben...</td>\n",
       "      <td>github</td>\n",
       "      <td>machine-learning,deep-learning,sustainability,...</td>\n",
       "      <td>Sustainable Development Goals</td>\n",
       "      <td>2021/11/06, 04:13:03</td>\n",
       "      <td>58.0</td>\n",
       "      <td>...</td>\n",
       "      <td>NaN</td>\n",
       "      <td>NaN</td>\n",
       "      <td>https://avatars.githubusercontent.com/u/434266...</td>\n",
       "      <td>NaN</td>\n",
       "      <td>NaN</td>\n",
       "      <td>NaN</td>\n",
       "      <td>0.825407</td>\n",
       "      <td>0.626408</td>\n",
       "      <td>0.126408</td>\n",
       "      <td>0.167053</td>\n",
       "    </tr>\n",
       "    <tr>\n",
       "      <th>758</th>\n",
       "      <td>1205</td>\n",
       "      <td>owid-catalog</td>\n",
       "      <td>A Pythonic API for working with Our World in D...</td>\n",
       "      <td>owid</td>\n",
       "      <td>https://github.com/owid/owid-catalog-py.git</td>\n",
       "      <td>github</td>\n",
       "      <td>NaN</td>\n",
       "      <td>Data Catalogs and Interfaces</td>\n",
       "      <td>2022/08/10, 12:50:25</td>\n",
       "      <td>16.0</td>\n",
       "      <td>...</td>\n",
       "      <td>NaN</td>\n",
       "      <td>NaN</td>\n",
       "      <td>https://avatars.githubusercontent.com/u/141871...</td>\n",
       "      <td>NaN</td>\n",
       "      <td>NaN</td>\n",
       "      <td>NaN</td>\n",
       "      <td>1.775970</td>\n",
       "      <td>1.687109</td>\n",
       "      <td>1.210889</td>\n",
       "      <td>0.476150</td>\n",
       "    </tr>\n",
       "    <tr>\n",
       "      <th>769</th>\n",
       "      <td>1219</td>\n",
       "      <td>earthdata</td>\n",
       "      <td>A Python library to search and access NASA dat...</td>\n",
       "      <td>betolink</td>\n",
       "      <td>https://github.com/nsidc/earthdata.git</td>\n",
       "      <td>github</td>\n",
       "      <td>nasa,nasa-api,openscience,data,access,cmr</td>\n",
       "      <td>Data Catalogs and Interfaces</td>\n",
       "      <td>2022/04/28, 18:10:36</td>\n",
       "      <td>73.0</td>\n",
       "      <td>...</td>\n",
       "      <td>NaN</td>\n",
       "      <td>NaN</td>\n",
       "      <td>https://avatars.githubusercontent.com/u/187428...</td>\n",
       "      <td>NaN</td>\n",
       "      <td>NaN</td>\n",
       "      <td>NaN</td>\n",
       "      <td>2.252816</td>\n",
       "      <td>0.814768</td>\n",
       "      <td>1.377347</td>\n",
       "      <td>0.441146</td>\n",
       "    </tr>\n",
       "    <tr>\n",
       "      <th>780</th>\n",
       "      <td>1234</td>\n",
       "      <td>ecmwf-opendata</td>\n",
       "      <td>A package to simplify the download of ECMWF op...</td>\n",
       "      <td>ecmwf</td>\n",
       "      <td>https://github.com/ecmwf/ecmwf-opendata.git</td>\n",
       "      <td>github</td>\n",
       "      <td>NaN</td>\n",
       "      <td>Data Catalogs and Interfaces</td>\n",
       "      <td>2022/07/20, 10:14:05</td>\n",
       "      <td>48.0</td>\n",
       "      <td>...</td>\n",
       "      <td>NaN</td>\n",
       "      <td>NaN</td>\n",
       "      <td>https://avatars.githubusercontent.com/u/636806...</td>\n",
       "      <td>NaN</td>\n",
       "      <td>NaN</td>\n",
       "      <td>NaN</td>\n",
       "      <td>2.177722</td>\n",
       "      <td>0.599499</td>\n",
       "      <td>0.479975</td>\n",
       "      <td>0.334097</td>\n",
       "    </tr>\n",
       "  </tbody>\n",
       "</table>\n",
       "<p>22 rows × 56 columns</p>\n",
       "</div>"
      ],
      "text/plain": [
       "     Unnamed: 0                           project_name  \\\n",
       "77          115                              liionpack   \n",
       "83          137                                 BattMo   \n",
       "185         293                                 SIMONA   \n",
       "232         374                                  HiSim   \n",
       "283         446                                EVerest   \n",
       "301         476                                 Kepler   \n",
       "312         498               Open-Emission-Factors-DB   \n",
       "415         680                     mapme.biodiversity   \n",
       "516         816                                   MOM6   \n",
       "569         888                          weather-tools   \n",
       "578         899             IPCC AR6 Chapter 9 Figures   \n",
       "606         936  Climate Data Store Toolbox for MATLAB   \n",
       "629         970                                  Ozone   \n",
       "669        1032                        reservatoriosBR   \n",
       "698        1088                                Terraso   \n",
       "719        1131                          VeganCheck.me   \n",
       "721        1134                              EuroCrops   \n",
       "731        1146                                   CAMS   \n",
       "733        1148                           SustainBench   \n",
       "758        1205                           owid-catalog   \n",
       "769        1219                              earthdata   \n",
       "780        1234                         ecmwf-opendata   \n",
       "\n",
       "                                              oneliner  \\\n",
       "77   A battery pack simulation tool that uses the P...   \n",
       "83   The Battery Modelling Toolbox (BattMo) is a re...   \n",
       "185  Provides a simulation toolbox to run and imple...   \n",
       "232  Simulation and analysis of household scenarios...   \n",
       "283  An open source software stack for EV charging ...   \n",
       "301  Uses eBPF to probe energy related system stats...   \n",
       "312  An open access, contributer-led database of em...   \n",
       "415  Efficient analysis of spatial biodiversity dat...   \n",
       "516  A numerical representation of the ocean fluid ...   \n",
       "569  A series of command-line tools to make common ...   \n",
       "578  Code and data for all figures from Chapter 9 o...   \n",
       "606  This toolbox allows you to easily access data ...   \n",
       "629  An open-source package to easily obtain real-t...   \n",
       "669           R package for Brazilian reservoirs data.   \n",
       "698  Develop an open source technology platform to ...   \n",
       "719  A multilingual progressive web app, which scan...   \n",
       "721  A dataset collection combining all publicly av...   \n",
       "731  Critical Asset Management and Disaster Resilie...   \n",
       "733  Benchmarks for Monitoring the Sustainable Deve...   \n",
       "758  A Pythonic API for working with Our World in D...   \n",
       "769  A Python library to search and access NASA dat...   \n",
       "780  A package to simplify the download of ECMWF op...   \n",
       "\n",
       "                git_namespace  \\\n",
       "77                pybamm-team   \n",
       "83                 BattMoTeam   \n",
       "185             ie3-institute   \n",
       "232              FZJ-IEK3-VSA   \n",
       "283                   EVerest   \n",
       "301  sustainable-computing-io   \n",
       "312                  climatiq   \n",
       "415          mapme-initiative   \n",
       "516                 NOAA-GFDL   \n",
       "569                    google   \n",
       "578                  IPCC-WG1   \n",
       "606                 mathworks   \n",
       "629                 Milind220   \n",
       "669                brunomioto   \n",
       "698               techmatters   \n",
       "719               JokeNetwork   \n",
       "721                   maja601   \n",
       "731   CriticalAssetManagement   \n",
       "733          sustainlab-group   \n",
       "758                      owid   \n",
       "769                  betolink   \n",
       "780                     ecmwf   \n",
       "\n",
       "                                               git_url platform  \\\n",
       "77        https://github.com/pybamm-team/liionpack.git   github   \n",
       "83            https://github.com/BattMoTeam/BattMo.git   github   \n",
       "185        https://github.com/ie3-institute/simona.git   github   \n",
       "232          https://github.com/FZJ-IEK3-VSA/HiSim.git   github   \n",
       "283             https://github.com/EVerest/EVerest.git   github   \n",
       "301  https://github.com/sustainable-computing-io/ke...   github   \n",
       "312  https://github.com/climatiq/Open-Emission-Fact...   github   \n",
       "415  https://github.com/mapme-initiative/mapme.biod...   github   \n",
       "516              https://github.com/NOAA-GFDL/MOM6.git   github   \n",
       "569        https://github.com/google/weather-tools.git   github   \n",
       "578          https://github.com/IPCC-WG1/Chapter-9.git   github   \n",
       "606  https://github.com/mathworks/climatedatastore.git   github   \n",
       "629              https://github.com/Ozon3Org/Ozon3.git   github   \n",
       "669  https://github.com/brunomioto/reservatoriosBR.git   github   \n",
       "698  https://github.com/techmatters/terraso-backend...   github   \n",
       "719   https://github.com/JokeNetwork/vegancheck.me.git   github   \n",
       "721           https://github.com/maja601/EuroCrops.git   github   \n",
       "731  https://github.com/CriticalAssetManagement/CAM...   github   \n",
       "733  https://github.com/sustainlab-group/sustainben...   github   \n",
       "758        https://github.com/owid/owid-catalog-py.git   github   \n",
       "769             https://github.com/nsidc/earthdata.git   github   \n",
       "780        https://github.com/ecmwf/ecmwf-opendata.git   github   \n",
       "\n",
       "                                                topics  \\\n",
       "77                                                 NaN   \n",
       "83                                                 NaN   \n",
       "185  simulation,powersystem,electricity,energy,agen...   \n",
       "232                                                NaN   \n",
       "283                                                NaN   \n",
       "301  kubernetes,sustainability,ebpf,prometheus-expo...   \n",
       "312                                                NaN   \n",
       "415                                                NaN   \n",
       "516                                                NaN   \n",
       "569                         python,apache-beam,weather   \n",
       "578                                                NaN   \n",
       "606  climate-data,matlab,matlab-toolbox,data-scienc...   \n",
       "629  api-wrapper,python,air-quality,api,open-source...   \n",
       "669                             brazil,water,reservoir   \n",
       "698                                                NaN   \n",
       "719  scanner,barcode,html5,css,sass,javascript,vega...   \n",
       "721  dataset,opendata,agriculture,machine-learning,...   \n",
       "731                                                NaN   \n",
       "733  machine-learning,deep-learning,sustainability,...   \n",
       "758                                                NaN   \n",
       "769          nasa,nasa-api,openscience,data,access,cmr   \n",
       "780                                                NaN   \n",
       "\n",
       "                                 rubric      last_commit_date  \\\n",
       "77                              Battery  2022/08/04, 09:14:33   \n",
       "83                              Battery  2022/08/12, 11:03:10   \n",
       "185       Energy Distribution and Grids  2022/08/10, 13:18:10   \n",
       "232               Buildings and Heating  2022/08/12, 16:27:26   \n",
       "283         Mobility and Transportation  2022/06/27, 22:22:32   \n",
       "301       Computation and Communication  2022/08/10, 13:29:53   \n",
       "312     Carbon Intensity and Accounting  2022/08/10, 18:11:45   \n",
       "415                           Biosphere  2022/08/14, 20:00:05   \n",
       "516          Earth and Climate Modeling  2022/08/10, 13:59:26   \n",
       "569  Climate Data Processing and Access  2022/08/09, 16:22:47   \n",
       "578  Climate Data Processing and Access  2022/02/17, 01:47:34   \n",
       "606  Climate Data Processing and Access  2022/07/08, 20:17:02   \n",
       "629                         Air Quality  2022/07/26, 01:42:58   \n",
       "669                        Water Supply  2021/11/04, 21:16:49   \n",
       "698                       Soil and Land  2022/08/04, 00:30:35   \n",
       "719           Agriculture and Nutrition  2022/07/28, 19:47:56   \n",
       "721           Agriculture and Nutrition  2022/08/03, 12:41:36   \n",
       "731          Natural Hazard and Poverty  2022/03/03, 16:51:31   \n",
       "733       Sustainable Development Goals  2021/11/06, 04:13:03   \n",
       "758        Data Catalogs and Interfaces  2022/08/10, 12:50:25   \n",
       "769        Data Catalogs and Interfaces  2022/04/28, 18:10:36   \n",
       "780        Data Catalogs and Interfaces  2022/07/20, 10:14:05   \n",
       "\n",
       "     stargazers_count  ...  organization_country  organization_form  \\\n",
       "77               28.0  ...                   NaN                NaN   \n",
       "83               14.0  ...                   NaN                NaN   \n",
       "185              16.0  ...                   NaN                NaN   \n",
       "232              13.0  ...                   NaN                NaN   \n",
       "283              44.0  ...                   NaN                NaN   \n",
       "301              92.0  ...                   NaN                NaN   \n",
       "312              49.0  ...                   NaN                NaN   \n",
       "415              12.0  ...                   NaN                NaN   \n",
       "516               2.0  ...                   NaN                NaN   \n",
       "569              81.0  ...                   NaN                NaN   \n",
       "578              61.0  ...                   NaN                NaN   \n",
       "606               9.0  ...                   NaN                NaN   \n",
       "629              35.0  ...                   NaN                NaN   \n",
       "669              23.0  ...                   NaN                NaN   \n",
       "698               8.0  ...                   NaN                NaN   \n",
       "719              11.0  ...                   NaN                NaN   \n",
       "721              64.0  ...                   NaN                NaN   \n",
       "731              14.0  ...                   NaN                NaN   \n",
       "733              58.0  ...                   NaN                NaN   \n",
       "758              16.0  ...                   NaN                NaN   \n",
       "769              73.0  ...                   NaN                NaN   \n",
       "780              48.0  ...                   NaN                NaN   \n",
       "\n",
       "                                   organization_avatar  \\\n",
       "77   https://avatars.githubusercontent.com/u/489619...   \n",
       "83   https://avatars.githubusercontent.com/u/913345...   \n",
       "185  https://avatars.githubusercontent.com/u/582652...   \n",
       "232  https://avatars.githubusercontent.com/u/286544...   \n",
       "283  https://avatars.githubusercontent.com/u/732192...   \n",
       "301  https://avatars.githubusercontent.com/u/915676...   \n",
       "312  https://avatars.githubusercontent.com/u/798724...   \n",
       "415  https://avatars.githubusercontent.com/u/760369...   \n",
       "516  https://avatars.githubusercontent.com/u/112193...   \n",
       "569  https://avatars.githubusercontent.com/u/134200...   \n",
       "578  https://avatars.githubusercontent.com/u/508780...   \n",
       "606  https://avatars.githubusercontent.com/u/859007...   \n",
       "629  https://avatars.githubusercontent.com/u/107499...   \n",
       "669                                                NaN   \n",
       "698  https://avatars.githubusercontent.com/u/530622...   \n",
       "719  https://avatars.githubusercontent.com/u/882160...   \n",
       "721                                                NaN   \n",
       "731  https://avatars.githubusercontent.com/u/930810...   \n",
       "733  https://avatars.githubusercontent.com/u/434266...   \n",
       "758  https://avatars.githubusercontent.com/u/141871...   \n",
       "769  https://avatars.githubusercontent.com/u/187428...   \n",
       "780  https://avatars.githubusercontent.com/u/636806...   \n",
       "\n",
       "    organization_public_repos organization_created organization_last_update  \\\n",
       "77                        NaN                  NaN                      NaN   \n",
       "83                        NaN                  NaN                      NaN   \n",
       "185                       NaN                  NaN                      NaN   \n",
       "232                       NaN                  NaN                      NaN   \n",
       "283                       NaN                  NaN                      NaN   \n",
       "301                       NaN                  NaN                      NaN   \n",
       "312                       NaN                  NaN                      NaN   \n",
       "415                       NaN                  NaN                      NaN   \n",
       "516                       NaN                  NaN                      NaN   \n",
       "569                       NaN                  NaN                      NaN   \n",
       "578                       NaN                  NaN                      NaN   \n",
       "606                       NaN                  NaN                      NaN   \n",
       "629                       NaN                  NaN                      NaN   \n",
       "669                       NaN                  NaN                      NaN   \n",
       "698                       NaN                  NaN                      NaN   \n",
       "719                       NaN                  NaN                      NaN   \n",
       "721                       NaN                  NaN                      NaN   \n",
       "731                       NaN                  NaN                      NaN   \n",
       "733                       NaN                  NaN                      NaN   \n",
       "758                       NaN                  NaN                      NaN   \n",
       "769                       NaN                  NaN                      NaN   \n",
       "780                       NaN                  NaN                      NaN   \n",
       "\n",
       "     activity community      size total_score  \n",
       "77   2.878598  1.827284  2.212140    0.690195  \n",
       "83   2.545056  0.657071  0.950563    0.418076  \n",
       "185  2.102628  2.112015  2.285982    0.647851  \n",
       "232  1.952441  2.221527  1.717146    0.597096  \n",
       "283  1.560701  1.818523  0.897372    0.442426  \n",
       "301  2.347309  1.764080  1.693367    0.584515  \n",
       "312  2.661452  2.394869  2.342303    0.742564  \n",
       "415  2.350438  1.119524  1.267835    0.476546  \n",
       "516  2.090113  2.589487  3.248436    0.780827  \n",
       "569  2.408010  2.211514  2.218398    0.685178  \n",
       "578  1.875469  1.339800  0.790989    0.412220  \n",
       "606  2.260951  0.245307  0.279725    0.286043  \n",
       "629  3.066333  2.066333  2.172090    0.733346  \n",
       "669  2.540050  0.245307  0.397372    0.324876  \n",
       "698  1.965582  1.481227  1.653942    0.509620  \n",
       "719  3.046934  1.464956  1.871089    0.638309  \n",
       "721  1.354193  0.678348  0.364831    0.247787  \n",
       "731  1.545682  1.355444  0.510638    0.356296  \n",
       "733  0.825407  0.626408  0.126408    0.167053  \n",
       "758  1.775970  1.687109  1.210889    0.476150  \n",
       "769  2.252816  0.814768  1.377347    0.441146  \n",
       "780  2.177722  0.599499  0.479975    0.334097  \n",
       "\n",
       "[22 rows x 56 columns]"
      ]
     },
     "execution_count": 12,
     "metadata": {},
     "output_type": "execute_result"
    }
   ],
   "source": [
    "df.query(\"project_age_in_days<365\")"
   ]
  },
  {
   "cell_type": "code",
   "execution_count": 14,
   "metadata": {},
   "outputs": [
    {
     "data": {
      "application/vnd.plotly.v1+json": {
       "config": {
        "plotlyServerURL": "https://plot.ly"
       },
       "data": [
        {
         "branchvalues": "total",
         "customdata": [
          [
           23
          ],
          [
           20
          ],
          [
           17
          ],
          [
           10
          ],
          [
           2
          ],
          [
           64
          ],
          [
           36
          ],
          [
           4
          ],
          [
           12
          ],
          [
           9
          ],
          [
           44
          ],
          [
           18
          ],
          [
           17
          ],
          [
           15
          ],
          [
           28
          ],
          [
           15
          ],
          [
           6
          ],
          [
           40
          ],
          [
           14
          ],
          [
           22
          ],
          [
           66
          ],
          [
           6
          ],
          [
           5
          ],
          [
           8
          ],
          [
           7
          ],
          [
           51
          ],
          [
           3
          ],
          [
           11
          ],
          [
           9
          ],
          [
           7
          ],
          [
           49
          ],
          [
           10
          ],
          [
           35
          ],
          [
           1
          ],
          [
           8
          ],
          [
           26
          ],
          [
           4
          ],
          [
           9
          ],
          [
           43
          ],
          [
           25
          ]
         ],
         "domain": {
          "x": [
           0,
           1
          ],
          "y": [
           0,
           1
          ]
         },
         "hovertemplate": "labels=%{label}<br>rubric_sum=%{value}<br>parent=%{parent}<br>id=%{id}<br>rubric=%{color}<extra></extra>",
         "ids": [
          "Agriculture and Nutrition",
          "Air Quality",
          "Atmosphere",
          "Battery",
          "Bioenergy",
          "Biosphere",
          "Buildings and Heating",
          "Carbon Capture and Removel",
          "Carbon Intensity and Accounting",
          "Circular Economy and Waste",
          "Climate Data Processing and Access",
          "Computation and Communication",
          "Cryosphere",
          "Curated Lists",
          "Data Catalogs and Interfaces",
          "Datasets on Energy Systems",
          "Earth Observation and Climate Monitoring",
          "Earth and Climate Modeling",
          "Emission Observation and Modeling",
          "Energy Distribution and Grids",
          "Energy Modeling and Optimization",
          "Energy Monitoring and Control",
          "Geothermal Energy",
          "Hydro Energy",
          "Hydrogen",
          "Hydrosphere",
          "Integrated Assessment",
          "Knowledge Platforms",
          "Life Cycle Assessment",
          "Meteorological Observation",
          "Mobility and Transportation",
          "Natural Hazard and Poverty",
          "Photovoltaics and Solar Energy",
          "Production and Industry",
          "Radiative Transfer",
          "Soil and Land",
          "Sustainable Development Goals",
          "Sustainable Investment",
          "Water Supply",
          "Wind Energy"
         ],
         "labels": [
          "Agriculture and Nutrition",
          "Air Quality",
          "Atmosphere",
          "Battery",
          "Bioenergy",
          "Biosphere",
          "Buildings and Heating",
          "Carbon Capture and Removel",
          "Carbon Intensity and Accounting",
          "Circular Economy and Waste",
          "Climate Data Processing and Access",
          "Computation and Communication",
          "Cryosphere",
          "Curated Lists",
          "Data Catalogs and Interfaces",
          "Datasets on Energy Systems",
          "Earth Observation and Climate Monitoring",
          "Earth and Climate Modeling",
          "Emission Observation and Modeling",
          "Energy Distribution and Grids",
          "Energy Modeling and Optimization",
          "Energy Monitoring and Control",
          "Geothermal Energy",
          "Hydro Energy",
          "Hydrogen",
          "Hydrosphere",
          "Integrated Assessment",
          "Knowledge Platforms",
          "Life Cycle Assessment",
          "Meteorological Observation",
          "Mobility and Transportation",
          "Natural Hazard and Poverty",
          "Photovoltaics and Solar Energy",
          "Production and Industry",
          "Radiative Transfer",
          "Soil and Land",
          "Sustainable Development Goals",
          "Sustainable Investment",
          "Water Supply",
          "Wind Energy"
         ],
         "marker": {
          "coloraxis": "coloraxis",
          "colors": [
           23,
           20,
           17,
           10,
           2,
           64,
           36,
           4,
           12,
           9,
           44,
           18,
           17,
           15,
           28,
           15,
           6,
           40,
           14,
           22,
           66,
           6,
           5,
           8,
           7,
           51,
           3,
           11,
           9,
           7,
           49,
           10,
           35,
           1,
           8,
           26,
           4,
           9,
           43,
           25
          ]
         },
         "name": "",
         "parents": [
          "",
          "",
          "",
          "",
          "",
          "",
          "",
          "",
          "",
          "",
          "",
          "",
          "",
          "",
          "",
          "",
          "",
          "",
          "",
          "",
          "",
          "",
          "",
          "",
          "",
          "",
          "",
          "",
          "",
          "",
          "",
          "",
          "",
          "",
          "",
          "",
          "",
          "",
          "",
          ""
         ],
         "type": "treemap",
         "values": [
          23,
          20,
          17,
          10,
          2,
          64,
          36,
          4,
          12,
          9,
          44,
          18,
          17,
          15,
          28,
          15,
          6,
          40,
          14,
          22,
          66,
          6,
          5,
          8,
          7,
          51,
          3,
          11,
          9,
          7,
          49,
          10,
          35,
          1,
          8,
          26,
          4,
          9,
          43,
          25
         ]
        }
       ],
       "layout": {
        "autosize": false,
        "coloraxis": {
         "colorbar": {
          "title": {
           "text": "rubric"
          }
         },
         "colorscale": [
          [
           0,
           "#0d0887"
          ],
          [
           0.1111111111111111,
           "#46039f"
          ],
          [
           0.2222222222222222,
           "#7201a8"
          ],
          [
           0.3333333333333333,
           "#9c179e"
          ],
          [
           0.4444444444444444,
           "#bd3786"
          ],
          [
           0.5555555555555556,
           "#d8576b"
          ],
          [
           0.6666666666666666,
           "#ed7953"
          ],
          [
           0.7777777777777778,
           "#fb9f3a"
          ],
          [
           0.8888888888888888,
           "#fdca26"
          ],
          [
           1,
           "#f0f921"
          ]
         ],
         "showscale": false
        },
        "height": 700,
        "legend": {
         "tracegroupgap": 0
        },
        "margin": {
         "b": 0,
         "l": 0,
         "r": 0,
         "t": 0
        },
        "paper_bgcolor": "lightgray",
        "template": {
         "data": {
          "bar": [
           {
            "error_x": {
             "color": "#2a3f5f"
            },
            "error_y": {
             "color": "#2a3f5f"
            },
            "marker": {
             "line": {
              "color": "#E5ECF6",
              "width": 0.5
             },
             "pattern": {
              "fillmode": "overlay",
              "size": 10,
              "solidity": 0.2
             }
            },
            "type": "bar"
           }
          ],
          "barpolar": [
           {
            "marker": {
             "line": {
              "color": "#E5ECF6",
              "width": 0.5
             },
             "pattern": {
              "fillmode": "overlay",
              "size": 10,
              "solidity": 0.2
             }
            },
            "type": "barpolar"
           }
          ],
          "carpet": [
           {
            "aaxis": {
             "endlinecolor": "#2a3f5f",
             "gridcolor": "white",
             "linecolor": "white",
             "minorgridcolor": "white",
             "startlinecolor": "#2a3f5f"
            },
            "baxis": {
             "endlinecolor": "#2a3f5f",
             "gridcolor": "white",
             "linecolor": "white",
             "minorgridcolor": "white",
             "startlinecolor": "#2a3f5f"
            },
            "type": "carpet"
           }
          ],
          "choropleth": [
           {
            "colorbar": {
             "outlinewidth": 0,
             "ticks": ""
            },
            "type": "choropleth"
           }
          ],
          "contour": [
           {
            "colorbar": {
             "outlinewidth": 0,
             "ticks": ""
            },
            "colorscale": [
             [
              0,
              "#0d0887"
             ],
             [
              0.1111111111111111,
              "#46039f"
             ],
             [
              0.2222222222222222,
              "#7201a8"
             ],
             [
              0.3333333333333333,
              "#9c179e"
             ],
             [
              0.4444444444444444,
              "#bd3786"
             ],
             [
              0.5555555555555556,
              "#d8576b"
             ],
             [
              0.6666666666666666,
              "#ed7953"
             ],
             [
              0.7777777777777778,
              "#fb9f3a"
             ],
             [
              0.8888888888888888,
              "#fdca26"
             ],
             [
              1,
              "#f0f921"
             ]
            ],
            "type": "contour"
           }
          ],
          "contourcarpet": [
           {
            "colorbar": {
             "outlinewidth": 0,
             "ticks": ""
            },
            "type": "contourcarpet"
           }
          ],
          "heatmap": [
           {
            "colorbar": {
             "outlinewidth": 0,
             "ticks": ""
            },
            "colorscale": [
             [
              0,
              "#0d0887"
             ],
             [
              0.1111111111111111,
              "#46039f"
             ],
             [
              0.2222222222222222,
              "#7201a8"
             ],
             [
              0.3333333333333333,
              "#9c179e"
             ],
             [
              0.4444444444444444,
              "#bd3786"
             ],
             [
              0.5555555555555556,
              "#d8576b"
             ],
             [
              0.6666666666666666,
              "#ed7953"
             ],
             [
              0.7777777777777778,
              "#fb9f3a"
             ],
             [
              0.8888888888888888,
              "#fdca26"
             ],
             [
              1,
              "#f0f921"
             ]
            ],
            "type": "heatmap"
           }
          ],
          "heatmapgl": [
           {
            "colorbar": {
             "outlinewidth": 0,
             "ticks": ""
            },
            "colorscale": [
             [
              0,
              "#0d0887"
             ],
             [
              0.1111111111111111,
              "#46039f"
             ],
             [
              0.2222222222222222,
              "#7201a8"
             ],
             [
              0.3333333333333333,
              "#9c179e"
             ],
             [
              0.4444444444444444,
              "#bd3786"
             ],
             [
              0.5555555555555556,
              "#d8576b"
             ],
             [
              0.6666666666666666,
              "#ed7953"
             ],
             [
              0.7777777777777778,
              "#fb9f3a"
             ],
             [
              0.8888888888888888,
              "#fdca26"
             ],
             [
              1,
              "#f0f921"
             ]
            ],
            "type": "heatmapgl"
           }
          ],
          "histogram": [
           {
            "marker": {
             "pattern": {
              "fillmode": "overlay",
              "size": 10,
              "solidity": 0.2
             }
            },
            "type": "histogram"
           }
          ],
          "histogram2d": [
           {
            "colorbar": {
             "outlinewidth": 0,
             "ticks": ""
            },
            "colorscale": [
             [
              0,
              "#0d0887"
             ],
             [
              0.1111111111111111,
              "#46039f"
             ],
             [
              0.2222222222222222,
              "#7201a8"
             ],
             [
              0.3333333333333333,
              "#9c179e"
             ],
             [
              0.4444444444444444,
              "#bd3786"
             ],
             [
              0.5555555555555556,
              "#d8576b"
             ],
             [
              0.6666666666666666,
              "#ed7953"
             ],
             [
              0.7777777777777778,
              "#fb9f3a"
             ],
             [
              0.8888888888888888,
              "#fdca26"
             ],
             [
              1,
              "#f0f921"
             ]
            ],
            "type": "histogram2d"
           }
          ],
          "histogram2dcontour": [
           {
            "colorbar": {
             "outlinewidth": 0,
             "ticks": ""
            },
            "colorscale": [
             [
              0,
              "#0d0887"
             ],
             [
              0.1111111111111111,
              "#46039f"
             ],
             [
              0.2222222222222222,
              "#7201a8"
             ],
             [
              0.3333333333333333,
              "#9c179e"
             ],
             [
              0.4444444444444444,
              "#bd3786"
             ],
             [
              0.5555555555555556,
              "#d8576b"
             ],
             [
              0.6666666666666666,
              "#ed7953"
             ],
             [
              0.7777777777777778,
              "#fb9f3a"
             ],
             [
              0.8888888888888888,
              "#fdca26"
             ],
             [
              1,
              "#f0f921"
             ]
            ],
            "type": "histogram2dcontour"
           }
          ],
          "mesh3d": [
           {
            "colorbar": {
             "outlinewidth": 0,
             "ticks": ""
            },
            "type": "mesh3d"
           }
          ],
          "parcoords": [
           {
            "line": {
             "colorbar": {
              "outlinewidth": 0,
              "ticks": ""
             }
            },
            "type": "parcoords"
           }
          ],
          "pie": [
           {
            "automargin": true,
            "type": "pie"
           }
          ],
          "scatter": [
           {
            "marker": {
             "colorbar": {
              "outlinewidth": 0,
              "ticks": ""
             }
            },
            "type": "scatter"
           }
          ],
          "scatter3d": [
           {
            "line": {
             "colorbar": {
              "outlinewidth": 0,
              "ticks": ""
             }
            },
            "marker": {
             "colorbar": {
              "outlinewidth": 0,
              "ticks": ""
             }
            },
            "type": "scatter3d"
           }
          ],
          "scattercarpet": [
           {
            "marker": {
             "colorbar": {
              "outlinewidth": 0,
              "ticks": ""
             }
            },
            "type": "scattercarpet"
           }
          ],
          "scattergeo": [
           {
            "marker": {
             "colorbar": {
              "outlinewidth": 0,
              "ticks": ""
             }
            },
            "type": "scattergeo"
           }
          ],
          "scattergl": [
           {
            "marker": {
             "colorbar": {
              "outlinewidth": 0,
              "ticks": ""
             }
            },
            "type": "scattergl"
           }
          ],
          "scattermapbox": [
           {
            "marker": {
             "colorbar": {
              "outlinewidth": 0,
              "ticks": ""
             }
            },
            "type": "scattermapbox"
           }
          ],
          "scatterpolar": [
           {
            "marker": {
             "colorbar": {
              "outlinewidth": 0,
              "ticks": ""
             }
            },
            "type": "scatterpolar"
           }
          ],
          "scatterpolargl": [
           {
            "marker": {
             "colorbar": {
              "outlinewidth": 0,
              "ticks": ""
             }
            },
            "type": "scatterpolargl"
           }
          ],
          "scatterternary": [
           {
            "marker": {
             "colorbar": {
              "outlinewidth": 0,
              "ticks": ""
             }
            },
            "type": "scatterternary"
           }
          ],
          "surface": [
           {
            "colorbar": {
             "outlinewidth": 0,
             "ticks": ""
            },
            "colorscale": [
             [
              0,
              "#0d0887"
             ],
             [
              0.1111111111111111,
              "#46039f"
             ],
             [
              0.2222222222222222,
              "#7201a8"
             ],
             [
              0.3333333333333333,
              "#9c179e"
             ],
             [
              0.4444444444444444,
              "#bd3786"
             ],
             [
              0.5555555555555556,
              "#d8576b"
             ],
             [
              0.6666666666666666,
              "#ed7953"
             ],
             [
              0.7777777777777778,
              "#fb9f3a"
             ],
             [
              0.8888888888888888,
              "#fdca26"
             ],
             [
              1,
              "#f0f921"
             ]
            ],
            "type": "surface"
           }
          ],
          "table": [
           {
            "cells": {
             "fill": {
              "color": "#EBF0F8"
             },
             "line": {
              "color": "white"
             }
            },
            "header": {
             "fill": {
              "color": "#C8D4E3"
             },
             "line": {
              "color": "white"
             }
            },
            "type": "table"
           }
          ]
         },
         "layout": {
          "annotationdefaults": {
           "arrowcolor": "#2a3f5f",
           "arrowhead": 0,
           "arrowwidth": 1
          },
          "autotypenumbers": "strict",
          "coloraxis": {
           "colorbar": {
            "outlinewidth": 0,
            "ticks": ""
           }
          },
          "colorscale": {
           "diverging": [
            [
             0,
             "#8e0152"
            ],
            [
             0.1,
             "#c51b7d"
            ],
            [
             0.2,
             "#de77ae"
            ],
            [
             0.3,
             "#f1b6da"
            ],
            [
             0.4,
             "#fde0ef"
            ],
            [
             0.5,
             "#f7f7f7"
            ],
            [
             0.6,
             "#e6f5d0"
            ],
            [
             0.7,
             "#b8e186"
            ],
            [
             0.8,
             "#7fbc41"
            ],
            [
             0.9,
             "#4d9221"
            ],
            [
             1,
             "#276419"
            ]
           ],
           "sequential": [
            [
             0,
             "#0d0887"
            ],
            [
             0.1111111111111111,
             "#46039f"
            ],
            [
             0.2222222222222222,
             "#7201a8"
            ],
            [
             0.3333333333333333,
             "#9c179e"
            ],
            [
             0.4444444444444444,
             "#bd3786"
            ],
            [
             0.5555555555555556,
             "#d8576b"
            ],
            [
             0.6666666666666666,
             "#ed7953"
            ],
            [
             0.7777777777777778,
             "#fb9f3a"
            ],
            [
             0.8888888888888888,
             "#fdca26"
            ],
            [
             1,
             "#f0f921"
            ]
           ],
           "sequentialminus": [
            [
             0,
             "#0d0887"
            ],
            [
             0.1111111111111111,
             "#46039f"
            ],
            [
             0.2222222222222222,
             "#7201a8"
            ],
            [
             0.3333333333333333,
             "#9c179e"
            ],
            [
             0.4444444444444444,
             "#bd3786"
            ],
            [
             0.5555555555555556,
             "#d8576b"
            ],
            [
             0.6666666666666666,
             "#ed7953"
            ],
            [
             0.7777777777777778,
             "#fb9f3a"
            ],
            [
             0.8888888888888888,
             "#fdca26"
            ],
            [
             1,
             "#f0f921"
            ]
           ]
          },
          "colorway": [
           "#636efa",
           "#EF553B",
           "#00cc96",
           "#ab63fa",
           "#FFA15A",
           "#19d3f3",
           "#FF6692",
           "#B6E880",
           "#FF97FF",
           "#FECB52"
          ],
          "font": {
           "color": "#2a3f5f"
          },
          "geo": {
           "bgcolor": "white",
           "lakecolor": "white",
           "landcolor": "#E5ECF6",
           "showlakes": true,
           "showland": true,
           "subunitcolor": "white"
          },
          "hoverlabel": {
           "align": "left"
          },
          "hovermode": "closest",
          "mapbox": {
           "style": "light"
          },
          "paper_bgcolor": "white",
          "plot_bgcolor": "#E5ECF6",
          "polar": {
           "angularaxis": {
            "gridcolor": "white",
            "linecolor": "white",
            "ticks": ""
           },
           "bgcolor": "#E5ECF6",
           "radialaxis": {
            "gridcolor": "white",
            "linecolor": "white",
            "ticks": ""
           }
          },
          "scene": {
           "xaxis": {
            "backgroundcolor": "#E5ECF6",
            "gridcolor": "white",
            "gridwidth": 2,
            "linecolor": "white",
            "showbackground": true,
            "ticks": "",
            "zerolinecolor": "white"
           },
           "yaxis": {
            "backgroundcolor": "#E5ECF6",
            "gridcolor": "white",
            "gridwidth": 2,
            "linecolor": "white",
            "showbackground": true,
            "ticks": "",
            "zerolinecolor": "white"
           },
           "zaxis": {
            "backgroundcolor": "#E5ECF6",
            "gridcolor": "white",
            "gridwidth": 2,
            "linecolor": "white",
            "showbackground": true,
            "ticks": "",
            "zerolinecolor": "white"
           }
          },
          "shapedefaults": {
           "line": {
            "color": "#2a3f5f"
           }
          },
          "ternary": {
           "aaxis": {
            "gridcolor": "white",
            "linecolor": "white",
            "ticks": ""
           },
           "baxis": {
            "gridcolor": "white",
            "linecolor": "white",
            "ticks": ""
           },
           "bgcolor": "#E5ECF6",
           "caxis": {
            "gridcolor": "white",
            "linecolor": "white",
            "ticks": ""
           }
          },
          "title": {
           "x": 0.05
          },
          "xaxis": {
           "automargin": true,
           "gridcolor": "white",
           "linecolor": "white",
           "ticks": "",
           "title": {
            "standoff": 15
           },
           "zerolinecolor": "white",
           "zerolinewidth": 2
          },
          "yaxis": {
           "automargin": true,
           "gridcolor": "white",
           "linecolor": "white",
           "ticks": "",
           "title": {
            "standoff": 15
           },
           "zerolinecolor": "white",
           "zerolinewidth": 2
          }
         }
        },
        "uniformtext": {
         "minsize": 15,
         "mode": "show"
        },
        "width": 2100
       }
      },
      "text/html": [
       "<div>                            <div id=\"1a4f9e59-8fa0-489c-8fb8-0192d8f48512\" class=\"plotly-graph-div\" style=\"height:700px; width:2100px;\"></div>            <script type=\"text/javascript\">                require([\"plotly\"], function(Plotly) {                    window.PLOTLYENV=window.PLOTLYENV || {};                                    if (document.getElementById(\"1a4f9e59-8fa0-489c-8fb8-0192d8f48512\")) {                    Plotly.newPlot(                        \"1a4f9e59-8fa0-489c-8fb8-0192d8f48512\",                        [{\"branchvalues\":\"total\",\"customdata\":[[23.0],[20.0],[17.0],[10.0],[2.0],[64.0],[36.0],[4.0],[12.0],[9.0],[44.0],[18.0],[17.0],[15.0],[28.0],[15.0],[6.0],[40.0],[14.0],[22.0],[66.0],[6.0],[5.0],[8.0],[7.0],[51.0],[3.0],[11.0],[9.0],[7.0],[49.0],[10.0],[35.0],[1.0],[8.0],[26.0],[4.0],[9.0],[43.0],[25.0]],\"domain\":{\"x\":[0.0,1.0],\"y\":[0.0,1.0]},\"hovertemplate\":\"labels=%{label}<br>rubric_sum=%{value}<br>parent=%{parent}<br>id=%{id}<br>rubric=%{color}<extra></extra>\",\"ids\":[\"Agriculture and Nutrition\",\"Air Quality\",\"Atmosphere\",\"Battery\",\"Bioenergy\",\"Biosphere\",\"Buildings and Heating\",\"Carbon Capture and Removel\",\"Carbon Intensity and Accounting\",\"Circular Economy and Waste\",\"Climate Data Processing and Access\",\"Computation and Communication\",\"Cryosphere\",\"Curated Lists\",\"Data Catalogs and Interfaces\",\"Datasets on Energy Systems\",\"Earth Observation and Climate Monitoring\",\"Earth and Climate Modeling\",\"Emission Observation and Modeling\",\"Energy Distribution and Grids\",\"Energy Modeling and Optimization\",\"Energy Monitoring and Control\",\"Geothermal Energy\",\"Hydro Energy\",\"Hydrogen\",\"Hydrosphere\",\"Integrated Assessment\",\"Knowledge Platforms\",\"Life Cycle Assessment\",\"Meteorological Observation\",\"Mobility and Transportation\",\"Natural Hazard and Poverty\",\"Photovoltaics and Solar Energy\",\"Production and Industry\",\"Radiative Transfer\",\"Soil and Land\",\"Sustainable Development Goals\",\"Sustainable Investment\",\"Water Supply\",\"Wind Energy\"],\"labels\":[\"Agriculture and Nutrition\",\"Air Quality\",\"Atmosphere\",\"Battery\",\"Bioenergy\",\"Biosphere\",\"Buildings and Heating\",\"Carbon Capture and Removel\",\"Carbon Intensity and Accounting\",\"Circular Economy and Waste\",\"Climate Data Processing and Access\",\"Computation and Communication\",\"Cryosphere\",\"Curated Lists\",\"Data Catalogs and Interfaces\",\"Datasets on Energy Systems\",\"Earth Observation and Climate Monitoring\",\"Earth and Climate Modeling\",\"Emission Observation and Modeling\",\"Energy Distribution and Grids\",\"Energy Modeling and Optimization\",\"Energy Monitoring and Control\",\"Geothermal Energy\",\"Hydro Energy\",\"Hydrogen\",\"Hydrosphere\",\"Integrated Assessment\",\"Knowledge Platforms\",\"Life Cycle Assessment\",\"Meteorological Observation\",\"Mobility and Transportation\",\"Natural Hazard and Poverty\",\"Photovoltaics and Solar Energy\",\"Production and Industry\",\"Radiative Transfer\",\"Soil and Land\",\"Sustainable Development Goals\",\"Sustainable Investment\",\"Water Supply\",\"Wind Energy\"],\"marker\":{\"coloraxis\":\"coloraxis\",\"colors\":[23.0,20.0,17.0,10.0,2.0,64.0,36.0,4.0,12.0,9.0,44.0,18.0,17.0,15.0,28.0,15.0,6.0,40.0,14.0,22.0,66.0,6.0,5.0,8.0,7.0,51.0,3.0,11.0,9.0,7.0,49.0,10.0,35.0,1.0,8.0,26.0,4.0,9.0,43.0,25.0]},\"name\":\"\",\"parents\":[\"\",\"\",\"\",\"\",\"\",\"\",\"\",\"\",\"\",\"\",\"\",\"\",\"\",\"\",\"\",\"\",\"\",\"\",\"\",\"\",\"\",\"\",\"\",\"\",\"\",\"\",\"\",\"\",\"\",\"\",\"\",\"\",\"\",\"\",\"\",\"\",\"\",\"\",\"\",\"\"],\"type\":\"treemap\",\"values\":[23,20,17,10,2,64,36,4,12,9,44,18,17,15,28,15,6,40,14,22,66,6,5,8,7,51,3,11,9,7,49,10,35,1,8,26,4,9,43,25]}],                        {\"autosize\":false,\"coloraxis\":{\"colorbar\":{\"title\":{\"text\":\"rubric\"}},\"colorscale\":[[0.0,\"#0d0887\"],[0.1111111111111111,\"#46039f\"],[0.2222222222222222,\"#7201a8\"],[0.3333333333333333,\"#9c179e\"],[0.4444444444444444,\"#bd3786\"],[0.5555555555555556,\"#d8576b\"],[0.6666666666666666,\"#ed7953\"],[0.7777777777777778,\"#fb9f3a\"],[0.8888888888888888,\"#fdca26\"],[1.0,\"#f0f921\"]],\"showscale\":false},\"height\":700,\"legend\":{\"tracegroupgap\":0},\"margin\":{\"b\":0,\"l\":0,\"r\":0,\"t\":0},\"paper_bgcolor\":\"lightgray\",\"template\":{\"data\":{\"bar\":[{\"error_x\":{\"color\":\"#2a3f5f\"},\"error_y\":{\"color\":\"#2a3f5f\"},\"marker\":{\"line\":{\"color\":\"#E5ECF6\",\"width\":0.5},\"pattern\":{\"fillmode\":\"overlay\",\"size\":10,\"solidity\":0.2}},\"type\":\"bar\"}],\"barpolar\":[{\"marker\":{\"line\":{\"color\":\"#E5ECF6\",\"width\":0.5},\"pattern\":{\"fillmode\":\"overlay\",\"size\":10,\"solidity\":0.2}},\"type\":\"barpolar\"}],\"carpet\":[{\"aaxis\":{\"endlinecolor\":\"#2a3f5f\",\"gridcolor\":\"white\",\"linecolor\":\"white\",\"minorgridcolor\":\"white\",\"startlinecolor\":\"#2a3f5f\"},\"baxis\":{\"endlinecolor\":\"#2a3f5f\",\"gridcolor\":\"white\",\"linecolor\":\"white\",\"minorgridcolor\":\"white\",\"startlinecolor\":\"#2a3f5f\"},\"type\":\"carpet\"}],\"choropleth\":[{\"colorbar\":{\"outlinewidth\":0,\"ticks\":\"\"},\"type\":\"choropleth\"}],\"contour\":[{\"colorbar\":{\"outlinewidth\":0,\"ticks\":\"\"},\"colorscale\":[[0.0,\"#0d0887\"],[0.1111111111111111,\"#46039f\"],[0.2222222222222222,\"#7201a8\"],[0.3333333333333333,\"#9c179e\"],[0.4444444444444444,\"#bd3786\"],[0.5555555555555556,\"#d8576b\"],[0.6666666666666666,\"#ed7953\"],[0.7777777777777778,\"#fb9f3a\"],[0.8888888888888888,\"#fdca26\"],[1.0,\"#f0f921\"]],\"type\":\"contour\"}],\"contourcarpet\":[{\"colorbar\":{\"outlinewidth\":0,\"ticks\":\"\"},\"type\":\"contourcarpet\"}],\"heatmap\":[{\"colorbar\":{\"outlinewidth\":0,\"ticks\":\"\"},\"colorscale\":[[0.0,\"#0d0887\"],[0.1111111111111111,\"#46039f\"],[0.2222222222222222,\"#7201a8\"],[0.3333333333333333,\"#9c179e\"],[0.4444444444444444,\"#bd3786\"],[0.5555555555555556,\"#d8576b\"],[0.6666666666666666,\"#ed7953\"],[0.7777777777777778,\"#fb9f3a\"],[0.8888888888888888,\"#fdca26\"],[1.0,\"#f0f921\"]],\"type\":\"heatmap\"}],\"heatmapgl\":[{\"colorbar\":{\"outlinewidth\":0,\"ticks\":\"\"},\"colorscale\":[[0.0,\"#0d0887\"],[0.1111111111111111,\"#46039f\"],[0.2222222222222222,\"#7201a8\"],[0.3333333333333333,\"#9c179e\"],[0.4444444444444444,\"#bd3786\"],[0.5555555555555556,\"#d8576b\"],[0.6666666666666666,\"#ed7953\"],[0.7777777777777778,\"#fb9f3a\"],[0.8888888888888888,\"#fdca26\"],[1.0,\"#f0f921\"]],\"type\":\"heatmapgl\"}],\"histogram\":[{\"marker\":{\"pattern\":{\"fillmode\":\"overlay\",\"size\":10,\"solidity\":0.2}},\"type\":\"histogram\"}],\"histogram2d\":[{\"colorbar\":{\"outlinewidth\":0,\"ticks\":\"\"},\"colorscale\":[[0.0,\"#0d0887\"],[0.1111111111111111,\"#46039f\"],[0.2222222222222222,\"#7201a8\"],[0.3333333333333333,\"#9c179e\"],[0.4444444444444444,\"#bd3786\"],[0.5555555555555556,\"#d8576b\"],[0.6666666666666666,\"#ed7953\"],[0.7777777777777778,\"#fb9f3a\"],[0.8888888888888888,\"#fdca26\"],[1.0,\"#f0f921\"]],\"type\":\"histogram2d\"}],\"histogram2dcontour\":[{\"colorbar\":{\"outlinewidth\":0,\"ticks\":\"\"},\"colorscale\":[[0.0,\"#0d0887\"],[0.1111111111111111,\"#46039f\"],[0.2222222222222222,\"#7201a8\"],[0.3333333333333333,\"#9c179e\"],[0.4444444444444444,\"#bd3786\"],[0.5555555555555556,\"#d8576b\"],[0.6666666666666666,\"#ed7953\"],[0.7777777777777778,\"#fb9f3a\"],[0.8888888888888888,\"#fdca26\"],[1.0,\"#f0f921\"]],\"type\":\"histogram2dcontour\"}],\"mesh3d\":[{\"colorbar\":{\"outlinewidth\":0,\"ticks\":\"\"},\"type\":\"mesh3d\"}],\"parcoords\":[{\"line\":{\"colorbar\":{\"outlinewidth\":0,\"ticks\":\"\"}},\"type\":\"parcoords\"}],\"pie\":[{\"automargin\":true,\"type\":\"pie\"}],\"scatter\":[{\"marker\":{\"colorbar\":{\"outlinewidth\":0,\"ticks\":\"\"}},\"type\":\"scatter\"}],\"scatter3d\":[{\"line\":{\"colorbar\":{\"outlinewidth\":0,\"ticks\":\"\"}},\"marker\":{\"colorbar\":{\"outlinewidth\":0,\"ticks\":\"\"}},\"type\":\"scatter3d\"}],\"scattercarpet\":[{\"marker\":{\"colorbar\":{\"outlinewidth\":0,\"ticks\":\"\"}},\"type\":\"scattercarpet\"}],\"scattergeo\":[{\"marker\":{\"colorbar\":{\"outlinewidth\":0,\"ticks\":\"\"}},\"type\":\"scattergeo\"}],\"scattergl\":[{\"marker\":{\"colorbar\":{\"outlinewidth\":0,\"ticks\":\"\"}},\"type\":\"scattergl\"}],\"scattermapbox\":[{\"marker\":{\"colorbar\":{\"outlinewidth\":0,\"ticks\":\"\"}},\"type\":\"scattermapbox\"}],\"scatterpolar\":[{\"marker\":{\"colorbar\":{\"outlinewidth\":0,\"ticks\":\"\"}},\"type\":\"scatterpolar\"}],\"scatterpolargl\":[{\"marker\":{\"colorbar\":{\"outlinewidth\":0,\"ticks\":\"\"}},\"type\":\"scatterpolargl\"}],\"scatterternary\":[{\"marker\":{\"colorbar\":{\"outlinewidth\":0,\"ticks\":\"\"}},\"type\":\"scatterternary\"}],\"surface\":[{\"colorbar\":{\"outlinewidth\":0,\"ticks\":\"\"},\"colorscale\":[[0.0,\"#0d0887\"],[0.1111111111111111,\"#46039f\"],[0.2222222222222222,\"#7201a8\"],[0.3333333333333333,\"#9c179e\"],[0.4444444444444444,\"#bd3786\"],[0.5555555555555556,\"#d8576b\"],[0.6666666666666666,\"#ed7953\"],[0.7777777777777778,\"#fb9f3a\"],[0.8888888888888888,\"#fdca26\"],[1.0,\"#f0f921\"]],\"type\":\"surface\"}],\"table\":[{\"cells\":{\"fill\":{\"color\":\"#EBF0F8\"},\"line\":{\"color\":\"white\"}},\"header\":{\"fill\":{\"color\":\"#C8D4E3\"},\"line\":{\"color\":\"white\"}},\"type\":\"table\"}]},\"layout\":{\"annotationdefaults\":{\"arrowcolor\":\"#2a3f5f\",\"arrowhead\":0,\"arrowwidth\":1},\"autotypenumbers\":\"strict\",\"coloraxis\":{\"colorbar\":{\"outlinewidth\":0,\"ticks\":\"\"}},\"colorscale\":{\"diverging\":[[0,\"#8e0152\"],[0.1,\"#c51b7d\"],[0.2,\"#de77ae\"],[0.3,\"#f1b6da\"],[0.4,\"#fde0ef\"],[0.5,\"#f7f7f7\"],[0.6,\"#e6f5d0\"],[0.7,\"#b8e186\"],[0.8,\"#7fbc41\"],[0.9,\"#4d9221\"],[1,\"#276419\"]],\"sequential\":[[0.0,\"#0d0887\"],[0.1111111111111111,\"#46039f\"],[0.2222222222222222,\"#7201a8\"],[0.3333333333333333,\"#9c179e\"],[0.4444444444444444,\"#bd3786\"],[0.5555555555555556,\"#d8576b\"],[0.6666666666666666,\"#ed7953\"],[0.7777777777777778,\"#fb9f3a\"],[0.8888888888888888,\"#fdca26\"],[1.0,\"#f0f921\"]],\"sequentialminus\":[[0.0,\"#0d0887\"],[0.1111111111111111,\"#46039f\"],[0.2222222222222222,\"#7201a8\"],[0.3333333333333333,\"#9c179e\"],[0.4444444444444444,\"#bd3786\"],[0.5555555555555556,\"#d8576b\"],[0.6666666666666666,\"#ed7953\"],[0.7777777777777778,\"#fb9f3a\"],[0.8888888888888888,\"#fdca26\"],[1.0,\"#f0f921\"]]},\"colorway\":[\"#636efa\",\"#EF553B\",\"#00cc96\",\"#ab63fa\",\"#FFA15A\",\"#19d3f3\",\"#FF6692\",\"#B6E880\",\"#FF97FF\",\"#FECB52\"],\"font\":{\"color\":\"#2a3f5f\"},\"geo\":{\"bgcolor\":\"white\",\"lakecolor\":\"white\",\"landcolor\":\"#E5ECF6\",\"showlakes\":true,\"showland\":true,\"subunitcolor\":\"white\"},\"hoverlabel\":{\"align\":\"left\"},\"hovermode\":\"closest\",\"mapbox\":{\"style\":\"light\"},\"paper_bgcolor\":\"white\",\"plot_bgcolor\":\"#E5ECF6\",\"polar\":{\"angularaxis\":{\"gridcolor\":\"white\",\"linecolor\":\"white\",\"ticks\":\"\"},\"bgcolor\":\"#E5ECF6\",\"radialaxis\":{\"gridcolor\":\"white\",\"linecolor\":\"white\",\"ticks\":\"\"}},\"scene\":{\"xaxis\":{\"backgroundcolor\":\"#E5ECF6\",\"gridcolor\":\"white\",\"gridwidth\":2,\"linecolor\":\"white\",\"showbackground\":true,\"ticks\":\"\",\"zerolinecolor\":\"white\"},\"yaxis\":{\"backgroundcolor\":\"#E5ECF6\",\"gridcolor\":\"white\",\"gridwidth\":2,\"linecolor\":\"white\",\"showbackground\":true,\"ticks\":\"\",\"zerolinecolor\":\"white\"},\"zaxis\":{\"backgroundcolor\":\"#E5ECF6\",\"gridcolor\":\"white\",\"gridwidth\":2,\"linecolor\":\"white\",\"showbackground\":true,\"ticks\":\"\",\"zerolinecolor\":\"white\"}},\"shapedefaults\":{\"line\":{\"color\":\"#2a3f5f\"}},\"ternary\":{\"aaxis\":{\"gridcolor\":\"white\",\"linecolor\":\"white\",\"ticks\":\"\"},\"baxis\":{\"gridcolor\":\"white\",\"linecolor\":\"white\",\"ticks\":\"\"},\"bgcolor\":\"#E5ECF6\",\"caxis\":{\"gridcolor\":\"white\",\"linecolor\":\"white\",\"ticks\":\"\"}},\"title\":{\"x\":0.05},\"xaxis\":{\"automargin\":true,\"gridcolor\":\"white\",\"linecolor\":\"white\",\"ticks\":\"\",\"title\":{\"standoff\":15},\"zerolinecolor\":\"white\",\"zerolinewidth\":2},\"yaxis\":{\"automargin\":true,\"gridcolor\":\"white\",\"linecolor\":\"white\",\"ticks\":\"\",\"title\":{\"standoff\":15},\"zerolinecolor\":\"white\",\"zerolinewidth\":2}}},\"uniformtext\":{\"minsize\":15,\"mode\":\"show\"},\"width\":2100},                        {\"responsive\": true}                    ).then(function(){\n",
       "                            \n",
       "var gd = document.getElementById('1a4f9e59-8fa0-489c-8fb8-0192d8f48512');\n",
       "var x = new MutationObserver(function (mutations, observer) {{\n",
       "        var display = window.getComputedStyle(gd).display;\n",
       "        if (!display || display === 'none') {{\n",
       "            console.log([gd, 'removed!']);\n",
       "            Plotly.purge(gd);\n",
       "            observer.disconnect();\n",
       "        }}\n",
       "}});\n",
       "\n",
       "// Listen for the removal of the full notebook cells\n",
       "var notebookContainer = gd.closest('#notebook-container');\n",
       "if (notebookContainer) {{\n",
       "    x.observe(notebookContainer, {childList: true});\n",
       "}}\n",
       "\n",
       "// Listen for the clearing of the current output cell\n",
       "var outputEl = gd.closest('.output');\n",
       "if (outputEl) {{\n",
       "    x.observe(outputEl, {childList: true});\n",
       "}}\n",
       "\n",
       "                        })                };                });            </script>        </div>"
      ]
     },
     "metadata": {},
     "output_type": "display_data"
    }
   ],
   "source": [
    "import plotly.express as px\n",
    "import numpy as np\n",
    "rubric_his = df['rubric'].value_counts().to_frame().rename_axis('rubric_name').reset_index()\n",
    "\n",
    "\n",
    "fig = px.treemap(rubric_his, path=['rubric_name'],\n",
    "                 values='rubric',\n",
    "                 color='rubric')\n",
    "\n",
    "fig.update_layout(coloraxis_showscale=False)\n",
    "fig.update_layout(\n",
    "    autosize=False,\n",
    "    paper_bgcolor=\"lightgray\",\n",
    "    height=700,  # Added parameter\n",
    "    width=2100,\n",
    "    uniformtext=dict(minsize=15, mode='show'),\n",
    "    margin = dict(t=0, l=0, r=0, b=0),\n",
    ")\n",
    "fig.show()"
   ]
  },
  {
   "cell_type": "code",
   "execution_count": 15,
   "metadata": {},
   "outputs": [
    {
     "data": {
      "text/html": [
       "<div>\n",
       "<style scoped>\n",
       "    .dataframe tbody tr th:only-of-type {\n",
       "        vertical-align: middle;\n",
       "    }\n",
       "\n",
       "    .dataframe tbody tr th {\n",
       "        vertical-align: top;\n",
       "    }\n",
       "\n",
       "    .dataframe thead th {\n",
       "        text-align: right;\n",
       "    }\n",
       "</style>\n",
       "<table border=\"1\" class=\"dataframe\">\n",
       "  <thead>\n",
       "    <tr style=\"text-align: right;\">\n",
       "      <th></th>\n",
       "      <th>organization_name</th>\n",
       "      <th>organization_user_name</th>\n",
       "      <th>organization_github_url</th>\n",
       "      <th>organization_website</th>\n",
       "      <th>location_city</th>\n",
       "      <th>location_country</th>\n",
       "      <th>form_of_organization</th>\n",
       "      <th>organization_avatar</th>\n",
       "      <th>organization_public_repos</th>\n",
       "      <th>organization_created</th>\n",
       "      <th>organization_last_update</th>\n",
       "    </tr>\n",
       "  </thead>\n",
       "  <tbody>\n",
       "    <tr>\n",
       "      <th>0</th>\n",
       "      <td>Switch</td>\n",
       "      <td>SwitchEV</td>\n",
       "      <td>https://github.com/SwitchEV</td>\n",
       "      <td>https://www.switch-ev.com</td>\n",
       "      <td>London</td>\n",
       "      <td>UK</td>\n",
       "      <td>for-profit</td>\n",
       "      <td>https://avatars.githubusercontent.com/u/303243...</td>\n",
       "      <td>8</td>\n",
       "      <td>2017-07-20 17:19</td>\n",
       "      <td>2021-11-18 15:38</td>\n",
       "    </tr>\n",
       "    <tr>\n",
       "      <th>1</th>\n",
       "      <td>Oasis Loss Modelling Framework</td>\n",
       "      <td>OasisLMF</td>\n",
       "      <td>https://github.com/OasisLMF</td>\n",
       "      <td>https://oasislmf.org/</td>\n",
       "      <td>London</td>\n",
       "      <td>UK</td>\n",
       "      <td>for-profit</td>\n",
       "      <td>https://avatars.githubusercontent.com/u/861632...</td>\n",
       "      <td>33</td>\n",
       "      <td>2014-09-01 14:52</td>\n",
       "      <td>2021-11-17 15:56</td>\n",
       "    </tr>\n",
       "    <tr>\n",
       "      <th>2</th>\n",
       "      <td>Sony Computer Science Laboratories, Inc.</td>\n",
       "      <td>SonyCSL</td>\n",
       "      <td>https://github.com/SonyCSL</td>\n",
       "      <td>http://www.sonycsl.co.jp/</td>\n",
       "      <td>Tokyo</td>\n",
       "      <td>Japan</td>\n",
       "      <td>for-profit</td>\n",
       "      <td>https://avatars.githubusercontent.com/u/234388...</td>\n",
       "      <td>35</td>\n",
       "      <td>2012-09-14 03:03</td>\n",
       "      <td>2021-03-10 11:11</td>\n",
       "    </tr>\n",
       "    <tr>\n",
       "      <th>3</th>\n",
       "      <td>ENECHANGE</td>\n",
       "      <td>enechange</td>\n",
       "      <td>https://github.com/enechange</td>\n",
       "      <td>https://enechange.co.jp</td>\n",
       "      <td>Tokyo</td>\n",
       "      <td>Japan</td>\n",
       "      <td>for-profit</td>\n",
       "      <td>https://avatars.githubusercontent.com/u/126531...</td>\n",
       "      <td>5</td>\n",
       "      <td>2015-05-29 03:09</td>\n",
       "      <td>2021-11-08 11:47</td>\n",
       "    </tr>\n",
       "    <tr>\n",
       "      <th>4</th>\n",
       "      <td>Organic Basics ApS</td>\n",
       "      <td>Organic-Basics</td>\n",
       "      <td>https://github.com/Organic-Basics</td>\n",
       "      <td>https://www.organicbasics.com</td>\n",
       "      <td>Copenhagen</td>\n",
       "      <td>Denmark</td>\n",
       "      <td>for-profit</td>\n",
       "      <td>https://avatars.githubusercontent.com/u/548485...</td>\n",
       "      <td>4</td>\n",
       "      <td>2019-09-03 12:53</td>\n",
       "      <td>2021-11-15 09:43</td>\n",
       "    </tr>\n",
       "    <tr>\n",
       "      <th>...</th>\n",
       "      <td>...</td>\n",
       "      <td>...</td>\n",
       "      <td>...</td>\n",
       "      <td>...</td>\n",
       "      <td>...</td>\n",
       "      <td>...</td>\n",
       "      <td>...</td>\n",
       "      <td>...</td>\n",
       "      <td>...</td>\n",
       "      <td>...</td>\n",
       "      <td>...</td>\n",
       "    </tr>\n",
       "    <tr>\n",
       "      <th>585</th>\n",
       "      <td>Digital Earth Africa</td>\n",
       "      <td>digitalearthafrica</td>\n",
       "      <td>https://github.com/digitalearthafrica</td>\n",
       "      <td>https://digitalearthafrica.org</td>\n",
       "      <td>NaN</td>\n",
       "      <td>NaN</td>\n",
       "      <td>NaN</td>\n",
       "      <td>https://avatars.githubusercontent.com/u/530309...</td>\n",
       "      <td>19</td>\n",
       "      <td>2019/07/18, 04:28:32</td>\n",
       "      <td>2022/07/16, 17:33:23</td>\n",
       "    </tr>\n",
       "    <tr>\n",
       "      <th>586</th>\n",
       "      <td>stac-utils</td>\n",
       "      <td>stac-utils</td>\n",
       "      <td>https://github.com/stac-utils</td>\n",
       "      <td>NaN</td>\n",
       "      <td>NaN</td>\n",
       "      <td>NaN</td>\n",
       "      <td>NaN</td>\n",
       "      <td>https://avatars.githubusercontent.com/u/580873...</td>\n",
       "      <td>27</td>\n",
       "      <td>2019/11/22, 18:31:25</td>\n",
       "      <td>2022/08/03, 22:05:52</td>\n",
       "    </tr>\n",
       "    <tr>\n",
       "      <th>587</th>\n",
       "      <td>NaN</td>\n",
       "      <td>JuliaDataCubes</td>\n",
       "      <td>https://github.com/JuliaDataCubes</td>\n",
       "      <td>NaN</td>\n",
       "      <td>NaN</td>\n",
       "      <td>NaN</td>\n",
       "      <td>NaN</td>\n",
       "      <td>https://avatars.githubusercontent.com/u/102149...</td>\n",
       "      <td>5</td>\n",
       "      <td>2022/03/22, 09:56:27</td>\n",
       "      <td>2022/03/29, 07:40:41</td>\n",
       "    </tr>\n",
       "    <tr>\n",
       "      <th>588</th>\n",
       "      <td>NaN</td>\n",
       "      <td>awesome-spectral-indices</td>\n",
       "      <td>https://github.com/awesome-spectral-indices</td>\n",
       "      <td>NaN</td>\n",
       "      <td>NaN</td>\n",
       "      <td>NaN</td>\n",
       "      <td>NaN</td>\n",
       "      <td>https://avatars.githubusercontent.com/u/105368...</td>\n",
       "      <td>4</td>\n",
       "      <td>2022/05/11, 13:36:05</td>\n",
       "      <td>2022/07/22, 02:43:05</td>\n",
       "    </tr>\n",
       "    <tr>\n",
       "      <th>589</th>\n",
       "      <td>NaN</td>\n",
       "      <td>capytaine</td>\n",
       "      <td>https://github.com/capytaine</td>\n",
       "      <td>NaN</td>\n",
       "      <td>NaN</td>\n",
       "      <td>NaN</td>\n",
       "      <td>NaN</td>\n",
       "      <td>https://avatars.githubusercontent.com/u/110032...</td>\n",
       "      <td>2</td>\n",
       "      <td>2022/07/26, 11:32:59</td>\n",
       "      <td>2022/08/05, 07:25:49</td>\n",
       "    </tr>\n",
       "  </tbody>\n",
       "</table>\n",
       "<p>590 rows × 11 columns</p>\n",
       "</div>"
      ],
      "text/plain": [
       "                            organization_name    organization_user_name  \\\n",
       "0                                      Switch                  SwitchEV   \n",
       "1              Oasis Loss Modelling Framework                  OasisLMF   \n",
       "2    Sony Computer Science Laboratories, Inc.                   SonyCSL   \n",
       "3                                   ENECHANGE                 enechange   \n",
       "4                          Organic Basics ApS            Organic-Basics   \n",
       "..                                        ...                       ...   \n",
       "585                      Digital Earth Africa        digitalearthafrica   \n",
       "586                                stac-utils                stac-utils   \n",
       "587                                       NaN            JuliaDataCubes   \n",
       "588                                       NaN  awesome-spectral-indices   \n",
       "589                                       NaN                 capytaine   \n",
       "\n",
       "                         organization_github_url  \\\n",
       "0                    https://github.com/SwitchEV   \n",
       "1                    https://github.com/OasisLMF   \n",
       "2                     https://github.com/SonyCSL   \n",
       "3                   https://github.com/enechange   \n",
       "4              https://github.com/Organic-Basics   \n",
       "..                                           ...   \n",
       "585        https://github.com/digitalearthafrica   \n",
       "586                https://github.com/stac-utils   \n",
       "587            https://github.com/JuliaDataCubes   \n",
       "588  https://github.com/awesome-spectral-indices   \n",
       "589                 https://github.com/capytaine   \n",
       "\n",
       "               organization_website location_city location_country  \\\n",
       "0         https://www.switch-ev.com        London               UK   \n",
       "1             https://oasislmf.org/        London               UK   \n",
       "2         http://www.sonycsl.co.jp/         Tokyo            Japan   \n",
       "3           https://enechange.co.jp         Tokyo            Japan   \n",
       "4     https://www.organicbasics.com    Copenhagen          Denmark   \n",
       "..                              ...           ...              ...   \n",
       "585  https://digitalearthafrica.org           NaN              NaN   \n",
       "586                             NaN           NaN              NaN   \n",
       "587                             NaN           NaN              NaN   \n",
       "588                             NaN           NaN              NaN   \n",
       "589                             NaN           NaN              NaN   \n",
       "\n",
       "    form_of_organization                                organization_avatar  \\\n",
       "0             for-profit  https://avatars.githubusercontent.com/u/303243...   \n",
       "1             for-profit  https://avatars.githubusercontent.com/u/861632...   \n",
       "2             for-profit  https://avatars.githubusercontent.com/u/234388...   \n",
       "3             for-profit  https://avatars.githubusercontent.com/u/126531...   \n",
       "4             for-profit  https://avatars.githubusercontent.com/u/548485...   \n",
       "..                   ...                                                ...   \n",
       "585                  NaN  https://avatars.githubusercontent.com/u/530309...   \n",
       "586                  NaN  https://avatars.githubusercontent.com/u/580873...   \n",
       "587                  NaN  https://avatars.githubusercontent.com/u/102149...   \n",
       "588                  NaN  https://avatars.githubusercontent.com/u/105368...   \n",
       "589                  NaN  https://avatars.githubusercontent.com/u/110032...   \n",
       "\n",
       "     organization_public_repos  organization_created organization_last_update  \n",
       "0                            8      2017-07-20 17:19         2021-11-18 15:38  \n",
       "1                           33      2014-09-01 14:52         2021-11-17 15:56  \n",
       "2                           35      2012-09-14 03:03         2021-03-10 11:11  \n",
       "3                            5      2015-05-29 03:09         2021-11-08 11:47  \n",
       "4                            4      2019-09-03 12:53         2021-11-15 09:43  \n",
       "..                         ...                   ...                      ...  \n",
       "585                         19  2019/07/18, 04:28:32     2022/07/16, 17:33:23  \n",
       "586                         27  2019/11/22, 18:31:25     2022/08/03, 22:05:52  \n",
       "587                          5  2022/03/22, 09:56:27     2022/03/29, 07:40:41  \n",
       "588                          4  2022/05/11, 13:36:05     2022/07/22, 02:43:05  \n",
       "589                          2  2022/07/26, 11:32:59     2022/08/05, 07:25:49  \n",
       "\n",
       "[590 rows x 11 columns]"
      ]
     },
     "execution_count": 14,
     "metadata": {},
     "output_type": "execute_result"
    }
   ],
   "source": [
    "df_organization=pd.read_csv('./csv/github_organizations.csv')\n",
    "df_organization"
   ]
  },
  {
   "cell_type": "code",
   "execution_count": 16,
   "metadata": {},
   "outputs": [
    {
     "name": "stdout",
     "output_type": "stream",
     "text": [
      "        organization  form_of_organization\n",
      "0           academia                   133\n",
      "1          community                   130\n",
      "2  government agency                    94\n",
      "3         for-profit                    77\n",
      "4         non-profit                    59\n",
      "5      collaboration                    42\n"
     ]
    },
    {
     "data": {
      "application/vnd.plotly.v1+json": {
       "config": {
        "plotlyServerURL": "https://plot.ly"
       },
       "data": [
        {
         "domain": {
          "x": [
           0,
           1
          ],
          "y": [
           0,
           1
          ]
         },
         "hovertemplate": "organization=%{label}<br>form_of_organization=%{value}<extra></extra>",
         "labels": [
          "academia",
          "community",
          "government agency",
          "for-profit",
          "non-profit",
          "collaboration"
         ],
         "legendgroup": "",
         "name": "",
         "showlegend": true,
         "type": "pie",
         "values": [
          133,
          130,
          94,
          77,
          59,
          42
         ]
        }
       ],
       "layout": {
        "legend": {
         "tracegroupgap": 0
        },
        "margin": {
         "t": 60
        },
        "template": {
         "data": {
          "bar": [
           {
            "error_x": {
             "color": "#2a3f5f"
            },
            "error_y": {
             "color": "#2a3f5f"
            },
            "marker": {
             "line": {
              "color": "#E5ECF6",
              "width": 0.5
             },
             "pattern": {
              "fillmode": "overlay",
              "size": 10,
              "solidity": 0.2
             }
            },
            "type": "bar"
           }
          ],
          "barpolar": [
           {
            "marker": {
             "line": {
              "color": "#E5ECF6",
              "width": 0.5
             },
             "pattern": {
              "fillmode": "overlay",
              "size": 10,
              "solidity": 0.2
             }
            },
            "type": "barpolar"
           }
          ],
          "carpet": [
           {
            "aaxis": {
             "endlinecolor": "#2a3f5f",
             "gridcolor": "white",
             "linecolor": "white",
             "minorgridcolor": "white",
             "startlinecolor": "#2a3f5f"
            },
            "baxis": {
             "endlinecolor": "#2a3f5f",
             "gridcolor": "white",
             "linecolor": "white",
             "minorgridcolor": "white",
             "startlinecolor": "#2a3f5f"
            },
            "type": "carpet"
           }
          ],
          "choropleth": [
           {
            "colorbar": {
             "outlinewidth": 0,
             "ticks": ""
            },
            "type": "choropleth"
           }
          ],
          "contour": [
           {
            "colorbar": {
             "outlinewidth": 0,
             "ticks": ""
            },
            "colorscale": [
             [
              0,
              "#0d0887"
             ],
             [
              0.1111111111111111,
              "#46039f"
             ],
             [
              0.2222222222222222,
              "#7201a8"
             ],
             [
              0.3333333333333333,
              "#9c179e"
             ],
             [
              0.4444444444444444,
              "#bd3786"
             ],
             [
              0.5555555555555556,
              "#d8576b"
             ],
             [
              0.6666666666666666,
              "#ed7953"
             ],
             [
              0.7777777777777778,
              "#fb9f3a"
             ],
             [
              0.8888888888888888,
              "#fdca26"
             ],
             [
              1,
              "#f0f921"
             ]
            ],
            "type": "contour"
           }
          ],
          "contourcarpet": [
           {
            "colorbar": {
             "outlinewidth": 0,
             "ticks": ""
            },
            "type": "contourcarpet"
           }
          ],
          "heatmap": [
           {
            "colorbar": {
             "outlinewidth": 0,
             "ticks": ""
            },
            "colorscale": [
             [
              0,
              "#0d0887"
             ],
             [
              0.1111111111111111,
              "#46039f"
             ],
             [
              0.2222222222222222,
              "#7201a8"
             ],
             [
              0.3333333333333333,
              "#9c179e"
             ],
             [
              0.4444444444444444,
              "#bd3786"
             ],
             [
              0.5555555555555556,
              "#d8576b"
             ],
             [
              0.6666666666666666,
              "#ed7953"
             ],
             [
              0.7777777777777778,
              "#fb9f3a"
             ],
             [
              0.8888888888888888,
              "#fdca26"
             ],
             [
              1,
              "#f0f921"
             ]
            ],
            "type": "heatmap"
           }
          ],
          "heatmapgl": [
           {
            "colorbar": {
             "outlinewidth": 0,
             "ticks": ""
            },
            "colorscale": [
             [
              0,
              "#0d0887"
             ],
             [
              0.1111111111111111,
              "#46039f"
             ],
             [
              0.2222222222222222,
              "#7201a8"
             ],
             [
              0.3333333333333333,
              "#9c179e"
             ],
             [
              0.4444444444444444,
              "#bd3786"
             ],
             [
              0.5555555555555556,
              "#d8576b"
             ],
             [
              0.6666666666666666,
              "#ed7953"
             ],
             [
              0.7777777777777778,
              "#fb9f3a"
             ],
             [
              0.8888888888888888,
              "#fdca26"
             ],
             [
              1,
              "#f0f921"
             ]
            ],
            "type": "heatmapgl"
           }
          ],
          "histogram": [
           {
            "marker": {
             "pattern": {
              "fillmode": "overlay",
              "size": 10,
              "solidity": 0.2
             }
            },
            "type": "histogram"
           }
          ],
          "histogram2d": [
           {
            "colorbar": {
             "outlinewidth": 0,
             "ticks": ""
            },
            "colorscale": [
             [
              0,
              "#0d0887"
             ],
             [
              0.1111111111111111,
              "#46039f"
             ],
             [
              0.2222222222222222,
              "#7201a8"
             ],
             [
              0.3333333333333333,
              "#9c179e"
             ],
             [
              0.4444444444444444,
              "#bd3786"
             ],
             [
              0.5555555555555556,
              "#d8576b"
             ],
             [
              0.6666666666666666,
              "#ed7953"
             ],
             [
              0.7777777777777778,
              "#fb9f3a"
             ],
             [
              0.8888888888888888,
              "#fdca26"
             ],
             [
              1,
              "#f0f921"
             ]
            ],
            "type": "histogram2d"
           }
          ],
          "histogram2dcontour": [
           {
            "colorbar": {
             "outlinewidth": 0,
             "ticks": ""
            },
            "colorscale": [
             [
              0,
              "#0d0887"
             ],
             [
              0.1111111111111111,
              "#46039f"
             ],
             [
              0.2222222222222222,
              "#7201a8"
             ],
             [
              0.3333333333333333,
              "#9c179e"
             ],
             [
              0.4444444444444444,
              "#bd3786"
             ],
             [
              0.5555555555555556,
              "#d8576b"
             ],
             [
              0.6666666666666666,
              "#ed7953"
             ],
             [
              0.7777777777777778,
              "#fb9f3a"
             ],
             [
              0.8888888888888888,
              "#fdca26"
             ],
             [
              1,
              "#f0f921"
             ]
            ],
            "type": "histogram2dcontour"
           }
          ],
          "mesh3d": [
           {
            "colorbar": {
             "outlinewidth": 0,
             "ticks": ""
            },
            "type": "mesh3d"
           }
          ],
          "parcoords": [
           {
            "line": {
             "colorbar": {
              "outlinewidth": 0,
              "ticks": ""
             }
            },
            "type": "parcoords"
           }
          ],
          "pie": [
           {
            "automargin": true,
            "type": "pie"
           }
          ],
          "scatter": [
           {
            "marker": {
             "colorbar": {
              "outlinewidth": 0,
              "ticks": ""
             }
            },
            "type": "scatter"
           }
          ],
          "scatter3d": [
           {
            "line": {
             "colorbar": {
              "outlinewidth": 0,
              "ticks": ""
             }
            },
            "marker": {
             "colorbar": {
              "outlinewidth": 0,
              "ticks": ""
             }
            },
            "type": "scatter3d"
           }
          ],
          "scattercarpet": [
           {
            "marker": {
             "colorbar": {
              "outlinewidth": 0,
              "ticks": ""
             }
            },
            "type": "scattercarpet"
           }
          ],
          "scattergeo": [
           {
            "marker": {
             "colorbar": {
              "outlinewidth": 0,
              "ticks": ""
             }
            },
            "type": "scattergeo"
           }
          ],
          "scattergl": [
           {
            "marker": {
             "colorbar": {
              "outlinewidth": 0,
              "ticks": ""
             }
            },
            "type": "scattergl"
           }
          ],
          "scattermapbox": [
           {
            "marker": {
             "colorbar": {
              "outlinewidth": 0,
              "ticks": ""
             }
            },
            "type": "scattermapbox"
           }
          ],
          "scatterpolar": [
           {
            "marker": {
             "colorbar": {
              "outlinewidth": 0,
              "ticks": ""
             }
            },
            "type": "scatterpolar"
           }
          ],
          "scatterpolargl": [
           {
            "marker": {
             "colorbar": {
              "outlinewidth": 0,
              "ticks": ""
             }
            },
            "type": "scatterpolargl"
           }
          ],
          "scatterternary": [
           {
            "marker": {
             "colorbar": {
              "outlinewidth": 0,
              "ticks": ""
             }
            },
            "type": "scatterternary"
           }
          ],
          "surface": [
           {
            "colorbar": {
             "outlinewidth": 0,
             "ticks": ""
            },
            "colorscale": [
             [
              0,
              "#0d0887"
             ],
             [
              0.1111111111111111,
              "#46039f"
             ],
             [
              0.2222222222222222,
              "#7201a8"
             ],
             [
              0.3333333333333333,
              "#9c179e"
             ],
             [
              0.4444444444444444,
              "#bd3786"
             ],
             [
              0.5555555555555556,
              "#d8576b"
             ],
             [
              0.6666666666666666,
              "#ed7953"
             ],
             [
              0.7777777777777778,
              "#fb9f3a"
             ],
             [
              0.8888888888888888,
              "#fdca26"
             ],
             [
              1,
              "#f0f921"
             ]
            ],
            "type": "surface"
           }
          ],
          "table": [
           {
            "cells": {
             "fill": {
              "color": "#EBF0F8"
             },
             "line": {
              "color": "white"
             }
            },
            "header": {
             "fill": {
              "color": "#C8D4E3"
             },
             "line": {
              "color": "white"
             }
            },
            "type": "table"
           }
          ]
         },
         "layout": {
          "annotationdefaults": {
           "arrowcolor": "#2a3f5f",
           "arrowhead": 0,
           "arrowwidth": 1
          },
          "autotypenumbers": "strict",
          "coloraxis": {
           "colorbar": {
            "outlinewidth": 0,
            "ticks": ""
           }
          },
          "colorscale": {
           "diverging": [
            [
             0,
             "#8e0152"
            ],
            [
             0.1,
             "#c51b7d"
            ],
            [
             0.2,
             "#de77ae"
            ],
            [
             0.3,
             "#f1b6da"
            ],
            [
             0.4,
             "#fde0ef"
            ],
            [
             0.5,
             "#f7f7f7"
            ],
            [
             0.6,
             "#e6f5d0"
            ],
            [
             0.7,
             "#b8e186"
            ],
            [
             0.8,
             "#7fbc41"
            ],
            [
             0.9,
             "#4d9221"
            ],
            [
             1,
             "#276419"
            ]
           ],
           "sequential": [
            [
             0,
             "#0d0887"
            ],
            [
             0.1111111111111111,
             "#46039f"
            ],
            [
             0.2222222222222222,
             "#7201a8"
            ],
            [
             0.3333333333333333,
             "#9c179e"
            ],
            [
             0.4444444444444444,
             "#bd3786"
            ],
            [
             0.5555555555555556,
             "#d8576b"
            ],
            [
             0.6666666666666666,
             "#ed7953"
            ],
            [
             0.7777777777777778,
             "#fb9f3a"
            ],
            [
             0.8888888888888888,
             "#fdca26"
            ],
            [
             1,
             "#f0f921"
            ]
           ],
           "sequentialminus": [
            [
             0,
             "#0d0887"
            ],
            [
             0.1111111111111111,
             "#46039f"
            ],
            [
             0.2222222222222222,
             "#7201a8"
            ],
            [
             0.3333333333333333,
             "#9c179e"
            ],
            [
             0.4444444444444444,
             "#bd3786"
            ],
            [
             0.5555555555555556,
             "#d8576b"
            ],
            [
             0.6666666666666666,
             "#ed7953"
            ],
            [
             0.7777777777777778,
             "#fb9f3a"
            ],
            [
             0.8888888888888888,
             "#fdca26"
            ],
            [
             1,
             "#f0f921"
            ]
           ]
          },
          "colorway": [
           "#636efa",
           "#EF553B",
           "#00cc96",
           "#ab63fa",
           "#FFA15A",
           "#19d3f3",
           "#FF6692",
           "#B6E880",
           "#FF97FF",
           "#FECB52"
          ],
          "font": {
           "color": "#2a3f5f"
          },
          "geo": {
           "bgcolor": "white",
           "lakecolor": "white",
           "landcolor": "#E5ECF6",
           "showlakes": true,
           "showland": true,
           "subunitcolor": "white"
          },
          "hoverlabel": {
           "align": "left"
          },
          "hovermode": "closest",
          "mapbox": {
           "style": "light"
          },
          "paper_bgcolor": "white",
          "plot_bgcolor": "#E5ECF6",
          "polar": {
           "angularaxis": {
            "gridcolor": "white",
            "linecolor": "white",
            "ticks": ""
           },
           "bgcolor": "#E5ECF6",
           "radialaxis": {
            "gridcolor": "white",
            "linecolor": "white",
            "ticks": ""
           }
          },
          "scene": {
           "xaxis": {
            "backgroundcolor": "#E5ECF6",
            "gridcolor": "white",
            "gridwidth": 2,
            "linecolor": "white",
            "showbackground": true,
            "ticks": "",
            "zerolinecolor": "white"
           },
           "yaxis": {
            "backgroundcolor": "#E5ECF6",
            "gridcolor": "white",
            "gridwidth": 2,
            "linecolor": "white",
            "showbackground": true,
            "ticks": "",
            "zerolinecolor": "white"
           },
           "zaxis": {
            "backgroundcolor": "#E5ECF6",
            "gridcolor": "white",
            "gridwidth": 2,
            "linecolor": "white",
            "showbackground": true,
            "ticks": "",
            "zerolinecolor": "white"
           }
          },
          "shapedefaults": {
           "line": {
            "color": "#2a3f5f"
           }
          },
          "ternary": {
           "aaxis": {
            "gridcolor": "white",
            "linecolor": "white",
            "ticks": ""
           },
           "baxis": {
            "gridcolor": "white",
            "linecolor": "white",
            "ticks": ""
           },
           "bgcolor": "#E5ECF6",
           "caxis": {
            "gridcolor": "white",
            "linecolor": "white",
            "ticks": ""
           }
          },
          "title": {
           "x": 0.05
          },
          "xaxis": {
           "automargin": true,
           "gridcolor": "white",
           "linecolor": "white",
           "ticks": "",
           "title": {
            "standoff": 15
           },
           "zerolinecolor": "white",
           "zerolinewidth": 2
          },
          "yaxis": {
           "automargin": true,
           "gridcolor": "white",
           "linecolor": "white",
           "ticks": "",
           "title": {
            "standoff": 15
           },
           "zerolinecolor": "white",
           "zerolinewidth": 2
          }
         }
        }
       }
      },
      "text/html": [
       "<div>                            <div id=\"e30389f0-3a7c-4132-9e54-8a6e8db8e430\" class=\"plotly-graph-div\" style=\"height:525px; width:100%;\"></div>            <script type=\"text/javascript\">                require([\"plotly\"], function(Plotly) {                    window.PLOTLYENV=window.PLOTLYENV || {};                                    if (document.getElementById(\"e30389f0-3a7c-4132-9e54-8a6e8db8e430\")) {                    Plotly.newPlot(                        \"e30389f0-3a7c-4132-9e54-8a6e8db8e430\",                        [{\"domain\":{\"x\":[0.0,1.0],\"y\":[0.0,1.0]},\"hovertemplate\":\"organization=%{label}<br>form_of_organization=%{value}<extra></extra>\",\"labels\":[\"academia\",\"community\",\"government agency\",\"for-profit\",\"non-profit\",\"collaboration\"],\"legendgroup\":\"\",\"name\":\"\",\"showlegend\":true,\"type\":\"pie\",\"values\":[133,130,94,77,59,42]}],                        {\"legend\":{\"tracegroupgap\":0},\"margin\":{\"t\":60},\"template\":{\"data\":{\"bar\":[{\"error_x\":{\"color\":\"#2a3f5f\"},\"error_y\":{\"color\":\"#2a3f5f\"},\"marker\":{\"line\":{\"color\":\"#E5ECF6\",\"width\":0.5},\"pattern\":{\"fillmode\":\"overlay\",\"size\":10,\"solidity\":0.2}},\"type\":\"bar\"}],\"barpolar\":[{\"marker\":{\"line\":{\"color\":\"#E5ECF6\",\"width\":0.5},\"pattern\":{\"fillmode\":\"overlay\",\"size\":10,\"solidity\":0.2}},\"type\":\"barpolar\"}],\"carpet\":[{\"aaxis\":{\"endlinecolor\":\"#2a3f5f\",\"gridcolor\":\"white\",\"linecolor\":\"white\",\"minorgridcolor\":\"white\",\"startlinecolor\":\"#2a3f5f\"},\"baxis\":{\"endlinecolor\":\"#2a3f5f\",\"gridcolor\":\"white\",\"linecolor\":\"white\",\"minorgridcolor\":\"white\",\"startlinecolor\":\"#2a3f5f\"},\"type\":\"carpet\"}],\"choropleth\":[{\"colorbar\":{\"outlinewidth\":0,\"ticks\":\"\"},\"type\":\"choropleth\"}],\"contour\":[{\"colorbar\":{\"outlinewidth\":0,\"ticks\":\"\"},\"colorscale\":[[0.0,\"#0d0887\"],[0.1111111111111111,\"#46039f\"],[0.2222222222222222,\"#7201a8\"],[0.3333333333333333,\"#9c179e\"],[0.4444444444444444,\"#bd3786\"],[0.5555555555555556,\"#d8576b\"],[0.6666666666666666,\"#ed7953\"],[0.7777777777777778,\"#fb9f3a\"],[0.8888888888888888,\"#fdca26\"],[1.0,\"#f0f921\"]],\"type\":\"contour\"}],\"contourcarpet\":[{\"colorbar\":{\"outlinewidth\":0,\"ticks\":\"\"},\"type\":\"contourcarpet\"}],\"heatmap\":[{\"colorbar\":{\"outlinewidth\":0,\"ticks\":\"\"},\"colorscale\":[[0.0,\"#0d0887\"],[0.1111111111111111,\"#46039f\"],[0.2222222222222222,\"#7201a8\"],[0.3333333333333333,\"#9c179e\"],[0.4444444444444444,\"#bd3786\"],[0.5555555555555556,\"#d8576b\"],[0.6666666666666666,\"#ed7953\"],[0.7777777777777778,\"#fb9f3a\"],[0.8888888888888888,\"#fdca26\"],[1.0,\"#f0f921\"]],\"type\":\"heatmap\"}],\"heatmapgl\":[{\"colorbar\":{\"outlinewidth\":0,\"ticks\":\"\"},\"colorscale\":[[0.0,\"#0d0887\"],[0.1111111111111111,\"#46039f\"],[0.2222222222222222,\"#7201a8\"],[0.3333333333333333,\"#9c179e\"],[0.4444444444444444,\"#bd3786\"],[0.5555555555555556,\"#d8576b\"],[0.6666666666666666,\"#ed7953\"],[0.7777777777777778,\"#fb9f3a\"],[0.8888888888888888,\"#fdca26\"],[1.0,\"#f0f921\"]],\"type\":\"heatmapgl\"}],\"histogram\":[{\"marker\":{\"pattern\":{\"fillmode\":\"overlay\",\"size\":10,\"solidity\":0.2}},\"type\":\"histogram\"}],\"histogram2d\":[{\"colorbar\":{\"outlinewidth\":0,\"ticks\":\"\"},\"colorscale\":[[0.0,\"#0d0887\"],[0.1111111111111111,\"#46039f\"],[0.2222222222222222,\"#7201a8\"],[0.3333333333333333,\"#9c179e\"],[0.4444444444444444,\"#bd3786\"],[0.5555555555555556,\"#d8576b\"],[0.6666666666666666,\"#ed7953\"],[0.7777777777777778,\"#fb9f3a\"],[0.8888888888888888,\"#fdca26\"],[1.0,\"#f0f921\"]],\"type\":\"histogram2d\"}],\"histogram2dcontour\":[{\"colorbar\":{\"outlinewidth\":0,\"ticks\":\"\"},\"colorscale\":[[0.0,\"#0d0887\"],[0.1111111111111111,\"#46039f\"],[0.2222222222222222,\"#7201a8\"],[0.3333333333333333,\"#9c179e\"],[0.4444444444444444,\"#bd3786\"],[0.5555555555555556,\"#d8576b\"],[0.6666666666666666,\"#ed7953\"],[0.7777777777777778,\"#fb9f3a\"],[0.8888888888888888,\"#fdca26\"],[1.0,\"#f0f921\"]],\"type\":\"histogram2dcontour\"}],\"mesh3d\":[{\"colorbar\":{\"outlinewidth\":0,\"ticks\":\"\"},\"type\":\"mesh3d\"}],\"parcoords\":[{\"line\":{\"colorbar\":{\"outlinewidth\":0,\"ticks\":\"\"}},\"type\":\"parcoords\"}],\"pie\":[{\"automargin\":true,\"type\":\"pie\"}],\"scatter\":[{\"marker\":{\"colorbar\":{\"outlinewidth\":0,\"ticks\":\"\"}},\"type\":\"scatter\"}],\"scatter3d\":[{\"line\":{\"colorbar\":{\"outlinewidth\":0,\"ticks\":\"\"}},\"marker\":{\"colorbar\":{\"outlinewidth\":0,\"ticks\":\"\"}},\"type\":\"scatter3d\"}],\"scattercarpet\":[{\"marker\":{\"colorbar\":{\"outlinewidth\":0,\"ticks\":\"\"}},\"type\":\"scattercarpet\"}],\"scattergeo\":[{\"marker\":{\"colorbar\":{\"outlinewidth\":0,\"ticks\":\"\"}},\"type\":\"scattergeo\"}],\"scattergl\":[{\"marker\":{\"colorbar\":{\"outlinewidth\":0,\"ticks\":\"\"}},\"type\":\"scattergl\"}],\"scattermapbox\":[{\"marker\":{\"colorbar\":{\"outlinewidth\":0,\"ticks\":\"\"}},\"type\":\"scattermapbox\"}],\"scatterpolar\":[{\"marker\":{\"colorbar\":{\"outlinewidth\":0,\"ticks\":\"\"}},\"type\":\"scatterpolar\"}],\"scatterpolargl\":[{\"marker\":{\"colorbar\":{\"outlinewidth\":0,\"ticks\":\"\"}},\"type\":\"scatterpolargl\"}],\"scatterternary\":[{\"marker\":{\"colorbar\":{\"outlinewidth\":0,\"ticks\":\"\"}},\"type\":\"scatterternary\"}],\"surface\":[{\"colorbar\":{\"outlinewidth\":0,\"ticks\":\"\"},\"colorscale\":[[0.0,\"#0d0887\"],[0.1111111111111111,\"#46039f\"],[0.2222222222222222,\"#7201a8\"],[0.3333333333333333,\"#9c179e\"],[0.4444444444444444,\"#bd3786\"],[0.5555555555555556,\"#d8576b\"],[0.6666666666666666,\"#ed7953\"],[0.7777777777777778,\"#fb9f3a\"],[0.8888888888888888,\"#fdca26\"],[1.0,\"#f0f921\"]],\"type\":\"surface\"}],\"table\":[{\"cells\":{\"fill\":{\"color\":\"#EBF0F8\"},\"line\":{\"color\":\"white\"}},\"header\":{\"fill\":{\"color\":\"#C8D4E3\"},\"line\":{\"color\":\"white\"}},\"type\":\"table\"}]},\"layout\":{\"annotationdefaults\":{\"arrowcolor\":\"#2a3f5f\",\"arrowhead\":0,\"arrowwidth\":1},\"autotypenumbers\":\"strict\",\"coloraxis\":{\"colorbar\":{\"outlinewidth\":0,\"ticks\":\"\"}},\"colorscale\":{\"diverging\":[[0,\"#8e0152\"],[0.1,\"#c51b7d\"],[0.2,\"#de77ae\"],[0.3,\"#f1b6da\"],[0.4,\"#fde0ef\"],[0.5,\"#f7f7f7\"],[0.6,\"#e6f5d0\"],[0.7,\"#b8e186\"],[0.8,\"#7fbc41\"],[0.9,\"#4d9221\"],[1,\"#276419\"]],\"sequential\":[[0.0,\"#0d0887\"],[0.1111111111111111,\"#46039f\"],[0.2222222222222222,\"#7201a8\"],[0.3333333333333333,\"#9c179e\"],[0.4444444444444444,\"#bd3786\"],[0.5555555555555556,\"#d8576b\"],[0.6666666666666666,\"#ed7953\"],[0.7777777777777778,\"#fb9f3a\"],[0.8888888888888888,\"#fdca26\"],[1.0,\"#f0f921\"]],\"sequentialminus\":[[0.0,\"#0d0887\"],[0.1111111111111111,\"#46039f\"],[0.2222222222222222,\"#7201a8\"],[0.3333333333333333,\"#9c179e\"],[0.4444444444444444,\"#bd3786\"],[0.5555555555555556,\"#d8576b\"],[0.6666666666666666,\"#ed7953\"],[0.7777777777777778,\"#fb9f3a\"],[0.8888888888888888,\"#fdca26\"],[1.0,\"#f0f921\"]]},\"colorway\":[\"#636efa\",\"#EF553B\",\"#00cc96\",\"#ab63fa\",\"#FFA15A\",\"#19d3f3\",\"#FF6692\",\"#B6E880\",\"#FF97FF\",\"#FECB52\"],\"font\":{\"color\":\"#2a3f5f\"},\"geo\":{\"bgcolor\":\"white\",\"lakecolor\":\"white\",\"landcolor\":\"#E5ECF6\",\"showlakes\":true,\"showland\":true,\"subunitcolor\":\"white\"},\"hoverlabel\":{\"align\":\"left\"},\"hovermode\":\"closest\",\"mapbox\":{\"style\":\"light\"},\"paper_bgcolor\":\"white\",\"plot_bgcolor\":\"#E5ECF6\",\"polar\":{\"angularaxis\":{\"gridcolor\":\"white\",\"linecolor\":\"white\",\"ticks\":\"\"},\"bgcolor\":\"#E5ECF6\",\"radialaxis\":{\"gridcolor\":\"white\",\"linecolor\":\"white\",\"ticks\":\"\"}},\"scene\":{\"xaxis\":{\"backgroundcolor\":\"#E5ECF6\",\"gridcolor\":\"white\",\"gridwidth\":2,\"linecolor\":\"white\",\"showbackground\":true,\"ticks\":\"\",\"zerolinecolor\":\"white\"},\"yaxis\":{\"backgroundcolor\":\"#E5ECF6\",\"gridcolor\":\"white\",\"gridwidth\":2,\"linecolor\":\"white\",\"showbackground\":true,\"ticks\":\"\",\"zerolinecolor\":\"white\"},\"zaxis\":{\"backgroundcolor\":\"#E5ECF6\",\"gridcolor\":\"white\",\"gridwidth\":2,\"linecolor\":\"white\",\"showbackground\":true,\"ticks\":\"\",\"zerolinecolor\":\"white\"}},\"shapedefaults\":{\"line\":{\"color\":\"#2a3f5f\"}},\"ternary\":{\"aaxis\":{\"gridcolor\":\"white\",\"linecolor\":\"white\",\"ticks\":\"\"},\"baxis\":{\"gridcolor\":\"white\",\"linecolor\":\"white\",\"ticks\":\"\"},\"bgcolor\":\"#E5ECF6\",\"caxis\":{\"gridcolor\":\"white\",\"linecolor\":\"white\",\"ticks\":\"\"}},\"title\":{\"x\":0.05},\"xaxis\":{\"automargin\":true,\"gridcolor\":\"white\",\"linecolor\":\"white\",\"ticks\":\"\",\"title\":{\"standoff\":15},\"zerolinecolor\":\"white\",\"zerolinewidth\":2},\"yaxis\":{\"automargin\":true,\"gridcolor\":\"white\",\"linecolor\":\"white\",\"ticks\":\"\",\"title\":{\"standoff\":15},\"zerolinecolor\":\"white\",\"zerolinewidth\":2}}}},                        {\"responsive\": true}                    ).then(function(){\n",
       "                            \n",
       "var gd = document.getElementById('e30389f0-3a7c-4132-9e54-8a6e8db8e430');\n",
       "var x = new MutationObserver(function (mutations, observer) {{\n",
       "        var display = window.getComputedStyle(gd).display;\n",
       "        if (!display || display === 'none') {{\n",
       "            console.log([gd, 'removed!']);\n",
       "            Plotly.purge(gd);\n",
       "            observer.disconnect();\n",
       "        }}\n",
       "}});\n",
       "\n",
       "// Listen for the removal of the full notebook cells\n",
       "var notebookContainer = gd.closest('#notebook-container');\n",
       "if (notebookContainer) {{\n",
       "    x.observe(notebookContainer, {childList: true});\n",
       "}}\n",
       "\n",
       "// Listen for the clearing of the current output cell\n",
       "var outputEl = gd.closest('.output');\n",
       "if (outputEl) {{\n",
       "    x.observe(outputEl, {childList: true});\n",
       "}}\n",
       "\n",
       "                        })                };                });            </script>        </div>"
      ]
     },
     "metadata": {},
     "output_type": "display_data"
    }
   ],
   "source": [
    "organization_his = df_organization['form_of_organization'].value_counts().to_frame().rename_axis('organization').reset_index()\n",
    "print(organization_his)\n",
    "fig = px.pie(organization_his, values='form_of_organization', names='organization')\n",
    "fig.show()"
   ]
  },
  {
   "cell_type": "code",
   "execution_count": null,
   "metadata": {},
   "outputs": [],
   "source": []
  }
 ],
 "metadata": {
  "kernelspec": {
   "display_name": "Python 3.8 (XPython)",
   "language": "python",
   "name": "xpython"
  },
  "language_info": {
   "file_extension": ".py",
   "mimetype": "text/x-python",
   "name": "python",
   "version": "3.8.9"
  }
 },
 "nbformat": 4,
 "nbformat_minor": 4
}
