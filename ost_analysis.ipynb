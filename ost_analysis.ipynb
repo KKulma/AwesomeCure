{
 "cells": [
  {
   "cell_type": "code",
   "execution_count": 3,
   "metadata": {
    "scrolled": true
   },
   "outputs": [
    {
     "data": {
      "text/plain": [
       "1261"
      ]
     },
     "execution_count": 2,
     "metadata": {},
     "output_type": "execute_result"
    },
    {
     "data": {
      "text/plain": [
       "1140"
      ]
     },
     "execution_count": 2,
     "metadata": {},
     "output_type": "execute_result"
    },
    {
     "data": {
      "text/plain": [
       "457.0"
      ]
     },
     "execution_count": 2,
     "metadata": {},
     "output_type": "execute_result"
    },
    {
     "data": {
      "text/plain": [
       "41.0"
      ]
     },
     "execution_count": 2,
     "metadata": {},
     "output_type": "execute_result"
    },
    {
     "data": {
      "text/plain": [
       "11.0"
      ]
     },
     "execution_count": 2,
     "metadata": {},
     "output_type": "execute_result"
    },
    {
     "data": {
      "text/plain": [
       "0.3010752688172042"
      ]
     },
     "execution_count": 2,
     "metadata": {},
     "output_type": "execute_result"
    },
    {
     "data": {
      "text/plain": [
       "66.0"
      ]
     },
     "execution_count": 2,
     "metadata": {},
     "output_type": "execute_result"
    },
    {
     "data": {
      "text/plain": [
       "0.1"
      ]
     },
     "execution_count": 2,
     "metadata": {},
     "output_type": "execute_result"
    },
    {
     "data": {
      "text/plain": [
       "6.0"
      ]
     },
     "execution_count": 2,
     "metadata": {},
     "output_type": "execute_result"
    },
    {
     "data": {
      "text/plain": [
       "22.0"
      ]
     },
     "execution_count": 2,
     "metadata": {},
     "output_type": "execute_result"
    },
    {
     "data": {
      "text/plain": [
       "True     1113\n",
       "False     148\n",
       "Name: platform, dtype: int64"
      ]
     },
     "execution_count": 2,
     "metadata": {},
     "output_type": "execute_result"
    },
    {
     "data": {
      "text/plain": [
       "github    1113\n",
       "custom     121\n",
       "gitlab      27\n",
       "Name: platform, dtype: int64"
      ]
     },
     "execution_count": 2,
     "metadata": {},
     "output_type": "execute_result"
    },
    {
     "data": {
      "text/plain": [
       "True     967\n",
       "False    146\n",
       "Name: project_active_checkbox, dtype: int64"
      ]
     },
     "execution_count": 2,
     "metadata": {},
     "output_type": "execute_result"
    },
    {
     "data": {
      "text/plain": [
       "Python              399\n",
       "R                   167\n",
       "Jupyter Notebook    114\n",
       "Fortran              49\n",
       "C++                  47\n",
       "JavaScript           39\n",
       "Julia                33\n",
       "HTML                 26\n",
       "C                    24\n",
       "Java                 21\n",
       "TypeScript           20\n",
       "Ruby                 18\n",
       "MATLAB               16\n",
       "Modelica             12\n",
       "Vue                   9\n",
       "Go                    8\n",
       "C#                    8\n",
       "PHP                   5\n",
       "TeX                   5\n",
       "Makefile              4\n",
       "Scala                 4\n",
       "Shell                 3\n",
       "Kotlin                3\n",
       "Roff                  2\n",
       "GAMS                  2\n",
       "Rust                  2\n",
       "Groovy                2\n",
       "Svelte                2\n",
       "Swift                 1\n",
       "Perl                  1\n",
       "PostScript            1\n",
       "QML                   1\n",
       "Elixir                1\n",
       "NCL                   1\n",
       "Lasso                 1\n",
       "Lua                   1\n",
       "G-code                1\n",
       "CSS                   1\n",
       "SCSS                  1\n",
       "Dockerfile            1\n",
       "CartoCSS              1\n",
       "VBScript              1\n",
       "PowerBuilder          1\n",
       "Turtle                1\n",
       "Name: dominating_language, dtype: int64"
      ]
     },
     "execution_count": 2,
     "metadata": {},
     "output_type": "execute_result"
    }
   ],
   "source": [
    "# Calculate the score \n",
    "from IPython.core.interactiveshell import InteractiveShell\n",
    "InteractiveShell.ast_node_interactivity = \"all\"\n",
    "\n",
    "import pandas as pd\n",
    "df = pd.read_csv('./csv/projects.csv')\n",
    "df['project_name'].count()\n",
    "df['git_url'].count()\n",
    "#df['project_age_in_days'].median()\n",
    "df['total_number_of_commits'].median()\n",
    "df['stargazers_count'].median()\n",
    "df['stars_last_year'].median()\n",
    "df['community_development_distribution_score'].median()\n",
    "df['closed_issues'].median()\n",
    "#df['issued_closed_last_year'].median()\n",
    "df['reviews_per_pr'].median()\n",
    "df['contributors'].median()\n",
    "df['total_commits_last_year'].median()\n",
    "\n",
    "github_projects = df['platform'] == 'github'\n",
    "github_projects.value_counts()\n",
    "\n",
    "df['platform'].value_counts()\n",
    "\n",
    "df['project_active_checkbox'].value_counts()\n",
    "df['dominating_language'].value_counts()"
   ]
  },
  {
   "cell_type": "code",
   "execution_count": null,
   "metadata": {},
   "outputs": [],
   "source": [
    "import pypistats\n",
    "pypi_project_stats = pypistats.overall(\"pvlib\", total=True, format=\"pandas\")\n",
    "print(pypi_project_stats['downloads'])\n",
    "print(pypi_project_stats.tail(1)['downloads'].values[0])\n"
   ]
  },
  {
   "cell_type": "code",
   "execution_count": null,
   "metadata": {},
   "outputs": [],
   "source": [
    "# Documentation: https://warehouse.pypa.io/api-reference/xml-rpc.html\n",
    "\n",
    "import xmlrpc.client\n",
    "import pprint\n",
    "import time\n",
    "client = xmlrpc.client.ServerProxy('https://pypi.org/pypi')\n",
    "client.package_releases('roundup')\n",
    "\n",
    "client.search(\"https://github.com/pvlib/pvlib-python\")"
   ]
  },
  {
   "cell_type": "code",
   "execution_count": null,
   "metadata": {},
   "outputs": [],
   "source": []
  }
 ],
 "metadata": {
  "kernelspec": {
   "display_name": "Python 3.8 (XPython)",
   "language": "python",
   "name": "xpython"
  },
  "language_info": {
   "file_extension": ".py",
   "mimetype": "text/x-python",
   "name": "python",
   "version": "3.8.9"
  }
 },
 "nbformat": 4,
 "nbformat_minor": 4
}
