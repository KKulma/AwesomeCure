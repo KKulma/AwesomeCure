{
 "cells": [
  {
   "cell_type": "code",
   "execution_count": 3,
   "metadata": {
    "scrolled": true
   },
   "outputs": [
    {
     "data": {
      "text/plain": [
       "1261"
      ]
     },
     "execution_count": 2,
     "metadata": {},
     "output_type": "execute_result"
    },
    {
     "data": {
      "text/plain": [
       "1140"
      ]
     },
     "execution_count": 2,
     "metadata": {},
     "output_type": "execute_result"
    },
    {
     "data": {
      "text/plain": [
       "457.0"
      ]
     },
     "execution_count": 2,
     "metadata": {},
     "output_type": "execute_result"
    },
    {
     "data": {
      "text/plain": [
       "41.0"
      ]
     },
     "execution_count": 2,
     "metadata": {},
     "output_type": "execute_result"
    },
    {
     "data": {
      "text/plain": [
       "11.0"
      ]
     },
     "execution_count": 2,
     "metadata": {},
     "output_type": "execute_result"
    },
    {
     "data": {
      "text/plain": [
       "0.3010752688172042"
      ]
     },
     "execution_count": 2,
     "metadata": {},
     "output_type": "execute_result"
    },
    {
     "data": {
      "text/plain": [
       "66.0"
      ]
     },
     "execution_count": 2,
     "metadata": {},
     "output_type": "execute_result"
    },
    {
     "data": {
      "text/plain": [
       "0.1"
      ]
     },
     "execution_count": 2,
     "metadata": {},
     "output_type": "execute_result"
    },
    {
     "data": {
      "text/plain": [
       "6.0"
      ]
     },
     "execution_count": 2,
     "metadata": {},
     "output_type": "execute_result"
    },
    {
     "data": {
      "text/plain": [
       "22.0"
      ]
     },
     "execution_count": 2,
     "metadata": {},
     "output_type": "execute_result"
    },
    {
     "data": {
      "text/plain": [
       "True     1113\n",
       "False     148\n",
       "Name: platform, dtype: int64"
      ]
     },
     "execution_count": 2,
     "metadata": {},
     "output_type": "execute_result"
    },
    {
     "data": {
      "text/plain": [
       "github    1113\n",
       "custom     121\n",
       "gitlab      27\n",
       "Name: platform, dtype: int64"
      ]
     },
     "execution_count": 2,
     "metadata": {},
     "output_type": "execute_result"
    },
    {
     "data": {
      "text/plain": [
       "True     967\n",
       "False    146\n",
       "Name: project_active_checkbox, dtype: int64"
      ]
     },
     "execution_count": 2,
     "metadata": {},
     "output_type": "execute_result"
    },
    {
     "data": {
      "text/plain": [
       "Python              399\n",
       "R                   167\n",
       "Jupyter Notebook    114\n",
       "Fortran              49\n",
       "C++                  47\n",
       "JavaScript           39\n",
       "Julia                33\n",
       "HTML                 26\n",
       "C                    24\n",
       "Java                 21\n",
       "TypeScript           20\n",
       "Ruby                 18\n",
       "MATLAB               16\n",
       "Modelica             12\n",
       "Vue                   9\n",
       "Go                    8\n",
       "C#                    8\n",
       "PHP                   5\n",
       "TeX                   5\n",
       "Makefile              4\n",
       "Scala                 4\n",
       "Shell                 3\n",
       "Kotlin                3\n",
       "Roff                  2\n",
       "GAMS                  2\n",
       "Rust                  2\n",
       "Groovy                2\n",
       "Svelte                2\n",
       "Swift                 1\n",
       "Perl                  1\n",
       "PostScript            1\n",
       "QML                   1\n",
       "Elixir                1\n",
       "NCL                   1\n",
       "Lasso                 1\n",
       "Lua                   1\n",
       "G-code                1\n",
       "CSS                   1\n",
       "SCSS                  1\n",
       "Dockerfile            1\n",
       "CartoCSS              1\n",
       "VBScript              1\n",
       "PowerBuilder          1\n",
       "Turtle                1\n",
       "Name: dominating_language, dtype: int64"
      ]
     },
     "execution_count": 2,
     "metadata": {},
     "output_type": "execute_result"
    }
   ],
   "source": [
    "# Calculate the score \n",
    "from IPython.core.interactiveshell import InteractiveShell\n",
    "InteractiveShell.ast_node_interactivity = \"all\"\n",
    "\n",
    "import pandas as pd\n",
    "df = pd.read_csv('./csv/projects.csv')\n",
    "df['project_name'].count()\n",
    "df['git_url'].count()\n",
    "#df['project_age_in_days'].median()\n",
    "df['total_number_of_commits'].median()\n",
    "df['stargazers_count'].median()\n",
    "df['stars_last_year'].median()\n",
    "df['community_development_distribution_score'].median()\n",
    "df['closed_issues'].median()\n",
    "#df['issued_closed_last_year'].median()\n",
    "df['reviews_per_pr'].median()\n",
    "df['contributors'].median()\n",
    "df['total_commits_last_year'].median()\n",
    "\n",
    "github_projects = df['platform'] == 'github'\n",
    "github_projects.value_counts()\n",
    "\n",
    "df['platform'].value_counts()\n",
    "\n",
    "df['project_active_checkbox'].value_counts()\n",
    "df['dominating_language'].value_counts()"
   ]
  },
  {
   "cell_type": "code",
   "execution_count": 3,
   "metadata": {},
   "outputs": [
    {
     "name": "stdout",
     "output_type": "stream",
     "text": [
      "0       10946\n",
      "1       10943\n",
      "2        9738\n",
      "3        9737\n",
      "4        8915\n",
      "        ...  \n",
      "358      1240\n",
      "359      1229\n",
      "360      1229\n",
      "361      1183\n",
      "362    688995\n",
      "Name: downloads, Length: 363, dtype: int64\n",
      "688995\n"
     ]
    }
   ],
   "source": [
    "import pypistats\n",
    "pypi_project_stats = pypistats.overall(\"pvlib\", total=True, format=\"pandas\")\n",
    "print(pypi_project_stats['downloads'])\n",
    "print(pypi_project_stats.tail(1)['downloads'].values[0])\n"
   ]
  },
  {
   "cell_type": "code",
   "execution_count": 4,
   "metadata": {},
   "outputs": [
    {
     "ename": "Fault",
     "evalue": "<Fault -32500: \"RuntimeError: PyPI's XMLRPC API is currently disabled due to unmanageable load and will be deprecated in the near future. See https://status.python.org/ for more information.\">",
     "output_type": "error",
     "traceback": [
      "\u001b[0;31m---------------------------------------------------------------------------\u001b[0m\n\u001b[0;31mFault\u001b[0m                                     Traceback (most recent call last)",
      "File \u001b[0;34m/home/cy0/.local/lib/python3.8/site-packages/IPython/core/interactiveshell.py\u001b[0m, in \u001b[0;32mrun_code\u001b[0m:\nLine \u001b[0;34m3441\u001b[0m:  exec(code_obj, \u001b[36mself\u001b[39;49;00m.user_global_ns, \u001b[36mself\u001b[39;49;00m.user_ns)\n",
      "In  \u001b[0;34m[2]\u001b[0m:\nLine \u001b[0;34m9\u001b[0m:     client.search(\u001b[33m\"\u001b[39;49;00m\u001b[33mhttps://github.com/pvlib/pvlib-python\u001b[39;49;00m\u001b[33m\"\u001b[39;49;00m)\n",
      "File \u001b[0;34m/usr/lib/python3.8/xmlrpc/client.py\u001b[0m, in \u001b[0;32m__call__\u001b[0m:\nLine \u001b[0;34m1109\u001b[0m:  \u001b[34mreturn\u001b[39;49;00m \u001b[36mself\u001b[39;49;00m.__send(\u001b[36mself\u001b[39;49;00m.__name, args)\n",
      "File \u001b[0;34m/usr/lib/python3.8/xmlrpc/client.py\u001b[0m, in \u001b[0;32m__request\u001b[0m:\nLine \u001b[0;34m1450\u001b[0m:  response = \u001b[36mself\u001b[39;49;00m.__transport.request(\n",
      "File \u001b[0;34m/usr/lib/python3.8/xmlrpc/client.py\u001b[0m, in \u001b[0;32mrequest\u001b[0m:\nLine \u001b[0;34m1153\u001b[0m:  \u001b[34mreturn\u001b[39;49;00m \u001b[36mself\u001b[39;49;00m.single_request(host, handler, request_body, verbose)\n",
      "File \u001b[0;34m/usr/lib/python3.8/xmlrpc/client.py\u001b[0m, in \u001b[0;32msingle_request\u001b[0m:\nLine \u001b[0;34m1169\u001b[0m:  \u001b[34mreturn\u001b[39;49;00m \u001b[36mself\u001b[39;49;00m.parse_response(resp)\n",
      "File \u001b[0;34m/usr/lib/python3.8/xmlrpc/client.py\u001b[0m, in \u001b[0;32mparse_response\u001b[0m:\nLine \u001b[0;34m1341\u001b[0m:  \u001b[34mreturn\u001b[39;49;00m u.close()\n",
      "File \u001b[0;34m/usr/lib/python3.8/xmlrpc/client.py\u001b[0m, in \u001b[0;32mclose\u001b[0m:\nLine \u001b[0;34m655\u001b[0m:   \u001b[34mraise\u001b[39;49;00m Fault(**\u001b[36mself\u001b[39;49;00m._stack[\u001b[34m0\u001b[39;49;00m])\n",
      "\u001b[0;31mFault\u001b[0m: <Fault -32500: \"RuntimeError: PyPI's XMLRPC API is currently disabled due to unmanageable load and will be deprecated in the near future. See https://status.python.org/ for more information.\">\n\u001b[0;31m---------------------------------------------------------------------------\u001b[0m"
     ]
    }
   ],
   "source": [
    "# Documentation: https://warehouse.pypa.io/api-reference/xml-rpc.html\n",
    "\n",
    "import xmlrpc.client\n",
    "import pprint\n",
    "import time\n",
    "client = xmlrpc.client.ServerProxy('https://pypi.org/pypi')\n",
    "client.package_releases('roundup')\n",
    "\n",
    "client.search(\"https://github.com/pvlib/pvlib-python\")"
   ]
  },
  {
   "cell_type": "code",
   "execution_count": null,
   "metadata": {},
   "outputs": [],
   "source": []
  }
 ],
 "metadata": {
  "kernelspec": {
   "display_name": "Python 3.8 (XPython)",
   "language": "python",
   "name": "xpython"
  },
  "language_info": {
   "file_extension": ".py",
   "mimetype": "text/x-python",
   "name": "python",
   "version": "3.8.9"
  }
 },
 "nbformat": 4,
 "nbformat_minor": 4
}
