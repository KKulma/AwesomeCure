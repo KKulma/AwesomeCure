{
 "cells": [
  {
   "cell_type": "code",
   "execution_count": 3,
   "metadata": {},
   "outputs": [],
   "source": [
    "A = ['Jeffrey-Simpson/Solar-Forecasting', 'mikofski/pvwatts_emulator', 'toddkarin/vocmax', 'cbaretzky/BuildingEnergySimulation', 'Ekistica/irradiance_synth', 'coroa/tmhpvsim', 'MichaelHopwood/PVPolyfit', 'kwhanalytics/marvin', 'rory87/caledonia-energy', 'SolarArbiter/workshop', 'harpreet153/pv-graph', 'toddkarin/pvtools', 'duplessisaa/Docker', 'SolarArbiter/solarforecastarbiter-core', 'mesmo-dev/cobmo', '25sal/pvprediction', 'josephmckinsey/NRELHackathon2018', 'BLM-UoR/BLM', 'NREL/pv_tomcat', 'dpinney/omf', 'be-lb/solar-loader', 'higab85/off-grid', 'buds-lab/the-building-data-genome-project', 'SunPower/pvfactors', 'hackingmaterials/duramat_dashboard', 'kwhanalytics/postgis-marvin', 'hackingmaterials/ivtools', 'michbeg/IBM-DSX', 'teamvirtue/smart-sockets-dev', 'JohannesBertens/InSolarBase']"
   ]
  },
  {
   "cell_type": "code",
   "execution_count": 4,
   "metadata": {},
   "outputs": [],
   "source": [
    "B = ['Jeffrey-Simpson/Solar-Forecasting', 'mikofski/pvwatts_emulator', 'toddkarin/vocmax', 'cbaretzky/BuildingEnergySimulation', 'Ekistica/irradiance_synth', 'coroa/tmhpvsim', 'MichaelHopwood/PVPolyfit', 'kwhanalytics/marvin', 'rory87/caledonia-energy', 'SolarArbiter/workshop', 'harpreet153/pv-graph', 'toddkarin/pvtools', 'duplessisaa/Docker', 'SolarArbiter/solarforecastarbiter-core', 'mesmo-dev/cobmo', '25sal/pvprediction', 'josephmckinsey/NRELHackathon2018', 'BLM-UoR/BLM', 'NREL/pv_tomcat', 'dpinney/omf', 'be-lb/solar-loader', 'higab85/off-grid', 'buds-lab/the-building-data-genome-project', 'SunPower/pvfactors', 'hackingmaterials/duramat_dashboard', 'kwhanalytics/postgis-marvin', 'hackingmaterials/ivtools', 'michbeg/IBM-DSX', 'teamvirtue/smart-sockets-dev', 'JohannesBertens/InSolarBase']"
   ]
  },
  {
   "cell_type": "code",
   "execution_count": 6,
   "metadata": {},
   "outputs": [
    {
     "name": "stdout",
     "output_type": "stream",
     "text": [
      "Hello\n"
     ]
    }
   ],
   "source": [
    "if A == B:\n",
    "    print(\"Hello\")"
   ]
  },
  {
   "cell_type": "code",
   "execution_count": null,
   "metadata": {},
   "outputs": [],
   "source": []
  }
 ],
 "metadata": {
  "kernelspec": {
   "display_name": "Python 3.8 (XPython)",
   "language": "python",
   "name": "xpython"
  },
  "language_info": {
   "file_extension": ".py",
   "mimetype": "text/x-python",
   "name": "python",
   "version": "3.8.9"
  }
 },
 "nbformat": 4,
 "nbformat_minor": 4
}
