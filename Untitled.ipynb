{
 "cells": [
  {
   "cell_type": "code",
   "execution_count": 3,
   "metadata": {},
   "outputs": [
    {
     "ename": "RateLimitExceededException",
     "evalue": "403 {\"message\": \"API rate limit exceeded for user ID 6413976.\", \"documentation_url\": \"https://docs.github.com/rest/overview/resources-in-the-rest-api#rate-limiting\"}",
     "output_type": "error",
     "traceback": [
      "\u001b[0;31m---------------------------------------------------------------------------\u001b[0m\n\u001b[0;31mRateLimitExceededException\u001b[0m                Traceback (most recent call last)",
      "File \u001b[0;34m/home/cy0/.local/lib/python3.8/site-packages/IPython/core/interactiveshell.py\u001b[0m, in \u001b[0;32mrun_code\u001b[0m:\nLine \u001b[0;34m3441\u001b[0m:  exec(code_obj, \u001b[36mself\u001b[39;49;00m.user_global_ns, \u001b[36mself\u001b[39;49;00m.user_ns)\n",
      "In  \u001b[0;34m[3]\u001b[0m:\nLine \u001b[0;34m6\u001b[0m:     repo = g.get_repo(\u001b[33m\"\u001b[39;49;00m\u001b[33mPyGithub/PyGithub\u001b[39;49;00m\u001b[33m\"\u001b[39;49;00m)\n",
      "File \u001b[0;34m/usr/local/lib/python3.8/dist-packages/github/MainClass.py\u001b[0m, in \u001b[0;32mget_repo\u001b[0m:\nLine \u001b[0;34m332\u001b[0m:   headers, data = \u001b[36mself\u001b[39;49;00m.__requester.requestJsonAndCheck(\n",
      "File \u001b[0;34m/usr/local/lib/python3.8/dist-packages/github/Requester.py\u001b[0m, in \u001b[0;32mrequestJsonAndCheck\u001b[0m:\nLine \u001b[0;34m317\u001b[0m:   \u001b[34mreturn\u001b[39;49;00m \u001b[36mself\u001b[39;49;00m.__check(\n",
      "File \u001b[0;34m/usr/local/lib/python3.8/dist-packages/github/Requester.py\u001b[0m, in \u001b[0;32m__check\u001b[0m:\nLine \u001b[0;34m342\u001b[0m:   \u001b[34mraise\u001b[39;49;00m \u001b[36mself\u001b[39;49;00m.__createException(status, responseHeaders, output)\n",
      "\u001b[0;31mRateLimitExceededException\u001b[0m: 403 {\"message\": \"API rate limit exceeded for user ID 6413976.\", \"documentation_url\": \"https://docs.github.com/rest/overview/resources-in-the-rest-api#rate-limiting\"}\n\u001b[0;31m---------------------------------------------------------------------------\u001b[0m"
     ]
    }
   ],
   "source": [
    "from github import Github, StatsContributor\n",
    "from dotenv import load_dotenv\n",
    "from os import getenv, path\n",
    "load_dotenv()\n",
    "g = Github(getenv(\"GITHUB\"))\n",
    "repo = g.get_repo(\"PyGithub/PyGithub\")\n",
    "contents = repo.get_top_referrers()\n",
    "print(contents)"
   ]
  },
  {
   "cell_type": "code",
   "execution_count": null,
   "metadata": {},
   "outputs": [],
   "source": []
  }
 ],
 "metadata": {
  "kernelspec": {
   "display_name": "Python 3.8 (XPython)",
   "language": "python",
   "name": "xpython"
  },
  "language_info": {
   "file_extension": ".py",
   "mimetype": "text/x-python",
   "name": "python",
   "version": "3.8.9"
  }
 },
 "nbformat": 4,
 "nbformat_minor": 4
}
